{
  "nbformat": 4,
  "nbformat_minor": 0,
  "metadata": {
    "colab": {
      "provenance": [],
      "collapsed_sections": [],
      "authorship_tag": "ABX9TyOU/1M5zd2vl36tOwTroJ3v",
      "include_colab_link": true
    },
    "kernelspec": {
      "name": "python3",
      "display_name": "Python 3"
    },
    "language_info": {
      "name": "python"
    },
    "accelerator": "GPU"
  },
  "cells": [
    {
      "cell_type": "markdown",
      "metadata": {
        "id": "view-in-github",
        "colab_type": "text"
      },
      "source": [
        "<a href=\"https://colab.research.google.com/github/FKz11/NLP/blob/main/lesson_9.ipynb\" target=\"_parent\"><img src=\"https://colab.research.google.com/assets/colab-badge.svg\" alt=\"Open In Colab\"/></a>"
      ]
    },
    {
      "cell_type": "markdown",
      "source": [
        "# Lesson-9"
      ],
      "metadata": {
        "id": "SjCChFyVtFzz"
      }
    },
    {
      "cell_type": "markdown",
      "source": [
        "### Библиотеки:"
      ],
      "metadata": {
        "id": "lZoHB5h-uNA_"
      }
    },
    {
      "cell_type": "code",
      "execution_count": 1,
      "metadata": {
        "id": "pPOGBl0ftCmL"
      },
      "outputs": [],
      "source": [
        "import tensorflow as tf\n",
        "import numpy as np"
      ]
    },
    {
      "cell_type": "markdown",
      "source": [
        "### Данные:"
      ],
      "metadata": {
        "id": "UU31sStpuS0Q"
      }
    },
    {
      "cell_type": "code",
      "source": [
        "from google.colab import drive\n",
        "drive.mount('/content/gdrive')"
      ],
      "metadata": {
        "colab": {
          "base_uri": "https://localhost:8080/"
        },
        "id": "oT29mBriuWMG",
        "outputId": "e3df6424-30ac-47ff-bc13-d73d88b877dd"
      },
      "execution_count": 2,
      "outputs": [
        {
          "output_type": "stream",
          "name": "stdout",
          "text": [
            "Mounted at /content/gdrive\n"
          ]
        }
      ]
    },
    {
      "cell_type": "code",
      "source": [
        "path_to_file = '/content/gdrive/MyDrive/Colab Notebooks/evgenyi_onegin.txt'"
      ],
      "metadata": {
        "id": "EdtDQaGyuv6-"
      },
      "execution_count": 3,
      "outputs": []
    },
    {
      "cell_type": "code",
      "source": [
        "text = open(path_to_file, 'rb').read().decode(encoding='utf-8')\n",
        "# length of text is the number of characters in it\n",
        "print('Length of text: {} characters'.format(len(text)))"
      ],
      "metadata": {
        "colab": {
          "base_uri": "https://localhost:8080/"
        },
        "id": "S4fDuPxduwE9",
        "outputId": "79d97415-85ee-49f1-c7f1-98429ec5bd80"
      },
      "execution_count": 4,
      "outputs": [
        {
          "output_type": "stream",
          "name": "stdout",
          "text": [
            "Length of text: 286984 characters\n"
          ]
        }
      ]
    },
    {
      "cell_type": "code",
      "source": [
        "print(text[:500])"
      ],
      "metadata": {
        "colab": {
          "base_uri": "https://localhost:8080/"
        },
        "id": "mwzzCj8bvQ-m",
        "outputId": "cf48f1c1-d331-427a-dcab-8ffcd6dc5163"
      },
      "execution_count": 5,
      "outputs": [
        {
          "output_type": "stream",
          "name": "stdout",
          "text": [
            "Александр Сергеевич Пушкин\n",
            "\n",
            "                                Евгений Онегин\n",
            "                                Роман в стихах\n",
            "\n",
            "                        Не мысля гордый свет забавить,\n",
            "                        Вниманье дружбы возлюбя,\n",
            "                        Хотел бы я тебе представить\n",
            "                        Залог достойнее тебя,\n",
            "                        Достойнее души прекрасной,\n",
            "                        Святой исполненной мечты,\n",
            "                        Поэзии живой и ясной,\n",
            "                        Высо\n"
          ]
        }
      ]
    },
    {
      "cell_type": "code",
      "source": [
        "# The unique characters in the file\n",
        "vocab = sorted(set(text))\n",
        "print('{} unique characters'.format(len(vocab)))"
      ],
      "metadata": {
        "colab": {
          "base_uri": "https://localhost:8080/"
        },
        "id": "aHkV4bTav8_0",
        "outputId": "769a9649-b141-4f66-d5bb-63247cd65b2e"
      },
      "execution_count": 6,
      "outputs": [
        {
          "output_type": "stream",
          "name": "stdout",
          "text": [
            "131 unique characters\n"
          ]
        }
      ]
    },
    {
      "cell_type": "code",
      "source": [
        "# Creating a mapping from unique characters to indices\n",
        "char2idx = {u:i for i, u in enumerate(vocab)}\n",
        "idx2char = np.array(vocab)\n",
        "\n",
        "text_as_int = np.array([char2idx[c] for c in text])"
      ],
      "metadata": {
        "id": "4oW2CQHMwFhk"
      },
      "execution_count": 7,
      "outputs": []
    },
    {
      "cell_type": "code",
      "source": [
        "# The maximum length sentence you want for a single input in characters\n",
        "seq_length = 100\n",
        "examples_per_epoch = len(text)//(seq_length+1)\n",
        "\n",
        "# Create training examples / targets\n",
        "char_dataset = tf.data.Dataset.from_tensor_slices(text_as_int)\n",
        "\n",
        "for i in char_dataset.take(5):\n",
        "    print(idx2char[i.numpy()])"
      ],
      "metadata": {
        "colab": {
          "base_uri": "https://localhost:8080/"
        },
        "id": "DEwTlfI89BGI",
        "outputId": "711e0b26-684e-45bc-964b-40952ff750c1"
      },
      "execution_count": 8,
      "outputs": [
        {
          "output_type": "stream",
          "name": "stdout",
          "text": [
            "А\n",
            "л\n",
            "е\n",
            "к\n",
            "с\n"
          ]
        }
      ]
    },
    {
      "cell_type": "code",
      "source": [
        "examples_per_epoch"
      ],
      "metadata": {
        "colab": {
          "base_uri": "https://localhost:8080/"
        },
        "id": "AEIpfxVw9uB-",
        "outputId": "71333c18-c379-4526-a944-cd16176c86d9"
      },
      "execution_count": 9,
      "outputs": [
        {
          "output_type": "execute_result",
          "data": {
            "text/plain": [
              "2841"
            ]
          },
          "metadata": {},
          "execution_count": 9
        }
      ]
    },
    {
      "cell_type": "code",
      "source": [
        "sequences = char_dataset.batch(seq_length+1, drop_remainder=True)\n",
        "\n",
        "for item in sequences.take(5):\n",
        "    print(repr(''.join(idx2char[item.numpy()])))"
      ],
      "metadata": {
        "colab": {
          "base_uri": "https://localhost:8080/"
        },
        "id": "GRa7Ydct-4D-",
        "outputId": "f33cb5ad-b55b-4a54-8f7e-cf1c68c74729"
      },
      "execution_count": 10,
      "outputs": [
        {
          "output_type": "stream",
          "name": "stdout",
          "text": [
            "'Александр Сергеевич Пушкин\\n\\n                                Евгений Онегин\\n                          '\n",
            "'      Роман в стихах\\n\\n                        Не мысля гордый свет забавить,\\n                        '\n",
            "'Вниманье дружбы возлюбя,\\n                        Хотел бы я тебе представить\\n                        '\n",
            "'Залог достойнее тебя,\\n                        Достойнее души прекрасной,\\n                        Свят'\n",
            "'ой исполненной мечты,\\n                        Поэзии живой и ясной,\\n                        Высоких д'\n"
          ]
        }
      ]
    },
    {
      "cell_type": "markdown",
      "source": [
        "Сместим предложения для организации тренировочных данных"
      ],
      "metadata": {
        "id": "qQ6cczn_gvNW"
      }
    },
    {
      "cell_type": "code",
      "source": [
        "def split_input_target(chunk):\n",
        "    input_text = chunk[:-1]\n",
        "    target_text = chunk[1:]\n",
        "    return input_text, target_text\n",
        "\n",
        "dataset = sequences.map(split_input_target)"
      ],
      "metadata": {
        "id": "cjUZ-x9z_XHX"
      },
      "execution_count": 11,
      "outputs": []
    },
    {
      "cell_type": "code",
      "source": [
        "for input_example, target_example in  dataset.take(1):\n",
        "    print('Input data: ', repr(''.join(idx2char[input_example.numpy()])))\n",
        "    print('Target data:', repr(''.join(idx2char[target_example.numpy()])))"
      ],
      "metadata": {
        "colab": {
          "base_uri": "https://localhost:8080/"
        },
        "id": "gni35gO0BKAl",
        "outputId": "65deb9ce-0c63-41cd-e280-6bf7c79fc308"
      },
      "execution_count": 12,
      "outputs": [
        {
          "output_type": "stream",
          "name": "stdout",
          "text": [
            "Input data:  'Александр Сергеевич Пушкин\\n\\n                                Евгений Онегин\\n                         '\n",
            "Target data: 'лександр Сергеевич Пушкин\\n\\n                                Евгений Онегин\\n                          '\n"
          ]
        }
      ]
    },
    {
      "cell_type": "code",
      "source": [
        "idx2char[input_example.numpy()]"
      ],
      "metadata": {
        "colab": {
          "base_uri": "https://localhost:8080/"
        },
        "id": "ttLH_n47MdiK",
        "outputId": "ba1f6cd9-dc3f-4110-c99d-c7fba16fa661"
      },
      "execution_count": 13,
      "outputs": [
        {
          "output_type": "execute_result",
          "data": {
            "text/plain": [
              "array(['А', 'л', 'е', 'к', 'с', 'а', 'н', 'д', 'р', ' ', 'С', 'е', 'р',\n",
              "       'г', 'е', 'е', 'в', 'и', 'ч', ' ', 'П', 'у', 'ш', 'к', 'и', 'н',\n",
              "       '\\n', '\\n', ' ', ' ', ' ', ' ', ' ', ' ', ' ', ' ', ' ', ' ', ' ',\n",
              "       ' ', ' ', ' ', ' ', ' ', ' ', ' ', ' ', ' ', ' ', ' ', ' ', ' ',\n",
              "       ' ', ' ', ' ', ' ', ' ', ' ', ' ', ' ', 'Е', 'в', 'г', 'е', 'н',\n",
              "       'и', 'й', ' ', 'О', 'н', 'е', 'г', 'и', 'н', '\\n', ' ', ' ', ' ',\n",
              "       ' ', ' ', ' ', ' ', ' ', ' ', ' ', ' ', ' ', ' ', ' ', ' ', ' ',\n",
              "       ' ', ' ', ' ', ' ', ' ', ' ', ' ', ' ', ' '], dtype='<U1')"
            ]
          },
          "metadata": {},
          "execution_count": 13
        }
      ]
    },
    {
      "cell_type": "markdown",
      "source": [
        "Перемешивать нельзя, так как потом мы будем использовать stateful в rnn"
      ],
      "metadata": {
        "id": "wX9bK5AHePtM"
      }
    },
    {
      "cell_type": "code",
      "source": [
        "# Batch size\n",
        "BATCH_SIZE = 64\n",
        "\n",
        "dataset = dataset.batch(BATCH_SIZE, drop_remainder=True)\n",
        "\n",
        "dataset"
      ],
      "metadata": {
        "colab": {
          "base_uri": "https://localhost:8080/"
        },
        "id": "Cx20rJg8BLML",
        "outputId": "895251c6-be6f-4bd5-c2a3-b5a6ca790d4e"
      },
      "execution_count": 14,
      "outputs": [
        {
          "output_type": "execute_result",
          "data": {
            "text/plain": [
              "<BatchDataset element_spec=(TensorSpec(shape=(64, 100), dtype=tf.int64, name=None), TensorSpec(shape=(64, 100), dtype=tf.int64, name=None))>"
            ]
          },
          "metadata": {},
          "execution_count": 14
        }
      ]
    },
    {
      "cell_type": "code",
      "source": [
        "# Length of the vocabulary in chars\n",
        "vocab_size = len(vocab)\n",
        "\n",
        "# The embedding dimension\n",
        "embedding_dim = 1024\n",
        "\n",
        "# Number of RNN units\n",
        "rnn_units = embedding_dim"
      ],
      "metadata": {
        "id": "JNqXhPpXBkse"
      },
      "execution_count": 15,
      "outputs": []
    },
    {
      "cell_type": "markdown",
      "source": [
        "Возьмём модель с 4 lstm слоями со stateful=True, для переноса состояния через batchю А так же пробросим shortcut connections."
      ],
      "metadata": {
        "id": "hnCWfjsig_gM"
      }
    },
    {
      "cell_type": "code",
      "source": [
        "class RNNgenerator(tf.keras.Model):\n",
        "    def __init__(self, vocab_size, embedding_dim, rnn_units, batch_size):\n",
        "        super().__init__()\n",
        "        \n",
        "        self.emb = tf.keras.layers.Embedding(vocab_size, embedding_dim,\n",
        "                                  batch_input_shape=[batch_size, None])\n",
        "                                 \n",
        "        self.lstm1 = tf.keras.layers.LSTM(rnn_units,\n",
        "                            return_sequences=True,\n",
        "                            stateful=True,\n",
        "                            recurrent_initializer='glorot_uniform')\n",
        "        self.lstm2 = tf.keras.layers.LSTM(rnn_units,\n",
        "                            return_sequences=True,\n",
        "                            stateful=True,\n",
        "                            recurrent_initializer='glorot_uniform')\n",
        "        self.lstm3 = tf.keras.layers.LSTM(rnn_units,\n",
        "                            return_sequences=True,\n",
        "                            stateful=True,\n",
        "                            recurrent_initializer='glorot_uniform')\n",
        "        self.lstm4 = tf.keras.layers.LSTM(rnn_units,\n",
        "                            return_sequences=True,\n",
        "                            stateful=True,\n",
        "                            recurrent_initializer='glorot_uniform')\n",
        "                           \n",
        "        self.fc = tf.keras.layers.Dense(vocab_size)\n",
        "\n",
        "    def call(self, x):\n",
        "        x1 = self.emb(x)\n",
        "        x = self.lstm1(x1)\n",
        "        x = self.lstm2(x)\n",
        "        x2 = x + x1\n",
        "        x = self.lstm3(x2)\n",
        "        x = self.lstm4(x)\n",
        "        x = x + x2\n",
        "        return self.fc(x)"
      ],
      "metadata": {
        "id": "iavJvPbtBouK"
      },
      "execution_count": 16,
      "outputs": []
    },
    {
      "cell_type": "code",
      "source": [
        "model = RNNgenerator(\n",
        "    vocab_size=len(vocab),\n",
        "    embedding_dim=embedding_dim,\n",
        "    rnn_units=rnn_units,\n",
        "    batch_size=BATCH_SIZE)"
      ],
      "metadata": {
        "id": "UdfoJh7mB_9J"
      },
      "execution_count": 17,
      "outputs": []
    },
    {
      "cell_type": "code",
      "source": [
        "for input_example_batch, target_example_batch in dataset.take(1):\n",
        "    example_batch_predictions = model(input_example_batch)\n",
        "    print(example_batch_predictions.shape, \"# (batch_size, sequence_length, vocab_size)\")"
      ],
      "metadata": {
        "colab": {
          "base_uri": "https://localhost:8080/"
        },
        "id": "8lxqh2mtCU1Q",
        "outputId": "25de6999-fc6c-4a40-dbd3-77dd4a76527c"
      },
      "execution_count": 18,
      "outputs": [
        {
          "output_type": "stream",
          "name": "stdout",
          "text": [
            "(64, 100, 131) # (batch_size, sequence_length, vocab_size)\n"
          ]
        }
      ]
    },
    {
      "cell_type": "code",
      "source": [
        "model.summary()"
      ],
      "metadata": {
        "colab": {
          "base_uri": "https://localhost:8080/"
        },
        "id": "YwzC3ck7CkKo",
        "outputId": "793d435d-2730-42c0-de71-90dcb6718ee4"
      },
      "execution_count": 19,
      "outputs": [
        {
          "output_type": "stream",
          "name": "stdout",
          "text": [
            "Model: \"rn_ngenerator\"\n",
            "_________________________________________________________________\n",
            " Layer (type)                Output Shape              Param #   \n",
            "=================================================================\n",
            " embedding (Embedding)       multiple                  134144    \n",
            "                                                                 \n",
            " lstm (LSTM)                 multiple                  8392704   \n",
            "                                                                 \n",
            " lstm_1 (LSTM)               multiple                  8392704   \n",
            "                                                                 \n",
            " lstm_2 (LSTM)               multiple                  8392704   \n",
            "                                                                 \n",
            " lstm_3 (LSTM)               multiple                  8392704   \n",
            "                                                                 \n",
            " dense (Dense)               multiple                  134275    \n",
            "                                                                 \n",
            "=================================================================\n",
            "Total params: 33,839,235\n",
            "Trainable params: 33,839,235\n",
            "Non-trainable params: 0\n",
            "_________________________________________________________________\n"
          ]
        }
      ]
    },
    {
      "cell_type": "code",
      "source": [
        "sampled_indices = tf.random.categorical(example_batch_predictions[0], num_samples=1)\n",
        "sampled_indices = tf.squeeze(sampled_indices,axis=-1).numpy()"
      ],
      "metadata": {
        "id": "6EsCfqwBCobG"
      },
      "execution_count": 20,
      "outputs": []
    },
    {
      "cell_type": "code",
      "source": [
        "print(\"Input: \\n\", repr(\"\".join(idx2char[input_example_batch[0]])))\n",
        "print()\n",
        "print(\"Next Char Predictions: \\n\", repr(\"\".join(idx2char[sampled_indices ])))"
      ],
      "metadata": {
        "colab": {
          "base_uri": "https://localhost:8080/"
        },
        "id": "_q_AK21lDUi6",
        "outputId": "05a5bafa-d2f9-4cc9-ea3b-4b2386dcdeed"
      },
      "execution_count": 21,
      "outputs": [
        {
          "output_type": "stream",
          "name": "stdout",
          "text": [
            "Input: \n",
            " 'Александр Сергеевич Пушкин\\n\\n                                Евгений Онегин\\n                         '\n",
            "\n",
            "Next Char Predictions: \n",
            " \"w,ЛDыКy)NЗqOМэyАияdmiЬk4PCiПЕшхь3тй.9MзПжfPpЬЗТTэA,Ц4йTwКпwuMсДhшq'Т5БжсP!А2zзКqHБg;УDУcкioыpL5b!ыП\\n\"\n"
          ]
        }
      ]
    },
    {
      "cell_type": "markdown",
      "source": [
        "loss"
      ],
      "metadata": {
        "id": "J18IFueICSDX"
      }
    },
    {
      "cell_type": "code",
      "source": [
        "def loss(labels, logits):\n",
        "    return tf.keras.losses.sparse_categorical_crossentropy(labels, logits, from_logits=True)\n",
        "\n",
        "example_batch_loss = loss(target_example_batch, example_batch_predictions)\n",
        "print(\"Prediction shape: \", example_batch_predictions.shape, \" # (batch_size, sequence_length, vocab_size)\")\n",
        "print(\"scalar_loss:      \", example_batch_loss.numpy().mean())"
      ],
      "metadata": {
        "colab": {
          "base_uri": "https://localhost:8080/"
        },
        "id": "A73LBCV_EPkg",
        "outputId": "572c17d4-de81-44b5-fde7-16cc283fc689"
      },
      "execution_count": 22,
      "outputs": [
        {
          "output_type": "stream",
          "name": "stdout",
          "text": [
            "Prediction shape:  (64, 100, 131)  # (batch_size, sequence_length, vocab_size)\n",
            "scalar_loss:       4.862646\n"
          ]
        }
      ]
    },
    {
      "cell_type": "code",
      "source": [
        "model.compile(optimizer='adam', loss=loss)"
      ],
      "metadata": {
        "id": "DvLrt5XgBv5N"
      },
      "execution_count": 23,
      "outputs": []
    },
    {
      "cell_type": "markdown",
      "source": [
        "Модель для предсказаний с размерностью пакета = 1"
      ],
      "metadata": {
        "id": "SSKl0MeQgfnb"
      }
    },
    {
      "cell_type": "code",
      "source": [
        "model_1 = RNNgenerator(\n",
        "    vocab_size=len(vocab),\n",
        "    embedding_dim=embedding_dim,\n",
        "    rnn_units=rnn_units,\n",
        "    batch_size=1)"
      ],
      "metadata": {
        "id": "EomTHHwzgKRG"
      },
      "execution_count": 24,
      "outputs": []
    },
    {
      "cell_type": "code",
      "source": [
        "model_1.build(tf.TensorShape([1, None]))"
      ],
      "metadata": {
        "id": "p3aGUlCWkjXR"
      },
      "execution_count": 25,
      "outputs": []
    },
    {
      "cell_type": "code",
      "source": [
        "for i in range(len(model.layers)):\n",
        "  model_1.layers[i].set_weights(model.layers[i].get_weights())"
      ],
      "metadata": {
        "id": "X-YvHm6pgOEO"
      },
      "execution_count": 26,
      "outputs": []
    },
    {
      "cell_type": "markdown",
      "source": [
        "Predict"
      ],
      "metadata": {
        "id": "Pj8q79oNzU4r"
      }
    },
    {
      "cell_type": "code",
      "source": [
        "def generate_text(model, start_string, temperature=1, num_generate=500):\n",
        "\n",
        "    input_eval = [char2idx[s] for s in start_string]\n",
        "    input_eval = tf.expand_dims(input_eval, 0)\n",
        "\n",
        "    text_generated = []\n",
        "\n",
        "    # Here batch size == 1\n",
        "    model.reset_states()\n",
        "    for i in range(num_generate):\n",
        "        predictions = model(input_eval)\n",
        "        predictions = tf.squeeze(predictions, 0)\n",
        "        predictions = predictions / temperature\n",
        "        predicted_id = tf.random.categorical(predictions, num_samples=1)[-1, 0].numpy()\n",
        "\n",
        "        input_eval = tf.expand_dims([predicted_id], 0)\n",
        "\n",
        "        text_generated.append(idx2char[predicted_id])\n",
        "\n",
        "    return (start_string + ''.join(text_generated))"
      ],
      "metadata": {
        "id": "KvLHrLnFP3ES"
      },
      "execution_count": 27,
      "outputs": []
    },
    {
      "cell_type": "markdown",
      "source": [
        "CustomCallback"
      ],
      "metadata": {
        "id": "OwfDKSbUgm2f"
      }
    },
    {
      "cell_type": "code",
      "source": [
        "from keras.callbacks import Callback\n",
        "\n",
        "class CustomCallback(Callback):\n",
        "\n",
        "    def __init__(self, start_string, temperature, num_generate):\n",
        "        super().__init__()\n",
        "        self.start_string = start_string\n",
        "        self.temperature = temperature\n",
        "        self.num_generate = num_generate\n",
        "\n",
        "    def on_epoch_end(self, epoch, logs=None):\n",
        "        if epoch%5==0:\n",
        "          for i in range(len(model_1.layers)):\n",
        "            model_1.layers[i].set_weights(self.model.layers[i].get_weights())\n",
        "          text = generate_text(model_1, self.start_string, self.temperature, self.num_generate)\n",
        "          print('\\n'+text)"
      ],
      "metadata": {
        "id": "9m7GmvnNWDTu"
      },
      "execution_count": 29,
      "outputs": []
    },
    {
      "cell_type": "markdown",
      "source": [
        "fit"
      ],
      "metadata": {
        "id": "LeRJ6IhfBpfH"
      }
    },
    {
      "cell_type": "code",
      "source": [
        "EPOCHS = 101\n",
        "start_string='И вот идет уже '\n",
        "temperature=1\n",
        "num_generate=500\n",
        "my_callback = CustomCallback(start_string, temperature, num_generate)"
      ],
      "metadata": {
        "id": "lS4DNrhuC5JS"
      },
      "execution_count": 30,
      "outputs": []
    },
    {
      "cell_type": "code",
      "source": [
        "history = model.fit(dataset, epochs=EPOCHS, callbacks=my_callback)"
      ],
      "metadata": {
        "colab": {
          "base_uri": "https://localhost:8080/"
        },
        "id": "7nw6w1d5UcCA",
        "outputId": "ca4fa0e6-219a-4f77-a43c-ca9f65cd6a7f"
      },
      "execution_count": 66,
      "outputs": [
        {
          "output_type": "stream",
          "name": "stdout",
          "text": [
            "Epoch 1/101\n",
            " 6/44 [===>..........................] - ETA: 14s - loss: 5.2604"
          ]
        },
        {
          "output_type": "stream",
          "name": "stderr",
          "text": [
            "WARNING:tensorflow:Callback method `on_train_batch_end` is slow compared to the batch time (batch time: 0.0395s vs `on_train_batch_end` time: 0.2901s). Check your callbacks.\n"
          ]
        },
        {
          "output_type": "stream",
          "name": "stdout",
          "text": [
            "44/44 [==============================] - ETA: 0s - loss: 2.4007\n",
            "И вот идет уже                       Н      БД  н                   а о \n",
            " идпояар                           СО гуясдесситоиокмлмл е,                                 Кь.ьйним друтнр  мур  и м                        аленбг.ет нхол  гитотхнзп                                        С           XПгодс\n",
            "аулулс,гвlв.да ем                                     Кьор\n",
            " с  иокЛуто обц                     л   тлжамйи  олут нвт р иероти\n",
            "нто  .вай \n",
            "дтгоявДн тбтвзи\n",
            "уИен.:                                     Кл.оиаеоаюдсрйяуй нло\n",
            "44/44 [==============================] - 29s 566ms/step - loss: 2.4007\n",
            "Epoch 2/101\n",
            "44/44 [==============================] - 17s 390ms/step - loss: 1.6328\n",
            "Epoch 3/101\n",
            "44/44 [==============================] - 18s 400ms/step - loss: 1.4373\n",
            "Epoch 4/101\n",
            "44/44 [==============================] - 17s 386ms/step - loss: 1.3358\n",
            "Epoch 5/101\n",
            "44/44 [==============================] - 17s 385ms/step - loss: 1.2898\n",
            "Epoch 6/101\n",
            "44/44 [==============================] - ETA: 0s - loss: 1.2591\n",
            "И вот идет уже вей,\n",
            "                        LIrVI\n",
            "                        На угроз он ды венона?\n",
            "                \"Xlено. к тоскил в и дузини,\n",
            "                        Пиц, осок пиздов в сед он воя,\n",
            "                        эде вний комперь нак та блму\n",
            "\n",
            "                        Уже крорта гдастонил ванин,\n",
            "                        Я моя, вегужь вне чаднудья.\n",
            "                                         И яд ус т абечкой вовых мъометь\n",
            "                        Нал на в этрив евсетены драши,\n",
            "                        Вок Таме\n",
            "44/44 [==============================] - 25s 568ms/step - loss: 1.2591\n",
            "Epoch 7/101\n",
            "44/44 [==============================] - 17s 387ms/step - loss: 1.2401\n",
            "Epoch 8/101\n",
            "44/44 [==============================] - 18s 406ms/step - loss: 1.2025\n",
            "Epoch 9/101\n",
            "44/44 [==============================] - 17s 389ms/step - loss: 1.1914\n",
            "Epoch 10/101\n",
            "44/44 [==============================] - 17s 382ms/step - loss: 1.1697\n",
            "Epoch 11/101\n",
            "44/44 [==============================] - ETA: 0s - loss: 1.1259\n",
            "И вот идет уже Ov30}v00}tvmp4motg07}tmvootoktetiviterievttmesoet0}Ayvivvo4yFomiit4diuvootvietoaStiesieeevovomoveti0ttvtevt6}evevoomootev4rvettGt9stttedemotcesettt4Avqovooeo0vgAntiivevAi80}imft40TogotnomotbmvovetHvoGv'ootvovvoteteЮGvoGettp0}vvgotttaevettGmogvoauittmptevotttrvvottittv0o4}tvsotvegiturteemmevlvatetttp6oovuvvoeAvoAtvevTmomoetiietsvetitgeioveoev0vopoutotfvooovedvmoiЖvovvroortAntvtvuroiIiivA6vvtetnurhttrs0}vaHvoettogstetkst04vtot40otdta4z4Yo4aAevi}ttvteuttAtivovi0tvieettsrtvooA6tttoti70ttr3Ь0evotiotS\n",
            "44/44 [==============================] - 25s 567ms/step - loss: 1.1259\n",
            "Epoch 12/101\n",
            "44/44 [==============================] - 17s 395ms/step - loss: 1.0957\n",
            "Epoch 13/101\n",
            "44/44 [==============================] - 18s 404ms/step - loss: 1.0672\n",
            "Epoch 14/101\n",
            "44/44 [==============================] - 17s 390ms/step - loss: 1.0326\n",
            "Epoch 15/101\n",
            "44/44 [==============================] - 17s 384ms/step - loss: 1.0238\n",
            "Epoch 16/101\n",
            "44/44 [==============================] - ETA: 0s - loss: 0.9803\n",
            "И вот идет уже T41}t0}syv034}t\"mocoptttoArvog60AAmio6g}0GtG0}ttt5}t6}.\"m32336}00pА}km0}6}A6tv8}tШtmdv66dt6}G{48}y6}6}\n",
            "{4vetogЯtto0dg0}vt310e099}tt6}m0}A}tvt6}ttvo12vgirt}tAvov0}tz8}tttAu6gv24Seotti20}m0gStG6}go4}25mo6p0g0}}ttv20}iv00}tcAtt6}ttv6}tЧo}\"vA4})At6}tt16}0}NG38}\"St6}\"36}ttmo6}\"ЦvvoЗki00}GAt00}vfЗA}!\"МХ8}tAt0}tevt0p0}Avu0}t28}ttt6utt6}dTt}t36}\"b024}vvemo0tmoittmo3dAAttStto0}vov}Avmp06}tut0}0}z-{34}tv5}}})tu6tttcHtzpG}tv0}tvv000}Stvt6}\"(vAmotonmpomTivovFHvovAeivoAtzvoШtoAdvAo406}ttv41v5}v{00}0\"НЯftot00\n",
            "44/44 [==============================] - 25s 569ms/step - loss: 0.9803\n",
            "Epoch 17/101\n",
            "44/44 [==============================] - 17s 392ms/step - loss: 0.9318\n",
            "Epoch 18/101\n",
            "44/44 [==============================] - 18s 408ms/step - loss: 0.8823\n",
            "Epoch 19/101\n",
            "44/44 [==============================] - 17s 389ms/step - loss: 0.8334\n",
            "Epoch 20/101\n",
            "44/44 [==============================] - 17s 386ms/step - loss: 0.7994\n",
            "Epoch 21/101\n",
            "44/44 [==============================] - ETA: 0s - loss: 0.7616\n",
            "И вот идет уже t4}0q010}At40}204230}67}0kt4ppb}fdd000}fd0y04Gpa0GTpfdffedtAttpoghfpofsrhf0}}utt4}vsvev00}rt0}vAvtv0}05}vv0}StvTf7}u0v00}v0r0}St0pogg400}0vevtott00Atv0oGt0og0РAFdevesGvit0}fNAsv36}Avd42ve}t940}tsv5}svmporiymot09rT46pOG0907}pp0vp9qittdvTatorvfotporfvovyt09presezfA0ptHHyt0potetetTGvoG0}tyGvo0}va00vyoG0ott6}tG44pot20}t0T20}20}\"G0detoTt1mp4Ge0dotpothastsstAsat06AHv4}}rv010}tR4400tGitmobetrovor1vmosttoto0TveoAtGAytt1A5Gvv9}tt0z0}T0vpodA040}d04G0}!\"v06}\"0vovesdoGvovvoTmovosfitfostdAsGGvevevoGshforovey\n",
            "44/44 [==============================] - 25s 564ms/step - loss: 0.7616\n",
            "Epoch 22/101\n",
            "44/44 [==============================] - 17s 394ms/step - loss: 0.7006\n",
            "Epoch 23/101\n",
            "44/44 [==============================] - 18s 408ms/step - loss: 0.6453\n",
            "Epoch 24/101\n",
            "44/44 [==============================] - 17s 390ms/step - loss: 0.5966\n",
            "Epoch 25/101\n",
            "44/44 [==============================] - 17s 386ms/step - loss: 0.5477\n",
            "Epoch 26/101\n",
            "44/44 [==============================] - ETA: 0s - loss: 0.5282\n",
            "И вот идет уже tg40}}09000100}tm79}ШGR4}2ttpovpo4}ypm4426y6}1-3v42}imogmeg44do7tirot4ottottdootttotttortotorsmotpo6}6Anv4}tttsoftttotmototttetAttoGAttottAStGdAtttotthGSttriatvas4vitttrtGtSttrottottiSttotbrorovvor0}utvostttorvozvtorttootottotontovtormottttaGtvoovottAmototGtotoksttottporotdottomooottot4morttgofotb0ottvhttorotvorotAntortottStortGrgefottottomomorAottortontormorotothohArttotthtfonTtorTotuortgiotirvArmpororrittthinmtorototttettttebvpo0GGtotttebetto'Шvettog6ttrevoottmottottmovotfGvor0ottorttonottorvo\n",
            "44/44 [==============================] - 25s 568ms/step - loss: 0.5282\n",
            "Epoch 27/101\n",
            "44/44 [==============================] - 17s 391ms/step - loss: 0.4652\n",
            "Epoch 28/101\n",
            "44/44 [==============================] - 18s 410ms/step - loss: 0.4082\n",
            "Epoch 29/101\n",
            "44/44 [==============================] - 17s 394ms/step - loss: 0.3636\n",
            "Epoch 30/101\n",
            "44/44 [==============================] - 17s 385ms/step - loss: 0.3194\n",
            "Epoch 31/101\n",
            "44/44 [==============================] - ETA: 0s - loss: 0.2927\n",
            "И вот идет уже v9ontoutAur6ttvoffa4AAttpontGpo4vatpo7mm416poGu46}k{46}sm616}Stostmo4430}hp44168G{40}kSt40}.9ХL1}pA6tmmooonmporevmprarmmporGfNrtGfotofGp40po9vStogGat46Auv4314040adponstGGtЧostm44}Amd44}.\"11414ottG440pomo1V14G143.\n",
            "\n",
            "                                      XV\n",
            "\n",
            "                        Бал, в самом колпадет ним пистолет\n",
            "                        Селье, разопчать устомить,\n",
            "                        Свобом сострочной руке юбой,\n",
            "                        И гроба тайны роковые,\n",
            "                        - Немучен.\n",
            "44/44 [==============================] - 25s 568ms/step - loss: 0.2927\n",
            "Epoch 32/101\n",
            "44/44 [==============================] - 17s 396ms/step - loss: 0.2787\n",
            "Epoch 33/101\n",
            "44/44 [==============================] - 18s 408ms/step - loss: 0.2555\n",
            "Epoch 34/101\n",
            "44/44 [==============================] - 17s 391ms/step - loss: 0.2367\n",
            "Epoch 35/101\n",
            "44/44 [==============================] - 17s 385ms/step - loss: 0.2250\n",
            "Epoch 36/101\n",
            "44/44 [==============================] - ETA: 0s - loss: 0.2181\n",
            "И вот идет уже 38}\n",
            "\n",
            "\n",
            "\n",
            "\n",
            "moЗRt4}nmongmoSmoroGGGuAvp40}t4mproifmposAfaGGУfll9bformGufosttGGustfoGAGtonsruyGGvototdAnsGvAdmoh4olGu'kOtrporefdafvynssfG'montsrtGthAtGGGuvonsmT44itmpottmporprifGAsdGfStorfofiAfotStotAzpAffGvo6}tGvomiondGGfGfAtotvhott0AmTaGvottortot0ouuto'tarethontGusttuGutGttonttGuvottottGforottouotfovottAutfottGmottvortAurtorfotvotuiufafottotAntomoutAutotthoASthototthopotvGumorfotrAuGuStomponsfДortGuvGGStGfoffotottotoGttfotothhoortontAuGvo6TGuonthoutoGGStolfonstGuttothfGuStvousthmonsftronsStaforlGusu\n",
            "44/44 [==============================] - 25s 566ms/step - loss: 0.2181\n",
            "Epoch 37/101\n",
            "44/44 [==============================] - 17s 394ms/step - loss: 0.2082\n",
            "Epoch 38/101\n",
            "44/44 [==============================] - 18s 410ms/step - loss: 0.1976\n",
            "Epoch 39/101\n",
            "44/44 [==============================] - 17s 391ms/step - loss: 0.1905\n",
            "Epoch 40/101\n",
            "44/44 [==============================] - 17s 386ms/step - loss: 0.1825\n",
            "Epoch 41/101\n",
            "44/44 [==============================] - ETA: 0s - loss: 0.1759\n",
            "И вот идет уже 0An09}ftVIVIhGGmothorG6GHAt8}\n",
            "cэmomo44T44141AvkmpormprmoAfAfvTaorffoufmororh4AAntAnzfoStorotofottefottefotteurttoretturantdonthtfofyfofondoufonourfoffofouAfofAutoTafofouYoAfbeffofortoBpofoAonAA6}f06}\"{10}}\"Сont}\"von\"BA6}\"v0o6}\"\n",
            "ХLanonstony0povhovovossYY14414}AuG46}v41417}Ь414}pp40}44v4}Mm41oYomAm440T9bt4}tta07fATfvAmGuathothponsPfAthGuHototutfolotthofoufortoutouvof6}tontoemousittorafotfotre0AuvontmefothGuotGutethetavothGuoontortevevouAsfGfontoofouAAuvGufontorAAntoOf2thAuStAvorGuototo0olotSta0}\"t\n",
            "44/44 [==============================] - 25s 563ms/step - loss: 0.1759\n",
            "Epoch 42/101\n",
            "44/44 [==============================] - 17s 394ms/step - loss: 0.1706\n",
            "Epoch 43/101\n",
            "44/44 [==============================] - 18s 408ms/step - loss: 0.1670\n",
            "Epoch 44/101\n",
            "44/44 [==============================] - 17s 391ms/step - loss: 0.1614\n",
            "Epoch 45/101\n",
            "44/44 [==============================] - 17s 386ms/step - loss: 0.1553\n",
            "Epoch 46/101\n",
            "44/44 [==============================] - ETA: 0s - loss: 0.1456\n",
            "И вот идет уже Л9}dmp44}Ma44us41u7248}:\n",
            "З024}!)0}0}ch44nc446momposes!\n",
            "                        Она в волненье привела\n",
            "                        Теперь яснею - слава богу -\n",
            "                        В их доме простотупиливой.\n",
            "                        Но та, которую не смею\n",
            "                        Не понимает ничего,\n",
            "                        И к ним в безумные пиры\n",
            "                        (ругим и прочила крягкой.\n",
            "                        Настала осень золотая.\n",
            "             Снылась...\n",
            "                        С героем мо\n",
            "44/44 [==============================] - 25s 568ms/step - loss: 0.1456\n",
            "Epoch 47/101\n",
            "44/44 [==============================] - 17s 393ms/step - loss: 0.1403\n",
            "Epoch 48/101\n",
            "44/44 [==============================] - 18s 409ms/step - loss: 0.1337\n",
            "Epoch 49/101\n",
            "44/44 [==============================] - 17s 395ms/step - loss: 0.1318\n",
            "Epoch 50/101\n",
            "44/44 [==============================] - 17s 386ms/step - loss: 0.1261\n",
            "Epoch 51/101\n",
            "44/44 [==============================] - ETA: 0s - loss: 0.1168\n",
            "И вот идет уже 439}430}ySt0}йh414tadaaadasothposOsssposGuso4onsch449}.\n",
            "nvonsontusurGusos80o\"4okl4116}ttal424424243co\n",
            " Бавновый скустя,\n",
            "                        И предаюсь моей судьбе.\n",
            "\n",
            "                                      XX\n",
            "\n",
            "                        Вот север, то беды моей\n",
            "                   Уж реченыму отдалась.\n",
            "                        Что есть избранный на она;\n",
            "                        Умел он весело полно.\n",
            "               Хрант,\n",
            "                        Прослыть притворным чудаком,\n",
            "                        Мечт\n",
            "44/44 [==============================] - 25s 563ms/step - loss: 0.1168\n",
            "Epoch 52/101\n",
            "44/44 [==============================] - 17s 393ms/step - loss: 0.1078\n",
            "Epoch 53/101\n",
            "44/44 [==============================] - 18s 411ms/step - loss: 0.1020\n",
            "Epoch 54/101\n",
            "44/44 [==============================] - 17s 395ms/step - loss: 0.0969\n",
            "Epoch 55/101\n",
            "44/44 [==============================] - 17s 385ms/step - loss: 0.0915\n",
            "Epoch 56/101\n",
            "44/44 [==============================] - ETA: 0s - loss: 0.0873\n",
            "И вот идет уже кресть.\n",
            "                        Потом, на страстей, ей непристь.\n",
            "\n",
            "                                    XXXVII\n",
            "\n",
            "                        Не так ли я?\" - И нят страстной?\n",
            "                   Охотно клонит слух полей.\n",
            "\n",
            "                                     XXIV\n",
            "\n",
            "                       Нет нужды; красавицы,\n",
            "                        Уста упрямые трады,\n",
            "                        Уединенные поля,\n",
            "                        Предмет стидется говорно,\n",
            "                        Иль предузнав издалека\n",
            "                 \n",
            "44/44 [==============================] - 25s 568ms/step - loss: 0.0873\n",
            "Epoch 57/101\n",
            "44/44 [==============================] - 17s 395ms/step - loss: 0.0935\n",
            "Epoch 58/101\n",
            "44/44 [==============================] - 18s 415ms/step - loss: 0.1063\n",
            "Epoch 59/101\n",
            "44/44 [==============================] - 17s 390ms/step - loss: 0.0823\n",
            "Epoch 60/101\n",
            "44/44 [==============================] - 17s 385ms/step - loss: 0.0728\n",
            "Epoch 61/101\n",
            "44/44 [==============================] - ETA: 0s - loss: 0.0673\n",
            "И вот идет уже брасть!\n",
            "                        Вбучает вечные глядит.\n",
            "\n",
            "                                            Fa\n",
            "                        За ней он гонится как тень;\n",
            "                        Он счастлив, он почти здоров...\n",
            "\n",
            "                                 И так уж тягостны они.\n",
            "                        Я знаю, век уж мой измерен;\n",
            "                        Во-первых (слушай, перелесть;\n",
            "                        Стальные мочат удила,\n",
            "                       И падает. Туманный взор\n",
            "                       Изображает\n",
            "44/44 [==============================] - 25s 571ms/step - loss: 0.0673\n",
            "Epoch 62/101\n",
            "44/44 [==============================] - 17s 393ms/step - loss: 0.0619\n",
            "Epoch 63/101\n",
            "44/44 [==============================] - 18s 409ms/step - loss: 0.0576\n",
            "Epoch 64/101\n",
            "44/44 [==============================] - 17s 396ms/step - loss: 0.0537\n",
            "Epoch 65/101\n",
            "44/44 [==============================] - 17s 385ms/step - loss: 0.0512\n",
            "Epoch 66/101\n",
            "44/44 [==============================] - ETA: 0s - loss: 0.0482\n",
            "И вот идет уже                    Пред этой резвный капитал\n",
            "                        Заводит неприствий гордой,\n",
            "                                             XL\n",
            "\n",
            "                        Приятно дерзкой эпиграммой\n",
            "                        На вензель, двум сестрицам каплочных\n",
            "                         На подницается везмочно,\n",
            "                        Тесня преникое мне вручь.\n",
            "                        Он засмеется - все хохочут;\n",
            "                        Свой пистолет тогда Евгений,\n",
            "                        Под небом Шилл\n",
            "44/44 [==============================] - 25s 566ms/step - loss: 0.0482\n",
            "Epoch 67/101\n",
            "44/44 [==============================] - 17s 394ms/step - loss: 0.0441\n",
            "Epoch 68/101\n",
            "44/44 [==============================] - 18s 410ms/step - loss: 0.0382\n",
            "Epoch 69/101\n",
            "44/44 [==============================] - 17s 392ms/step - loss: 0.0359\n",
            "Epoch 70/101\n",
            "44/44 [==============================] - 17s 386ms/step - loss: 0.0331\n",
            "Epoch 71/101\n",
            "44/44 [==============================] - ETA: 0s - loss: 0.0285\n",
            "И вот идет уже барно\n",
            "                        Гароет мой она крюблю\n",
            "                                        И тем ее вернее губим\n",
            "                        Средь обольстительных сетей.\n",
            "                        Прости: небесная краса,\n",
            "                        И щетки тридцати родов\n",
            "                        И для ногтей и той кайко:\n",
            "                        Она дрожала и бледнела.\n",
            "                        Когда ж падучке впервая света\n",
            "                                             В избушке распевая, дева {23}\n",
            "           \n",
            "44/44 [==============================] - 25s 568ms/step - loss: 0.0285\n",
            "Epoch 72/101\n",
            "44/44 [==============================] - 17s 396ms/step - loss: 0.0428\n",
            "Epoch 73/101\n",
            "44/44 [==============================] - 18s 410ms/step - loss: 0.0375\n",
            "Epoch 74/101\n",
            "44/44 [==============================] - 17s 391ms/step - loss: 0.0322\n",
            "Epoch 75/101\n",
            "44/44 [==============================] - 17s 387ms/step - loss: 0.0285\n",
            "Epoch 76/101\n",
            "44/44 [==============================] - ETA: 0s - loss: 0.0269\n",
            "И вот идет уже               Ее предметвим отвозимась,\n",
            "                        И Таня входит в дом пустой,\n",
            "                        Слова тоскующей любви,\n",
            "                        Погиб животворящий глас,\n",
            "                        И за могильною чертой\n",
            "                        Уроки маменьки своей.\n",
            "\n",
            "                                    XXVII\n",
            "\n",
            "                        С семьей Панфила Хархорь\n",
            "                                        Чумы поему вышу нет;\n",
            "                                           Среди поклонников послу\n",
            "44/44 [==============================] - 25s 563ms/step - loss: 0.0269\n",
            "Epoch 77/101\n",
            "44/44 [==============================] - 17s 393ms/step - loss: 0.0262\n",
            "Epoch 78/101\n",
            "44/44 [==============================] - 18s 409ms/step - loss: 0.0270\n",
            "Epoch 79/101\n",
            "44/44 [==============================] - 17s 396ms/step - loss: 0.0251\n",
            "Epoch 80/101\n",
            "44/44 [==============================] - 17s 386ms/step - loss: 0.0241\n",
            "Epoch 81/101\n",
            "44/44 [==============================] - ETA: 0s - loss: 0.0254\n",
            "И вот идет уже                      Неоцых жензя и ручей,\n",
            "                        И запоздалый склад речей;\n",
            "                        Московских франтов и Бух,\n",
            "                        Увял еще полураскрытый для Гel?\n",
            "\n",
            "                                И вот уж с ним пред алтарем\n",
            "                        Она стыдливо под вень.\n",
            "\n",
            "                      Старушка молвила кряхтя. -\n",
            "                Зарецкий бережно кладет\n",
            "                        На сани труп оледенелый;\n",
            "                             И проклинает их досуги,\n",
            " \n",
            "44/44 [==============================] - 25s 562ms/step - loss: 0.0254\n",
            "Epoch 82/101\n",
            "44/44 [==============================] - 18s 400ms/step - loss: 0.0273\n",
            "Epoch 83/101\n",
            "44/44 [==============================] - 18s 408ms/step - loss: 0.0327\n",
            "Epoch 84/101\n",
            "44/44 [==============================] - 17s 392ms/step - loss: 0.0426\n",
            "Epoch 85/101\n",
            "44/44 [==============================] - 17s 385ms/step - loss: 0.0537\n",
            "Epoch 86/101\n",
            "44/44 [==============================] - ETA: 0s - loss: 0.0596\n",
            "И вот идет уже скасть?\n",
            "                        Не хочешь? - за могло гостей,\n",
            "                        К нему слеза и                       Однообразный и безумных,\n",
            "                        Как вих! барто раздела.\n",
            "                        Как удержать негодованье\n",
            "                        Уста упрямые тревого\n",
            "                        Пойдемте слушать шуми.\n",
            "                        Не замечаема никем,\n",
            "                        Татьяна смотрила Кто                       Одно познакого лесть Одушно Евгений, -\n",
            "             \n",
            "44/44 [==============================] - 25s 568ms/step - loss: 0.0596\n",
            "Epoch 87/101\n",
            "44/44 [==============================] - 17s 395ms/step - loss: 0.0541\n",
            "Epoch 88/101\n",
            "44/44 [==============================] - 18s 410ms/step - loss: 0.0406\n",
            "Epoch 89/101\n",
            "44/44 [==============================] - 17s 392ms/step - loss: 0.0294\n",
            "Epoch 90/101\n",
            "44/44 [==============================] - 17s 386ms/step - loss: 0.0309\n",
            "Epoch 91/101\n",
            "44/44 [==============================] - ETA: 0s - loss: 0.0312\n",
            "И вот идет уже                       И вот она в саду моем\n",
            "                        Явилась барышней уездной,\n",
            "                        Подъелесь ново врагод невил,\n",
            "                        И взорам адских привидений\n",
            "                        Что нынче так меня злать.\n",
            "                        Я не могу понять. Но вот\n",
            "                        Латают уробого летя,\n",
            "                             XXIX\n",
            "\n",
            "                        Ее сутра за страдали бреданство,\n",
            "                        И на бальер подым душой\n",
            "                  \n",
            "44/44 [==============================] - 25s 565ms/step - loss: 0.0312\n",
            "Epoch 92/101\n",
            "44/44 [==============================] - 18s 398ms/step - loss: 0.0253\n",
            "Epoch 93/101\n",
            "44/44 [==============================] - 17s 395ms/step - loss: 0.0182\n",
            "Epoch 94/101\n",
            "44/44 [==============================] - 17s 388ms/step - loss: 0.0124\n",
            "Epoch 95/101\n",
            "44/44 [==============================] - 17s 394ms/step - loss: 0.0089\n",
            "Epoch 96/101\n",
            "44/44 [==============================] - ETA: 0s - loss: 0.0063\n",
            "И вот идет уже                       И вот она в саду моем\n",
            "                        Явилась барышней уездной,\n",
            "                                          Стоял над речкою. Вдали\n",
            "                        Пред ним пестрели и цвели\n",
            "                  И песнь его была ясна,\n",
            "                        Как мысли девы простодушной,\n",
            "                   Охотно клонит слух прилежный\n",
            "                        Рассказам юных усачей,\n",
            "                                         XXXVIII\n",
            "\n",
            "                                       Пойдемте вме\n",
            "44/44 [==============================] - 25s 570ms/step - loss: 0.0063\n",
            "Epoch 97/101\n",
            "44/44 [==============================] - 17s 388ms/step - loss: 0.0048\n",
            "Epoch 98/101\n",
            "44/44 [==============================] - 18s 408ms/step - loss: 0.0040\n",
            "Epoch 99/101\n",
            "44/44 [==============================] - 18s 404ms/step - loss: 0.0028\n",
            "Epoch 100/101\n",
            "44/44 [==============================] - 17s 386ms/step - loss: 0.0021\n",
            "Epoch 101/101\n",
            "44/44 [==============================] - ETA: 0s - loss: 0.0018\n",
            "И вот идет уже                        И вот уже трещат морозы\n",
            "                        И серебрятся средь полей...\n",
            "                                             И нос и плечи подымал\n",
            "                        Вошедший с нею генерал.\n",
            "                        Она его не подымает\n",
            "                        И, не сводя с него очень.\n",
            "                                                   ХLV\n",
            "\n",
            "                        Условий света свергнув бремя,\n",
            "                        Казалось, чуть жива была,\n",
            "                        Не знала\n",
            "44/44 [==============================] - 25s 562ms/step - loss: 0.0018\n"
          ]
        }
      ]
    },
    {
      "cell_type": "code",
      "source": [
        "model.save('/content/gdrive/MyDrive/Colab Notebooks/model_generate_text')"
      ],
      "metadata": {
        "colab": {
          "base_uri": "https://localhost:8080/"
        },
        "id": "5eiwHn7Ty_GS",
        "outputId": "e1d2dec5-9667-4fc2-d0f7-ab7a4f92a3a4"
      },
      "execution_count": 67,
      "outputs": [
        {
          "output_type": "stream",
          "name": "stderr",
          "text": [
            "WARNING:absl:Found untraced functions such as lstm_cell_16_layer_call_fn, lstm_cell_16_layer_call_and_return_conditional_losses, lstm_cell_17_layer_call_fn, lstm_cell_17_layer_call_and_return_conditional_losses, lstm_cell_18_layer_call_fn while saving (showing 5 of 8). These functions will not be directly callable after loading.\n",
            "WARNING:absl:<keras.layers.recurrent.LSTMCell object at 0x7ff3b21aa190> has the same name 'LSTMCell' as a built-in Keras object. Consider renaming <class 'keras.layers.recurrent.LSTMCell'> to avoid naming conflicts when loading with `tf.keras.models.load_model`. If renaming is not possible, pass the object in the `custom_objects` parameter of the load function.\n",
            "WARNING:absl:<keras.layers.recurrent.LSTMCell object at 0x7ff3b21b1450> has the same name 'LSTMCell' as a built-in Keras object. Consider renaming <class 'keras.layers.recurrent.LSTMCell'> to avoid naming conflicts when loading with `tf.keras.models.load_model`. If renaming is not possible, pass the object in the `custom_objects` parameter of the load function.\n",
            "WARNING:absl:<keras.layers.recurrent.LSTMCell object at 0x7ff3b2221ad0> has the same name 'LSTMCell' as a built-in Keras object. Consider renaming <class 'keras.layers.recurrent.LSTMCell'> to avoid naming conflicts when loading with `tf.keras.models.load_model`. If renaming is not possible, pass the object in the `custom_objects` parameter of the load function.\n",
            "WARNING:absl:<keras.layers.recurrent.LSTMCell object at 0x7ff3b21ed7d0> has the same name 'LSTMCell' as a built-in Keras object. Consider renaming <class 'keras.layers.recurrent.LSTMCell'> to avoid naming conflicts when loading with `tf.keras.models.load_model`. If renaming is not possible, pass the object in the `custom_objects` parameter of the load function.\n"
          ]
        }
      ]
    },
    {
      "cell_type": "markdown",
      "source": [
        "*** checkpoint ***"
      ],
      "metadata": {
        "id": "9XPfZpkG9juQ"
      }
    },
    {
      "cell_type": "code",
      "source": [
        "from tensorflow import keras\n",
        "model = keras.models.load_model('/content/gdrive/MyDrive/Colab Notebooks/model_generate_text', compile=False)"
      ],
      "metadata": {
        "id": "Gb5EEuO40Bq2"
      },
      "execution_count": 36,
      "outputs": []
    },
    {
      "cell_type": "code",
      "source": [
        "model.compile(optimizer='adam', loss=loss)"
      ],
      "metadata": {
        "id": "Q2DOsrnt2Pd0"
      },
      "execution_count": 37,
      "outputs": []
    },
    {
      "cell_type": "code",
      "source": [
        "for i in range(len(model_1.layers)):\n",
        "            model_1.layers[i].set_weights(model.layers[i].get_weights())\n",
        "print(generate_text(model_1, start_string, temperature=1, num_generate=500))"
      ],
      "metadata": {
        "colab": {
          "base_uri": "https://localhost:8080/"
        },
        "id": "9-y0VET90VXn",
        "outputId": "27a0f290-5236-452f-c4be-df3e338da960"
      },
      "execution_count": 38,
      "outputs": [
        {
          "output_type": "stream",
          "name": "stdout",
          "text": [
            "И вот идет уже                    То видит он врагов забвенных,\n",
            "                        Клеветников, и трусов злых,\n",
            "        Постылой жизни мишура,\n",
            "                        Мои успехи в вихре света,\n",
            "                              Ученый малый, но педант:\n",
            "                        Имел он счастливый талант\n",
            "                        Простонародной старины,\n",
            "                        И снов задумчивой души.\n",
            "                        Без грамматической ошибки\n",
            "                        Я русский Нашел, для небо моды,\n",
            "           \n"
          ]
        }
      ]
    },
    {
      "cell_type": "markdown",
      "source": [
        "Как зависит predict от T"
      ],
      "metadata": {
        "id": "hBcxZ1rG94hv"
      }
    },
    {
      "cell_type": "code",
      "source": [
        "temperature=2\n",
        "print(generate_text(model_1, start_string, temperature, num_generate=500))"
      ],
      "metadata": {
        "colab": {
          "base_uri": "https://localhost:8080/"
        },
        "id": "kjzCSdu8-Slm",
        "outputId": "1527308e-a1ae-4ad0-c570-7b8f155bb7bc"
      },
      "execution_count": 93,
      "outputs": [
        {
          "output_type": "stream",
          "name": "stdout",
          "text": [
            "И вот идет уже                       Что ды, дады уздавался он.\n",
            "\n",
            "                                     XXII\n",
            "\n",
            "              И увлекательный и вредный?\n",
            "                        Я не могу понять. Но вот\n",
            "                    (Шушу модных на(суждений,\n",
            "          i         Куть Везде после 5ноги мечтаний,\n",
            "                        гостей не слушает она\n",
            "                        На троть, может, на мог                    Monsieur lще, больше! гости,\n",
            "                        Е суждено совсем иное...\n",
            "                   ны своем\n"
          ]
        }
      ]
    },
    {
      "cell_type": "markdown",
      "source": [
        "При увелечении T фразы становятся более случайными, но менее логичными"
      ],
      "metadata": {
        "id": "wbtEiM3Q-d1Q"
      }
    },
    {
      "cell_type": "code",
      "source": [
        "temperature=0.5\n",
        "print(generate_text(model_1, start_string, temperature, num_generate=500))"
      ],
      "metadata": {
        "colab": {
          "base_uri": "https://localhost:8080/"
        },
        "id": "0JGJjSFn-oB7",
        "outputId": "ae24a1a9-aa8f-4565-ab27-2063a962865b"
      },
      "execution_count": 96,
      "outputs": [
        {
          "output_type": "stream",
          "name": "stdout",
          "text": [
            "И вот идет уже                       И вот уже трещат морозы\n",
            "                        И серебрятся средь полей...\n",
            "                                                         XXXII\n",
            "\n",
            "                        Привычка усладила горе,\n",
            "                           Поклонник мирных аонид,\n",
            "                        О ты, чья память сохранит\n",
            "                         И продолжительный присест.\n",
            "\n",
            "                                      IX\n",
            "\n",
            "                       и про девиц;\n",
            "                        А нынче все мне темно, Таня:\n",
            "     \n"
          ]
        }
      ]
    },
    {
      "cell_type": "markdown",
      "source": [
        "Здесь фразы выглядят более логичными, но они очевино менее случайные и встречались в исходном тексте."
      ],
      "metadata": {
        "id": "OxE7eKri-wL8"
      }
    },
    {
      "cell_type": "code",
      "source": [
        "temperature=3\n",
        "print(generate_text(model_1, start_string, temperature, num_generate=500))"
      ],
      "metadata": {
        "colab": {
          "base_uri": "https://localhost:8080/"
        },
        "id": "keSf_-Kw_HnD",
        "outputId": "f6f23ac3-607a-4ac8-d02a-b9aea1b6ff75"
      },
      "execution_count": 99,
      "outputs": [
        {
          "output_type": "stream",
          "name": "stdout",
          "text": [
            "И вот идет уже ЛАно\n",
            "   BeНе.\n",
            "\n",
            "         Еpi \n",
            " rma этой сем\"Iестословом,\n",
            "   мVIrefI\"\n",
            "   X    V\n",
            "\n",
            "     Или;\n",
            "            7,\n",
            "        стынный Онегине с кНовы,\n",
            "   Но ь)\n",
            "     LV. II\n",
            "\n",
            "      C    \n",
            " учPреги Таньoваz На чеуты?.\n",
            "    :\n",
            "          Уженья, грусть, за мноМы\n",
            "  ш, др\"ХаВной\n",
            "  И 4Перешел:\n",
            "   чнд)\n",
            " м     тPе  хилосткого все.\n",
            " Свенча: карась,\n",
            "       Журал;          страм?\n",
            "    FPеt.\n",
            "         Таить,\n",
            "          Дынно этом мNанилужда,\n",
            "   и6 стрH звонь тащет. При сутрюою 8одна;\n",
            "    здалем\n",
            "     лужой -\n",
            "   Предскав1и W.\n",
            "- Я \n"
          ]
        }
      ]
    },
    {
      "cell_type": "markdown",
      "source": [
        "При слишком высокой температуре уже проподает логика"
      ],
      "metadata": {
        "id": "hNliraWu_YRa"
      }
    },
    {
      "cell_type": "code",
      "source": [
        "temperature=0.00001\n",
        "print(generate_text(model_1, start_string, temperature, num_generate=500))"
      ],
      "metadata": {
        "colab": {
          "base_uri": "https://localhost:8080/"
        },
        "id": "ZsdkU2or_cj_",
        "outputId": "fbbec713-da16-4da3-c75f-fa2f320e6251"
      },
      "execution_count": 109,
      "outputs": [
        {
          "output_type": "stream",
          "name": "stdout",
          "text": [
            "И вот идет уже                       И вот уже трещат морозы\n",
            "                        И серебрятся средь полей...\n",
            "                                                 XXIII\n",
            "\n",
            "                        Что было следствием свиданья?\n",
            "                            Поешь бог ведает кого,\n",
            "                        И свод элегий драгоценный\n",
            "                        У                          XXVIII\n",
            "\n",
            "                        С душою, полной сожалений,\n",
            "           Что намарал я свой портрет,\n",
            "                        Как Байрон, гордос\n"
          ]
        }
      ]
    },
    {
      "cell_type": "code",
      "source": [
        "temperature=0.00001\n",
        "print(generate_text(model_1, start_string, temperature, num_generate=500))"
      ],
      "metadata": {
        "colab": {
          "base_uri": "https://localhost:8080/"
        },
        "id": "z8ztbPQMAqkC",
        "outputId": "c92c354e-f783-47b3-9fcc-d7832552ce9c"
      },
      "execution_count": 110,
      "outputs": [
        {
          "output_type": "stream",
          "name": "stdout",
          "text": [
            "И вот идет уже                       И вот уже трещат морозы\n",
            "                        И серебрятся средь полей...\n",
            "                                                 XXIII\n",
            "\n",
            "                        Что было следствием свиданья?\n",
            "                            Поешь бог ведает кого,\n",
            "                        И свод элегий драгоценный\n",
            "                        У                          XXVIII\n",
            "\n",
            "                        С душою, полной сожалений,\n",
            "           Что намарал я свой портрет,\n",
            "                        Как Байрон, гордос\n"
          ]
        }
      ]
    },
    {
      "cell_type": "markdown",
      "source": [
        "При слишком низкой температуре, вариация генерации пропадает и модель начинает строить одну и ту же последовательность."
      ],
      "metadata": {
        "id": "x0MoEtY2Abo7"
      }
    },
    {
      "cell_type": "code",
      "source": [
        "import re"
      ],
      "metadata": {
        "id": "DNHdvYjN0maJ"
      },
      "execution_count": 86,
      "outputs": []
    },
    {
      "cell_type": "code",
      "source": [
        "re.search('И вот уже трещат морозы\\n                        И серебрятся средь полей...', text)"
      ],
      "metadata": {
        "colab": {
          "base_uri": "https://localhost:8080/"
        },
        "id": "9QcNJXxl3co2",
        "outputId": "1420b718-3e44-42ef-bda4-1d9061d9ced6"
      },
      "execution_count": 113,
      "outputs": [
        {
          "output_type": "execute_result",
          "data": {
            "text/plain": [
              "<re.Match object; span=(133141, 133216), match='И вот уже трещат морозы\\n                        >"
            ]
          },
          "metadata": {},
          "execution_count": 113
        }
      ]
    },
    {
      "cell_type": "code",
      "source": [
        "text[133141:133216]"
      ],
      "metadata": {
        "colab": {
          "base_uri": "https://localhost:8080/",
          "height": 36
        },
        "id": "ngDfhsfcAy40",
        "outputId": "6cd19a55-2f57-42a6-f57f-f95ca0a5759f"
      },
      "execution_count": 114,
      "outputs": [
        {
          "output_type": "execute_result",
          "data": {
            "text/plain": [
              "'И вот уже трещат морозы\\n                        И серебрятся средь полей...'"
            ],
            "application/vnd.google.colaboratory.intrinsic+json": {
              "type": "string"
            }
          },
          "metadata": {},
          "execution_count": 114
        }
      ]
    },
    {
      "cell_type": "markdown",
      "source": [
        "Тоесть при маленькой температуре модель старается брать уже заученные фразы, а не генерировать новые. Но при этом все равно генерация фразы длиной 500 не будет ровно такой же, которая была в исходном тексте."
      ],
      "metadata": {
        "id": "kcRJC3nWBEMg"
      }
    }
  ]
}