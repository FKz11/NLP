{
  "nbformat": 4,
  "nbformat_minor": 0,
  "metadata": {
    "colab": {
      "name": "lesson_3.ipynb",
      "provenance": [],
      "collapsed_sections": [],
      "authorship_tag": "ABX9TyMymdUjh079Ykw9onNDyBtu",
      "include_colab_link": true
    },
    "kernelspec": {
      "name": "python3",
      "display_name": "Python 3"
    },
    "language_info": {
      "name": "python"
    }
  },
  "cells": [
    {
      "cell_type": "markdown",
      "metadata": {
        "id": "view-in-github",
        "colab_type": "text"
      },
      "source": [
        "<a href=\"https://colab.research.google.com/github/FKz11/NLP/blob/main/lesson_3.ipynb\" target=\"_parent\"><img src=\"https://colab.research.google.com/assets/colab-badge.svg\" alt=\"Open In Colab\"/></a>"
      ]
    },
    {
      "cell_type": "markdown",
      "source": [
        "# Lesson-3"
      ],
      "metadata": {
        "id": "LG4QJRMG7UVX"
      }
    },
    {
      "cell_type": "markdown",
      "source": [
        "**Задача поиск похожих по эмбеддингам**\n",
        "Скачиваем датасет \n",
        "\n",
        "!wget https://github.com/ods-ai-ml4sg/proj_news_viz/releases/download/data/gazeta.csv.gz\n",
        "\n",
        "```\n",
        "# пример работы с ним \n",
        "from corus import load_ods_gazeta\n",
        "path = 'gazeta.csv.gz'\n",
        "records = load_ods_gazeta(path)\n",
        "next(records)\n",
        "```\n",
        "\n",
        "\n",
        "что надо сделать \n",
        "\n",
        "1. на основе word2vec/fasttext реализовать метод поиска ближайших статей\n",
        "(на вход метода должен приходить запрос (какой-то вопрос) и количество вариантов вывода к примеру 5-ть, ваш метод должен возвращать 5-ть ближайших статей к этому запросу)\n",
        "2. Проверить насколько хорошо работают подходы"
      ],
      "metadata": {
        "id": "6VYCwnNf7WrW"
      }
    },
    {
      "cell_type": "markdown",
      "source": [
        "### Библиотеки"
      ],
      "metadata": {
        "id": "Wob8Xmj9QujU"
      }
    },
    {
      "cell_type": "code",
      "source": [
        "!pip -qq install pymorphy2"
      ],
      "metadata": {
        "id": "VB1D3Ui5BdJn",
        "colab": {
          "base_uri": "https://localhost:8080/"
        },
        "outputId": "9838d97d-f10e-4101-f1d5-eab6df56fe03"
      },
      "execution_count": 1,
      "outputs": [
        {
          "output_type": "stream",
          "name": "stdout",
          "text": [
            "\u001b[K     |████████████████████████████████| 55 kB 1.6 MB/s \n",
            "\u001b[K     |████████████████████████████████| 8.2 MB 27.4 MB/s \n",
            "\u001b[?25h  Building wheel for docopt (setup.py) ... \u001b[?25l\u001b[?25hdone\n"
          ]
        }
      ]
    },
    {
      "cell_type": "code",
      "source": [
        "!pip -qq install stop_words"
      ],
      "metadata": {
        "id": "zU52udx4BhGY",
        "colab": {
          "base_uri": "https://localhost:8080/"
        },
        "outputId": "f8e83158-807f-436f-f8b2-761ed4189e91"
      },
      "execution_count": 2,
      "outputs": [
        {
          "output_type": "stream",
          "name": "stdout",
          "text": [
            "  Building wheel for stop-words (setup.py) ... \u001b[?25l\u001b[?25hdone\n"
          ]
        }
      ]
    },
    {
      "cell_type": "code",
      "source": [
        "import numpy as np\n",
        "\n",
        "import tarfile\n",
        "import json\n",
        "\n",
        "from tqdm import tqdm\n",
        "\n",
        "import string\n",
        "from pymorphy2 import MorphAnalyzer\n",
        "from stop_words import get_stop_words\n",
        "\n",
        "from gensim.models import Word2Vec, FastText\n",
        "from sklearn.neighbors import NearestNeighbors"
      ],
      "metadata": {
        "id": "byQDbkz6QwFY"
      },
      "execution_count": 144,
      "outputs": []
    },
    {
      "cell_type": "markdown",
      "source": [
        "### Данные:"
      ],
      "metadata": {
        "id": "f0266hEp7hP_"
      }
    },
    {
      "cell_type": "code",
      "source": [
        "!wget https://www.dropbox.com/s/cmpfvzxdknkeal4/gazeta_jsonl.tar.gz"
      ],
      "metadata": {
        "colab": {
          "base_uri": "https://localhost:8080/"
        },
        "id": "yEsL3FpW7cGb",
        "outputId": "c90ebbdc-bbc4-4058-daa0-9ea948908d93"
      },
      "execution_count": 4,
      "outputs": [
        {
          "output_type": "stream",
          "name": "stdout",
          "text": [
            "--2022-08-30 09:34:01--  https://www.dropbox.com/s/cmpfvzxdknkeal4/gazeta_jsonl.tar.gz\n",
            "Resolving www.dropbox.com (www.dropbox.com)... 162.125.4.18, 2620:100:6019:18::a27d:412\n",
            "Connecting to www.dropbox.com (www.dropbox.com)|162.125.4.18|:443... connected.\n",
            "HTTP request sent, awaiting response... 302 Found\n",
            "Location: /s/raw/cmpfvzxdknkeal4/gazeta_jsonl.tar.gz [following]\n",
            "--2022-08-30 09:34:01--  https://www.dropbox.com/s/raw/cmpfvzxdknkeal4/gazeta_jsonl.tar.gz\n",
            "Reusing existing connection to www.dropbox.com:443.\n",
            "HTTP request sent, awaiting response... 302 Found\n",
            "Location: https://ucda62b594d3e1795e191158c782.dl.dropboxusercontent.com/cd/0/inline/Br8naDJtv4XzsXUGTnGK8XzZSf2mCYz4SaTtD5aleTHGda27cXrKjXR5wSXxNHPWSElZXlRGd2I16aEJIeyyayaae69sIFlq8m7j76_HwmDt1J7Wi_x_a7zNUuIDPe-GpHMuLbW1PRS9Y49X31pjDZ30QL4Urr_MFtN7PkQ4QELYSA/file# [following]\n",
            "--2022-08-30 09:34:01--  https://ucda62b594d3e1795e191158c782.dl.dropboxusercontent.com/cd/0/inline/Br8naDJtv4XzsXUGTnGK8XzZSf2mCYz4SaTtD5aleTHGda27cXrKjXR5wSXxNHPWSElZXlRGd2I16aEJIeyyayaae69sIFlq8m7j76_HwmDt1J7Wi_x_a7zNUuIDPe-GpHMuLbW1PRS9Y49X31pjDZ30QL4Urr_MFtN7PkQ4QELYSA/file\n",
            "Resolving ucda62b594d3e1795e191158c782.dl.dropboxusercontent.com (ucda62b594d3e1795e191158c782.dl.dropboxusercontent.com)... 162.125.4.15, 2620:100:6019:15::a27d:40f\n",
            "Connecting to ucda62b594d3e1795e191158c782.dl.dropboxusercontent.com (ucda62b594d3e1795e191158c782.dl.dropboxusercontent.com)|162.125.4.15|:443... connected.\n",
            "HTTP request sent, awaiting response... 302 Found\n",
            "Location: /cd/0/inline2/Br_DyDWazQoZx6zE85J6VUyk6ZpYejsuF5NFb1iKlZDNyQeC-yU486pvTLMd3Sx6sIJg0LstuqjJufggGOdwLs4wKkZKjxonz5zIMAulwuE8K6BvevrSTJEaaMe0ObTJrneyjnLA56njfWxgp78Q9jWBUd3vegNsIVj6qkUosE8WDLJpp_vQTT144sHpqq_GJZec75uQhG3WXXAiAflGtuIXZaKCPD0tClDG365-0NooUls3oZb08zRcdsHx4EfK5fzccmzdKj0vp92Yl8l7TH5pWkH4dZfw8CfGpl55gOn9f2YjnhiI_2djTMNYy0JvZAEsYmGVMg-FKOhCTpfWb8O2Xn_inX3lktO3v7aEkhxITl8Q7gP1C7saSAgispV6JdBYM888haACkX5H_7d_6zjHh0dK48peszVHWWXzk9ChUA/file [following]\n",
            "--2022-08-30 09:34:02--  https://ucda62b594d3e1795e191158c782.dl.dropboxusercontent.com/cd/0/inline2/Br_DyDWazQoZx6zE85J6VUyk6ZpYejsuF5NFb1iKlZDNyQeC-yU486pvTLMd3Sx6sIJg0LstuqjJufggGOdwLs4wKkZKjxonz5zIMAulwuE8K6BvevrSTJEaaMe0ObTJrneyjnLA56njfWxgp78Q9jWBUd3vegNsIVj6qkUosE8WDLJpp_vQTT144sHpqq_GJZec75uQhG3WXXAiAflGtuIXZaKCPD0tClDG365-0NooUls3oZb08zRcdsHx4EfK5fzccmzdKj0vp92Yl8l7TH5pWkH4dZfw8CfGpl55gOn9f2YjnhiI_2djTMNYy0JvZAEsYmGVMg-FKOhCTpfWb8O2Xn_inX3lktO3v7aEkhxITl8Q7gP1C7saSAgispV6JdBYM888haACkX5H_7d_6zjHh0dK48peszVHWWXzk9ChUA/file\n",
            "Reusing existing connection to ucda62b594d3e1795e191158c782.dl.dropboxusercontent.com:443.\n",
            "HTTP request sent, awaiting response... 200 OK\n",
            "Length: 158907783 (152M) [application/octet-stream]\n",
            "Saving to: ‘gazeta_jsonl.tar.gz’\n",
            "\n",
            "gazeta_jsonl.tar.gz 100%[===================>] 151.55M   132MB/s    in 1.1s    \n",
            "\n",
            "2022-08-30 09:34:04 (132 MB/s) - ‘gazeta_jsonl.tar.gz’ saved [158907783/158907783]\n",
            "\n"
          ]
        }
      ]
    },
    {
      "cell_type": "code",
      "source": [
        "data = []\n",
        "\n",
        "tar = tarfile.open(\"gazeta_jsonl.tar.gz\", \"r:gz\")\n",
        "for member in tar.getmembers():\n",
        "     f = tar.extractfile(member)\n",
        "     if f is not None:\n",
        "         content = f.read().decode('utf-8')\n",
        "         content = content.split('\\n')\n",
        "         # последний элемент пустой, так как строка оканчивалась на \\n\n",
        "         content = content[:-1]\n",
        "         content = [json.loads(dic) for dic in content]\n",
        "         data.extend(content)"
      ],
      "metadata": {
        "id": "dJK8gsnQQrfb"
      },
      "execution_count": 5,
      "outputs": []
    },
    {
      "cell_type": "code",
      "source": [
        "len(data)"
      ],
      "metadata": {
        "colab": {
          "base_uri": "https://localhost:8080/"
        },
        "id": "2dJLFxjIlB_P",
        "outputId": "609046cb-01c0-45fc-849c-b4042d749397"
      },
      "execution_count": 6,
      "outputs": [
        {
          "output_type": "execute_result",
          "data": {
            "text/plain": [
              "63435"
            ]
          },
          "metadata": {},
          "execution_count": 6
        }
      ]
    },
    {
      "cell_type": "code",
      "source": [
        "data[0].keys()"
      ],
      "metadata": {
        "colab": {
          "base_uri": "https://localhost:8080/"
        },
        "id": "GGBG-jacl7Ri",
        "outputId": "0fc040dd-2f09-4382-9b4d-e06bdcbd67d8"
      },
      "execution_count": 7,
      "outputs": [
        {
          "output_type": "execute_result",
          "data": {
            "text/plain": [
              "dict_keys(['url', 'text', 'title', 'summary', 'date'])"
            ]
          },
          "metadata": {},
          "execution_count": 7
        }
      ]
    },
    {
      "cell_type": "code",
      "source": [
        "data[0]['url']"
      ],
      "metadata": {
        "colab": {
          "base_uri": "https://localhost:8080/",
          "height": 36
        },
        "id": "A1MTySyHmcKZ",
        "outputId": "d2171841-588b-429e-ab92-c2177fa9de1b"
      },
      "execution_count": 8,
      "outputs": [
        {
          "output_type": "execute_result",
          "data": {
            "text/plain": [
              "'https://www.gazeta.ru/financial/2011/11/30/3852658.shtml'"
            ],
            "application/vnd.google.colaboratory.intrinsic+json": {
              "type": "string"
            }
          },
          "metadata": {},
          "execution_count": 8
        }
      ]
    },
    {
      "cell_type": "code",
      "source": [
        "data[0]['title']"
      ],
      "metadata": {
        "colab": {
          "base_uri": "https://localhost:8080/",
          "height": 36
        },
        "id": "BdIElzS0mdT4",
        "outputId": "ab767e52-6519-42ed-a737-1056cc6140ec"
      },
      "execution_count": 9,
      "outputs": [
        {
          "output_type": "execute_result",
          "data": {
            "text/plain": [
              "'Прогноз не успевает за оттоком'"
            ],
            "application/vnd.google.colaboratory.intrinsic+json": {
              "type": "string"
            }
          },
          "metadata": {},
          "execution_count": 9
        }
      ]
    },
    {
      "cell_type": "code",
      "source": [
        "data[0]['summary']"
      ],
      "metadata": {
        "colab": {
          "base_uri": "https://localhost:8080/",
          "height": 54
        },
        "id": "KH891dQ6mBCf",
        "outputId": "7dcf2159-f149-4494-b216-5af4c086d25a"
      },
      "execution_count": 10,
      "outputs": [
        {
          "output_type": "execute_result",
          "data": {
            "text/plain": [
              "'В 2011 году из России уйдет $80 млрд, считают в Минэкономразвития. Менее месяца назад Центробанк давал оценку $70 млрд, повысив первоначальный прогноз вдвое. Отток капитала из страны усиливается из-за кризиса в Европе, а в декабре российским компаниям выплачивать внешние долги. На движение капитала повлияли и выборы: несмотря на их предсказуемость, бизнес хочет ясности с перестановками в правительстве.'"
            ],
            "application/vnd.google.colaboratory.intrinsic+json": {
              "type": "string"
            }
          },
          "metadata": {},
          "execution_count": 10
        }
      ]
    },
    {
      "cell_type": "code",
      "source": [
        "data[0]['text'][:100]"
      ],
      "metadata": {
        "colab": {
          "base_uri": "https://localhost:8080/",
          "height": 36
        },
        "id": "PsO2-oZWlKkJ",
        "outputId": "e9d54bac-079d-410c-e6b5-8f435fd2b9e1"
      },
      "execution_count": 11,
      "outputs": [
        {
          "output_type": "execute_result",
          "data": {
            "text/plain": [
              "'«По итогам 2011 года чистый отток может составить примерно $80 млрд, в следующем году — около $20 мл'"
            ],
            "application/vnd.google.colaboratory.intrinsic+json": {
              "type": "string"
            }
          },
          "metadata": {},
          "execution_count": 11
        }
      ]
    },
    {
      "cell_type": "code",
      "source": [
        "data[0]['date']"
      ],
      "metadata": {
        "colab": {
          "base_uri": "https://localhost:8080/",
          "height": 36
        },
        "id": "I2mmK_wPmfcN",
        "outputId": "e22590ae-802b-4f5c-a72e-6ef8ce7907f1"
      },
      "execution_count": 12,
      "outputs": [
        {
          "output_type": "execute_result",
          "data": {
            "text/plain": [
              "'2011-11-30 18:33:39'"
            ],
            "application/vnd.google.colaboratory.intrinsic+json": {
              "type": "string"
            }
          },
          "metadata": {},
          "execution_count": 12
        }
      ]
    },
    {
      "cell_type": "markdown",
      "source": [
        "### Обработаем данные"
      ],
      "metadata": {
        "id": "bFrc9h8XA7_F"
      }
    },
    {
      "cell_type": "markdown",
      "source": [
        "Для поиска будем использовать краткое содержание статьи: summary"
      ],
      "metadata": {
        "id": "ATgtap7Smlpa"
      }
    },
    {
      "cell_type": "code",
      "source": [
        "def preprocess_txt(text, morpher, sw, exclude):\n",
        "    spls = \"\".join(i for i in text.strip() if i not in exclude).split()\n",
        "    spls = [morpher.parse(i.lower())[0].normal_form for i in spls]\n",
        "    spls = [i for i in spls if i not in sw]\n",
        "    return spls"
      ],
      "metadata": {
        "id": "X2hJycx3-cO9"
      },
      "execution_count": 123,
      "outputs": []
    },
    {
      "cell_type": "code",
      "source": [
        "sentences = []\n",
        "\n",
        "morpher = MorphAnalyzer()\n",
        "sw = set(get_stop_words(\"ru\") + [''] + [' '])\n",
        "exclude = set(string.punctuation)\n",
        "c = 0\n",
        "\n",
        "for dic in tqdm(data):\n",
        "  spls = preprocess_txt(dic['summary'], morpher, sw, exclude)\n",
        "  sentences.append(spls)\n",
        "  c += 1\n",
        "  if c > 100000:\n",
        "    break"
      ],
      "metadata": {
        "colab": {
          "base_uri": "https://localhost:8080/"
        },
        "id": "XXM8FpS6BHM4",
        "outputId": "ed594f38-d1a3-4d20-9cb9-49e19b73d2a4"
      },
      "execution_count": 124,
      "outputs": [
        {
          "output_type": "stream",
          "name": "stderr",
          "text": [
            "100%|██████████| 63435/63435 [14:21<00:00, 73.62it/s]\n"
          ]
        }
      ]
    },
    {
      "cell_type": "code",
      "source": [
        "sentences[0][:10]"
      ],
      "metadata": {
        "colab": {
          "base_uri": "https://localhost:8080/"
        },
        "id": "Vp1nYhDZHfst",
        "outputId": "7f1425c5-4f01-4015-907c-36b7420736a5"
      },
      "execution_count": 145,
      "outputs": [
        {
          "output_type": "execute_result",
          "data": {
            "text/plain": [
              "['2011',\n",
              " 'россия',\n",
              " 'уйти',\n",
              " '80',\n",
              " 'млрд',\n",
              " 'считать',\n",
              " 'минэкономразвития',\n",
              " 'месяц',\n",
              " 'центробанк',\n",
              " 'давать']"
            ]
          },
          "metadata": {},
          "execution_count": 145
        }
      ]
    },
    {
      "cell_type": "markdown",
      "source": [
        "### Обучим модели"
      ],
      "metadata": {
        "id": "FUMXTnWVH1F1"
      }
    },
    {
      "cell_type": "code",
      "source": [
        "modelW2V = Word2Vec(sentences=sentences, size=300, min_count=1, window=5)"
      ],
      "metadata": {
        "id": "_OqiArFHhnuv"
      },
      "execution_count": 147,
      "outputs": []
    },
    {
      "cell_type": "code",
      "source": [
        "modelW2V.wv['телефон']@modelW2V.wv['связь']"
      ],
      "metadata": {
        "colab": {
          "base_uri": "https://localhost:8080/"
        },
        "id": "S729B3gYh1ia",
        "outputId": "dcccfbce-6dac-47fd-856f-afa4f1c7c5da"
      },
      "execution_count": 148,
      "outputs": [
        {
          "output_type": "execute_result",
          "data": {
            "text/plain": [
              "23.908112"
            ]
          },
          "metadata": {},
          "execution_count": 148
        }
      ]
    },
    {
      "cell_type": "code",
      "source": [
        "modelW2V.wv['телефон']@modelW2V.wv['ваза']"
      ],
      "metadata": {
        "colab": {
          "base_uri": "https://localhost:8080/"
        },
        "id": "egenbKlTh18e",
        "outputId": "904b7839-e1e7-4622-ed3f-f4083b07fd94"
      },
      "execution_count": 149,
      "outputs": [
        {
          "output_type": "execute_result",
          "data": {
            "text/plain": [
              "0.88626474"
            ]
          },
          "metadata": {},
          "execution_count": 149
        }
      ]
    },
    {
      "cell_type": "code",
      "source": [
        "modelFT = FastText(sentences=sentences, size=300, min_count=1, window=5, workers=8)"
      ],
      "metadata": {
        "id": "2QckmhsiGVK-"
      },
      "execution_count": 126,
      "outputs": []
    },
    {
      "cell_type": "code",
      "source": [
        "modelFT.wv['телефон']@modelFT.wv['связь']"
      ],
      "metadata": {
        "colab": {
          "base_uri": "https://localhost:8080/"
        },
        "id": "ySljaD_mH8jN",
        "outputId": "2ac9968b-972f-4343-8dbb-bc31f0d11db1"
      },
      "execution_count": 127,
      "outputs": [
        {
          "output_type": "execute_result",
          "data": {
            "text/plain": [
              "33.177773"
            ]
          },
          "metadata": {},
          "execution_count": 127
        }
      ]
    },
    {
      "cell_type": "code",
      "source": [
        "modelFT.wv['телефон']@modelFT.wv['ваза']"
      ],
      "metadata": {
        "id": "CwY3n5PEKBje",
        "colab": {
          "base_uri": "https://localhost:8080/"
        },
        "outputId": "712b9d3e-c1e0-4a7d-a842-2c60a457b587"
      },
      "execution_count": 128,
      "outputs": [
        {
          "output_type": "execute_result",
          "data": {
            "text/plain": [
              "20.208273"
            ]
          },
          "metadata": {},
          "execution_count": 128
        }
      ]
    },
    {
      "cell_type": "markdown",
      "source": [
        "### Составим векторы"
      ],
      "metadata": {
        "id": "cCovodmUIR8T"
      }
    },
    {
      "cell_type": "code",
      "source": [
        "W2V_sentences_vectors = []\n",
        "FT_sentences_vectors = []\n",
        "\n",
        "for sentence in sentences:\n",
        "  W2V_vector = np.zeros(300)\n",
        "  W2V_c = 0\n",
        "  FT_vector = np.zeros(300)\n",
        "  for word in sentence:\n",
        "    if word in modelW2V.wv:\n",
        "      W2V_vector += modelW2V.wv[word]\n",
        "      W2V_c += 1\n",
        "    FT_vector += modelFT.wv[word]\n",
        "  if W2V_c>0:\n",
        "    W2V_vector = W2V_vector/W2V_c\n",
        "  W2V_sentences_vectors.append(W2V_vector)\n",
        "  FT_vector = FT_vector/len(sentence)\n",
        "  FT_sentences_vectors.append(FT_vector)"
      ],
      "metadata": {
        "id": "To_jC38kICVt"
      },
      "execution_count": 175,
      "outputs": []
    },
    {
      "cell_type": "code",
      "source": [
        "W2V_sentences_vectors[0][:10]"
      ],
      "metadata": {
        "colab": {
          "base_uri": "https://localhost:8080/"
        },
        "id": "P4LsapI8LQTb",
        "outputId": "58ae9b77-4248-404d-a54f-c5406bd64a22"
      },
      "execution_count": 176,
      "outputs": [
        {
          "output_type": "execute_result",
          "data": {
            "text/plain": [
              "array([-0.41123487, -0.05363399,  0.28094164, -0.35656693, -0.17590769,\n",
              "        0.11066948,  0.00830152,  0.6231159 , -0.18351916,  0.07159789])"
            ]
          },
          "metadata": {},
          "execution_count": 176
        }
      ]
    },
    {
      "cell_type": "code",
      "source": [
        "FT_sentences_vectors[0][:10]"
      ],
      "metadata": {
        "colab": {
          "base_uri": "https://localhost:8080/"
        },
        "id": "3bBKt_Nzjryn",
        "outputId": "43fc24cb-61c5-4296-b56c-667af708e21d"
      },
      "execution_count": 177,
      "outputs": [
        {
          "output_type": "execute_result",
          "data": {
            "text/plain": [
              "array([ 0.04579479,  0.22406543,  0.43532565,  0.13648562, -0.43412111,\n",
              "        0.29161223,  0.779927  ,  0.3801476 , -0.22268056, -0.06325385])"
            ]
          },
          "metadata": {},
          "execution_count": 177
        }
      ]
    },
    {
      "cell_type": "markdown",
      "source": [
        "### Поиск"
      ],
      "metadata": {
        "id": "AILYHLjOLwWk"
      }
    },
    {
      "cell_type": "code",
      "source": [
        "W2V_neigh = NearestNeighbors(n_neighbors=5)\n",
        "W2V_neigh.fit(W2V_sentences_vectors)\n",
        "FT_neigh = NearestNeighbors(n_neighbors=5)\n",
        "FT_neigh.fit(FT_sentences_vectors)"
      ],
      "metadata": {
        "colab": {
          "base_uri": "https://localhost:8080/"
        },
        "id": "v4xy0kD7YqU9",
        "outputId": "5b89dff3-9903-4ed2-90b7-18c6ba873fc7"
      },
      "execution_count": 178,
      "outputs": [
        {
          "output_type": "execute_result",
          "data": {
            "text/plain": [
              "NearestNeighbors()"
            ]
          },
          "metadata": {},
          "execution_count": 178
        }
      ]
    },
    {
      "cell_type": "code",
      "source": [
        "def search(text, model, neigh, top_n=5):\n",
        "  sentence = preprocess_txt(text, morpher, sw, exclude)\n",
        "  text_vector = np.zeros(300)\n",
        "  c = 0\n",
        "  for word in sentence:\n",
        "    if word in model.wv:\n",
        "      text_vector += model.wv[word]\n",
        "      c+=1\n",
        "  if c>0:\n",
        "    text_vector = text_vector/c\n",
        "  result_index = neigh.kneighbors([text_vector], return_distance=False)\n",
        "  result = [data[i] for i in result_index[0]]\n",
        "  return result"
      ],
      "metadata": {
        "id": "4glPOArALzvP"
      },
      "execution_count": 179,
      "outputs": []
    },
    {
      "cell_type": "markdown",
      "source": [
        "Выведим краткое содержание для сравнения, а так можно получить доступ и ко всему тексту, если указать 'text' вместо 'summary'"
      ],
      "metadata": {
        "id": "69nXQHFwfPMv"
      }
    },
    {
      "cell_type": "markdown",
      "source": [
        "Погода"
      ],
      "metadata": {
        "id": "b2Xd-S3Bl23s"
      }
    },
    {
      "cell_type": "code",
      "source": [
        "%%time\n",
        "\n",
        "result = search('Погода в Москве сегодня', modelW2V, W2V_neigh)\n",
        "for i in range(len(result)):\n",
        "  print(f'{i+1}.', result[i]['summary'])"
      ],
      "metadata": {
        "colab": {
          "base_uri": "https://localhost:8080/"
        },
        "id": "O2QzY_o_QqRT",
        "outputId": "e4f3c47e-f893-4a3a-8189-040ba62ca913"
      },
      "execution_count": 180,
      "outputs": [
        {
          "output_type": "stream",
          "name": "stdout",
          "text": [
            "1. Кратковременные дожди не испортят выходные в Москве. А на следующей неделе в столичном регионе ожидается возвращение жары, правда всего лишь на несколько дней.\n",
            "2. В ближайшие выходные столичный регион ожидают жара и грозы. Дожди немного понизят температуру, но к следующей среде в Москве снова будет +30° С.\n",
            "3. В первую неделю октября температура в Москве будет на несколько градусов ниже нормы. Ночью ожидаются заморозки. Зато дождей не предвидится.\n",
            "4. До следующих выходных погода в столице ожидается пасмурная, ветреная, с дождями и мокрым снегом. Температура будет на 3...5° С ниже климатической нормы. Потеплеет в Москве только к следующей пятнице.\n",
            "5. В выходные и на следующей неделе в Москве будет жара. Температура воздуха может достигнуть +35°С. Дождей и сильного ветра не будет. Из-за антициклонального характера погоды воздух над столицей будет сильно загрязнен.\n",
            "CPU times: user 67 ms, sys: 10.1 ms, total: 77.1 ms\n",
            "Wall time: 56.9 ms\n"
          ]
        }
      ]
    },
    {
      "cell_type": "code",
      "source": [
        "%%time\n",
        "\n",
        "result = search('Погода в Москве сегодня', modelFT, FT_neigh)\n",
        "for i in range(len(result)):\n",
        "  print(f'{i+1}.', result[i]['summary'])"
      ],
      "metadata": {
        "colab": {
          "base_uri": "https://localhost:8080/"
        },
        "id": "K8tN7WQ-lpVI",
        "outputId": "8fbc0d0a-58e4-415a-99a5-6a3da9436196"
      },
      "execution_count": 181,
      "outputs": [
        {
          "output_type": "stream",
          "name": "stdout",
          "text": [
            "1. В первую неделю октября температура в Москве будет на несколько градусов ниже нормы. Ночью ожидаются заморозки. Зато дождей не предвидится.\n",
            "2. До следующих выходных погода в столице ожидается пасмурная, ветреная, с дождями и мокрым снегом. Температура будет на 3...5° С ниже климатической нормы. Потеплеет в Москве только к следующей пятнице.\n",
            "3. Погода в Москве и Подмосковье немного ухудшится: в выходные будет хоть и тепло, но местами пройдут дожди. На следующей неделе погода также будет неустойчивой, а ближе к концу апреля прогремят грозы. Температура, впрочем, порадует: она будет на несколько градусов выше нормы.\n",
            "4. Кратковременные дожди не испортят выходные в Москве. А на следующей неделе в столичном регионе ожидается возвращение жары, правда всего лишь на несколько дней.\n",
            "5. В ближайшие выходные столичный регион ожидают жара и грозы. Дожди немного понизят температуру, но к следующей среде в Москве снова будет +30° С.\n",
            "CPU times: user 83.1 ms, sys: 60.2 ms, total: 143 ms\n",
            "Wall time: 82.9 ms\n"
          ]
        }
      ]
    },
    {
      "cell_type": "markdown",
      "source": [
        "Политика"
      ],
      "metadata": {
        "id": "yt5evhEwl5wq"
      }
    },
    {
      "cell_type": "code",
      "source": [
        "result = search('Напряженность на востоке Украине', modelW2V, W2V_neigh)\n",
        "for i in range(len(result)):\n",
        "  print(f'{i+1}.', result[i]['summary'])"
      ],
      "metadata": {
        "colab": {
          "base_uri": "https://localhost:8080/"
        },
        "id": "Tp47n-ugfITj",
        "outputId": "904daa9c-82e2-4b7a-9035-f2616b9f03a7"
      },
      "execution_count": 182,
      "outputs": [
        {
          "output_type": "stream",
          "name": "stdout",
          "text": [
            "1. Премьер-министр Украины заявил, что Россия представляет собой опасность для Евросоюза и Украины, так как использует свой природный газ как оружие против них. Он отметил, что Европа может оказаться в полной зависимости от России из-за газа. При этом политик отмечает, что газотранспотрная система Украины может обеспечить поставку газа в Европу.\n",
            "2. Украина потеряет весь транзит российского газа в Европу, если Россия введет в эксплуатацию «Северный поток-2». А еще Россия достраивает «Турецкий поток». В таком случае у Киева не будет рычагов давления на Москву. В итоге эскалация военного конфликта неизбежна, убеждены на Украине.\n",
            "3. Петр Порошенко назвал Европу неполноценной без Украины и сказал, что Евросоюз и НАТО заинтересованы в украинском членстве. Ранее сообщалось, что в Кремле восприняли слова Порошенко о необходимости ввести корабли НАТО в Азовское море как попытку решить внутриполитические проблемы. Также, Москва пообещала, что не будет смотреть сквозь пальцы на размещение баз НАТО на Украине.\n",
            "4. Президент Украины Петр Порошенко заявил, что украинская армия станет одной из самых сильных в Европе. Такое обещание он сделал в преддверии военного парада в Киеве, запланированного на конец августа. Между тем эксперты скептически оценивают состояние вооруженных сил Украины.\n",
            "5. Возобновление попыток Украины вступить в НАТО на фоне угрозы распада страны — это шаг к эскалации конфликта в надежде на прямое военное вмешательство Запада. Предсказуемая реакция Москвы на такие попытки Киева делает шансы скорого достижения мира на Украине, как и на ее сохранение в нынешних границах, еще более призрачными.\n"
          ]
        }
      ]
    },
    {
      "cell_type": "code",
      "source": [
        "result = search('Напряженность на востоке Украине', modelFT, FT_neigh)\n",
        "for i in range(len(result)):\n",
        "  print(f'{i+1}.', result[i]['summary'])"
      ],
      "metadata": {
        "colab": {
          "base_uri": "https://localhost:8080/"
        },
        "id": "M8BSgtLZlzeR",
        "outputId": "3346b935-7f45-4f38-af51-8b8476ad134c"
      },
      "execution_count": 183,
      "outputs": [
        {
          "output_type": "stream",
          "name": "stdout",
          "text": [
            "1. Украина хочет, чтобы Россия вместе с украинской военной техникой из Крыма, передала под контроль Киева и сам полуостров. Об этом заявил премьер-министр Украины Владимир Гройсман. Ранее президент России Владимир Путин заявил о готовности передать Украине корабли и военные самолеты, а также посодействовать перемещению техники на украинскую территорию.\n",
            "2. Украина потеряет весь транзит российского газа в Европу, если Россия введет в эксплуатацию «Северный поток-2». А еще Россия достраивает «Турецкий поток». В таком случае у Киева не будет рычагов давления на Москву. В итоге эскалация военного конфликта неизбежна, убеждены на Украине.\n",
            "3. Президент Украины Петр Порошенко заявил, что украинская армия станет одной из самых сильных в Европе. Такое обещание он сделал в преддверии военного парада в Киеве, запланированного на конец августа. Между тем эксперты скептически оценивают состояние вооруженных сил Украины.\n",
            "4. Киев переименует боевые действия своих силовых структур против ополченцев самопровозглашенных Донецкой и Луганской народных республик на юге Украины с «антитеррористической операции» на «операцию по обороне Украины». Этот пункт будет значиться в законе о реинтеграции Донбасса в состав Украины.\n",
            "5. Политика Киева по возвращению Крыма и Донбасса под свой контроль силой может закончиться для Украины крахом, заявил бывший министр военного ведомства Украины Анатолий Гриценко. Он подчеркнул, что если в стране выберут президента, настроенного на возвращении территорий силой, то против Украины введут санкции и тогда она «закончится».\n"
          ]
        }
      ]
    },
    {
      "cell_type": "markdown",
      "source": [
        "Спорт"
      ],
      "metadata": {
        "id": "fPBCt6ZImB68"
      }
    },
    {
      "cell_type": "code",
      "source": [
        "result = search('Чемпионат мира по футболу', modelW2V, W2V_neigh)\n",
        "for i in range(len(result)):\n",
        "  print(f'{i+1}.', result[i]['summary'])"
      ],
      "metadata": {
        "colab": {
          "base_uri": "https://localhost:8080/"
        },
        "id": "59aIMva0fr2E",
        "outputId": "4a0eb744-2cce-472b-8392-fa7a060855cf"
      },
      "execution_count": 184,
      "outputs": [
        {
          "output_type": "stream",
          "name": "stdout",
          "text": [
            "1. Сборная Чехии победила команду Финляндии в матче за третье место на чемпионате мира и во второй раз подряд завоевала бронзовые медали мирового первенства.\n",
            "2. Сборная России без изменений в составе отправилась на шестой этап Кубка мира по биатлону, что пройдет в Антерсельве. После итальянского этапа команда начнет готовиться к чемпионату мира.\n",
            "3. В Чехии стартовал чемпионат мира U-18. В первом матче сборная России уверенно победила сверстников из Латвии.\n",
            "4. Сборная России победила команду Швеции в финале чемпионата мира и завоевала золотые медали. Россияне стали чемпионами мира в 21-й раз в истории этого вида спорта. Бронзовые медали остались за командой Казахстана.\n",
            "5. Сборная России по пляжному футболу обеспечила выход в четвертьфинал чемпионата мира, одержав во втором матче в группе С крупную победу над командой Таити.\n"
          ]
        }
      ]
    },
    {
      "cell_type": "code",
      "source": [
        "result = search('Чемпионат мира по футболу', modelFT, FT_neigh)\n",
        "for i in range(len(result)):\n",
        "  print(f'{i+1}.', result[i]['summary'])"
      ],
      "metadata": {
        "colab": {
          "base_uri": "https://localhost:8080/"
        },
        "id": "-Cmdbt4FmE8y",
        "outputId": "d55d50ad-960d-47b2-b87b-74ba0ac25d96"
      },
      "execution_count": 185,
      "outputs": [
        {
          "output_type": "stream",
          "name": "stdout",
          "text": [
            "1. Мужская сборная России по волейболу потерпела первое поражение на Кубке мира, проходящем в Японии, проиграв действующим чемпионам мира бразильцам в трех сетах.\n",
            "2. Сборная Чехии победила команду Финляндии в матче за третье место на чемпионате мира и во второй раз подряд завоевала бронзовые медали мирового первенства.\n",
            "3. Сборная России победила команду Швеции в финале чемпионата мира и завоевала золотые медали. Россияне стали чемпионами мира в 21-й раз в истории этого вида спорта. Бронзовые медали остались за командой Казахстана.\n",
            "4. Молодежная сборная США завоевала золотые медали чемпионата мира по хоккею, одержав волевую победу над шведами в финале.\n",
            "5. Сборная России без изменений в составе отправилась на шестой этап Кубка мира по биатлону, что пройдет в Антерсельве. После итальянского этапа команда начнет готовиться к чемпионату мира.\n"
          ]
        }
      ]
    },
    {
      "cell_type": "markdown",
      "source": [
        "Путешествия"
      ],
      "metadata": {
        "id": "lcKFOgeNmMq4"
      }
    },
    {
      "cell_type": "code",
      "source": [
        "result = search('Лучшие города Европы', modelW2V, W2V_neigh)\n",
        "for i in range(len(result)):\n",
        "  print(f'{i+1}.', result[i]['summary'])"
      ],
      "metadata": {
        "colab": {
          "base_uri": "https://localhost:8080/"
        },
        "id": "o_tIz1oTguyN",
        "outputId": "bd39d0e0-ad0d-4354-b6b5-f619194608e2"
      },
      "execution_count": 186,
      "outputs": [
        {
          "output_type": "stream",
          "name": "stdout",
          "text": [
            "1. В крымском селе Янтарное находится самое большое в Европе, а возможно и в мире, поле тюльпанов. Да-да, не в Голландии, а в Крыму.\n",
            "2. За последние несколько лет в России очень сильно возрос интерес к ставкам на спортивные события, в особенности к прогнозированию именно футбольных матчей. Наиболее популярными являются встречи Лиги чемпионов и баталии отборочного турнира чемпионата мира 2014 года, констатируют аналитики крупнейшей в Европе социальной сети для спортивных прогнозистов Bettingexpert.\n",
            "3. Россия оказалась на втором месте в Европе по дешевизне бензина, на первом – Казахстан. Самое дорогое топливо среди европейских стран — в Нидерландах. Но там и зарплаты совсем не те, что в странах, расположенных на постсоветском пространстве.\n",
            "4. Москва — город с самой высокой в мире стоимостью проживания в отелях. Дорожают номера в Канаде, Америке, Австралии и Африке, а в Европе падают, подсчитали аналитики британской компании Hogg Robinson Group. В лидерах же падения — Ближний Восток.\n",
            "5. Москва через три года может занять первое место в Европе по объему торговых площадей, подсчитали аналитики. Сейчас российскую столицу опережает Париж, за Москвой — Стамбул. Московский рынок торговой недвижимости развивается самыми быстрыми в Европе темпами: девелоперы ориентируются в основном на иностранных инвесторов.\n"
          ]
        }
      ]
    },
    {
      "cell_type": "code",
      "source": [
        "result = search('Лучшие города Европы', modelFT, FT_neigh)\n",
        "for i in range(len(result)):\n",
        "  print(f'{i+1}.', result[i]['summary'])"
      ],
      "metadata": {
        "colab": {
          "base_uri": "https://localhost:8080/"
        },
        "id": "cnwNibQ0mSh4",
        "outputId": "c1046f6f-3506-451b-bec0-2fa45b034e0f"
      },
      "execution_count": 187,
      "outputs": [
        {
          "output_type": "stream",
          "name": "stdout",
          "text": [
            "1. В крымском селе Янтарное находится самое большое в Европе, а возможно и в мире, поле тюльпанов. Да-да, не в Голландии, а в Крыму.\n",
            "2. Московская улица Остоженка вошла в десятку самых дорогих улиц мира. Элитное жилье в Москве продолжит дорожать, прогнозируют эксперты. В конкурентах Остоженки уже сейчас районы Патриарших прудов и Красный Октябрь.\n",
            "3. Москва и Санкт-Петербург находятся в самом конце рейтинга мировых финансовых центров, занимая 68-е и 71-е места соответственно. В тройке лидеров Лондон, Нью-Йорк и Гонконг. В ближайшие годы российская столица в десятку лидеров не переместится. Инвесторов сильнее привлекают азиатские города.\n",
            "4. Кроме традиционных европейских городов (Рим, Париж и Милан), российские граждане в эти новогодние праздники также посещают Стамбул и Бангкок. Но в целом их по-прежнему больше интересует пляжный туризм. В прошлом году отечественные туристы искали более дешевые туры и предпочитали самостоятельные поездки, без участия туроператора.\n",
            "5. В Москве стартовал сезон пляжных видов спорта. Целый ряд международных и всероссийских турниров по пляжному футболу и волейболу пройдет на территории недавно построенного на Химкинском водохранилище центра «Динамо».\n"
          ]
        }
      ]
    },
    {
      "cell_type": "markdown",
      "source": [
        "Запросы с опечатками"
      ],
      "metadata": {
        "id": "5cv5s2TQmcE6"
      }
    },
    {
      "cell_type": "code",
      "source": [
        "result = search('футтбольная лга чемпионв', modelW2V, W2V_neigh)\n",
        "for i in range(len(result)):\n",
        "  print(f'{i+1}.', result[i]['summary'])"
      ],
      "metadata": {
        "colab": {
          "base_uri": "https://localhost:8080/"
        },
        "id": "Czx9UkyqmhU7",
        "outputId": "07fe02bb-0cf8-4bcd-c149-0e31e3dd3ba2"
      },
      "execution_count": 188,
      "outputs": [
        {
          "output_type": "stream",
          "name": "stdout",
          "text": [
            "1. Вчера опять прибежала какая-то однокурсница, которую я видел пару раз, да и то мельком, и слёзно умоляла «спасти его». И я возвращал ей ее «его» к жизни до четырёх утра (!!!).\n",
            "2. Термин «офисный компьютер» сегодня всё чаще означает именно «ноутбук», а не более привычный конторским труженикам со стажем светло-серый «мини-тауэр» с замызганными клавиатурой, мышкой и подслеповатым монитором на 17 дюймов.\n",
            "3. Дневник ММКФ: Годар и Трюффо работают кинокритиками, сентиментальные мадьярки тоскуют по родине, Шаброль снова приглашает в «Ад».\n",
            "4. Ренуар и Суриков, Моне и Репин, Писсаро и Коровин, Пикассо и Серов, Менье и Архипов — в ГМИИ им.А.С. Пушкина открылась выставка-квест «Передвижники и импрессионисты. На пути в XX век».\n",
            "5. Концерт Ника Кейва с проектом Grinderman в полупустом «Крокус Сити Холле» превратился в инфернальную мистерию с надеванием заячьих ушек, похабными блюзами и красноволосыми танцовщицами.\n"
          ]
        }
      ]
    },
    {
      "cell_type": "code",
      "source": [
        "result = search('футтбольная лга чемпионв', modelFT, FT_neigh)\n",
        "for i in range(len(result)):\n",
        "  print(f'{i+1}.', result[i]['summary'])"
      ],
      "metadata": {
        "colab": {
          "base_uri": "https://localhost:8080/"
        },
        "id": "sjCLOT91mih2",
        "outputId": "5737b304-cee4-4afd-e327-2239d42953d0"
      },
      "execution_count": 189,
      "outputs": [
        {
          "output_type": "stream",
          "name": "stdout",
          "text": [
            "1. Соперник «Спартака» по Лиге чемпионов «Бенфика» разгромила «Насьональ» и сохранила за собой первую строчку в чемпионате Португалии.\n",
            "2. Соперник московского «Спартака» по Лиге чемпионов «Селтик» обыграл в чемпионате Шотландии «Данди», а соперник «Зенита» «Андрелехт» — «Зюлте-Варегем» в чемпионате Бельгии.\n",
            "3. Соперник «Спартака» по Лиге чемпионов словацкая «Жилина» в своем чемпионате уверенно разобралась с «Дубницей» и вышла на первое место. Соперник же «Рубина» в Лиге чемпионов «Панатинаикос» только благодаря голам Джибриля Сиссе избежал поражения от «Кавалы» в чемпионате Греции.\n",
            "4. Заключительные матчи группового этапа Лиги чемпионов определят три последних участника Лиги чемпионов. Судьба «Ювентуса», «Галатасарая» и «Бенфики» находится в их руках, тогда как «Челси» должен ждать поражение туринского клуба в Донецке от «Шахтера».\n",
            "5. «Бавария» за шесть туров до финиша чемпионата Германии стала чемпионом, вернув себе почетный титул спустя два сезона. Следующая задача команды Юппа Хайнкеса – победа в Лиге чемпионов.\n"
          ]
        }
      ]
    },
    {
      "cell_type": "markdown",
      "source": [
        "### Вывод:"
      ],
      "metadata": {
        "id": "xk_eA2jZgme6"
      }
    },
    {
      "cell_type": "markdown",
      "source": [
        "В целом мини поисковые системы получились неплохии, они конечно не улавливают контекст, но они хотя бы разграничивают тематики: погода, политики, спорт и т.д.\n",
        "\n",
        "Стоит отметить, что word2vec по ощущениям точнее, даже если посмотреть пример с телефон/связь/ваза, видно, что word2vec сильнее различает эти слова, так как его вектор не зашумляется n-граммами слов.\n",
        "\n",
        "Но при этом он вообще никак не может работать с опечатками и новыми словами в отличии от fasttext, это является очень серьезным минусом, поэтому я бы почти всегда выбирал fasttext, а для продакшена, просто всегда."
      ],
      "metadata": {
        "id": "7bRD2KYPgLV6"
      }
    }
  ]
}