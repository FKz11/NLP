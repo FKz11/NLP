{
  "nbformat": 4,
  "nbformat_minor": 0,
  "metadata": {
    "colab": {
      "provenance": [],
      "collapsed_sections": [],
      "include_colab_link": true
    },
    "kernelspec": {
      "name": "python3",
      "display_name": "Python 3"
    },
    "language_info": {
      "name": "python"
    },
    "gpuClass": "standard",
    "accelerator": "GPU"
  },
  "cells": [
    {
      "cell_type": "markdown",
      "metadata": {
        "id": "view-in-github",
        "colab_type": "text"
      },
      "source": [
        "<a href=\"https://colab.research.google.com/github/FKz11/NLP/blob/main/lesson_7.ipynb\" target=\"_parent\"><img src=\"https://colab.research.google.com/assets/colab-badge.svg\" alt=\"Open In Colab\"/></a>"
      ]
    },
    {
      "cell_type": "markdown",
      "source": [
        "# Lesson-7"
      ],
      "metadata": {
        "id": "BO4prfKrif7K"
      }
    },
    {
      "cell_type": "markdown",
      "source": [
        "### Библиотеки:"
      ],
      "metadata": {
        "id": "ZMXROkKYj6Ak"
      }
    },
    {
      "cell_type": "code",
      "source": [
        "import pandas as pd\n",
        "import numpy as np\n",
        "\n",
        "from sklearn.model_selection import train_test_split"
      ],
      "metadata": {
        "id": "x65-r1bOkP51"
      },
      "execution_count": null,
      "outputs": []
    },
    {
      "cell_type": "markdown",
      "source": [
        "### Данные:"
      ],
      "metadata": {
        "id": "bF-GzkCij8EN"
      }
    },
    {
      "cell_type": "code",
      "execution_count": null,
      "metadata": {
        "colab": {
          "base_uri": "https://localhost:8080/"
        },
        "id": "tNO7EK8xicvW",
        "outputId": "75dce4a1-b95f-4535-fa2b-969dec66dfd8"
      },
      "outputs": [
        {
          "output_type": "stream",
          "name": "stdout",
          "text": [
            "Mounted at /content/drive\n"
          ]
        }
      ],
      "source": [
        "from google.colab import drive\n",
        "drive.mount('/content/drive')"
      ]
    },
    {
      "cell_type": "code",
      "source": [
        "df = pd.read_csv('/content/drive/MyDrive/Colab Notebooks/Отзывы за лето.csv', encoding=\"windows-1251\", sep=';')\n",
        "df.head()"
      ],
      "metadata": {
        "colab": {
          "base_uri": "https://localhost:8080/",
          "height": 206
        },
        "id": "GOve5RqjkQvm",
        "outputId": "5ba7798d-ef4f-47da-dff3-cceff3371e8e"
      },
      "execution_count": null,
      "outputs": [
        {
          "output_type": "execute_result",
          "data": {
            "text/plain": [
              "   Rating                                            Content        Date\n",
              "0       5                                     It just works!  2017-08-14\n",
              "1       4  В целом удобноное приложение...из минусов хотя...  2017-08-14\n",
              "2       5                                        Отлично все  2017-08-14\n",
              "3       5  Стал зависать на 1% работы антивируса. Дальше ...  2017-08-14\n",
              "4       5                     Очень удобно, работает быстро.  2017-08-14"
            ],
            "text/html": [
              "\n",
              "  <div id=\"df-4e494769-3935-4597-875f-4d1c7513ea79\">\n",
              "    <div class=\"colab-df-container\">\n",
              "      <div>\n",
              "<style scoped>\n",
              "    .dataframe tbody tr th:only-of-type {\n",
              "        vertical-align: middle;\n",
              "    }\n",
              "\n",
              "    .dataframe tbody tr th {\n",
              "        vertical-align: top;\n",
              "    }\n",
              "\n",
              "    .dataframe thead th {\n",
              "        text-align: right;\n",
              "    }\n",
              "</style>\n",
              "<table border=\"1\" class=\"dataframe\">\n",
              "  <thead>\n",
              "    <tr style=\"text-align: right;\">\n",
              "      <th></th>\n",
              "      <th>Rating</th>\n",
              "      <th>Content</th>\n",
              "      <th>Date</th>\n",
              "    </tr>\n",
              "  </thead>\n",
              "  <tbody>\n",
              "    <tr>\n",
              "      <th>0</th>\n",
              "      <td>5</td>\n",
              "      <td>It just works!</td>\n",
              "      <td>2017-08-14</td>\n",
              "    </tr>\n",
              "    <tr>\n",
              "      <th>1</th>\n",
              "      <td>4</td>\n",
              "      <td>В целом удобноное приложение...из минусов хотя...</td>\n",
              "      <td>2017-08-14</td>\n",
              "    </tr>\n",
              "    <tr>\n",
              "      <th>2</th>\n",
              "      <td>5</td>\n",
              "      <td>Отлично все</td>\n",
              "      <td>2017-08-14</td>\n",
              "    </tr>\n",
              "    <tr>\n",
              "      <th>3</th>\n",
              "      <td>5</td>\n",
              "      <td>Стал зависать на 1% работы антивируса. Дальше ...</td>\n",
              "      <td>2017-08-14</td>\n",
              "    </tr>\n",
              "    <tr>\n",
              "      <th>4</th>\n",
              "      <td>5</td>\n",
              "      <td>Очень удобно, работает быстро.</td>\n",
              "      <td>2017-08-14</td>\n",
              "    </tr>\n",
              "  </tbody>\n",
              "</table>\n",
              "</div>\n",
              "      <button class=\"colab-df-convert\" onclick=\"convertToInteractive('df-4e494769-3935-4597-875f-4d1c7513ea79')\"\n",
              "              title=\"Convert this dataframe to an interactive table.\"\n",
              "              style=\"display:none;\">\n",
              "        \n",
              "  <svg xmlns=\"http://www.w3.org/2000/svg\" height=\"24px\"viewBox=\"0 0 24 24\"\n",
              "       width=\"24px\">\n",
              "    <path d=\"M0 0h24v24H0V0z\" fill=\"none\"/>\n",
              "    <path d=\"M18.56 5.44l.94 2.06.94-2.06 2.06-.94-2.06-.94-.94-2.06-.94 2.06-2.06.94zm-11 1L8.5 8.5l.94-2.06 2.06-.94-2.06-.94L8.5 2.5l-.94 2.06-2.06.94zm10 10l.94 2.06.94-2.06 2.06-.94-2.06-.94-.94-2.06-.94 2.06-2.06.94z\"/><path d=\"M17.41 7.96l-1.37-1.37c-.4-.4-.92-.59-1.43-.59-.52 0-1.04.2-1.43.59L10.3 9.45l-7.72 7.72c-.78.78-.78 2.05 0 2.83L4 21.41c.39.39.9.59 1.41.59.51 0 1.02-.2 1.41-.59l7.78-7.78 2.81-2.81c.8-.78.8-2.07 0-2.86zM5.41 20L4 18.59l7.72-7.72 1.47 1.35L5.41 20z\"/>\n",
              "  </svg>\n",
              "      </button>\n",
              "      \n",
              "  <style>\n",
              "    .colab-df-container {\n",
              "      display:flex;\n",
              "      flex-wrap:wrap;\n",
              "      gap: 12px;\n",
              "    }\n",
              "\n",
              "    .colab-df-convert {\n",
              "      background-color: #E8F0FE;\n",
              "      border: none;\n",
              "      border-radius: 50%;\n",
              "      cursor: pointer;\n",
              "      display: none;\n",
              "      fill: #1967D2;\n",
              "      height: 32px;\n",
              "      padding: 0 0 0 0;\n",
              "      width: 32px;\n",
              "    }\n",
              "\n",
              "    .colab-df-convert:hover {\n",
              "      background-color: #E2EBFA;\n",
              "      box-shadow: 0px 1px 2px rgba(60, 64, 67, 0.3), 0px 1px 3px 1px rgba(60, 64, 67, 0.15);\n",
              "      fill: #174EA6;\n",
              "    }\n",
              "\n",
              "    [theme=dark] .colab-df-convert {\n",
              "      background-color: #3B4455;\n",
              "      fill: #D2E3FC;\n",
              "    }\n",
              "\n",
              "    [theme=dark] .colab-df-convert:hover {\n",
              "      background-color: #434B5C;\n",
              "      box-shadow: 0px 1px 3px 1px rgba(0, 0, 0, 0.15);\n",
              "      filter: drop-shadow(0px 1px 2px rgba(0, 0, 0, 0.3));\n",
              "      fill: #FFFFFF;\n",
              "    }\n",
              "  </style>\n",
              "\n",
              "      <script>\n",
              "        const buttonEl =\n",
              "          document.querySelector('#df-4e494769-3935-4597-875f-4d1c7513ea79 button.colab-df-convert');\n",
              "        buttonEl.style.display =\n",
              "          google.colab.kernel.accessAllowed ? 'block' : 'none';\n",
              "\n",
              "        async function convertToInteractive(key) {\n",
              "          const element = document.querySelector('#df-4e494769-3935-4597-875f-4d1c7513ea79');\n",
              "          const dataTable =\n",
              "            await google.colab.kernel.invokeFunction('convertToInteractive',\n",
              "                                                     [key], {});\n",
              "          if (!dataTable) return;\n",
              "\n",
              "          const docLinkHtml = 'Like what you see? Visit the ' +\n",
              "            '<a target=\"_blank\" href=https://colab.research.google.com/notebooks/data_table.ipynb>data table notebook</a>'\n",
              "            + ' to learn more about interactive tables.';\n",
              "          element.innerHTML = '';\n",
              "          dataTable['output_type'] = 'display_data';\n",
              "          await google.colab.output.renderOutput(dataTable, element);\n",
              "          const docLink = document.createElement('div');\n",
              "          docLink.innerHTML = docLinkHtml;\n",
              "          element.appendChild(docLink);\n",
              "        }\n",
              "      </script>\n",
              "    </div>\n",
              "  </div>\n",
              "  "
            ]
          },
          "metadata": {},
          "execution_count": 3
        }
      ]
    },
    {
      "cell_type": "code",
      "source": [
        "X_train, X_test, y_train, y_test = train_test_split(df.drop('Rating', axis=1), df['Rating'], random_state=42)\n",
        "X_train.head()"
      ],
      "metadata": {
        "colab": {
          "base_uri": "https://localhost:8080/",
          "height": 206
        },
        "id": "Be33IqCykkJI",
        "outputId": "f8ac590e-ecf7-450c-ba3e-d90776adb61a"
      },
      "execution_count": null,
      "outputs": [
        {
          "output_type": "execute_result",
          "data": {
            "text/plain": [
              "                                                 Content        Date\n",
              "6926                             Отличное приложение))))  2017-08-04\n",
              "6735                                              Олекум  2017-08-04\n",
              "149    Хорошее приложение, но «антивирус» очень загру...  2017-08-14\n",
              "3069                                             Потянет  2017-08-09\n",
              "17455  Ужасное приложение положил деньги и они испари...  2017-07-11"
            ],
            "text/html": [
              "\n",
              "  <div id=\"df-dce55bbe-6c65-4039-abc0-3e029253ce47\">\n",
              "    <div class=\"colab-df-container\">\n",
              "      <div>\n",
              "<style scoped>\n",
              "    .dataframe tbody tr th:only-of-type {\n",
              "        vertical-align: middle;\n",
              "    }\n",
              "\n",
              "    .dataframe tbody tr th {\n",
              "        vertical-align: top;\n",
              "    }\n",
              "\n",
              "    .dataframe thead th {\n",
              "        text-align: right;\n",
              "    }\n",
              "</style>\n",
              "<table border=\"1\" class=\"dataframe\">\n",
              "  <thead>\n",
              "    <tr style=\"text-align: right;\">\n",
              "      <th></th>\n",
              "      <th>Content</th>\n",
              "      <th>Date</th>\n",
              "    </tr>\n",
              "  </thead>\n",
              "  <tbody>\n",
              "    <tr>\n",
              "      <th>6926</th>\n",
              "      <td>Отличное приложение))))</td>\n",
              "      <td>2017-08-04</td>\n",
              "    </tr>\n",
              "    <tr>\n",
              "      <th>6735</th>\n",
              "      <td>Олекум</td>\n",
              "      <td>2017-08-04</td>\n",
              "    </tr>\n",
              "    <tr>\n",
              "      <th>149</th>\n",
              "      <td>Хорошее приложение, но «антивирус» очень загру...</td>\n",
              "      <td>2017-08-14</td>\n",
              "    </tr>\n",
              "    <tr>\n",
              "      <th>3069</th>\n",
              "      <td>Потянет</td>\n",
              "      <td>2017-08-09</td>\n",
              "    </tr>\n",
              "    <tr>\n",
              "      <th>17455</th>\n",
              "      <td>Ужасное приложение положил деньги и они испари...</td>\n",
              "      <td>2017-07-11</td>\n",
              "    </tr>\n",
              "  </tbody>\n",
              "</table>\n",
              "</div>\n",
              "      <button class=\"colab-df-convert\" onclick=\"convertToInteractive('df-dce55bbe-6c65-4039-abc0-3e029253ce47')\"\n",
              "              title=\"Convert this dataframe to an interactive table.\"\n",
              "              style=\"display:none;\">\n",
              "        \n",
              "  <svg xmlns=\"http://www.w3.org/2000/svg\" height=\"24px\"viewBox=\"0 0 24 24\"\n",
              "       width=\"24px\">\n",
              "    <path d=\"M0 0h24v24H0V0z\" fill=\"none\"/>\n",
              "    <path d=\"M18.56 5.44l.94 2.06.94-2.06 2.06-.94-2.06-.94-.94-2.06-.94 2.06-2.06.94zm-11 1L8.5 8.5l.94-2.06 2.06-.94-2.06-.94L8.5 2.5l-.94 2.06-2.06.94zm10 10l.94 2.06.94-2.06 2.06-.94-2.06-.94-.94-2.06-.94 2.06-2.06.94z\"/><path d=\"M17.41 7.96l-1.37-1.37c-.4-.4-.92-.59-1.43-.59-.52 0-1.04.2-1.43.59L10.3 9.45l-7.72 7.72c-.78.78-.78 2.05 0 2.83L4 21.41c.39.39.9.59 1.41.59.51 0 1.02-.2 1.41-.59l7.78-7.78 2.81-2.81c.8-.78.8-2.07 0-2.86zM5.41 20L4 18.59l7.72-7.72 1.47 1.35L5.41 20z\"/>\n",
              "  </svg>\n",
              "      </button>\n",
              "      \n",
              "  <style>\n",
              "    .colab-df-container {\n",
              "      display:flex;\n",
              "      flex-wrap:wrap;\n",
              "      gap: 12px;\n",
              "    }\n",
              "\n",
              "    .colab-df-convert {\n",
              "      background-color: #E8F0FE;\n",
              "      border: none;\n",
              "      border-radius: 50%;\n",
              "      cursor: pointer;\n",
              "      display: none;\n",
              "      fill: #1967D2;\n",
              "      height: 32px;\n",
              "      padding: 0 0 0 0;\n",
              "      width: 32px;\n",
              "    }\n",
              "\n",
              "    .colab-df-convert:hover {\n",
              "      background-color: #E2EBFA;\n",
              "      box-shadow: 0px 1px 2px rgba(60, 64, 67, 0.3), 0px 1px 3px 1px rgba(60, 64, 67, 0.15);\n",
              "      fill: #174EA6;\n",
              "    }\n",
              "\n",
              "    [theme=dark] .colab-df-convert {\n",
              "      background-color: #3B4455;\n",
              "      fill: #D2E3FC;\n",
              "    }\n",
              "\n",
              "    [theme=dark] .colab-df-convert:hover {\n",
              "      background-color: #434B5C;\n",
              "      box-shadow: 0px 1px 3px 1px rgba(0, 0, 0, 0.15);\n",
              "      filter: drop-shadow(0px 1px 2px rgba(0, 0, 0, 0.3));\n",
              "      fill: #FFFFFF;\n",
              "    }\n",
              "  </style>\n",
              "\n",
              "      <script>\n",
              "        const buttonEl =\n",
              "          document.querySelector('#df-dce55bbe-6c65-4039-abc0-3e029253ce47 button.colab-df-convert');\n",
              "        buttonEl.style.display =\n",
              "          google.colab.kernel.accessAllowed ? 'block' : 'none';\n",
              "\n",
              "        async function convertToInteractive(key) {\n",
              "          const element = document.querySelector('#df-dce55bbe-6c65-4039-abc0-3e029253ce47');\n",
              "          const dataTable =\n",
              "            await google.colab.kernel.invokeFunction('convertToInteractive',\n",
              "                                                     [key], {});\n",
              "          if (!dataTable) return;\n",
              "\n",
              "          const docLinkHtml = 'Like what you see? Visit the ' +\n",
              "            '<a target=\"_blank\" href=https://colab.research.google.com/notebooks/data_table.ipynb>data table notebook</a>'\n",
              "            + ' to learn more about interactive tables.';\n",
              "          element.innerHTML = '';\n",
              "          dataTable['output_type'] = 'display_data';\n",
              "          await google.colab.output.renderOutput(dataTable, element);\n",
              "          const docLink = document.createElement('div');\n",
              "          docLink.innerHTML = docLinkHtml;\n",
              "          element.appendChild(docLink);\n",
              "        }\n",
              "      </script>\n",
              "    </div>\n",
              "  </div>\n",
              "  "
            ]
          },
          "metadata": {},
          "execution_count": 4
        }
      ]
    },
    {
      "cell_type": "code",
      "source": [
        "y_train.value_counts()"
      ],
      "metadata": {
        "colab": {
          "base_uri": "https://localhost:8080/"
        },
        "id": "CfMUShqLgxXv",
        "outputId": "4f2e039f-abc9-4994-ae26-4f8e3526d403"
      },
      "execution_count": null,
      "outputs": [
        {
          "output_type": "execute_result",
          "data": {
            "text/plain": [
              "5    10933\n",
              "1     1699\n",
              "4     1627\n",
              "3      677\n",
              "2      558\n",
              "Name: Rating, dtype: int64"
            ]
          },
          "metadata": {},
          "execution_count": 5
        }
      ]
    },
    {
      "cell_type": "code",
      "source": [
        "disbalance=(y_train.value_counts().sort_index().max()/y_train.value_counts().sort_index()).values\n",
        "disbalance"
      ],
      "metadata": {
        "colab": {
          "base_uri": "https://localhost:8080/"
        },
        "id": "crEtu7cbDxZY",
        "outputId": "98357119-5ef6-4292-8006-d37c68900c65"
      },
      "execution_count": null,
      "outputs": [
        {
          "output_type": "execute_result",
          "data": {
            "text/plain": [
              "array([ 6.43496174, 19.59318996, 16.14918759,  6.71972956,  1.        ])"
            ]
          },
          "metadata": {},
          "execution_count": 6
        }
      ]
    },
    {
      "cell_type": "markdown",
      "source": [
        "### Предобработка"
      ],
      "metadata": {
        "id": "Dv5vjhjvneZQ"
      }
    },
    {
      "cell_type": "code",
      "source": [
        "!pip install -qq stop_words\n",
        "!pip install -qq pymorphy2"
      ],
      "metadata": {
        "id": "LpNr6paJrOBM",
        "colab": {
          "base_uri": "https://localhost:8080/"
        },
        "outputId": "45e4ecf3-59b6-40f2-8a17-ef6d0e48454b"
      },
      "execution_count": null,
      "outputs": [
        {
          "output_type": "stream",
          "name": "stdout",
          "text": [
            "  Building wheel for stop-words (setup.py) ... \u001b[?25l\u001b[?25hdone\n",
            "\u001b[K     |████████████████████████████████| 55 kB 2.8 MB/s \n",
            "\u001b[K     |████████████████████████████████| 8.2 MB 8.1 MB/s \n",
            "\u001b[?25h  Building wheel for docopt (setup.py) ... \u001b[?25l\u001b[?25hdone\n"
          ]
        }
      ]
    },
    {
      "cell_type": "code",
      "source": [
        "from string import punctuation\n",
        "from stop_words import get_stop_words\n",
        "from pymorphy2 import MorphAnalyzer"
      ],
      "metadata": {
        "id": "ohAYNVmhpYwP"
      },
      "execution_count": null,
      "outputs": []
    },
    {
      "cell_type": "code",
      "source": [
        "import nltk\n",
        "nltk.download('punkt')"
      ],
      "metadata": {
        "colab": {
          "base_uri": "https://localhost:8080/"
        },
        "id": "zcVUXyZatIED",
        "outputId": "bc9f8bca-0741-4eeb-dff3-31f3a0fd81df"
      },
      "execution_count": null,
      "outputs": [
        {
          "output_type": "stream",
          "name": "stderr",
          "text": [
            "[nltk_data] Downloading package punkt to /root/nltk_data...\n",
            "[nltk_data]   Unzipping tokenizers/punkt.zip.\n"
          ]
        },
        {
          "output_type": "execute_result",
          "data": {
            "text/plain": [
              "True"
            ]
          },
          "metadata": {},
          "execution_count": 9
        }
      ]
    },
    {
      "cell_type": "code",
      "source": [
        "sw = set(get_stop_words(\"ru\"))\n",
        "exclude = set(punctuation)\n",
        "morpher = MorphAnalyzer()\n",
        "\n",
        "def preprocess_text(txt):\n",
        "    txt = str(txt)\n",
        "    txt = \"\".join(c for c in txt if c not in exclude)\n",
        "    txt = txt.lower()\n",
        "    txt = [morpher.parse(word)[0].normal_form for word in nltk.word_tokenize(txt) if word not in sw]\n",
        "    return \" \".join(txt)\n",
        "\n",
        "X_train['Content_preprocess'] = X_train['Content'].apply(preprocess_text)\n",
        "X_test['Content_preprocess'] = X_test['Content'].apply(preprocess_text)\n",
        "X_train.head()"
      ],
      "metadata": {
        "colab": {
          "base_uri": "https://localhost:8080/",
          "height": 206
        },
        "id": "YPP-fRgXrcR1",
        "outputId": "cd9fec38-f7fa-47a7-9879-a587b6486b94"
      },
      "execution_count": null,
      "outputs": [
        {
          "output_type": "execute_result",
          "data": {
            "text/plain": [
              "                                                 Content        Date  \\\n",
              "6926                             Отличное приложение))))  2017-08-04   \n",
              "6735                                              Олекум  2017-08-04   \n",
              "149    Хорошее приложение, но «антивирус» очень загру...  2017-08-14   \n",
              "3069                                             Потянет  2017-08-09   \n",
              "17455  Ужасное приложение положил деньги и они испари...  2017-07-11   \n",
              "\n",
              "                                      Content_preprocess  \n",
              "6926                                 отличный приложение  \n",
              "6735                                             олекума  \n",
              "149    хороший приложение « антивирус » загружать сис...  \n",
              "3069                                            потянуть  \n",
              "17455  ужасный приложение положить деньга испариться ...  "
            ],
            "text/html": [
              "\n",
              "  <div id=\"df-422f39bd-8758-45e3-882c-4e6d4e97f8b8\">\n",
              "    <div class=\"colab-df-container\">\n",
              "      <div>\n",
              "<style scoped>\n",
              "    .dataframe tbody tr th:only-of-type {\n",
              "        vertical-align: middle;\n",
              "    }\n",
              "\n",
              "    .dataframe tbody tr th {\n",
              "        vertical-align: top;\n",
              "    }\n",
              "\n",
              "    .dataframe thead th {\n",
              "        text-align: right;\n",
              "    }\n",
              "</style>\n",
              "<table border=\"1\" class=\"dataframe\">\n",
              "  <thead>\n",
              "    <tr style=\"text-align: right;\">\n",
              "      <th></th>\n",
              "      <th>Content</th>\n",
              "      <th>Date</th>\n",
              "      <th>Content_preprocess</th>\n",
              "    </tr>\n",
              "  </thead>\n",
              "  <tbody>\n",
              "    <tr>\n",
              "      <th>6926</th>\n",
              "      <td>Отличное приложение))))</td>\n",
              "      <td>2017-08-04</td>\n",
              "      <td>отличный приложение</td>\n",
              "    </tr>\n",
              "    <tr>\n",
              "      <th>6735</th>\n",
              "      <td>Олекум</td>\n",
              "      <td>2017-08-04</td>\n",
              "      <td>олекума</td>\n",
              "    </tr>\n",
              "    <tr>\n",
              "      <th>149</th>\n",
              "      <td>Хорошее приложение, но «антивирус» очень загру...</td>\n",
              "      <td>2017-08-14</td>\n",
              "      <td>хороший приложение « антивирус » загружать сис...</td>\n",
              "    </tr>\n",
              "    <tr>\n",
              "      <th>3069</th>\n",
              "      <td>Потянет</td>\n",
              "      <td>2017-08-09</td>\n",
              "      <td>потянуть</td>\n",
              "    </tr>\n",
              "    <tr>\n",
              "      <th>17455</th>\n",
              "      <td>Ужасное приложение положил деньги и они испари...</td>\n",
              "      <td>2017-07-11</td>\n",
              "      <td>ужасный приложение положить деньга испариться ...</td>\n",
              "    </tr>\n",
              "  </tbody>\n",
              "</table>\n",
              "</div>\n",
              "      <button class=\"colab-df-convert\" onclick=\"convertToInteractive('df-422f39bd-8758-45e3-882c-4e6d4e97f8b8')\"\n",
              "              title=\"Convert this dataframe to an interactive table.\"\n",
              "              style=\"display:none;\">\n",
              "        \n",
              "  <svg xmlns=\"http://www.w3.org/2000/svg\" height=\"24px\"viewBox=\"0 0 24 24\"\n",
              "       width=\"24px\">\n",
              "    <path d=\"M0 0h24v24H0V0z\" fill=\"none\"/>\n",
              "    <path d=\"M18.56 5.44l.94 2.06.94-2.06 2.06-.94-2.06-.94-.94-2.06-.94 2.06-2.06.94zm-11 1L8.5 8.5l.94-2.06 2.06-.94-2.06-.94L8.5 2.5l-.94 2.06-2.06.94zm10 10l.94 2.06.94-2.06 2.06-.94-2.06-.94-.94-2.06-.94 2.06-2.06.94z\"/><path d=\"M17.41 7.96l-1.37-1.37c-.4-.4-.92-.59-1.43-.59-.52 0-1.04.2-1.43.59L10.3 9.45l-7.72 7.72c-.78.78-.78 2.05 0 2.83L4 21.41c.39.39.9.59 1.41.59.51 0 1.02-.2 1.41-.59l7.78-7.78 2.81-2.81c.8-.78.8-2.07 0-2.86zM5.41 20L4 18.59l7.72-7.72 1.47 1.35L5.41 20z\"/>\n",
              "  </svg>\n",
              "      </button>\n",
              "      \n",
              "  <style>\n",
              "    .colab-df-container {\n",
              "      display:flex;\n",
              "      flex-wrap:wrap;\n",
              "      gap: 12px;\n",
              "    }\n",
              "\n",
              "    .colab-df-convert {\n",
              "      background-color: #E8F0FE;\n",
              "      border: none;\n",
              "      border-radius: 50%;\n",
              "      cursor: pointer;\n",
              "      display: none;\n",
              "      fill: #1967D2;\n",
              "      height: 32px;\n",
              "      padding: 0 0 0 0;\n",
              "      width: 32px;\n",
              "    }\n",
              "\n",
              "    .colab-df-convert:hover {\n",
              "      background-color: #E2EBFA;\n",
              "      box-shadow: 0px 1px 2px rgba(60, 64, 67, 0.3), 0px 1px 3px 1px rgba(60, 64, 67, 0.15);\n",
              "      fill: #174EA6;\n",
              "    }\n",
              "\n",
              "    [theme=dark] .colab-df-convert {\n",
              "      background-color: #3B4455;\n",
              "      fill: #D2E3FC;\n",
              "    }\n",
              "\n",
              "    [theme=dark] .colab-df-convert:hover {\n",
              "      background-color: #434B5C;\n",
              "      box-shadow: 0px 1px 3px 1px rgba(0, 0, 0, 0.15);\n",
              "      filter: drop-shadow(0px 1px 2px rgba(0, 0, 0, 0.3));\n",
              "      fill: #FFFFFF;\n",
              "    }\n",
              "  </style>\n",
              "\n",
              "      <script>\n",
              "        const buttonEl =\n",
              "          document.querySelector('#df-422f39bd-8758-45e3-882c-4e6d4e97f8b8 button.colab-df-convert');\n",
              "        buttonEl.style.display =\n",
              "          google.colab.kernel.accessAllowed ? 'block' : 'none';\n",
              "\n",
              "        async function convertToInteractive(key) {\n",
              "          const element = document.querySelector('#df-422f39bd-8758-45e3-882c-4e6d4e97f8b8');\n",
              "          const dataTable =\n",
              "            await google.colab.kernel.invokeFunction('convertToInteractive',\n",
              "                                                     [key], {});\n",
              "          if (!dataTable) return;\n",
              "\n",
              "          const docLinkHtml = 'Like what you see? Visit the ' +\n",
              "            '<a target=\"_blank\" href=https://colab.research.google.com/notebooks/data_table.ipynb>data table notebook</a>'\n",
              "            + ' to learn more about interactive tables.';\n",
              "          element.innerHTML = '';\n",
              "          dataTable['output_type'] = 'display_data';\n",
              "          await google.colab.output.renderOutput(dataTable, element);\n",
              "          const docLink = document.createElement('div');\n",
              "          docLink.innerHTML = docLinkHtml;\n",
              "          element.appendChild(docLink);\n",
              "        }\n",
              "      </script>\n",
              "    </div>\n",
              "  </div>\n",
              "  "
            ]
          },
          "metadata": {},
          "execution_count": 10
        }
      ]
    },
    {
      "cell_type": "code",
      "source": [
        "from collections import Counter"
      ],
      "metadata": {
        "id": "ixvGf3yDvVUH"
      },
      "execution_count": null,
      "outputs": []
    },
    {
      "cell_type": "code",
      "source": [
        "corpus = (\" \".join(X_train['Content_preprocess'])).split()\n",
        "corpus_count = Counter(corpus)\n",
        "corpus_count.most_common(10)"
      ],
      "metadata": {
        "colab": {
          "base_uri": "https://localhost:8080/"
        },
        "id": "A4bPDy3LtRj4",
        "outputId": "8b5ad73d-b6d9-4820-e0d1-832b5822241d"
      },
      "execution_count": null,
      "outputs": [
        {
          "output_type": "execute_result",
          "data": {
            "text/plain": [
              "[('приложение', 4849),\n",
              " ('удобно', 2495),\n",
              " ('работать', 1483),\n",
              " ('удобный', 1336),\n",
              " ('отлично', 968),\n",
              " ('нравиться', 858),\n",
              " ('хороший', 770),\n",
              " ('отличный', 758),\n",
              " ('телефон', 750),\n",
              " ('супер', 628)]"
            ]
          },
          "metadata": {},
          "execution_count": 12
        }
      ]
    },
    {
      "cell_type": "code",
      "source": [
        "max_words_true = len(corpus_count)\n",
        "max_words_true"
      ],
      "metadata": {
        "colab": {
          "base_uri": "https://localhost:8080/"
        },
        "id": "EPdHcCds3V0b",
        "outputId": "b7b225d7-f73c-4e05-c89a-cce5d82c3876"
      },
      "execution_count": null,
      "outputs": [
        {
          "output_type": "execute_result",
          "data": {
            "text/plain": [
              "9064"
            ]
          },
          "metadata": {},
          "execution_count": 13
        }
      ]
    },
    {
      "cell_type": "code",
      "source": [
        "MAX_WORDS = max_words_true\n",
        "MAX_WORDS"
      ],
      "metadata": {
        "colab": {
          "base_uri": "https://localhost:8080/"
        },
        "id": "-ZsrwuPNvCDU",
        "outputId": "217110fe-d18e-492c-c83e-7bbfa146664e"
      },
      "execution_count": null,
      "outputs": [
        {
          "output_type": "execute_result",
          "data": {
            "text/plain": [
              "9064"
            ]
          },
          "metadata": {},
          "execution_count": 14
        }
      ]
    },
    {
      "cell_type": "code",
      "source": [
        "vocabulary = {j:i for i, (j, _) in enumerate(corpus_count.most_common()[:MAX_WORDS], 1)}\n",
        "list(vocabulary.items())[:10]"
      ],
      "metadata": {
        "colab": {
          "base_uri": "https://localhost:8080/"
        },
        "id": "Dp7ECFrxzY9c",
        "outputId": "52091e30-9660-496c-a6f6-ac8ce84d22e5"
      },
      "execution_count": null,
      "outputs": [
        {
          "output_type": "execute_result",
          "data": {
            "text/plain": [
              "[('приложение', 1),\n",
              " ('удобно', 2),\n",
              " ('работать', 3),\n",
              " ('удобный', 4),\n",
              " ('отлично', 5),\n",
              " ('нравиться', 6),\n",
              " ('хороший', 7),\n",
              " ('отличный', 8),\n",
              " ('телефон', 9),\n",
              " ('супер', 10)]"
            ]
          },
          "metadata": {},
          "execution_count": 15
        }
      ]
    },
    {
      "cell_type": "code",
      "source": [
        "max_len_true = max([len(txt) for txt in X_train['Content_preprocess']])\n",
        "max_len_true"
      ],
      "metadata": {
        "colab": {
          "base_uri": "https://localhost:8080/"
        },
        "id": "6PE4ptTX3NVF",
        "outputId": "3685210f-b405-4730-bb20-62bc90b5c7b9"
      },
      "execution_count": null,
      "outputs": [
        {
          "output_type": "execute_result",
          "data": {
            "text/plain": [
              "877"
            ]
          },
          "metadata": {},
          "execution_count": 16
        }
      ]
    },
    {
      "cell_type": "code",
      "source": [
        "np.mean([len(txt) for txt in X_train['Content_preprocess']])"
      ],
      "metadata": {
        "colab": {
          "base_uri": "https://localhost:8080/"
        },
        "id": "fAH8JgpgsZ1Z",
        "outputId": "a574abbe-c39b-4e3c-f479-529bd438f4f3"
      },
      "execution_count": null,
      "outputs": [
        {
          "output_type": "execute_result",
          "data": {
            "text/plain": [
              "40.31754227442881"
            ]
          },
          "metadata": {},
          "execution_count": 17
        }
      ]
    },
    {
      "cell_type": "code",
      "source": [
        "MAX_LEN = 50\n",
        "MAX_LEN"
      ],
      "metadata": {
        "colab": {
          "base_uri": "https://localhost:8080/"
        },
        "id": "46q3VAG02A5D",
        "outputId": "d95e5063-1f4e-46a6-fbd8-5ce4125401e5"
      },
      "execution_count": null,
      "outputs": [
        {
          "output_type": "execute_result",
          "data": {
            "text/plain": [
              "50"
            ]
          },
          "metadata": {},
          "execution_count": 18
        }
      ]
    },
    {
      "cell_type": "code",
      "source": [
        "X_train['Content_sequence'] = X_train['Content_preprocess'].apply(lambda text: [vocabulary.get(word, 0) for word in text.split()][:MAX_LEN]+[0]*(MAX_LEN-len(text.split())))\n",
        "X_test['Content_sequence'] = X_test['Content_preprocess'].apply(lambda text: [vocabulary.get(word, 0) for word in text.split()][:MAX_LEN]+[0]*(MAX_LEN-len(text.split())))\n",
        "X_train.head()"
      ],
      "metadata": {
        "colab": {
          "base_uri": "https://localhost:8080/",
          "height": 206
        },
        "id": "HGuxYZjL3Gc3",
        "outputId": "995d0293-a932-4107-a513-20effca75e43"
      },
      "execution_count": null,
      "outputs": [
        {
          "output_type": "execute_result",
          "data": {
            "text/plain": [
              "                                                 Content        Date  \\\n",
              "6926                             Отличное приложение))))  2017-08-04   \n",
              "6735                                              Олекум  2017-08-04   \n",
              "149    Хорошее приложение, но «антивирус» очень загру...  2017-08-14   \n",
              "3069                                             Потянет  2017-08-09   \n",
              "17455  Ужасное приложение положил деньги и они испари...  2017-07-11   \n",
              "\n",
              "                                      Content_preprocess  \\\n",
              "6926                                 отличный приложение   \n",
              "6735                                             олекума   \n",
              "149    хороший приложение « антивирус » загружать сис...   \n",
              "3069                                            потянуть   \n",
              "17455  ужасный приложение положить деньга испариться ...   \n",
              "\n",
              "                                        Content_sequence  \n",
              "6926   [8, 1, 0, 0, 0, 0, 0, 0, 0, 0, 0, 0, 0, 0, 0, ...  \n",
              "6735   [3391, 0, 0, 0, 0, 0, 0, 0, 0, 0, 0, 0, 0, 0, ...  \n",
              "149    [7, 1, 1016, 16, 1017, 595, 199, 0, 0, 0, 0, 0...  \n",
              "3069   [2426, 0, 0, 0, 0, 0, 0, 0, 0, 0, 0, 0, 0, 0, ...  \n",
              "17455  [211, 1, 534, 36, 3392, 773, 356, 472, 1633, 8...  "
            ],
            "text/html": [
              "\n",
              "  <div id=\"df-aecf926c-e830-497f-98e1-d189a3881427\">\n",
              "    <div class=\"colab-df-container\">\n",
              "      <div>\n",
              "<style scoped>\n",
              "    .dataframe tbody tr th:only-of-type {\n",
              "        vertical-align: middle;\n",
              "    }\n",
              "\n",
              "    .dataframe tbody tr th {\n",
              "        vertical-align: top;\n",
              "    }\n",
              "\n",
              "    .dataframe thead th {\n",
              "        text-align: right;\n",
              "    }\n",
              "</style>\n",
              "<table border=\"1\" class=\"dataframe\">\n",
              "  <thead>\n",
              "    <tr style=\"text-align: right;\">\n",
              "      <th></th>\n",
              "      <th>Content</th>\n",
              "      <th>Date</th>\n",
              "      <th>Content_preprocess</th>\n",
              "      <th>Content_sequence</th>\n",
              "    </tr>\n",
              "  </thead>\n",
              "  <tbody>\n",
              "    <tr>\n",
              "      <th>6926</th>\n",
              "      <td>Отличное приложение))))</td>\n",
              "      <td>2017-08-04</td>\n",
              "      <td>отличный приложение</td>\n",
              "      <td>[8, 1, 0, 0, 0, 0, 0, 0, 0, 0, 0, 0, 0, 0, 0, ...</td>\n",
              "    </tr>\n",
              "    <tr>\n",
              "      <th>6735</th>\n",
              "      <td>Олекум</td>\n",
              "      <td>2017-08-04</td>\n",
              "      <td>олекума</td>\n",
              "      <td>[3391, 0, 0, 0, 0, 0, 0, 0, 0, 0, 0, 0, 0, 0, ...</td>\n",
              "    </tr>\n",
              "    <tr>\n",
              "      <th>149</th>\n",
              "      <td>Хорошее приложение, но «антивирус» очень загру...</td>\n",
              "      <td>2017-08-14</td>\n",
              "      <td>хороший приложение « антивирус » загружать сис...</td>\n",
              "      <td>[7, 1, 1016, 16, 1017, 595, 199, 0, 0, 0, 0, 0...</td>\n",
              "    </tr>\n",
              "    <tr>\n",
              "      <th>3069</th>\n",
              "      <td>Потянет</td>\n",
              "      <td>2017-08-09</td>\n",
              "      <td>потянуть</td>\n",
              "      <td>[2426, 0, 0, 0, 0, 0, 0, 0, 0, 0, 0, 0, 0, 0, ...</td>\n",
              "    </tr>\n",
              "    <tr>\n",
              "      <th>17455</th>\n",
              "      <td>Ужасное приложение положил деньги и они испари...</td>\n",
              "      <td>2017-07-11</td>\n",
              "      <td>ужасный приложение положить деньга испариться ...</td>\n",
              "      <td>[211, 1, 534, 36, 3392, 773, 356, 472, 1633, 8...</td>\n",
              "    </tr>\n",
              "  </tbody>\n",
              "</table>\n",
              "</div>\n",
              "      <button class=\"colab-df-convert\" onclick=\"convertToInteractive('df-aecf926c-e830-497f-98e1-d189a3881427')\"\n",
              "              title=\"Convert this dataframe to an interactive table.\"\n",
              "              style=\"display:none;\">\n",
              "        \n",
              "  <svg xmlns=\"http://www.w3.org/2000/svg\" height=\"24px\"viewBox=\"0 0 24 24\"\n",
              "       width=\"24px\">\n",
              "    <path d=\"M0 0h24v24H0V0z\" fill=\"none\"/>\n",
              "    <path d=\"M18.56 5.44l.94 2.06.94-2.06 2.06-.94-2.06-.94-.94-2.06-.94 2.06-2.06.94zm-11 1L8.5 8.5l.94-2.06 2.06-.94-2.06-.94L8.5 2.5l-.94 2.06-2.06.94zm10 10l.94 2.06.94-2.06 2.06-.94-2.06-.94-.94-2.06-.94 2.06-2.06.94z\"/><path d=\"M17.41 7.96l-1.37-1.37c-.4-.4-.92-.59-1.43-.59-.52 0-1.04.2-1.43.59L10.3 9.45l-7.72 7.72c-.78.78-.78 2.05 0 2.83L4 21.41c.39.39.9.59 1.41.59.51 0 1.02-.2 1.41-.59l7.78-7.78 2.81-2.81c.8-.78.8-2.07 0-2.86zM5.41 20L4 18.59l7.72-7.72 1.47 1.35L5.41 20z\"/>\n",
              "  </svg>\n",
              "      </button>\n",
              "      \n",
              "  <style>\n",
              "    .colab-df-container {\n",
              "      display:flex;\n",
              "      flex-wrap:wrap;\n",
              "      gap: 12px;\n",
              "    }\n",
              "\n",
              "    .colab-df-convert {\n",
              "      background-color: #E8F0FE;\n",
              "      border: none;\n",
              "      border-radius: 50%;\n",
              "      cursor: pointer;\n",
              "      display: none;\n",
              "      fill: #1967D2;\n",
              "      height: 32px;\n",
              "      padding: 0 0 0 0;\n",
              "      width: 32px;\n",
              "    }\n",
              "\n",
              "    .colab-df-convert:hover {\n",
              "      background-color: #E2EBFA;\n",
              "      box-shadow: 0px 1px 2px rgba(60, 64, 67, 0.3), 0px 1px 3px 1px rgba(60, 64, 67, 0.15);\n",
              "      fill: #174EA6;\n",
              "    }\n",
              "\n",
              "    [theme=dark] .colab-df-convert {\n",
              "      background-color: #3B4455;\n",
              "      fill: #D2E3FC;\n",
              "    }\n",
              "\n",
              "    [theme=dark] .colab-df-convert:hover {\n",
              "      background-color: #434B5C;\n",
              "      box-shadow: 0px 1px 3px 1px rgba(0, 0, 0, 0.15);\n",
              "      filter: drop-shadow(0px 1px 2px rgba(0, 0, 0, 0.3));\n",
              "      fill: #FFFFFF;\n",
              "    }\n",
              "  </style>\n",
              "\n",
              "      <script>\n",
              "        const buttonEl =\n",
              "          document.querySelector('#df-aecf926c-e830-497f-98e1-d189a3881427 button.colab-df-convert');\n",
              "        buttonEl.style.display =\n",
              "          google.colab.kernel.accessAllowed ? 'block' : 'none';\n",
              "\n",
              "        async function convertToInteractive(key) {\n",
              "          const element = document.querySelector('#df-aecf926c-e830-497f-98e1-d189a3881427');\n",
              "          const dataTable =\n",
              "            await google.colab.kernel.invokeFunction('convertToInteractive',\n",
              "                                                     [key], {});\n",
              "          if (!dataTable) return;\n",
              "\n",
              "          const docLinkHtml = 'Like what you see? Visit the ' +\n",
              "            '<a target=\"_blank\" href=https://colab.research.google.com/notebooks/data_table.ipynb>data table notebook</a>'\n",
              "            + ' to learn more about interactive tables.';\n",
              "          element.innerHTML = '';\n",
              "          dataTable['output_type'] = 'display_data';\n",
              "          await google.colab.output.renderOutput(dataTable, element);\n",
              "          const docLink = document.createElement('div');\n",
              "          docLink.innerHTML = docLinkHtml;\n",
              "          element.appendChild(docLink);\n",
              "        }\n",
              "      </script>\n",
              "    </div>\n",
              "  </div>\n",
              "  "
            ]
          },
          "metadata": {},
          "execution_count": 19
        }
      ]
    },
    {
      "cell_type": "code",
      "source": [
        "X_train_array = np.array([[j for j in i] for i in X_train['Content_sequence']])\n",
        "X_test_array = np.array([[j for j in i] for i in X_test['Content_sequence']])\n",
        "X_train_array[0][:10]"
      ],
      "metadata": {
        "colab": {
          "base_uri": "https://localhost:8080/"
        },
        "id": "nZJIQ_ili3YB",
        "outputId": "f36bfd14-0763-4f18-b7be-55532270ee18"
      },
      "execution_count": null,
      "outputs": [
        {
          "output_type": "execute_result",
          "data": {
            "text/plain": [
              "array([8, 1, 0, 0, 0, 0, 0, 0, 0, 0])"
            ]
          },
          "metadata": {},
          "execution_count": 20
        }
      ]
    },
    {
      "cell_type": "code",
      "source": [
        "y_train_array = y_train-1\n",
        "y_test_array = y_test-1\n",
        "y_train_array.head()"
      ],
      "metadata": {
        "colab": {
          "base_uri": "https://localhost:8080/"
        },
        "id": "kQOAIUw1q1vk",
        "outputId": "782e5c1a-0e3a-4e1b-e4f6-7ef897ee9c98"
      },
      "execution_count": null,
      "outputs": [
        {
          "output_type": "execute_result",
          "data": {
            "text/plain": [
              "6926     4\n",
              "6735     4\n",
              "149      3\n",
              "3069     3\n",
              "17455    3\n",
              "Name: Rating, dtype: int64"
            ]
          },
          "metadata": {},
          "execution_count": 21
        }
      ]
    },
    {
      "cell_type": "markdown",
      "source": [
        "### Модель"
      ],
      "metadata": {
        "id": "rzjR3H0_fcd4"
      }
    },
    {
      "cell_type": "code",
      "source": [
        "import tensorflow as tf\n",
        "from tensorflow.keras import Sequential\n",
        "from tensorflow.keras.layers import Dense, Embedding, GlobalMaxPooling1D, Dropout, BatchNormalization, Conv1D"
      ],
      "metadata": {
        "id": "xk5N9a4wgAeo"
      },
      "execution_count": null,
      "outputs": []
    },
    {
      "cell_type": "code",
      "source": [
        "embedding_dim = 300\n",
        "hidden_dim = 512"
      ],
      "metadata": {
        "id": "1hpaYPJvgVYD"
      },
      "execution_count": null,
      "outputs": []
    },
    {
      "cell_type": "code",
      "source": [
        "model = Sequential([\n",
        "    Embedding(MAX_WORDS+1, embedding_dim),\n",
        "    Conv1D(embedding_dim*2, 3),\n",
        "    GlobalMaxPooling1D(),\n",
        "    Dense(hidden_dim, activation='relu'),\n",
        "    Dense(hidden_dim//2, activation='relu'),\n",
        "\n",
        "    Dense(units=5, activation='sigmoid')\n",
        "])"
      ],
      "metadata": {
        "id": "kiIQpXuQdpC7"
      },
      "execution_count": null,
      "outputs": []
    },
    {
      "cell_type": "code",
      "source": [
        "model.summary()\n",
        "model.compile(loss=tf.keras.losses.SparseCategoricalCrossentropy(),\n",
        "              loss_weights=disbalance,\n",
        "              optimizer='adam',\n",
        "              metrics=['accuracy'])"
      ],
      "metadata": {
        "colab": {
          "base_uri": "https://localhost:8080/"
        },
        "id": "TCEYfJtl1yGg",
        "outputId": "9ea01411-256d-4fb1-cc38-1631fe863d86"
      },
      "execution_count": null,
      "outputs": [
        {
          "output_type": "stream",
          "name": "stdout",
          "text": [
            "Model: \"sequential\"\n",
            "_________________________________________________________________\n",
            " Layer (type)                Output Shape              Param #   \n",
            "=================================================================\n",
            " embedding (Embedding)       (None, None, 300)         2719500   \n",
            "                                                                 \n",
            " conv1d (Conv1D)             (None, None, 600)         540600    \n",
            "                                                                 \n",
            " global_max_pooling1d (Globa  (None, 600)              0         \n",
            " lMaxPooling1D)                                                  \n",
            "                                                                 \n",
            " dense (Dense)               (None, 512)               307712    \n",
            "                                                                 \n",
            " dense_1 (Dense)             (None, 256)               131328    \n",
            "                                                                 \n",
            " dense_2 (Dense)             (None, 5)                 1285      \n",
            "                                                                 \n",
            "=================================================================\n",
            "Total params: 3,700,425\n",
            "Trainable params: 3,700,425\n",
            "Non-trainable params: 0\n",
            "_________________________________________________________________\n"
          ]
        }
      ]
    },
    {
      "cell_type": "code",
      "source": [
        "with tf.device(\"GPU:0\"):\n",
        "  hh = model.fit(X_train_array, y_train_array, validation_data=(X_test_array, y_test_array), epochs=10)"
      ],
      "metadata": {
        "colab": {
          "base_uri": "https://localhost:8080/"
        },
        "id": "1wlEcmBPiBEt",
        "outputId": "efdcbe08-bd3f-41da-8f40-4c016b346f08"
      },
      "execution_count": null,
      "outputs": [
        {
          "output_type": "stream",
          "name": "stdout",
          "text": [
            "Epoch 1/10\n",
            "485/485 [==============================] - 17s 9ms/step - loss: 6.9019 - accuracy: 0.7637 - val_loss: 6.4120 - val_accuracy: 0.7762\n",
            "Epoch 2/10\n",
            "485/485 [==============================] - 5s 10ms/step - loss: 5.5072 - accuracy: 0.8052 - val_loss: 7.0585 - val_accuracy: 0.7694\n",
            "Epoch 3/10\n",
            "485/485 [==============================] - 3s 7ms/step - loss: 4.4287 - accuracy: 0.8454 - val_loss: 7.1560 - val_accuracy: 0.7617\n",
            "Epoch 4/10\n",
            "485/485 [==============================] - 4s 8ms/step - loss: 3.4611 - accuracy: 0.8831 - val_loss: 9.1030 - val_accuracy: 0.7398\n",
            "Epoch 5/10\n",
            "485/485 [==============================] - 5s 10ms/step - loss: 2.7482 - accuracy: 0.9086 - val_loss: 9.9799 - val_accuracy: 0.7419\n",
            "Epoch 6/10\n",
            "485/485 [==============================] - 4s 8ms/step - loss: 2.3473 - accuracy: 0.9237 - val_loss: 10.9870 - val_accuracy: 0.7456\n",
            "Epoch 7/10\n",
            "485/485 [==============================] - 4s 9ms/step - loss: 2.0462 - accuracy: 0.9352 - val_loss: 11.9695 - val_accuracy: 0.7425\n",
            "Epoch 8/10\n",
            "485/485 [==============================] - 4s 8ms/step - loss: 1.8134 - accuracy: 0.9435 - val_loss: 13.3313 - val_accuracy: 0.7417\n",
            "Epoch 9/10\n",
            "485/485 [==============================] - 4s 8ms/step - loss: 1.7651 - accuracy: 0.9457 - val_loss: 14.6094 - val_accuracy: 0.7365\n",
            "Epoch 10/10\n",
            "485/485 [==============================] - 4s 8ms/step - loss: 1.6774 - accuracy: 0.9497 - val_loss: 15.7012 - val_accuracy: 0.7435\n"
          ]
        }
      ]
    },
    {
      "cell_type": "code",
      "source": [
        "from sklearn.metrics import classification_report"
      ],
      "metadata": {
        "id": "oQWupKa0JBD3"
      },
      "execution_count": null,
      "outputs": []
    },
    {
      "cell_type": "code",
      "source": [
        "print(classification_report(np.argmax(model.predict(X_test_array), axis=1), y_test_array))"
      ],
      "metadata": {
        "colab": {
          "base_uri": "https://localhost:8080/"
        },
        "id": "RpruKsk4KRN7",
        "outputId": "6131921b-96a6-400c-95e9-7db3783c3498"
      },
      "execution_count": null,
      "outputs": [
        {
          "output_type": "stream",
          "name": "stdout",
          "text": [
            "              precision    recall  f1-score   support\n",
            "\n",
            "           0       0.51      0.57      0.54       520\n",
            "           1       0.09      0.12      0.10       153\n",
            "           2       0.21      0.19      0.20       248\n",
            "           3       0.17      0.31      0.22       281\n",
            "           4       0.93      0.86      0.89      3963\n",
            "\n",
            "    accuracy                           0.74      5165\n",
            "   macro avg       0.38      0.41      0.39      5165\n",
            "weighted avg       0.79      0.74      0.76      5165\n",
            "\n"
          ]
        }
      ]
    },
    {
      "cell_type": "markdown",
      "source": [
        "Видно, что модели сложно предсказывать промежуточные значения, но оно и понятно, так как даже человеку бывает сложно определить разницу между отзывами с оценкой 2-4. Так же видно переобучение. \n"
      ],
      "metadata": {
        "id": "9qjNDUxvLw7o"
      }
    },
    {
      "cell_type": "markdown",
      "source": [
        "## Теперь с предобученными весами для слоя Embedding"
      ],
      "metadata": {
        "id": "CUTZ4j-PMJev"
      }
    },
    {
      "cell_type": "markdown",
      "source": [
        "Данные были взяты здесь: http://vectors.nlpl.eu/repository/20/220.zip"
      ],
      "metadata": {
        "id": "y9quhWwDLloj"
      }
    },
    {
      "cell_type": "markdown",
      "source": [
        "![image.png](data:image/png;base64,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)"
      ],
      "metadata": {
        "id": "CqYiZZmJMA5b"
      }
    },
    {
      "cell_type": "code",
      "source": [
        "with open('/content/drive/MyDrive/Colab Notebooks/model.txt', 'r') as f:\n",
        "    data = f.read()"
      ],
      "metadata": {
        "id": "C9nQN6vKKpc4"
      },
      "execution_count": null,
      "outputs": []
    },
    {
      "cell_type": "code",
      "source": [
        "data = [line.split() for line in data.split('\\n')]\n",
        "data[0][:10]"
      ],
      "metadata": {
        "colab": {
          "base_uri": "https://localhost:8080/"
        },
        "id": "cTDUcVTHR9u5",
        "outputId": "44da064a-941b-4180-da04-7b8651a43d93"
      },
      "execution_count": null,
      "outputs": [
        {
          "output_type": "execute_result",
          "data": {
            "text/plain": [
              "['xxxxxxxx_NUM',\n",
              " '-5.775997',\n",
              " '-1.4856625',\n",
              " '1.4282805',\n",
              " '5.107271',\n",
              " '0.94274306',\n",
              " '1.633782',\n",
              " '2.03106',\n",
              " '-3.862224',\n",
              " '7.6835074']"
            ]
          },
          "metadata": {},
          "execution_count": 30
        }
      ]
    },
    {
      "cell_type": "code",
      "source": [
        "from tqdm import tqdm"
      ],
      "metadata": {
        "id": "6yhHMQkyU_Uj"
      },
      "execution_count": null,
      "outputs": []
    },
    {
      "cell_type": "code",
      "source": [
        "word2vec = {}\n",
        "for word in tqdm(data[:-1]):\n",
        "  word2vec[word[0].split('_')[0]] = np.array(word[1:]).astype(float)\n",
        "list(word2vec.items())[0]"
      ],
      "metadata": {
        "colab": {
          "base_uri": "https://localhost:8080/"
        },
        "id": "ByU-FqAjR-oP",
        "outputId": "94695fe2-41f0-4a44-e803-bba083735b8c"
      },
      "execution_count": null,
      "outputs": [
        {
          "output_type": "stream",
          "name": "stderr",
          "text": [
            "100%|██████████| 249333/249333 [00:48<00:00, 5181.44it/s]\n"
          ]
        },
        {
          "output_type": "execute_result",
          "data": {
            "text/plain": [
              "('xxxxxxxx',\n",
              " array([-5.775997  , -1.4856625 ,  1.4282805 ,  5.107271  ,  0.94274306,\n",
              "         1.633782  ,  2.03106   , -3.862224  ,  7.6835074 , -2.452829  ,\n",
              "        -1.1344614 , -2.9715064 , -1.1943372 ,  0.60422194, -3.600998  ,\n",
              "        -3.7676146 ,  2.9703367 , -1.9335803 ,  0.7025744 , -4.9147015 ,\n",
              "         6.821634  ,  0.5059877 ,  0.41100878,  3.0133476 , -0.8700064 ,\n",
              "        -2.0856552 ,  6.383491  , -2.8943033 ,  4.720144  ,  3.638207  ,\n",
              "        -6.6306615 ,  1.812578  , -1.9579812 , -7.607699  , -2.3855708 ,\n",
              "         1.3066907 ,  4.9606256 , -3.437113  , -0.3333033 ,  4.795064  ,\n",
              "        -4.8095465 ,  2.3499146 ,  4.8853273 ,  4.687315  ,  0.8327079 ,\n",
              "         2.8774421 , -4.291407  , -5.108345  , -2.148041  , -4.7741423 ,\n",
              "         1.0339713 , -1.7400155 ,  0.31231344, -6.4322696 ,  1.6250391 ,\n",
              "         0.72703356, -0.49629834, -3.1099138 , -2.9617152 ,  2.7351406 ,\n",
              "        -0.5895083 ,  0.42098752,  3.5558884 , -1.084687  ,  0.96802926,\n",
              "        -0.8950529 , -1.6569282 ,  4.6770945 ,  0.8558451 ,  9.057763  ,\n",
              "        -1.3497689 ,  1.1374378 ,  1.3776938 ,  1.0682753 , -1.6415256 ,\n",
              "         2.4515362 , -0.6941789 ,  0.87808514, -1.3229914 ,  1.7979928 ,\n",
              "        -0.36159995, -0.01420944, -2.906184  , -3.048048  ,  2.9588916 ,\n",
              "        -1.3787758 ,  2.6605155 ,  2.293649  ,  1.9195065 ,  1.0460988 ,\n",
              "         3.038261  , -6.209849  ,  0.07561098, -0.02841101, -3.605269  ,\n",
              "        -2.5622725 , -6.557205  , -1.4916104 , -4.284041  ,  2.3150184 ,\n",
              "        -5.617761  ,  0.24603006,  1.6150182 ,  0.7974254 , -4.0503073 ,\n",
              "        -1.0157045 ,  2.3953836 , -3.8204932 ,  5.784359  , -0.75505066,\n",
              "         3.5153637 ,  1.4550043 ,  1.0678264 ,  2.0138195 ,  2.4585154 ,\n",
              "        -2.5252786 ,  4.4156003 , -3.7778206 , -3.8005106 , -2.836025  ,\n",
              "        -1.4448285 , 10.538623  ,  2.4811032 ,  1.2645774 ,  1.1901441 ,\n",
              "        -3.5957816 , -2.3465347 ,  4.6637387 ,  5.054898  ,  3.2990649 ,\n",
              "         3.5906925 , -0.20775382, -0.5255069 ,  0.65518355, -3.3621347 ,\n",
              "        -1.5288274 , -0.5631605 ,  3.8693562 , -0.7385992 , -2.1428804 ,\n",
              "        -2.8334155 , -1.4450133 ,  5.548624  , -0.10199616,  0.13774355,\n",
              "         7.037948  , -2.481297  , -4.021172  ,  0.5498552 , -1.0031208 ,\n",
              "         0.46995175, -4.7008243 , -8.857056  , -2.5531385 ,  4.038908  ,\n",
              "        -2.2848983 ,  2.7107267 , -0.75756407, -5.7007813 ,  1.1836894 ,\n",
              "         5.7146263 ,  2.7224028 ,  3.4087303 ,  1.1254499 , -4.8850155 ,\n",
              "         2.3403513 , -3.2470357 , -1.0267999 , -3.6759045 , -4.149456  ,\n",
              "         6.1483006 ,  0.92025596, -1.156965  ,  2.9741893 ,  0.01907395,\n",
              "        -5.9777884 , -1.7537556 ,  0.6674014 , -1.9222043 ,  4.3703938 ,\n",
              "         2.5007863 ,  2.8259451 ,  2.4123726 ,  5.248964  ,  2.7386522 ,\n",
              "         1.8169713 , -0.09937407,  3.370166  , -0.36352217,  3.431526  ,\n",
              "         0.268441  , -1.3640867 , -2.2210288 ,  0.14752027,  5.6050067 ,\n",
              "         3.986034  ,  1.1121972 ,  5.092245  ,  4.680192  , -1.4893718 ,\n",
              "        -3.0639782 ,  1.1728797 ,  3.1976163 , -3.3287892 ,  8.113928  ,\n",
              "        -0.43905085, -2.7383473 ,  0.9051197 , -5.712437  , -9.293817  ,\n",
              "        -5.4653172 ,  0.26303226, -4.217557  , -1.0584099 ,  1.3483253 ,\n",
              "        -7.362753  ,  5.0545073 ,  1.1041492 , -4.0659285 ,  0.5286198 ,\n",
              "         1.5014341 ,  3.4990764 , -0.7427857 ,  3.780344  ,  0.47230792,\n",
              "        -2.8657017 ,  2.1437426 ,  2.7726696 , -6.828908  ,  3.812858  ,\n",
              "         1.685589  ,  0.2216895 , -1.4635626 ,  0.36969346,  7.305896  ,\n",
              "        -4.4168806 , -0.21173358,  1.153925  ,  4.065685  ,  2.3019862 ,\n",
              "         3.1928694 , -8.915843  , -3.258471  ,  0.7132152 , -5.284256  ,\n",
              "        -3.3636897 ,  3.914156  , -2.1119921 ,  4.0406966 ,  0.63707435,\n",
              "        -0.92094946,  0.48193887,  0.59865916,  4.84828   , -5.2418013 ,\n",
              "         0.2860816 , -1.0056124 , -1.0278355 ,  0.795511  , -1.1848837 ,\n",
              "         3.0563226 ,  2.94618   ,  0.05463332,  2.608857  ,  0.5880158 ,\n",
              "        -6.3420353 , -3.1566114 , -0.19032203, -2.0972505 ,  4.9806623 ,\n",
              "         2.957099  ,  0.14465745, -1.8674952 ,  0.60333014,  7.5394154 ,\n",
              "        -3.2463558 ,  2.011901  ,  2.8037024 , -0.03708573, -3.2190511 ,\n",
              "         1.7493953 , -2.4252677 ,  0.5123736 , -0.74042165,  0.4878118 ,\n",
              "         3.6732    ,  7.785756  ,  0.50043136, -2.779965  , -1.6758494 ,\n",
              "         0.04049058, -0.47122857,  0.7234546 ,  3.1270077 , -6.762453  ,\n",
              "        -3.6415694 ,  2.1593227 , -0.9964359 , -1.0746299 , -0.8291514 ]))"
            ]
          },
          "metadata": {},
          "execution_count": 32
        }
      ]
    },
    {
      "cell_type": "code",
      "source": [
        "word2num = {j:i for i,j in enumerate(word2vec.keys(), 1)}\n",
        "list(word2num.items())[:10]"
      ],
      "metadata": {
        "colab": {
          "base_uri": "https://localhost:8080/"
        },
        "id": "yXdCzT5l4mh1",
        "outputId": "bfd1912d-2451-4572-ca78-1a4e66b2c2c9"
      },
      "execution_count": null,
      "outputs": [
        {
          "output_type": "execute_result",
          "data": {
            "text/plain": [
              "[('xxxxxxxx', 1),\n",
              " ('год', 2),\n",
              " ('xxxxxx', 3),\n",
              " ('xxxxxxx', 4),\n",
              " ('первый', 5),\n",
              " ('время', 6),\n",
              " ('человек', 7),\n",
              " ('introduction', 8),\n",
              " ('один', 9),\n",
              " ('район', 10)]"
            ]
          },
          "metadata": {},
          "execution_count": 33
        }
      ]
    },
    {
      "cell_type": "code",
      "source": [
        "MAX_WORDS = len(word2num)\n",
        "MAX_WORDS"
      ],
      "metadata": {
        "colab": {
          "base_uri": "https://localhost:8080/"
        },
        "id": "GR20XzP68e-j",
        "outputId": "a42f1885-7e61-44bc-cb02-5000b55ddb2a"
      },
      "execution_count": null,
      "outputs": [
        {
          "output_type": "execute_result",
          "data": {
            "text/plain": [
              "205707"
            ]
          },
          "metadata": {},
          "execution_count": 34
        }
      ]
    },
    {
      "cell_type": "code",
      "source": [
        "X_train['Content_sequence_word2num'] = X_train['Content_preprocess'].apply(lambda text: [word2num.get(word, 0) for word in text.split()][:MAX_LEN]+[0]*(MAX_LEN-len(text.split())))\n",
        "X_test['Content_sequence_word2num'] = X_test['Content_preprocess'].apply(lambda text: [word2num.get(word, 0) for word in text.split()][:MAX_LEN]+[0]*(MAX_LEN-len(text.split())))\n",
        "X_train.head()"
      ],
      "metadata": {
        "colab": {
          "base_uri": "https://localhost:8080/",
          "height": 206
        },
        "id": "YBX6759pV64I",
        "outputId": "d0b18cbb-a783-407f-a58e-0ef4fdf9695e"
      },
      "execution_count": null,
      "outputs": [
        {
          "output_type": "execute_result",
          "data": {
            "text/plain": [
              "                                                 Content        Date  \\\n",
              "6926                             Отличное приложение))))  2017-08-04   \n",
              "6735                                              Олекум  2017-08-04   \n",
              "149    Хорошее приложение, но «антивирус» очень загру...  2017-08-14   \n",
              "3069                                             Потянет  2017-08-09   \n",
              "17455  Ужасное приложение положил деньги и они испари...  2017-07-11   \n",
              "\n",
              "                                      Content_preprocess  \\\n",
              "6926                                 отличный приложение   \n",
              "6735                                             олекума   \n",
              "149    хороший приложение « антивирус » загружать сис...   \n",
              "3069                                            потянуть   \n",
              "17455  ужасный приложение положить деньга испариться ...   \n",
              "\n",
              "                                        Content_sequence  \\\n",
              "6926   [8, 1, 0, 0, 0, 0, 0, 0, 0, 0, 0, 0, 0, 0, 0, ...   \n",
              "6735   [3391, 0, 0, 0, 0, 0, 0, 0, 0, 0, 0, 0, 0, 0, ...   \n",
              "149    [7, 1, 1016, 16, 1017, 595, 199, 0, 0, 0, 0, 0...   \n",
              "3069   [2426, 0, 0, 0, 0, 0, 0, 0, 0, 0, 0, 0, 0, 0, ...   \n",
              "17455  [211, 1, 534, 36, 3392, 773, 356, 472, 1633, 8...   \n",
              "\n",
              "                               Content_sequence_word2num  \n",
              "6926   [2838, 2234, 0, 0, 0, 0, 0, 0, 0, 0, 0, 0, 0, ...  \n",
              "6735   [0, 0, 0, 0, 0, 0, 0, 0, 0, 0, 0, 0, 0, 0, 0, ...  \n",
              "149    [300, 2234, 0, 48444, 0, 13194, 91, 0, 0, 0, 0...  \n",
              "3069   [10103, 0, 0, 0, 0, 0, 0, 0, 0, 0, 0, 0, 0, 0,...  \n",
              "17455  [3257, 2234, 3986, 98577, 36006, 12393, 1949, ...  "
            ],
            "text/html": [
              "\n",
              "  <div id=\"df-0039ed5c-130f-459f-8450-b53e11266829\">\n",
              "    <div class=\"colab-df-container\">\n",
              "      <div>\n",
              "<style scoped>\n",
              "    .dataframe tbody tr th:only-of-type {\n",
              "        vertical-align: middle;\n",
              "    }\n",
              "\n",
              "    .dataframe tbody tr th {\n",
              "        vertical-align: top;\n",
              "    }\n",
              "\n",
              "    .dataframe thead th {\n",
              "        text-align: right;\n",
              "    }\n",
              "</style>\n",
              "<table border=\"1\" class=\"dataframe\">\n",
              "  <thead>\n",
              "    <tr style=\"text-align: right;\">\n",
              "      <th></th>\n",
              "      <th>Content</th>\n",
              "      <th>Date</th>\n",
              "      <th>Content_preprocess</th>\n",
              "      <th>Content_sequence</th>\n",
              "      <th>Content_sequence_word2num</th>\n",
              "    </tr>\n",
              "  </thead>\n",
              "  <tbody>\n",
              "    <tr>\n",
              "      <th>6926</th>\n",
              "      <td>Отличное приложение))))</td>\n",
              "      <td>2017-08-04</td>\n",
              "      <td>отличный приложение</td>\n",
              "      <td>[8, 1, 0, 0, 0, 0, 0, 0, 0, 0, 0, 0, 0, 0, 0, ...</td>\n",
              "      <td>[2838, 2234, 0, 0, 0, 0, 0, 0, 0, 0, 0, 0, 0, ...</td>\n",
              "    </tr>\n",
              "    <tr>\n",
              "      <th>6735</th>\n",
              "      <td>Олекум</td>\n",
              "      <td>2017-08-04</td>\n",
              "      <td>олекума</td>\n",
              "      <td>[3391, 0, 0, 0, 0, 0, 0, 0, 0, 0, 0, 0, 0, 0, ...</td>\n",
              "      <td>[0, 0, 0, 0, 0, 0, 0, 0, 0, 0, 0, 0, 0, 0, 0, ...</td>\n",
              "    </tr>\n",
              "    <tr>\n",
              "      <th>149</th>\n",
              "      <td>Хорошее приложение, но «антивирус» очень загру...</td>\n",
              "      <td>2017-08-14</td>\n",
              "      <td>хороший приложение « антивирус » загружать сис...</td>\n",
              "      <td>[7, 1, 1016, 16, 1017, 595, 199, 0, 0, 0, 0, 0...</td>\n",
              "      <td>[300, 2234, 0, 48444, 0, 13194, 91, 0, 0, 0, 0...</td>\n",
              "    </tr>\n",
              "    <tr>\n",
              "      <th>3069</th>\n",
              "      <td>Потянет</td>\n",
              "      <td>2017-08-09</td>\n",
              "      <td>потянуть</td>\n",
              "      <td>[2426, 0, 0, 0, 0, 0, 0, 0, 0, 0, 0, 0, 0, 0, ...</td>\n",
              "      <td>[10103, 0, 0, 0, 0, 0, 0, 0, 0, 0, 0, 0, 0, 0,...</td>\n",
              "    </tr>\n",
              "    <tr>\n",
              "      <th>17455</th>\n",
              "      <td>Ужасное приложение положил деньги и они испари...</td>\n",
              "      <td>2017-07-11</td>\n",
              "      <td>ужасный приложение положить деньга испариться ...</td>\n",
              "      <td>[211, 1, 534, 36, 3392, 773, 356, 472, 1633, 8...</td>\n",
              "      <td>[3257, 2234, 3986, 98577, 36006, 12393, 1949, ...</td>\n",
              "    </tr>\n",
              "  </tbody>\n",
              "</table>\n",
              "</div>\n",
              "      <button class=\"colab-df-convert\" onclick=\"convertToInteractive('df-0039ed5c-130f-459f-8450-b53e11266829')\"\n",
              "              title=\"Convert this dataframe to an interactive table.\"\n",
              "              style=\"display:none;\">\n",
              "        \n",
              "  <svg xmlns=\"http://www.w3.org/2000/svg\" height=\"24px\"viewBox=\"0 0 24 24\"\n",
              "       width=\"24px\">\n",
              "    <path d=\"M0 0h24v24H0V0z\" fill=\"none\"/>\n",
              "    <path d=\"M18.56 5.44l.94 2.06.94-2.06 2.06-.94-2.06-.94-.94-2.06-.94 2.06-2.06.94zm-11 1L8.5 8.5l.94-2.06 2.06-.94-2.06-.94L8.5 2.5l-.94 2.06-2.06.94zm10 10l.94 2.06.94-2.06 2.06-.94-2.06-.94-.94-2.06-.94 2.06-2.06.94z\"/><path d=\"M17.41 7.96l-1.37-1.37c-.4-.4-.92-.59-1.43-.59-.52 0-1.04.2-1.43.59L10.3 9.45l-7.72 7.72c-.78.78-.78 2.05 0 2.83L4 21.41c.39.39.9.59 1.41.59.51 0 1.02-.2 1.41-.59l7.78-7.78 2.81-2.81c.8-.78.8-2.07 0-2.86zM5.41 20L4 18.59l7.72-7.72 1.47 1.35L5.41 20z\"/>\n",
              "  </svg>\n",
              "      </button>\n",
              "      \n",
              "  <style>\n",
              "    .colab-df-container {\n",
              "      display:flex;\n",
              "      flex-wrap:wrap;\n",
              "      gap: 12px;\n",
              "    }\n",
              "\n",
              "    .colab-df-convert {\n",
              "      background-color: #E8F0FE;\n",
              "      border: none;\n",
              "      border-radius: 50%;\n",
              "      cursor: pointer;\n",
              "      display: none;\n",
              "      fill: #1967D2;\n",
              "      height: 32px;\n",
              "      padding: 0 0 0 0;\n",
              "      width: 32px;\n",
              "    }\n",
              "\n",
              "    .colab-df-convert:hover {\n",
              "      background-color: #E2EBFA;\n",
              "      box-shadow: 0px 1px 2px rgba(60, 64, 67, 0.3), 0px 1px 3px 1px rgba(60, 64, 67, 0.15);\n",
              "      fill: #174EA6;\n",
              "    }\n",
              "\n",
              "    [theme=dark] .colab-df-convert {\n",
              "      background-color: #3B4455;\n",
              "      fill: #D2E3FC;\n",
              "    }\n",
              "\n",
              "    [theme=dark] .colab-df-convert:hover {\n",
              "      background-color: #434B5C;\n",
              "      box-shadow: 0px 1px 3px 1px rgba(0, 0, 0, 0.15);\n",
              "      filter: drop-shadow(0px 1px 2px rgba(0, 0, 0, 0.3));\n",
              "      fill: #FFFFFF;\n",
              "    }\n",
              "  </style>\n",
              "\n",
              "      <script>\n",
              "        const buttonEl =\n",
              "          document.querySelector('#df-0039ed5c-130f-459f-8450-b53e11266829 button.colab-df-convert');\n",
              "        buttonEl.style.display =\n",
              "          google.colab.kernel.accessAllowed ? 'block' : 'none';\n",
              "\n",
              "        async function convertToInteractive(key) {\n",
              "          const element = document.querySelector('#df-0039ed5c-130f-459f-8450-b53e11266829');\n",
              "          const dataTable =\n",
              "            await google.colab.kernel.invokeFunction('convertToInteractive',\n",
              "                                                     [key], {});\n",
              "          if (!dataTable) return;\n",
              "\n",
              "          const docLinkHtml = 'Like what you see? Visit the ' +\n",
              "            '<a target=\"_blank\" href=https://colab.research.google.com/notebooks/data_table.ipynb>data table notebook</a>'\n",
              "            + ' to learn more about interactive tables.';\n",
              "          element.innerHTML = '';\n",
              "          dataTable['output_type'] = 'display_data';\n",
              "          await google.colab.output.renderOutput(dataTable, element);\n",
              "          const docLink = document.createElement('div');\n",
              "          docLink.innerHTML = docLinkHtml;\n",
              "          element.appendChild(docLink);\n",
              "        }\n",
              "      </script>\n",
              "    </div>\n",
              "  </div>\n",
              "  "
            ]
          },
          "metadata": {},
          "execution_count": 35
        }
      ]
    },
    {
      "cell_type": "code",
      "source": [
        "num2vec = {word2num[i]:j for i,j in word2vec.items()}"
      ],
      "metadata": {
        "id": "VosW19xZ6jtf"
      },
      "execution_count": null,
      "outputs": []
    },
    {
      "cell_type": "markdown",
      "source": [
        "Пускай там где нету слова будет нулевой вектор, это будет логично."
      ],
      "metadata": {
        "id": "7DXVtP4s0Fsb"
      }
    },
    {
      "cell_type": "code",
      "source": [
        "embedding_dim = len(list(word2vec.items())[0][1])\n",
        "embedding_dim"
      ],
      "metadata": {
        "colab": {
          "base_uri": "https://localhost:8080/"
        },
        "id": "f6CThF-DYKmo",
        "outputId": "367e6fe7-ff0b-45f0-fead-66d3609908f1"
      },
      "execution_count": null,
      "outputs": [
        {
          "output_type": "execute_result",
          "data": {
            "text/plain": [
              "300"
            ]
          },
          "metadata": {},
          "execution_count": 37
        }
      ]
    },
    {
      "cell_type": "code",
      "source": [
        "zero_vec = [0]*embedding_dim"
      ],
      "metadata": {
        "id": "GbucveP-Yg9y"
      },
      "execution_count": null,
      "outputs": []
    },
    {
      "cell_type": "code",
      "source": [
        "num2vec[0] = zero_vec"
      ],
      "metadata": {
        "id": "fnYc0M847DSO"
      },
      "execution_count": null,
      "outputs": []
    },
    {
      "cell_type": "code",
      "source": [
        "embedding_start_weights = np.array([j for i,j in sorted(num2vec.items(), key=lambda x: x[0])])\n",
        "embedding_start_weights.shape"
      ],
      "metadata": {
        "colab": {
          "base_uri": "https://localhost:8080/"
        },
        "id": "XAiDd6ES7ZTv",
        "outputId": "4dae57a9-d3db-4999-e80b-4fbb84280527"
      },
      "execution_count": null,
      "outputs": [
        {
          "output_type": "execute_result",
          "data": {
            "text/plain": [
              "(205708, 300)"
            ]
          },
          "metadata": {},
          "execution_count": 40
        }
      ]
    },
    {
      "cell_type": "code",
      "source": [
        "X_train_array = np.array([[j for j in i] for i in X_train['Content_sequence_word2num']])\n",
        "X_test_array = np.array([[j for j in i] for i in X_test['Content_sequence_word2num']])\n",
        "X_train_array.shape"
      ],
      "metadata": {
        "colab": {
          "base_uri": "https://localhost:8080/"
        },
        "id": "FAjzDFHAhuHg",
        "outputId": "06365b3c-9c68-46eb-8bda-922e97383653"
      },
      "execution_count": null,
      "outputs": [
        {
          "output_type": "execute_result",
          "data": {
            "text/plain": [
              "(15494, 50)"
            ]
          },
          "metadata": {},
          "execution_count": 41
        }
      ]
    },
    {
      "cell_type": "markdown",
      "source": [
        "Здесь заканчивается ОЗУ, поэтому сохраним данные в облако и перезапустим сеанс"
      ],
      "metadata": {
        "id": "2FUbGpQoytRs"
      }
    },
    {
      "cell_type": "code",
      "source": [
        "np.save('/content/drive/MyDrive/Colab Notebooks/embedding_start_weights.npy', embedding_start_weights)\n",
        "np.save('/content/drive/MyDrive/Colab Notebooks/X_train_array.npy', X_train_array)\n",
        "np.save('/content/drive/MyDrive/Colab Notebooks/X_test_array.npy', X_test_array)\n",
        "np.save('/content/drive/MyDrive/Colab Notebooks/y_train_array.npy', y_train_array)\n",
        "np.save('/content/drive/MyDrive/Colab Notebooks/y_test_array.npy', y_test_array)\n",
        "np.save('/content/drive/MyDrive/Colab Notebooks/disbalance.npy', disbalance)\n",
        "np.save('/content/drive/MyDrive/Colab Notebooks/MAX_WORDS.npy', MAX_WORDS)\n",
        "np.save('/content/drive/MyDrive/Colab Notebooks/MAX_LEN.npy', MAX_LEN)"
      ],
      "metadata": {
        "id": "6ttElIyGvSIf"
      },
      "execution_count": null,
      "outputs": []
    },
    {
      "cell_type": "markdown",
      "source": [
        "*** checkpoint ***"
      ],
      "metadata": {
        "id": "VIGY9FkkxzC5"
      }
    },
    {
      "cell_type": "code",
      "source": [
        "import numpy as np"
      ],
      "metadata": {
        "id": "zd4JZdiRJFQW"
      },
      "execution_count": null,
      "outputs": []
    },
    {
      "cell_type": "code",
      "source": [
        "from google.colab import drive\n",
        "drive.mount('/content/drive')"
      ],
      "metadata": {
        "colab": {
          "base_uri": "https://localhost:8080/"
        },
        "id": "s96JKiCYI5bV",
        "outputId": "3a6585cf-ab31-4be9-a665-0a0e7fa5327f"
      },
      "execution_count": null,
      "outputs": [
        {
          "output_type": "stream",
          "name": "stdout",
          "text": [
            "Mounted at /content/drive\n"
          ]
        }
      ]
    },
    {
      "cell_type": "code",
      "source": [
        "embedding_start_weights = np.load('/content/drive/MyDrive/Colab Notebooks/embedding_start_weights.npy')\n",
        "X_train_array = np.load('/content/drive/MyDrive/Colab Notebooks/X_train_array.npy')\n",
        "X_test_array = np.load('/content/drive/MyDrive/Colab Notebooks/X_test_array.npy')\n",
        "y_train_array = np.load('/content/drive/MyDrive/Colab Notebooks/y_train_array.npy')\n",
        "y_test_array = np.load('/content/drive/MyDrive/Colab Notebooks/y_test_array.npy')\n",
        "disbalance = np.load('/content/drive/MyDrive/Colab Notebooks/disbalance.npy')\n",
        "MAX_WORDS = np.load('/content/drive/MyDrive/Colab Notebooks/MAX_WORDS.npy')\n",
        "MAX_LEN = np.load('/content/drive/MyDrive/Colab Notebooks/MAX_LEN.npy')\n",
        "embedding_start_weights.shape"
      ],
      "metadata": {
        "colab": {
          "base_uri": "https://localhost:8080/"
        },
        "id": "UMaQsZYnx3W4",
        "outputId": "9178862b-9f7d-4824-f5b3-cb39104d2639"
      },
      "execution_count": null,
      "outputs": [
        {
          "output_type": "execute_result",
          "data": {
            "text/plain": [
              "(205708, 300)"
            ]
          },
          "metadata": {},
          "execution_count": 4
        }
      ]
    },
    {
      "cell_type": "code",
      "source": [
        "import tensorflow as tf\n",
        "from tensorflow.keras import Sequential\n",
        "from tensorflow.keras.layers import Dense, Embedding, GlobalMaxPooling1D, Dropout, BatchNormalization, Conv1D"
      ],
      "metadata": {
        "id": "vVmAKtCwz-FR"
      },
      "execution_count": null,
      "outputs": []
    },
    {
      "cell_type": "code",
      "source": [
        "embedding_dim = 300\n",
        "hidden_dim = 512"
      ],
      "metadata": {
        "id": "rgZtsCBqXBWI"
      },
      "execution_count": null,
      "outputs": []
    },
    {
      "cell_type": "code",
      "source": [
        "model = Sequential([\n",
        "    Embedding(MAX_WORDS+1, embedding_dim),\n",
        "    Conv1D(embedding_dim*2, 3),\n",
        "    GlobalMaxPooling1D(),\n",
        "    Dense(hidden_dim, activation='relu'),\n",
        "    Dense(hidden_dim//2, activation='relu'),\n",
        "\n",
        "    Dense(units=5, activation='sigmoid')\n",
        "])"
      ],
      "metadata": {
        "id": "RhjwDWTmWyRt"
      },
      "execution_count": null,
      "outputs": []
    },
    {
      "cell_type": "code",
      "source": [
        "model.layers[0].get_weights()[0].shape"
      ],
      "metadata": {
        "colab": {
          "base_uri": "https://localhost:8080/"
        },
        "id": "h3rwl4wz-wbI",
        "outputId": "837f7427-0092-4603-f158-6e37cd46ab21"
      },
      "execution_count": null,
      "outputs": [
        {
          "output_type": "execute_result",
          "data": {
            "text/plain": [
              "(205708, 300)"
            ]
          },
          "metadata": {},
          "execution_count": 28
        }
      ]
    },
    {
      "cell_type": "code",
      "source": [
        "embedding_start_weights.shape"
      ],
      "metadata": {
        "colab": {
          "base_uri": "https://localhost:8080/"
        },
        "id": "i6lJzZKe-t3L",
        "outputId": "95739d0d-8bcf-4352-958b-9a92ab21cfc8"
      },
      "execution_count": null,
      "outputs": [
        {
          "output_type": "execute_result",
          "data": {
            "text/plain": [
              "(205708, 300)"
            ]
          },
          "metadata": {},
          "execution_count": 29
        }
      ]
    },
    {
      "cell_type": "markdown",
      "source": [
        "Инициализируем веса:"
      ],
      "metadata": {
        "id": "adIdkfDaMacS"
      }
    },
    {
      "cell_type": "code",
      "source": [
        "model.layers[0].set_weights([embedding_start_weights])"
      ],
      "metadata": {
        "id": "65JKPfRX-Q3b"
      },
      "execution_count": null,
      "outputs": []
    },
    {
      "cell_type": "code",
      "source": [
        "model.build((None, MAX_LEN, embedding_dim))\n",
        "model.summary()\n",
        "model.compile(loss=tf.keras.losses.SparseCategoricalCrossentropy(),\n",
        "              loss_weights=disbalance,\n",
        "              optimizer='adam',\n",
        "              metrics=['accuracy'])"
      ],
      "metadata": {
        "colab": {
          "base_uri": "https://localhost:8080/"
        },
        "id": "aL4p5roqXFLO",
        "outputId": "90fc5027-cd7a-4a2a-98ac-5aeeb3f6b8fe"
      },
      "execution_count": null,
      "outputs": [
        {
          "output_type": "stream",
          "name": "stdout",
          "text": [
            "Model: \"sequential_3\"\n",
            "_________________________________________________________________\n",
            " Layer (type)                Output Shape              Param #   \n",
            "=================================================================\n",
            " embedding_3 (Embedding)     (None, None, 300)         61712400  \n",
            "                                                                 \n",
            " conv1d_3 (Conv1D)           (None, None, 600)         540600    \n",
            "                                                                 \n",
            " global_max_pooling1d_3 (Glo  (None, 600)              0         \n",
            " balMaxPooling1D)                                                \n",
            "                                                                 \n",
            " dense_9 (Dense)             (None, 512)               307712    \n",
            "                                                                 \n",
            " dense_10 (Dense)            (None, 256)               131328    \n",
            "                                                                 \n",
            " dense_11 (Dense)            (None, 5)                 1285      \n",
            "                                                                 \n",
            "=================================================================\n",
            "Total params: 62,693,325\n",
            "Trainable params: 62,693,325\n",
            "Non-trainable params: 0\n",
            "_________________________________________________________________\n"
          ]
        }
      ]
    },
    {
      "cell_type": "code",
      "source": [
        "with tf.device(\"GPU:0\"):\n",
        "  hh = model.fit(X_train_array, y_train_array, validation_data=(X_test_array, y_test_array), epochs=10)"
      ],
      "metadata": {
        "colab": {
          "base_uri": "https://localhost:8080/"
        },
        "id": "IGQrk8L2XIbG",
        "outputId": "c2af066c-6ea4-4b19-f70f-db3d97062102"
      },
      "execution_count": null,
      "outputs": [
        {
          "output_type": "stream",
          "name": "stdout",
          "text": [
            "Epoch 1/10\n",
            "485/485 [==============================] - 20s 40ms/step - loss: 7.3737 - accuracy: 0.7535 - val_loss: 6.6875 - val_accuracy: 0.7673\n",
            "Epoch 2/10\n",
            "485/485 [==============================] - 19s 40ms/step - loss: 6.1390 - accuracy: 0.7859 - val_loss: 6.5515 - val_accuracy: 0.7708\n",
            "Epoch 3/10\n",
            "485/485 [==============================] - 19s 40ms/step - loss: 5.5060 - accuracy: 0.8047 - val_loss: 6.7177 - val_accuracy: 0.7652\n",
            "Epoch 4/10\n",
            "485/485 [==============================] - 19s 40ms/step - loss: 4.9353 - accuracy: 0.8275 - val_loss: 6.9085 - val_accuracy: 0.7688\n",
            "Epoch 5/10\n",
            "485/485 [==============================] - 19s 40ms/step - loss: 4.2300 - accuracy: 0.8570 - val_loss: 8.8798 - val_accuracy: 0.7624\n",
            "Epoch 6/10\n",
            "485/485 [==============================] - 19s 39ms/step - loss: 3.6550 - accuracy: 0.8772 - val_loss: 9.5217 - val_accuracy: 0.7473\n",
            "Epoch 7/10\n",
            "485/485 [==============================] - 19s 40ms/step - loss: 3.1023 - accuracy: 0.8989 - val_loss: 10.7837 - val_accuracy: 0.7462\n",
            "Epoch 8/10\n",
            "485/485 [==============================] - 19s 39ms/step - loss: 2.6972 - accuracy: 0.9151 - val_loss: 11.2854 - val_accuracy: 0.7429\n",
            "Epoch 9/10\n",
            "485/485 [==============================] - 19s 40ms/step - loss: 2.4877 - accuracy: 0.9236 - val_loss: 11.6048 - val_accuracy: 0.7595\n",
            "Epoch 10/10\n",
            "485/485 [==============================] - 19s 39ms/step - loss: 2.3808 - accuracy: 0.9287 - val_loss: 12.6712 - val_accuracy: 0.7475\n"
          ]
        }
      ]
    },
    {
      "cell_type": "code",
      "source": [
        "from sklearn.metrics import classification_report"
      ],
      "metadata": {
        "id": "zt_PgFEK0EFq"
      },
      "execution_count": null,
      "outputs": []
    },
    {
      "cell_type": "code",
      "source": [
        "print(classification_report(np.argmax(model.predict(X_test_array), axis=1), y_test_array))"
      ],
      "metadata": {
        "colab": {
          "base_uri": "https://localhost:8080/"
        },
        "id": "aoiSKzyKyraX",
        "outputId": "e248f2fb-c140-4d86-bf3c-9c62f19d5f1d"
      },
      "execution_count": null,
      "outputs": [
        {
          "output_type": "stream",
          "name": "stdout",
          "text": [
            "              precision    recall  f1-score   support\n",
            "\n",
            "           0       0.55      0.56      0.56       572\n",
            "           1       0.11      0.14      0.12       148\n",
            "           2       0.15      0.17      0.16       203\n",
            "           3       0.19      0.27      0.22       350\n",
            "           4       0.93      0.87      0.90      3892\n",
            "\n",
            "    accuracy                           0.75      5165\n",
            "   macro avg       0.38      0.40      0.39      5165\n",
            "weighted avg       0.78      0.75      0.76      5165\n",
            "\n"
          ]
        }
      ]
    },
    {
      "cell_type": "markdown",
      "source": [
        "### Теперь попробуем без дообучения, заморозим слой Embedding"
      ],
      "metadata": {
        "id": "L4TMgWMg_ehS"
      }
    },
    {
      "cell_type": "code",
      "source": [
        "model = Sequential([\n",
        "    Embedding(MAX_WORDS+1, embedding_dim),\n",
        "    Conv1D(embedding_dim*2, 3),\n",
        "    GlobalMaxPooling1D(),\n",
        "    Dense(hidden_dim, activation='relu'),\n",
        "    Dense(hidden_dim//2, activation='relu'),\n",
        "\n",
        "    Dense(units=5, activation='sigmoid')\n",
        "])"
      ],
      "metadata": {
        "id": "X1MBIxws_y6_"
      },
      "execution_count": null,
      "outputs": []
    },
    {
      "cell_type": "markdown",
      "source": [
        "Инициализируем веса:"
      ],
      "metadata": {
        "id": "-DRBWQYOMtQI"
      }
    },
    {
      "cell_type": "code",
      "source": [
        "model.layers[0].set_weights([embedding_start_weights])"
      ],
      "metadata": {
        "id": "2RXi9Ff6_4EU"
      },
      "execution_count": null,
      "outputs": []
    },
    {
      "cell_type": "markdown",
      "source": [
        "Заморозим веса:"
      ],
      "metadata": {
        "id": "zsRL-xMdMuET"
      }
    },
    {
      "cell_type": "code",
      "source": [
        "model.layers[0].trainable=False"
      ],
      "metadata": {
        "id": "2mi3R8-__6sR"
      },
      "execution_count": null,
      "outputs": []
    },
    {
      "cell_type": "code",
      "source": [
        "model.build((None, MAX_LEN, embedding_dim))\n",
        "model.summary()\n",
        "model.compile(loss=tf.keras.losses.SparseCategoricalCrossentropy(),\n",
        "              loss_weights=disbalance,\n",
        "              optimizer='adam',\n",
        "              metrics=['accuracy'])"
      ],
      "metadata": {
        "colab": {
          "base_uri": "https://localhost:8080/"
        },
        "id": "V0s9es9VAMdt",
        "outputId": "c28d9c1d-4937-47c2-d64b-b4349cf32001"
      },
      "execution_count": null,
      "outputs": [
        {
          "output_type": "stream",
          "name": "stdout",
          "text": [
            "Model: \"sequential_4\"\n",
            "_________________________________________________________________\n",
            " Layer (type)                Output Shape              Param #   \n",
            "=================================================================\n",
            " embedding_4 (Embedding)     (None, None, 300)         61712400  \n",
            "                                                                 \n",
            " conv1d_4 (Conv1D)           (None, None, 600)         540600    \n",
            "                                                                 \n",
            " global_max_pooling1d_4 (Glo  (None, 600)              0         \n",
            " balMaxPooling1D)                                                \n",
            "                                                                 \n",
            " dense_12 (Dense)            (None, 512)               307712    \n",
            "                                                                 \n",
            " dense_13 (Dense)            (None, 256)               131328    \n",
            "                                                                 \n",
            " dense_14 (Dense)            (None, 5)                 1285      \n",
            "                                                                 \n",
            "=================================================================\n",
            "Total params: 62,693,325\n",
            "Trainable params: 980,925\n",
            "Non-trainable params: 61,712,400\n",
            "_________________________________________________________________\n"
          ]
        }
      ]
    },
    {
      "cell_type": "code",
      "source": [
        "with tf.device(\"GPU:0\"):\n",
        "  hh = model.fit(X_train_array, y_train_array, validation_data=(X_test_array, y_test_array), epochs=10)"
      ],
      "metadata": {
        "colab": {
          "base_uri": "https://localhost:8080/"
        },
        "id": "HavxaKAeAasa",
        "outputId": "91f6d2c0-eaea-465c-d6d1-1175ce16f08b"
      },
      "execution_count": null,
      "outputs": [
        {
          "output_type": "stream",
          "name": "stdout",
          "text": [
            "Epoch 1/10\n",
            "485/485 [==============================] - 3s 6ms/step - loss: 7.3771 - accuracy: 0.7486 - val_loss: 6.7346 - val_accuracy: 0.7648\n",
            "Epoch 2/10\n",
            "485/485 [==============================] - 3s 6ms/step - loss: 6.3066 - accuracy: 0.7792 - val_loss: 6.8795 - val_accuracy: 0.7729\n",
            "Epoch 3/10\n",
            "485/485 [==============================] - 2s 5ms/step - loss: 5.8015 - accuracy: 0.7935 - val_loss: 6.8772 - val_accuracy: 0.7742\n",
            "Epoch 4/10\n",
            "485/485 [==============================] - 2s 5ms/step - loss: 5.2623 - accuracy: 0.8167 - val_loss: 7.2351 - val_accuracy: 0.7655\n",
            "Epoch 5/10\n",
            "485/485 [==============================] - 3s 5ms/step - loss: 4.6633 - accuracy: 0.8367 - val_loss: 7.4507 - val_accuracy: 0.7574\n",
            "Epoch 6/10\n",
            "485/485 [==============================] - 3s 6ms/step - loss: 4.1492 - accuracy: 0.8598 - val_loss: 8.0517 - val_accuracy: 0.7549\n",
            "Epoch 7/10\n",
            "485/485 [==============================] - 2s 5ms/step - loss: 3.5530 - accuracy: 0.8819 - val_loss: 9.0171 - val_accuracy: 0.7526\n",
            "Epoch 8/10\n",
            "485/485 [==============================] - 3s 5ms/step - loss: 3.1184 - accuracy: 0.8991 - val_loss: 10.3450 - val_accuracy: 0.7572\n",
            "Epoch 9/10\n",
            "485/485 [==============================] - 3s 5ms/step - loss: 2.8060 - accuracy: 0.9104 - val_loss: 10.6865 - val_accuracy: 0.7460\n",
            "Epoch 10/10\n",
            "485/485 [==============================] - 2s 5ms/step - loss: 2.7047 - accuracy: 0.9162 - val_loss: 10.7041 - val_accuracy: 0.7539\n"
          ]
        }
      ]
    },
    {
      "cell_type": "code",
      "source": [
        "print(classification_report(np.argmax(model.predict(X_test_array), axis=1), y_test_array))"
      ],
      "metadata": {
        "colab": {
          "base_uri": "https://localhost:8080/"
        },
        "id": "loiF0pm5CL4h",
        "outputId": "ade924ce-2c2e-4b75-8e20-be442b24bdd2"
      },
      "execution_count": null,
      "outputs": [
        {
          "output_type": "stream",
          "name": "stdout",
          "text": [
            "              precision    recall  f1-score   support\n",
            "\n",
            "           0       0.66      0.51      0.57       755\n",
            "           1       0.09      0.15      0.12       120\n",
            "           2       0.08      0.15      0.10       130\n",
            "           3       0.15      0.30      0.20       258\n",
            "           4       0.93      0.87      0.90      3902\n",
            "\n",
            "    accuracy                           0.75      5165\n",
            "   macro avg       0.38      0.39      0.38      5165\n",
            "weighted avg       0.81      0.75      0.78      5165\n",
            "\n"
          ]
        }
      ]
    },
    {
      "cell_type": "markdown",
      "source": [
        "### Посмотрим как будет обучаться модель со случайными весами Embedding слоя, при этом мы его заморозим, по идеи метрики должны быть гораздо хуже"
      ],
      "metadata": {
        "id": "8OERNw-QAjFa"
      }
    },
    {
      "cell_type": "code",
      "source": [
        "model = Sequential([\n",
        "    Embedding(MAX_WORDS+1, embedding_dim),\n",
        "    Conv1D(embedding_dim*2, 3),\n",
        "    GlobalMaxPooling1D(),\n",
        "    Dense(hidden_dim, activation='relu'),\n",
        "    Dense(hidden_dim//2, activation='relu'),\n",
        "\n",
        "    Dense(units=5, activation='sigmoid')\n",
        "])"
      ],
      "metadata": {
        "id": "bz5vzZU4A3-G"
      },
      "execution_count": null,
      "outputs": []
    },
    {
      "cell_type": "markdown",
      "source": [
        "Заморозим веса:"
      ],
      "metadata": {
        "id": "c8XqyczRMw9A"
      }
    },
    {
      "cell_type": "code",
      "source": [
        "model.layers[0].trainable=False"
      ],
      "metadata": {
        "id": "4hJmVsS1A7HP"
      },
      "execution_count": null,
      "outputs": []
    },
    {
      "cell_type": "code",
      "source": [
        "model.build((None, MAX_LEN, embedding_dim))\n",
        "model.summary()\n",
        "model.compile(loss=tf.keras.losses.SparseCategoricalCrossentropy(),\n",
        "              loss_weights=disbalance,\n",
        "              optimizer='adam',\n",
        "              metrics=['accuracy'])"
      ],
      "metadata": {
        "colab": {
          "base_uri": "https://localhost:8080/"
        },
        "id": "WeeZL-2uA7uf",
        "outputId": "2c547164-1612-40c5-ed01-2bcd0ee839b2"
      },
      "execution_count": null,
      "outputs": [
        {
          "output_type": "stream",
          "name": "stdout",
          "text": [
            "Model: \"sequential_5\"\n",
            "_________________________________________________________________\n",
            " Layer (type)                Output Shape              Param #   \n",
            "=================================================================\n",
            " embedding_5 (Embedding)     (None, None, 300)         61712400  \n",
            "                                                                 \n",
            " conv1d_5 (Conv1D)           (None, None, 600)         540600    \n",
            "                                                                 \n",
            " global_max_pooling1d_5 (Glo  (None, 600)              0         \n",
            " balMaxPooling1D)                                                \n",
            "                                                                 \n",
            " dense_15 (Dense)            (None, 512)               307712    \n",
            "                                                                 \n",
            " dense_16 (Dense)            (None, 256)               131328    \n",
            "                                                                 \n",
            " dense_17 (Dense)            (None, 5)                 1285      \n",
            "                                                                 \n",
            "=================================================================\n",
            "Total params: 62,693,325\n",
            "Trainable params: 980,925\n",
            "Non-trainable params: 61,712,400\n",
            "_________________________________________________________________\n"
          ]
        }
      ]
    },
    {
      "cell_type": "code",
      "source": [
        "with tf.device(\"GPU:0\"):\n",
        "  hh = model.fit(X_train_array, y_train_array, validation_data=(X_test_array, y_test_array), epochs=10)"
      ],
      "metadata": {
        "colab": {
          "base_uri": "https://localhost:8080/"
        },
        "id": "C1mndCD9A_J-",
        "outputId": "eeb3d069-0b75-4438-894d-f93f233be878"
      },
      "execution_count": null,
      "outputs": [
        {
          "output_type": "stream",
          "name": "stdout",
          "text": [
            "Epoch 1/10\n",
            "485/485 [==============================] - 3s 6ms/step - loss: 7.3157 - accuracy: 0.7498 - val_loss: 6.8913 - val_accuracy: 0.7615\n",
            "Epoch 2/10\n",
            "485/485 [==============================] - 2s 5ms/step - loss: 6.3895 - accuracy: 0.7824 - val_loss: 6.6750 - val_accuracy: 0.7652\n",
            "Epoch 3/10\n",
            "485/485 [==============================] - 2s 5ms/step - loss: 5.6424 - accuracy: 0.8082 - val_loss: 6.9688 - val_accuracy: 0.7570\n",
            "Epoch 4/10\n",
            "485/485 [==============================] - 3s 6ms/step - loss: 4.7242 - accuracy: 0.8419 - val_loss: 7.4695 - val_accuracy: 0.7595\n",
            "Epoch 5/10\n",
            "485/485 [==============================] - 3s 6ms/step - loss: 3.8484 - accuracy: 0.8716 - val_loss: 8.7631 - val_accuracy: 0.7351\n",
            "Epoch 6/10\n",
            "485/485 [==============================] - 3s 6ms/step - loss: 3.3967 - accuracy: 0.8906 - val_loss: 9.4751 - val_accuracy: 0.7444\n",
            "Epoch 7/10\n",
            "485/485 [==============================] - 2s 5ms/step - loss: 2.9428 - accuracy: 0.9071 - val_loss: 12.4322 - val_accuracy: 0.7607\n",
            "Epoch 8/10\n",
            "485/485 [==============================] - 3s 6ms/step - loss: 2.6564 - accuracy: 0.9193 - val_loss: 12.0757 - val_accuracy: 0.7400\n",
            "Epoch 9/10\n",
            "485/485 [==============================] - 3s 5ms/step - loss: 2.6029 - accuracy: 0.9207 - val_loss: 11.7363 - val_accuracy: 0.7435\n",
            "Epoch 10/10\n",
            "485/485 [==============================] - 2s 5ms/step - loss: 2.3659 - accuracy: 0.9287 - val_loss: 13.6564 - val_accuracy: 0.7462\n"
          ]
        }
      ]
    },
    {
      "cell_type": "code",
      "source": [
        "print(classification_report(np.argmax(model.predict(X_test_array), axis=1), y_test_array))"
      ],
      "metadata": {
        "colab": {
          "base_uri": "https://localhost:8080/"
        },
        "id": "bEMyqpwaCK7C",
        "outputId": "c8150079-f729-47ce-a298-f4dc93f1a9c5"
      },
      "execution_count": null,
      "outputs": [
        {
          "output_type": "stream",
          "name": "stdout",
          "text": [
            "              precision    recall  f1-score   support\n",
            "\n",
            "           0       0.50      0.55      0.52       532\n",
            "           1       0.14      0.18      0.15       147\n",
            "           2       0.19      0.20      0.19       224\n",
            "           3       0.15      0.27      0.19       282\n",
            "           4       0.94      0.86      0.90      3980\n",
            "\n",
            "    accuracy                           0.75      5165\n",
            "   macro avg       0.38      0.41      0.39      5165\n",
            "weighted avg       0.79      0.75      0.77      5165\n",
            "\n"
          ]
        }
      ]
    },
    {
      "cell_type": "markdown",
      "source": [
        "Метрики остались такими же. Даже со случайными векторами сетка может обучаться до 0.92 accuracy на train."
      ],
      "metadata": {
        "id": "4v2K8g56PXnR"
      }
    },
    {
      "cell_type": "markdown",
      "source": [
        "### Вывод:\n",
        "\n",
        "Все результаты оказались приблизительно одинаково плохими, возможно стоит обратить внимание на сами данные и как делается их предобработка. Так же можно попробывать dropout и batchnorm чтоби снизить явное переобучение. Возможно стоит поискать word2vec веса получше. \n",
        "\n",
        "Стоит отметить, что метрика на train при обучении Embedding без предобученных весов оказалась выше. Так как модель начала быстро затачиваться под конкретные слова и набирать большую метрику.\n",
        "\n",
        "Так как в последнем эксперименте сетка смогла обучиться даже на случайных векторах (хотя метрика на train меньше, чем когда мы обучали слой Embedding), то очевидно, что проблема в переобучении. Поэтому есть веский повод попробывать заменить некоторые слова на сущности/тэги, которые так кстати давались вместе с word2vec данными. Тогда переобучение должно будет уменьшиться."
      ],
      "metadata": {
        "id": "pHgPoD_TzaGO"
      }
    }
  ]
}