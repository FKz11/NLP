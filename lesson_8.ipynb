{
  "nbformat": 4,
  "nbformat_minor": 0,
  "metadata": {
    "colab": {
      "provenance": [],
      "collapsed_sections": [],
      "authorship_tag": "ABX9TyOzfugh18uO8L6r5/AI5iWC",
      "include_colab_link": true
    },
    "kernelspec": {
      "name": "python3",
      "display_name": "Python 3"
    },
    "language_info": {
      "name": "python"
    },
    "accelerator": "GPU",
    "gpuClass": "standard"
  },
  "cells": [
    {
      "cell_type": "markdown",
      "metadata": {
        "id": "view-in-github",
        "colab_type": "text"
      },
      "source": [
        "<a href=\"https://colab.research.google.com/github/FKz11/NLP/blob/main/lesson_8.ipynb\" target=\"_parent\"><img src=\"https://colab.research.google.com/assets/colab-badge.svg\" alt=\"Open In Colab\"/></a>"
      ]
    },
    {
      "cell_type": "markdown",
      "source": [
        "# Lesson-8"
      ],
      "metadata": {
        "id": "7PEJxL8b7LRL"
      }
    },
    {
      "cell_type": "markdown",
      "source": [
        "### Библиотеки:"
      ],
      "metadata": {
        "id": "hGUgwGhD7Sdj"
      }
    },
    {
      "cell_type": "code",
      "source": [
        "import pandas as pd\n",
        "import numpy as np\n",
        "\n",
        "from sklearn.model_selection import train_test_split"
      ],
      "metadata": {
        "id": "3dArvLGT7R_o"
      },
      "execution_count": 1,
      "outputs": []
    },
    {
      "cell_type": "markdown",
      "source": [
        "### Данные:"
      ],
      "metadata": {
        "id": "YGEVCe8P7WZ5"
      }
    },
    {
      "cell_type": "code",
      "execution_count": 2,
      "metadata": {
        "colab": {
          "base_uri": "https://localhost:8080/"
        },
        "id": "LarBMeZE6pzc",
        "outputId": "c296f749-482c-4b68-cc18-919a2f98400f"
      },
      "outputs": [
        {
          "output_type": "stream",
          "name": "stdout",
          "text": [
            "Mounted at /content/drive\n"
          ]
        }
      ],
      "source": [
        "from google.colab import drive\n",
        "drive.mount('/content/drive')"
      ]
    },
    {
      "cell_type": "code",
      "source": [
        "df = pd.read_csv('/content/drive/MyDrive/Colab Notebooks/Отзывы за лето.csv', encoding=\"windows-1251\", sep=';')\n",
        "df.head()"
      ],
      "metadata": {
        "colab": {
          "base_uri": "https://localhost:8080/",
          "height": 206
        },
        "id": "YhRPx29y7amn",
        "outputId": "b439322b-f4c5-46a2-bb18-a7bcf1bb1dfb"
      },
      "execution_count": 3,
      "outputs": [
        {
          "output_type": "execute_result",
          "data": {
            "text/plain": [
              "   Rating                                            Content        Date\n",
              "0       5                                     It just works!  2017-08-14\n",
              "1       4  В целом удобноное приложение...из минусов хотя...  2017-08-14\n",
              "2       5                                        Отлично все  2017-08-14\n",
              "3       5  Стал зависать на 1% работы антивируса. Дальше ...  2017-08-14\n",
              "4       5                     Очень удобно, работает быстро.  2017-08-14"
            ],
            "text/html": [
              "\n",
              "  <div id=\"df-88b68a69-c4c5-490a-a4e5-bf1c284387aa\">\n",
              "    <div class=\"colab-df-container\">\n",
              "      <div>\n",
              "<style scoped>\n",
              "    .dataframe tbody tr th:only-of-type {\n",
              "        vertical-align: middle;\n",
              "    }\n",
              "\n",
              "    .dataframe tbody tr th {\n",
              "        vertical-align: top;\n",
              "    }\n",
              "\n",
              "    .dataframe thead th {\n",
              "        text-align: right;\n",
              "    }\n",
              "</style>\n",
              "<table border=\"1\" class=\"dataframe\">\n",
              "  <thead>\n",
              "    <tr style=\"text-align: right;\">\n",
              "      <th></th>\n",
              "      <th>Rating</th>\n",
              "      <th>Content</th>\n",
              "      <th>Date</th>\n",
              "    </tr>\n",
              "  </thead>\n",
              "  <tbody>\n",
              "    <tr>\n",
              "      <th>0</th>\n",
              "      <td>5</td>\n",
              "      <td>It just works!</td>\n",
              "      <td>2017-08-14</td>\n",
              "    </tr>\n",
              "    <tr>\n",
              "      <th>1</th>\n",
              "      <td>4</td>\n",
              "      <td>В целом удобноное приложение...из минусов хотя...</td>\n",
              "      <td>2017-08-14</td>\n",
              "    </tr>\n",
              "    <tr>\n",
              "      <th>2</th>\n",
              "      <td>5</td>\n",
              "      <td>Отлично все</td>\n",
              "      <td>2017-08-14</td>\n",
              "    </tr>\n",
              "    <tr>\n",
              "      <th>3</th>\n",
              "      <td>5</td>\n",
              "      <td>Стал зависать на 1% работы антивируса. Дальше ...</td>\n",
              "      <td>2017-08-14</td>\n",
              "    </tr>\n",
              "    <tr>\n",
              "      <th>4</th>\n",
              "      <td>5</td>\n",
              "      <td>Очень удобно, работает быстро.</td>\n",
              "      <td>2017-08-14</td>\n",
              "    </tr>\n",
              "  </tbody>\n",
              "</table>\n",
              "</div>\n",
              "      <button class=\"colab-df-convert\" onclick=\"convertToInteractive('df-88b68a69-c4c5-490a-a4e5-bf1c284387aa')\"\n",
              "              title=\"Convert this dataframe to an interactive table.\"\n",
              "              style=\"display:none;\">\n",
              "        \n",
              "  <svg xmlns=\"http://www.w3.org/2000/svg\" height=\"24px\"viewBox=\"0 0 24 24\"\n",
              "       width=\"24px\">\n",
              "    <path d=\"M0 0h24v24H0V0z\" fill=\"none\"/>\n",
              "    <path d=\"M18.56 5.44l.94 2.06.94-2.06 2.06-.94-2.06-.94-.94-2.06-.94 2.06-2.06.94zm-11 1L8.5 8.5l.94-2.06 2.06-.94-2.06-.94L8.5 2.5l-.94 2.06-2.06.94zm10 10l.94 2.06.94-2.06 2.06-.94-2.06-.94-.94-2.06-.94 2.06-2.06.94z\"/><path d=\"M17.41 7.96l-1.37-1.37c-.4-.4-.92-.59-1.43-.59-.52 0-1.04.2-1.43.59L10.3 9.45l-7.72 7.72c-.78.78-.78 2.05 0 2.83L4 21.41c.39.39.9.59 1.41.59.51 0 1.02-.2 1.41-.59l7.78-7.78 2.81-2.81c.8-.78.8-2.07 0-2.86zM5.41 20L4 18.59l7.72-7.72 1.47 1.35L5.41 20z\"/>\n",
              "  </svg>\n",
              "      </button>\n",
              "      \n",
              "  <style>\n",
              "    .colab-df-container {\n",
              "      display:flex;\n",
              "      flex-wrap:wrap;\n",
              "      gap: 12px;\n",
              "    }\n",
              "\n",
              "    .colab-df-convert {\n",
              "      background-color: #E8F0FE;\n",
              "      border: none;\n",
              "      border-radius: 50%;\n",
              "      cursor: pointer;\n",
              "      display: none;\n",
              "      fill: #1967D2;\n",
              "      height: 32px;\n",
              "      padding: 0 0 0 0;\n",
              "      width: 32px;\n",
              "    }\n",
              "\n",
              "    .colab-df-convert:hover {\n",
              "      background-color: #E2EBFA;\n",
              "      box-shadow: 0px 1px 2px rgba(60, 64, 67, 0.3), 0px 1px 3px 1px rgba(60, 64, 67, 0.15);\n",
              "      fill: #174EA6;\n",
              "    }\n",
              "\n",
              "    [theme=dark] .colab-df-convert {\n",
              "      background-color: #3B4455;\n",
              "      fill: #D2E3FC;\n",
              "    }\n",
              "\n",
              "    [theme=dark] .colab-df-convert:hover {\n",
              "      background-color: #434B5C;\n",
              "      box-shadow: 0px 1px 3px 1px rgba(0, 0, 0, 0.15);\n",
              "      filter: drop-shadow(0px 1px 2px rgba(0, 0, 0, 0.3));\n",
              "      fill: #FFFFFF;\n",
              "    }\n",
              "  </style>\n",
              "\n",
              "      <script>\n",
              "        const buttonEl =\n",
              "          document.querySelector('#df-88b68a69-c4c5-490a-a4e5-bf1c284387aa button.colab-df-convert');\n",
              "        buttonEl.style.display =\n",
              "          google.colab.kernel.accessAllowed ? 'block' : 'none';\n",
              "\n",
              "        async function convertToInteractive(key) {\n",
              "          const element = document.querySelector('#df-88b68a69-c4c5-490a-a4e5-bf1c284387aa');\n",
              "          const dataTable =\n",
              "            await google.colab.kernel.invokeFunction('convertToInteractive',\n",
              "                                                     [key], {});\n",
              "          if (!dataTable) return;\n",
              "\n",
              "          const docLinkHtml = 'Like what you see? Visit the ' +\n",
              "            '<a target=\"_blank\" href=https://colab.research.google.com/notebooks/data_table.ipynb>data table notebook</a>'\n",
              "            + ' to learn more about interactive tables.';\n",
              "          element.innerHTML = '';\n",
              "          dataTable['output_type'] = 'display_data';\n",
              "          await google.colab.output.renderOutput(dataTable, element);\n",
              "          const docLink = document.createElement('div');\n",
              "          docLink.innerHTML = docLinkHtml;\n",
              "          element.appendChild(docLink);\n",
              "        }\n",
              "      </script>\n",
              "    </div>\n",
              "  </div>\n",
              "  "
            ]
          },
          "metadata": {},
          "execution_count": 3
        }
      ]
    },
    {
      "cell_type": "code",
      "source": [
        "X_train, X_test, y_train, y_test = train_test_split(df.drop('Rating', axis=1), df['Rating'], random_state=42)\n",
        "X_train.head()"
      ],
      "metadata": {
        "colab": {
          "base_uri": "https://localhost:8080/",
          "height": 206
        },
        "id": "fvWtTbL_7azb",
        "outputId": "d315624c-0313-43a3-d5c0-855a3e80fed2"
      },
      "execution_count": 4,
      "outputs": [
        {
          "output_type": "execute_result",
          "data": {
            "text/plain": [
              "                                                 Content        Date\n",
              "6926                             Отличное приложение))))  2017-08-04\n",
              "6735                                              Олекум  2017-08-04\n",
              "149    Хорошее приложение, но «антивирус» очень загру...  2017-08-14\n",
              "3069                                             Потянет  2017-08-09\n",
              "17455  Ужасное приложение положил деньги и они испари...  2017-07-11"
            ],
            "text/html": [
              "\n",
              "  <div id=\"df-dfb73a0e-36f8-417a-8ef3-fbaf5bf6659a\">\n",
              "    <div class=\"colab-df-container\">\n",
              "      <div>\n",
              "<style scoped>\n",
              "    .dataframe tbody tr th:only-of-type {\n",
              "        vertical-align: middle;\n",
              "    }\n",
              "\n",
              "    .dataframe tbody tr th {\n",
              "        vertical-align: top;\n",
              "    }\n",
              "\n",
              "    .dataframe thead th {\n",
              "        text-align: right;\n",
              "    }\n",
              "</style>\n",
              "<table border=\"1\" class=\"dataframe\">\n",
              "  <thead>\n",
              "    <tr style=\"text-align: right;\">\n",
              "      <th></th>\n",
              "      <th>Content</th>\n",
              "      <th>Date</th>\n",
              "    </tr>\n",
              "  </thead>\n",
              "  <tbody>\n",
              "    <tr>\n",
              "      <th>6926</th>\n",
              "      <td>Отличное приложение))))</td>\n",
              "      <td>2017-08-04</td>\n",
              "    </tr>\n",
              "    <tr>\n",
              "      <th>6735</th>\n",
              "      <td>Олекум</td>\n",
              "      <td>2017-08-04</td>\n",
              "    </tr>\n",
              "    <tr>\n",
              "      <th>149</th>\n",
              "      <td>Хорошее приложение, но «антивирус» очень загру...</td>\n",
              "      <td>2017-08-14</td>\n",
              "    </tr>\n",
              "    <tr>\n",
              "      <th>3069</th>\n",
              "      <td>Потянет</td>\n",
              "      <td>2017-08-09</td>\n",
              "    </tr>\n",
              "    <tr>\n",
              "      <th>17455</th>\n",
              "      <td>Ужасное приложение положил деньги и они испари...</td>\n",
              "      <td>2017-07-11</td>\n",
              "    </tr>\n",
              "  </tbody>\n",
              "</table>\n",
              "</div>\n",
              "      <button class=\"colab-df-convert\" onclick=\"convertToInteractive('df-dfb73a0e-36f8-417a-8ef3-fbaf5bf6659a')\"\n",
              "              title=\"Convert this dataframe to an interactive table.\"\n",
              "              style=\"display:none;\">\n",
              "        \n",
              "  <svg xmlns=\"http://www.w3.org/2000/svg\" height=\"24px\"viewBox=\"0 0 24 24\"\n",
              "       width=\"24px\">\n",
              "    <path d=\"M0 0h24v24H0V0z\" fill=\"none\"/>\n",
              "    <path d=\"M18.56 5.44l.94 2.06.94-2.06 2.06-.94-2.06-.94-.94-2.06-.94 2.06-2.06.94zm-11 1L8.5 8.5l.94-2.06 2.06-.94-2.06-.94L8.5 2.5l-.94 2.06-2.06.94zm10 10l.94 2.06.94-2.06 2.06-.94-2.06-.94-.94-2.06-.94 2.06-2.06.94z\"/><path d=\"M17.41 7.96l-1.37-1.37c-.4-.4-.92-.59-1.43-.59-.52 0-1.04.2-1.43.59L10.3 9.45l-7.72 7.72c-.78.78-.78 2.05 0 2.83L4 21.41c.39.39.9.59 1.41.59.51 0 1.02-.2 1.41-.59l7.78-7.78 2.81-2.81c.8-.78.8-2.07 0-2.86zM5.41 20L4 18.59l7.72-7.72 1.47 1.35L5.41 20z\"/>\n",
              "  </svg>\n",
              "      </button>\n",
              "      \n",
              "  <style>\n",
              "    .colab-df-container {\n",
              "      display:flex;\n",
              "      flex-wrap:wrap;\n",
              "      gap: 12px;\n",
              "    }\n",
              "\n",
              "    .colab-df-convert {\n",
              "      background-color: #E8F0FE;\n",
              "      border: none;\n",
              "      border-radius: 50%;\n",
              "      cursor: pointer;\n",
              "      display: none;\n",
              "      fill: #1967D2;\n",
              "      height: 32px;\n",
              "      padding: 0 0 0 0;\n",
              "      width: 32px;\n",
              "    }\n",
              "\n",
              "    .colab-df-convert:hover {\n",
              "      background-color: #E2EBFA;\n",
              "      box-shadow: 0px 1px 2px rgba(60, 64, 67, 0.3), 0px 1px 3px 1px rgba(60, 64, 67, 0.15);\n",
              "      fill: #174EA6;\n",
              "    }\n",
              "\n",
              "    [theme=dark] .colab-df-convert {\n",
              "      background-color: #3B4455;\n",
              "      fill: #D2E3FC;\n",
              "    }\n",
              "\n",
              "    [theme=dark] .colab-df-convert:hover {\n",
              "      background-color: #434B5C;\n",
              "      box-shadow: 0px 1px 3px 1px rgba(0, 0, 0, 0.15);\n",
              "      filter: drop-shadow(0px 1px 2px rgba(0, 0, 0, 0.3));\n",
              "      fill: #FFFFFF;\n",
              "    }\n",
              "  </style>\n",
              "\n",
              "      <script>\n",
              "        const buttonEl =\n",
              "          document.querySelector('#df-dfb73a0e-36f8-417a-8ef3-fbaf5bf6659a button.colab-df-convert');\n",
              "        buttonEl.style.display =\n",
              "          google.colab.kernel.accessAllowed ? 'block' : 'none';\n",
              "\n",
              "        async function convertToInteractive(key) {\n",
              "          const element = document.querySelector('#df-dfb73a0e-36f8-417a-8ef3-fbaf5bf6659a');\n",
              "          const dataTable =\n",
              "            await google.colab.kernel.invokeFunction('convertToInteractive',\n",
              "                                                     [key], {});\n",
              "          if (!dataTable) return;\n",
              "\n",
              "          const docLinkHtml = 'Like what you see? Visit the ' +\n",
              "            '<a target=\"_blank\" href=https://colab.research.google.com/notebooks/data_table.ipynb>data table notebook</a>'\n",
              "            + ' to learn more about interactive tables.';\n",
              "          element.innerHTML = '';\n",
              "          dataTable['output_type'] = 'display_data';\n",
              "          await google.colab.output.renderOutput(dataTable, element);\n",
              "          const docLink = document.createElement('div');\n",
              "          docLink.innerHTML = docLinkHtml;\n",
              "          element.appendChild(docLink);\n",
              "        }\n",
              "      </script>\n",
              "    </div>\n",
              "  </div>\n",
              "  "
            ]
          },
          "metadata": {},
          "execution_count": 4
        }
      ]
    },
    {
      "cell_type": "code",
      "source": [
        "y_train.value_counts()"
      ],
      "metadata": {
        "colab": {
          "base_uri": "https://localhost:8080/"
        },
        "id": "sgIeUl9E7dL8",
        "outputId": "50b4b1bf-d81c-41fa-fb6b-994b39aa9c3f"
      },
      "execution_count": 5,
      "outputs": [
        {
          "output_type": "execute_result",
          "data": {
            "text/plain": [
              "5    10933\n",
              "1     1699\n",
              "4     1627\n",
              "3      677\n",
              "2      558\n",
              "Name: Rating, dtype: int64"
            ]
          },
          "metadata": {},
          "execution_count": 5
        }
      ]
    },
    {
      "cell_type": "code",
      "source": [
        "disbalance=(y_train.value_counts().sort_index().max()/y_train.value_counts().sort_index()).values\n",
        "disbalance"
      ],
      "metadata": {
        "colab": {
          "base_uri": "https://localhost:8080/"
        },
        "id": "LkOBfkmz7iNb",
        "outputId": "0d0f37c8-2add-4bcd-ae33-d76e8e4b2a99"
      },
      "execution_count": 6,
      "outputs": [
        {
          "output_type": "execute_result",
          "data": {
            "text/plain": [
              "array([ 6.43496174, 19.59318996, 16.14918759,  6.71972956,  1.        ])"
            ]
          },
          "metadata": {},
          "execution_count": 6
        }
      ]
    },
    {
      "cell_type": "markdown",
      "source": [
        "### Предобработка"
      ],
      "metadata": {
        "id": "tOfZgdTI7kk2"
      }
    },
    {
      "cell_type": "markdown",
      "source": [
        "Предобработку возьмём с прошлого дз, так как данные те же"
      ],
      "metadata": {
        "id": "PtXxt_3sTstJ"
      }
    },
    {
      "cell_type": "code",
      "source": [
        "!pip install -qq stop_words\n",
        "!pip install -qq pymorphy2"
      ],
      "metadata": {
        "colab": {
          "base_uri": "https://localhost:8080/"
        },
        "id": "JjLtIVsS7ig1",
        "outputId": "61b2d599-2b03-4a82-ccfd-6ace3d16cd79"
      },
      "execution_count": 7,
      "outputs": [
        {
          "output_type": "stream",
          "name": "stdout",
          "text": [
            "  Building wheel for stop-words (setup.py) ... \u001b[?25l\u001b[?25hdone\n",
            "\u001b[K     |████████████████████████████████| 55 kB 4.4 MB/s \n",
            "\u001b[K     |████████████████████████████████| 8.2 MB 54.1 MB/s \n",
            "\u001b[?25h  Building wheel for docopt (setup.py) ... \u001b[?25l\u001b[?25hdone\n"
          ]
        }
      ]
    },
    {
      "cell_type": "code",
      "source": [
        "from string import punctuation\n",
        "from stop_words import get_stop_words\n",
        "from pymorphy2 import MorphAnalyzer"
      ],
      "metadata": {
        "id": "7zW6XujA7mbl"
      },
      "execution_count": 8,
      "outputs": []
    },
    {
      "cell_type": "code",
      "source": [
        "import nltk\n",
        "nltk.download('punkt')"
      ],
      "metadata": {
        "colab": {
          "base_uri": "https://localhost:8080/"
        },
        "id": "nKdnoy3U7nhD",
        "outputId": "2bee17af-915d-428f-b408-b945d3aba9a5"
      },
      "execution_count": 9,
      "outputs": [
        {
          "output_type": "stream",
          "name": "stderr",
          "text": [
            "[nltk_data] Downloading package punkt to /root/nltk_data...\n",
            "[nltk_data]   Unzipping tokenizers/punkt.zip.\n"
          ]
        },
        {
          "output_type": "execute_result",
          "data": {
            "text/plain": [
              "True"
            ]
          },
          "metadata": {},
          "execution_count": 9
        }
      ]
    },
    {
      "cell_type": "code",
      "source": [
        "sw = set(get_stop_words(\"ru\"))\n",
        "exclude = set(punctuation)\n",
        "morpher = MorphAnalyzer()\n",
        "\n",
        "def preprocess_text(txt):\n",
        "    txt = str(txt)\n",
        "    txt = \"\".join(c for c in txt if c not in exclude)\n",
        "    txt = txt.lower()\n",
        "    txt = [morpher.parse(word)[0].normal_form for word in nltk.word_tokenize(txt) if word not in sw]\n",
        "    return \" \".join(txt)\n",
        "\n",
        "X_train['Content_preprocess'] = X_train['Content'].apply(preprocess_text)\n",
        "X_test['Content_preprocess'] = X_test['Content'].apply(preprocess_text)\n",
        "X_train.head()"
      ],
      "metadata": {
        "colab": {
          "base_uri": "https://localhost:8080/",
          "height": 206
        },
        "id": "iuM1youC7oom",
        "outputId": "ebd1219e-9177-48f8-c103-ed6968236a3f"
      },
      "execution_count": 10,
      "outputs": [
        {
          "output_type": "execute_result",
          "data": {
            "text/plain": [
              "                                                 Content        Date  \\\n",
              "6926                             Отличное приложение))))  2017-08-04   \n",
              "6735                                              Олекум  2017-08-04   \n",
              "149    Хорошее приложение, но «антивирус» очень загру...  2017-08-14   \n",
              "3069                                             Потянет  2017-08-09   \n",
              "17455  Ужасное приложение положил деньги и они испари...  2017-07-11   \n",
              "\n",
              "                                      Content_preprocess  \n",
              "6926                                 отличный приложение  \n",
              "6735                                             олекума  \n",
              "149    хороший приложение « антивирус » загружать сис...  \n",
              "3069                                            потянуть  \n",
              "17455  ужасный приложение положить деньга испариться ...  "
            ],
            "text/html": [
              "\n",
              "  <div id=\"df-6ea6f474-1f47-44e9-b805-4e1b30d44448\">\n",
              "    <div class=\"colab-df-container\">\n",
              "      <div>\n",
              "<style scoped>\n",
              "    .dataframe tbody tr th:only-of-type {\n",
              "        vertical-align: middle;\n",
              "    }\n",
              "\n",
              "    .dataframe tbody tr th {\n",
              "        vertical-align: top;\n",
              "    }\n",
              "\n",
              "    .dataframe thead th {\n",
              "        text-align: right;\n",
              "    }\n",
              "</style>\n",
              "<table border=\"1\" class=\"dataframe\">\n",
              "  <thead>\n",
              "    <tr style=\"text-align: right;\">\n",
              "      <th></th>\n",
              "      <th>Content</th>\n",
              "      <th>Date</th>\n",
              "      <th>Content_preprocess</th>\n",
              "    </tr>\n",
              "  </thead>\n",
              "  <tbody>\n",
              "    <tr>\n",
              "      <th>6926</th>\n",
              "      <td>Отличное приложение))))</td>\n",
              "      <td>2017-08-04</td>\n",
              "      <td>отличный приложение</td>\n",
              "    </tr>\n",
              "    <tr>\n",
              "      <th>6735</th>\n",
              "      <td>Олекум</td>\n",
              "      <td>2017-08-04</td>\n",
              "      <td>олекума</td>\n",
              "    </tr>\n",
              "    <tr>\n",
              "      <th>149</th>\n",
              "      <td>Хорошее приложение, но «антивирус» очень загру...</td>\n",
              "      <td>2017-08-14</td>\n",
              "      <td>хороший приложение « антивирус » загружать сис...</td>\n",
              "    </tr>\n",
              "    <tr>\n",
              "      <th>3069</th>\n",
              "      <td>Потянет</td>\n",
              "      <td>2017-08-09</td>\n",
              "      <td>потянуть</td>\n",
              "    </tr>\n",
              "    <tr>\n",
              "      <th>17455</th>\n",
              "      <td>Ужасное приложение положил деньги и они испари...</td>\n",
              "      <td>2017-07-11</td>\n",
              "      <td>ужасный приложение положить деньга испариться ...</td>\n",
              "    </tr>\n",
              "  </tbody>\n",
              "</table>\n",
              "</div>\n",
              "      <button class=\"colab-df-convert\" onclick=\"convertToInteractive('df-6ea6f474-1f47-44e9-b805-4e1b30d44448')\"\n",
              "              title=\"Convert this dataframe to an interactive table.\"\n",
              "              style=\"display:none;\">\n",
              "        \n",
              "  <svg xmlns=\"http://www.w3.org/2000/svg\" height=\"24px\"viewBox=\"0 0 24 24\"\n",
              "       width=\"24px\">\n",
              "    <path d=\"M0 0h24v24H0V0z\" fill=\"none\"/>\n",
              "    <path d=\"M18.56 5.44l.94 2.06.94-2.06 2.06-.94-2.06-.94-.94-2.06-.94 2.06-2.06.94zm-11 1L8.5 8.5l.94-2.06 2.06-.94-2.06-.94L8.5 2.5l-.94 2.06-2.06.94zm10 10l.94 2.06.94-2.06 2.06-.94-2.06-.94-.94-2.06-.94 2.06-2.06.94z\"/><path d=\"M17.41 7.96l-1.37-1.37c-.4-.4-.92-.59-1.43-.59-.52 0-1.04.2-1.43.59L10.3 9.45l-7.72 7.72c-.78.78-.78 2.05 0 2.83L4 21.41c.39.39.9.59 1.41.59.51 0 1.02-.2 1.41-.59l7.78-7.78 2.81-2.81c.8-.78.8-2.07 0-2.86zM5.41 20L4 18.59l7.72-7.72 1.47 1.35L5.41 20z\"/>\n",
              "  </svg>\n",
              "      </button>\n",
              "      \n",
              "  <style>\n",
              "    .colab-df-container {\n",
              "      display:flex;\n",
              "      flex-wrap:wrap;\n",
              "      gap: 12px;\n",
              "    }\n",
              "\n",
              "    .colab-df-convert {\n",
              "      background-color: #E8F0FE;\n",
              "      border: none;\n",
              "      border-radius: 50%;\n",
              "      cursor: pointer;\n",
              "      display: none;\n",
              "      fill: #1967D2;\n",
              "      height: 32px;\n",
              "      padding: 0 0 0 0;\n",
              "      width: 32px;\n",
              "    }\n",
              "\n",
              "    .colab-df-convert:hover {\n",
              "      background-color: #E2EBFA;\n",
              "      box-shadow: 0px 1px 2px rgba(60, 64, 67, 0.3), 0px 1px 3px 1px rgba(60, 64, 67, 0.15);\n",
              "      fill: #174EA6;\n",
              "    }\n",
              "\n",
              "    [theme=dark] .colab-df-convert {\n",
              "      background-color: #3B4455;\n",
              "      fill: #D2E3FC;\n",
              "    }\n",
              "\n",
              "    [theme=dark] .colab-df-convert:hover {\n",
              "      background-color: #434B5C;\n",
              "      box-shadow: 0px 1px 3px 1px rgba(0, 0, 0, 0.15);\n",
              "      filter: drop-shadow(0px 1px 2px rgba(0, 0, 0, 0.3));\n",
              "      fill: #FFFFFF;\n",
              "    }\n",
              "  </style>\n",
              "\n",
              "      <script>\n",
              "        const buttonEl =\n",
              "          document.querySelector('#df-6ea6f474-1f47-44e9-b805-4e1b30d44448 button.colab-df-convert');\n",
              "        buttonEl.style.display =\n",
              "          google.colab.kernel.accessAllowed ? 'block' : 'none';\n",
              "\n",
              "        async function convertToInteractive(key) {\n",
              "          const element = document.querySelector('#df-6ea6f474-1f47-44e9-b805-4e1b30d44448');\n",
              "          const dataTable =\n",
              "            await google.colab.kernel.invokeFunction('convertToInteractive',\n",
              "                                                     [key], {});\n",
              "          if (!dataTable) return;\n",
              "\n",
              "          const docLinkHtml = 'Like what you see? Visit the ' +\n",
              "            '<a target=\"_blank\" href=https://colab.research.google.com/notebooks/data_table.ipynb>data table notebook</a>'\n",
              "            + ' to learn more about interactive tables.';\n",
              "          element.innerHTML = '';\n",
              "          dataTable['output_type'] = 'display_data';\n",
              "          await google.colab.output.renderOutput(dataTable, element);\n",
              "          const docLink = document.createElement('div');\n",
              "          docLink.innerHTML = docLinkHtml;\n",
              "          element.appendChild(docLink);\n",
              "        }\n",
              "      </script>\n",
              "    </div>\n",
              "  </div>\n",
              "  "
            ]
          },
          "metadata": {},
          "execution_count": 10
        }
      ]
    },
    {
      "cell_type": "code",
      "source": [
        "from collections import Counter"
      ],
      "metadata": {
        "id": "r9BJvFSZ7qZD"
      },
      "execution_count": 11,
      "outputs": []
    },
    {
      "cell_type": "code",
      "source": [
        "corpus = (\" \".join(X_train['Content_preprocess'])).split()\n",
        "corpus_count = Counter(corpus)\n",
        "corpus_count.most_common(10)"
      ],
      "metadata": {
        "colab": {
          "base_uri": "https://localhost:8080/"
        },
        "id": "PWtNsbbw7rl1",
        "outputId": "040f0e8c-180f-4077-eba4-d1ca8b11d5b8"
      },
      "execution_count": 12,
      "outputs": [
        {
          "output_type": "execute_result",
          "data": {
            "text/plain": [
              "[('приложение', 4849),\n",
              " ('удобно', 2495),\n",
              " ('работать', 1483),\n",
              " ('удобный', 1336),\n",
              " ('отлично', 968),\n",
              " ('нравиться', 858),\n",
              " ('хороший', 770),\n",
              " ('отличный', 758),\n",
              " ('телефон', 750),\n",
              " ('супер', 628)]"
            ]
          },
          "metadata": {},
          "execution_count": 12
        }
      ]
    },
    {
      "cell_type": "code",
      "source": [
        "max_words_true = len(corpus_count)\n",
        "max_words_true"
      ],
      "metadata": {
        "colab": {
          "base_uri": "https://localhost:8080/"
        },
        "id": "yQbmTfXR7sy1",
        "outputId": "e2598f2b-1765-4694-eaa3-718dc032da10"
      },
      "execution_count": 13,
      "outputs": [
        {
          "output_type": "execute_result",
          "data": {
            "text/plain": [
              "9064"
            ]
          },
          "metadata": {},
          "execution_count": 13
        }
      ]
    },
    {
      "cell_type": "code",
      "source": [
        "MAX_WORDS = max_words_true\n",
        "MAX_WORDS"
      ],
      "metadata": {
        "colab": {
          "base_uri": "https://localhost:8080/"
        },
        "id": "fv6thy687t11",
        "outputId": "349b6fa2-ad44-4c58-9927-95f76ce4dc86"
      },
      "execution_count": 14,
      "outputs": [
        {
          "output_type": "execute_result",
          "data": {
            "text/plain": [
              "9064"
            ]
          },
          "metadata": {},
          "execution_count": 14
        }
      ]
    },
    {
      "cell_type": "code",
      "source": [
        "vocabulary = {j:i for i, (j, _) in enumerate(corpus_count.most_common()[:MAX_WORDS], 1)}\n",
        "list(vocabulary.items())[:10]"
      ],
      "metadata": {
        "colab": {
          "base_uri": "https://localhost:8080/"
        },
        "id": "Dbn8KHxA7u1x",
        "outputId": "1dba2706-a432-476f-a655-fc5e38c10b7f"
      },
      "execution_count": 15,
      "outputs": [
        {
          "output_type": "execute_result",
          "data": {
            "text/plain": [
              "[('приложение', 1),\n",
              " ('удобно', 2),\n",
              " ('работать', 3),\n",
              " ('удобный', 4),\n",
              " ('отлично', 5),\n",
              " ('нравиться', 6),\n",
              " ('хороший', 7),\n",
              " ('отличный', 8),\n",
              " ('телефон', 9),\n",
              " ('супер', 10)]"
            ]
          },
          "metadata": {},
          "execution_count": 15
        }
      ]
    },
    {
      "cell_type": "code",
      "source": [
        "max_len_true = max([len(txt) for txt in X_train['Content_preprocess']])\n",
        "max_len_true"
      ],
      "metadata": {
        "colab": {
          "base_uri": "https://localhost:8080/"
        },
        "id": "rqtObqQo7w4W",
        "outputId": "06784d3c-fc07-4f25-b4ae-f59ababcdf49"
      },
      "execution_count": 16,
      "outputs": [
        {
          "output_type": "execute_result",
          "data": {
            "text/plain": [
              "877"
            ]
          },
          "metadata": {},
          "execution_count": 16
        }
      ]
    },
    {
      "cell_type": "code",
      "source": [
        "np.mean([len(txt) for txt in X_train['Content_preprocess']])"
      ],
      "metadata": {
        "colab": {
          "base_uri": "https://localhost:8080/"
        },
        "id": "kRr7RSzV7yHp",
        "outputId": "c1b996e7-812e-4380-d9f9-83f13c24df0d"
      },
      "execution_count": 17,
      "outputs": [
        {
          "output_type": "execute_result",
          "data": {
            "text/plain": [
              "40.31754227442881"
            ]
          },
          "metadata": {},
          "execution_count": 17
        }
      ]
    },
    {
      "cell_type": "code",
      "source": [
        "MAX_LEN = 50\n",
        "MAX_LEN"
      ],
      "metadata": {
        "colab": {
          "base_uri": "https://localhost:8080/"
        },
        "id": "XeXRoigV7z7a",
        "outputId": "191cfc7b-c80e-4616-f6d6-ceeb4a198ebc"
      },
      "execution_count": 18,
      "outputs": [
        {
          "output_type": "execute_result",
          "data": {
            "text/plain": [
              "50"
            ]
          },
          "metadata": {},
          "execution_count": 18
        }
      ]
    },
    {
      "cell_type": "code",
      "source": [
        "X_train['Content_sequence'] = X_train['Content_preprocess'].apply(lambda text: [vocabulary.get(word, 0) for word in text.split()][:MAX_LEN]+[0]*(MAX_LEN-len(text.split())))\n",
        "X_test['Content_sequence'] = X_test['Content_preprocess'].apply(lambda text: [vocabulary.get(word, 0) for word in text.split()][:MAX_LEN]+[0]*(MAX_LEN-len(text.split())))\n",
        "X_train.head()"
      ],
      "metadata": {
        "colab": {
          "base_uri": "https://localhost:8080/",
          "height": 206
        },
        "id": "tLCYx5xp708w",
        "outputId": "567953fb-cad9-418f-bb92-e4a5d02dd6d0"
      },
      "execution_count": 19,
      "outputs": [
        {
          "output_type": "execute_result",
          "data": {
            "text/plain": [
              "                                                 Content        Date  \\\n",
              "6926                             Отличное приложение))))  2017-08-04   \n",
              "6735                                              Олекум  2017-08-04   \n",
              "149    Хорошее приложение, но «антивирус» очень загру...  2017-08-14   \n",
              "3069                                             Потянет  2017-08-09   \n",
              "17455  Ужасное приложение положил деньги и они испари...  2017-07-11   \n",
              "\n",
              "                                      Content_preprocess  \\\n",
              "6926                                 отличный приложение   \n",
              "6735                                             олекума   \n",
              "149    хороший приложение « антивирус » загружать сис...   \n",
              "3069                                            потянуть   \n",
              "17455  ужасный приложение положить деньга испариться ...   \n",
              "\n",
              "                                        Content_sequence  \n",
              "6926   [8, 1, 0, 0, 0, 0, 0, 0, 0, 0, 0, 0, 0, 0, 0, ...  \n",
              "6735   [3391, 0, 0, 0, 0, 0, 0, 0, 0, 0, 0, 0, 0, 0, ...  \n",
              "149    [7, 1, 1016, 16, 1017, 595, 199, 0, 0, 0, 0, 0...  \n",
              "3069   [2426, 0, 0, 0, 0, 0, 0, 0, 0, 0, 0, 0, 0, 0, ...  \n",
              "17455  [211, 1, 534, 36, 3392, 773, 356, 472, 1633, 8...  "
            ],
            "text/html": [
              "\n",
              "  <div id=\"df-c98dc3db-bdc0-49a7-b513-4420fe381dde\">\n",
              "    <div class=\"colab-df-container\">\n",
              "      <div>\n",
              "<style scoped>\n",
              "    .dataframe tbody tr th:only-of-type {\n",
              "        vertical-align: middle;\n",
              "    }\n",
              "\n",
              "    .dataframe tbody tr th {\n",
              "        vertical-align: top;\n",
              "    }\n",
              "\n",
              "    .dataframe thead th {\n",
              "        text-align: right;\n",
              "    }\n",
              "</style>\n",
              "<table border=\"1\" class=\"dataframe\">\n",
              "  <thead>\n",
              "    <tr style=\"text-align: right;\">\n",
              "      <th></th>\n",
              "      <th>Content</th>\n",
              "      <th>Date</th>\n",
              "      <th>Content_preprocess</th>\n",
              "      <th>Content_sequence</th>\n",
              "    </tr>\n",
              "  </thead>\n",
              "  <tbody>\n",
              "    <tr>\n",
              "      <th>6926</th>\n",
              "      <td>Отличное приложение))))</td>\n",
              "      <td>2017-08-04</td>\n",
              "      <td>отличный приложение</td>\n",
              "      <td>[8, 1, 0, 0, 0, 0, 0, 0, 0, 0, 0, 0, 0, 0, 0, ...</td>\n",
              "    </tr>\n",
              "    <tr>\n",
              "      <th>6735</th>\n",
              "      <td>Олекум</td>\n",
              "      <td>2017-08-04</td>\n",
              "      <td>олекума</td>\n",
              "      <td>[3391, 0, 0, 0, 0, 0, 0, 0, 0, 0, 0, 0, 0, 0, ...</td>\n",
              "    </tr>\n",
              "    <tr>\n",
              "      <th>149</th>\n",
              "      <td>Хорошее приложение, но «антивирус» очень загру...</td>\n",
              "      <td>2017-08-14</td>\n",
              "      <td>хороший приложение « антивирус » загружать сис...</td>\n",
              "      <td>[7, 1, 1016, 16, 1017, 595, 199, 0, 0, 0, 0, 0...</td>\n",
              "    </tr>\n",
              "    <tr>\n",
              "      <th>3069</th>\n",
              "      <td>Потянет</td>\n",
              "      <td>2017-08-09</td>\n",
              "      <td>потянуть</td>\n",
              "      <td>[2426, 0, 0, 0, 0, 0, 0, 0, 0, 0, 0, 0, 0, 0, ...</td>\n",
              "    </tr>\n",
              "    <tr>\n",
              "      <th>17455</th>\n",
              "      <td>Ужасное приложение положил деньги и они испари...</td>\n",
              "      <td>2017-07-11</td>\n",
              "      <td>ужасный приложение положить деньга испариться ...</td>\n",
              "      <td>[211, 1, 534, 36, 3392, 773, 356, 472, 1633, 8...</td>\n",
              "    </tr>\n",
              "  </tbody>\n",
              "</table>\n",
              "</div>\n",
              "      <button class=\"colab-df-convert\" onclick=\"convertToInteractive('df-c98dc3db-bdc0-49a7-b513-4420fe381dde')\"\n",
              "              title=\"Convert this dataframe to an interactive table.\"\n",
              "              style=\"display:none;\">\n",
              "        \n",
              "  <svg xmlns=\"http://www.w3.org/2000/svg\" height=\"24px\"viewBox=\"0 0 24 24\"\n",
              "       width=\"24px\">\n",
              "    <path d=\"M0 0h24v24H0V0z\" fill=\"none\"/>\n",
              "    <path d=\"M18.56 5.44l.94 2.06.94-2.06 2.06-.94-2.06-.94-.94-2.06-.94 2.06-2.06.94zm-11 1L8.5 8.5l.94-2.06 2.06-.94-2.06-.94L8.5 2.5l-.94 2.06-2.06.94zm10 10l.94 2.06.94-2.06 2.06-.94-2.06-.94-.94-2.06-.94 2.06-2.06.94z\"/><path d=\"M17.41 7.96l-1.37-1.37c-.4-.4-.92-.59-1.43-.59-.52 0-1.04.2-1.43.59L10.3 9.45l-7.72 7.72c-.78.78-.78 2.05 0 2.83L4 21.41c.39.39.9.59 1.41.59.51 0 1.02-.2 1.41-.59l7.78-7.78 2.81-2.81c.8-.78.8-2.07 0-2.86zM5.41 20L4 18.59l7.72-7.72 1.47 1.35L5.41 20z\"/>\n",
              "  </svg>\n",
              "      </button>\n",
              "      \n",
              "  <style>\n",
              "    .colab-df-container {\n",
              "      display:flex;\n",
              "      flex-wrap:wrap;\n",
              "      gap: 12px;\n",
              "    }\n",
              "\n",
              "    .colab-df-convert {\n",
              "      background-color: #E8F0FE;\n",
              "      border: none;\n",
              "      border-radius: 50%;\n",
              "      cursor: pointer;\n",
              "      display: none;\n",
              "      fill: #1967D2;\n",
              "      height: 32px;\n",
              "      padding: 0 0 0 0;\n",
              "      width: 32px;\n",
              "    }\n",
              "\n",
              "    .colab-df-convert:hover {\n",
              "      background-color: #E2EBFA;\n",
              "      box-shadow: 0px 1px 2px rgba(60, 64, 67, 0.3), 0px 1px 3px 1px rgba(60, 64, 67, 0.15);\n",
              "      fill: #174EA6;\n",
              "    }\n",
              "\n",
              "    [theme=dark] .colab-df-convert {\n",
              "      background-color: #3B4455;\n",
              "      fill: #D2E3FC;\n",
              "    }\n",
              "\n",
              "    [theme=dark] .colab-df-convert:hover {\n",
              "      background-color: #434B5C;\n",
              "      box-shadow: 0px 1px 3px 1px rgba(0, 0, 0, 0.15);\n",
              "      filter: drop-shadow(0px 1px 2px rgba(0, 0, 0, 0.3));\n",
              "      fill: #FFFFFF;\n",
              "    }\n",
              "  </style>\n",
              "\n",
              "      <script>\n",
              "        const buttonEl =\n",
              "          document.querySelector('#df-c98dc3db-bdc0-49a7-b513-4420fe381dde button.colab-df-convert');\n",
              "        buttonEl.style.display =\n",
              "          google.colab.kernel.accessAllowed ? 'block' : 'none';\n",
              "\n",
              "        async function convertToInteractive(key) {\n",
              "          const element = document.querySelector('#df-c98dc3db-bdc0-49a7-b513-4420fe381dde');\n",
              "          const dataTable =\n",
              "            await google.colab.kernel.invokeFunction('convertToInteractive',\n",
              "                                                     [key], {});\n",
              "          if (!dataTable) return;\n",
              "\n",
              "          const docLinkHtml = 'Like what you see? Visit the ' +\n",
              "            '<a target=\"_blank\" href=https://colab.research.google.com/notebooks/data_table.ipynb>data table notebook</a>'\n",
              "            + ' to learn more about interactive tables.';\n",
              "          element.innerHTML = '';\n",
              "          dataTable['output_type'] = 'display_data';\n",
              "          await google.colab.output.renderOutput(dataTable, element);\n",
              "          const docLink = document.createElement('div');\n",
              "          docLink.innerHTML = docLinkHtml;\n",
              "          element.appendChild(docLink);\n",
              "        }\n",
              "      </script>\n",
              "    </div>\n",
              "  </div>\n",
              "  "
            ]
          },
          "metadata": {},
          "execution_count": 19
        }
      ]
    },
    {
      "cell_type": "code",
      "source": [
        "X_train_array = np.array([[j for j in i] for i in X_train['Content_sequence']])\n",
        "X_test_array = np.array([[j for j in i] for i in X_test['Content_sequence']])\n",
        "X_train_array[0][:10]"
      ],
      "metadata": {
        "colab": {
          "base_uri": "https://localhost:8080/"
        },
        "id": "K_EczXC-72Bs",
        "outputId": "045dad16-7a81-4982-c1c1-0f8a3cd27751"
      },
      "execution_count": 20,
      "outputs": [
        {
          "output_type": "execute_result",
          "data": {
            "text/plain": [
              "array([8, 1, 0, 0, 0, 0, 0, 0, 0, 0])"
            ]
          },
          "metadata": {},
          "execution_count": 20
        }
      ]
    },
    {
      "cell_type": "code",
      "source": [
        "y_train_array = y_train-1\n",
        "y_test_array = y_test-1\n",
        "y_train_array.head()"
      ],
      "metadata": {
        "colab": {
          "base_uri": "https://localhost:8080/"
        },
        "id": "AZYCFEGF73Ki",
        "outputId": "6f517d89-1c99-4547-a42a-5728266f5561"
      },
      "execution_count": 21,
      "outputs": [
        {
          "output_type": "execute_result",
          "data": {
            "text/plain": [
              "6926     4\n",
              "6735     4\n",
              "149      3\n",
              "3069     3\n",
              "17455    3\n",
              "Name: Rating, dtype: int64"
            ]
          },
          "metadata": {},
          "execution_count": 21
        }
      ]
    },
    {
      "cell_type": "code",
      "source": [
        "dict_metrics = {}"
      ],
      "metadata": {
        "id": "lJXxP-At8M08"
      },
      "execution_count": 22,
      "outputs": []
    },
    {
      "cell_type": "markdown",
      "source": [
        "## 1. построить свёрточные архитектуры"
      ],
      "metadata": {
        "id": "ZcDOe0Ul7_B_"
      }
    },
    {
      "cell_type": "markdown",
      "source": [
        "#### CNN_ker3"
      ],
      "metadata": {
        "id": "tSF773sw-u3T"
      }
    },
    {
      "cell_type": "code",
      "source": [
        "import tensorflow as tf\n",
        "from tensorflow.keras import Sequential\n",
        "from tensorflow.keras.layers import Dense, Embedding, GlobalMaxPooling1D, Dropout, BatchNormalization, Conv1D, LSTM, GRU, SimpleRNN, GlobalAveragePooling1D"
      ],
      "metadata": {
        "id": "jvQXR3dX74Vw"
      },
      "execution_count": 23,
      "outputs": []
    },
    {
      "cell_type": "code",
      "source": [
        "from sklearn.metrics import classification_report"
      ],
      "metadata": {
        "id": "ONGLvq9Q8HHx"
      },
      "execution_count": 24,
      "outputs": []
    },
    {
      "cell_type": "code",
      "source": [
        "def go_model(model):\n",
        "  print(model.summary())\n",
        "  model.compile(loss=tf.keras.losses.SparseCategoricalCrossentropy(),\n",
        "              loss_weights=disbalance,\n",
        "              optimizer='adam',\n",
        "              metrics=['accuracy'])\n",
        "  with tf.device(\"GPU:0\"):\n",
        "    hh = model.fit(X_train_array, y_train_array, validation_data=(X_test_array, y_test_array), epochs=10)\n",
        "  print(classification_report(y_test_array, np.argmax(model.predict(X_test_array), axis=1)))\n",
        "  return hh.history['val_accuracy'][-1]"
      ],
      "metadata": {
        "id": "AhGM17WA8oHv"
      },
      "execution_count": 25,
      "outputs": []
    },
    {
      "cell_type": "code",
      "source": [
        "embedding_dim=300\n",
        "hidden_dim=512\n",
        "\n",
        "model = Sequential([\n",
        "    Embedding(MAX_WORDS+1, embedding_dim, mask_zero=True),\n",
        "    Conv1D(embedding_dim*2, 3),\n",
        "    GlobalMaxPooling1D(),\n",
        "    Dense(hidden_dim, activation='relu'),\n",
        "    Dense(hidden_dim//2, activation='relu'),\n",
        "\n",
        "    Dense(units=5, activation='sigmoid')\n",
        "])"
      ],
      "metadata": {
        "id": "hFnq2CZq8CvB"
      },
      "execution_count": null,
      "outputs": []
    },
    {
      "cell_type": "code",
      "source": [
        "dict_metrics['CNN_ker3'] = go_model(model)"
      ],
      "metadata": {
        "colab": {
          "base_uri": "https://localhost:8080/"
        },
        "id": "gpZUpxIc8P_V",
        "outputId": "d68c5f83-a40c-4ee9-9956-4ac92c54ebd3"
      },
      "execution_count": null,
      "outputs": [
        {
          "output_type": "stream",
          "name": "stdout",
          "text": [
            "Model: \"sequential_6\"\n",
            "_________________________________________________________________\n",
            " Layer (type)                Output Shape              Param #   \n",
            "=================================================================\n",
            " embedding_6 (Embedding)     (None, None, 300)         2719500   \n",
            "                                                                 \n",
            " conv1d_9 (Conv1D)           (None, None, 600)         540600    \n",
            "                                                                 \n",
            " global_max_pooling1d_6 (Glo  (None, 600)              0         \n",
            " balMaxPooling1D)                                                \n",
            "                                                                 \n",
            " dense_18 (Dense)            (None, 512)               307712    \n",
            "                                                                 \n",
            " dense_19 (Dense)            (None, 256)               131328    \n",
            "                                                                 \n",
            " dense_20 (Dense)            (None, 5)                 1285      \n",
            "                                                                 \n",
            "=================================================================\n",
            "Total params: 3,700,425\n",
            "Trainable params: 3,700,425\n",
            "Non-trainable params: 0\n",
            "_________________________________________________________________\n",
            "None\n",
            "Epoch 1/10\n",
            "485/485 [==============================] - 4s 8ms/step - loss: 6.8665 - accuracy: 0.7647 - val_loss: 6.4652 - val_accuracy: 0.7789\n",
            "Epoch 2/10\n",
            "485/485 [==============================] - 4s 7ms/step - loss: 5.4382 - accuracy: 0.8082 - val_loss: 6.6106 - val_accuracy: 0.7729\n",
            "Epoch 3/10\n",
            "485/485 [==============================] - 3s 7ms/step - loss: 4.3740 - accuracy: 0.8461 - val_loss: 7.6278 - val_accuracy: 0.7535\n",
            "Epoch 4/10\n",
            "485/485 [==============================] - 4s 8ms/step - loss: 3.4052 - accuracy: 0.8838 - val_loss: 8.2917 - val_accuracy: 0.7512\n",
            "Epoch 5/10\n",
            "485/485 [==============================] - 4s 7ms/step - loss: 2.7364 - accuracy: 0.9100 - val_loss: 10.5984 - val_accuracy: 0.7609\n",
            "Epoch 6/10\n",
            "485/485 [==============================] - 3s 7ms/step - loss: 2.2410 - accuracy: 0.9289 - val_loss: 11.5037 - val_accuracy: 0.7530\n",
            "Epoch 7/10\n",
            "485/485 [==============================] - 4s 8ms/step - loss: 1.9270 - accuracy: 0.9402 - val_loss: 12.5671 - val_accuracy: 0.7427\n",
            "Epoch 8/10\n",
            "485/485 [==============================] - 3s 7ms/step - loss: 1.8307 - accuracy: 0.9429 - val_loss: 14.1634 - val_accuracy: 0.7452\n",
            "Epoch 9/10\n",
            "485/485 [==============================] - 3s 7ms/step - loss: 1.7899 - accuracy: 0.9433 - val_loss: 13.8366 - val_accuracy: 0.7452\n",
            "Epoch 10/10\n",
            "485/485 [==============================] - 3s 7ms/step - loss: 1.7045 - accuracy: 0.9468 - val_loss: 14.6116 - val_accuracy: 0.7431\n",
            "              precision    recall  f1-score   support\n",
            "\n",
            "           0       0.54      0.55      0.54       569\n",
            "           1       0.19      0.14      0.16       256\n",
            "           2       0.20      0.20      0.20       231\n",
            "           3       0.15      0.31      0.21       256\n",
            "           4       0.92      0.87      0.90      3853\n",
            "\n",
            "    accuracy                           0.74      5165\n",
            "   macro avg       0.40      0.41      0.40      5165\n",
            "weighted avg       0.77      0.74      0.76      5165\n",
            "\n"
          ]
        }
      ]
    },
    {
      "cell_type": "markdown",
      "source": [
        "#### CNN_ker2_ker3"
      ],
      "metadata": {
        "id": "_9CrImaE-tUX"
      }
    },
    {
      "cell_type": "code",
      "source": [
        "embedding_dim=300\n",
        "hidden_dim=512\n",
        "\n",
        "model = Sequential([\n",
        "    Embedding(MAX_WORDS+1, embedding_dim, mask_zero=True),\n",
        "    Conv1D(embedding_dim*2, 2),\n",
        "    Conv1D(embedding_dim*4, 3),\n",
        "    GlobalMaxPooling1D(),\n",
        "    Dense(hidden_dim, activation='relu'),\n",
        "    Dense(hidden_dim//2, activation='relu'),\n",
        "\n",
        "    Dense(units=5, activation='sigmoid')\n",
        "])"
      ],
      "metadata": {
        "id": "g1DlQamk_Q1E"
      },
      "execution_count": null,
      "outputs": []
    },
    {
      "cell_type": "code",
      "source": [
        "dict_metrics['CNN_ker2_ker3'] = go_model(model)"
      ],
      "metadata": {
        "colab": {
          "base_uri": "https://localhost:8080/"
        },
        "id": "ikq_gVQE_UHU",
        "outputId": "6b47c722-77f0-4aee-db0b-67f2569fdbfe"
      },
      "execution_count": null,
      "outputs": [
        {
          "output_type": "stream",
          "name": "stdout",
          "text": [
            "Model: \"sequential_7\"\n",
            "_________________________________________________________________\n",
            " Layer (type)                Output Shape              Param #   \n",
            "=================================================================\n",
            " embedding_7 (Embedding)     (None, None, 300)         2719500   \n",
            "                                                                 \n",
            " conv1d_10 (Conv1D)          (None, None, 600)         360600    \n",
            "                                                                 \n",
            " conv1d_11 (Conv1D)          (None, None, 1200)        2161200   \n",
            "                                                                 \n",
            " global_max_pooling1d_7 (Glo  (None, 1200)             0         \n",
            " balMaxPooling1D)                                                \n",
            "                                                                 \n",
            " dense_21 (Dense)            (None, 512)               614912    \n",
            "                                                                 \n",
            " dense_22 (Dense)            (None, 256)               131328    \n",
            "                                                                 \n",
            " dense_23 (Dense)            (None, 5)                 1285      \n",
            "                                                                 \n",
            "=================================================================\n",
            "Total params: 5,988,825\n",
            "Trainable params: 5,988,825\n",
            "Non-trainable params: 0\n",
            "_________________________________________________________________\n",
            "None\n",
            "Epoch 1/10\n",
            "485/485 [==============================] - 7s 14ms/step - loss: 7.0009 - accuracy: 0.7634 - val_loss: 6.5660 - val_accuracy: 0.7773\n",
            "Epoch 2/10\n",
            "485/485 [==============================] - 7s 13ms/step - loss: 5.7976 - accuracy: 0.7968 - val_loss: 6.6091 - val_accuracy: 0.7754\n",
            "Epoch 3/10\n",
            "485/485 [==============================] - 7s 14ms/step - loss: 4.8364 - accuracy: 0.8292 - val_loss: 7.3517 - val_accuracy: 0.7591\n",
            "Epoch 4/10\n",
            "485/485 [==============================] - 7s 13ms/step - loss: 4.1579 - accuracy: 0.8567 - val_loss: 7.5808 - val_accuracy: 0.7557\n",
            "Epoch 5/10\n",
            "485/485 [==============================] - 7s 14ms/step - loss: 3.5854 - accuracy: 0.8781 - val_loss: 8.7025 - val_accuracy: 0.7431\n",
            "Epoch 6/10\n",
            "485/485 [==============================] - 7s 14ms/step - loss: 3.0812 - accuracy: 0.8989 - val_loss: 8.9434 - val_accuracy: 0.7398\n",
            "Epoch 7/10\n",
            "485/485 [==============================] - 7s 14ms/step - loss: 2.8252 - accuracy: 0.9084 - val_loss: 10.7112 - val_accuracy: 0.7326\n",
            "Epoch 8/10\n",
            "485/485 [==============================] - 7s 14ms/step - loss: 2.5420 - accuracy: 0.9193 - val_loss: 10.4182 - val_accuracy: 0.7344\n",
            "Epoch 9/10\n",
            "485/485 [==============================] - 7s 14ms/step - loss: 2.3403 - accuracy: 0.9258 - val_loss: 11.5111 - val_accuracy: 0.7427\n",
            "Epoch 10/10\n",
            "485/485 [==============================] - 7s 13ms/step - loss: 2.2483 - accuracy: 0.9297 - val_loss: 13.0348 - val_accuracy: 0.7353\n",
            "              precision    recall  f1-score   support\n",
            "\n",
            "           0       0.58      0.54      0.56       619\n",
            "           1       0.13      0.15      0.14       162\n",
            "           2       0.20      0.17      0.19       263\n",
            "           3       0.17      0.26      0.21       333\n",
            "           4       0.91      0.87      0.89      3788\n",
            "\n",
            "    accuracy                           0.74      5165\n",
            "   macro avg       0.40      0.40      0.40      5165\n",
            "weighted avg       0.76      0.74      0.75      5165\n",
            "\n"
          ]
        }
      ]
    },
    {
      "cell_type": "markdown",
      "source": [
        "Увелечение количества свёрток не улучшило результат"
      ],
      "metadata": {
        "id": "Wxo2pubaEmtz"
      }
    },
    {
      "cell_type": "markdown",
      "source": [
        "## 2. построить различные архитектуры с RNN"
      ],
      "metadata": {
        "id": "8X0el8ZJJ4Bp"
      }
    },
    {
      "cell_type": "markdown",
      "source": [
        "#### RNN"
      ],
      "metadata": {
        "id": "lmeRWyy2ALYX"
      }
    },
    {
      "cell_type": "code",
      "source": [
        "embedding_dim=300\n",
        "hidden_dim=512\n",
        "\n",
        "model = Sequential([\n",
        "    Embedding(MAX_WORDS+1, embedding_dim),\n",
        "    SimpleRNN(embedding_dim),\n",
        "    Dense(hidden_dim, activation='relu'),\n",
        "    Dense(hidden_dim//2, activation='relu'),\n",
        "\n",
        "    Dense(units=5, activation='sigmoid')\n",
        "])"
      ],
      "metadata": {
        "id": "Dr7autYFFGs3"
      },
      "execution_count": null,
      "outputs": []
    },
    {
      "cell_type": "code",
      "source": [
        "dict_metrics['RNN_rnn'] = go_model(model)"
      ],
      "metadata": {
        "colab": {
          "base_uri": "https://localhost:8080/"
        },
        "id": "a1vA7v2XFH3H",
        "outputId": "4db4fc54-445d-47f8-b7f0-f361e2c9b412"
      },
      "execution_count": null,
      "outputs": [
        {
          "output_type": "stream",
          "name": "stdout",
          "text": [
            "Model: \"sequential_10\"\n",
            "_________________________________________________________________\n",
            " Layer (type)                Output Shape              Param #   \n",
            "=================================================================\n",
            " embedding_10 (Embedding)    (None, None, 300)         2719500   \n",
            "                                                                 \n",
            " simple_rnn_2 (SimpleRNN)    (None, 300)               180300    \n",
            "                                                                 \n",
            " dense_30 (Dense)            (None, 512)               154112    \n",
            "                                                                 \n",
            " dense_31 (Dense)            (None, 256)               131328    \n",
            "                                                                 \n",
            " dense_32 (Dense)            (None, 5)                 1285      \n",
            "                                                                 \n",
            "=================================================================\n",
            "Total params: 3,186,525\n",
            "Trainable params: 3,186,525\n",
            "Non-trainable params: 0\n",
            "_________________________________________________________________\n",
            "None\n",
            "Epoch 1/10\n",
            "485/485 [==============================] - 33s 66ms/step - loss: 8.9620 - accuracy: 0.7065 - val_loss: 8.1961 - val_accuracy: 0.7102\n",
            "Epoch 2/10\n",
            "485/485 [==============================] - 33s 68ms/step - loss: 8.5449 - accuracy: 0.7046 - val_loss: 8.5849 - val_accuracy: 0.7073\n",
            "Epoch 3/10\n",
            "485/485 [==============================] - 31s 64ms/step - loss: 8.4809 - accuracy: 0.7072 - val_loss: 7.8058 - val_accuracy: 0.7334\n",
            "Epoch 4/10\n",
            "485/485 [==============================] - 34s 71ms/step - loss: 8.5962 - accuracy: 0.7203 - val_loss: 9.5700 - val_accuracy: 0.7073\n",
            "Epoch 5/10\n",
            "485/485 [==============================] - 35s 73ms/step - loss: 9.5211 - accuracy: 0.7056 - val_loss: 9.6838 - val_accuracy: 0.7073\n",
            "Epoch 6/10\n",
            "485/485 [==============================] - 33s 69ms/step - loss: 9.5225 - accuracy: 0.7056 - val_loss: 9.4949 - val_accuracy: 0.7073\n",
            "Epoch 7/10\n",
            "485/485 [==============================] - 31s 64ms/step - loss: 9.5309 - accuracy: 0.7056 - val_loss: 9.4751 - val_accuracy: 0.7073\n",
            "Epoch 8/10\n",
            "485/485 [==============================] - 31s 64ms/step - loss: 9.5189 - accuracy: 0.7056 - val_loss: 9.7058 - val_accuracy: 0.7073\n",
            "Epoch 9/10\n",
            "485/485 [==============================] - 27s 56ms/step - loss: 9.5012 - accuracy: 0.7056 - val_loss: 9.4592 - val_accuracy: 0.7073\n",
            "Epoch 10/10\n",
            "485/485 [==============================] - 28s 57ms/step - loss: 9.4883 - accuracy: 0.7056 - val_loss: 9.5212 - val_accuracy: 0.7073\n",
            "              precision    recall  f1-score   support\n",
            "\n",
            "           0       0.00      0.00      0.00         0\n",
            "           1       0.00      0.00      0.00         0\n",
            "           2       0.00      0.00      0.00         0\n",
            "           3       0.00      0.00      0.00         0\n",
            "           4       1.00      0.71      0.83      5165\n",
            "\n",
            "    accuracy                           0.71      5165\n",
            "   macro avg       0.20      0.14      0.17      5165\n",
            "weighted avg       1.00      0.71      0.83      5165\n",
            "\n"
          ]
        },
        {
          "output_type": "stream",
          "name": "stderr",
          "text": [
            "/usr/local/lib/python3.7/dist-packages/sklearn/metrics/_classification.py:1318: UndefinedMetricWarning: Recall and F-score are ill-defined and being set to 0.0 in labels with no true samples. Use `zero_division` parameter to control this behavior.\n",
            "  _warn_prf(average, modifier, msg_start, len(result))\n",
            "/usr/local/lib/python3.7/dist-packages/sklearn/metrics/_classification.py:1318: UndefinedMetricWarning: Recall and F-score are ill-defined and being set to 0.0 in labels with no true samples. Use `zero_division` parameter to control this behavior.\n",
            "  _warn_prf(average, modifier, msg_start, len(result))\n",
            "/usr/local/lib/python3.7/dist-packages/sklearn/metrics/_classification.py:1318: UndefinedMetricWarning: Recall and F-score are ill-defined and being set to 0.0 in labels with no true samples. Use `zero_division` parameter to control this behavior.\n",
            "  _warn_prf(average, modifier, msg_start, len(result))\n"
          ]
        }
      ]
    },
    {
      "cell_type": "markdown",
      "source": [
        "У RNN не получается нормально обучаться, так как длина последовательности = 50 и она может нормально анализировать олько какие то последние n токенов, но они то как раз в большинстве случаев равны 0 и не несут смысла."
      ],
      "metadata": {
        "id": "rylVpL1AFKZ3"
      }
    },
    {
      "cell_type": "markdown",
      "source": [
        "Но это можно легко исправить добавив в слой Embedding mask_zero=True. Теперь эти последние нулевые токены не будут учитываться RNN, и она будет обучаться так же не глубоко, по последним токенам, но хотя бы не по нулевым токенам, а по тем, которые несут смысл."
      ],
      "metadata": {
        "id": "j3dNV6itFm3w"
      }
    },
    {
      "cell_type": "code",
      "source": [
        "embedding_dim=300\n",
        "hidden_dim=512\n",
        "\n",
        "model = Sequential([\n",
        "    Embedding(MAX_WORDS+1, embedding_dim, mask_zero=True),\n",
        "    SimpleRNN(embedding_dim),\n",
        "    Dense(hidden_dim, activation='relu'),\n",
        "    Dense(hidden_dim//2, activation='relu'),\n",
        "\n",
        "    Dense(units=5, activation='sigmoid')\n",
        "])"
      ],
      "metadata": {
        "id": "JD44eYXd_sBP"
      },
      "execution_count": null,
      "outputs": []
    },
    {
      "cell_type": "code",
      "source": [
        "dict_metrics['RNN_rnn'] = go_model(model)"
      ],
      "metadata": {
        "colab": {
          "base_uri": "https://localhost:8080/"
        },
        "id": "IGPzN9d0ARib",
        "outputId": "2bfa6772-c1bc-469e-dd05-9e0be3ee7f68"
      },
      "execution_count": null,
      "outputs": [
        {
          "output_type": "stream",
          "name": "stdout",
          "text": [
            "Model: \"sequential_11\"\n",
            "_________________________________________________________________\n",
            " Layer (type)                Output Shape              Param #   \n",
            "=================================================================\n",
            " embedding_11 (Embedding)    (None, None, 300)         2719500   \n",
            "                                                                 \n",
            " simple_rnn_3 (SimpleRNN)    (None, 300)               180300    \n",
            "                                                                 \n",
            " dense_33 (Dense)            (None, 512)               154112    \n",
            "                                                                 \n",
            " dense_34 (Dense)            (None, 256)               131328    \n",
            "                                                                 \n",
            " dense_35 (Dense)            (None, 5)                 1285      \n",
            "                                                                 \n",
            "=================================================================\n",
            "Total params: 3,186,525\n",
            "Trainable params: 3,186,525\n",
            "Non-trainable params: 0\n",
            "_________________________________________________________________\n",
            "None\n",
            "Epoch 1/10\n",
            "485/485 [==============================] - 50s 98ms/step - loss: 7.6304 - accuracy: 0.7423 - val_loss: 6.8234 - val_accuracy: 0.7702\n",
            "Epoch 2/10\n",
            "485/485 [==============================] - 44s 90ms/step - loss: 6.4330 - accuracy: 0.7717 - val_loss: 6.8492 - val_accuracy: 0.7653\n",
            "Epoch 3/10\n",
            "485/485 [==============================] - 47s 96ms/step - loss: 5.6420 - accuracy: 0.7986 - val_loss: 7.2056 - val_accuracy: 0.7653\n",
            "Epoch 4/10\n",
            "485/485 [==============================] - 49s 102ms/step - loss: 4.7917 - accuracy: 0.8316 - val_loss: 8.1000 - val_accuracy: 0.7133\n",
            "Epoch 5/10\n",
            "485/485 [==============================] - 50s 103ms/step - loss: 4.1876 - accuracy: 0.8541 - val_loss: 8.3462 - val_accuracy: 0.7384\n",
            "Epoch 6/10\n",
            "485/485 [==============================] - 42s 86ms/step - loss: 3.6721 - accuracy: 0.8763 - val_loss: 8.6730 - val_accuracy: 0.7448\n",
            "Epoch 7/10\n",
            "485/485 [==============================] - 42s 86ms/step - loss: 3.1524 - accuracy: 0.8952 - val_loss: 10.1099 - val_accuracy: 0.7396\n",
            "Epoch 8/10\n",
            "485/485 [==============================] - 44s 91ms/step - loss: 2.9230 - accuracy: 0.9033 - val_loss: 10.0919 - val_accuracy: 0.7454\n",
            "Epoch 9/10\n",
            "485/485 [==============================] - 42s 87ms/step - loss: 2.6290 - accuracy: 0.9164 - val_loss: 11.0974 - val_accuracy: 0.7220\n",
            "Epoch 10/10\n",
            "485/485 [==============================] - 42s 86ms/step - loss: 2.5124 - accuracy: 0.9192 - val_loss: 11.3280 - val_accuracy: 0.7260\n",
            "              precision    recall  f1-score   support\n",
            "\n",
            "           0       0.40      0.46      0.43       495\n",
            "           1       0.08      0.11      0.09       150\n",
            "           2       0.15      0.16      0.16       219\n",
            "           3       0.17      0.23      0.19       374\n",
            "           4       0.93      0.86      0.89      3927\n",
            "\n",
            "    accuracy                           0.73      5165\n",
            "   macro avg       0.35      0.37      0.35      5165\n",
            "weighted avg       0.76      0.73      0.74      5165\n",
            "\n"
          ]
        }
      ]
    },
    {
      "cell_type": "markdown",
      "source": [
        "RNN всё равно предаёт большее значение последним словам, так как мы используем только последний выход. Попробуем это изменить, анализируя каждые выходы."
      ],
      "metadata": {
        "id": "YOYk2fV3EwHX"
      }
    },
    {
      "cell_type": "markdown",
      "source": [
        "#### RNN_rnn_seq"
      ],
      "metadata": {
        "id": "-ZYIa0iJEdjA"
      }
    },
    {
      "cell_type": "code",
      "source": [
        "embedding_dim=300\n",
        "hidden_dim=512\n",
        "\n",
        "model = Sequential([\n",
        "    Embedding(MAX_WORDS+1, embedding_dim, mask_zero=True),\n",
        "    SimpleRNN(embedding_dim, return_sequences=True),\n",
        "    GlobalMaxPooling1D(),\n",
        "    Dense(hidden_dim, activation='relu'),\n",
        "    Dense(hidden_dim//2, activation='relu'),\n",
        "\n",
        "    Dense(units=5, activation='sigmoid')\n",
        "])"
      ],
      "metadata": {
        "id": "z3_Kh3mjEMzt"
      },
      "execution_count": null,
      "outputs": []
    },
    {
      "cell_type": "code",
      "source": [
        "dict_metrics['RNN_rnn_seq'] = go_model(model)"
      ],
      "metadata": {
        "colab": {
          "base_uri": "https://localhost:8080/"
        },
        "id": "m3ROGLAjENJf",
        "outputId": "c0b712e8-aedc-438a-cec8-025f56468360"
      },
      "execution_count": null,
      "outputs": [
        {
          "output_type": "stream",
          "name": "stdout",
          "text": [
            "Model: \"sequential_13\"\n",
            "_________________________________________________________________\n",
            " Layer (type)                Output Shape              Param #   \n",
            "=================================================================\n",
            " embedding_13 (Embedding)    (None, None, 300)         2719500   \n",
            "                                                                 \n",
            " simple_rnn_5 (SimpleRNN)    (None, None, 300)         180300    \n",
            "                                                                 \n",
            " global_max_pooling1d_8 (Glo  (None, 300)              0         \n",
            " balMaxPooling1D)                                                \n",
            "                                                                 \n",
            " dense_39 (Dense)            (None, 512)               154112    \n",
            "                                                                 \n",
            " dense_40 (Dense)            (None, 256)               131328    \n",
            "                                                                 \n",
            " dense_41 (Dense)            (None, 5)                 1285      \n",
            "                                                                 \n",
            "=================================================================\n",
            "Total params: 3,186,525\n",
            "Trainable params: 3,186,525\n",
            "Non-trainable params: 0\n",
            "_________________________________________________________________\n",
            "None\n",
            "Epoch 1/10\n",
            "485/485 [==============================] - 119s 242ms/step - loss: 7.1311 - accuracy: 0.7556 - val_loss: 6.6729 - val_accuracy: 0.7710\n",
            "Epoch 2/10\n",
            "485/485 [==============================] - 46s 96ms/step - loss: 5.9581 - accuracy: 0.7875 - val_loss: 6.9599 - val_accuracy: 0.7688\n",
            "Epoch 3/10\n",
            "485/485 [==============================] - 43s 89ms/step - loss: 5.3608 - accuracy: 0.8086 - val_loss: 6.7969 - val_accuracy: 0.7758\n",
            "Epoch 4/10\n",
            "485/485 [==============================] - 47s 98ms/step - loss: 4.8526 - accuracy: 0.8254 - val_loss: 7.0636 - val_accuracy: 0.7652\n",
            "Epoch 5/10\n",
            "485/485 [==============================] - 43s 89ms/step - loss: 4.4195 - accuracy: 0.8424 - val_loss: 7.5337 - val_accuracy: 0.7642\n",
            "Epoch 6/10\n",
            "485/485 [==============================] - 42s 86ms/step - loss: 4.0287 - accuracy: 0.8575 - val_loss: 8.3118 - val_accuracy: 0.7493\n",
            "Epoch 7/10\n",
            "485/485 [==============================] - 49s 101ms/step - loss: 3.6827 - accuracy: 0.8717 - val_loss: 9.3451 - val_accuracy: 0.7553\n",
            "Epoch 8/10\n",
            "485/485 [==============================] - 50s 103ms/step - loss: 3.3827 - accuracy: 0.8851 - val_loss: 8.9330 - val_accuracy: 0.7394\n",
            "Epoch 9/10\n",
            "485/485 [==============================] - 43s 89ms/step - loss: 3.1930 - accuracy: 0.8904 - val_loss: 10.0052 - val_accuracy: 0.7346\n",
            "Epoch 10/10\n",
            "485/485 [==============================] - 42s 86ms/step - loss: 2.8925 - accuracy: 0.9025 - val_loss: 10.4889 - val_accuracy: 0.7365\n",
            "              precision    recall  f1-score   support\n",
            "\n",
            "           0       0.47      0.55      0.51       494\n",
            "           1       0.25      0.20      0.22       233\n",
            "           2       0.21      0.18      0.19       273\n",
            "           3       0.18      0.26      0.21       358\n",
            "           4       0.91      0.88      0.90      3807\n",
            "\n",
            "    accuracy                           0.74      5165\n",
            "   macro avg       0.40      0.41      0.41      5165\n",
            "weighted avg       0.75      0.74      0.74      5165\n",
            "\n"
          ]
        }
      ]
    },
    {
      "cell_type": "markdown",
      "source": [
        "Как видно, с усреднением результаты оказались немного лучше"
      ],
      "metadata": {
        "id": "xhkKKWNNKYDZ"
      }
    },
    {
      "cell_type": "markdown",
      "source": [
        "#### RNN_lstm"
      ],
      "metadata": {
        "id": "YIvA1bayJWYU"
      }
    },
    {
      "cell_type": "code",
      "source": [
        "embedding_dim=300\n",
        "hidden_dim=512\n",
        "\n",
        "model = Sequential([\n",
        "    Embedding(MAX_WORDS+1, embedding_dim, mask_zero=True),\n",
        "    LSTM(embedding_dim),\n",
        "    Dense(hidden_dim, activation='relu'),\n",
        "    Dense(hidden_dim//2, activation='relu'),\n",
        "\n",
        "    Dense(units=5, activation='sigmoid')\n",
        "])"
      ],
      "metadata": {
        "id": "tgDDOlxOJcl4"
      },
      "execution_count": null,
      "outputs": []
    },
    {
      "cell_type": "code",
      "source": [
        "dict_metrics['RNN_lstm'] = go_model(model)"
      ],
      "metadata": {
        "colab": {
          "base_uri": "https://localhost:8080/"
        },
        "id": "0PzoSJNoKtxb",
        "outputId": "6528ae3d-36d4-4c8c-d72b-d64dd25256e1"
      },
      "execution_count": null,
      "outputs": [
        {
          "output_type": "stream",
          "name": "stdout",
          "text": [
            "Model: \"sequential_14\"\n",
            "_________________________________________________________________\n",
            " Layer (type)                Output Shape              Param #   \n",
            "=================================================================\n",
            " embedding_14 (Embedding)    (None, None, 300)         2719500   \n",
            "                                                                 \n",
            " lstm (LSTM)                 (None, 300)               721200    \n",
            "                                                                 \n",
            " dense_42 (Dense)            (None, 512)               154112    \n",
            "                                                                 \n",
            " dense_43 (Dense)            (None, 256)               131328    \n",
            "                                                                 \n",
            " dense_44 (Dense)            (None, 5)                 1285      \n",
            "                                                                 \n",
            "=================================================================\n",
            "Total params: 3,727,425\n",
            "Trainable params: 3,727,425\n",
            "Non-trainable params: 0\n",
            "_________________________________________________________________\n",
            "None\n",
            "Epoch 1/10\n",
            "485/485 [==============================] - 55s 105ms/step - loss: 7.0696 - accuracy: 0.7565 - val_loss: 6.5105 - val_accuracy: 0.7770\n",
            "Epoch 2/10\n",
            "485/485 [==============================] - 49s 102ms/step - loss: 5.6045 - accuracy: 0.7973 - val_loss: 6.6488 - val_accuracy: 0.7657\n",
            "Epoch 3/10\n",
            "485/485 [==============================] - 49s 100ms/step - loss: 4.7406 - accuracy: 0.8307 - val_loss: 7.1349 - val_accuracy: 0.7646\n",
            "Epoch 4/10\n",
            "485/485 [==============================] - 48s 99ms/step - loss: 3.9737 - accuracy: 0.8624 - val_loss: 7.8905 - val_accuracy: 0.7541\n",
            "Epoch 5/10\n",
            "485/485 [==============================] - 49s 101ms/step - loss: 3.4190 - accuracy: 0.8851 - val_loss: 8.8324 - val_accuracy: 0.7500\n",
            "Epoch 6/10\n",
            "485/485 [==============================] - 51s 105ms/step - loss: 2.8611 - accuracy: 0.9054 - val_loss: 10.0439 - val_accuracy: 0.7351\n",
            "Epoch 7/10\n",
            "485/485 [==============================] - 50s 102ms/step - loss: 2.5462 - accuracy: 0.9178 - val_loss: 11.3707 - val_accuracy: 0.7409\n",
            "Epoch 8/10\n",
            "485/485 [==============================] - 51s 105ms/step - loss: 2.3644 - accuracy: 0.9232 - val_loss: 11.5389 - val_accuracy: 0.7460\n",
            "Epoch 9/10\n",
            "485/485 [==============================] - 49s 100ms/step - loss: 2.1244 - accuracy: 0.9307 - val_loss: 14.5024 - val_accuracy: 0.7320\n",
            "Epoch 10/10\n",
            "485/485 [==============================] - 49s 101ms/step - loss: 2.0515 - accuracy: 0.9324 - val_loss: 14.7005 - val_accuracy: 0.7313\n",
            "              precision    recall  f1-score   support\n",
            "\n",
            "           0       0.45      0.56      0.50       460\n",
            "           1       0.15      0.13      0.14       217\n",
            "           2       0.14      0.17      0.15       185\n",
            "           3       0.20      0.26      0.22       399\n",
            "           4       0.92      0.86      0.89      3904\n",
            "\n",
            "    accuracy                           0.73      5165\n",
            "   macro avg       0.37      0.40      0.38      5165\n",
            "weighted avg       0.76      0.73      0.74      5165\n",
            "\n"
          ]
        }
      ]
    },
    {
      "cell_type": "markdown",
      "source": [
        "Результаты получились хуже из-за сильного переобучения, так как слой lstm гораздо тяжелее rnn"
      ],
      "metadata": {
        "id": "Af38-zLfNikl"
      }
    },
    {
      "cell_type": "markdown",
      "source": [
        "#### RNN_lstm_seq"
      ],
      "metadata": {
        "id": "LcDFBSNuNsZR"
      }
    },
    {
      "cell_type": "code",
      "source": [
        "embedding_dim=300\n",
        "hidden_dim=512\n",
        "\n",
        "model = Sequential([\n",
        "    Embedding(MAX_WORDS+1, embedding_dim, mask_zero=True),\n",
        "    LSTM(embedding_dim, return_sequences=True),\n",
        "    GlobalMaxPooling1D(),\n",
        "    Dense(hidden_dim, activation='relu'),\n",
        "    Dense(hidden_dim//2, activation='relu'),\n",
        "\n",
        "    Dense(units=5, activation='sigmoid')\n",
        "])"
      ],
      "metadata": {
        "id": "NExbWiH2NxMT"
      },
      "execution_count": null,
      "outputs": []
    },
    {
      "cell_type": "code",
      "source": [
        "dict_metrics['RNN_lstm_seq'] = go_model(model)"
      ],
      "metadata": {
        "colab": {
          "base_uri": "https://localhost:8080/"
        },
        "id": "8o5R94keNzCq",
        "outputId": "ab057f71-1454-4064-f25d-92c825cf0719"
      },
      "execution_count": null,
      "outputs": [
        {
          "output_type": "stream",
          "name": "stdout",
          "text": [
            "Model: \"sequential_18\"\n",
            "_________________________________________________________________\n",
            " Layer (type)                Output Shape              Param #   \n",
            "=================================================================\n",
            " embedding_18 (Embedding)    (None, None, 300)         2719500   \n",
            "                                                                 \n",
            " lstm_4 (LSTM)               (None, None, 300)         721200    \n",
            "                                                                 \n",
            " global_max_pooling1d_11 (Gl  (None, 300)              0         \n",
            " obalMaxPooling1D)                                               \n",
            "                                                                 \n",
            " dense_54 (Dense)            (None, 512)               154112    \n",
            "                                                                 \n",
            " dense_55 (Dense)            (None, 256)               131328    \n",
            "                                                                 \n",
            " dense_56 (Dense)            (None, 5)                 1285      \n",
            "                                                                 \n",
            "=================================================================\n",
            "Total params: 3,727,425\n",
            "Trainable params: 3,727,425\n",
            "Non-trainable params: 0\n",
            "_________________________________________________________________\n",
            "None\n",
            "Epoch 1/10\n",
            "485/485 [==============================] - 57s 109ms/step - loss: 6.9623 - accuracy: 0.7632 - val_loss: 6.3252 - val_accuracy: 0.7777\n",
            "Epoch 2/10\n",
            "485/485 [==============================] - 50s 103ms/step - loss: 5.6069 - accuracy: 0.8023 - val_loss: 6.5687 - val_accuracy: 0.7781\n",
            "Epoch 3/10\n",
            "485/485 [==============================] - 56s 115ms/step - loss: 4.7264 - accuracy: 0.8353 - val_loss: 6.9154 - val_accuracy: 0.7688\n",
            "Epoch 4/10\n",
            "485/485 [==============================] - 53s 109ms/step - loss: 3.8896 - accuracy: 0.8665 - val_loss: 8.6805 - val_accuracy: 0.7566\n",
            "Epoch 5/10\n",
            "485/485 [==============================] - 52s 108ms/step - loss: 3.2727 - accuracy: 0.8889 - val_loss: 8.5426 - val_accuracy: 0.7547\n",
            "Epoch 6/10\n",
            "485/485 [==============================] - 51s 105ms/step - loss: 2.7529 - accuracy: 0.9084 - val_loss: 10.3805 - val_accuracy: 0.7456\n",
            "Epoch 7/10\n",
            "485/485 [==============================] - 49s 102ms/step - loss: 2.4387 - accuracy: 0.9195 - val_loss: 11.8748 - val_accuracy: 0.7448\n",
            "Epoch 8/10\n",
            "485/485 [==============================] - 49s 102ms/step - loss: 2.2622 - accuracy: 0.9267 - val_loss: 13.4358 - val_accuracy: 0.7450\n",
            "Epoch 9/10\n",
            "485/485 [==============================] - 51s 105ms/step - loss: 2.0715 - accuracy: 0.9329 - val_loss: 14.2918 - val_accuracy: 0.7353\n",
            "Epoch 10/10\n",
            "485/485 [==============================] - 49s 102ms/step - loss: 1.9353 - accuracy: 0.9391 - val_loss: 15.9818 - val_accuracy: 0.7539\n",
            "              precision    recall  f1-score   support\n",
            "\n",
            "           0       0.57      0.57      0.57       583\n",
            "           1       0.04      0.17      0.07        48\n",
            "           2       0.19      0.19      0.19       232\n",
            "           3       0.23      0.29      0.25       391\n",
            "           4       0.93      0.87      0.90      3911\n",
            "\n",
            "    accuracy                           0.75      5165\n",
            "   macro avg       0.39      0.42      0.40      5165\n",
            "weighted avg       0.79      0.75      0.77      5165\n",
            "\n"
          ]
        }
      ]
    },
    {
      "cell_type": "markdown",
      "source": [
        "Пока лучший результат"
      ],
      "metadata": {
        "id": "7Sy2gqdaRskl"
      }
    },
    {
      "cell_type": "markdown",
      "source": [
        "#### RNN_gru"
      ],
      "metadata": {
        "id": "eWie_-QDPHFM"
      }
    },
    {
      "cell_type": "code",
      "source": [
        "embedding_dim=300\n",
        "hidden_dim=512\n",
        "\n",
        "model = Sequential([\n",
        "    Embedding(MAX_WORDS+1, embedding_dim, mask_zero=True),\n",
        "    GRU(embedding_dim),\n",
        "    Dense(hidden_dim, activation='relu'),\n",
        "    Dense(hidden_dim//2, activation='relu'),\n",
        "\n",
        "    Dense(units=5, activation='sigmoid')\n",
        "])"
      ],
      "metadata": {
        "id": "pFF9j1E4OVRb"
      },
      "execution_count": null,
      "outputs": []
    },
    {
      "cell_type": "code",
      "source": [
        "dict_metrics['RNN_gru'] = go_model(model)"
      ],
      "metadata": {
        "colab": {
          "base_uri": "https://localhost:8080/"
        },
        "id": "WkCaDVksPRmb",
        "outputId": "1835ae46-03e0-409d-b1c2-933bb969ab15"
      },
      "execution_count": null,
      "outputs": [
        {
          "output_type": "stream",
          "name": "stdout",
          "text": [
            "Model: \"sequential_19\"\n",
            "_________________________________________________________________\n",
            " Layer (type)                Output Shape              Param #   \n",
            "=================================================================\n",
            " embedding_19 (Embedding)    (None, None, 300)         2719500   \n",
            "                                                                 \n",
            " gru (GRU)                   (None, 300)               541800    \n",
            "                                                                 \n",
            " dense_57 (Dense)            (None, 512)               154112    \n",
            "                                                                 \n",
            " dense_58 (Dense)            (None, 256)               131328    \n",
            "                                                                 \n",
            " dense_59 (Dense)            (None, 5)                 1285      \n",
            "                                                                 \n",
            "=================================================================\n",
            "Total params: 3,548,025\n",
            "Trainable params: 3,548,025\n",
            "Non-trainable params: 0\n",
            "_________________________________________________________________\n",
            "None\n",
            "Epoch 1/10\n",
            "485/485 [==============================] - 58s 111ms/step - loss: 7.1626 - accuracy: 0.7576 - val_loss: 6.7867 - val_accuracy: 0.7690\n",
            "Epoch 2/10\n",
            "485/485 [==============================] - 51s 104ms/step - loss: 5.5802 - accuracy: 0.8026 - val_loss: 6.5898 - val_accuracy: 0.7700\n",
            "Epoch 3/10\n",
            "485/485 [==============================] - 54s 111ms/step - loss: 4.6131 - accuracy: 0.8374 - val_loss: 7.2460 - val_accuracy: 0.7591\n",
            "Epoch 4/10\n",
            "485/485 [==============================] - 52s 107ms/step - loss: 3.8344 - accuracy: 0.8703 - val_loss: 8.2123 - val_accuracy: 0.7543\n",
            "Epoch 5/10\n",
            "485/485 [==============================] - 51s 105ms/step - loss: 3.1850 - accuracy: 0.8932 - val_loss: 8.8851 - val_accuracy: 0.7435\n",
            "Epoch 6/10\n",
            "485/485 [==============================] - 59s 122ms/step - loss: 2.6688 - accuracy: 0.9119 - val_loss: 11.0867 - val_accuracy: 0.7392\n",
            "Epoch 7/10\n",
            "485/485 [==============================] - 59s 121ms/step - loss: 2.3935 - accuracy: 0.9224 - val_loss: 11.8184 - val_accuracy: 0.7415\n",
            "Epoch 8/10\n",
            "485/485 [==============================] - 54s 112ms/step - loss: 2.1849 - accuracy: 0.9291 - val_loss: 13.4958 - val_accuracy: 0.7491\n",
            "Epoch 9/10\n",
            "485/485 [==============================] - 52s 107ms/step - loss: 1.9865 - accuracy: 0.9379 - val_loss: 13.3284 - val_accuracy: 0.7429\n",
            "Epoch 10/10\n",
            "485/485 [==============================] - 50s 104ms/step - loss: 1.9451 - accuracy: 0.9389 - val_loss: 15.7200 - val_accuracy: 0.7396\n",
            "              precision    recall  f1-score   support\n",
            "\n",
            "           0       0.47      0.56      0.51       488\n",
            "           1       0.19      0.16      0.18       227\n",
            "           2       0.19      0.19      0.19       242\n",
            "           3       0.21      0.31      0.25       341\n",
            "           4       0.92      0.87      0.89      3867\n",
            "\n",
            "    accuracy                           0.74      5165\n",
            "   macro avg       0.40      0.42      0.40      5165\n",
            "weighted avg       0.76      0.74      0.75      5165\n",
            "\n"
          ]
        }
      ]
    },
    {
      "cell_type": "markdown",
      "source": [
        "gru оказалась ни быстрее, ни лучше"
      ],
      "metadata": {
        "id": "ObSmQD2RSZCE"
      }
    },
    {
      "cell_type": "markdown",
      "source": [
        "#### RNN_lstm_seq_2lay"
      ],
      "metadata": {
        "id": "0fMYfRK7Sf29"
      }
    },
    {
      "cell_type": "code",
      "source": [
        "embedding_dim=300\n",
        "hidden_dim=512\n",
        "\n",
        "model = Sequential([\n",
        "    Embedding(MAX_WORDS+1, embedding_dim, mask_zero=True),\n",
        "    LSTM(embedding_dim, return_sequences=True),\n",
        "    LSTM(embedding_dim, return_sequences=True),\n",
        "    GlobalMaxPooling1D(),\n",
        "    Dense(hidden_dim, activation='relu'),\n",
        "    Dense(hidden_dim//2, activation='relu'),\n",
        "\n",
        "    Dense(units=5, activation='sigmoid')\n",
        "])"
      ],
      "metadata": {
        "id": "v0Y2IFqpSn3g"
      },
      "execution_count": null,
      "outputs": []
    },
    {
      "cell_type": "code",
      "source": [
        "dict_metrics['RNN_lstm_seq_2lay'] = go_model(model)"
      ],
      "metadata": {
        "colab": {
          "base_uri": "https://localhost:8080/"
        },
        "id": "HSpwrLTTSusK",
        "outputId": "b0a21ea5-d4ac-498a-c9a2-682be78a89d4"
      },
      "execution_count": null,
      "outputs": [
        {
          "output_type": "stream",
          "name": "stdout",
          "text": [
            "Model: \"sequential_20\"\n",
            "_________________________________________________________________\n",
            " Layer (type)                Output Shape              Param #   \n",
            "=================================================================\n",
            " embedding_20 (Embedding)    (None, None, 300)         2719500   \n",
            "                                                                 \n",
            " lstm_5 (LSTM)               (None, None, 300)         721200    \n",
            "                                                                 \n",
            " lstm_6 (LSTM)               (None, None, 300)         721200    \n",
            "                                                                 \n",
            " global_max_pooling1d_12 (Gl  (None, 300)              0         \n",
            " obalMaxPooling1D)                                               \n",
            "                                                                 \n",
            " dense_60 (Dense)            (None, 512)               154112    \n",
            "                                                                 \n",
            " dense_61 (Dense)            (None, 256)               131328    \n",
            "                                                                 \n",
            " dense_62 (Dense)            (None, 5)                 1285      \n",
            "                                                                 \n",
            "=================================================================\n",
            "Total params: 4,448,625\n",
            "Trainable params: 4,448,625\n",
            "Non-trainable params: 0\n",
            "_________________________________________________________________\n",
            "None\n",
            "Epoch 1/10\n",
            "485/485 [==============================] - 111s 214ms/step - loss: 7.0733 - accuracy: 0.7607 - val_loss: 6.4432 - val_accuracy: 0.7733\n",
            "Epoch 2/10\n",
            "485/485 [==============================] - 101s 210ms/step - loss: 5.7804 - accuracy: 0.7971 - val_loss: 6.5646 - val_accuracy: 0.7768\n",
            "Epoch 3/10\n",
            "485/485 [==============================] - 103s 213ms/step - loss: 5.0235 - accuracy: 0.8205 - val_loss: 6.8777 - val_accuracy: 0.7673\n",
            "Epoch 4/10\n",
            "485/485 [==============================] - 97s 200ms/step - loss: 4.4183 - accuracy: 0.8443 - val_loss: 7.6319 - val_accuracy: 0.7599\n",
            "Epoch 5/10\n",
            "485/485 [==============================] - 95s 196ms/step - loss: 3.8634 - accuracy: 0.8678 - val_loss: 8.3509 - val_accuracy: 0.7588\n",
            "Epoch 6/10\n",
            "485/485 [==============================] - 98s 201ms/step - loss: 3.4313 - accuracy: 0.8843 - val_loss: 8.9067 - val_accuracy: 0.7421\n",
            "Epoch 7/10\n",
            "485/485 [==============================] - 109s 224ms/step - loss: 3.1086 - accuracy: 0.8966 - val_loss: 10.0197 - val_accuracy: 0.7433\n",
            "Epoch 8/10\n",
            "485/485 [==============================] - 108s 222ms/step - loss: 2.7151 - accuracy: 0.9103 - val_loss: 11.6410 - val_accuracy: 0.7278\n",
            "Epoch 9/10\n",
            "485/485 [==============================] - 113s 232ms/step - loss: 2.5317 - accuracy: 0.9187 - val_loss: 12.2172 - val_accuracy: 0.7516\n",
            "Epoch 10/10\n",
            "485/485 [==============================] - 123s 253ms/step - loss: 2.3847 - accuracy: 0.9227 - val_loss: 13.4129 - val_accuracy: 0.7272\n",
            "              precision    recall  f1-score   support\n",
            "\n",
            "           0       0.40      0.54      0.46       419\n",
            "           1       0.19      0.14      0.16       260\n",
            "           2       0.25      0.17      0.20       337\n",
            "           3       0.19      0.25      0.21       374\n",
            "           4       0.91      0.88      0.90      3775\n",
            "\n",
            "    accuracy                           0.73      5165\n",
            "   macro avg       0.39      0.40      0.39      5165\n",
            "weighted avg       0.74      0.73      0.73      5165\n",
            "\n"
          ]
        }
      ]
    },
    {
      "cell_type": "markdown",
      "source": [
        "Метрики не улучшились, а вот обучается ровно в 2 раза дольше"
      ],
      "metadata": {
        "id": "XTO-FKqxW8pN"
      }
    },
    {
      "cell_type": "markdown",
      "source": [
        "Пустим второй слой в обратном направлении, чтобы анализировать текст еще и в обратном направлении, это может помочь достать какие то новые признаки"
      ],
      "metadata": {
        "id": "LG8xN8YRXI9i"
      }
    },
    {
      "cell_type": "markdown",
      "source": [
        "#### RNN_lstm_there_back"
      ],
      "metadata": {
        "id": "L4mrKGqbTjSi"
      }
    },
    {
      "cell_type": "code",
      "source": [
        "embedding_dim=300\n",
        "hidden_dim=512\n",
        "\n",
        "model = Sequential([\n",
        "    Embedding(MAX_WORDS+1, embedding_dim, mask_zero=True),\n",
        "    LSTM(embedding_dim, return_sequences=True),\n",
        "    LSTM(embedding_dim, return_sequences=True, go_backwards=True),\n",
        "    GlobalMaxPooling1D(),\n",
        "    Dense(hidden_dim, activation='relu'),\n",
        "    Dense(hidden_dim//2, activation='relu'),\n",
        "\n",
        "    Dense(units=5, activation='sigmoid')\n",
        "])"
      ],
      "metadata": {
        "id": "BYNmtiVhTiyi"
      },
      "execution_count": 28,
      "outputs": []
    },
    {
      "cell_type": "code",
      "source": [
        "dict_metrics['RNN_lstm_there_back'] = go_model(model)"
      ],
      "metadata": {
        "id": "SI_t8G-9UADe",
        "colab": {
          "base_uri": "https://localhost:8080/"
        },
        "outputId": "63305190-d200-4cd3-905e-ae67238c1558"
      },
      "execution_count": 29,
      "outputs": [
        {
          "output_type": "stream",
          "name": "stdout",
          "text": [
            "Model: \"sequential\"\n",
            "_________________________________________________________________\n",
            " Layer (type)                Output Shape              Param #   \n",
            "=================================================================\n",
            " embedding (Embedding)       (None, None, 300)         2719500   \n",
            "                                                                 \n",
            " lstm (LSTM)                 (None, None, 300)         721200    \n",
            "                                                                 \n",
            " lstm_1 (LSTM)               (None, None, 300)         721200    \n",
            "                                                                 \n",
            " global_max_pooling1d (Globa  (None, 300)              0         \n",
            " lMaxPooling1D)                                                  \n",
            "                                                                 \n",
            " dense (Dense)               (None, 512)               154112    \n",
            "                                                                 \n",
            " dense_1 (Dense)             (None, 256)               131328    \n",
            "                                                                 \n",
            " dense_2 (Dense)             (None, 5)                 1285      \n",
            "                                                                 \n",
            "=================================================================\n",
            "Total params: 4,448,625\n",
            "Trainable params: 4,448,625\n",
            "Non-trainable params: 0\n",
            "_________________________________________________________________\n",
            "None\n",
            "Epoch 1/10\n",
            "485/485 [==============================] - 112s 209ms/step - loss: 7.0193 - accuracy: 0.7604 - val_loss: 6.4569 - val_accuracy: 0.7735\n",
            "Epoch 2/10\n",
            "485/485 [==============================] - 92s 191ms/step - loss: 5.7921 - accuracy: 0.7926 - val_loss: 6.4765 - val_accuracy: 0.7758\n",
            "Epoch 3/10\n",
            "485/485 [==============================] - 92s 191ms/step - loss: 5.0010 - accuracy: 0.8234 - val_loss: 6.7313 - val_accuracy: 0.7673\n",
            "Epoch 4/10\n",
            "485/485 [==============================] - 92s 189ms/step - loss: 4.3707 - accuracy: 0.8486 - val_loss: 7.5226 - val_accuracy: 0.7551\n",
            "Epoch 5/10\n",
            "485/485 [==============================] - 95s 196ms/step - loss: 3.7732 - accuracy: 0.8698 - val_loss: 8.5804 - val_accuracy: 0.7440\n",
            "Epoch 6/10\n",
            "485/485 [==============================] - 92s 190ms/step - loss: 3.3532 - accuracy: 0.8867 - val_loss: 9.6525 - val_accuracy: 0.7510\n",
            "Epoch 7/10\n",
            "485/485 [==============================] - 94s 194ms/step - loss: 2.9307 - accuracy: 0.9031 - val_loss: 10.2586 - val_accuracy: 0.7479\n",
            "Epoch 8/10\n",
            "485/485 [==============================] - 94s 194ms/step - loss: 2.7363 - accuracy: 0.9107 - val_loss: 11.4658 - val_accuracy: 0.7384\n",
            "Epoch 9/10\n",
            "485/485 [==============================] - 91s 189ms/step - loss: 2.4411 - accuracy: 0.9208 - val_loss: 11.6331 - val_accuracy: 0.7379\n",
            "Epoch 10/10\n",
            "485/485 [==============================] - 91s 188ms/step - loss: 2.2181 - accuracy: 0.9281 - val_loss: 13.1547 - val_accuracy: 0.7446\n",
            "              precision    recall  f1-score   support\n",
            "\n",
            "           0       0.53      0.55      0.54       546\n",
            "           1       0.21      0.17      0.19       230\n",
            "           2       0.16      0.20      0.18       186\n",
            "           3       0.22      0.30      0.25       373\n",
            "           4       0.92      0.88      0.90      3830\n",
            "\n",
            "    accuracy                           0.74      5165\n",
            "   macro avg       0.41      0.42      0.41      5165\n",
            "weighted avg       0.77      0.74      0.75      5165\n",
            "\n"
          ]
        }
      ]
    },
    {
      "cell_type": "markdown",
      "source": [
        "Результаты похожие"
      ],
      "metadata": {
        "id": "ddoH_eZMuCpo"
      }
    },
    {
      "cell_type": "markdown",
      "source": [
        "Видно, что основная проблема, это переобучение, попробуем это исправить с помощью drop"
      ],
      "metadata": {
        "id": "Y3gFsqEnuGW6"
      }
    },
    {
      "cell_type": "markdown",
      "source": [
        "#### RNN_lstm_seq_drop"
      ],
      "metadata": {
        "id": "4_apSAkSV0-r"
      }
    },
    {
      "cell_type": "code",
      "source": [
        "embedding_dim=300\n",
        "hidden_dim=512\n",
        "\n",
        "model = Sequential([\n",
        "    Embedding(MAX_WORDS+1, embedding_dim, mask_zero=True),\n",
        "    LSTM(embedding_dim, return_sequences=True, dropout=0.2, recurrent_dropout=0.2),\n",
        "    GlobalMaxPooling1D(),\n",
        "    Dense(hidden_dim, activation='relu'),\n",
        "    Dense(hidden_dim//2, activation='relu'),\n",
        "\n",
        "    Dense(units=5, activation='sigmoid')\n",
        "])"
      ],
      "metadata": {
        "id": "fT0Paq2MV5VQ",
        "colab": {
          "base_uri": "https://localhost:8080/"
        },
        "outputId": "d864171d-78d1-4a26-fccb-a732633a72f6"
      },
      "execution_count": 33,
      "outputs": [
        {
          "output_type": "stream",
          "name": "stderr",
          "text": [
            "WARNING:tensorflow:Layer lstm_3 will not use cuDNN kernels since it doesn't meet the criteria. It will use a generic GPU kernel as fallback when running on GPU.\n"
          ]
        }
      ]
    },
    {
      "cell_type": "code",
      "source": [
        "dict_metrics['RNN_lstm_seq_drop'] = go_model(model)"
      ],
      "metadata": {
        "id": "4izz51uIV9Gt",
        "colab": {
          "base_uri": "https://localhost:8080/"
        },
        "outputId": "5b48f0e6-d62a-4aa1-c5b9-acea44c00f4c"
      },
      "execution_count": 34,
      "outputs": [
        {
          "output_type": "stream",
          "name": "stdout",
          "text": [
            "Model: \"sequential_3\"\n",
            "_________________________________________________________________\n",
            " Layer (type)                Output Shape              Param #   \n",
            "=================================================================\n",
            " embedding_3 (Embedding)     (None, None, 300)         2719500   \n",
            "                                                                 \n",
            " lstm_3 (LSTM)               (None, None, 300)         721200    \n",
            "                                                                 \n",
            " global_max_pooling1d_3 (Glo  (None, 300)              0         \n",
            " balMaxPooling1D)                                                \n",
            "                                                                 \n",
            " dense_9 (Dense)             (None, 512)               154112    \n",
            "                                                                 \n",
            " dense_10 (Dense)            (None, 256)               131328    \n",
            "                                                                 \n",
            " dense_11 (Dense)            (None, 5)                 1285      \n",
            "                                                                 \n",
            "=================================================================\n",
            "Total params: 3,727,425\n",
            "Trainable params: 3,727,425\n",
            "Non-trainable params: 0\n",
            "_________________________________________________________________\n",
            "None\n",
            "Epoch 1/10\n",
            "485/485 [==============================] - 141s 283ms/step - loss: 6.9766 - accuracy: 0.7626 - val_loss: 6.4775 - val_accuracy: 0.7770\n",
            "Epoch 2/10\n",
            "485/485 [==============================] - 134s 276ms/step - loss: 5.6320 - accuracy: 0.7991 - val_loss: 6.5621 - val_accuracy: 0.7725\n",
            "Epoch 3/10\n",
            "485/485 [==============================] - 133s 274ms/step - loss: 4.7699 - accuracy: 0.8287 - val_loss: 7.2670 - val_accuracy: 0.7646\n",
            "Epoch 4/10\n",
            "485/485 [==============================] - 131s 270ms/step - loss: 3.9972 - accuracy: 0.8592 - val_loss: 7.8716 - val_accuracy: 0.7551\n",
            "Epoch 5/10\n",
            "485/485 [==============================] - 132s 272ms/step - loss: 3.4072 - accuracy: 0.8817 - val_loss: 8.9620 - val_accuracy: 0.7415\n",
            "Epoch 6/10\n",
            "485/485 [==============================] - 132s 273ms/step - loss: 2.8659 - accuracy: 0.9068 - val_loss: 10.0553 - val_accuracy: 0.7427\n",
            "Epoch 7/10\n",
            "485/485 [==============================] - 131s 270ms/step - loss: 2.5782 - accuracy: 0.9142 - val_loss: 10.7755 - val_accuracy: 0.7473\n",
            "Epoch 8/10\n",
            "485/485 [==============================] - 131s 271ms/step - loss: 2.2789 - accuracy: 0.9268 - val_loss: 13.3245 - val_accuracy: 0.7359\n",
            "Epoch 9/10\n",
            "485/485 [==============================] - 131s 271ms/step - loss: 2.1161 - accuracy: 0.9318 - val_loss: 14.9583 - val_accuracy: 0.7460\n",
            "Epoch 10/10\n",
            "485/485 [==============================] - 130s 268ms/step - loss: 2.0330 - accuracy: 0.9342 - val_loss: 16.1559 - val_accuracy: 0.7456\n",
            "              precision    recall  f1-score   support\n",
            "\n",
            "           0       0.63      0.52      0.57       699\n",
            "           1       0.13      0.16      0.14       157\n",
            "           2       0.14      0.18      0.16       174\n",
            "           3       0.19      0.27      0.22       369\n",
            "           4       0.91      0.88      0.90      3766\n",
            "\n",
            "    accuracy                           0.75      5165\n",
            "   macro avg       0.40      0.40      0.40      5165\n",
            "weighted avg       0.77      0.75      0.76      5165\n",
            "\n"
          ]
        }
      ]
    },
    {
      "cell_type": "markdown",
      "source": [
        "Переобучение сохранилось"
      ],
      "metadata": {
        "id": "DddyjEcy1neG"
      }
    },
    {
      "cell_type": "markdown",
      "source": [
        "## 3. построить совместные архитектуры CNN -> RNN или (RNN -> CNN)"
      ],
      "metadata": {
        "id": "sUzpvQf2WOSl"
      }
    },
    {
      "cell_type": "markdown",
      "source": [
        "#### CNN_RNN"
      ],
      "metadata": {
        "id": "W7H4RANRWUdu"
      }
    },
    {
      "cell_type": "code",
      "source": [
        "embedding_dim=300\n",
        "hidden_dim=512\n",
        "\n",
        "model = Sequential([\n",
        "    Embedding(MAX_WORDS+1, embedding_dim, mask_zero=True),\n",
        "    Conv1D(embedding_dim*2, 3),\n",
        "    LSTM(embedding_dim*2, return_sequences=True),\n",
        "    GlobalMaxPooling1D(),\n",
        "    Dense(hidden_dim, activation='relu'),\n",
        "    Dense(hidden_dim//2, activation='relu'),\n",
        "\n",
        "    Dense(units=5, activation='sigmoid')\n",
        "])"
      ],
      "metadata": {
        "id": "rQybH5ysWc-A"
      },
      "execution_count": 35,
      "outputs": []
    },
    {
      "cell_type": "code",
      "source": [
        "dict_metrics['CNN_RNN'] = go_model(model)"
      ],
      "metadata": {
        "id": "83mBoMiTWol7",
        "colab": {
          "base_uri": "https://localhost:8080/"
        },
        "outputId": "c5325e1c-e5fc-46d6-d491-1bf862e2ef6d"
      },
      "execution_count": 36,
      "outputs": [
        {
          "output_type": "stream",
          "name": "stdout",
          "text": [
            "Model: \"sequential_4\"\n",
            "_________________________________________________________________\n",
            " Layer (type)                Output Shape              Param #   \n",
            "=================================================================\n",
            " embedding_4 (Embedding)     (None, None, 300)         2719500   \n",
            "                                                                 \n",
            " conv1d (Conv1D)             (None, None, 600)         540600    \n",
            "                                                                 \n",
            " lstm_4 (LSTM)               (None, None, 600)         2882400   \n",
            "                                                                 \n",
            " global_max_pooling1d_4 (Glo  (None, 600)              0         \n",
            " balMaxPooling1D)                                                \n",
            "                                                                 \n",
            " dense_12 (Dense)            (None, 512)               307712    \n",
            "                                                                 \n",
            " dense_13 (Dense)            (None, 256)               131328    \n",
            "                                                                 \n",
            " dense_14 (Dense)            (None, 5)                 1285      \n",
            "                                                                 \n",
            "=================================================================\n",
            "Total params: 6,582,825\n",
            "Trainable params: 6,582,825\n",
            "Non-trainable params: 0\n",
            "_________________________________________________________________\n",
            "None\n",
            "Epoch 1/10\n",
            "485/485 [==============================] - 18s 20ms/step - loss: 7.1029 - accuracy: 0.7609 - val_loss: 6.6321 - val_accuracy: 0.7661\n",
            "Epoch 2/10\n",
            "485/485 [==============================] - 9s 19ms/step - loss: 5.9766 - accuracy: 0.7915 - val_loss: 6.6240 - val_accuracy: 0.7727\n",
            "Epoch 3/10\n",
            "485/485 [==============================] - 9s 19ms/step - loss: 5.2068 - accuracy: 0.8157 - val_loss: 6.7775 - val_accuracy: 0.7644\n",
            "Epoch 4/10\n",
            "485/485 [==============================] - 9s 19ms/step - loss: 4.4309 - accuracy: 0.8459 - val_loss: 7.6712 - val_accuracy: 0.7423\n",
            "Epoch 5/10\n",
            "485/485 [==============================] - 9s 19ms/step - loss: 3.7664 - accuracy: 0.8705 - val_loss: 8.1933 - val_accuracy: 0.7365\n",
            "Epoch 6/10\n",
            "485/485 [==============================] - 10s 21ms/step - loss: 3.3040 - accuracy: 0.8887 - val_loss: 9.6386 - val_accuracy: 0.7411\n",
            "Epoch 7/10\n",
            "485/485 [==============================] - 10s 21ms/step - loss: 2.7919 - accuracy: 0.9082 - val_loss: 10.5570 - val_accuracy: 0.7379\n",
            "Epoch 8/10\n",
            "485/485 [==============================] - 10s 21ms/step - loss: 2.4733 - accuracy: 0.9200 - val_loss: 9.9575 - val_accuracy: 0.7396\n",
            "Epoch 9/10\n",
            "485/485 [==============================] - 10s 21ms/step - loss: 2.2667 - accuracy: 0.9276 - val_loss: 11.0789 - val_accuracy: 0.7353\n",
            "Epoch 10/10\n",
            "485/485 [==============================] - 10s 20ms/step - loss: 2.0909 - accuracy: 0.9349 - val_loss: 11.4267 - val_accuracy: 0.7357\n",
            "              precision    recall  f1-score   support\n",
            "\n",
            "           0       0.49      0.56      0.52       501\n",
            "           1       0.23      0.15      0.18       290\n",
            "           2       0.15      0.19      0.17       193\n",
            "           3       0.17      0.26      0.20       330\n",
            "           4       0.92      0.87      0.89      3851\n",
            "\n",
            "    accuracy                           0.74      5165\n",
            "   macro avg       0.39      0.41      0.39      5165\n",
            "weighted avg       0.76      0.74      0.75      5165\n",
            "\n"
          ]
        }
      ]
    },
    {
      "cell_type": "markdown",
      "source": [
        "#### RNN_CNN"
      ],
      "metadata": {
        "id": "anqP_9SIWZHX"
      }
    },
    {
      "cell_type": "code",
      "source": [
        "embedding_dim=300\n",
        "hidden_dim=512\n",
        "\n",
        "model = Sequential([\n",
        "    Embedding(MAX_WORDS+1, embedding_dim, mask_zero=True),\n",
        "    LSTM(embedding_dim*2, return_sequences=True),\n",
        "    Conv1D(embedding_dim*2, 3),\n",
        "    GlobalMaxPooling1D(),\n",
        "    Dense(hidden_dim, activation='relu'),\n",
        "    Dense(hidden_dim//2, activation='relu'),\n",
        "\n",
        "    Dense(units=5, activation='sigmoid')\n",
        "])"
      ],
      "metadata": {
        "id": "DHP-x359Wq-G"
      },
      "execution_count": 37,
      "outputs": []
    },
    {
      "cell_type": "code",
      "source": [
        "dict_metrics['RNN_CNN'] = go_model(model)"
      ],
      "metadata": {
        "id": "rr8nqRbLWsQc",
        "colab": {
          "base_uri": "https://localhost:8080/"
        },
        "outputId": "4a75fe82-c4d9-4580-ae4e-80e7409c5108"
      },
      "execution_count": 38,
      "outputs": [
        {
          "output_type": "stream",
          "name": "stdout",
          "text": [
            "Model: \"sequential_5\"\n",
            "_________________________________________________________________\n",
            " Layer (type)                Output Shape              Param #   \n",
            "=================================================================\n",
            " embedding_5 (Embedding)     (None, None, 300)         2719500   \n",
            "                                                                 \n",
            " lstm_5 (LSTM)               (None, None, 600)         2162400   \n",
            "                                                                 \n",
            " conv1d_1 (Conv1D)           (None, None, 600)         1080600   \n",
            "                                                                 \n",
            " global_max_pooling1d_5 (Glo  (None, 600)              0         \n",
            " balMaxPooling1D)                                                \n",
            "                                                                 \n",
            " dense_15 (Dense)            (None, 512)               307712    \n",
            "                                                                 \n",
            " dense_16 (Dense)            (None, 256)               131328    \n",
            "                                                                 \n",
            " dense_17 (Dense)            (None, 5)                 1285      \n",
            "                                                                 \n",
            "=================================================================\n",
            "Total params: 6,402,825\n",
            "Trainable params: 6,402,825\n",
            "Non-trainable params: 0\n",
            "_________________________________________________________________\n",
            "None\n",
            "Epoch 1/10\n",
            "485/485 [==============================] - 63s 120ms/step - loss: 7.1171 - accuracy: 0.7605 - val_loss: 6.6310 - val_accuracy: 0.7733\n",
            "Epoch 2/10\n",
            "485/485 [==============================] - 61s 127ms/step - loss: 5.8055 - accuracy: 0.7990 - val_loss: 6.8175 - val_accuracy: 0.7648\n",
            "Epoch 3/10\n",
            "485/485 [==============================] - 56s 115ms/step - loss: 4.9501 - accuracy: 0.8271 - val_loss: 6.7536 - val_accuracy: 0.7644\n",
            "Epoch 4/10\n",
            "485/485 [==============================] - 63s 130ms/step - loss: 4.2960 - accuracy: 0.8525 - val_loss: 7.7296 - val_accuracy: 0.7553\n",
            "Epoch 5/10\n",
            "485/485 [==============================] - 59s 121ms/step - loss: 3.6867 - accuracy: 0.8730 - val_loss: 8.7232 - val_accuracy: 0.7479\n",
            "Epoch 6/10\n",
            "485/485 [==============================] - 63s 130ms/step - loss: 3.2580 - accuracy: 0.8906 - val_loss: 9.6259 - val_accuracy: 0.7570\n",
            "Epoch 7/10\n",
            "485/485 [==============================] - 61s 125ms/step - loss: 2.8791 - accuracy: 0.9042 - val_loss: 10.3342 - val_accuracy: 0.7502\n",
            "Epoch 8/10\n",
            "485/485 [==============================] - 52s 106ms/step - loss: 2.6385 - accuracy: 0.9150 - val_loss: 11.9575 - val_accuracy: 0.7518\n",
            "Epoch 9/10\n",
            "485/485 [==============================] - 52s 107ms/step - loss: 2.4270 - accuracy: 0.9220 - val_loss: 12.6693 - val_accuracy: 0.7510\n",
            "Epoch 10/10\n",
            "485/485 [==============================] - 51s 105ms/step - loss: 2.2921 - accuracy: 0.9261 - val_loss: 13.4194 - val_accuracy: 0.7369\n",
            "              precision    recall  f1-score   support\n",
            "\n",
            "           0       0.44      0.52      0.48       488\n",
            "           1       0.25      0.14      0.18       333\n",
            "           2       0.12      0.17      0.14       169\n",
            "           3       0.21      0.31      0.25       345\n",
            "           4       0.92      0.88      0.90      3830\n",
            "\n",
            "    accuracy                           0.74      5165\n",
            "   macro avg       0.39      0.40      0.39      5165\n",
            "weighted avg       0.76      0.74      0.75      5165\n",
            "\n"
          ]
        }
      ]
    },
    {
      "cell_type": "markdown",
      "source": [
        "#### baseline"
      ],
      "metadata": {
        "id": "-uuvKKdg3PZ2"
      }
    },
    {
      "cell_type": "code",
      "source": [
        "embedding_dim=300\n",
        "hidden_dim=512\n",
        "\n",
        "model = Sequential([\n",
        "    Embedding(MAX_WORDS+1, embedding_dim, mask_zero=True),\n",
        "    GlobalMaxPooling1D(),\n",
        "    Dense(hidden_dim, activation='relu'),\n",
        "    Dense(hidden_dim//2, activation='relu'),\n",
        "\n",
        "    Dense(units=5, activation='sigmoid')\n",
        "])"
      ],
      "metadata": {
        "id": "esvbC8F03XRG"
      },
      "execution_count": 39,
      "outputs": []
    },
    {
      "cell_type": "code",
      "source": [
        "dict_metrics['baseline'] = go_model(model)"
      ],
      "metadata": {
        "colab": {
          "base_uri": "https://localhost:8080/"
        },
        "id": "cD9t41jI3Z6z",
        "outputId": "b9ed62ec-d6f6-4fec-bf3c-7c4f172de2a9"
      },
      "execution_count": 40,
      "outputs": [
        {
          "output_type": "stream",
          "name": "stdout",
          "text": [
            "Model: \"sequential_6\"\n",
            "_________________________________________________________________\n",
            " Layer (type)                Output Shape              Param #   \n",
            "=================================================================\n",
            " embedding_6 (Embedding)     (None, None, 300)         2719500   \n",
            "                                                                 \n",
            " global_max_pooling1d_6 (Glo  (None, 300)              0         \n",
            " balMaxPooling1D)                                                \n",
            "                                                                 \n",
            " dense_18 (Dense)            (None, 512)               154112    \n",
            "                                                                 \n",
            " dense_19 (Dense)            (None, 256)               131328    \n",
            "                                                                 \n",
            " dense_20 (Dense)            (None, 5)                 1285      \n",
            "                                                                 \n",
            "=================================================================\n",
            "Total params: 3,006,225\n",
            "Trainable params: 3,006,225\n",
            "Non-trainable params: 0\n",
            "_________________________________________________________________\n",
            "None\n",
            "Epoch 1/10\n",
            "485/485 [==============================] - 3s 5ms/step - loss: 7.0081 - accuracy: 0.7601 - val_loss: 6.6262 - val_accuracy: 0.7667\n",
            "Epoch 2/10\n",
            "485/485 [==============================] - 2s 5ms/step - loss: 5.5543 - accuracy: 0.8026 - val_loss: 6.4181 - val_accuracy: 0.7770\n",
            "Epoch 3/10\n",
            "485/485 [==============================] - 2s 5ms/step - loss: 4.4911 - accuracy: 0.8419 - val_loss: 6.9093 - val_accuracy: 0.7621\n",
            "Epoch 4/10\n",
            "485/485 [==============================] - 2s 5ms/step - loss: 3.6882 - accuracy: 0.8721 - val_loss: 7.6978 - val_accuracy: 0.7682\n",
            "Epoch 5/10\n",
            "485/485 [==============================] - 2s 5ms/step - loss: 2.9836 - accuracy: 0.9027 - val_loss: 8.5949 - val_accuracy: 0.7574\n",
            "Epoch 6/10\n",
            "485/485 [==============================] - 2s 5ms/step - loss: 2.4042 - accuracy: 0.9238 - val_loss: 9.4157 - val_accuracy: 0.7615\n",
            "Epoch 7/10\n",
            "485/485 [==============================] - 2s 5ms/step - loss: 2.0153 - accuracy: 0.9367 - val_loss: 11.8249 - val_accuracy: 0.7444\n",
            "Epoch 8/10\n",
            "485/485 [==============================] - 2s 5ms/step - loss: 1.7438 - accuracy: 0.9471 - val_loss: 12.7661 - val_accuracy: 0.7593\n",
            "Epoch 9/10\n",
            "485/485 [==============================] - 2s 5ms/step - loss: 1.6638 - accuracy: 0.9489 - val_loss: 12.8053 - val_accuracy: 0.7489\n",
            "Epoch 10/10\n",
            "485/485 [==============================] - 2s 5ms/step - loss: 1.5167 - accuracy: 0.9542 - val_loss: 15.0114 - val_accuracy: 0.7444\n",
            "              precision    recall  f1-score   support\n",
            "\n",
            "           0       0.54      0.54      0.54       580\n",
            "           1       0.13      0.16      0.14       152\n",
            "           2       0.20      0.18      0.19       266\n",
            "           3       0.22      0.30      0.25       374\n",
            "           4       0.92      0.88      0.90      3793\n",
            "\n",
            "    accuracy                           0.74      5165\n",
            "   macro avg       0.40      0.41      0.40      5165\n",
            "weighted avg       0.76      0.74      0.75      5165\n",
            "\n"
          ]
        }
      ]
    },
    {
      "cell_type": "markdown",
      "source": [
        "Как видно, CNN и RNN едва ли как то влияют"
      ],
      "metadata": {
        "id": "CIi29wPeH1li"
      }
    },
    {
      "cell_type": "markdown",
      "source": [
        "#### LogisticRegression"
      ],
      "metadata": {
        "id": "BTF5oI4cIG_V"
      }
    },
    {
      "cell_type": "code",
      "source": [
        "from sklearn.linear_model import LogisticRegression"
      ],
      "metadata": {
        "id": "-qtpwGlBHzOy"
      },
      "execution_count": 218,
      "outputs": []
    },
    {
      "cell_type": "code",
      "source": [
        "lr = LogisticRegression()"
      ],
      "metadata": {
        "id": "COhb6KqpINUf"
      },
      "execution_count": 219,
      "outputs": []
    },
    {
      "cell_type": "code",
      "source": [
        "lr.fit(X_train_array, y_train_array)"
      ],
      "metadata": {
        "colab": {
          "base_uri": "https://localhost:8080/"
        },
        "id": "1BY-oR_9IPY9",
        "outputId": "a61ebce3-ab1e-4007-bdf6-3476e17aafe9"
      },
      "execution_count": 220,
      "outputs": [
        {
          "output_type": "stream",
          "name": "stderr",
          "text": [
            "/usr/local/lib/python3.7/dist-packages/sklearn/linear_model/_logistic.py:818: ConvergenceWarning: lbfgs failed to converge (status=1):\n",
            "STOP: TOTAL NO. of ITERATIONS REACHED LIMIT.\n",
            "\n",
            "Increase the number of iterations (max_iter) or scale the data as shown in:\n",
            "    https://scikit-learn.org/stable/modules/preprocessing.html\n",
            "Please also refer to the documentation for alternative solver options:\n",
            "    https://scikit-learn.org/stable/modules/linear_model.html#logistic-regression\n",
            "  extra_warning_msg=_LOGISTIC_SOLVER_CONVERGENCE_MSG,\n"
          ]
        },
        {
          "output_type": "execute_result",
          "data": {
            "text/plain": [
              "LogisticRegression()"
            ]
          },
          "metadata": {},
          "execution_count": 220
        }
      ]
    },
    {
      "cell_type": "code",
      "source": [
        "print(classification_report(y_test_array, lr.predict(X_test_array)))"
      ],
      "metadata": {
        "colab": {
          "base_uri": "https://localhost:8080/"
        },
        "id": "Lr0STZg3IRYc",
        "outputId": "1c7a44de-915e-4772-dd05-8dc4ae4d971d"
      },
      "execution_count": 221,
      "outputs": [
        {
          "output_type": "stream",
          "name": "stdout",
          "text": [
            "              precision    recall  f1-score   support\n",
            "\n",
            "           0       0.19      0.34      0.25       320\n",
            "           1       0.01      0.17      0.02        12\n",
            "           2       0.03      0.11      0.04        57\n",
            "           3       0.00      0.04      0.00        28\n",
            "           4       0.98      0.75      0.85      4748\n",
            "\n",
            "    accuracy                           0.71      5165\n",
            "   macro avg       0.24      0.28      0.23      5165\n",
            "weighted avg       0.91      0.71      0.80      5165\n",
            "\n"
          ]
        }
      ]
    },
    {
      "cell_type": "code",
      "source": [
        "dict_metrics['log_reg'] = np.mean(lr.predict(X_test_array)==y_test_array)"
      ],
      "metadata": {
        "id": "R1jouUpRIVg5"
      },
      "execution_count": 223,
      "outputs": []
    },
    {
      "cell_type": "markdown",
      "source": [
        "Самая простая логичтическая регресия так же справляется, но она почти не предсказывает промежуточные классы 1,2,3, поэтому метрика получилась хуже."
      ],
      "metadata": {
        "id": "EOCn39tLNwfA"
      }
    },
    {
      "cell_type": "markdown",
      "source": [
        "### Другой взгляд на задачу:"
      ],
      "metadata": {
        "id": "XU0Zl0yS16R0"
      }
    },
    {
      "cell_type": "markdown",
      "source": [
        "Наши метки 0,1,2,3,4 явно друг от друга зависят, 0<1<2<3<4, поэтому лучше решать эту задачу как задачу регресии и потом округлять ответ до целого числа, так мы будем наказывать модель больше, если она вместо 4 предсказала 0, и меньше, если 3, что соответсвует действительности."
      ],
      "metadata": {
        "id": "lvW8rzKT19RT"
      }
    },
    {
      "cell_type": "code",
      "source": [
        "import keras.backend as K"
      ],
      "metadata": {
        "id": "iA2d32hh5PiE"
      },
      "execution_count": 225,
      "outputs": []
    },
    {
      "cell_type": "code",
      "source": [
        "def reg_acc(y_true, y_pred):\n",
        "    return K.mean(y_true==K.round(K.clip(y_pred, 0, 4)))"
      ],
      "metadata": {
        "id": "7RG-NiJc4wcw"
      },
      "execution_count": 242,
      "outputs": []
    },
    {
      "cell_type": "code",
      "source": [
        "embedding_dim=300\n",
        "hidden_dim=512\n",
        "\n",
        "model = Sequential([\n",
        "    Embedding(MAX_WORDS+1, embedding_dim, mask_zero=True),\n",
        "    Conv1D(embedding_dim*2, 3),\n",
        "    GlobalMaxPooling1D(),\n",
        "    Dense(hidden_dim, activation='relu'),\n",
        "    Dense(hidden_dim//2, activation='relu'),\n",
        "\n",
        "    Dense(units=1, activation='relu')\n",
        "])"
      ],
      "metadata": {
        "id": "RraNU2CtGNG3"
      },
      "execution_count": 243,
      "outputs": []
    },
    {
      "cell_type": "code",
      "source": [
        "print(model.summary())\n",
        "model.compile(loss=tf.keras.losses.MeanAbsoluteError(),\n",
        "              loss_weights=disbalance,\n",
        "              optimizer='adam',\n",
        "              metrics=[reg_acc])"
      ],
      "metadata": {
        "colab": {
          "base_uri": "https://localhost:8080/"
        },
        "id": "K4fyTgFUGOZl",
        "outputId": "5b30d7ee-6ae9-466f-8bbf-e8d625f4f760"
      },
      "execution_count": 244,
      "outputs": [
        {
          "output_type": "stream",
          "name": "stdout",
          "text": [
            "Model: \"sequential_47\"\n",
            "_________________________________________________________________\n",
            " Layer (type)                Output Shape              Param #   \n",
            "=================================================================\n",
            " embedding_47 (Embedding)    (None, None, 300)         2719500   \n",
            "                                                                 \n",
            " conv1d_36 (Conv1D)          (None, None, 600)         540600    \n",
            "                                                                 \n",
            " global_max_pooling1d_47 (Gl  (None, 600)              0         \n",
            " obalMaxPooling1D)                                               \n",
            "                                                                 \n",
            " dense_141 (Dense)           (None, 512)               307712    \n",
            "                                                                 \n",
            " dense_142 (Dense)           (None, 256)               131328    \n",
            "                                                                 \n",
            " dense_143 (Dense)           (None, 1)                 257       \n",
            "                                                                 \n",
            "=================================================================\n",
            "Total params: 3,699,397\n",
            "Trainable params: 3,699,397\n",
            "Non-trainable params: 0\n",
            "_________________________________________________________________\n",
            "None\n"
          ]
        }
      ]
    },
    {
      "cell_type": "code",
      "source": [
        "with tf.device(\"GPU:0\"):\n",
        "    hh = model.fit(X_train_array, y_train_array, validation_data=(X_test_array, y_test_array), epochs=10)"
      ],
      "metadata": {
        "colab": {
          "base_uri": "https://localhost:8080/"
        },
        "id": "nYLOHFYGJ-32",
        "outputId": "a92ec42c-9110-41ea-f970-708000007232"
      },
      "execution_count": 245,
      "outputs": [
        {
          "output_type": "stream",
          "name": "stdout",
          "text": [
            "Epoch 1/10\n",
            "485/485 [==============================] - 5s 8ms/step - loss: 6.0018 - reg_acc: 0.6967 - val_loss: 6.1943 - val_reg_acc: 0.7508\n",
            "Epoch 2/10\n",
            "485/485 [==============================] - 3s 7ms/step - loss: 4.3147 - reg_acc: 0.7674 - val_loss: 4.5496 - val_reg_acc: 0.7531\n",
            "Epoch 3/10\n",
            "485/485 [==============================] - 3s 7ms/step - loss: 3.6960 - reg_acc: 0.7921 - val_loss: 4.9848 - val_reg_acc: 0.7470\n",
            "Epoch 4/10\n",
            "485/485 [==============================] - 4s 8ms/step - loss: 3.1311 - reg_acc: 0.8141 - val_loss: 4.8063 - val_reg_acc: 0.7387\n",
            "Epoch 5/10\n",
            "485/485 [==============================] - 4s 8ms/step - loss: 2.8318 - reg_acc: 0.8294 - val_loss: 4.4729 - val_reg_acc: 0.7488\n",
            "Epoch 6/10\n",
            "485/485 [==============================] - 4s 8ms/step - loss: 2.6255 - reg_acc: 0.8392 - val_loss: 5.4090 - val_reg_acc: 0.7415\n",
            "Epoch 7/10\n",
            "485/485 [==============================] - 4s 9ms/step - loss: 2.4856 - reg_acc: 0.8479 - val_loss: 4.4461 - val_reg_acc: 0.7440\n",
            "Epoch 8/10\n",
            "485/485 [==============================] - 4s 9ms/step - loss: 2.2724 - reg_acc: 0.8548 - val_loss: 4.7769 - val_reg_acc: 0.7446\n",
            "Epoch 9/10\n",
            "485/485 [==============================] - 4s 8ms/step - loss: 2.1856 - reg_acc: 0.8636 - val_loss: 4.7744 - val_reg_acc: 0.7442\n",
            "Epoch 10/10\n",
            "485/485 [==============================] - 4s 9ms/step - loss: 2.1765 - reg_acc: 0.8684 - val_loss: 4.7823 - val_reg_acc: 0.7454\n"
          ]
        }
      ]
    },
    {
      "cell_type": "code",
      "source": [
        "print(classification_report(y_test_array, np.round(np.clip(model.predict(X_test_array), 0, 4))))"
      ],
      "metadata": {
        "colab": {
          "base_uri": "https://localhost:8080/"
        },
        "id": "EHZ7-dwH2815",
        "outputId": "09051ea7-39c2-4345-9726-6597e2cb5f3d"
      },
      "execution_count": 263,
      "outputs": [
        {
          "output_type": "stream",
          "name": "stdout",
          "text": [
            "              precision    recall  f1-score   support\n",
            "\n",
            "         0.0       0.54      0.60      0.56       517\n",
            "         1.0       0.10      0.13      0.11       148\n",
            "         2.0       0.21      0.19      0.20       262\n",
            "         3.0       0.22      0.25      0.23       461\n",
            "         4.0       0.92      0.89      0.90      3777\n",
            "\n",
            "    accuracy                           0.75      5165\n",
            "   macro avg       0.40      0.41      0.40      5165\n",
            "weighted avg       0.76      0.75      0.75      5165\n",
            "\n"
          ]
        }
      ]
    },
    {
      "cell_type": "code",
      "source": [
        "dict_metrics['regression'] = np.mean(np.round(np.clip(model.predict(X_test_array), 0, 4))==y_test_array[:, np.newaxis])"
      ],
      "metadata": {
        "colab": {
          "base_uri": "https://localhost:8080/"
        },
        "id": "IePnuWq_KVqJ",
        "outputId": "758e9be2-a6ac-46e9-8a77-b5f9566047c6"
      },
      "execution_count": 265,
      "outputs": [
        {
          "output_type": "stream",
          "name": "stderr",
          "text": [
            "/usr/local/lib/python3.7/dist-packages/ipykernel_launcher.py:1: FutureWarning: Support for multi-dimensional indexing (e.g. `obj[:, None]`) is deprecated and will be removed in a future version.  Convert to a numpy array before indexing instead.\n",
            "  \"\"\"Entry point for launching an IPython kernel.\n"
          ]
        }
      ]
    },
    {
      "cell_type": "markdown",
      "source": [
        "Резлуьтаты конечно не улучшились, но зато стало понятно, что так подойти к задаче тоже можно!"
      ],
      "metadata": {
        "id": "8Lieu1rOMkE2"
      }
    },
    {
      "cell_type": "markdown",
      "source": [
        "#### Вывод:"
      ],
      "metadata": {
        "id": "z25tt0D-ODk7"
      }
    },
    {
      "cell_type": "code",
      "source": [
        "list(sorted(dict_metrics.items(), key=lambda x: -x[1]))"
      ],
      "metadata": {
        "colab": {
          "base_uri": "https://localhost:8080/"
        },
        "id": "Gx2sR-GgMudJ",
        "outputId": "b36341eb-7c96-41d6-d3a5-48fa8d8a3998"
      },
      "execution_count": 269,
      "outputs": [
        {
          "output_type": "execute_result",
          "data": {
            "text/plain": [
              "[('RNN_lstm_seq', 0.7539206147193909),\n",
              " ('regression', 0.745595353339787),\n",
              " ('RNN_lstm_seq_drop', 0.7455953359603882),\n",
              " ('RNN_lstm_there_back', 0.7446272969245911),\n",
              " ('baseline', 0.7444337010383606),\n",
              " ('CNN_ker3', 0.7430784106254578),\n",
              " ('RNN_gru', 0.7395934462547302),\n",
              " ('RNN_CNN', 0.7368828654289246),\n",
              " ('RNN_rnn_seq', 0.7364956140518188),\n",
              " ('CNN_RNN', 0.7357211709022522),\n",
              " ('CNN_ker2_ker3', 0.7353339791297913),\n",
              " ('RNN_lstm', 0.7312681674957275),\n",
              " ('RNN_lstm_seq_2lay', 0.727202296257019),\n",
              " ('RNN_rnn', 0.7260406613349915),\n",
              " ('log_reg', 0.7130687318489836)]"
            ]
          },
          "metadata": {},
          "execution_count": 269
        }
      ]
    },
    {
      "cell_type": "markdown",
      "source": [
        "И того: условно лучшие варианты - это lstm с усреднением всех выходов и решение задачи регресии с loss MAE(MSE показал себя гораздо хуже), условно худшие - это rnn и логистическая регресия."
      ],
      "metadata": {
        "id": "r06RCOa0OgQr"
      }
    },
    {
      "cell_type": "markdown",
      "source": [
        "Стоит отметить, что CNN гораздо быстрее RNN."
      ],
      "metadata": {
        "id": "s6wL1KF2RCT0"
      }
    },
    {
      "cell_type": "markdown",
      "source": [
        "Но основная проблема, это переобучение, и если почти любую из этих моделей обучать меньшее количество эпох, то метрика будет гораздо выше, например:"
      ],
      "metadata": {
        "id": "k5m9dFCrQQMZ"
      }
    },
    {
      "cell_type": "code",
      "source": [
        "embedding_dim=300\n",
        "hidden_dim=512\n",
        "\n",
        "model = Sequential([\n",
        "    Embedding(MAX_WORDS+1, embedding_dim, mask_zero=True),\n",
        "    Conv1D(embedding_dim*2, 3),\n",
        "    GlobalMaxPooling1D(),\n",
        "    Dense(hidden_dim, activation='relu'),\n",
        "    Dense(hidden_dim//2, activation='relu'),\n",
        "\n",
        "    Dense(units=5, activation='sigmoid')\n",
        "])"
      ],
      "metadata": {
        "id": "735KLxnVOGP9"
      },
      "execution_count": 274,
      "outputs": []
    },
    {
      "cell_type": "code",
      "source": [
        "print(model.summary())\n",
        "model.compile(loss=tf.keras.losses.SparseCategoricalCrossentropy(),\n",
        "              loss_weights=disbalance,\n",
        "              optimizer='adam',\n",
        "              metrics=['accuracy'])"
      ],
      "metadata": {
        "colab": {
          "base_uri": "https://localhost:8080/"
        },
        "id": "_evh8Z5jPZ1P",
        "outputId": "54e99ef7-104b-4366-b315-3ecf03947f2b"
      },
      "execution_count": 275,
      "outputs": [
        {
          "output_type": "stream",
          "name": "stdout",
          "text": [
            "Model: \"sequential_49\"\n",
            "_________________________________________________________________\n",
            " Layer (type)                Output Shape              Param #   \n",
            "=================================================================\n",
            " embedding_49 (Embedding)    (None, None, 300)         2719500   \n",
            "                                                                 \n",
            " conv1d_38 (Conv1D)          (None, None, 600)         540600    \n",
            "                                                                 \n",
            " global_max_pooling1d_49 (Gl  (None, 600)              0         \n",
            " obalMaxPooling1D)                                               \n",
            "                                                                 \n",
            " dense_147 (Dense)           (None, 512)               307712    \n",
            "                                                                 \n",
            " dense_148 (Dense)           (None, 256)               131328    \n",
            "                                                                 \n",
            " dense_149 (Dense)           (None, 5)                 1285      \n",
            "                                                                 \n",
            "=================================================================\n",
            "Total params: 3,700,425\n",
            "Trainable params: 3,700,425\n",
            "Non-trainable params: 0\n",
            "_________________________________________________________________\n",
            "None\n"
          ]
        }
      ]
    },
    {
      "cell_type": "code",
      "source": [
        "with tf.device(\"GPU:0\"):\n",
        "    hh = model.fit(X_train_array, y_train_array, validation_data=(X_test_array, y_test_array), epochs=2)"
      ],
      "metadata": {
        "colab": {
          "base_uri": "https://localhost:8080/"
        },
        "id": "faWQHG8JPSkc",
        "outputId": "31c709cf-0f93-4789-db58-c7939b719557"
      },
      "execution_count": 276,
      "outputs": [
        {
          "output_type": "stream",
          "name": "stdout",
          "text": [
            "Epoch 1/2\n",
            "485/485 [==============================] - 4s 8ms/step - loss: 6.9095 - accuracy: 0.7627 - val_loss: 6.6745 - val_accuracy: 0.7741\n",
            "Epoch 2/2\n",
            "485/485 [==============================] - 3s 7ms/step - loss: 5.5080 - accuracy: 0.8055 - val_loss: 6.4731 - val_accuracy: 0.7741\n"
          ]
        }
      ]
    },
    {
      "cell_type": "markdown",
      "source": [
        "*** В этот момент я заметил, что до этого везде неправильно использовал функцию classification_report, так как сначала должно идти y_true, а потом y_pred. А до этого момента у меня везде было наоборот. На ключевую метрику accuracy это не влияет, но на остальные влияет, конечно обидно, что так вышло. Я конечно исправил везде, но выводы новые уже не смогу получить, так как перезапускать ноутбук очень долго из-за моделей с RNN слоями. ***"
      ],
      "metadata": {
        "id": "hJL2NzWBRJoK"
      }
    },
    {
      "cell_type": "code",
      "source": [
        "print(classification_report(y_test_array, np.argmax(model.predict(X_test_array), axis=1)))"
      ],
      "metadata": {
        "colab": {
          "base_uri": "https://localhost:8080/"
        },
        "id": "5TKv4Z1YPnDJ",
        "outputId": "0790033b-6657-4a7c-c550-212c4909a877"
      },
      "execution_count": 286,
      "outputs": [
        {
          "output_type": "stream",
          "name": "stdout",
          "text": [
            "              precision    recall  f1-score   support\n",
            "\n",
            "           0       0.53      0.74      0.62       577\n",
            "           1       0.09      0.01      0.01       190\n",
            "           2       0.24      0.15      0.19       234\n",
            "           3       0.32      0.16      0.22       511\n",
            "           4       0.87      0.95      0.91      3653\n",
            "\n",
            "    accuracy                           0.77      5165\n",
            "   macro avg       0.41      0.40      0.39      5165\n",
            "weighted avg       0.72      0.77      0.74      5165\n",
            "\n"
          ]
        }
      ]
    },
    {
      "cell_type": "code",
      "source": [
        "hh.history['val_accuracy'][-1]"
      ],
      "metadata": {
        "colab": {
          "base_uri": "https://localhost:8080/"
        },
        "id": "_B7Xct7kPdd7",
        "outputId": "cc248184-5558-4cfd-c256-66917431bf36"
      },
      "execution_count": 287,
      "outputs": [
        {
          "output_type": "execute_result",
          "data": {
            "text/plain": [
              "0.7740561366081238"
            ]
          },
          "metadata": {},
          "execution_count": 287
        }
      ]
    },
    {
      "cell_type": "markdown",
      "source": [
        "Так что в этой задаче больше стоит уделить внимания данным, а не подбору архитектуры модели!"
      ],
      "metadata": {
        "id": "bd4aMwdbQgGe"
      }
    },
    {
      "cell_type": "markdown",
      "source": [
        "## Попробуем новую предобработку текста"
      ],
      "metadata": {
        "id": "eO5mbPe0UC4N"
      }
    },
    {
      "cell_type": "markdown",
      "source": [
        "Посмотрим на частые тэги из nltk"
      ],
      "metadata": {
        "id": "3SwurTe6ntPg"
      }
    },
    {
      "cell_type": "code",
      "source": [
        "tags = []\n",
        "for text in X_train['Content']:\n",
        "  text = str(text)\n",
        "  text = text.lower()\n",
        "  tags.extend([i[1] for i in nltk.pos_tag(nltk.word_tokenize(text))])\n",
        "tags_count = Counter(tags)\n",
        "tags_count.most_common(30)"
      ],
      "metadata": {
        "colab": {
          "base_uri": "https://localhost:8080/"
        },
        "id": "mHYyTyUScXGA",
        "outputId": "f8240b54-7946-4c0c-9a83-c85fa597d0fd"
      },
      "execution_count": 522,
      "outputs": [
        {
          "output_type": "execute_result",
          "data": {
            "text/plain": [
              "[('NNP', 81287),\n",
              " ('NN', 23588),\n",
              " ('.', 17694),\n",
              " ('JJ', 16145),\n",
              " (',', 8663),\n",
              " ('VB', 3338),\n",
              " ('CD', 1206),\n",
              " (')', 1204),\n",
              " (':', 1095),\n",
              " ('CC', 520),\n",
              " ('(', 436),\n",
              " ('VBD', 417),\n",
              " (\"''\", 295),\n",
              " ('``', 278),\n",
              " ('VBP', 257),\n",
              " ('FW', 213),\n",
              " ('VBZ', 161),\n",
              " ('$', 106),\n",
              " ('RB', 97),\n",
              " ('SYM', 83),\n",
              " ('NNS', 82),\n",
              " ('IN', 38),\n",
              " ('DT', 31),\n",
              " ('UH', 22),\n",
              " ('PRP', 17),\n",
              " ('POS', 14),\n",
              " ('JJS', 8),\n",
              " ('#', 7),\n",
              " ('VBG', 7),\n",
              " ('MD', 7)]"
            ]
          },
          "metadata": {},
          "execution_count": 522
        }
      ]
    },
    {
      "cell_type": "markdown",
      "source": [
        "Как выяснилось, nltk не всегда точно определяет тэг, к тому же так получается, что метрика лучше, если ничего не убирать. В теории можно было бы перебрать все тэги, по очереди заменяя слова тега на название тега и если метрика увеличивается, то так и оставлять. Но это очень долго. Но всё же попробуем заменять некоторые тэги:"
      ],
      "metadata": {
        "id": "06JZQZXFn2e0"
      }
    },
    {
      "cell_type": "markdown",
      "source": [
        "Давайте заменим слова с низкочастотными тэгами на их тэги:"
      ],
      "metadata": {
        "id": "XFtWabHsuxQ-"
      }
    },
    {
      "cell_type": "code",
      "source": [
        "top_n_tag = list(dict(tags_count.most_common(30)).keys())[:17]"
      ],
      "metadata": {
        "id": "VEZW-tQqxGKa"
      },
      "execution_count": 638,
      "outputs": []
    },
    {
      "cell_type": "code",
      "source": [
        "def preprocess_text(txt):\n",
        "    txt = str(txt)\n",
        "    txt = txt.lower()\n",
        "    txt = [word[1] if word[1] not in top_n_tag else word[0] for word in nltk.pos_tag(nltk.word_tokenize(txt))]\n",
        "    txt = \"\".join(c for c in \" \".join(txt) if c not in {'.', ','}) # уберём знаки припепнания, так как они не несут смысла\n",
        "    return txt\n",
        "\n",
        "X_train['Content_preprocess_new'] = X_train['Content'].apply(preprocess_text)\n",
        "X_test['Content_preprocess_new'] = X_test['Content'].apply(preprocess_text)\n",
        "X_train.head()"
      ],
      "metadata": {
        "colab": {
          "base_uri": "https://localhost:8080/",
          "height": 337
        },
        "id": "CNuNbw4GUJ2Y",
        "outputId": "6630fe90-3d6f-4da8-9f57-281442845f0a"
      },
      "execution_count": 639,
      "outputs": [
        {
          "output_type": "execute_result",
          "data": {
            "text/plain": [
              "                                                 Content        Date  \\\n",
              "6926                             Отличное приложение))))  2017-08-04   \n",
              "6735                                              Олекум  2017-08-04   \n",
              "149    Хорошее приложение, но «антивирус» очень загру...  2017-08-14   \n",
              "3069                                             Потянет  2017-08-09   \n",
              "17455  Ужасное приложение положил деньги и они испари...  2017-07-11   \n",
              "\n",
              "                                      Content_preprocess  \\\n",
              "6926                                 отличный приложение   \n",
              "6735                                             олекума   \n",
              "149    хороший приложение « антивирус » загружать сис...   \n",
              "3069                                            потянуть   \n",
              "17455  ужасный приложение положить деньга испариться ...   \n",
              "\n",
              "                                        Content_sequence  \\\n",
              "6926   [8, 1, 0, 0, 0, 0, 0, 0, 0, 0, 0, 0, 0, 0, 0, ...   \n",
              "6735   [3391, 0, 0, 0, 0, 0, 0, 0, 0, 0, 0, 0, 0, 0, ...   \n",
              "149    [7, 1, 1016, 16, 1017, 595, 199, 0, 0, 0, 0, 0...   \n",
              "3069   [2426, 0, 0, 0, 0, 0, 0, 0, 0, 0, 0, 0, 0, 0, ...   \n",
              "17455  [211, 1, 534, 36, 3392, 773, 356, 472, 1633, 8...   \n",
              "\n",
              "                                  Content_preprocess_new  \\\n",
              "6926                         отличное приложение ) ) ) )   \n",
              "6735                                              олекум   \n",
              "149    хорошее приложение  но « антивирус » очень заг...   \n",
              "3069                                             потянет   \n",
              "17455  ужасное приложение положил деньги и они испари...   \n",
              "\n",
              "                                    Content_sequence_new  \n",
              "6926   [25, 1, 13, 13, 13, 13, 0, 0, 0, 0, 0, 0, 0, 0...  \n",
              "6735   [5308, 0, 0, 0, 0, 0, 0, 0, 0, 0, 0, 0, 0, 0, ...  \n",
              "149    [39, 1, 19, 1627, 59, 1473, 4, 1035, 507, 0, 0...  \n",
              "3069   [3656, 0, 0, 0, 0, 0, 0, 0, 0, 0, 0, 0, 0, 0, ...  \n",
              "17455  [414, 1, 2041, 96, 3, 294, 5309, 38, 5310, 480...  "
            ],
            "text/html": [
              "\n",
              "  <div id=\"df-7c465e5d-ccbf-456f-a5e3-10e27c380953\">\n",
              "    <div class=\"colab-df-container\">\n",
              "      <div>\n",
              "<style scoped>\n",
              "    .dataframe tbody tr th:only-of-type {\n",
              "        vertical-align: middle;\n",
              "    }\n",
              "\n",
              "    .dataframe tbody tr th {\n",
              "        vertical-align: top;\n",
              "    }\n",
              "\n",
              "    .dataframe thead th {\n",
              "        text-align: right;\n",
              "    }\n",
              "</style>\n",
              "<table border=\"1\" class=\"dataframe\">\n",
              "  <thead>\n",
              "    <tr style=\"text-align: right;\">\n",
              "      <th></th>\n",
              "      <th>Content</th>\n",
              "      <th>Date</th>\n",
              "      <th>Content_preprocess</th>\n",
              "      <th>Content_sequence</th>\n",
              "      <th>Content_preprocess_new</th>\n",
              "      <th>Content_sequence_new</th>\n",
              "    </tr>\n",
              "  </thead>\n",
              "  <tbody>\n",
              "    <tr>\n",
              "      <th>6926</th>\n",
              "      <td>Отличное приложение))))</td>\n",
              "      <td>2017-08-04</td>\n",
              "      <td>отличный приложение</td>\n",
              "      <td>[8, 1, 0, 0, 0, 0, 0, 0, 0, 0, 0, 0, 0, 0, 0, ...</td>\n",
              "      <td>отличное приложение ) ) ) )</td>\n",
              "      <td>[25, 1, 13, 13, 13, 13, 0, 0, 0, 0, 0, 0, 0, 0...</td>\n",
              "    </tr>\n",
              "    <tr>\n",
              "      <th>6735</th>\n",
              "      <td>Олекум</td>\n",
              "      <td>2017-08-04</td>\n",
              "      <td>олекума</td>\n",
              "      <td>[3391, 0, 0, 0, 0, 0, 0, 0, 0, 0, 0, 0, 0, 0, ...</td>\n",
              "      <td>олекум</td>\n",
              "      <td>[5308, 0, 0, 0, 0, 0, 0, 0, 0, 0, 0, 0, 0, 0, ...</td>\n",
              "    </tr>\n",
              "    <tr>\n",
              "      <th>149</th>\n",
              "      <td>Хорошее приложение, но «антивирус» очень загру...</td>\n",
              "      <td>2017-08-14</td>\n",
              "      <td>хороший приложение « антивирус » загружать сис...</td>\n",
              "      <td>[7, 1, 1016, 16, 1017, 595, 199, 0, 0, 0, 0, 0...</td>\n",
              "      <td>хорошее приложение  но « антивирус » очень заг...</td>\n",
              "      <td>[39, 1, 19, 1627, 59, 1473, 4, 1035, 507, 0, 0...</td>\n",
              "    </tr>\n",
              "    <tr>\n",
              "      <th>3069</th>\n",
              "      <td>Потянет</td>\n",
              "      <td>2017-08-09</td>\n",
              "      <td>потянуть</td>\n",
              "      <td>[2426, 0, 0, 0, 0, 0, 0, 0, 0, 0, 0, 0, 0, 0, ...</td>\n",
              "      <td>потянет</td>\n",
              "      <td>[3656, 0, 0, 0, 0, 0, 0, 0, 0, 0, 0, 0, 0, 0, ...</td>\n",
              "    </tr>\n",
              "    <tr>\n",
              "      <th>17455</th>\n",
              "      <td>Ужасное приложение положил деньги и они испари...</td>\n",
              "      <td>2017-07-11</td>\n",
              "      <td>ужасный приложение положить деньга испариться ...</td>\n",
              "      <td>[211, 1, 534, 36, 3392, 773, 356, 472, 1633, 8...</td>\n",
              "      <td>ужасное приложение положил деньги и они испари...</td>\n",
              "      <td>[414, 1, 2041, 96, 3, 294, 5309, 38, 5310, 480...</td>\n",
              "    </tr>\n",
              "  </tbody>\n",
              "</table>\n",
              "</div>\n",
              "      <button class=\"colab-df-convert\" onclick=\"convertToInteractive('df-7c465e5d-ccbf-456f-a5e3-10e27c380953')\"\n",
              "              title=\"Convert this dataframe to an interactive table.\"\n",
              "              style=\"display:none;\">\n",
              "        \n",
              "  <svg xmlns=\"http://www.w3.org/2000/svg\" height=\"24px\"viewBox=\"0 0 24 24\"\n",
              "       width=\"24px\">\n",
              "    <path d=\"M0 0h24v24H0V0z\" fill=\"none\"/>\n",
              "    <path d=\"M18.56 5.44l.94 2.06.94-2.06 2.06-.94-2.06-.94-.94-2.06-.94 2.06-2.06.94zm-11 1L8.5 8.5l.94-2.06 2.06-.94-2.06-.94L8.5 2.5l-.94 2.06-2.06.94zm10 10l.94 2.06.94-2.06 2.06-.94-2.06-.94-.94-2.06-.94 2.06-2.06.94z\"/><path d=\"M17.41 7.96l-1.37-1.37c-.4-.4-.92-.59-1.43-.59-.52 0-1.04.2-1.43.59L10.3 9.45l-7.72 7.72c-.78.78-.78 2.05 0 2.83L4 21.41c.39.39.9.59 1.41.59.51 0 1.02-.2 1.41-.59l7.78-7.78 2.81-2.81c.8-.78.8-2.07 0-2.86zM5.41 20L4 18.59l7.72-7.72 1.47 1.35L5.41 20z\"/>\n",
              "  </svg>\n",
              "      </button>\n",
              "      \n",
              "  <style>\n",
              "    .colab-df-container {\n",
              "      display:flex;\n",
              "      flex-wrap:wrap;\n",
              "      gap: 12px;\n",
              "    }\n",
              "\n",
              "    .colab-df-convert {\n",
              "      background-color: #E8F0FE;\n",
              "      border: none;\n",
              "      border-radius: 50%;\n",
              "      cursor: pointer;\n",
              "      display: none;\n",
              "      fill: #1967D2;\n",
              "      height: 32px;\n",
              "      padding: 0 0 0 0;\n",
              "      width: 32px;\n",
              "    }\n",
              "\n",
              "    .colab-df-convert:hover {\n",
              "      background-color: #E2EBFA;\n",
              "      box-shadow: 0px 1px 2px rgba(60, 64, 67, 0.3), 0px 1px 3px 1px rgba(60, 64, 67, 0.15);\n",
              "      fill: #174EA6;\n",
              "    }\n",
              "\n",
              "    [theme=dark] .colab-df-convert {\n",
              "      background-color: #3B4455;\n",
              "      fill: #D2E3FC;\n",
              "    }\n",
              "\n",
              "    [theme=dark] .colab-df-convert:hover {\n",
              "      background-color: #434B5C;\n",
              "      box-shadow: 0px 1px 3px 1px rgba(0, 0, 0, 0.15);\n",
              "      filter: drop-shadow(0px 1px 2px rgba(0, 0, 0, 0.3));\n",
              "      fill: #FFFFFF;\n",
              "    }\n",
              "  </style>\n",
              "\n",
              "      <script>\n",
              "        const buttonEl =\n",
              "          document.querySelector('#df-7c465e5d-ccbf-456f-a5e3-10e27c380953 button.colab-df-convert');\n",
              "        buttonEl.style.display =\n",
              "          google.colab.kernel.accessAllowed ? 'block' : 'none';\n",
              "\n",
              "        async function convertToInteractive(key) {\n",
              "          const element = document.querySelector('#df-7c465e5d-ccbf-456f-a5e3-10e27c380953');\n",
              "          const dataTable =\n",
              "            await google.colab.kernel.invokeFunction('convertToInteractive',\n",
              "                                                     [key], {});\n",
              "          if (!dataTable) return;\n",
              "\n",
              "          const docLinkHtml = 'Like what you see? Visit the ' +\n",
              "            '<a target=\"_blank\" href=https://colab.research.google.com/notebooks/data_table.ipynb>data table notebook</a>'\n",
              "            + ' to learn more about interactive tables.';\n",
              "          element.innerHTML = '';\n",
              "          dataTable['output_type'] = 'display_data';\n",
              "          await google.colab.output.renderOutput(dataTable, element);\n",
              "          const docLink = document.createElement('div');\n",
              "          docLink.innerHTML = docLinkHtml;\n",
              "          element.appendChild(docLink);\n",
              "        }\n",
              "      </script>\n",
              "    </div>\n",
              "  </div>\n",
              "  "
            ]
          },
          "metadata": {},
          "execution_count": 639
        }
      ]
    },
    {
      "cell_type": "code",
      "source": [
        "corpus = (\" \".join(X_train['Content_preprocess_new'])).split()\n",
        "corpus_count = Counter(corpus)\n",
        "corpus_count.most_common(10)"
      ],
      "metadata": {
        "colab": {
          "base_uri": "https://localhost:8080/"
        },
        "id": "V7wO_i0mUWtf",
        "outputId": "5f178382-c847-4e10-fd3e-2cfe63ef0fbf"
      },
      "execution_count": 640,
      "outputs": [
        {
          "output_type": "execute_result",
          "data": {
            "text/plain": [
              "[('!', 5937),\n",
              " ('приложение', 4046),\n",
              " ('не', 3838),\n",
              " ('и', 3689),\n",
              " ('очень', 2874),\n",
              " ('?', 2825),\n",
              " ('удобно', 2622),\n",
              " ('все', 2590),\n",
              " ('в', 2277),\n",
              " ('на', 1530)]"
            ]
          },
          "metadata": {},
          "execution_count": 640
        }
      ]
    },
    {
      "cell_type": "code",
      "source": [
        "max_words_true = len(corpus_count)\n",
        "max_words_true"
      ],
      "metadata": {
        "colab": {
          "base_uri": "https://localhost:8080/"
        },
        "id": "i5qiT-33Ufks",
        "outputId": "cec297db-5080-4e5b-bf31-abff0c08bd9d"
      },
      "execution_count": 641,
      "outputs": [
        {
          "output_type": "execute_result",
          "data": {
            "text/plain": [
              "13593"
            ]
          },
          "metadata": {},
          "execution_count": 641
        }
      ]
    },
    {
      "cell_type": "code",
      "source": [
        "MAX_WORDS = max_words_true\n",
        "MAX_WORDS"
      ],
      "metadata": {
        "colab": {
          "base_uri": "https://localhost:8080/"
        },
        "id": "sjcpsBfEUiZm",
        "outputId": "26879eed-e013-4323-f8d3-7d2f1dedb2ba"
      },
      "execution_count": 642,
      "outputs": [
        {
          "output_type": "execute_result",
          "data": {
            "text/plain": [
              "13593"
            ]
          },
          "metadata": {},
          "execution_count": 642
        }
      ]
    },
    {
      "cell_type": "code",
      "source": [
        "vocabulary = {j:i for i, (j, _) in enumerate(corpus_count.most_common()[:MAX_WORDS], 1)}\n",
        "list(vocabulary.items())[:10]"
      ],
      "metadata": {
        "colab": {
          "base_uri": "https://localhost:8080/"
        },
        "id": "zz_ptu1nUlCP",
        "outputId": "c147f808-39c9-44c2-cdbd-46a68278a528"
      },
      "execution_count": 643,
      "outputs": [
        {
          "output_type": "execute_result",
          "data": {
            "text/plain": [
              "[('!', 1),\n",
              " ('приложение', 2),\n",
              " ('не', 3),\n",
              " ('и', 4),\n",
              " ('очень', 5),\n",
              " ('?', 6),\n",
              " ('удобно', 7),\n",
              " ('все', 8),\n",
              " ('в', 9),\n",
              " ('на', 10)]"
            ]
          },
          "metadata": {},
          "execution_count": 643
        }
      ]
    },
    {
      "cell_type": "code",
      "source": [
        "max_len_true = max([len(txt) for txt in X_train['Content_preprocess_new']])\n",
        "max_len_true"
      ],
      "metadata": {
        "colab": {
          "base_uri": "https://localhost:8080/"
        },
        "id": "28m9wjHRUnTO",
        "outputId": "d8fa6541-2cef-4426-e22c-e6b5c293f4bd"
      },
      "execution_count": 644,
      "outputs": [
        {
          "output_type": "execute_result",
          "data": {
            "text/plain": [
              "1159"
            ]
          },
          "metadata": {},
          "execution_count": 644
        }
      ]
    },
    {
      "cell_type": "code",
      "source": [
        "np.mean([len(txt) for txt in X_train['Content_preprocess_new']])"
      ],
      "metadata": {
        "colab": {
          "base_uri": "https://localhost:8080/"
        },
        "id": "IMJl4VzAUni8",
        "outputId": "969109e0-38b2-422c-ecae-52c0e96a0751"
      },
      "execution_count": 645,
      "outputs": [
        {
          "output_type": "execute_result",
          "data": {
            "text/plain": [
              "56.62475797082742"
            ]
          },
          "metadata": {},
          "execution_count": 645
        }
      ]
    },
    {
      "cell_type": "markdown",
      "source": [
        "Берём максимальную длину"
      ],
      "metadata": {
        "id": "Xs6CHQjsqxT8"
      }
    },
    {
      "cell_type": "code",
      "source": [
        "MAX_LEN = max_len_true\n",
        "MAX_LEN"
      ],
      "metadata": {
        "colab": {
          "base_uri": "https://localhost:8080/"
        },
        "id": "Ah1wXwKJUqtr",
        "outputId": "33969191-ece7-4d9b-e179-c72ae5a9d8e2"
      },
      "execution_count": 646,
      "outputs": [
        {
          "output_type": "execute_result",
          "data": {
            "text/plain": [
              "1159"
            ]
          },
          "metadata": {},
          "execution_count": 646
        }
      ]
    },
    {
      "cell_type": "code",
      "source": [
        "X_train['Content_sequence_new'] = X_train['Content_preprocess_new'].apply(lambda text: [vocabulary.get(word, 0) for word in text.split()][:MAX_LEN]+[0]*(MAX_LEN-len(text.split())))\n",
        "X_test['Content_sequence_new'] = X_test['Content_preprocess_new'].apply(lambda text: [vocabulary.get(word, 0) for word in text.split()][:MAX_LEN]+[0]*(MAX_LEN-len(text.split())))\n",
        "X_train.head()"
      ],
      "metadata": {
        "colab": {
          "base_uri": "https://localhost:8080/",
          "height": 337
        },
        "id": "FOUSO3DlUxED",
        "outputId": "d11ae5ce-54f6-45ba-d950-cf9821fa6278"
      },
      "execution_count": 647,
      "outputs": [
        {
          "output_type": "execute_result",
          "data": {
            "text/plain": [
              "                                                 Content        Date  \\\n",
              "6926                             Отличное приложение))))  2017-08-04   \n",
              "6735                                              Олекум  2017-08-04   \n",
              "149    Хорошее приложение, но «антивирус» очень загру...  2017-08-14   \n",
              "3069                                             Потянет  2017-08-09   \n",
              "17455  Ужасное приложение положил деньги и они испари...  2017-07-11   \n",
              "\n",
              "                                      Content_preprocess  \\\n",
              "6926                                 отличный приложение   \n",
              "6735                                             олекума   \n",
              "149    хороший приложение « антивирус » загружать сис...   \n",
              "3069                                            потянуть   \n",
              "17455  ужасный приложение положить деньга испариться ...   \n",
              "\n",
              "                                        Content_sequence  \\\n",
              "6926   [8, 1, 0, 0, 0, 0, 0, 0, 0, 0, 0, 0, 0, 0, 0, ...   \n",
              "6735   [3391, 0, 0, 0, 0, 0, 0, 0, 0, 0, 0, 0, 0, 0, ...   \n",
              "149    [7, 1, 1016, 16, 1017, 595, 199, 0, 0, 0, 0, 0...   \n",
              "3069   [2426, 0, 0, 0, 0, 0, 0, 0, 0, 0, 0, 0, 0, 0, ...   \n",
              "17455  [211, 1, 534, 36, 3392, 773, 356, 472, 1633, 8...   \n",
              "\n",
              "                                  Content_preprocess_new  \\\n",
              "6926                         отличное приложение ) ) ) )   \n",
              "6735                                              олекум   \n",
              "149    хорошее приложение  но « антивирус » очень заг...   \n",
              "3069                                             потянет   \n",
              "17455  ужасное приложение положил деньги и они испари...   \n",
              "\n",
              "                                    Content_sequence_new  \n",
              "6926   [26, 2, 14, 14, 14, 14, 0, 0, 0, 0, 0, 0, 0, 0...  \n",
              "6735   [5365, 0, 0, 0, 0, 0, 0, 0, 0, 0, 0, 0, 0, 0, ...  \n",
              "149    [39, 2, 20, 1498, 59, 1499, 5, 993, 521, 0, 0,...  \n",
              "3069   [3705, 0, 0, 0, 0, 0, 0, 0, 0, 0, 0, 0, 0, 0, ...  \n",
              "17455  [426, 2, 2073, 96, 4, 299, 5366, 38, 5367, 498...  "
            ],
            "text/html": [
              "\n",
              "  <div id=\"df-56ca4dab-f818-48c1-b5ea-a7de4b4b2e98\">\n",
              "    <div class=\"colab-df-container\">\n",
              "      <div>\n",
              "<style scoped>\n",
              "    .dataframe tbody tr th:only-of-type {\n",
              "        vertical-align: middle;\n",
              "    }\n",
              "\n",
              "    .dataframe tbody tr th {\n",
              "        vertical-align: top;\n",
              "    }\n",
              "\n",
              "    .dataframe thead th {\n",
              "        text-align: right;\n",
              "    }\n",
              "</style>\n",
              "<table border=\"1\" class=\"dataframe\">\n",
              "  <thead>\n",
              "    <tr style=\"text-align: right;\">\n",
              "      <th></th>\n",
              "      <th>Content</th>\n",
              "      <th>Date</th>\n",
              "      <th>Content_preprocess</th>\n",
              "      <th>Content_sequence</th>\n",
              "      <th>Content_preprocess_new</th>\n",
              "      <th>Content_sequence_new</th>\n",
              "    </tr>\n",
              "  </thead>\n",
              "  <tbody>\n",
              "    <tr>\n",
              "      <th>6926</th>\n",
              "      <td>Отличное приложение))))</td>\n",
              "      <td>2017-08-04</td>\n",
              "      <td>отличный приложение</td>\n",
              "      <td>[8, 1, 0, 0, 0, 0, 0, 0, 0, 0, 0, 0, 0, 0, 0, ...</td>\n",
              "      <td>отличное приложение ) ) ) )</td>\n",
              "      <td>[26, 2, 14, 14, 14, 14, 0, 0, 0, 0, 0, 0, 0, 0...</td>\n",
              "    </tr>\n",
              "    <tr>\n",
              "      <th>6735</th>\n",
              "      <td>Олекум</td>\n",
              "      <td>2017-08-04</td>\n",
              "      <td>олекума</td>\n",
              "      <td>[3391, 0, 0, 0, 0, 0, 0, 0, 0, 0, 0, 0, 0, 0, ...</td>\n",
              "      <td>олекум</td>\n",
              "      <td>[5365, 0, 0, 0, 0, 0, 0, 0, 0, 0, 0, 0, 0, 0, ...</td>\n",
              "    </tr>\n",
              "    <tr>\n",
              "      <th>149</th>\n",
              "      <td>Хорошее приложение, но «антивирус» очень загру...</td>\n",
              "      <td>2017-08-14</td>\n",
              "      <td>хороший приложение « антивирус » загружать сис...</td>\n",
              "      <td>[7, 1, 1016, 16, 1017, 595, 199, 0, 0, 0, 0, 0...</td>\n",
              "      <td>хорошее приложение  но « антивирус » очень заг...</td>\n",
              "      <td>[39, 2, 20, 1498, 59, 1499, 5, 993, 521, 0, 0,...</td>\n",
              "    </tr>\n",
              "    <tr>\n",
              "      <th>3069</th>\n",
              "      <td>Потянет</td>\n",
              "      <td>2017-08-09</td>\n",
              "      <td>потянуть</td>\n",
              "      <td>[2426, 0, 0, 0, 0, 0, 0, 0, 0, 0, 0, 0, 0, 0, ...</td>\n",
              "      <td>потянет</td>\n",
              "      <td>[3705, 0, 0, 0, 0, 0, 0, 0, 0, 0, 0, 0, 0, 0, ...</td>\n",
              "    </tr>\n",
              "    <tr>\n",
              "      <th>17455</th>\n",
              "      <td>Ужасное приложение положил деньги и они испари...</td>\n",
              "      <td>2017-07-11</td>\n",
              "      <td>ужасный приложение положить деньга испариться ...</td>\n",
              "      <td>[211, 1, 534, 36, 3392, 773, 356, 472, 1633, 8...</td>\n",
              "      <td>ужасное приложение положил деньги и они испари...</td>\n",
              "      <td>[426, 2, 2073, 96, 4, 299, 5366, 38, 5367, 498...</td>\n",
              "    </tr>\n",
              "  </tbody>\n",
              "</table>\n",
              "</div>\n",
              "      <button class=\"colab-df-convert\" onclick=\"convertToInteractive('df-56ca4dab-f818-48c1-b5ea-a7de4b4b2e98')\"\n",
              "              title=\"Convert this dataframe to an interactive table.\"\n",
              "              style=\"display:none;\">\n",
              "        \n",
              "  <svg xmlns=\"http://www.w3.org/2000/svg\" height=\"24px\"viewBox=\"0 0 24 24\"\n",
              "       width=\"24px\">\n",
              "    <path d=\"M0 0h24v24H0V0z\" fill=\"none\"/>\n",
              "    <path d=\"M18.56 5.44l.94 2.06.94-2.06 2.06-.94-2.06-.94-.94-2.06-.94 2.06-2.06.94zm-11 1L8.5 8.5l.94-2.06 2.06-.94-2.06-.94L8.5 2.5l-.94 2.06-2.06.94zm10 10l.94 2.06.94-2.06 2.06-.94-2.06-.94-.94-2.06-.94 2.06-2.06.94z\"/><path d=\"M17.41 7.96l-1.37-1.37c-.4-.4-.92-.59-1.43-.59-.52 0-1.04.2-1.43.59L10.3 9.45l-7.72 7.72c-.78.78-.78 2.05 0 2.83L4 21.41c.39.39.9.59 1.41.59.51 0 1.02-.2 1.41-.59l7.78-7.78 2.81-2.81c.8-.78.8-2.07 0-2.86zM5.41 20L4 18.59l7.72-7.72 1.47 1.35L5.41 20z\"/>\n",
              "  </svg>\n",
              "      </button>\n",
              "      \n",
              "  <style>\n",
              "    .colab-df-container {\n",
              "      display:flex;\n",
              "      flex-wrap:wrap;\n",
              "      gap: 12px;\n",
              "    }\n",
              "\n",
              "    .colab-df-convert {\n",
              "      background-color: #E8F0FE;\n",
              "      border: none;\n",
              "      border-radius: 50%;\n",
              "      cursor: pointer;\n",
              "      display: none;\n",
              "      fill: #1967D2;\n",
              "      height: 32px;\n",
              "      padding: 0 0 0 0;\n",
              "      width: 32px;\n",
              "    }\n",
              "\n",
              "    .colab-df-convert:hover {\n",
              "      background-color: #E2EBFA;\n",
              "      box-shadow: 0px 1px 2px rgba(60, 64, 67, 0.3), 0px 1px 3px 1px rgba(60, 64, 67, 0.15);\n",
              "      fill: #174EA6;\n",
              "    }\n",
              "\n",
              "    [theme=dark] .colab-df-convert {\n",
              "      background-color: #3B4455;\n",
              "      fill: #D2E3FC;\n",
              "    }\n",
              "\n",
              "    [theme=dark] .colab-df-convert:hover {\n",
              "      background-color: #434B5C;\n",
              "      box-shadow: 0px 1px 3px 1px rgba(0, 0, 0, 0.15);\n",
              "      filter: drop-shadow(0px 1px 2px rgba(0, 0, 0, 0.3));\n",
              "      fill: #FFFFFF;\n",
              "    }\n",
              "  </style>\n",
              "\n",
              "      <script>\n",
              "        const buttonEl =\n",
              "          document.querySelector('#df-56ca4dab-f818-48c1-b5ea-a7de4b4b2e98 button.colab-df-convert');\n",
              "        buttonEl.style.display =\n",
              "          google.colab.kernel.accessAllowed ? 'block' : 'none';\n",
              "\n",
              "        async function convertToInteractive(key) {\n",
              "          const element = document.querySelector('#df-56ca4dab-f818-48c1-b5ea-a7de4b4b2e98');\n",
              "          const dataTable =\n",
              "            await google.colab.kernel.invokeFunction('convertToInteractive',\n",
              "                                                     [key], {});\n",
              "          if (!dataTable) return;\n",
              "\n",
              "          const docLinkHtml = 'Like what you see? Visit the ' +\n",
              "            '<a target=\"_blank\" href=https://colab.research.google.com/notebooks/data_table.ipynb>data table notebook</a>'\n",
              "            + ' to learn more about interactive tables.';\n",
              "          element.innerHTML = '';\n",
              "          dataTable['output_type'] = 'display_data';\n",
              "          await google.colab.output.renderOutput(dataTable, element);\n",
              "          const docLink = document.createElement('div');\n",
              "          docLink.innerHTML = docLinkHtml;\n",
              "          element.appendChild(docLink);\n",
              "        }\n",
              "      </script>\n",
              "    </div>\n",
              "  </div>\n",
              "  "
            ]
          },
          "metadata": {},
          "execution_count": 647
        }
      ]
    },
    {
      "cell_type": "code",
      "source": [
        "X_train_array = np.array([[j for j in i] for i in X_train['Content_sequence_new']])\n",
        "X_test_array = np.array([[j for j in i] for i in X_test['Content_sequence_new']])\n",
        "X_train_array[0][:10]"
      ],
      "metadata": {
        "colab": {
          "base_uri": "https://localhost:8080/"
        },
        "id": "43C2cKH6U07D",
        "outputId": "a697c0eb-e4cb-4618-b5a1-41230a38c5ca"
      },
      "execution_count": 648,
      "outputs": [
        {
          "output_type": "execute_result",
          "data": {
            "text/plain": [
              "array([26,  2, 14, 14, 14, 14,  0,  0,  0,  0])"
            ]
          },
          "metadata": {},
          "execution_count": 648
        }
      ]
    },
    {
      "cell_type": "markdown",
      "source": [
        "### Модель"
      ],
      "metadata": {
        "id": "2T3uiC4jVL7o"
      }
    },
    {
      "cell_type": "markdown",
      "source": [
        "Используем CNN, так как она самая быстрая и с ней лучше, чем без неё."
      ],
      "metadata": {
        "id": "YQDPmuhCq2q7"
      }
    },
    {
      "cell_type": "code",
      "source": [
        "embedding_dim=300\n",
        "hidden_dim=512\n",
        "\n",
        "model = Sequential([\n",
        "    Embedding(MAX_WORDS+1, embedding_dim, mask_zero=True),\n",
        "    Conv1D(embedding_dim*2, 3),\n",
        "    GlobalMaxPooling1D(),\n",
        "    Dense(hidden_dim, activation='relu'),\n",
        "    Dense(hidden_dim//2, activation='relu'),\n",
        "\n",
        "    Dense(units=5, activation='sigmoid')\n",
        "])"
      ],
      "metadata": {
        "id": "9ndeR8uiVNqG"
      },
      "execution_count": 665,
      "outputs": []
    },
    {
      "cell_type": "code",
      "source": [
        "print(model.summary())\n",
        "model.compile(loss=tf.keras.losses.SparseCategoricalCrossentropy(),\n",
        "              loss_weights=disbalance,\n",
        "              optimizer='adam',\n",
        "              metrics=['accuracy'])"
      ],
      "metadata": {
        "colab": {
          "base_uri": "https://localhost:8080/"
        },
        "id": "iy8jNmsDVRww",
        "outputId": "d6d7afcd-1e20-4f20-bdaa-815411005cdf"
      },
      "execution_count": 666,
      "outputs": [
        {
          "output_type": "stream",
          "name": "stdout",
          "text": [
            "Model: \"sequential_76\"\n",
            "_________________________________________________________________\n",
            " Layer (type)                Output Shape              Param #   \n",
            "=================================================================\n",
            " embedding_76 (Embedding)    (None, None, 300)         4078200   \n",
            "                                                                 \n",
            " conv1d_63 (Conv1D)          (None, None, 600)         540600    \n",
            "                                                                 \n",
            " global_max_pooling1d_75 (Gl  (None, 600)              0         \n",
            " obalMaxPooling1D)                                               \n",
            "                                                                 \n",
            " dense_228 (Dense)           (None, 512)               307712    \n",
            "                                                                 \n",
            " dense_229 (Dense)           (None, 256)               131328    \n",
            "                                                                 \n",
            " dense_230 (Dense)           (None, 5)                 1285      \n",
            "                                                                 \n",
            "=================================================================\n",
            "Total params: 5,059,125\n",
            "Trainable params: 5,059,125\n",
            "Non-trainable params: 0\n",
            "_________________________________________________________________\n",
            "None\n"
          ]
        }
      ]
    },
    {
      "cell_type": "code",
      "source": [
        "with tf.device(\"GPU:0\"):\n",
        "    hh = model.fit(X_train_array, y_train_array, validation_data=(X_test_array, y_test_array), epochs=2)"
      ],
      "metadata": {
        "colab": {
          "base_uri": "https://localhost:8080/"
        },
        "id": "717Vz-VPVULD",
        "outputId": "72af125b-5b56-4a44-ab12-00869e31491f"
      },
      "execution_count": 662,
      "outputs": [
        {
          "output_type": "stream",
          "name": "stdout",
          "text": [
            "Epoch 1/2\n",
            "485/485 [==============================] - 28s 57ms/step - loss: 6.7255 - accuracy: 0.7652 - val_loss: 6.1693 - val_accuracy: 0.7863\n",
            "Epoch 2/2\n",
            "485/485 [==============================] - 27s 56ms/step - loss: 5.1452 - accuracy: 0.8187 - val_loss: 6.4666 - val_accuracy: 0.7791\n"
          ]
        }
      ]
    },
    {
      "cell_type": "code",
      "source": [
        "print(classification_report(y_test_array, np.argmax(model.predict(X_test_array), axis=1)))"
      ],
      "metadata": {
        "colab": {
          "base_uri": "https://localhost:8080/"
        },
        "id": "7yo8oMBEVaNr",
        "outputId": "3d25953b-4a26-4418-9a34-04d2024ef517"
      },
      "execution_count": 663,
      "outputs": [
        {
          "output_type": "stream",
          "name": "stdout",
          "text": [
            "              precision    recall  f1-score   support\n",
            "\n",
            "           0       0.57      0.71      0.63       577\n",
            "           1       0.20      0.02      0.03       190\n",
            "           2       0.23      0.22      0.22       234\n",
            "           3       0.35      0.18      0.24       511\n",
            "           4       0.88      0.95      0.91      3653\n",
            "\n",
            "    accuracy                           0.78      5165\n",
            "   macro avg       0.45      0.41      0.41      5165\n",
            "weighted avg       0.74      0.78      0.75      5165\n",
            "\n"
          ]
        }
      ]
    },
    {
      "cell_type": "code",
      "source": [
        "hh.history['val_accuracy'][-1]"
      ],
      "metadata": {
        "colab": {
          "base_uri": "https://localhost:8080/"
        },
        "id": "spJlOQYNVahm",
        "outputId": "44cd2e84-4e50-4360-a5b9-ba591d67b95a"
      },
      "execution_count": 664,
      "outputs": [
        {
          "output_type": "execute_result",
          "data": {
            "text/plain": [
              "0.7790900468826294"
            ]
          },
          "metadata": {},
          "execution_count": 664
        }
      ]
    },
    {
      "cell_type": "markdown",
      "source": [
        "Метрику получилось немного поднять с помощью обьеденения малочастотных слов в тэги."
      ],
      "metadata": {
        "id": "au0eRfEIy3e7"
      }
    },
    {
      "cell_type": "markdown",
      "source": [
        "Так же можно попробывать n-грамный подход."
      ],
      "metadata": {
        "id": "7tPHXyiIzEA-"
      }
    }
  ]
}