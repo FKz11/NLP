{
  "nbformat": 4,
  "nbformat_minor": 0,
  "metadata": {
    "colab": {
      "provenance": [],
      "collapsed_sections": [],
      "authorship_tag": "ABX9TyPZhCFfhU5foEd889IS3+Az",
      "include_colab_link": true
    },
    "kernelspec": {
      "name": "python3",
      "display_name": "Python 3"
    },
    "language_info": {
      "name": "python"
    },
    "accelerator": "GPU",
    "widgets": {
      "application/vnd.jupyter.widget-state+json": {
        "2be25de243984458a616314b0f9a6d3a": {
          "model_module": "@jupyter-widgets/controls",
          "model_name": "HBoxModel",
          "model_module_version": "1.5.0",
          "state": {
            "_dom_classes": [],
            "_model_module": "@jupyter-widgets/controls",
            "_model_module_version": "1.5.0",
            "_model_name": "HBoxModel",
            "_view_count": null,
            "_view_module": "@jupyter-widgets/controls",
            "_view_module_version": "1.5.0",
            "_view_name": "HBoxView",
            "box_style": "",
            "children": [
              "IPY_MODEL_b4c6c19b15fc45eab7631130e0244b76",
              "IPY_MODEL_7bfbd0c71ea5455b91ede107659fcae9",
              "IPY_MODEL_e9446a9118e54c94b4cd299b53bf4b25"
            ],
            "layout": "IPY_MODEL_aeeddf187618491c8ebd66b61b687b1c"
          }
        },
        "b4c6c19b15fc45eab7631130e0244b76": {
          "model_module": "@jupyter-widgets/controls",
          "model_name": "HTMLModel",
          "model_module_version": "1.5.0",
          "state": {
            "_dom_classes": [],
            "_model_module": "@jupyter-widgets/controls",
            "_model_module_version": "1.5.0",
            "_model_name": "HTMLModel",
            "_view_count": null,
            "_view_module": "@jupyter-widgets/controls",
            "_view_module_version": "1.5.0",
            "_view_name": "HTMLView",
            "description": "",
            "description_tooltip": null,
            "layout": "IPY_MODEL_00998a919cd543a9a75c707edfc86847",
            "placeholder": "​",
            "style": "IPY_MODEL_0acb098b11c4444aa919c10b2823c20f",
            "value": "100%"
          }
        },
        "7bfbd0c71ea5455b91ede107659fcae9": {
          "model_module": "@jupyter-widgets/controls",
          "model_name": "FloatProgressModel",
          "model_module_version": "1.5.0",
          "state": {
            "_dom_classes": [],
            "_model_module": "@jupyter-widgets/controls",
            "_model_module_version": "1.5.0",
            "_model_name": "FloatProgressModel",
            "_view_count": null,
            "_view_module": "@jupyter-widgets/controls",
            "_view_module_version": "1.5.0",
            "_view_name": "ProgressView",
            "bar_style": "success",
            "description": "",
            "description_tooltip": null,
            "layout": "IPY_MODEL_0812cc17ec3542a8b6bf4954958d8f18",
            "max": 3,
            "min": 0,
            "orientation": "horizontal",
            "style": "IPY_MODEL_b239704054184959bfac768d0393acba",
            "value": 3
          }
        },
        "e9446a9118e54c94b4cd299b53bf4b25": {
          "model_module": "@jupyter-widgets/controls",
          "model_name": "HTMLModel",
          "model_module_version": "1.5.0",
          "state": {
            "_dom_classes": [],
            "_model_module": "@jupyter-widgets/controls",
            "_model_module_version": "1.5.0",
            "_model_name": "HTMLModel",
            "_view_count": null,
            "_view_module": "@jupyter-widgets/controls",
            "_view_module_version": "1.5.0",
            "_view_name": "HTMLView",
            "description": "",
            "description_tooltip": null,
            "layout": "IPY_MODEL_0baeed24044e4a5a9b0cd42330327242",
            "placeholder": "​",
            "style": "IPY_MODEL_e6065ea7c30c4772b48d6cd7dfb7814f",
            "value": " 3/3 [00:00&lt;00:00, 45.52it/s]"
          }
        },
        "aeeddf187618491c8ebd66b61b687b1c": {
          "model_module": "@jupyter-widgets/base",
          "model_name": "LayoutModel",
          "model_module_version": "1.2.0",
          "state": {
            "_model_module": "@jupyter-widgets/base",
            "_model_module_version": "1.2.0",
            "_model_name": "LayoutModel",
            "_view_count": null,
            "_view_module": "@jupyter-widgets/base",
            "_view_module_version": "1.2.0",
            "_view_name": "LayoutView",
            "align_content": null,
            "align_items": null,
            "align_self": null,
            "border": null,
            "bottom": null,
            "display": null,
            "flex": null,
            "flex_flow": null,
            "grid_area": null,
            "grid_auto_columns": null,
            "grid_auto_flow": null,
            "grid_auto_rows": null,
            "grid_column": null,
            "grid_gap": null,
            "grid_row": null,
            "grid_template_areas": null,
            "grid_template_columns": null,
            "grid_template_rows": null,
            "height": null,
            "justify_content": null,
            "justify_items": null,
            "left": null,
            "margin": null,
            "max_height": null,
            "max_width": null,
            "min_height": null,
            "min_width": null,
            "object_fit": null,
            "object_position": null,
            "order": null,
            "overflow": null,
            "overflow_x": null,
            "overflow_y": null,
            "padding": null,
            "right": null,
            "top": null,
            "visibility": null,
            "width": null
          }
        },
        "00998a919cd543a9a75c707edfc86847": {
          "model_module": "@jupyter-widgets/base",
          "model_name": "LayoutModel",
          "model_module_version": "1.2.0",
          "state": {
            "_model_module": "@jupyter-widgets/base",
            "_model_module_version": "1.2.0",
            "_model_name": "LayoutModel",
            "_view_count": null,
            "_view_module": "@jupyter-widgets/base",
            "_view_module_version": "1.2.0",
            "_view_name": "LayoutView",
            "align_content": null,
            "align_items": null,
            "align_self": null,
            "border": null,
            "bottom": null,
            "display": null,
            "flex": null,
            "flex_flow": null,
            "grid_area": null,
            "grid_auto_columns": null,
            "grid_auto_flow": null,
            "grid_auto_rows": null,
            "grid_column": null,
            "grid_gap": null,
            "grid_row": null,
            "grid_template_areas": null,
            "grid_template_columns": null,
            "grid_template_rows": null,
            "height": null,
            "justify_content": null,
            "justify_items": null,
            "left": null,
            "margin": null,
            "max_height": null,
            "max_width": null,
            "min_height": null,
            "min_width": null,
            "object_fit": null,
            "object_position": null,
            "order": null,
            "overflow": null,
            "overflow_x": null,
            "overflow_y": null,
            "padding": null,
            "right": null,
            "top": null,
            "visibility": null,
            "width": null
          }
        },
        "0acb098b11c4444aa919c10b2823c20f": {
          "model_module": "@jupyter-widgets/controls",
          "model_name": "DescriptionStyleModel",
          "model_module_version": "1.5.0",
          "state": {
            "_model_module": "@jupyter-widgets/controls",
            "_model_module_version": "1.5.0",
            "_model_name": "DescriptionStyleModel",
            "_view_count": null,
            "_view_module": "@jupyter-widgets/base",
            "_view_module_version": "1.2.0",
            "_view_name": "StyleView",
            "description_width": ""
          }
        },
        "0812cc17ec3542a8b6bf4954958d8f18": {
          "model_module": "@jupyter-widgets/base",
          "model_name": "LayoutModel",
          "model_module_version": "1.2.0",
          "state": {
            "_model_module": "@jupyter-widgets/base",
            "_model_module_version": "1.2.0",
            "_model_name": "LayoutModel",
            "_view_count": null,
            "_view_module": "@jupyter-widgets/base",
            "_view_module_version": "1.2.0",
            "_view_name": "LayoutView",
            "align_content": null,
            "align_items": null,
            "align_self": null,
            "border": null,
            "bottom": null,
            "display": null,
            "flex": null,
            "flex_flow": null,
            "grid_area": null,
            "grid_auto_columns": null,
            "grid_auto_flow": null,
            "grid_auto_rows": null,
            "grid_column": null,
            "grid_gap": null,
            "grid_row": null,
            "grid_template_areas": null,
            "grid_template_columns": null,
            "grid_template_rows": null,
            "height": null,
            "justify_content": null,
            "justify_items": null,
            "left": null,
            "margin": null,
            "max_height": null,
            "max_width": null,
            "min_height": null,
            "min_width": null,
            "object_fit": null,
            "object_position": null,
            "order": null,
            "overflow": null,
            "overflow_x": null,
            "overflow_y": null,
            "padding": null,
            "right": null,
            "top": null,
            "visibility": null,
            "width": null
          }
        },
        "b239704054184959bfac768d0393acba": {
          "model_module": "@jupyter-widgets/controls",
          "model_name": "ProgressStyleModel",
          "model_module_version": "1.5.0",
          "state": {
            "_model_module": "@jupyter-widgets/controls",
            "_model_module_version": "1.5.0",
            "_model_name": "ProgressStyleModel",
            "_view_count": null,
            "_view_module": "@jupyter-widgets/base",
            "_view_module_version": "1.2.0",
            "_view_name": "StyleView",
            "bar_color": null,
            "description_width": ""
          }
        },
        "0baeed24044e4a5a9b0cd42330327242": {
          "model_module": "@jupyter-widgets/base",
          "model_name": "LayoutModel",
          "model_module_version": "1.2.0",
          "state": {
            "_model_module": "@jupyter-widgets/base",
            "_model_module_version": "1.2.0",
            "_model_name": "LayoutModel",
            "_view_count": null,
            "_view_module": "@jupyter-widgets/base",
            "_view_module_version": "1.2.0",
            "_view_name": "LayoutView",
            "align_content": null,
            "align_items": null,
            "align_self": null,
            "border": null,
            "bottom": null,
            "display": null,
            "flex": null,
            "flex_flow": null,
            "grid_area": null,
            "grid_auto_columns": null,
            "grid_auto_flow": null,
            "grid_auto_rows": null,
            "grid_column": null,
            "grid_gap": null,
            "grid_row": null,
            "grid_template_areas": null,
            "grid_template_columns": null,
            "grid_template_rows": null,
            "height": null,
            "justify_content": null,
            "justify_items": null,
            "left": null,
            "margin": null,
            "max_height": null,
            "max_width": null,
            "min_height": null,
            "min_width": null,
            "object_fit": null,
            "object_position": null,
            "order": null,
            "overflow": null,
            "overflow_x": null,
            "overflow_y": null,
            "padding": null,
            "right": null,
            "top": null,
            "visibility": null,
            "width": null
          }
        },
        "e6065ea7c30c4772b48d6cd7dfb7814f": {
          "model_module": "@jupyter-widgets/controls",
          "model_name": "DescriptionStyleModel",
          "model_module_version": "1.5.0",
          "state": {
            "_model_module": "@jupyter-widgets/controls",
            "_model_module_version": "1.5.0",
            "_model_name": "DescriptionStyleModel",
            "_view_count": null,
            "_view_module": "@jupyter-widgets/base",
            "_view_module_version": "1.2.0",
            "_view_name": "StyleView",
            "description_width": ""
          }
        }
      }
    }
  },
  "cells": [
    {
      "cell_type": "markdown",
      "metadata": {
        "id": "view-in-github",
        "colab_type": "text"
      },
      "source": [
        "<a href=\"https://colab.research.google.com/github/FKz11/NLP/blob/main/lesson_13.ipynb\" target=\"_parent\"><img src=\"https://colab.research.google.com/assets/colab-badge.svg\" alt=\"Open In Colab\"/></a>"
      ]
    },
    {
      "cell_type": "markdown",
      "source": [
        "# Lesson-13"
      ],
      "metadata": {
        "id": "x4NuPlyWbQqs"
      }
    },
    {
      "cell_type": "markdown",
      "source": [
        "Взять тот же датасет, который был на вебинаре и предобученную модель для задачи суммаризации\n",
        "1. Проверить насколько хорошо она суммаризирует"
      ],
      "metadata": {
        "id": "r6TORUBybMQi"
      }
    },
    {
      "cell_type": "markdown",
      "source": [
        "Данные"
      ],
      "metadata": {
        "id": "7tzcTbSYeuAP"
      }
    },
    {
      "cell_type": "code",
      "source": [
        "!pip install -qq datasets"
      ],
      "metadata": {
        "id": "PVouTaJAez4f"
      },
      "execution_count": 1,
      "outputs": []
    },
    {
      "cell_type": "code",
      "source": [
        "from datasets import load_dataset\n",
        "\n",
        "dataset = load_dataset('IlyaGusev/gazeta', revision=\"v1.0\")"
      ],
      "metadata": {
        "colab": {
          "base_uri": "https://localhost:8080/",
          "height": 122,
          "referenced_widgets": [
            "2be25de243984458a616314b0f9a6d3a",
            "b4c6c19b15fc45eab7631130e0244b76",
            "7bfbd0c71ea5455b91ede107659fcae9",
            "e9446a9118e54c94b4cd299b53bf4b25",
            "aeeddf187618491c8ebd66b61b687b1c",
            "00998a919cd543a9a75c707edfc86847",
            "0acb098b11c4444aa919c10b2823c20f",
            "0812cc17ec3542a8b6bf4954958d8f18",
            "b239704054184959bfac768d0393acba",
            "0baeed24044e4a5a9b0cd42330327242",
            "e6065ea7c30c4772b48d6cd7dfb7814f"
          ]
        },
        "id": "oF2_4JGletf0",
        "outputId": "8cd012f6-c2c1-49f3-b099-77cb0ecb1686"
      },
      "execution_count": 2,
      "outputs": [
        {
          "output_type": "stream",
          "name": "stderr",
          "text": [
            "/usr/local/lib/python3.7/dist-packages/huggingface_hub/utils/_deprecation.py:97: FutureWarning: Deprecated argument(s) used in 'dataset_info': token. Will not be supported from version '0.12'.\n",
            "  warnings.warn(message, FutureWarning)\n",
            "WARNING:datasets.builder:No config specified, defaulting to: gazeta/default\n",
            "WARNING:datasets.builder:Found cached dataset gazeta (/root/.cache/huggingface/datasets/IlyaGusev___gazeta/default/1.0.0/ef9349c3c0f3112ca4036520d76c4bc1b8a79d30bc29643c6cae5a094d44e457)\n"
          ]
        },
        {
          "output_type": "display_data",
          "data": {
            "text/plain": [
              "  0%|          | 0/3 [00:00<?, ?it/s]"
            ],
            "application/vnd.jupyter.widget-view+json": {
              "version_major": 2,
              "version_minor": 0,
              "model_id": "2be25de243984458a616314b0f9a6d3a"
            }
          },
          "metadata": {}
        }
      ]
    },
    {
      "cell_type": "markdown",
      "source": [
        "Так как эта модель уже обучена на этих данных, то нам нужно взять только test данные"
      ],
      "metadata": {
        "id": "43nzesj8gKhw"
      }
    },
    {
      "cell_type": "markdown",
      "source": [
        "Так же это модель очень тяжелая, даже для генерации, не говоря уже про обучение, поэтому возьмём только 256 примеров для анализа."
      ],
      "metadata": {
        "id": "Wy4r2u59rlyX"
      }
    },
    {
      "cell_type": "code",
      "source": [
        "test_size = 256"
      ],
      "metadata": {
        "id": "aFTxsz5Rr3oE"
      },
      "execution_count": 3,
      "outputs": []
    },
    {
      "cell_type": "code",
      "source": [
        "data = dataset['test'][:test_size]"
      ],
      "metadata": {
        "id": "Cz1naRwHfVbL"
      },
      "execution_count": 4,
      "outputs": []
    },
    {
      "cell_type": "code",
      "source": [
        "data_x = data['text']\n",
        "data_y = data['summary']\n",
        "len(data_x)"
      ],
      "metadata": {
        "colab": {
          "base_uri": "https://localhost:8080/"
        },
        "id": "gHSWU2f8jor0",
        "outputId": "57d7998a-839a-45a9-b891-087a4fba7bf2"
      },
      "execution_count": 5,
      "outputs": [
        {
          "output_type": "execute_result",
          "data": {
            "text/plain": [
              "256"
            ]
          },
          "metadata": {},
          "execution_count": 5
        }
      ]
    },
    {
      "cell_type": "markdown",
      "source": [
        "### Загружаем предобученную модель"
      ],
      "metadata": {
        "id": "Rje74tkbd5ic"
      }
    },
    {
      "cell_type": "code",
      "source": [
        "!pip install -qq transformers[SentencePiece]"
      ],
      "metadata": {
        "id": "39kwT_Z_hxWv"
      },
      "execution_count": 6,
      "outputs": []
    },
    {
      "cell_type": "code",
      "execution_count": 7,
      "metadata": {
        "id": "5fZvtCrBbBQc"
      },
      "outputs": [],
      "source": [
        "from transformers import AutoTokenizer, MBartForConditionalGeneration #AutoModel\n",
        "\n",
        "model_name = \"IlyaGusev/mbart_ru_sum_gazeta\"\n",
        "\n",
        "tokenizer = AutoTokenizer.from_pretrained(model_name)\n",
        "model = MBartForConditionalGeneration.from_pretrained(model_name).cuda()"
      ]
    },
    {
      "cell_type": "markdown",
      "source": [
        "### Predict"
      ],
      "metadata": {
        "id": "fEDuHEe8jWZ-"
      }
    },
    {
      "cell_type": "code",
      "source": [
        "input_ids = tokenizer.prepare_seq2seq_batch(\n",
        "    data_x,\n",
        "    src_lang=\"ru_XX\", \n",
        "    return_tensors=\"pt\",\n",
        "    padding=\"max_length\",\n",
        "    truncation=True,\n",
        "    max_length=600\n",
        ")[\"input_ids\"].cuda()"
      ],
      "metadata": {
        "colab": {
          "base_uri": "https://localhost:8080/"
        },
        "id": "GRXVkjAujY_N",
        "outputId": "c4ffcb86-6d13-45cc-880a-087e8c36247d"
      },
      "execution_count": 8,
      "outputs": [
        {
          "output_type": "stream",
          "name": "stderr",
          "text": [
            "/usr/local/lib/python3.7/dist-packages/transformers/tokenization_utils_base.py:3668: FutureWarning: \n",
            "`prepare_seq2seq_batch` is deprecated and will be removed in version 5 of HuggingFace Transformers. Use the regular\n",
            "`__call__` method to prepare your inputs and targets.\n",
            "\n",
            "Here is a short example:\n",
            "\n",
            "model_inputs = tokenizer(src_texts, text_target=tgt_texts, ...)\n",
            "\n",
            "If you either need to use different keyword arguments for the source and target texts, you should do two calls like\n",
            "this:\n",
            "\n",
            "model_inputs = tokenizer(src_texts, ...)\n",
            "labels = tokenizer(text_target=tgt_texts, ...)\n",
            "model_inputs[\"labels\"] = labels[\"input_ids\"]\n",
            "\n",
            "See the documentation of your specific tokenizer for more details on the specific arguments to the tokenizer of choice.\n",
            "For a more complete example, see the implementation of `prepare_seq2seq_batch`.\n",
            "\n",
            "  warnings.warn(formatted_warning, FutureWarning)\n"
          ]
        }
      ]
    },
    {
      "cell_type": "code",
      "source": [
        "input = []\n",
        "batch_size=16\n",
        "i=0\n",
        "for _ in range(len(input_ids)//batch_size):\n",
        "  input.append(input_ids[i:i+batch_size])\n",
        "  i+=batch_size"
      ],
      "metadata": {
        "id": "NFDfrFyroQfu"
      },
      "execution_count": 9,
      "outputs": []
    },
    {
      "cell_type": "code",
      "source": [
        "import torch\n",
        "from tqdm import tqdm"
      ],
      "metadata": {
        "id": "z60TqR11lTsx"
      },
      "execution_count": 10,
      "outputs": []
    },
    {
      "cell_type": "code",
      "source": [
        "output_ids = []\n",
        "for ids in tqdm(input):\n",
        "    output_ids.append(model.generate(\n",
        "    input_ids=ids,\n",
        "    max_length=162,\n",
        "    no_repeat_ngram_size=3,\n",
        "    num_beams=5,\n",
        "    top_k=0))"
      ],
      "metadata": {
        "colab": {
          "base_uri": "https://localhost:8080/"
        },
        "id": "x3ye56Q1kdbX",
        "outputId": "14098c72-9da2-4bbd-b3f9-462d01df19b2"
      },
      "execution_count": 11,
      "outputs": [
        {
          "output_type": "stream",
          "name": "stderr",
          "text": [
            "100%|██████████| 16/16 [04:22<00:00, 16.41s/it]\n"
          ]
        }
      ]
    },
    {
      "cell_type": "code",
      "source": [
        "torch.save(output_ids, 'tensor.pt')"
      ],
      "metadata": {
        "id": "D5jMdTlneRr0"
      },
      "execution_count": 12,
      "outputs": []
    },
    {
      "cell_type": "markdown",
      "source": [
        "*** checkpoint ***"
      ],
      "metadata": {
        "id": "TItLsC3MhI4t"
      }
    },
    {
      "cell_type": "code",
      "source": [
        "output_ids = torch.load('tensor.pt')"
      ],
      "metadata": {
        "id": "jNe_sudZfdRt"
      },
      "execution_count": 11,
      "outputs": []
    },
    {
      "cell_type": "code",
      "source": [
        "output = []\n",
        "for i in output_ids:\n",
        "  for j in i:\n",
        "    output.append(tokenizer.decode(j, skip_special_tokens=True, clean_up_tokenization_spaces=False))\n",
        "output[0]"
      ],
      "metadata": {
        "colab": {
          "base_uri": "https://localhost:8080/",
          "height": 72
        },
        "id": "LQOi3a2AfjfS",
        "outputId": "3d06bb9d-ff0f-446f-879b-1807f43fe016"
      },
      "execution_count": 12,
      "outputs": [
        {
          "output_type": "execute_result",
          "data": {
            "text/plain": [
              "'В NASA назвали названия четырех космических миссий, которые в скором времени могут быть выбраны для реализации и запуск которых может состояться уже в конце этого десятилетия. Эти четыре проекта стали полуфиналистами конкурса, объявленного среди американских научных команд, в котором участвовало более десяти миссий. Все они были отобраны по критериям потенциальной пользы для науки и технической осуществимости проекта.'"
            ],
            "application/vnd.google.colaboratory.intrinsic+json": {
              "type": "string"
            }
          },
          "metadata": {},
          "execution_count": 12
        }
      ]
    },
    {
      "cell_type": "code",
      "source": [
        "for i in range(10):\n",
        "  print(f'True: {data_y[i]}')\n",
        "  print(f'Predict: {output[i]}')\n",
        "  print()"
      ],
      "metadata": {
        "colab": {
          "base_uri": "https://localhost:8080/"
        },
        "id": "f9lbLUwhPSUo",
        "outputId": "240442e6-8033-455c-8239-2f6f06f64b91"
      },
      "execution_count": 13,
      "outputs": [
        {
          "output_type": "stream",
          "name": "stdout",
          "text": [
            "True: В NASA назвали четыре миссии в дальний космос, которые в этом десятилетии могут быть запущены американцами. Среди них — две миссии по изучению Венеры, полет к спутнику Юпитера и экспедиция к Тритону, спутнику Нептуна.\n",
            "Predict: В NASA назвали названия четырех космических миссий, которые в скором времени могут быть выбраны для реализации и запуск которых может состояться уже в конце этого десятилетия. Эти четыре проекта стали полуфиналистами конкурса, объявленного среди американских научных команд, в котором участвовало более десяти миссий. Все они были отобраны по критериям потенциальной пользы для науки и технической осуществимости проекта.\n",
            "\n",
            "True: 25 и 26 февраля в Кремлевском дворце съездов праздновали Сагаалган — Восточный Новый год. Бурятия - центр российского буддизма и один из немногих регионов страны, где новый год встречают официально дважды.\n",
            "Predict: В Москве состоялось праздничное шоу с участием более 300 артистов из одного региона. Зрителям рассказали, что Республике Бурятия, чье население составляет 1 миллион человек, сохранилась и развивается культура десятков национальностей, включая русских, бурятов, староверов (семейских), эвенков. И все они были представлены в Москве. Для неподготовленного зрителя это вообще были вечера открытий. Например, когда еще в Кремле выстраивалась очередь из желающих попасть на прием к врачам-пульсологам и ламам-астрологам. А между тем буквально в паре метров можно было увидеть выставку Национального музея Бурятии о культуре и быте бурятского народа.\n",
            "\n",
            "True: В Белоруссии в день годовщины Октябрьской революции выбрали членов верхней палаты парламента. Сегодняшнее голосование — пролог основной части электорального процесса: через десять дней в республике пройдут выборы в палату представителей, которые станут тестом для Александра Лукашенко, ведь за ними будут внимательно следить на Западе.\n",
            "Predict: В Белоруссии прошли выборы членов совета республики — верхней палаты парламента. В столице и шести областях республики были избраны восемь кандидатов на восемь сенаторов. Еще восемь членов совета назначит президент Белоруссии Александр Лукашенко.\n",
            "\n",
            "True: Народная артистка РСФСР Надежда Бабкина в интервью Лере Кудрявцевой откровенно рассказала о своей жизни. В частности, певица объяснила, почему ее гражданский муж переживает по поводу слухов об их отношениях, а также не смогла сдержать слез, говоря о смерти младшего брата.\n",
            "Predict: В студии шоу «Секрет на миллион» Леры Кудрявцевой народная артистка РСФСР Надежда Бабкина рассказала о взаимоотношениях со своим гражданским мужем Евгением Гором, который младше певицы на 30 лет. По словам исполнительницы, которая в марте отметит 70-летие, в своей квартире в центре Москвы она живет на постоянной основе без любимого мужчины, лишь периодически встречаясь там со своим избранником.\n",
            "\n",
            "True: Украина не должна выплачивать пенсии жителям ДНР и ЛНР, поскольку они могут поддерживать Россию, заявила депутат Верховной рады от партии «Слуга народа» Елизавета Богуцкая. Она выступила против закона о праве на получение пособий от государства для жителей Донбасса. По ее словам, это плевок в сторону тех, кто уехал на Украину и ничего не получил.\n",
            "Predict: Депутат Верховной рады от партии «Слуга народа» Елизавета Богуцкая раскритиковала законопроект о выплате пенсий украинцам, проживающим на территориях Донбасса. По ее мнению, эти люди могут придерживаться пророссийских взглядов. В Раде документ критикуют, отмечая, что на его реализацию потребуется $6 млрд.\n",
            "\n",
            "True: Датского журналиста обеспокоила активность России в Арктике, как и новый головной патрульный корабль ледового класса «Иван Папанин». Он был спущен на воду в конце октября и обратил на себя внимание представителей СМИ тем, что может быть вооружен как пушками, так и ракетами, способными стрелять по другим кораблям.\n",
            "Predict: Российский головной патрульный корабль ледового класса «Иван Папанин» был спроектирован Центральным морским конструкторским бюро «Алмаз». Этот проект — одна из новейших разработок, предназначенных для оснащения надводной составляющей ВМФ. Он был создан для охраны арктических водных ресурсов, а также конвоирования и буксировки в порт задержанных судов.\n",
            "\n",
            "True: Активист сорвал выступление главы делегации РФ в ПАСЕ Петра Толстого. Как только российский депутат начал свою речь, неизвестный стал что-то выкрикивать. В итоге мужчину пришлось силой вывести из зала заседаний. Инцидент случился во время обсуждения протестных акций, которые прошли летом этого года в Москве.\n",
            "Predict: Спикер ПАСЕ Лилиан Мори Паскье выдворила из зала антироссийского активиста Петра Толстого, который прервал выкрики неизвестного. По словам председателя комитета Госдумы по международным делам Леонида Слуцкого, «какой-то сумасшедший», проникший на балкон зала пленарных заседаний, пытался своими выкриками сорвать выступление российского политика.\n",
            "\n",
            "True: Пранкеры Вован и Лексус разыграли члена конгресса США Максин Уотерс, позвонив ей от имени экоактивистки Греты Тунберг и предложив записать обращение к участникам митинга «в поддержку экологии острова Чунга-Чанга». Также они поведали Уотерс по секрету, что имеют компрометирующие главу Белого дома Дональда Трампа аудиозаписи. В ответ Уотерс позвала «Грету» выступить в конгрессе с речью против президента США.\n",
            "Predict: Российские пранкеры Владимир «Вован» Кузнецов и Алексей «Лексус» Столяров, на счету которых множество розыгрышей мировых политиков первого эшелона, позвонили члену конгресса США от Демократической партии Максин Уотерс от имени шведской школьницы, экологической активистки Греты Тунберг и ее отца Сванте. Россияне рассказали американскому политику, что Грета якобы сейчас участвует в митинге в штате Северная Каролина «в поддержку экологии острова Чунга-Чанга».\n",
            "\n",
            "True: Актер сериала «Улицы разбитых фонарей» Виталий Жигалин скончался на 49-м году жизни после продолжительной болезни. Трагическую новость сообщили коллеги артиста из Самарского академического театра драмы имени Максима Горького, в котором он прослужил почти 25 лет.\n",
            "Predict: В возрасте 48 лет ушел из жизни в возрасте 48 Лет после продолжительной болезни. В самарский драмтеатр актер актер и театральный педагог Виталий Жигалин ушел в возрасте 47 лет в возрасте 49 лет после продолжительного болезни. Незадолго до смерти Жигалина не стало его коллеги по сериалу «Улицы разбитых фонарей», народного артиста России Игоря Шибанова, народного артист артиста РФ Игора ШиОсмонова, народного актера России Игорья Шибанова, народной артистки РСФСР Ирины Соколовой и народного артисты России Игоре Шибанова. Прощание с ним пройдет в помещении самарского Дома актеров утром 8 ноября, прощание прощанием с ним состоится в помещении театра\n",
            "\n",
            "True: Работающие пенсионеры дождались индексации. Это следует из уже одобренных в первом чтении поправок в Конституцию. Так что работающие пенсионеры смогут получить замороженную с 2016 года прибавку к пенсии. В России их насчитывается более девяти миллионов. Эксперты называют это восстановлением справедливости.\n",
            "Predict: Госдума одобрила в первом чтении внесенные президентом РФ Владимиром Путиным поправки в Конституцию. В его основу легли предложения, которые президент России Владимир Путин озвучил в послании Федеральному собранию. Одно из них — регулярная индексация, формирование пенсионной системы на основе принципов всеобщности, справедливости и солидарности поколений. Индексация пенсий работающим пенсионерам не производится с 2016 года. И менять это решение в правительстве не собирались до последнего времени.\n",
            "\n"
          ]
        }
      ]
    },
    {
      "cell_type": "markdown",
      "source": [
        "Генерации очень даже хорошие"
      ],
      "metadata": {
        "id": "0MlwEXboSGvB"
      }
    },
    {
      "cell_type": "markdown",
      "source": [
        "### Метрики"
      ],
      "metadata": {
        "id": "FDNESIK2SLTQ"
      }
    },
    {
      "cell_type": "code",
      "source": [
        "!pip install -qq rouge"
      ],
      "metadata": {
        "id": "1JXjH0V2iVlK"
      },
      "execution_count": 14,
      "outputs": []
    },
    {
      "cell_type": "code",
      "source": [
        "from nltk.translate.bleu_score import corpus_bleu\n",
        "from rouge import Rouge"
      ],
      "metadata": {
        "id": "ppe9r2-yiUL7"
      },
      "execution_count": 15,
      "outputs": []
    },
    {
      "cell_type": "code",
      "source": [
        "rouge = Rouge()\n",
        "print(f'Count: {len(output)}')\n",
        "print(f'BLEU: {corpus_bleu([[i.lower()] for i in data_y], [i.lower() for i in output])}')\n",
        "print(f'ROUGE: {rouge.get_scores([i.lower() for i in data_y], [i.lower() for i in output], avg=True)}')"
      ],
      "metadata": {
        "colab": {
          "base_uri": "https://localhost:8080/"
        },
        "id": "9CHtjRAwYPBc",
        "outputId": "385d42e5-a06b-4034-ec91-18a72aaf318f"
      },
      "execution_count": 16,
      "outputs": [
        {
          "output_type": "stream",
          "name": "stdout",
          "text": [
            "Count: 256\n",
            "BLEU: 0.42411350328424513\n",
            "ROUGE: {'rouge-1': {'r': 0.25942755302697973, 'p': 0.30898668968549853, 'f': 0.2748373082727381}, 'rouge-2': {'r': 0.11030329406925359, 'p': 0.13513526997718617, 'f': 0.11767730473852774}, 'rouge-l': {'r': 0.23973968638151563, 'p': 0.28620135217384685, 'f': 0.25419879406629364}}\n"
          ]
        }
      ]
    },
    {
      "cell_type": "markdown",
      "source": [
        "Метрики тоже не плохие"
      ],
      "metadata": {
        "id": "LPc4M5fLi7-d"
      }
    }
  ]
}