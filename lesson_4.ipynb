{
  "nbformat": 4,
  "nbformat_minor": 0,
  "metadata": {
    "colab": {
      "name": "lesson_4.ipynb",
      "provenance": [],
      "collapsed_sections": [],
      "authorship_tag": "ABX9TyPkcHjT18EOem4CdyQiB/V1",
      "include_colab_link": true
    },
    "kernelspec": {
      "name": "python3",
      "display_name": "Python 3"
    },
    "language_info": {
      "name": "python"
    }
  },
  "cells": [
    {
      "cell_type": "markdown",
      "metadata": {
        "id": "view-in-github",
        "colab_type": "text"
      },
      "source": [
        "<a href=\"https://colab.research.google.com/github/FKz11/NLP/blob/main/lesson_4.ipynb\" target=\"_parent\"><img src=\"https://colab.research.google.com/assets/colab-badge.svg\" alt=\"Open In Colab\"/></a>"
      ]
    },
    {
      "cell_type": "markdown",
      "source": [
        "# Lesson-4"
      ],
      "metadata": {
        "id": "5A41uBTgNV0A"
      }
    },
    {
      "cell_type": "markdown",
      "source": [
        "Задача тематическое моделирование\n",
        "\n",
        "продолжаем исследование датасета с твитами\n",
        "\n",
        "Скачиваем датасет (источник): положительные, отрицательные.\n",
        "\n",
        "рабочие ссылки с твитами\n",
        "https://disk.yandex.ru/i/v5HM-ENiGXZVpQ\n",
        "https://disk.yandex.ru/i/koR5eMCToCZS2Q\n",
        "\n",
        "как альтернатива можно скачать данные из Роспотребнадзора\n",
        "https://zpp.rospotrebnadzor.ru/Forum/Appeals\n",
        "для этого берём ноутбук parse_rospotrebnadzor.ipynb\n",
        "устанавливаем количество скачанных страниц больше не 50-сят хотябы 500 и для анализа берём только вопросы так как ответы есть не всегда\n",
        "\n",
        "что надо сделать\n",
        "1. объединить в одну выборку (это только для твитов), для роспотребнадзора сформировать датасет из вопросов\n",
        "2. провести исследование и выявить тематики о которых говорят в твитах (для твитов), а для роспотребнадзора так же выявить тематики о которых люди пишут проанализировать\n",
        "3. сделать визуализацию кластеров тематик\n",
        "4. проинтерпритировать получившиеся тематики"
      ],
      "metadata": {
        "id": "0AO8UJXxNiLe"
      }
    },
    {
      "cell_type": "markdown",
      "source": [
        "### Библиотеки"
      ],
      "metadata": {
        "id": "BAGsVMQ6NcfV"
      }
    },
    {
      "cell_type": "code",
      "source": [
        "!pip -qq install pymorphy2"
      ],
      "metadata": {
        "id": "I_dulGKEY3nJ"
      },
      "execution_count": 46,
      "outputs": []
    },
    {
      "cell_type": "code",
      "source": [
        "!pip -qq install stop_words"
      ],
      "metadata": {
        "id": "Ftkx0ZLUY367"
      },
      "execution_count": 47,
      "outputs": []
    },
    {
      "cell_type": "code",
      "source": [
        "!pip -qq install -U gensim"
      ],
      "metadata": {
        "colab": {
          "base_uri": "https://localhost:8080/"
        },
        "id": "8V4ll_iHaaVB",
        "outputId": "6b833246-9308-43a4-d248-07cdc832f82d"
      },
      "execution_count": 51,
      "outputs": [
        {
          "output_type": "stream",
          "name": "stdout",
          "text": [
            "\u001b[K     |████████████████████████████████| 24.1 MB 60.2 MB/s \n",
            "\u001b[?25h"
          ]
        }
      ]
    },
    {
      "cell_type": "code",
      "source": [
        "!pip -qq install pyLDAvis"
      ],
      "metadata": {
        "id": "-HMlJJMxEG6O"
      },
      "execution_count": null,
      "outputs": []
    },
    {
      "cell_type": "code",
      "source": [
        "import pandas as pd\n",
        "import numpy as np\n",
        "\n",
        "import string\n",
        "from pymorphy2 import MorphAnalyzer\n",
        "from stop_words import get_stop_words\n",
        "\n",
        "from gensim import corpora\n",
        "from gensim.models import ldamodel\n",
        "\n",
        "from tqdm import tqdm\n",
        "\n",
        "from gensim.models import CoherenceModel\n",
        "\n",
        "import pyLDAvis\n",
        "import pyLDAvis.gensim_models as gensimvis"
      ],
      "metadata": {
        "id": "YxzdLWUULO0k"
      },
      "execution_count": 76,
      "outputs": []
    },
    {
      "cell_type": "markdown",
      "source": [
        "### Данные"
      ],
      "metadata": {
        "id": "8p0GB0I7Nfjg"
      }
    },
    {
      "cell_type": "code",
      "execution_count": 1,
      "metadata": {
        "colab": {
          "base_uri": "https://localhost:8080/"
        },
        "id": "calUFiIWKSz4",
        "outputId": "b410fa89-be26-4a04-99b3-f4eabf9559fb"
      },
      "outputs": [
        {
          "output_type": "stream",
          "name": "stdout",
          "text": [
            "--2022-08-31 13:49:19--  https://www.dropbox.com/s/fnpq3z4bcnoktiv/positive.csv\n",
            "Resolving www.dropbox.com (www.dropbox.com)... 162.125.3.18, 2620:100:6018:18::a27d:312\n",
            "Connecting to www.dropbox.com (www.dropbox.com)|162.125.3.18|:443... connected.\n",
            "HTTP request sent, awaiting response... 302 Found\n",
            "Location: /s/raw/fnpq3z4bcnoktiv/positive.csv [following]\n",
            "--2022-08-31 13:49:19--  https://www.dropbox.com/s/raw/fnpq3z4bcnoktiv/positive.csv\n",
            "Reusing existing connection to www.dropbox.com:443.\n",
            "HTTP request sent, awaiting response... 302 Found\n",
            "Location: https://ucf9d31863835e4496697a179a40.dl.dropboxusercontent.com/cd/0/inline/BsDEkKs4OeP-0kqDB8XLrKdFIwKXTxtJ0VXbYWN6yf79WGrN3m4Bplcyj-7dYPGtD5DfbY3ldAYgcIyMeAiUOnMicpMiAheMFDS3ddjyZstf6ugLRS9KIlEZLgeuOWRSwXiAsJRN1sr8QJynXNek1ckLN4T8Ok5jmqp529JXBrRc-A/file# [following]\n",
            "--2022-08-31 13:49:19--  https://ucf9d31863835e4496697a179a40.dl.dropboxusercontent.com/cd/0/inline/BsDEkKs4OeP-0kqDB8XLrKdFIwKXTxtJ0VXbYWN6yf79WGrN3m4Bplcyj-7dYPGtD5DfbY3ldAYgcIyMeAiUOnMicpMiAheMFDS3ddjyZstf6ugLRS9KIlEZLgeuOWRSwXiAsJRN1sr8QJynXNek1ckLN4T8Ok5jmqp529JXBrRc-A/file\n",
            "Resolving ucf9d31863835e4496697a179a40.dl.dropboxusercontent.com (ucf9d31863835e4496697a179a40.dl.dropboxusercontent.com)... 162.125.4.15, 2620:100:6021:15::a27d:410f\n",
            "Connecting to ucf9d31863835e4496697a179a40.dl.dropboxusercontent.com (ucf9d31863835e4496697a179a40.dl.dropboxusercontent.com)|162.125.4.15|:443... connected.\n",
            "HTTP request sent, awaiting response... 200 OK\n",
            "Length: 26233379 (25M) [text/plain]\n",
            "Saving to: ‘positive.csv’\n",
            "\n",
            "positive.csv        100%[===================>]  25.02M  40.1MB/s    in 0.6s    \n",
            "\n",
            "2022-08-31 13:49:20 (40.1 MB/s) - ‘positive.csv’ saved [26233379/26233379]\n",
            "\n"
          ]
        }
      ],
      "source": [
        "!wget \"https://www.dropbox.com/s/fnpq3z4bcnoktiv/positive.csv\""
      ]
    },
    {
      "cell_type": "code",
      "source": [
        "!wget \"https://www.dropbox.com/s/r6u59ljhhjdg6j0/negative.csv\""
      ],
      "metadata": {
        "colab": {
          "base_uri": "https://localhost:8080/"
        },
        "id": "0aqlr-7bKx4-",
        "outputId": "d2c4eb8d-c71e-4e9b-b21e-501e55c061cf"
      },
      "execution_count": 2,
      "outputs": [
        {
          "output_type": "stream",
          "name": "stdout",
          "text": [
            "--2022-08-31 13:51:04--  https://www.dropbox.com/s/r6u59ljhhjdg6j0/negative.csv\n",
            "Resolving www.dropbox.com (www.dropbox.com)... 162.125.3.18, 2620:100:6018:18::a27d:312\n",
            "Connecting to www.dropbox.com (www.dropbox.com)|162.125.3.18|:443... connected.\n",
            "HTTP request sent, awaiting response... 302 Found\n",
            "Location: /s/raw/r6u59ljhhjdg6j0/negative.csv [following]\n",
            "--2022-08-31 13:51:05--  https://www.dropbox.com/s/raw/r6u59ljhhjdg6j0/negative.csv\n",
            "Reusing existing connection to www.dropbox.com:443.\n",
            "HTTP request sent, awaiting response... 302 Found\n",
            "Location: https://ucbccf7aac1fcbab29d42ad0f2a4.dl.dropboxusercontent.com/cd/0/inline/BsCxDxXUWpulW5iROsJeZtVYXXb6rH9OVS9MgLNzLpBBsYtb4vBjLprGzqP7sXm60v7KQZovzKFM4YMRBBsBxnYfoTeIJiQrA-YizC1w51NOmfkhLl1R91RW2WpH608EkNFysudXdaC-FbnRoxqMKxhavw10vOk3kx_XfHPViexq0w/file# [following]\n",
            "--2022-08-31 13:51:05--  https://ucbccf7aac1fcbab29d42ad0f2a4.dl.dropboxusercontent.com/cd/0/inline/BsCxDxXUWpulW5iROsJeZtVYXXb6rH9OVS9MgLNzLpBBsYtb4vBjLprGzqP7sXm60v7KQZovzKFM4YMRBBsBxnYfoTeIJiQrA-YizC1w51NOmfkhLl1R91RW2WpH608EkNFysudXdaC-FbnRoxqMKxhavw10vOk3kx_XfHPViexq0w/file\n",
            "Resolving ucbccf7aac1fcbab29d42ad0f2a4.dl.dropboxusercontent.com (ucbccf7aac1fcbab29d42ad0f2a4.dl.dropboxusercontent.com)... 162.125.3.15, 2620:100:6018:15::a27d:30f\n",
            "Connecting to ucbccf7aac1fcbab29d42ad0f2a4.dl.dropboxusercontent.com (ucbccf7aac1fcbab29d42ad0f2a4.dl.dropboxusercontent.com)|162.125.3.15|:443... connected.\n",
            "HTTP request sent, awaiting response... 200 OK\n",
            "Length: 24450101 (23M) [text/plain]\n",
            "Saving to: ‘negative.csv’\n",
            "\n",
            "negative.csv        100%[===================>]  23.32M  89.4MB/s    in 0.3s    \n",
            "\n",
            "2022-08-31 13:51:05 (89.4 MB/s) - ‘negative.csv’ saved [24450101/24450101]\n",
            "\n"
          ]
        }
      ]
    },
    {
      "cell_type": "code",
      "source": [
        "pos = pd.read_csv('positive.csv', sep=';', names=list(range(12)))\n",
        "neg = pd.read_csv('negative.csv', sep=';', names=list(range(12)))"
      ],
      "metadata": {
        "id": "pMhntHZCLHow"
      },
      "execution_count": 13,
      "outputs": []
    },
    {
      "cell_type": "code",
      "source": [
        "pos.head()"
      ],
      "metadata": {
        "colab": {
          "base_uri": "https://localhost:8080/",
          "height": 206
        },
        "id": "wS-q52_uMDFa",
        "outputId": "da90efed-48fd-43f2-8e30-3255c5b0a6c6"
      },
      "execution_count": 14,
      "outputs": [
        {
          "output_type": "execute_result",
          "data": {
            "text/plain": [
              "                   0           1                2   \\\n",
              "0  408906692374446080  1386325927  pleease_shut_up   \n",
              "1  408906692693221377  1386325927  alinakirpicheva   \n",
              "2  408906695083954177  1386325927        EvgeshaRe   \n",
              "3  408906695356973056  1386325927    ikonnikova_21   \n",
              "4  408906761416867842  1386325943        JumpyAlex   \n",
              "\n",
              "                                                  3   4   5   6   7      8   \\\n",
              "0  @first_timee хоть я и школота, но поверь, у на...   1   0   0   0   7569   \n",
              "1  Да, все-таки он немного похож на него. Но мой ...   1   0   0   0  11825   \n",
              "2  RT @KatiaCheh: Ну ты идиотка) я испугалась за ...   1   0   1   0   1273   \n",
              "3  RT @digger2912: \"Кто то в углу сидит и погибае...   1   0   1   0   1549   \n",
              "4  @irina_dyshkant Вот что значит страшилка :D\\nН...   1   0   0   0    597   \n",
              "\n",
              "   9   10  11  \n",
              "0  62  61   0  \n",
              "1  59  31   2  \n",
              "2  26  27   0  \n",
              "3  19  17   0  \n",
              "4  16  23   1  "
            ],
            "text/html": [
              "\n",
              "  <div id=\"df-d6c39553-33fe-403b-b79b-8514bcaebd3b\">\n",
              "    <div class=\"colab-df-container\">\n",
              "      <div>\n",
              "<style scoped>\n",
              "    .dataframe tbody tr th:only-of-type {\n",
              "        vertical-align: middle;\n",
              "    }\n",
              "\n",
              "    .dataframe tbody tr th {\n",
              "        vertical-align: top;\n",
              "    }\n",
              "\n",
              "    .dataframe thead th {\n",
              "        text-align: right;\n",
              "    }\n",
              "</style>\n",
              "<table border=\"1\" class=\"dataframe\">\n",
              "  <thead>\n",
              "    <tr style=\"text-align: right;\">\n",
              "      <th></th>\n",
              "      <th>0</th>\n",
              "      <th>1</th>\n",
              "      <th>2</th>\n",
              "      <th>3</th>\n",
              "      <th>4</th>\n",
              "      <th>5</th>\n",
              "      <th>6</th>\n",
              "      <th>7</th>\n",
              "      <th>8</th>\n",
              "      <th>9</th>\n",
              "      <th>10</th>\n",
              "      <th>11</th>\n",
              "    </tr>\n",
              "  </thead>\n",
              "  <tbody>\n",
              "    <tr>\n",
              "      <th>0</th>\n",
              "      <td>408906692374446080</td>\n",
              "      <td>1386325927</td>\n",
              "      <td>pleease_shut_up</td>\n",
              "      <td>@first_timee хоть я и школота, но поверь, у на...</td>\n",
              "      <td>1</td>\n",
              "      <td>0</td>\n",
              "      <td>0</td>\n",
              "      <td>0</td>\n",
              "      <td>7569</td>\n",
              "      <td>62</td>\n",
              "      <td>61</td>\n",
              "      <td>0</td>\n",
              "    </tr>\n",
              "    <tr>\n",
              "      <th>1</th>\n",
              "      <td>408906692693221377</td>\n",
              "      <td>1386325927</td>\n",
              "      <td>alinakirpicheva</td>\n",
              "      <td>Да, все-таки он немного похож на него. Но мой ...</td>\n",
              "      <td>1</td>\n",
              "      <td>0</td>\n",
              "      <td>0</td>\n",
              "      <td>0</td>\n",
              "      <td>11825</td>\n",
              "      <td>59</td>\n",
              "      <td>31</td>\n",
              "      <td>2</td>\n",
              "    </tr>\n",
              "    <tr>\n",
              "      <th>2</th>\n",
              "      <td>408906695083954177</td>\n",
              "      <td>1386325927</td>\n",
              "      <td>EvgeshaRe</td>\n",
              "      <td>RT @KatiaCheh: Ну ты идиотка) я испугалась за ...</td>\n",
              "      <td>1</td>\n",
              "      <td>0</td>\n",
              "      <td>1</td>\n",
              "      <td>0</td>\n",
              "      <td>1273</td>\n",
              "      <td>26</td>\n",
              "      <td>27</td>\n",
              "      <td>0</td>\n",
              "    </tr>\n",
              "    <tr>\n",
              "      <th>3</th>\n",
              "      <td>408906695356973056</td>\n",
              "      <td>1386325927</td>\n",
              "      <td>ikonnikova_21</td>\n",
              "      <td>RT @digger2912: \"Кто то в углу сидит и погибае...</td>\n",
              "      <td>1</td>\n",
              "      <td>0</td>\n",
              "      <td>1</td>\n",
              "      <td>0</td>\n",
              "      <td>1549</td>\n",
              "      <td>19</td>\n",
              "      <td>17</td>\n",
              "      <td>0</td>\n",
              "    </tr>\n",
              "    <tr>\n",
              "      <th>4</th>\n",
              "      <td>408906761416867842</td>\n",
              "      <td>1386325943</td>\n",
              "      <td>JumpyAlex</td>\n",
              "      <td>@irina_dyshkant Вот что значит страшилка :D\\nН...</td>\n",
              "      <td>1</td>\n",
              "      <td>0</td>\n",
              "      <td>0</td>\n",
              "      <td>0</td>\n",
              "      <td>597</td>\n",
              "      <td>16</td>\n",
              "      <td>23</td>\n",
              "      <td>1</td>\n",
              "    </tr>\n",
              "  </tbody>\n",
              "</table>\n",
              "</div>\n",
              "      <button class=\"colab-df-convert\" onclick=\"convertToInteractive('df-d6c39553-33fe-403b-b79b-8514bcaebd3b')\"\n",
              "              title=\"Convert this dataframe to an interactive table.\"\n",
              "              style=\"display:none;\">\n",
              "        \n",
              "  <svg xmlns=\"http://www.w3.org/2000/svg\" height=\"24px\"viewBox=\"0 0 24 24\"\n",
              "       width=\"24px\">\n",
              "    <path d=\"M0 0h24v24H0V0z\" fill=\"none\"/>\n",
              "    <path d=\"M18.56 5.44l.94 2.06.94-2.06 2.06-.94-2.06-.94-.94-2.06-.94 2.06-2.06.94zm-11 1L8.5 8.5l.94-2.06 2.06-.94-2.06-.94L8.5 2.5l-.94 2.06-2.06.94zm10 10l.94 2.06.94-2.06 2.06-.94-2.06-.94-.94-2.06-.94 2.06-2.06.94z\"/><path d=\"M17.41 7.96l-1.37-1.37c-.4-.4-.92-.59-1.43-.59-.52 0-1.04.2-1.43.59L10.3 9.45l-7.72 7.72c-.78.78-.78 2.05 0 2.83L4 21.41c.39.39.9.59 1.41.59.51 0 1.02-.2 1.41-.59l7.78-7.78 2.81-2.81c.8-.78.8-2.07 0-2.86zM5.41 20L4 18.59l7.72-7.72 1.47 1.35L5.41 20z\"/>\n",
              "  </svg>\n",
              "      </button>\n",
              "      \n",
              "  <style>\n",
              "    .colab-df-container {\n",
              "      display:flex;\n",
              "      flex-wrap:wrap;\n",
              "      gap: 12px;\n",
              "    }\n",
              "\n",
              "    .colab-df-convert {\n",
              "      background-color: #E8F0FE;\n",
              "      border: none;\n",
              "      border-radius: 50%;\n",
              "      cursor: pointer;\n",
              "      display: none;\n",
              "      fill: #1967D2;\n",
              "      height: 32px;\n",
              "      padding: 0 0 0 0;\n",
              "      width: 32px;\n",
              "    }\n",
              "\n",
              "    .colab-df-convert:hover {\n",
              "      background-color: #E2EBFA;\n",
              "      box-shadow: 0px 1px 2px rgba(60, 64, 67, 0.3), 0px 1px 3px 1px rgba(60, 64, 67, 0.15);\n",
              "      fill: #174EA6;\n",
              "    }\n",
              "\n",
              "    [theme=dark] .colab-df-convert {\n",
              "      background-color: #3B4455;\n",
              "      fill: #D2E3FC;\n",
              "    }\n",
              "\n",
              "    [theme=dark] .colab-df-convert:hover {\n",
              "      background-color: #434B5C;\n",
              "      box-shadow: 0px 1px 3px 1px rgba(0, 0, 0, 0.15);\n",
              "      filter: drop-shadow(0px 1px 2px rgba(0, 0, 0, 0.3));\n",
              "      fill: #FFFFFF;\n",
              "    }\n",
              "  </style>\n",
              "\n",
              "      <script>\n",
              "        const buttonEl =\n",
              "          document.querySelector('#df-d6c39553-33fe-403b-b79b-8514bcaebd3b button.colab-df-convert');\n",
              "        buttonEl.style.display =\n",
              "          google.colab.kernel.accessAllowed ? 'block' : 'none';\n",
              "\n",
              "        async function convertToInteractive(key) {\n",
              "          const element = document.querySelector('#df-d6c39553-33fe-403b-b79b-8514bcaebd3b');\n",
              "          const dataTable =\n",
              "            await google.colab.kernel.invokeFunction('convertToInteractive',\n",
              "                                                     [key], {});\n",
              "          if (!dataTable) return;\n",
              "\n",
              "          const docLinkHtml = 'Like what you see? Visit the ' +\n",
              "            '<a target=\"_blank\" href=https://colab.research.google.com/notebooks/data_table.ipynb>data table notebook</a>'\n",
              "            + ' to learn more about interactive tables.';\n",
              "          element.innerHTML = '';\n",
              "          dataTable['output_type'] = 'display_data';\n",
              "          await google.colab.output.renderOutput(dataTable, element);\n",
              "          const docLink = document.createElement('div');\n",
              "          docLink.innerHTML = docLinkHtml;\n",
              "          element.appendChild(docLink);\n",
              "        }\n",
              "      </script>\n",
              "    </div>\n",
              "  </div>\n",
              "  "
            ]
          },
          "metadata": {},
          "execution_count": 14
        }
      ]
    },
    {
      "cell_type": "markdown",
      "source": [
        "Нас интересует только текст"
      ],
      "metadata": {
        "id": "60v02GpKNtio"
      }
    },
    {
      "cell_type": "code",
      "source": [
        "df = pd.concat([pos[[3]], neg[[3]]]).rename({3: 'text'}, axis=1)\n",
        "df.head()"
      ],
      "metadata": {
        "colab": {
          "base_uri": "https://localhost:8080/",
          "height": 206
        },
        "id": "OgNmWr4RVwzh",
        "outputId": "4de2e3b5-c2af-4164-dc73-907cbd824f2b"
      },
      "execution_count": 35,
      "outputs": [
        {
          "output_type": "execute_result",
          "data": {
            "text/plain": [
              "                                                text\n",
              "0  @first_timee хоть я и школота, но поверь, у на...\n",
              "1  Да, все-таки он немного похож на него. Но мой ...\n",
              "2  RT @KatiaCheh: Ну ты идиотка) я испугалась за ...\n",
              "3  RT @digger2912: \"Кто то в углу сидит и погибае...\n",
              "4  @irina_dyshkant Вот что значит страшилка :D\\nН..."
            ],
            "text/html": [
              "\n",
              "  <div id=\"df-7e666420-0494-4060-ab02-541acfeec47d\">\n",
              "    <div class=\"colab-df-container\">\n",
              "      <div>\n",
              "<style scoped>\n",
              "    .dataframe tbody tr th:only-of-type {\n",
              "        vertical-align: middle;\n",
              "    }\n",
              "\n",
              "    .dataframe tbody tr th {\n",
              "        vertical-align: top;\n",
              "    }\n",
              "\n",
              "    .dataframe thead th {\n",
              "        text-align: right;\n",
              "    }\n",
              "</style>\n",
              "<table border=\"1\" class=\"dataframe\">\n",
              "  <thead>\n",
              "    <tr style=\"text-align: right;\">\n",
              "      <th></th>\n",
              "      <th>text</th>\n",
              "    </tr>\n",
              "  </thead>\n",
              "  <tbody>\n",
              "    <tr>\n",
              "      <th>0</th>\n",
              "      <td>@first_timee хоть я и школота, но поверь, у на...</td>\n",
              "    </tr>\n",
              "    <tr>\n",
              "      <th>1</th>\n",
              "      <td>Да, все-таки он немного похож на него. Но мой ...</td>\n",
              "    </tr>\n",
              "    <tr>\n",
              "      <th>2</th>\n",
              "      <td>RT @KatiaCheh: Ну ты идиотка) я испугалась за ...</td>\n",
              "    </tr>\n",
              "    <tr>\n",
              "      <th>3</th>\n",
              "      <td>RT @digger2912: \"Кто то в углу сидит и погибае...</td>\n",
              "    </tr>\n",
              "    <tr>\n",
              "      <th>4</th>\n",
              "      <td>@irina_dyshkant Вот что значит страшилка :D\\nН...</td>\n",
              "    </tr>\n",
              "  </tbody>\n",
              "</table>\n",
              "</div>\n",
              "      <button class=\"colab-df-convert\" onclick=\"convertToInteractive('df-7e666420-0494-4060-ab02-541acfeec47d')\"\n",
              "              title=\"Convert this dataframe to an interactive table.\"\n",
              "              style=\"display:none;\">\n",
              "        \n",
              "  <svg xmlns=\"http://www.w3.org/2000/svg\" height=\"24px\"viewBox=\"0 0 24 24\"\n",
              "       width=\"24px\">\n",
              "    <path d=\"M0 0h24v24H0V0z\" fill=\"none\"/>\n",
              "    <path d=\"M18.56 5.44l.94 2.06.94-2.06 2.06-.94-2.06-.94-.94-2.06-.94 2.06-2.06.94zm-11 1L8.5 8.5l.94-2.06 2.06-.94-2.06-.94L8.5 2.5l-.94 2.06-2.06.94zm10 10l.94 2.06.94-2.06 2.06-.94-2.06-.94-.94-2.06-.94 2.06-2.06.94z\"/><path d=\"M17.41 7.96l-1.37-1.37c-.4-.4-.92-.59-1.43-.59-.52 0-1.04.2-1.43.59L10.3 9.45l-7.72 7.72c-.78.78-.78 2.05 0 2.83L4 21.41c.39.39.9.59 1.41.59.51 0 1.02-.2 1.41-.59l7.78-7.78 2.81-2.81c.8-.78.8-2.07 0-2.86zM5.41 20L4 18.59l7.72-7.72 1.47 1.35L5.41 20z\"/>\n",
              "  </svg>\n",
              "      </button>\n",
              "      \n",
              "  <style>\n",
              "    .colab-df-container {\n",
              "      display:flex;\n",
              "      flex-wrap:wrap;\n",
              "      gap: 12px;\n",
              "    }\n",
              "\n",
              "    .colab-df-convert {\n",
              "      background-color: #E8F0FE;\n",
              "      border: none;\n",
              "      border-radius: 50%;\n",
              "      cursor: pointer;\n",
              "      display: none;\n",
              "      fill: #1967D2;\n",
              "      height: 32px;\n",
              "      padding: 0 0 0 0;\n",
              "      width: 32px;\n",
              "    }\n",
              "\n",
              "    .colab-df-convert:hover {\n",
              "      background-color: #E2EBFA;\n",
              "      box-shadow: 0px 1px 2px rgba(60, 64, 67, 0.3), 0px 1px 3px 1px rgba(60, 64, 67, 0.15);\n",
              "      fill: #174EA6;\n",
              "    }\n",
              "\n",
              "    [theme=dark] .colab-df-convert {\n",
              "      background-color: #3B4455;\n",
              "      fill: #D2E3FC;\n",
              "    }\n",
              "\n",
              "    [theme=dark] .colab-df-convert:hover {\n",
              "      background-color: #434B5C;\n",
              "      box-shadow: 0px 1px 3px 1px rgba(0, 0, 0, 0.15);\n",
              "      filter: drop-shadow(0px 1px 2px rgba(0, 0, 0, 0.3));\n",
              "      fill: #FFFFFF;\n",
              "    }\n",
              "  </style>\n",
              "\n",
              "      <script>\n",
              "        const buttonEl =\n",
              "          document.querySelector('#df-7e666420-0494-4060-ab02-541acfeec47d button.colab-df-convert');\n",
              "        buttonEl.style.display =\n",
              "          google.colab.kernel.accessAllowed ? 'block' : 'none';\n",
              "\n",
              "        async function convertToInteractive(key) {\n",
              "          const element = document.querySelector('#df-7e666420-0494-4060-ab02-541acfeec47d');\n",
              "          const dataTable =\n",
              "            await google.colab.kernel.invokeFunction('convertToInteractive',\n",
              "                                                     [key], {});\n",
              "          if (!dataTable) return;\n",
              "\n",
              "          const docLinkHtml = 'Like what you see? Visit the ' +\n",
              "            '<a target=\"_blank\" href=https://colab.research.google.com/notebooks/data_table.ipynb>data table notebook</a>'\n",
              "            + ' to learn more about interactive tables.';\n",
              "          element.innerHTML = '';\n",
              "          dataTable['output_type'] = 'display_data';\n",
              "          await google.colab.output.renderOutput(dataTable, element);\n",
              "          const docLink = document.createElement('div');\n",
              "          docLink.innerHTML = docLinkHtml;\n",
              "          element.appendChild(docLink);\n",
              "        }\n",
              "      </script>\n",
              "    </div>\n",
              "  </div>\n",
              "  "
            ]
          },
          "metadata": {},
          "execution_count": 35
        }
      ]
    },
    {
      "cell_type": "markdown",
      "source": [
        "### Предобработка"
      ],
      "metadata": {
        "id": "0nB4GZ3BWLdo"
      }
    },
    {
      "cell_type": "code",
      "source": [
        "def preprocess_txt(text, morpher, sw, exclude):\n",
        "    spls = \"\".join(i for i in text.strip() if i not in exclude).split()\n",
        "    spls = [morpher.parse(i.lower())[0].normal_form for i in spls]\n",
        "    spls = [i for i in spls if i not in sw]\n",
        "    return spls"
      ],
      "metadata": {
        "id": "0Zsyw7ixX10S"
      },
      "execution_count": 49,
      "outputs": []
    },
    {
      "cell_type": "code",
      "source": [
        "sentences = []\n",
        "\n",
        "morpher = MorphAnalyzer()\n",
        "sw = set(get_stop_words(\"ru\") + [''] + [' '])\n",
        "exclude = set(string.punctuation)\n",
        "\n",
        "for text in tqdm(df['text']):\n",
        "  spls = preprocess_txt(text, morpher, sw, exclude)\n",
        "  sentences.append(spls)"
      ],
      "metadata": {
        "colab": {
          "base_uri": "https://localhost:8080/"
        },
        "id": "pXIJ_lWsX_Cr",
        "outputId": "32f47e43-fab3-4f01-ea64-6539fed37f8c"
      },
      "execution_count": 50,
      "outputs": [
        {
          "output_type": "stream",
          "name": "stderr",
          "text": [
            "100%|██████████| 226834/226834 [12:37<00:00, 299.55it/s]\n"
          ]
        }
      ]
    },
    {
      "cell_type": "markdown",
      "source": [
        "Уберём специфичные стоп слова конкретно для этих данных"
      ],
      "metadata": {
        "id": "JQ68rh1s5sG4"
      }
    },
    {
      "cell_type": "code",
      "source": [
        "my_sw = ['rt']\n",
        "sentences = [[w for w in text if w not in my_sw] for text in sentences]"
      ],
      "metadata": {
        "id": "fUSfW-Qe5xEt"
      },
      "execution_count": 134,
      "outputs": []
    },
    {
      "cell_type": "markdown",
      "source": [
        "### Модель LDA"
      ],
      "metadata": {
        "id": "dCudmzC7aQsq"
      }
    },
    {
      "cell_type": "markdown",
      "source": [
        "Сперва создадим словарь"
      ],
      "metadata": {
        "id": "tQ3AR_urhOXj"
      }
    },
    {
      "cell_type": "code",
      "source": [
        "dictionary = corpora.Dictionary(sentences)\n",
        "\n",
        "dictionary.filter_extremes(no_below = 10, no_above = 0.9, keep_n=None)\n",
        "dictionary.save('tweet.dict')"
      ],
      "metadata": {
        "id": "sDfDo1b9g36R"
      },
      "execution_count": 135,
      "outputs": []
    },
    {
      "cell_type": "markdown",
      "source": [
        "Векторизуем твиты:"
      ],
      "metadata": {
        "id": "YEUr-Mz9lJlb"
      }
    },
    {
      "cell_type": "code",
      "source": [
        "corpus = [dictionary.doc2bow(text) for text in sentences]\n",
        "corpora.MmCorpus.serialize('tweet.model', corpus) "
      ],
      "metadata": {
        "id": "VTj_mMbYlw-u"
      },
      "execution_count": 136,
      "outputs": []
    },
    {
      "cell_type": "markdown",
      "source": [
        "Теперь можем обучать модель:"
      ],
      "metadata": {
        "id": "NpHTfIVKoDM6"
      }
    },
    {
      "cell_type": "code",
      "source": [
        "%%time \n",
        "\n",
        "lda = ldamodel.LdaModel(corpus, id2word=dictionary, num_topics=5, chunksize=10000, update_every=1, passes=4)"
      ],
      "metadata": {
        "colab": {
          "base_uri": "https://localhost:8080/"
        },
        "id": "TKxNvW34oDf8",
        "outputId": "23a41415-a93c-4014-8a2b-83ae11fc0d00"
      },
      "execution_count": 163,
      "outputs": [
        {
          "output_type": "stream",
          "name": "stdout",
          "text": [
            "CPU times: user 3min 52s, sys: 5.99 s, total: 3min 58s\n",
            "Wall time: 3min 54s\n"
          ]
        }
      ]
    },
    {
      "cell_type": "markdown",
      "source": [
        "### Метрики"
      ],
      "metadata": {
        "id": "8JsrJiS275ST"
      }
    },
    {
      "cell_type": "code",
      "source": [
        "print('Персплексия: ', np.exp(lda.log_perplexity(corpus)))"
      ],
      "metadata": {
        "colab": {
          "base_uri": "https://localhost:8080/"
        },
        "id": "Z0LRmGRl77Tu",
        "outputId": "92584350-9d0e-46f4-e6f9-f8d71f7b4430"
      },
      "execution_count": 170,
      "outputs": [
        {
          "output_type": "stream",
          "name": "stdout",
          "text": [
            "Персплексия:  0.0001996157364985286\n"
          ]
        }
      ]
    },
    {
      "cell_type": "code",
      "source": [
        "sentences = [i for i in sentences if len(i) > 0]\n",
        "coherence_model_lda = CoherenceModel(model=lda, texts=sentences, dictionary=dictionary, coherence='c_v')\n",
        "coherence_lda = coherence_model_lda.get_coherence()\n",
        "print('Средняя когерентность: ', coherence_lda)"
      ],
      "metadata": {
        "colab": {
          "base_uri": "https://localhost:8080/"
        },
        "id": "Z3GBlo2T77qh",
        "outputId": "72689590-ade9-418b-9f8e-df2420f9acab"
      },
      "execution_count": 205,
      "outputs": [
        {
          "output_type": "stream",
          "name": "stdout",
          "text": [
            "Средняя когерентность:  0.28557227496967275\n"
          ]
        }
      ]
    },
    {
      "cell_type": "markdown",
      "source": [
        "### Посмотрим на получившиеся темы:"
      ],
      "metadata": {
        "id": "An7-pS8Hw3R3"
      }
    },
    {
      "cell_type": "code",
      "source": [
        "lda.show_topics(num_words=30, formatted=True)"
      ],
      "metadata": {
        "colab": {
          "base_uri": "https://localhost:8080/"
        },
        "id": "DnGAWYRNwsJw",
        "outputId": "d313a151-817f-4f85-c501-490c973df256"
      },
      "execution_count": 169,
      "outputs": [
        {
          "output_type": "execute_result",
          "data": {
            "text/plain": [
              "[(0,\n",
              "  '0.021*\"любить\" + 0.017*\"знать\" + 0.014*\"скучать\" + 0.013*\"свой\" + 0.011*\"большой\" + 0.010*\"написать\" + 0.009*\"—\" + 0.006*\"вк\" + 0.006*\"самый\" + 0.006*\"любимый\" + 0.006*\"оо\" + 0.006*\"фотка\" + 0.006*\"ненавидеть\" + 0.005*\"говорить\" + 0.005*\"грустно\" + 0.005*\"забыть\" + 0.005*\"твиттер\" + 0.005*\"хороший\" + 0.004*\"мама\" + 0.004*\"думать\" + 0.004*\"любовь\" + 0.004*\"целый\" + 0.004*\"чувство\" + 0.004*\"парень\" + 0.004*\"oo\" + 0.004*\"блин\" + 0.004*\"маленький\" + 0.004*\"слово\" + 0.004*\"smampgt\" + 0.003*\"увидеть\"'),\n",
              " (1,\n",
              "  '0.023*\"делать\" + 0.014*\"блин\" + 0.012*\"вообще\" + 0.011*\"пойти\" + 0.009*\"d\" + 0.009*\"знать\" + 0.009*\"урок\" + 0.008*\"школа\" + 0.008*\"бля\" + 0.008*\"сидеть\" + 0.008*\"понимать\" + 0.006*\"изз\" + 0.006*\"завтра\" + 0.006*\"писать\" + 0.006*\"простить\" + 0.006*\"заболеть\" + 0.006*\"учить\" + 0.005*\"че\" + 0.005*\"бесить\" + 0.004*\"нормально\" + 0.004*\"класс\" + 0.004*\"учиться\" + 0.004*\"гулять\" + 0.004*\"хватать\" + 0.004*\"сука\" + 0.004*\"дом\" + 0.004*\"смотреть\" + 0.004*\"ужас\" + 0.004*\"обидно\" + 0.004*\"больно\"'),\n",
              " (2,\n",
              "  '0.014*\"никто\" + 0.009*\"плохо\" + 0.008*\"телефон\" + 0.007*\"нравиться\" + 0.007*\"снег\" + 0.007*\"новый\" + 0.007*\"видеть\" + 0.007*\"улица\" + 0.007*\"найти\" + 0.007*\"дом\" + 0.007*\"ужасно\" + 0.007*\"жалко\" + 0.007*\"нужный\" + 0.006*\"блин\" + 0.006*\"понять\" + 0.006*\"вообще\" + 0.005*\"свой\" + 0.005*\"идти\" + 0.005*\"нету\" + 0.005*\"песня\" + 0.005*\"знать\" + 0.005*\"проблема\" + 0.005*\"холодно\" + 0.004*\"погода\" + 0.004*\"купить\" + 0.004*\"стоить\" + 0.004*\"душа\" + 0.004*\"чувствовать\" + 0.004*\"правда\" + 0.004*\"плакать\"'),\n",
              " (3,\n",
              "  '0.020*\"болеть\" + 0.014*\"друг\" + 0.011*\"смотреть\" + 0.011*\"посмотреть\" + 0.010*\"писать\" + 0.009*\"голова\" + 0.008*\"фильм\" + 0.007*\"скучно\" + 0.007*\"последний\" + 0.006*\"бывать\" + 0.005*\"хороший\" + 0.005*\"серия\" + 0.005*\"бог\" + 0.005*\"большой\" + 0.004*\"сдать\" + 0.004*\"лето\" + 0.004*\"свой\" + 0.004*\"чтоть\" + 0.004*\"оо\" + 0.004*\"сон\" + 0.004*\"сериал\" + 0.004*\"печально\" + 0.004*\"сезон\" + 0.004*\"сильно\" + 0.004*\"вроде\" + 0.003*\"сожаление\" + 0.003*\"зачёт\" + 0.003*\"чёрный\" + 0.003*\"сердце\" + 0.003*\"бедный\"'),\n",
              " (4,\n",
              "  '0.020*\"завтра\" + 0.013*\"спать\" + 0.013*\"час\" + 0.011*\"идти\" + 0.011*\"новый\" + 0.011*\"утро\" + 0.010*\"настроение\" + 0.009*\"работа\" + 0.008*\"неделя\" + 0.008*\"ждать\" + 0.008*\"ночь\" + 0.008*\"школа\" + 0.007*\"скоро\" + 0.007*\"хороший\" + 0.007*\"домой\" + 0.007*\"2\" + 0.006*\"прийти\" + 0.006*\"каникулы\" + 0.006*\"дом\" + 0.006*\"экзамен\" + 0.006*\"3\" + 0.006*\"хотеться\" + 0.005*\"вообще\" + 0.005*\"пара\" + 0.005*\"вечер\" + 0.005*\"надеяться\" + 0.005*\"последний\" + 0.004*\"проснуться\" + 0.004*\"приехать\" + 0.004*\"вставать\"')]"
            ]
          },
          "metadata": {},
          "execution_count": 169
        }
      ]
    },
    {
      "cell_type": "markdown",
      "source": [
        "Опишем темы сами"
      ],
      "metadata": {
        "id": "edtZ7K2D7Avz"
      }
    },
    {
      "cell_type": "code",
      "source": [
        "topics = {0: 'любовь', 1:'школа', 2:'прогулка', 3:'фильмы', 4:'деятельность'}"
      ],
      "metadata": {
        "id": "0wkA-V_27G5r"
      },
      "execution_count": 167,
      "outputs": []
    },
    {
      "cell_type": "markdown",
      "source": [
        "Где-то они не совсем очевидны, но тематическое разделение безусловно произошло.\n",
        "\n",
        "Стоит отметить, что определеню темы на 80% способствуют сущиствительные и на 15% глаголы, поэтому в теории для описания тем можно остовлять только их, отфильтровывая каким-то образом всё остольное."
      ],
      "metadata": {
        "id": "JCXRlX6yOuK7"
      }
    },
    {
      "cell_type": "markdown",
      "source": [
        "### Визуализация"
      ],
      "metadata": {
        "id": "QtQL1NzhC9Ph"
      }
    },
    {
      "cell_type": "code",
      "source": [
        "%%time \n",
        "\n",
        "vis_data = gensimvis.prepare(lda, corpus, dictionary)\n",
        "pyLDAvis.display(vis_data)"
      ],
      "metadata": {
        "colab": {
          "base_uri": "https://localhost:8080/",
          "height": 897
        },
        "id": "ezrHfJ4YC_JM",
        "outputId": "9a769b90-2898-498e-c692-2ab0514f1c92"
      },
      "execution_count": 168,
      "outputs": [
        {
          "output_type": "stream",
          "name": "stdout",
          "text": [
            "CPU times: user 35.7 s, sys: 1.11 s, total: 36.9 s\n",
            "Wall time: 38.3 s\n"
          ]
        },
        {
          "output_type": "execute_result",
          "data": {
            "text/plain": [
              "<IPython.core.display.HTML object>"
            ],
            "text/html": [
              "\n",
              "<link rel=\"stylesheet\" type=\"text/css\" href=\"https://cdn.jsdelivr.net/gh/bmabey/pyLDAvis@3.3.1/pyLDAvis/js/ldavis.v1.0.0.css\">\n",
              "\n",
              "\n",
              "<div id=\"ldavis_el571404444805818407180779716\"></div>\n",
              "<script type=\"text/javascript\">\n",
              "\n",
              "var ldavis_el571404444805818407180779716_data = {\"mdsDat\": {\"x\": [0.22726426608832134, 0.17270226443835412, -0.1956664245032056, -0.014414371621599269, -0.1898857344018706], \"y\": [-0.15302623334676782, 0.16494378977974217, 0.19523295045466563, 0.029388475479399198, -0.23653898236703916], \"topics\": [1, 2, 3, 4, 5], \"cluster\": [1, 1, 1, 1, 1], \"Freq\": [23.025528466826344, 19.964876322923132, 19.782376495788412, 19.566402131114593, 17.66081658334752]}, \"tinfo\": {\"Term\": [\"\\u043b\\u044e\\u0431\\u0438\\u0442\\u044c\", \"\\u0434\\u0435\\u043b\\u0430\\u0442\\u044c\", \"\\u0431\\u043e\\u043b\\u0435\\u0442\\u044c\", \"\\u0437\\u0430\\u0432\\u0442\\u0440\\u0430\", \"\\u0441\\u043a\\u0443\\u0447\\u0430\\u0442\\u044c\", \"\\u043d\\u0438\\u043a\\u0442\\u043e\", \"\\u0434\\u0440\\u0443\\u0433\", \"\\u0447\\u0430\\u0441\", \"\\u0441\\u043f\\u0430\\u0442\\u044c\", \"\\u0437\\u043d\\u0430\\u0442\\u044c\", \"\\u0443\\u0442\\u0440\\u043e\", \"\\u043f\\u043e\\u0441\\u043c\\u043e\\u0442\\u0440\\u0435\\u0442\\u044c\", \"\\u0438\\u0434\\u0442\\u0438\", \"\\u043d\\u0430\\u043f\\u0438\\u0441\\u0430\\u0442\\u044c\", \"\\u043f\\u0438\\u0441\\u0430\\u0442\\u044c\", \"\\u0440\\u0430\\u0431\\u043e\\u0442\\u0430\", \"\\u0448\\u043a\\u043e\\u043b\\u0430\", \"\\u043f\\u043e\\u0439\\u0442\\u0438\", \"\\u0431\\u043b\\u0438\\u043d\", \"\\u043d\\u0430\\u0441\\u0442\\u0440\\u043e\\u0435\\u043d\\u0438\\u0435\", \"d\", \"\\u043d\\u0435\\u0434\\u0435\\u043b\\u044f\", \"\\u0443\\u0440\\u043e\\u043a\", \"\\u043d\\u043e\\u0447\\u044c\", \"\\u0442\\u0435\\u043b\\u0435\\u0444\\u043e\\u043d\", \"\\u0444\\u0438\\u043b\\u044c\\u043c\", \"\\u0441\\u043a\\u043e\\u0440\\u043e\", \"\\u0441\\u043c\\u043e\\u0442\\u0440\\u0435\\u0442\\u044c\", \"\\u043f\\u043b\\u043e\\u0445\\u043e\", \"\\u043d\\u0440\\u0430\\u0432\\u0438\\u0442\\u044c\\u0441\\u044f\", \"\\u0443\\u0442\\u0440\\u043e\", \"\\u043d\\u0435\\u0434\\u0435\\u043b\\u044f\", \"\\u0441\\u043a\\u043e\\u0440\\u043e\", \"\\u043a\\u0430\\u043d\\u0438\\u043a\\u0443\\u043b\\u044b\", \"\\u0440\\u0430\\u0431\\u043e\\u0442\\u0430\", \"\\u0432\\u0435\\u0447\\u0435\\u0440\", \"\\u0432\\u0441\\u0442\\u0430\\u0432\\u0430\\u0442\\u044c\", \"\\u0434\\u043e\\u0431\\u0440\\u044b\\u0439\", \"\\u0443\\u0441\\u043f\\u0435\\u0442\\u044c\", \"\\u0432\\u0441\\u0442\\u0430\\u0442\\u044c\", \"\\u043a\\u0430\\u043f\\u0435\\u0446\", \"\\u043d\\u0430\\u0434\\u0435\\u044f\\u0442\\u044c\\u0441\\u044f\", \"\\u0443\\u0447\\u0451\\u0431\\u0430\", \"\\u0443\\u0441\\u043d\\u0443\\u0442\\u044c\", \"\\u043d\\u0430\\u0447\\u0430\\u0442\\u044c\\u0441\\u044f\", \"\\u0432\\u044b\\u0441\\u043f\\u0430\\u0442\\u044c\\u0441\\u044f\", \"\\u043f\\u043e\\u043d\\u0435\\u0434\\u0435\\u043b\\u044c\\u043d\\u0438\\u043a\", \"\\u0441\\u043e\\u0441\\u043a\\u0443\\u0447\\u0438\\u0442\\u044c\\u0441\\u044f\", \"\\u0441\\u0435\\u0441\\u0441\\u0438\\u044f\", \"\\u043f\\u044f\\u0442\\u043d\\u0438\\u0446\\u0430\", \"\\u0443\\u0442\\u0440\\u043e\\u043c\", \"\\u043f\\u043b\\u0430\\u043d\", \"\\u0447\\u0430\\u0441\", \"\\u0438\\u0441\\u043f\\u043e\\u0440\\u0442\\u0438\\u0442\\u044c\", \"\\u0441\\u043b\\u0435\\u0434\\u0443\\u044e\\u0449\\u0438\\u0439\", \"\\u0434\\u043e\\u043c\\u043e\\u0439\", \"\\u0441\\u043a\\u043e\\u0440\\u044b\\u0439\", \"\\u043d\\u043e\\u0447\\u044c\", \"\\u0442\\u0440\\u0435\\u043d\\u0438\\u0440\\u043e\\u0432\\u043a\\u0430\", \"\\u043f\\u0440\\u043e\\u0441\\u043f\\u0430\\u0442\\u044c\", \"\\u0432\\u044b\\u0445\\u043e\\u0434\\u043d\\u043e\\u0439\", \"\\u043f\\u0440\\u043e\\u0441\\u043d\\u0443\\u0442\\u044c\\u0441\\u044f\", \"\\u043b\\u0435\\u0447\\u044c\", \"\\u0431\\u043e\\u043b\\u044c\\u043d\\u0438\\u0446\\u0430\", \"\\u043f\\u0440\\u0438\\u0445\\u043e\\u0434\\u0438\\u0442\\u044c\", \"\\u0443\\u0441\\u0442\\u0430\\u0442\\u044c\", \"\\u043f\\u0430\\u0440\\u0430\", \"\\u043f\\u0440\\u0438\\u0435\\u0445\\u0430\\u0442\\u044c\", \"\\u043f\\u043e\\u0435\\u0445\\u0430\\u0442\\u044c\", \"\\u043d\\u0430\\u0441\\u0442\\u0440\\u043e\\u0435\\u043d\\u0438\\u0435\", \"\\u044d\\u043a\\u0437\\u0430\\u043c\\u0435\\u043d\", \"\\u0441\\u043f\\u0430\\u0442\\u044c\", \"\\u0437\\u0430\\u0432\\u0442\\u0440\\u0430\", \"\\u0436\\u0434\\u0430\\u0442\\u044c\", \"\\u0438\\u0434\\u0442\\u0438\", \"\\u043f\\u0440\\u0438\\u0439\\u0442\\u0438\", \"\\u043d\\u043e\\u0432\\u044b\\u0439\", \"\\u0448\\u043a\\u043e\\u043b\\u0430\", \"2\", \"\\u0445\\u043e\\u0440\\u043e\\u0448\\u0438\\u0439\", \"\\u043c\\u0438\\u043d\\u0443\\u0442\\u0430\", \"3\", \"\\u0434\\u043e\\u043c\", \"\\u0445\\u043e\\u0442\\u0435\\u0442\\u044c\\u0441\\u044f\", \"\\u0432\\u043e\\u043e\\u0431\\u0449\\u0435\", \"\\u043f\\u043e\\u0441\\u043b\\u0435\\u0434\\u043d\\u0438\\u0439\", \"d\", \"\\u043f\\u0440\\u043e\\u0441\\u0442\\u0438\\u0442\\u044c\", \"\\u0431\\u0435\\u0441\\u0438\\u0442\\u044c\", \"\\u043d\\u043e\\u0440\\u043c\\u0430\\u043b\\u044c\\u043d\\u043e\", \"\\u0443\\u0447\\u0438\\u0442\\u044c\\u0441\\u044f\", \"\\u0443\\u0436\\u0430\\u0441\", \"\\u0431\\u043e\\u043b\\u044c\\u043d\\u043e\", \"\\u0451\\u043b\\u043a\\u0430\", \"\\u0442\\u0443\\u043f\\u043e\\u0439\", \"\\u043e\\u0439\", \"\\u0443\\u0447\\u0438\\u0442\\u044c\", \"\\u0443\\u0435\\u0437\\u0436\\u0430\\u0442\\u044c\", \"\\u0430\\u0445\\u0430\\u0445\", \"\\u0448\\u0435\\u0440\\u043b\\u043e\\u043a\", \"\\u0430\\u0430\\u0430\", \"\\u0444\\u0438\\u0437\\u0438\\u043a\\u0430\", \"\\u043e\\u0431\\u0449\\u0430\\u0442\\u044c\\u0441\\u044f\", \"\\u0432\\u0441\\u043f\\u043e\\u043c\\u0438\\u043d\\u0430\\u0442\\u044c\", \"\\u0430\\u043b\\u0433\\u0435\\u0431\\u0440\\u0430\", \"\\u0447\\u0443\\u0432\\u0430\\u043a\", \"30\", \"\\u0440\\u0430\\u0437\\u0433\\u043e\\u0432\\u0430\\u0440\\u0438\\u0432\\u0430\\u0442\\u044c\", \"\\u0437\", \"\\u0444\\u0443\", \"\\u0431\\u043b\", \"\\u0432\\u0441\\u0442\\u0440\\u0435\\u0442\\u0438\\u0442\\u044c\\u0441\\u044f\", \"\\u0436\\u0438\\u0432\\u043e\\u0442\", \"\\u0436\\u0440\\u0430\\u0442\\u044c\", \"\\u043a\\u0430\\u043a\\u0430\\u044f\\u0442\\u044c\", \"\\u043e\\u0434\\u043d\\u043e\\u043a\\u043b\\u0430\\u0441\\u0441\\u043d\\u0438\\u043a\", \"\\u0437\\u0430\\u0431\\u043e\\u043b\\u0435\\u0442\\u044c\", \"\\u043b\\u0435\\u043d\\u044c\", \"\\u0434\\u0435\\u043b\\u0430\\u0442\\u044c\", \"\\u0445\\u0438\\u043c\\u0438\\u044f\", \"\\u043f\\u0437\\u0434\\u0446\\u0430\", \"\\u0443\\u0440\\u043e\\u043a\", \"\\u043b\\u0430\\u0434\\u043d\\u044b\\u0439\", \"\\u043a\\u043b\\u0430\\u0441\\u0441\", \"\\u0441\\u0442\\u044b\\u0434\\u043d\\u043e\", \"\\u0433\\u0443\\u043b\\u044f\\u0442\\u044c\", \"\\u0447\\u0435\", \"\\u0431\\u043b\\u044f\", \"\\u043f\\u043e\\u043d\\u0438\\u043c\\u0430\\u0442\\u044c\", \"\\u043f\\u043e\\u0439\\u0442\\u0438\", \"\\u0431\\u043b\\u0438\\u043d\", \"\\u0438\\u0437\\u0437\", \"\\u0445\\u0432\\u0430\\u0442\\u0430\\u0442\\u044c\", \"\\u0432\\u043e\\u043e\\u0431\\u0449\\u0435\", \"\\u0448\\u043a\\u043e\\u043b\\u0430\", \"\\u0441\\u0438\\u0434\\u0435\\u0442\\u044c\", \"\\u043e\\u0431\\u0438\\u0434\\u043d\\u043e\", \"\\u0437\\u043d\\u0430\\u0442\\u044c\", \"\\u043f\\u0438\\u0441\\u0430\\u0442\\u044c\", \"\\u0441\\u0443\\u043a\\u0430\", \"\\u0437\\u0430\\u0432\\u0442\\u0440\\u0430\", \"\\u0441\\u043c\\u043e\\u0442\\u0440\\u0435\\u0442\\u044c\", \"\\u0434\\u043e\\u043c\", \"\\u043b\\u044e\\u0431\\u0438\\u0442\\u044c\", \"\\u0441\\u043a\\u0443\\u0447\\u0430\\u0442\\u044c\", \"\\u043d\\u0430\\u043f\\u0438\\u0441\\u0430\\u0442\\u044c\", \"\\u0432\\u043a\", \"\\u0446\\u0435\\u043b\\u044b\\u0439\", \"oo\", \"\\u043b\\u044e\\u0431\\u043e\\u0432\\u044c\", \"\\u0444\\u043e\\u0442\\u043e\", \"\\u043f\\u043e\\u043d\\u0440\\u0430\\u0432\\u0438\\u0442\\u044c\\u0441\\u044f\", \"\\u043b\\u043e\\u0445\", \"\\u043f\\u043e\\u0434\\u0430\\u0440\\u0438\\u0442\\u044c\", \"\\u0432\\u0435\\u0440\\u043d\\u0443\\u0442\\u044c\", \"\\u0436\\u0435\\u043b\\u0430\\u043d\\u0438\\u0435\", \"\\u0432\\u043e\\u043b\\u0433\\u043e\\u0433\\u0440\\u0430\\u0434\", \"\\u043e\\u0447\", \"\\u043a\\u043e\\u043d\\u0447\\u0438\\u0442\\u044c\\u0441\\u044f\", \"\\u0437\\u0430\\u043d\\u0438\\u043c\\u0430\\u0442\\u044c\\u0441\\u044f\", \"\\u0441\\u0442\\u0440\\u0430\\u043d\\u0438\\u0446\\u0430\", \"\\u043f\\u0440\\u0438\\u0445\\u043e\\u0434\\u0438\\u0442\\u044c\\u0441\\u044f\", \"\\u043e\\u0431\\u0438\\u0434\\u0435\\u0442\\u044c\\u0441\\u044f\", \"\\u043a\\u0442\\u043e\\u043d\\u0438\\u0431\\u044b\\u0442\\u044c\", \"\\u0431\\u0435\\u0437\\u0443\\u043c\\u043d\\u043e\", \"\\u043d\\u0430\\u0437\\u044b\\u0432\\u0430\\u0442\\u044c\", \"\\u0441\\u043f\\u0440\\u043e\\u0441\\u0438\\u0442\\u044c\", \"\\u0430\\u0434\", \"\\u043d\\u0430\\u0434\\u043f\\u0438\\u0441\\u044c\", \"\\u043e\\u0442\\u043d\\u043e\\u0448\\u0435\\u043d\\u0438\\u0435\", \"\\u0440\\u0430\\u0441\\u0441\\u0442\\u0440\\u043e\\u0438\\u0442\\u044c\", \"\\u0432\\u0447\\u0435\\u0440\\u0430\\u0448\\u043d\\u0438\\u0439\", \"\\u0431\\u0435\\u0433\\u0430\\u0442\\u044c\", \"smampgt\", \"auampgt\", \"\\u0433\\u0440\\u0443\\u0441\\u0442\\u043d\\u043e\", \"\\u0444\\u043e\\u0442\\u043a\\u0430\", \"\\u0437\\u0430\\u0445\\u043e\\u0434\\u0438\\u0442\\u044c\", \"\\u043f\\u043e\\u0445\\u043e\\u0436\\u0438\\u0439\", \"\\u0442\\u0432\\u0438\\u0442\\u0442\\u0435\\u0440\", \"\\u043d\\u0435\\u043d\\u0430\\u0432\\u0438\\u0434\\u0435\\u0442\\u044c\", \"\\u0437\\u043d\\u0430\\u0442\\u044c\", \"\\u0441\\u0432\\u043e\\u0439\", \"\\u0431\\u043e\\u043b\\u044c\\u0448\\u043e\\u0439\", \"\\u0447\\u0443\\u0432\\u0441\\u0442\\u0432\\u043e\", \"\\u2014\", \"\\u043f\\u0430\\u0440\\u0435\\u043d\\u044c\", \"\\u043b\\u044e\\u0431\\u0438\\u043c\\u044b\\u0439\", \"\\u043e\\u043e\", \"\\u043a\\u043e\\u0442\", \"\\u0437\\u0430\\u0431\\u044b\\u0442\\u044c\", \"\\u0441\\u0430\\u043c\\u044b\\u0439\", \"\\u0433\\u043e\\u0432\\u043e\\u0440\\u0438\\u0442\\u044c\", \"\\u043c\\u0430\\u043b\\u0435\\u043d\\u044c\\u043a\\u0438\\u0439\", \"\\u0441\\u043b\\u043e\\u0432\\u043e\", \"\\u043f\\u0430\\u043f\\u0430\", \"\\u043c\\u0430\\u043c\\u0430\", \"\\u0445\\u043e\\u0440\\u043e\\u0448\\u0438\\u0439\", \"\\u0434\\u0443\\u043c\\u0430\\u0442\\u044c\", \"\\u0443\\u0432\\u0438\\u0434\\u0435\\u0442\\u044c\", \"\\u0431\\u043b\\u0438\\u043d\", \"\\u043d\\u0438\\u043a\\u0442\\u043e\", \"\\u0441\\u043d\\u0435\\u0433\", \"\\u043d\\u0440\\u0430\\u0432\\u0438\\u0442\\u044c\\u0441\\u044f\", \"\\u0443\\u043b\\u0438\\u0446\\u0430\", \"\\u0443\\u0436\\u0430\\u0441\\u043d\\u043e\", \"\\u0436\\u0430\\u043b\\u043a\\u043e\", \"\\u043f\\u0435\\u0441\\u043d\\u044f\", \"\\u043f\\u0440\\u043e\\u0431\\u043b\\u0435\\u043c\\u0430\", \"\\u0445\\u043e\\u043b\\u043e\\u0434\\u043d\\u043e\", \"\\u043f\\u043e\\u0433\\u043e\\u0434\\u0430\", \"\\u0434\\u0443\\u0448\\u0430\", \"\\u0441\\u0442\\u043e\\u0438\\u0442\\u044c\", \"\\u0442\\u0435\\u043b\\u0435\\u0444\\u043e\\u043d\", \"\\u0437\\u0438\\u043c\\u0430\", \"\\u0442\\u0435\\u043c\\u043f\\u0435\\u0440\\u0430\\u0442\\u0443\\u0440\\u0430\", \"\\u043f\\u043e\\u0442\\u0435\\u0440\\u044f\\u0442\\u044c\", \"\\u0441\\u0442\\u0430\\u0440\\u044b\\u0439\", \"\\u0434\\u043e\\u0436\\u0434\\u044c\", \"\\u043c\\u0430\\u0433\\u0430\\u0437\\u0438\\u043d\", \"\\u0433\\u043e\\u0432\\u043d\\u043e\", \"\\u043f\\u043e\\u0434\\u0443\\u043c\\u0430\\u0442\\u044c\", \"\\u0432\\u0435\\u0449\\u044c\", \"\\u0442\\u044f\\u0436\\u0435\\u043b\\u043e\", \"\\u043e\\u043a\\u043d\\u043e\", \"\\u043a\\u043e\\u043c\\u043d\\u0430\\u0442\\u0430\", \"\\u043d\\u0435\\u0442\\u0443\", \"\\u0432\\u043e\\u043b\\u043e\\u0441\", \"\\u043b\\u0438\\u0431\\u043e\", \"\\u0441\\u0434\\u0430\\u0432\\u0430\\u0442\\u044c\", \"\\u043d\\u0443\\u0436\\u043d\\u044b\\u0439\", \"\\u043c\\u0430\\u0448\\u0438\\u043d\\u0430\", \"\\u0433\\u043e\\u043b\\u043e\\u0441\", \"\\u043f\\u043b\\u043e\\u0445\\u043e\", \"\\u0441\\u043b\\u0443\\u0448\\u0430\\u0442\\u044c\", \"\\u043d\\u0430\\u0439\\u0442\\u0438\", \"\\u0432\\u0438\\u0434\\u0435\\u0442\\u044c\", \"\\u043f\\u043e\\u043d\\u044f\\u0442\\u044c\", \"\\u043f\\u043b\\u0430\\u043a\\u0430\\u0442\\u044c\", \"\\u0434\\u043e\\u043c\", \"\\u043d\\u043e\\u0432\\u044b\\u0439\", \"\\u0447\\u0443\\u0432\\u0441\\u0442\\u0432\\u043e\\u0432\\u0430\\u0442\\u044c\", \"\\u0431\\u043b\\u0438\\u043d\", \"\\u0432\\u043e\\u043e\\u0431\\u0449\\u0435\", \"\\u043a\\u0443\\u043f\\u0438\\u0442\\u044c\", \"\\u0438\\u0434\\u0442\\u0438\", \"\\u0441\\u0432\\u043e\\u0439\", \"\\u043f\\u0440\\u0430\\u0432\\u0434\\u0430\", \"\\u0437\\u043d\\u0430\\u0442\\u044c\", \"\\u0431\\u043e\\u043b\\u0435\\u0442\\u044c\", \"\\u0434\\u0440\\u0443\\u0433\", \"\\u0441\\u043a\\u0443\\u0447\\u043d\\u043e\", \"\\u0431\\u044b\\u0432\\u0430\\u0442\\u044c\", \"\\u0441\\u0435\\u0440\\u0438\\u044f\", \"\\u0441\\u0434\\u0430\\u0442\\u044c\", \"\\u043b\\u0435\\u0442\\u043e\", \"\\u0441\\u0435\\u0440\\u0438\\u0430\\u043b\", \"\\u043f\\u0435\\u0447\\u0430\\u043b\\u044c\\u043d\\u043e\", \"\\u0441\\u0435\\u0437\\u043e\\u043d\", \"\\u0441\\u043e\\u0436\\u0430\\u043b\\u0435\\u043d\\u0438\\u0435\", \"\\u0437\\u0430\\u0447\\u0451\\u0442\", \"\\u0431\\u0435\\u0434\\u043d\\u044b\\u0439\", \"\\u0447\\u0451\\u0440\\u043d\\u044b\\u0439\", \"\\u0441\\u043d\\u0438\\u0442\\u044c\\u0441\\u044f\", \"\\u0438\\u043d\\u0442\\u0435\\u0440\\u0435\\u0441\\u043d\\u044b\\u0439\", \"\\u0436\\u0438\\u0437\\u043d\\u044c\\u0431\\u043e\\u043b\\u044c\", \"\\u043c\\u043e\\u0437\\u0433\", \"\\u0441\\u043b\\u0443\\u0447\\u0438\\u0442\\u044c\\u0441\\u044f\", \"\\u043f\\u043e\\u0441\\u043c\\u043e\\u0442\\u0440\\u0435\\u0442\\u044c\", \"\\u0443\\u043f\\u0430\\u0441\\u0442\\u044c\", \"\\u043f\\u0438\\u0441\\u044c\\u043c\\u043e\", \"\\u0432\\u0440\\u0430\\u0447\", \"\\u0440\\u0430\\u0437\\u043d\\u044b\\u0439\", \"\\u043a\\u043e\\u0448\\u043c\\u0430\\u0440\", \"\\u0441\\u043b\\u0443\\u0447\\u0430\\u0439\", \"\\u0437\\u0430\\u0432\\u0438\\u0434\\u043e\\u0432\\u0430\\u0442\\u044c\", \"\\u043b\", \"\\u043f\\u0440\\u0438\\u0441\\u043d\\u0438\\u0442\\u044c\\u0441\\u044f\", \"\\u0441\\u0442\\u0440\\u0430\\u0434\\u0430\\u0442\\u044c\", \"\\u0444\\u0438\\u043b\\u044c\\u043c\", \"\\u0442\\u044f\\u0436\\u0451\\u043b\\u044b\\u0439\", \"\\u0433\\u043e\\u0440\\u043b\\u043e\", \"\\u043d\\u0435\\u0443\\u0436\\u0435\\u043b\\u0438\", \"\\u0433\\u043e\\u043b\\u043e\\u0432\\u0430\", \"\\u0431\\u043e\\u0433\", \"\\u043f\\u0438\\u0441\\u0430\\u0442\\u044c\", \"\\u0441\\u043c\\u043e\\u0442\\u0440\\u0435\\u0442\\u044c\", \"\\u0432\\u0441\\u044f\\u043a\\u0438\\u0439\", \"\\u0441\\u0435\\u0440\\u0434\\u0446\\u0435\", \"\\u043a\\u043d\\u0438\\u0433\\u0430\", \"\\u043f\\u043e\\u0441\\u043b\\u0435\\u0434\\u043d\\u0438\\u0439\", \"\\u0441\\u043e\\u043d\", \"\\u0441\\u0438\\u043b\\u044c\\u043d\\u043e\", \"\\u0445\\u043e\\u0440\\u043e\\u0448\\u0438\\u0439\", \"\\u0447\\u0442\\u043e\\u0442\\u044c\", \"\\u043e\\u043e\", \"\\u0431\\u043e\\u043b\\u044c\\u0448\\u043e\\u0439\", \"\\u0432\\u0440\\u043e\\u0434\\u0435\", \"\\u0441\\u0432\\u043e\\u0439\"], \"Freq\": [4577.0, 5005.0, 3749.0, 6219.0, 2966.0, 2940.0, 2700.0, 3150.0, 3975.0, 6546.0, 2705.0, 2085.0, 3915.0, 2111.0, 3287.0, 2282.0, 3780.0, 3304.0, 5330.0, 2828.0, 1916.0, 2023.0, 1907.0, 1948.0, 1711.0, 1624.0, 1828.0, 3629.0, 2496.0, 1582.0, 2704.187546943205, 2022.415465445677, 1827.6956873065437, 1508.3341555757702, 2280.724255739592, 1253.9086583970586, 1088.0631676243966, 1072.5515521829154, 1042.7653446364172, 943.4569923301623, 943.615232504514, 1178.9592135778803, 900.0233271546125, 843.9573651739821, 820.7711012764407, 715.9466572959954, 707.3772177509461, 683.1370486568478, 671.5635510743351, 608.0078649061984, 671.1099797351126, 560.8631879834708, 3145.364415719908, 535.2069557680104, 553.01474334181, 1673.2519953705128, 508.7061544923868, 1944.7181415458188, 480.52906191471556, 467.45962371487747, 1035.957404881998, 1098.4466594774783, 640.1699472943352, 650.8890295024486, 611.049385547531, 1056.8997578535511, 1278.4759698250984, 1091.679270224292, 871.8334460208771, 2528.445403381115, 1435.3001393177067, 3372.121886419401, 4888.187204799214, 1953.7978415647165, 2806.000300536098, 1597.0440867199657, 2710.040102905643, 1942.79012834639, 1645.5758121812764, 1823.7167276352702, 1048.8728560491365, 1426.2421128425715, 1465.869857123661, 1379.963620261555, 1328.4755535163865, 1131.6534416322945, 1915.6413886171301, 1302.0601651155407, 993.9744297919689, 928.2008236555182, 914.6158932639041, 885.0219887346785, 863.5194112875834, 819.6675788929153, 701.2847367376735, 696.6263433992757, 1235.5561733405516, 665.2655805419352, 601.5183929363114, 612.3801134627256, 595.2303979982473, 578.5518615938498, 547.8691479854001, 459.062680699917, 448.37236690137394, 448.7997470716628, 428.6263421612662, 433.51918838031537, 408.38140411598437, 407.36892735795493, 400.8669139693673, 399.56757216441287, 383.04586811683123, 496.2641038135359, 376.9374132644889, 370.75669276987725, 1296.3318563366527, 823.3493630762276, 4887.097703170008, 427.81300637620114, 473.0293737330053, 1868.1025687108356, 770.3077456298357, 921.1561233308397, 449.69370918672564, 913.9716909079322, 1069.374395381046, 1729.524497976927, 1683.715001710033, 2285.0514297085924, 3104.8169120022194, 1331.7605610630842, 908.4346423329109, 2588.6511887766505, 1836.588181373844, 1711.9687713506744, 881.4852410134112, 1884.6970435781927, 1303.4603150918676, 898.1117441346647, 1330.4557885999377, 891.0661344904751, 891.8380457200275, 4576.812354024737, 2966.0948741114926, 2110.662248511231, 1304.0275819912622, 894.8291733319995, 873.7461011775864, 908.2359629365708, 628.5827937184115, 623.371417083002, 581.2775535885137, 571.6586991253586, 561.6097638056999, 526.5375509428326, 537.444645736874, 470.16782616888776, 423.5436975630174, 381.0313912240295, 373.17162853225176, 372.5189237687069, 367.73207177761844, 395.7747752222643, 418.42439887634384, 355.5626406148929, 348.2173030816681, 337.480748962453, 334.3963504176566, 321.87107139542417, 313.72183505453563, 312.122747177224, 310.3291668455427, 781.2516868079016, 520.0820833382031, 1077.4894986632187, 1218.7914828585926, 693.1002781822593, 345.5588307482298, 1023.7242858917867, 1200.68734132944, 3620.6713303223883, 2802.6375188664515, 2389.817160647729, 886.609583331449, 1983.770776142799, 885.4268609760644, 1272.211009131536, 1261.3534697434466, 630.1826324352072, 1032.3040786208521, 1290.287019208017, 1174.4580153508734, 806.9245906727701, 784.3952014480809, 702.9243621044071, 966.0890461953417, 1022.501218428122, 942.2829295118561, 721.8641879793845, 838.5951502808178, 2939.7978020216638, 1577.2060426833705, 1581.298892286899, 1500.3863430362449, 1420.617066672859, 1411.3087895407232, 1034.2165757052717, 994.9086239340629, 959.0127664312043, 927.5597905478533, 868.617567663651, 899.8257686832114, 1709.6207283637357, 782.3798778790984, 727.202553810045, 704.1086098194571, 793.1049182600678, 618.8828442745925, 693.3074238599056, 601.4939765591511, 549.8246466191199, 525.5858454379385, 514.719851570478, 501.2705026023435, 475.7576244905819, 1037.112286108465, 469.2074709197149, 459.6797182675176, 464.9730242064693, 1397.2527514178778, 702.5640626055258, 645.3411553958497, 1812.0655441113392, 795.0882679856854, 1458.816501211003, 1519.6470156212924, 1283.8481213402567, 833.6820950329225, 1456.919198959752, 1557.4267087971355, 845.2266163090097, 1288.9822543044738, 1272.6235303169638, 914.7051494405306, 1107.686464008531, 1115.6217442712002, 837.5652224837372, 1003.5772385985257, 3748.2472654016774, 2699.2801681626283, 1350.5778111190086, 1167.2034656390363, 968.8599864728942, 845.1898599037582, 836.7731966752259, 767.9519686468585, 746.0430113786359, 734.7877397264766, 661.8984548251375, 617.9659162965228, 604.0641487128755, 614.344825961438, 583.6059334648452, 571.9588399166457, 529.197164241378, 530.5855222096915, 510.58365791995965, 2082.4325619651477, 480.36850545776343, 382.06710383628877, 370.2725855121956, 363.8495753685213, 351.54890162637406, 342.79361722799183, 335.82615429344116, 330.7886197603826, 333.0062476790629, 327.128047827995, 1618.2782346558683, 385.5629791904538, 560.4742309047148, 369.5170279497757, 1677.5958154457492, 919.4012308902189, 1981.9931659353422, 2133.8897522183192, 462.35448484977775, 612.0933247538437, 578.3467255153511, 1282.1382161873773, 778.051124392032, 716.0315008393702, 1003.9232198951264, 793.5052091748972, 780.871902416877, 879.952970623686, 680.9221050062565, 815.0598822287259], \"Total\": [4577.0, 5005.0, 3749.0, 6219.0, 2966.0, 2940.0, 2700.0, 3150.0, 3975.0, 6546.0, 2705.0, 2085.0, 3915.0, 2111.0, 3287.0, 2282.0, 3780.0, 3304.0, 5330.0, 2828.0, 1916.0, 2023.0, 1907.0, 1948.0, 1711.0, 1624.0, 1828.0, 3629.0, 2496.0, 1582.0, 2705.0303595745568, 2023.2920375760852, 1828.6480397273472, 1509.174297818338, 2282.189701134844, 1254.755608709528, 1088.8991198903932, 1073.4126120548076, 1043.6091421557603, 944.2951179965745, 944.4713621711829, 1180.048752887139, 900.8631603522964, 844.829202091195, 821.6519890475516, 716.7834661616258, 708.21466320712, 683.9782641440632, 672.4026463153781, 608.8460745813978, 672.0937737645803, 561.7030538468349, 3150.219167071135, 536.0480274315992, 553.8858978026233, 1675.9604681156611, 509.54367327607184, 1948.0616382844457, 481.3803645519106, 468.29823096812936, 1039.1795682952593, 1102.602232374528, 641.3544612053624, 653.3373545835453, 613.0348723751539, 1074.1902279696585, 1311.5478249593245, 1115.7611174634626, 884.7010978625005, 2828.7362636246703, 1539.5736458062727, 3975.63360675199, 6219.275775477961, 2430.8738545528013, 3915.6116693203935, 2016.579783405197, 4657.763924825679, 3780.0075083349893, 2843.059549925433, 4638.409898107466, 1264.8659752166236, 3026.986888960882, 3827.705502760104, 3166.8047418564875, 5545.6861811071585, 2679.237113016548, 1916.5717216438854, 1302.898246465287, 994.805858718844, 929.0309388438037, 915.4441114330239, 885.8550019217848, 864.3530325413832, 820.495342001151, 702.1197486719421, 697.4653334885654, 1237.0831214625969, 666.1020768931212, 602.3426597086072, 613.2311607057002, 596.0616090795156, 579.3784105629645, 548.6965230300752, 459.8936151715828, 449.19845983913905, 449.62887041221654, 429.4591005376732, 434.39018919531867, 409.20685214782617, 408.1981351333611, 401.69924295111525, 400.3976203476275, 383.88208098198066, 497.3514801946334, 377.7689932008621, 371.58605382646425, 1305.8438856325317, 826.5896233885082, 5005.058543392274, 428.84618216934575, 474.708406541656, 1907.223702774599, 779.6071873726524, 936.4521609073756, 451.58601907639274, 991.3760693234398, 1189.1138423432888, 2088.082758123868, 2246.0708243038703, 3304.2344262556535, 5330.752145149061, 1934.8191918249213, 1140.4538975420487, 5545.6861811071585, 3780.0075083349893, 3474.7618198236387, 1305.88170064798, 6546.074533798688, 3287.1063480927796, 1395.0833412441073, 6219.275775477961, 3629.2324831600163, 3827.705502760104, 4577.658534479348, 2966.9220122044603, 2111.5925882026795, 1304.8567020190821, 895.6604095094845, 874.5785508861736, 909.2407657663242, 629.4084788764521, 624.1987720280491, 582.1075514885833, 572.4862678742022, 562.4379374176533, 527.3665096036598, 538.3534325750549, 471.00209737740835, 424.3766718235243, 381.85932624287506, 374.0011364288624, 373.3509016917466, 368.56103066732123, 396.6822463280273, 419.39348260518113, 356.3884663852467, 349.04356517163995, 338.31414308110936, 335.22463003930955, 322.71368838235674, 314.5535906331385, 312.95336190213703, 311.1571127287847, 784.4776473353928, 522.0775256617911, 1092.0871164828536, 1261.0307205718361, 711.7181096538378, 347.28259566405796, 1315.4777064590196, 1614.089804368801, 6546.074533798688, 5171.605739892045, 4209.125946087735, 1186.3865396334759, 3525.0915791511757, 1215.7757668304382, 2295.6728581140324, 2452.3069209912837, 808.9002562523837, 2026.4376062153206, 3187.317670528193, 3108.5418081990515, 1370.8522023590588, 1345.2531419336815, 1082.2865755170458, 3025.3335320728575, 4638.409898107466, 3506.74537635479, 1300.7830940486908, 5330.752145149061, 2940.7113144876885, 1578.0368404642657, 1582.134389091032, 1501.2184746501894, 1421.4576211987674, 1412.1464067277311, 1035.0703761879265, 995.7455591042968, 959.8456913452122, 928.3964020621494, 869.4528760712113, 900.7582568353399, 1711.4197045616745, 783.2679943789439, 728.0385786567804, 704.9426253085874, 794.1172838813936, 619.7182815663832, 694.2847200217543, 602.3537932304536, 550.6602946049504, 526.4199657487096, 515.5593460382365, 502.1052113894955, 476.59352163615415, 1038.9470820888885, 470.04562138687277, 460.512441680851, 465.8157340305181, 1399.8933423058647, 705.3273700892196, 649.0457021990833, 2496.298510421647, 907.8087686799422, 1983.4132393693721, 2133.88267901161, 1889.180627473677, 1087.9281687412224, 3827.705502760104, 4657.763924825679, 1236.1374217150446, 5330.752145149061, 5545.6861811071585, 1867.0395123072342, 3915.6116693203935, 5171.605739892045, 1369.9438324490527, 6546.074533798688, 3749.076707465711, 2700.1716356354823, 1351.5479530320222, 1168.058282090609, 969.686128505592, 846.0210630198479, 837.6044389543114, 768.7840837523347, 746.8755198298983, 735.6159138648337, 662.7315391355718, 618.7945438864721, 604.8945255589398, 615.2012857344764, 584.4370517429295, 572.7862145838455, 530.0338315175247, 531.4417615600541, 511.4116878339696, 2085.8956682114213, 481.2106512890092, 382.89611169368834, 371.1054143112557, 364.70339309497245, 352.3827740788212, 343.6201661890806, 336.65742601195836, 331.61264534599667, 333.8394564163783, 327.9594995623121, 1624.1839110993108, 386.71101975698076, 566.6929438738629, 371.08090284053515, 2100.9802453647503, 1153.4032304691482, 3287.1063480927796, 3629.2324831600163, 498.74842633014725, 733.4080067271173, 683.133190072953, 2679.237113016548, 1524.6264621248877, 1366.1575041472868, 4638.409898107466, 2271.918295320612, 2452.3069209912837, 4209.125946087735, 1433.3947753094626, 5171.605739892045], \"Category\": [\"Default\", \"Default\", \"Default\", \"Default\", \"Default\", \"Default\", \"Default\", \"Default\", \"Default\", \"Default\", \"Default\", \"Default\", \"Default\", \"Default\", \"Default\", \"Default\", \"Default\", \"Default\", \"Default\", \"Default\", \"Default\", \"Default\", \"Default\", \"Default\", \"Default\", \"Default\", \"Default\", \"Default\", \"Default\", \"Default\", \"Topic1\", \"Topic1\", \"Topic1\", \"Topic1\", \"Topic1\", \"Topic1\", \"Topic1\", \"Topic1\", \"Topic1\", \"Topic1\", \"Topic1\", \"Topic1\", \"Topic1\", \"Topic1\", \"Topic1\", \"Topic1\", \"Topic1\", \"Topic1\", \"Topic1\", \"Topic1\", \"Topic1\", \"Topic1\", \"Topic1\", \"Topic1\", \"Topic1\", \"Topic1\", \"Topic1\", \"Topic1\", \"Topic1\", \"Topic1\", \"Topic1\", \"Topic1\", \"Topic1\", \"Topic1\", \"Topic1\", \"Topic1\", \"Topic1\", \"Topic1\", \"Topic1\", \"Topic1\", \"Topic1\", \"Topic1\", \"Topic1\", \"Topic1\", \"Topic1\", \"Topic1\", \"Topic1\", \"Topic1\", \"Topic1\", \"Topic1\", \"Topic1\", \"Topic1\", \"Topic1\", \"Topic1\", \"Topic1\", \"Topic1\", \"Topic2\", \"Topic2\", \"Topic2\", \"Topic2\", \"Topic2\", \"Topic2\", \"Topic2\", \"Topic2\", \"Topic2\", \"Topic2\", \"Topic2\", \"Topic2\", \"Topic2\", \"Topic2\", \"Topic2\", \"Topic2\", \"Topic2\", \"Topic2\", \"Topic2\", \"Topic2\", \"Topic2\", \"Topic2\", \"Topic2\", \"Topic2\", \"Topic2\", \"Topic2\", \"Topic2\", \"Topic2\", \"Topic2\", \"Topic2\", \"Topic2\", \"Topic2\", \"Topic2\", \"Topic2\", \"Topic2\", \"Topic2\", \"Topic2\", \"Topic2\", \"Topic2\", \"Topic2\", \"Topic2\", \"Topic2\", \"Topic2\", \"Topic2\", \"Topic2\", \"Topic2\", \"Topic2\", \"Topic2\", \"Topic2\", \"Topic2\", \"Topic2\", \"Topic2\", \"Topic2\", \"Topic2\", \"Topic2\", \"Topic2\", \"Topic2\", \"Topic3\", \"Topic3\", \"Topic3\", \"Topic3\", \"Topic3\", \"Topic3\", \"Topic3\", \"Topic3\", \"Topic3\", \"Topic3\", \"Topic3\", \"Topic3\", \"Topic3\", \"Topic3\", \"Topic3\", \"Topic3\", \"Topic3\", \"Topic3\", \"Topic3\", \"Topic3\", \"Topic3\", \"Topic3\", \"Topic3\", \"Topic3\", \"Topic3\", \"Topic3\", \"Topic3\", \"Topic3\", \"Topic3\", \"Topic3\", \"Topic3\", \"Topic3\", \"Topic3\", \"Topic3\", \"Topic3\", \"Topic3\", \"Topic3\", \"Topic3\", \"Topic3\", \"Topic3\", \"Topic3\", \"Topic3\", \"Topic3\", \"Topic3\", \"Topic3\", \"Topic3\", \"Topic3\", \"Topic3\", \"Topic3\", \"Topic3\", \"Topic3\", \"Topic3\", \"Topic3\", \"Topic3\", \"Topic3\", \"Topic3\", \"Topic3\", \"Topic3\", \"Topic4\", \"Topic4\", \"Topic4\", \"Topic4\", \"Topic4\", \"Topic4\", \"Topic4\", \"Topic4\", \"Topic4\", \"Topic4\", \"Topic4\", \"Topic4\", \"Topic4\", \"Topic4\", \"Topic4\", \"Topic4\", \"Topic4\", \"Topic4\", \"Topic4\", \"Topic4\", \"Topic4\", \"Topic4\", \"Topic4\", \"Topic4\", \"Topic4\", \"Topic4\", \"Topic4\", \"Topic4\", \"Topic4\", \"Topic4\", \"Topic4\", \"Topic4\", \"Topic4\", \"Topic4\", \"Topic4\", \"Topic4\", \"Topic4\", \"Topic4\", \"Topic4\", \"Topic4\", \"Topic4\", \"Topic4\", \"Topic4\", \"Topic4\", \"Topic4\", \"Topic4\", \"Topic4\", \"Topic4\", \"Topic5\", \"Topic5\", \"Topic5\", \"Topic5\", \"Topic5\", \"Topic5\", \"Topic5\", \"Topic5\", \"Topic5\", \"Topic5\", \"Topic5\", \"Topic5\", \"Topic5\", \"Topic5\", \"Topic5\", \"Topic5\", \"Topic5\", \"Topic5\", \"Topic5\", \"Topic5\", \"Topic5\", \"Topic5\", \"Topic5\", \"Topic5\", \"Topic5\", \"Topic5\", \"Topic5\", \"Topic5\", \"Topic5\", \"Topic5\", \"Topic5\", \"Topic5\", \"Topic5\", \"Topic5\", \"Topic5\", \"Topic5\", \"Topic5\", \"Topic5\", \"Topic5\", \"Topic5\", \"Topic5\", \"Topic5\", \"Topic5\", \"Topic5\", \"Topic5\", \"Topic5\", \"Topic5\", \"Topic5\", \"Topic5\", \"Topic5\"], \"logprob\": [30.0, 29.0, 28.0, 27.0, 26.0, 25.0, 24.0, 23.0, 22.0, 21.0, 20.0, 19.0, 18.0, 17.0, 16.0, 15.0, 14.0, 13.0, 12.0, 11.0, 10.0, 9.0, 8.0, 7.0, 6.0, 5.0, 4.0, 3.0, 2.0, 1.0, -4.5276, -4.8181, -4.9193, -5.1114, -4.6979, -5.2961, -5.438, -5.4524, -5.4805, -5.5806, -5.5804, -5.3578, -5.6277, -5.6921, -5.7199, -5.8565, -5.8686, -5.9035, -5.9205, -6.02, -5.9212, -6.1007, -4.3765, -6.1475, -6.1148, -5.0076, -6.1983, -4.8573, -6.2553, -6.2828, -5.4871, -5.4285, -5.9684, -5.9518, -6.015, -5.4671, -5.2767, -5.4347, -5.6596, -4.5948, -5.161, -4.3069, -3.9356, -4.8526, -4.4906, -5.0542, -4.5254, -4.8583, -5.0243, -4.9215, -5.4747, -5.1674, -5.1399, -5.2003, -5.2384, -5.3987, -4.7297, -5.1158, -5.3858, -5.4543, -5.469, -5.5019, -5.5265, -5.5786, -5.7346, -5.7413, -5.1682, -5.7873, -5.8881, -5.8702, -5.8986, -5.927, -5.9815, -6.1583, -6.1819, -6.1809, -6.2269, -6.2156, -6.2753, -6.2778, -6.2939, -6.2971, -6.3394, -6.0804, -6.3554, -6.372, -5.1202, -5.5741, -3.7932, -6.2288, -6.1284, -4.7548, -5.6407, -5.4619, -6.179, -5.4697, -5.3127, -4.8319, -4.8588, -4.5534, -4.2468, -5.0933, -5.4758, -4.4286, -4.7719, -4.8421, -5.5059, -4.746, -5.1147, -5.4872, -5.0942, -5.4951, -5.4942, -3.8496, -4.2833, -4.6236, -5.1051, -5.4817, -5.5056, -5.4668, -5.8349, -5.8432, -5.9131, -5.9298, -5.9475, -6.012, -5.9915, -6.1253, -6.2297, -6.3355, -6.3563, -6.3581, -6.371, -6.2975, -6.2418, -6.4046, -6.4255, -6.4568, -6.466, -6.5042, -6.5298, -6.5349, -6.5407, -5.6174, -6.0244, -5.296, -5.1727, -5.7372, -6.4332, -5.3471, -5.1877, -4.0839, -4.34, -4.4994, -5.4909, -4.6856, -5.4923, -5.1298, -5.1384, -5.8323, -5.3388, -5.1157, -5.2098, -5.5851, -5.6134, -5.7231, -5.4051, -5.3483, -5.43, -5.6965, -5.5466, -4.2813, -4.904, -4.9014, -4.9539, -5.0085, -5.0151, -5.326, -5.3647, -5.4015, -5.4348, -5.5005, -5.4652, -4.8233, -5.605, -5.6782, -5.7104, -5.5914, -5.8394, -5.7259, -5.8679, -5.9578, -6.0028, -6.0237, -6.0502, -6.1025, -5.3232, -6.1163, -6.1368, -6.1254, -5.0251, -5.7126, -5.7976, -4.7651, -5.5889, -4.982, -4.9411, -5.1097, -5.5415, -4.9833, -4.9166, -5.5278, -5.1058, -5.1185, -5.4488, -5.2573, -5.2502, -5.5369, -5.356, -3.9359, -4.2642, -4.9566, -5.1025, -5.2888, -5.4253, -5.4353, -5.5212, -5.5501, -5.5653, -5.6698, -5.7385, -5.7612, -5.7443, -5.7957, -5.8158, -5.8935, -5.8909, -5.9293, -4.5236, -5.9903, -6.2193, -6.2507, -6.2682, -6.3025, -6.3278, -6.3483, -6.3634, -6.3567, -6.3745, -4.7758, -6.2102, -5.8361, -6.2527, -4.7398, -5.3412, -4.573, -4.4992, -6.0286, -5.748, -5.8047, -5.0086, -5.5081, -5.5912, -5.2532, -5.4884, -5.5045, -5.385, -5.6414, -5.4616], \"loglift\": [30.0, 29.0, 28.0, 27.0, 26.0, 25.0, 24.0, 23.0, 22.0, 21.0, 20.0, 19.0, 18.0, 17.0, 16.0, 15.0, 14.0, 13.0, 12.0, 11.0, 10.0, 9.0, 8.0, 7.0, 6.0, 5.0, 4.0, 3.0, 2.0, 1.0, 1.4683, 1.4681, 1.468, 1.468, 1.4679, 1.4679, 1.4678, 1.4678, 1.4678, 1.4677, 1.4677, 1.4676, 1.4676, 1.4675, 1.4675, 1.4674, 1.4674, 1.4673, 1.4673, 1.4672, 1.4671, 1.4671, 1.467, 1.467, 1.467, 1.4669, 1.4669, 1.4668, 1.4668, 1.4668, 1.4655, 1.4648, 1.4667, 1.4648, 1.4653, 1.4523, 1.443, 1.4467, 1.4539, 1.3563, 1.3984, 1.3039, 1.2277, 1.2501, 1.1354, 1.2353, 0.927, 0.803, 0.9218, 0.5351, 1.2813, 0.716, 0.5087, 0.6379, 0.0396, 0.6067, 1.6107, 1.6106, 1.6104, 1.6103, 1.6103, 1.6103, 1.6102, 1.6102, 1.61, 1.61, 1.61, 1.6099, 1.6098, 1.6098, 1.6098, 1.6098, 1.6097, 1.6094, 1.6094, 1.6093, 1.6093, 1.6092, 1.6092, 1.6092, 1.6091, 1.6091, 1.609, 1.609, 1.609, 1.609, 1.6039, 1.6073, 1.5873, 1.6088, 1.6077, 1.5905, 1.5992, 1.5947, 1.607, 1.5299, 1.5051, 1.4228, 1.323, 1.2424, 1.0707, 1.2377, 1.3837, 0.8493, 0.8894, 0.9033, 1.2182, 0.3661, 0.6862, 1.1708, 0.0691, 0.2068, 0.1545, 1.6202, 1.6201, 1.6199, 1.6197, 1.6195, 1.6194, 1.6193, 1.6191, 1.6191, 1.619, 1.6189, 1.6189, 1.6188, 1.6187, 1.6186, 1.6184, 1.6182, 1.6182, 1.6181, 1.6181, 1.6181, 1.6181, 1.6181, 1.618, 1.6179, 1.6179, 1.6178, 1.6177, 1.6177, 1.6177, 1.6163, 1.6165, 1.6069, 1.5863, 1.5939, 1.6154, 1.3696, 1.3245, 1.0282, 1.0078, 1.0543, 1.3291, 1.0455, 1.3033, 1.0301, 0.9555, 1.3707, 0.9459, 0.7161, 0.647, 1.0904, 1.081, 1.1888, 0.4789, 0.1083, 0.3062, 1.0315, -0.2291, 1.631, 1.6308, 1.6308, 1.6308, 1.6308, 1.6308, 1.6305, 1.6305, 1.6305, 1.6305, 1.6304, 1.6303, 1.6303, 1.6302, 1.6302, 1.6302, 1.6301, 1.63, 1.6299, 1.6299, 1.6298, 1.6298, 1.6297, 1.6297, 1.6296, 1.6296, 1.6296, 1.6295, 1.6295, 1.6295, 1.6274, 1.6256, 1.311, 1.4988, 1.3242, 1.2919, 1.2451, 1.3652, 0.6654, 0.5359, 1.2512, 0.2117, 0.1594, 0.9178, 0.3687, 0.0976, 1.1393, -0.2439, 1.7336, 1.7335, 1.7331, 1.7331, 1.733, 1.7328, 1.7328, 1.7327, 1.7327, 1.7327, 1.7326, 1.7325, 1.7324, 1.7324, 1.7324, 1.7324, 1.7322, 1.7322, 1.7322, 1.7322, 1.7321, 1.7317, 1.7316, 1.7315, 1.7315, 1.7314, 1.7313, 1.7313, 1.7313, 1.7313, 1.7302, 1.7308, 1.7228, 1.7296, 1.5088, 1.5071, 1.2279, 1.2027, 1.6581, 1.553, 1.5673, 0.9968, 1.0611, 1.0878, 0.2034, 0.6819, 0.5894, 0.1687, 0.9895, -0.1139]}, \"token.table\": {\"Topic\": [1, 2, 3, 4, 5, 1, 2, 3, 4, 5, 2, 3, 5, 2, 3, 2, 3, 5, 2, 3, 2, 2, 3, 5, 3, 2, 2, 1, 2, 3, 4, 2, 4, 5, 2, 5, 5, 1, 4, 2, 1, 2, 3, 4, 5, 5, 3, 1, 4, 2, 3, 4, 5, 3, 3, 4, 1, 2, 3, 4, 5, 5, 2, 3, 4, 5, 2, 1, 1, 2, 3, 5, 3, 1, 1, 2, 4, 1, 2, 3, 4, 5, 1, 4, 5, 4, 5, 4, 5, 2, 3, 1, 2, 1, 2, 3, 4, 5, 1, 4, 1, 2, 4, 5, 1, 2, 4, 5, 1, 2, 3, 4, 5, 4, 4, 1, 2, 3, 5, 3, 2, 5, 2, 2, 2, 5, 1, 2, 3, 4, 5, 5, 1, 2, 3, 2, 3, 5, 4, 2, 3, 4, 5, 1, 2, 4, 2, 5, 5, 1, 2, 1, 1, 2, 3, 1, 2, 3, 4, 5, 4, 3, 1, 2, 3, 4, 5, 3, 1, 2, 3, 4, 5, 5, 2, 3, 2, 4, 5, 1, 2, 4, 3, 1, 3, 3, 3, 4, 1, 2, 3, 4, 1, 2, 3, 4, 5, 1, 4, 1, 4, 5, 5, 1, 3, 3, 3, 4, 3, 1, 4, 1, 1, 3, 5, 2, 4, 3, 5, 4, 1, 2, 3, 4, 5, 2, 1, 2, 5, 4, 2, 3, 4, 3, 2, 3, 2, 2, 2, 4, 2, 3, 4, 5, 3, 3, 1, 3, 1, 2, 2, 3, 4, 4, 5, 2, 4, 2, 3, 5, 5, 2, 4, 1, 2, 4, 4, 3, 4, 1, 2, 4, 5, 1, 2, 5, 1, 2, 4, 3, 2, 4, 1, 2, 5, 1, 5, 4, 3, 5, 1, 2, 3, 4, 5, 1, 2, 3, 4, 1, 2, 4, 5, 5, 1, 2, 5, 3, 4, 1, 2, 4, 1, 2, 1, 1, 2, 2, 5, 3, 1, 3, 4, 5, 1, 2, 3, 4, 5, 4, 5, 5, 1, 4, 5, 5, 5, 1, 1, 2, 3, 4, 5, 3, 4, 5, 1, 1, 3, 5, 1, 1, 2, 3, 4, 5, 5, 5, 4, 5, 1, 2, 3, 4, 5, 4, 5, 5, 1, 2, 5, 1, 1, 2, 3, 4, 4, 5, 3, 2, 5, 1, 2, 3, 4, 5, 1, 2, 3, 5, 1, 4, 4, 1, 2, 4, 1, 5, 1, 2, 3, 4, 5, 2, 2, 4, 4, 5, 1, 2, 1, 1, 1, 3, 5, 1, 1, 2, 5, 2, 1, 2, 3, 4, 5, 2, 3, 4, 3, 2, 2, 4, 2, 4, 1, 2, 3, 4, 5, 1, 2, 3, 4, 5, 3, 1, 2, 2, 3, 4, 5, 1, 2, 3, 4, 5, 2, 3, 5, 1, 2, 4, 5, 2, 1, 2, 1, 5, 2, 1, 2, 3, 4, 5], \"Freq\": [0.5789537542550491, 0.21420585439934686, 0.0028138700085300083, 0.0689398152089852, 0.13541749416050664, 0.47109553239245244, 0.28345018709167197, 0.08358146542446737, 0.0260985603499325, 0.1354482246009155, 0.998930979604115, 0.9960206567805086, 0.0019154243399625165, 0.999701695669706, 0.9993384803622415, 0.0012747335802322274, 0.9955669261613697, 0.002549467160464455, 0.9982189608199141, 0.9961156129355364, 0.9973320036770201, 0.9994311216330369, 0.9962812589478125, 0.998521187544038, 0.9966773861231102, 0.9991899336822545, 0.9982592873564357, 0.018383897305970072, 0.582469399337113, 0.15738867183376418, 0.24180452681015735, 0.8285112231635858, 0.00909925620815499, 0.16234988708234427, 0.20201087862848013, 0.7967725212857221, 0.9997128072990433, 0.9964224384735583, 0.003061205648152253, 0.9995915644093418, 0.15680215048291712, 0.00023757901588320775, 0.5678138479608665, 0.06604696641553176, 0.20906953397722283, 0.9990939817757082, 0.9992213586806323, 0.9993978040789114, 0.9992022229853833, 0.06092181228080192, 0.22634796408944097, 0.7123165743601455, 0.00046862932523693783, 0.9993434512634556, 0.99748597762518, 0.9977754895710172, 0.23946540727893728, 0.4668493519918438, 0.06275147720863718, 0.2295477887545837, 0.0014425626944514294, 0.9970212929571312, 0.34045052235846424, 0.0013952890260592796, 0.18278286241376562, 0.4750959133731847, 0.9980569089413225, 0.9991742854099435, 0.9986284817406212, 0.9990069362867785, 0.07218067887430235, 0.9263187122202134, 0.9969536614135011, 0.9989069695401579, 0.9969403090743255, 0.0028868927868947653, 0.9977524948864469, 0.0006433884835406829, 0.25252997978971803, 0.37766903983838085, 0.25606861644919177, 0.11323637310316019, 0.008567429436669943, 0.1927671623250737, 0.7986748108184535, 0.9937666913356398, 0.0046221706573750685, 0.010587744324085862, 0.9881894702480138, 0.01281949012006297, 0.9861850613791299, 0.07766981913588887, 0.9219508401324992, 0.0007991914510732023, 0.976412155348685, 0.006193733745817318, 0.014185648256549341, 0.0023975743532196067, 0.9996156072230065, 0.998840954692239, 0.3829970719907496, 0.23303778186613142, 0.38064579392259357, 0.0033962905428920496, 0.9982335692446316, 0.001193345569927832, 0.000596672784963916, 0.9995660884589632, 0.2007559501602017, 0.17879826811142965, 0.2686251492200426, 0.18050925632302228, 0.1713839858611949, 0.9994791252249832, 0.9991881813937497, 0.8038261616662417, 0.0012341240967240147, 0.03085310241810037, 0.16413850486429396, 0.9993050191906664, 0.9977022085018288, 0.9980494990016678, 0.9972826456772492, 0.9970507528368802, 0.9924616673242196, 0.006892094911973747, 0.16235387607835475, 0.18752119425463468, 0.5092680854494289, 0.009376059712731734, 0.13126483597824426, 0.9980471958698602, 0.785943601226519, 0.21385126629117637, 0.9977496261481159, 0.025290911887509447, 0.9737001076691137, 0.9987159811050017, 0.9983811487408607, 0.28795883552308627, 0.5531559381586713, 0.15337436120168627, 0.00565224239488286, 0.7166185610247245, 0.000255387940493487, 0.2829698380667836, 0.6884364211539878, 0.3111401843353609, 0.998627385639131, 0.9980449001246761, 0.9979643824276144, 0.9992218938395416, 0.9995009248664783, 0.9834992522283218, 0.016017903130754428, 0.07758369929931239, 0.005855373532023577, 0.004391530149017682, 0.06440910885225934, 0.8461014753774069, 0.9987546586153404, 0.9991124115708204, 0.012362463632203271, 0.200271910841693, 0.7788352088288061, 0.00865372454254229, 0.9989137548513208, 0.9982801188247201, 0.24745057453501537, 0.0032136438251300697, 0.13175939683033286, 0.4900806833323356, 0.12801014570101443, 0.9981525271891926, 0.9876768871192304, 0.010261578047992005, 0.9956573089149208, 0.003629370506372737, 0.9992783718349607, 0.9978881238265391, 0.0015592001934789674, 0.9988872359691725, 0.9980973421737082, 0.44562098488215207, 0.5540859166863122, 0.9998561416334599, 0.9986353826037722, 0.9981495775656505, 0.16413147939128975, 0.08170100307477533, 0.5886849060834258, 0.16559042587476785, 0.18312030529090711, 0.2806302151479786, 0.31930363702349507, 0.2161745120221178, 0.0006610841346242134, 0.0028355627256418706, 0.9967002980631176, 0.8293368788106946, 0.004743585579470131, 0.16523489768487623, 0.999168748878979, 0.999111263085891, 0.9963468375245401, 0.9989099917031917, 0.26419103674361183, 0.7356006156658963, 0.9997193643290897, 0.893685294210032, 0.10605442573695, 0.999206490027113, 0.9993614181482011, 0.7440726016292866, 0.2558717605935848, 0.0009625129299072844, 0.998125908313854, 0.0026948301363536637, 0.9970871504508556, 0.999758114819301, 0.5818242495193494, 0.02318709186276374, 0.005582077670665345, 0.3342805743548439, 0.05496199552655109, 0.9988903073076482, 0.9984283668317898, 0.0010266615597242055, 0.0005133307798621027, 0.9992830008001509, 0.0007143401356226384, 0.0007143401356226384, 0.9979331694648259, 0.998477780826949, 0.674639976624871, 0.3246848468659992, 0.998730586032824, 0.9984228314802741, 0.999332822054054, 0.9977988450141018, 0.0024466758009126567, 0.51420969749181, 0.16474283726145222, 0.3184756334187975, 0.9977884781214761, 0.9978724141930829, 0.35018451542646045, 0.6495506974796879, 0.9744211958413602, 0.024398652791019975, 0.0008225200956316379, 0.7279302846339996, 0.27060911146280886, 0.9989658904239259, 0.9988277566921758, 0.9964011453807989, 0.002106556332728962, 0.39639727529838426, 0.00030421893729730176, 0.6029619337232521, 0.9976596479663256, 0.23347129644955184, 0.7665947292871111, 0.9987483531698466, 0.27360509856837406, 0.7258747270950129, 0.9995730249909749, 0.999150603426685, 0.9988009039122312, 0.9856436282342281, 0.0011303252617365003, 0.0011303252617365003, 0.012433577879101503, 0.3071815946031996, 0.691536890313607, 0.00121056786050522, 0.9982848940155807, 0.7497537396319307, 0.2502147278344092, 0.9980795027453286, 0.3202446559115109, 0.6796597325460827, 0.42250833063650844, 0.0989087523133169, 0.4784944168515935, 0.00143823108975167, 0.9981323762876589, 0.9986628340027321, 0.9963067666503544, 0.002879499325579059, 0.05036702846177897, 0.208037726255174, 0.0036497846711434035, 0.6117039108836345, 0.12701250655579044, 0.9787041176721767, 0.01971748222416473, 0.0008962491920074877, 0.0008962491920074877, 0.7919349450698675, 0.2052981009761585, 0.0019835565311706136, 0.0004958891327926534, 0.997485448768131, 0.9966806580394523, 0.0016312285728959939, 0.0016312285728959939, 0.9990601289827972, 0.9992512554060824, 0.995826026612864, 0.0027208361382865137, 0.0009069453794288379, 0.9972277687971499, 0.9993105781915633, 0.9986103637409841, 0.9994787019088498, 0.000438175669403266, 0.9991017541256135, 0.9980713283498591, 0.9982400753015591, 0.2911539093140391, 0.4047290334214553, 0.15373428401280084, 0.14996936277167103, 0.07347814568864106, 0.011215085394582056, 0.5419980062243708, 0.21579371207506162, 0.1575912861480065, 0.9982488053302538, 0.9987930997649122, 0.9991627235718735, 0.04090492566869705, 0.12407827452838106, 0.8344604836414199, 0.998980098874436, 0.999292422067902, 0.9994011827324231, 0.21641771119672534, 0.4926956403840343, 0.003453474114841362, 0.23368508177093214, 0.053816638289611224, 0.2979158689715186, 0.17787114535645954, 0.5240976957828191, 0.9996456181215474, 0.9989330192786492, 0.9996892361172057, 0.9995945737398418, 0.9984005770752824, 0.029734180692939, 0.1724582480190462, 0.5827899415816044, 0.089202542078817, 0.12562691342766727, 0.9981951985066577, 0.9991949972130804, 0.875735096892731, 0.12337400107168034, 0.00027554035312978573, 0.24550645463863907, 0.008817291300153143, 0.15733354163710764, 0.5880031135789627, 0.9993429554762735, 0.9992521833760777, 0.9988961757629251, 0.4886442800957854, 0.0006558983625446784, 0.5102889260597598, 0.9985697438130033, 0.8481666907818636, 0.15167393669675674, 0.9970102151256484, 0.9985930492836868, 0.9991582016267007, 0.997074335204217, 0.9973231727624634, 0.9964878915435944, 0.002214417536763543, 0.07383071459239608, 0.6436891427570066, 0.186368794116728, 0.011468848868721722, 0.08458276040682271, 0.0007601801194273242, 0.0007601801194273242, 0.77842444229358, 0.22045223463392402, 0.0005843102059270248, 0.9991704521352124, 0.998573456562293, 0.9992098461426347, 0.9984051884681208, 0.9989150695404229, 0.0025859102764343926, 0.9981613667036756, 0.1806604045479726, 0.003075070715710172, 0.555050264185686, 0.1821979399058277, 0.07918307092953694, 0.9983454834756536, 0.999034828589408, 0.9996780620175075, 0.9991883428889501, 0.9974841552534919, 0.019924249024756875, 0.9794341362696275, 0.9990184973611914, 0.9994163119781588, 0.9839970356068589, 0.0009309338085211532, 0.014894940936338452, 0.9996190950053815, 0.9983725875654914, 0.9991244553871883, 0.0008083531192452979, 0.9995148677811377, 0.999041851870201, 0.9993468680294856, 0.0012313876441777595, 0.0018470814662666394, 0.9961926041398075, 0.0206180544025207, 0.9666695506412591, 0.011895031386069637, 0.9993510114811588, 0.9970648196788805, 0.7961742267328451, 0.2025509321313736, 0.9980268399148028, 0.9991189298937968, 0.3932382087974193, 0.0008623644929767967, 0.22054971907881576, 0.16902344062345215, 0.216453487737176, 0.4357704729187053, 0.10862684252466277, 0.16578224513211615, 0.17115043211734657, 0.11873166508509651, 0.9992626563567255, 0.9983432368370778, 0.001269752924435075, 0.8989887779738648, 0.033638494966281185, 0.0008409623741570297, 0.06643602755840534, 0.13160684546439874, 0.14349107565683608, 0.1597768725872132, 0.2161169268328421, 0.34948439899241673, 0.9986013566885952, 0.7476484015690461, 0.2520257858727675, 0.24673632125531497, 0.06876258133344842, 0.6835809556089874, 0.9980473289599155, 0.9979923383145055, 0.5140201430065013, 0.4859778706654364, 0.9320762302660048, 0.06755116930150837, 0.9993962890758856, 0.005106250318845421, 0.1483649398197864, 0.562822257366073, 0.11914584077305983, 0.16453473249613024], \"Term\": [\"2\", \"2\", \"2\", \"2\", \"2\", \"3\", \"3\", \"3\", \"3\", \"3\", \"30\", \"auampgt\", \"auampgt\", \"d\", \"oo\", \"smampgt\", \"smampgt\", \"smampgt\", \"\\u0430\\u0430\\u0430\", \"\\u0430\\u0434\", \"\\u0430\\u043b\\u0433\\u0435\\u0431\\u0440\\u0430\", \"\\u0430\\u0445\\u0430\\u0445\", \"\\u0431\\u0435\\u0433\\u0430\\u0442\\u044c\", \"\\u0431\\u0435\\u0434\\u043d\\u044b\\u0439\", \"\\u0431\\u0435\\u0437\\u0443\\u043c\\u043d\\u043e\", \"\\u0431\\u0435\\u0441\\u0438\\u0442\\u044c\", \"\\u0431\\u043b\", \"\\u0431\\u043b\\u0438\\u043d\", \"\\u0431\\u043b\\u0438\\u043d\", \"\\u0431\\u043b\\u0438\\u043d\", \"\\u0431\\u043b\\u0438\\u043d\", \"\\u0431\\u043b\\u044f\", \"\\u0431\\u043b\\u044f\", \"\\u0431\\u043b\\u044f\", \"\\u0431\\u043e\\u0433\", \"\\u0431\\u043e\\u0433\", \"\\u0431\\u043e\\u043b\\u0435\\u0442\\u044c\", \"\\u0431\\u043e\\u043b\\u044c\\u043d\\u0438\\u0446\\u0430\", \"\\u0431\\u043e\\u043b\\u044c\\u043d\\u0438\\u0446\\u0430\", \"\\u0431\\u043e\\u043b\\u044c\\u043d\\u043e\", \"\\u0431\\u043e\\u043b\\u044c\\u0448\\u043e\\u0439\", \"\\u0431\\u043e\\u043b\\u044c\\u0448\\u043e\\u0439\", \"\\u0431\\u043e\\u043b\\u044c\\u0448\\u043e\\u0439\", \"\\u0431\\u043e\\u043b\\u044c\\u0448\\u043e\\u0439\", \"\\u0431\\u043e\\u043b\\u044c\\u0448\\u043e\\u0439\", \"\\u0431\\u044b\\u0432\\u0430\\u0442\\u044c\", \"\\u0432\\u0435\\u0440\\u043d\\u0443\\u0442\\u044c\", \"\\u0432\\u0435\\u0447\\u0435\\u0440\", \"\\u0432\\u0435\\u0449\\u044c\", \"\\u0432\\u0438\\u0434\\u0435\\u0442\\u044c\", \"\\u0432\\u0438\\u0434\\u0435\\u0442\\u044c\", \"\\u0432\\u0438\\u0434\\u0435\\u0442\\u044c\", \"\\u0432\\u0438\\u0434\\u0435\\u0442\\u044c\", \"\\u0432\\u043a\", \"\\u0432\\u043e\\u043b\\u0433\\u043e\\u0433\\u0440\\u0430\\u0434\", \"\\u0432\\u043e\\u043b\\u043e\\u0441\", \"\\u0432\\u043e\\u043e\\u0431\\u0449\\u0435\", \"\\u0432\\u043e\\u043e\\u0431\\u0449\\u0435\", \"\\u0432\\u043e\\u043e\\u0431\\u0449\\u0435\", \"\\u0432\\u043e\\u043e\\u0431\\u0449\\u0435\", \"\\u0432\\u043e\\u043e\\u0431\\u0449\\u0435\", \"\\u0432\\u0440\\u0430\\u0447\", \"\\u0432\\u0440\\u043e\\u0434\\u0435\", \"\\u0432\\u0440\\u043e\\u0434\\u0435\", \"\\u0432\\u0440\\u043e\\u0434\\u0435\", \"\\u0432\\u0440\\u043e\\u0434\\u0435\", \"\\u0432\\u0441\\u043f\\u043e\\u043c\\u0438\\u043d\\u0430\\u0442\\u044c\", \"\\u0432\\u0441\\u0442\\u0430\\u0432\\u0430\\u0442\\u044c\", \"\\u0432\\u0441\\u0442\\u0430\\u0442\\u044c\", \"\\u0432\\u0441\\u0442\\u0440\\u0435\\u0442\\u0438\\u0442\\u044c\\u0441\\u044f\", \"\\u0432\\u0441\\u044f\\u043a\\u0438\\u0439\", \"\\u0432\\u0441\\u044f\\u043a\\u0438\\u0439\", \"\\u0432\\u0447\\u0435\\u0440\\u0430\\u0448\\u043d\\u0438\\u0439\", \"\\u0432\\u044b\\u0441\\u043f\\u0430\\u0442\\u044c\\u0441\\u044f\", \"\\u0432\\u044b\\u0445\\u043e\\u0434\\u043d\\u043e\\u0439\", \"\\u0432\\u044b\\u0445\\u043e\\u0434\\u043d\\u043e\\u0439\", \"\\u0433\\u043e\\u0432\\u043d\\u043e\", \"\\u0433\\u043e\\u0432\\u043e\\u0440\\u0438\\u0442\\u044c\", \"\\u0433\\u043e\\u0432\\u043e\\u0440\\u0438\\u0442\\u044c\", \"\\u0433\\u043e\\u0432\\u043e\\u0440\\u0438\\u0442\\u044c\", \"\\u0433\\u043e\\u0432\\u043e\\u0440\\u0438\\u0442\\u044c\", \"\\u0433\\u043e\\u0432\\u043e\\u0440\\u0438\\u0442\\u044c\", \"\\u0433\\u043e\\u043b\\u043e\\u0432\\u0430\", \"\\u0433\\u043e\\u043b\\u043e\\u0432\\u0430\", \"\\u0433\\u043e\\u043b\\u043e\\u0432\\u0430\", \"\\u0433\\u043e\\u043b\\u043e\\u0441\", \"\\u0433\\u043e\\u043b\\u043e\\u0441\", \"\\u0433\\u043e\\u0440\\u043b\\u043e\", \"\\u0433\\u043e\\u0440\\u043b\\u043e\", \"\\u0433\\u0440\\u0443\\u0441\\u0442\\u043d\\u043e\", \"\\u0433\\u0440\\u0443\\u0441\\u0442\\u043d\\u043e\", \"\\u0433\\u0443\\u043b\\u044f\\u0442\\u044c\", \"\\u0433\\u0443\\u043b\\u044f\\u0442\\u044c\", \"\\u0434\\u0435\\u043b\\u0430\\u0442\\u044c\", \"\\u0434\\u0435\\u043b\\u0430\\u0442\\u044c\", \"\\u0434\\u0435\\u043b\\u0430\\u0442\\u044c\", \"\\u0434\\u0435\\u043b\\u0430\\u0442\\u044c\", \"\\u0434\\u0435\\u043b\\u0430\\u0442\\u044c\", \"\\u0434\\u043e\\u0431\\u0440\\u044b\\u0439\", \"\\u0434\\u043e\\u0436\\u0434\\u044c\", \"\\u0434\\u043e\\u043c\", \"\\u0434\\u043e\\u043c\", \"\\u0434\\u043e\\u043c\", \"\\u0434\\u043e\\u043c\", \"\\u0434\\u043e\\u043c\\u043e\\u0439\", \"\\u0434\\u043e\\u043c\\u043e\\u0439\", \"\\u0434\\u043e\\u043c\\u043e\\u0439\", \"\\u0434\\u0440\\u0443\\u0433\", \"\\u0434\\u0443\\u043c\\u0430\\u0442\\u044c\", \"\\u0434\\u0443\\u043c\\u0430\\u0442\\u044c\", \"\\u0434\\u0443\\u043c\\u0430\\u0442\\u044c\", \"\\u0434\\u0443\\u043c\\u0430\\u0442\\u044c\", \"\\u0434\\u0443\\u043c\\u0430\\u0442\\u044c\", \"\\u0434\\u0443\\u0448\\u0430\", \"\\u0436\\u0430\\u043b\\u043a\\u043e\", \"\\u0436\\u0434\\u0430\\u0442\\u044c\", \"\\u0436\\u0434\\u0430\\u0442\\u044c\", \"\\u0436\\u0434\\u0430\\u0442\\u044c\", \"\\u0436\\u0434\\u0430\\u0442\\u044c\", \"\\u0436\\u0435\\u043b\\u0430\\u043d\\u0438\\u0435\", \"\\u0436\\u0438\\u0432\\u043e\\u0442\", \"\\u0436\\u0438\\u0437\\u043d\\u044c\\u0431\\u043e\\u043b\\u044c\", \"\\u0436\\u0440\\u0430\\u0442\\u044c\", \"\\u0437\", \"\\u0437\\u0430\\u0431\\u043e\\u043b\\u0435\\u0442\\u044c\", \"\\u0437\\u0430\\u0431\\u043e\\u043b\\u0435\\u0442\\u044c\", \"\\u0437\\u0430\\u0431\\u044b\\u0442\\u044c\", \"\\u0437\\u0430\\u0431\\u044b\\u0442\\u044c\", \"\\u0437\\u0430\\u0431\\u044b\\u0442\\u044c\", \"\\u0437\\u0430\\u0431\\u044b\\u0442\\u044c\", \"\\u0437\\u0430\\u0431\\u044b\\u0442\\u044c\", \"\\u0437\\u0430\\u0432\\u0438\\u0434\\u043e\\u0432\\u0430\\u0442\\u044c\", \"\\u0437\\u0430\\u0432\\u0442\\u0440\\u0430\", \"\\u0437\\u0430\\u0432\\u0442\\u0440\\u0430\", \"\\u0437\\u0430\\u043d\\u0438\\u043c\\u0430\\u0442\\u044c\\u0441\\u044f\", \"\\u0437\\u0430\\u0445\\u043e\\u0434\\u0438\\u0442\\u044c\", \"\\u0437\\u0430\\u0445\\u043e\\u0434\\u0438\\u0442\\u044c\", \"\\u0437\\u0430\\u0447\\u0451\\u0442\", \"\\u0437\\u0438\\u043c\\u0430\", \"\\u0437\\u043d\\u0430\\u0442\\u044c\", \"\\u0437\\u043d\\u0430\\u0442\\u044c\", \"\\u0437\\u043d\\u0430\\u0442\\u044c\", \"\\u0437\\u043d\\u0430\\u0442\\u044c\", \"\\u0438\\u0434\\u0442\\u0438\", \"\\u0438\\u0434\\u0442\\u0438\", \"\\u0438\\u0434\\u0442\\u0438\", \"\\u0438\\u0437\\u0437\", \"\\u0438\\u0437\\u0437\", \"\\u0438\\u043d\\u0442\\u0435\\u0440\\u0435\\u0441\\u043d\\u044b\\u0439\", \"\\u0438\\u0441\\u043f\\u043e\\u0440\\u0442\\u0438\\u0442\\u044c\", \"\\u043a\\u0430\\u043a\\u0430\\u044f\\u0442\\u044c\", \"\\u043a\\u0430\\u043d\\u0438\\u043a\\u0443\\u043b\\u044b\", \"\\u043a\\u0430\\u043f\\u0435\\u0446\", \"\\u043a\\u043b\\u0430\\u0441\\u0441\", \"\\u043a\\u043b\\u0430\\u0441\\u0441\", \"\\u043a\\u043d\\u0438\\u0433\\u0430\", \"\\u043a\\u043d\\u0438\\u0433\\u0430\", \"\\u043a\\u043d\\u0438\\u0433\\u0430\", \"\\u043a\\u043d\\u0438\\u0433\\u0430\", \"\\u043a\\u043d\\u0438\\u0433\\u0430\", \"\\u043a\\u043e\\u043c\\u043d\\u0430\\u0442\\u0430\", \"\\u043a\\u043e\\u043d\\u0447\\u0438\\u0442\\u044c\\u0441\\u044f\", \"\\u043a\\u043e\\u0442\", \"\\u043a\\u043e\\u0442\", \"\\u043a\\u043e\\u0442\", \"\\u043a\\u043e\\u0442\", \"\\u043a\\u043e\\u0448\\u043c\\u0430\\u0440\", \"\\u043a\\u0442\\u043e\\u043d\\u0438\\u0431\\u044b\\u0442\\u044c\", \"\\u043a\\u0443\\u043f\\u0438\\u0442\\u044c\", \"\\u043a\\u0443\\u043f\\u0438\\u0442\\u044c\", \"\\u043a\\u0443\\u043f\\u0438\\u0442\\u044c\", \"\\u043a\\u0443\\u043f\\u0438\\u0442\\u044c\", \"\\u043a\\u0443\\u043f\\u0438\\u0442\\u044c\", \"\\u043b\", \"\\u043b\\u0430\\u0434\\u043d\\u044b\\u0439\", \"\\u043b\\u0430\\u0434\\u043d\\u044b\\u0439\", \"\\u043b\\u0435\\u043d\\u044c\", \"\\u043b\\u0435\\u043d\\u044c\", \"\\u043b\\u0435\\u0442\\u043e\", \"\\u043b\\u0435\\u0447\\u044c\", \"\\u043b\\u0435\\u0447\\u044c\", \"\\u043b\\u0438\\u0431\\u043e\", \"\\u043b\\u043e\\u0445\", \"\\u043b\\u044e\\u0431\\u0438\\u043c\\u044b\\u0439\", \"\\u043b\\u044e\\u0431\\u0438\\u043c\\u044b\\u0439\", \"\\u043b\\u044e\\u0431\\u0438\\u0442\\u044c\", \"\\u043b\\u044e\\u0431\\u043e\\u0432\\u044c\", \"\\u043c\\u0430\\u0433\\u0430\\u0437\\u0438\\u043d\", \"\\u043c\\u0430\\u043b\\u0435\\u043d\\u044c\\u043a\\u0438\\u0439\", \"\\u043c\\u0430\\u043b\\u0435\\u043d\\u044c\\u043a\\u0438\\u0439\", \"\\u043c\\u0430\\u043b\\u0435\\u043d\\u044c\\u043a\\u0438\\u0439\", \"\\u043c\\u0430\\u043b\\u0435\\u043d\\u044c\\u043a\\u0438\\u0439\", \"\\u043c\\u0430\\u043c\\u0430\", \"\\u043c\\u0430\\u043c\\u0430\", \"\\u043c\\u0430\\u043c\\u0430\", \"\\u043c\\u0430\\u043c\\u0430\", \"\\u043c\\u0430\\u043c\\u0430\", \"\\u043c\\u0430\\u0448\\u0438\\u043d\\u0430\", \"\\u043c\\u0430\\u0448\\u0438\\u043d\\u0430\", \"\\u043c\\u0438\\u043d\\u0443\\u0442\\u0430\", \"\\u043c\\u0438\\u043d\\u0443\\u0442\\u0430\", \"\\u043c\\u0438\\u043d\\u0443\\u0442\\u0430\", \"\\u043c\\u043e\\u0437\\u0433\", \"\\u043d\\u0430\\u0434\\u0435\\u044f\\u0442\\u044c\\u0441\\u044f\", \"\\u043d\\u0430\\u0434\\u043f\\u0438\\u0441\\u044c\", \"\\u043d\\u0430\\u0437\\u044b\\u0432\\u0430\\u0442\\u044c\", \"\\u043d\\u0430\\u0439\\u0442\\u0438\", \"\\u043d\\u0430\\u0439\\u0442\\u0438\", \"\\u043d\\u0430\\u043f\\u0438\\u0441\\u0430\\u0442\\u044c\", \"\\u043d\\u0430\\u0441\\u0442\\u0440\\u043e\\u0435\\u043d\\u0438\\u0435\", \"\\u043d\\u0430\\u0441\\u0442\\u0440\\u043e\\u0435\\u043d\\u0438\\u0435\", \"\\u043d\\u0430\\u0447\\u0430\\u0442\\u044c\\u0441\\u044f\", \"\\u043d\\u0435\\u0434\\u0435\\u043b\\u044f\", \"\\u043d\\u0435\\u043d\\u0430\\u0432\\u0438\\u0434\\u0435\\u0442\\u044c\", \"\\u043d\\u0435\\u043d\\u0430\\u0432\\u0438\\u0434\\u0435\\u0442\\u044c\", \"\\u043d\\u0435\\u0442\\u0443\", \"\\u043d\\u0435\\u0442\\u0443\", \"\\u043d\\u0435\\u0443\\u0436\\u0435\\u043b\\u0438\", \"\\u043d\\u0435\\u0443\\u0436\\u0435\\u043b\\u0438\", \"\\u043d\\u0438\\u043a\\u0442\\u043e\", \"\\u043d\\u043e\\u0432\\u044b\\u0439\", \"\\u043d\\u043e\\u0432\\u044b\\u0439\", \"\\u043d\\u043e\\u0432\\u044b\\u0439\", \"\\u043d\\u043e\\u0432\\u044b\\u0439\", \"\\u043d\\u043e\\u0432\\u044b\\u0439\", \"\\u043d\\u043e\\u0440\\u043c\\u0430\\u043b\\u044c\\u043d\\u043e\", \"\\u043d\\u043e\\u0447\\u044c\", \"\\u043d\\u043e\\u0447\\u044c\", \"\\u043d\\u043e\\u0447\\u044c\", \"\\u043d\\u0440\\u0430\\u0432\\u0438\\u0442\\u044c\\u0441\\u044f\", \"\\u043d\\u0443\\u0436\\u043d\\u044b\\u0439\", \"\\u043d\\u0443\\u0436\\u043d\\u044b\\u0439\", \"\\u043d\\u0443\\u0436\\u043d\\u044b\\u0439\", \"\\u043e\\u0431\\u0438\\u0434\\u0435\\u0442\\u044c\\u0441\\u044f\", \"\\u043e\\u0431\\u0438\\u0434\\u043d\\u043e\", \"\\u043e\\u0431\\u0438\\u0434\\u043d\\u043e\", \"\\u043e\\u0431\\u0449\\u0430\\u0442\\u044c\\u0441\\u044f\", \"\\u043e\\u0434\\u043d\\u043e\\u043a\\u043b\\u0430\\u0441\\u0441\\u043d\\u0438\\u043a\", \"\\u043e\\u0439\", \"\\u043e\\u043a\\u043d\\u043e\", \"\\u043e\\u043e\", \"\\u043e\\u043e\", \"\\u043e\\u043e\", \"\\u043e\\u043e\", \"\\u043e\\u0442\\u043d\\u043e\\u0448\\u0435\\u043d\\u0438\\u0435\", \"\\u043e\\u0447\", \"\\u043f\\u0430\\u043f\\u0430\", \"\\u043f\\u0430\\u043f\\u0430\", \"\\u043f\\u0430\\u0440\\u0430\", \"\\u043f\\u0430\\u0440\\u0430\", \"\\u043f\\u0430\\u0440\\u0435\\u043d\\u044c\", \"\\u043f\\u0430\\u0440\\u0435\\u043d\\u044c\", \"\\u043f\\u0430\\u0440\\u0435\\u043d\\u044c\", \"\\u043f\\u0435\\u0441\\u043d\\u044f\", \"\\u043f\\u0435\\u0447\\u0430\\u043b\\u044c\\u043d\\u043e\", \"\\u043f\\u0437\\u0434\\u0446\\u0430\", \"\\u043f\\u0437\\u0434\\u0446\\u0430\", \"\\u043f\\u0438\\u0441\\u0430\\u0442\\u044c\", \"\\u043f\\u0438\\u0441\\u0430\\u0442\\u044c\", \"\\u043f\\u0438\\u0441\\u0430\\u0442\\u044c\", \"\\u043f\\u0438\\u0441\\u044c\\u043c\\u043e\", \"\\u043f\\u043b\\u0430\\u043a\\u0430\\u0442\\u044c\", \"\\u043f\\u043b\\u0430\\u043a\\u0430\\u0442\\u044c\", \"\\u043f\\u043b\\u0430\\u043d\", \"\\u043f\\u043b\\u043e\\u0445\\u043e\", \"\\u043f\\u043b\\u043e\\u0445\\u043e\", \"\\u043f\\u043e\\u0433\\u043e\\u0434\\u0430\", \"\\u043f\\u043e\\u0434\\u0430\\u0440\\u0438\\u0442\\u044c\", \"\\u043f\\u043e\\u0434\\u0443\\u043c\\u0430\\u0442\\u044c\", \"\\u043f\\u043e\\u0435\\u0445\\u0430\\u0442\\u044c\", \"\\u043f\\u043e\\u0435\\u0445\\u0430\\u0442\\u044c\", \"\\u043f\\u043e\\u0435\\u0445\\u0430\\u0442\\u044c\", \"\\u043f\\u043e\\u0435\\u0445\\u0430\\u0442\\u044c\", \"\\u043f\\u043e\\u0439\\u0442\\u0438\", \"\\u043f\\u043e\\u0439\\u0442\\u0438\", \"\\u043f\\u043e\\u0439\\u0442\\u0438\", \"\\u043f\\u043e\\u043d\\u0435\\u0434\\u0435\\u043b\\u044c\\u043d\\u0438\\u043a\", \"\\u043f\\u043e\\u043d\\u0438\\u043c\\u0430\\u0442\\u044c\", \"\\u043f\\u043e\\u043d\\u0438\\u043c\\u0430\\u0442\\u044c\", \"\\u043f\\u043e\\u043d\\u0440\\u0430\\u0432\\u0438\\u0442\\u044c\\u0441\\u044f\", \"\\u043f\\u043e\\u043d\\u044f\\u0442\\u044c\", \"\\u043f\\u043e\\u043d\\u044f\\u0442\\u044c\", \"\\u043f\\u043e\\u0441\\u043b\\u0435\\u0434\\u043d\\u0438\\u0439\", \"\\u043f\\u043e\\u0441\\u043b\\u0435\\u0434\\u043d\\u0438\\u0439\", \"\\u043f\\u043e\\u0441\\u043b\\u0435\\u0434\\u043d\\u0438\\u0439\", \"\\u043f\\u043e\\u0441\\u043c\\u043e\\u0442\\u0440\\u0435\\u0442\\u044c\", \"\\u043f\\u043e\\u0441\\u043c\\u043e\\u0442\\u0440\\u0435\\u0442\\u044c\", \"\\u043f\\u043e\\u0442\\u0435\\u0440\\u044f\\u0442\\u044c\", \"\\u043f\\u043e\\u0445\\u043e\\u0436\\u0438\\u0439\", \"\\u043f\\u043e\\u0445\\u043e\\u0436\\u0438\\u0439\", \"\\u043f\\u0440\\u0430\\u0432\\u0434\\u0430\", \"\\u043f\\u0440\\u0430\\u0432\\u0434\\u0430\", \"\\u043f\\u0440\\u0430\\u0432\\u0434\\u0430\", \"\\u043f\\u0440\\u0430\\u0432\\u0434\\u0430\", \"\\u043f\\u0440\\u0430\\u0432\\u0434\\u0430\", \"\\u043f\\u0440\\u0438\\u0435\\u0445\\u0430\\u0442\\u044c\", \"\\u043f\\u0440\\u0438\\u0435\\u0445\\u0430\\u0442\\u044c\", \"\\u043f\\u0440\\u0438\\u0435\\u0445\\u0430\\u0442\\u044c\", \"\\u043f\\u0440\\u0438\\u0435\\u0445\\u0430\\u0442\\u044c\", \"\\u043f\\u0440\\u0438\\u0439\\u0442\\u0438\", \"\\u043f\\u0440\\u0438\\u0439\\u0442\\u0438\", \"\\u043f\\u0440\\u0438\\u0439\\u0442\\u0438\", \"\\u043f\\u0440\\u0438\\u0439\\u0442\\u0438\", \"\\u043f\\u0440\\u0438\\u0441\\u043d\\u0438\\u0442\\u044c\\u0441\\u044f\", \"\\u043f\\u0440\\u0438\\u0445\\u043e\\u0434\\u0438\\u0442\\u044c\", \"\\u043f\\u0440\\u0438\\u0445\\u043e\\u0434\\u0438\\u0442\\u044c\", \"\\u043f\\u0440\\u0438\\u0445\\u043e\\u0434\\u0438\\u0442\\u044c\", \"\\u043f\\u0440\\u0438\\u0445\\u043e\\u0434\\u0438\\u0442\\u044c\\u0441\\u044f\", \"\\u043f\\u0440\\u043e\\u0431\\u043b\\u0435\\u043c\\u0430\", \"\\u043f\\u0440\\u043e\\u0441\\u043d\\u0443\\u0442\\u044c\\u0441\\u044f\", \"\\u043f\\u0440\\u043e\\u0441\\u043d\\u0443\\u0442\\u044c\\u0441\\u044f\", \"\\u043f\\u0440\\u043e\\u0441\\u043d\\u0443\\u0442\\u044c\\u0441\\u044f\", \"\\u043f\\u0440\\u043e\\u0441\\u043f\\u0430\\u0442\\u044c\", \"\\u043f\\u0440\\u043e\\u0441\\u0442\\u0438\\u0442\\u044c\", \"\\u043f\\u044f\\u0442\\u043d\\u0438\\u0446\\u0430\", \"\\u0440\\u0430\\u0431\\u043e\\u0442\\u0430\", \"\\u0440\\u0430\\u0431\\u043e\\u0442\\u0430\", \"\\u0440\\u0430\\u0437\\u0433\\u043e\\u0432\\u0430\\u0440\\u0438\\u0432\\u0430\\u0442\\u044c\", \"\\u0440\\u0430\\u0437\\u043d\\u044b\\u0439\", \"\\u0440\\u0430\\u0441\\u0441\\u0442\\u0440\\u043e\\u0438\\u0442\\u044c\", \"\\u0441\\u0430\\u043c\\u044b\\u0439\", \"\\u0441\\u0430\\u043c\\u044b\\u0439\", \"\\u0441\\u0430\\u043c\\u044b\\u0439\", \"\\u0441\\u0430\\u043c\\u044b\\u0439\", \"\\u0441\\u0432\\u043e\\u0439\", \"\\u0441\\u0432\\u043e\\u0439\", \"\\u0441\\u0432\\u043e\\u0439\", \"\\u0441\\u0432\\u043e\\u0439\", \"\\u0441\\u0432\\u043e\\u0439\", \"\\u0441\\u0434\\u0430\\u0432\\u0430\\u0442\\u044c\", \"\\u0441\\u0434\\u0430\\u0442\\u044c\", \"\\u0441\\u0435\\u0437\\u043e\\u043d\", \"\\u0441\\u0435\\u0440\\u0434\\u0446\\u0435\", \"\\u0441\\u0435\\u0440\\u0434\\u0446\\u0435\", \"\\u0441\\u0435\\u0440\\u0434\\u0446\\u0435\", \"\\u0441\\u0435\\u0440\\u0438\\u0430\\u043b\", \"\\u0441\\u0435\\u0440\\u0438\\u044f\", \"\\u0441\\u0435\\u0441\\u0441\\u0438\\u044f\", \"\\u0441\\u0438\\u0434\\u0435\\u0442\\u044c\", \"\\u0441\\u0438\\u0434\\u0435\\u0442\\u044c\", \"\\u0441\\u0438\\u0434\\u0435\\u0442\\u044c\", \"\\u0441\\u0438\\u0434\\u0435\\u0442\\u044c\", \"\\u0441\\u0438\\u0434\\u0435\\u0442\\u044c\", \"\\u0441\\u0438\\u043b\\u044c\\u043d\\u043e\", \"\\u0441\\u0438\\u043b\\u044c\\u043d\\u043e\", \"\\u0441\\u0438\\u043b\\u044c\\u043d\\u043e\", \"\\u0441\\u043a\\u043e\\u0440\\u043e\", \"\\u0441\\u043a\\u043e\\u0440\\u044b\\u0439\", \"\\u0441\\u043a\\u0443\\u0447\\u0430\\u0442\\u044c\", \"\\u0441\\u043a\\u0443\\u0447\\u043d\\u043e\", \"\\u0441\\u043b\\u0435\\u0434\\u0443\\u044e\\u0449\\u0438\\u0439\", \"\\u0441\\u043b\\u043e\\u0432\\u043e\", \"\\u0441\\u043b\\u043e\\u0432\\u043e\", \"\\u0441\\u043b\\u043e\\u0432\\u043e\", \"\\u0441\\u043b\\u043e\\u0432\\u043e\", \"\\u0441\\u043b\\u043e\\u0432\\u043e\", \"\\u0441\\u043b\\u0443\\u0447\\u0430\\u0439\", \"\\u0441\\u043b\\u0443\\u0447\\u0438\\u0442\\u044c\\u0441\\u044f\", \"\\u0441\\u043b\\u0443\\u0448\\u0430\\u0442\\u044c\", \"\\u0441\\u043b\\u0443\\u0448\\u0430\\u0442\\u044c\", \"\\u0441\\u043c\\u043e\\u0442\\u0440\\u0435\\u0442\\u044c\", \"\\u0441\\u043c\\u043e\\u0442\\u0440\\u0435\\u0442\\u044c\", \"\\u0441\\u043c\\u043e\\u0442\\u0440\\u0435\\u0442\\u044c\", \"\\u0441\\u043c\\u043e\\u0442\\u0440\\u0435\\u0442\\u044c\", \"\\u0441\\u043c\\u043e\\u0442\\u0440\\u0435\\u0442\\u044c\", \"\\u0441\\u043d\\u0435\\u0433\", \"\\u0441\\u043d\\u0438\\u0442\\u044c\\u0441\\u044f\", \"\\u0441\\u043e\\u0436\\u0430\\u043b\\u0435\\u043d\\u0438\\u0435\", \"\\u0441\\u043e\\u043d\", \"\\u0441\\u043e\\u043d\", \"\\u0441\\u043e\\u043d\", \"\\u0441\\u043e\\u0441\\u043a\\u0443\\u0447\\u0438\\u0442\\u044c\\u0441\\u044f\", \"\\u0441\\u043f\\u0430\\u0442\\u044c\", \"\\u0441\\u043f\\u0430\\u0442\\u044c\", \"\\u0441\\u043f\\u0440\\u043e\\u0441\\u0438\\u0442\\u044c\", \"\\u0441\\u0442\\u0430\\u0440\\u044b\\u0439\", \"\\u0441\\u0442\\u043e\\u0438\\u0442\\u044c\", \"\\u0441\\u0442\\u0440\\u0430\\u0434\\u0430\\u0442\\u044c\", \"\\u0441\\u0442\\u0440\\u0430\\u043d\\u0438\\u0446\\u0430\", \"\\u0441\\u0442\\u044b\\u0434\\u043d\\u043e\", \"\\u0441\\u0442\\u044b\\u0434\\u043d\\u043e\", \"\\u0441\\u0443\\u043a\\u0430\", \"\\u0441\\u0443\\u043a\\u0430\", \"\\u0441\\u0443\\u043a\\u0430\", \"\\u0441\\u0443\\u043a\\u0430\", \"\\u0441\\u0443\\u043a\\u0430\", \"\\u0442\\u0432\\u0438\\u0442\\u0442\\u0435\\u0440\", \"\\u0442\\u0432\\u0438\\u0442\\u0442\\u0435\\u0440\", \"\\u0442\\u0432\\u0438\\u0442\\u0442\\u0435\\u0440\", \"\\u0442\\u0432\\u0438\\u0442\\u0442\\u0435\\u0440\", \"\\u0442\\u0435\\u043b\\u0435\\u0444\\u043e\\u043d\", \"\\u0442\\u0435\\u043b\\u0435\\u0444\\u043e\\u043d\", \"\\u0442\\u0435\\u043c\\u043f\\u0435\\u0440\\u0430\\u0442\\u0443\\u0440\\u0430\", \"\\u0442\\u0440\\u0435\\u043d\\u0438\\u0440\\u043e\\u0432\\u043a\\u0430\", \"\\u0442\\u0443\\u043f\\u043e\\u0439\", \"\\u0442\\u044f\\u0436\\u0435\\u043b\\u043e\", \"\\u0442\\u044f\\u0436\\u0451\\u043b\\u044b\\u0439\", \"\\u0442\\u044f\\u0436\\u0451\\u043b\\u044b\\u0439\", \"\\u0443\\u0432\\u0438\\u0434\\u0435\\u0442\\u044c\", \"\\u0443\\u0432\\u0438\\u0434\\u0435\\u0442\\u044c\", \"\\u0443\\u0432\\u0438\\u0434\\u0435\\u0442\\u044c\", \"\\u0443\\u0432\\u0438\\u0434\\u0435\\u0442\\u044c\", \"\\u0443\\u0432\\u0438\\u0434\\u0435\\u0442\\u044c\", \"\\u0443\\u0435\\u0437\\u0436\\u0430\\u0442\\u044c\", \"\\u0443\\u0436\\u0430\\u0441\", \"\\u0443\\u0436\\u0430\\u0441\\u043d\\u043e\", \"\\u0443\\u043b\\u0438\\u0446\\u0430\", \"\\u0443\\u043f\\u0430\\u0441\\u0442\\u044c\", \"\\u0443\\u0440\\u043e\\u043a\", \"\\u0443\\u0440\\u043e\\u043a\", \"\\u0443\\u0441\\u043d\\u0443\\u0442\\u044c\", \"\\u0443\\u0441\\u043f\\u0435\\u0442\\u044c\", \"\\u0443\\u0441\\u0442\\u0430\\u0442\\u044c\", \"\\u0443\\u0441\\u0442\\u0430\\u0442\\u044c\", \"\\u0443\\u0441\\u0442\\u0430\\u0442\\u044c\", \"\\u0443\\u0442\\u0440\\u043e\", \"\\u0443\\u0442\\u0440\\u043e\\u043c\", \"\\u0443\\u0447\\u0438\\u0442\\u044c\", \"\\u0443\\u0447\\u0438\\u0442\\u044c\", \"\\u0443\\u0447\\u0438\\u0442\\u044c\\u0441\\u044f\", \"\\u0443\\u0447\\u0451\\u0431\\u0430\", \"\\u0444\\u0438\\u0437\\u0438\\u043a\\u0430\", \"\\u0444\\u0438\\u043b\\u044c\\u043c\", \"\\u0444\\u0438\\u043b\\u044c\\u043c\", \"\\u0444\\u0438\\u043b\\u044c\\u043c\", \"\\u0444\\u043e\\u0442\\u043a\\u0430\", \"\\u0444\\u043e\\u0442\\u043a\\u0430\", \"\\u0444\\u043e\\u0442\\u043a\\u0430\", \"\\u0444\\u043e\\u0442\\u043e\", \"\\u0444\\u0443\", \"\\u0445\\u0432\\u0430\\u0442\\u0430\\u0442\\u044c\", \"\\u0445\\u0432\\u0430\\u0442\\u0430\\u0442\\u044c\", \"\\u0445\\u0438\\u043c\\u0438\\u044f\", \"\\u0445\\u043e\\u043b\\u043e\\u0434\\u043d\\u043e\", \"\\u0445\\u043e\\u0440\\u043e\\u0448\\u0438\\u0439\", \"\\u0445\\u043e\\u0440\\u043e\\u0448\\u0438\\u0439\", \"\\u0445\\u043e\\u0440\\u043e\\u0448\\u0438\\u0439\", \"\\u0445\\u043e\\u0440\\u043e\\u0448\\u0438\\u0439\", \"\\u0445\\u043e\\u0440\\u043e\\u0448\\u0438\\u0439\", \"\\u0445\\u043e\\u0442\\u0435\\u0442\\u044c\\u0441\\u044f\", \"\\u0445\\u043e\\u0442\\u0435\\u0442\\u044c\\u0441\\u044f\", \"\\u0445\\u043e\\u0442\\u0435\\u0442\\u044c\\u0441\\u044f\", \"\\u0445\\u043e\\u0442\\u0435\\u0442\\u044c\\u0441\\u044f\", \"\\u0445\\u043e\\u0442\\u0435\\u0442\\u044c\\u0441\\u044f\", \"\\u0446\\u0435\\u043b\\u044b\\u0439\", \"\\u0447\\u0430\\u0441\", \"\\u0447\\u0430\\u0441\", \"\\u0447\\u0435\", \"\\u0447\\u0435\", \"\\u0447\\u0435\", \"\\u0447\\u0435\", \"\\u0447\\u0442\\u043e\\u0442\\u044c\", \"\\u0447\\u0442\\u043e\\u0442\\u044c\", \"\\u0447\\u0442\\u043e\\u0442\\u044c\", \"\\u0447\\u0442\\u043e\\u0442\\u044c\", \"\\u0447\\u0442\\u043e\\u0442\\u044c\", \"\\u0447\\u0443\\u0432\\u0430\\u043a\", \"\\u0447\\u0443\\u0432\\u0441\\u0442\\u0432\\u043e\", \"\\u0447\\u0443\\u0432\\u0441\\u0442\\u0432\\u043e\", \"\\u0447\\u0443\\u0432\\u0441\\u0442\\u0432\\u043e\\u0432\\u0430\\u0442\\u044c\", \"\\u0447\\u0443\\u0432\\u0441\\u0442\\u0432\\u043e\\u0432\\u0430\\u0442\\u044c\", \"\\u0447\\u0443\\u0432\\u0441\\u0442\\u0432\\u043e\\u0432\\u0430\\u0442\\u044c\", \"\\u0447\\u0451\\u0440\\u043d\\u044b\\u0439\", \"\\u0448\\u0435\\u0440\\u043b\\u043e\\u043a\", \"\\u0448\\u043a\\u043e\\u043b\\u0430\", \"\\u0448\\u043a\\u043e\\u043b\\u0430\", \"\\u044d\\u043a\\u0437\\u0430\\u043c\\u0435\\u043d\", \"\\u044d\\u043a\\u0437\\u0430\\u043c\\u0435\\u043d\", \"\\u0451\\u043b\\u043a\\u0430\", \"\\u2014\", \"\\u2014\", \"\\u2014\", \"\\u2014\", \"\\u2014\"]}, \"R\": 30, \"lambda.step\": 0.01, \"plot.opts\": {\"xlab\": \"PC1\", \"ylab\": \"PC2\"}, \"topic.order\": [5, 2, 1, 3, 4]};\n",
              "\n",
              "function LDAvis_load_lib(url, callback){\n",
              "  var s = document.createElement('script');\n",
              "  s.src = url;\n",
              "  s.async = true;\n",
              "  s.onreadystatechange = s.onload = callback;\n",
              "  s.onerror = function(){console.warn(\"failed to load library \" + url);};\n",
              "  document.getElementsByTagName(\"head\")[0].appendChild(s);\n",
              "}\n",
              "\n",
              "if(typeof(LDAvis) !== \"undefined\"){\n",
              "   // already loaded: just create the visualization\n",
              "   !function(LDAvis){\n",
              "       new LDAvis(\"#\" + \"ldavis_el571404444805818407180779716\", ldavis_el571404444805818407180779716_data);\n",
              "   }(LDAvis);\n",
              "}else if(typeof define === \"function\" && define.amd){\n",
              "   // require.js is available: use it to load d3/LDAvis\n",
              "   require.config({paths: {d3: \"https://d3js.org/d3.v5\"}});\n",
              "   require([\"d3\"], function(d3){\n",
              "      window.d3 = d3;\n",
              "      LDAvis_load_lib(\"https://cdn.jsdelivr.net/gh/bmabey/pyLDAvis@3.3.1/pyLDAvis/js/ldavis.v3.0.0.js\", function(){\n",
              "        new LDAvis(\"#\" + \"ldavis_el571404444805818407180779716\", ldavis_el571404444805818407180779716_data);\n",
              "      });\n",
              "    });\n",
              "}else{\n",
              "    // require.js not available: dynamically load d3 & LDAvis\n",
              "    LDAvis_load_lib(\"https://d3js.org/d3.v5.js\", function(){\n",
              "         LDAvis_load_lib(\"https://cdn.jsdelivr.net/gh/bmabey/pyLDAvis@3.3.1/pyLDAvis/js/ldavis.v3.0.0.js\", function(){\n",
              "                 new LDAvis(\"#\" + \"ldavis_el571404444805818407180779716\", ldavis_el571404444805818407180779716_data);\n",
              "            })\n",
              "         });\n",
              "}\n",
              "</script>"
            ]
          },
          "metadata": {},
          "execution_count": 168
        }
      ]
    },
    {
      "cell_type": "markdown",
      "source": [
        "### Интерпретация"
      ],
      "metadata": {
        "id": "0LDQOiPfDyUe"
      }
    },
    {
      "cell_type": "markdown",
      "source": [
        "Видно, что темы разделились очень хорошо: они не пересекаются и находяться на большом растоянии друг от друга. Из этого можно сделать интуитивный вывод, что с реальным числом глобальных тем мы близки, так как если бы их было например меньше, то темы бы сильно пересекались друг с другом.\n",
        "\n",
        "Наведясь на кружок слева, справа можно посмотреть на то, как часто слово используется в данной теме, относительно общего использовния. Так же это характеризует, как сильно слово описывает выбранную тему."
      ],
      "metadata": {
        "id": "fDJuTojDEd-D"
      }
    }
  ]
}