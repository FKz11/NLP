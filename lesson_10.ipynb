{
  "nbformat": 4,
  "nbformat_minor": 0,
  "metadata": {
    "colab": {
      "provenance": [],
      "collapsed_sections": [],
      "authorship_tag": "ABX9TyPAT75SuFjIc/onu6xoWIyw",
      "include_colab_link": true
    },
    "kernelspec": {
      "name": "python3",
      "display_name": "Python 3"
    },
    "language_info": {
      "name": "python"
    },
    "accelerator": "GPU"
  },
  "cells": [
    {
      "cell_type": "markdown",
      "metadata": {
        "id": "view-in-github",
        "colab_type": "text"
      },
      "source": [
        "<a href=\"https://colab.research.google.com/github/FKz11/NLP/blob/main/lesson_10.ipynb\" target=\"_parent\"><img src=\"https://colab.research.google.com/assets/colab-badge.svg\" alt=\"Open In Colab\"/></a>"
      ]
    },
    {
      "cell_type": "markdown",
      "source": [
        "# Lesson-10"
      ],
      "metadata": {
        "id": "eMNGIPJDMa1w"
      }
    },
    {
      "cell_type": "markdown",
      "metadata": {
        "id": "J0Qjg6vuaHNt"
      },
      "source": [
        "# Neural machine translation"
      ]
    },
    {
      "cell_type": "code",
      "metadata": {
        "id": "tnxXKDjq3jEL"
      },
      "source": [
        "import tensorflow as tf\n",
        "\n",
        "import matplotlib.pyplot as plt\n",
        "import matplotlib.ticker as ticker\n",
        "from sklearn.model_selection import train_test_split\n",
        "\n",
        "import unicodedata\n",
        "import re\n",
        "import numpy as np\n",
        "import os\n",
        "import io\n",
        "import time"
      ],
      "execution_count": 1,
      "outputs": []
    },
    {
      "cell_type": "markdown",
      "metadata": {
        "id": "wfodePkj3jEa"
      },
      "source": [
        "## Download and prepare the dataset\n",
        "\n",
        "We'll use a language dataset provided by http://www.manythings.org/anki/"
      ]
    },
    {
      "cell_type": "code",
      "metadata": {
        "id": "CNvjhDyAKk3U",
        "colab": {
          "base_uri": "https://localhost:8080/"
        },
        "outputId": "13bd2941-fc90-47ca-c6fa-3f7e4763896e"
      },
      "source": [
        "!wget http://www.manythings.org/anki/rus-eng.zip"
      ],
      "execution_count": 2,
      "outputs": [
        {
          "output_type": "stream",
          "name": "stdout",
          "text": [
            "--2022-09-22 16:38:33--  http://www.manythings.org/anki/rus-eng.zip\n",
            "Resolving www.manythings.org (www.manythings.org)... 173.254.30.110\n",
            "Connecting to www.manythings.org (www.manythings.org)|173.254.30.110|:80... connected.\n",
            "HTTP request sent, awaiting response... 200 OK\n",
            "Length: 15011848 (14M) [application/zip]\n",
            "Saving to: ‘rus-eng.zip’\n",
            "\n",
            "rus-eng.zip         100%[===================>]  14.32M  5.89MB/s    in 2.4s    \n",
            "\n",
            "2022-09-22 16:38:36 (5.89 MB/s) - ‘rus-eng.zip’ saved [15011848/15011848]\n",
            "\n"
          ]
        }
      ]
    },
    {
      "cell_type": "code",
      "metadata": {
        "id": "83bg17Lr-7XK",
        "colab": {
          "base_uri": "https://localhost:8080/"
        },
        "outputId": "7ac65989-a4ae-4979-c5f2-bdea6bd3361a"
      },
      "source": [
        "!mkdir rus-eng\n",
        "!unzip rus-eng.zip -d rus-eng/"
      ],
      "execution_count": 3,
      "outputs": [
        {
          "output_type": "stream",
          "name": "stdout",
          "text": [
            "Archive:  rus-eng.zip\n",
            "  inflating: rus-eng/rus.txt         \n",
            "  inflating: rus-eng/_about.txt      \n"
          ]
        }
      ]
    },
    {
      "cell_type": "code",
      "metadata": {
        "id": "7o5L92efMMhf",
        "colab": {
          "base_uri": "https://localhost:8080/"
        },
        "outputId": "701e6432-0a4b-46d2-b4d0-0d644f571d5d"
      },
      "source": [
        "!ls /content/rus-eng/ -lah"
      ],
      "execution_count": 4,
      "outputs": [
        {
          "output_type": "stream",
          "name": "stdout",
          "text": [
            "total 72M\n",
            "drwxr-xr-x 2 root root 4.0K Sep 22 16:38 .\n",
            "drwxr-xr-x 1 root root 4.0K Sep 22 16:38 ..\n",
            "-rw-r--r-- 1 root root 1.5K Sep  6 03:10 _about.txt\n",
            "-rw-r--r-- 1 root root  72M Sep  6 03:10 rus.txt\n"
          ]
        }
      ]
    },
    {
      "cell_type": "code",
      "metadata": {
        "id": "kRVATYOgJs1b"
      },
      "source": [
        "# Download the file\n",
        "path_to_file = \"/content/rus-eng/rus.txt\""
      ],
      "execution_count": 5,
      "outputs": []
    },
    {
      "cell_type": "code",
      "metadata": {
        "id": "rd0jw-eC3jEh"
      },
      "source": [
        "def preprocess_sentence(w):\n",
        "  w = w.lower().strip()\n",
        "\n",
        "  # creating a space between a word and the punctuation following it\n",
        "  # eg: \"he is a boy.\" => \"he is a boy .\"\n",
        "  # Reference:- https://stackoverflow.com/questions/3645931/python-padding-punctuation-with-white-spaces-keeping-punctuation\n",
        "  w = re.sub(r\"([?.!,])\", r\" \\1 \", w)\n",
        "  w = re.sub(r'[\" \"]+', \" \", w)\n",
        "\n",
        "  # replacing everything with space except (a-z, A-Z, \".\", \"?\", \"!\", \",\")\n",
        "  w = re.sub(r\"[^a-zA-Zа-яА-Я?.!,']+\", \" \", w)\n",
        "\n",
        "  w = w.strip()\n",
        "\n",
        "  # adding a start and an end token to the sentence\n",
        "  # so that the model know when to start and stop predicting.\n",
        "  w = '<start> ' + w + ' <end>'\n",
        "  return w"
      ],
      "execution_count": 6,
      "outputs": []
    },
    {
      "cell_type": "code",
      "metadata": {
        "id": "yV9lZXQXNbnH",
        "colab": {
          "base_uri": "https://localhost:8080/",
          "height": 36
        },
        "outputId": "59de3352-0bff-4bf6-e22d-265403f7a130"
      },
      "source": [
        "preprocess_sentence(\"I can't go.\")"
      ],
      "execution_count": 7,
      "outputs": [
        {
          "output_type": "execute_result",
          "data": {
            "text/plain": [
              "\"<start> i can't go . <end>\""
            ],
            "application/vnd.google.colaboratory.intrinsic+json": {
              "type": "string"
            }
          },
          "metadata": {},
          "execution_count": 7
        }
      ]
    },
    {
      "cell_type": "code",
      "metadata": {
        "id": "OHn4Dct23jEm"
      },
      "source": [
        "# 1. Remove the accents\n",
        "# 2. Clean the sentences\n",
        "# 3. Return word pairs in the format: [ENG, RUS]\n",
        "def create_dataset(path, num_examples):\n",
        "  lines = io.open(path, encoding='UTF-8').read().strip().split('\\n')\n",
        "\n",
        "  word_pairs = [[preprocess_sentence(w) for w in l.split('\\t')[:2]]  for l in lines[:num_examples]]\n",
        "\n",
        "  return zip(*word_pairs)"
      ],
      "execution_count": 8,
      "outputs": []
    },
    {
      "cell_type": "code",
      "metadata": {
        "id": "cTbSbBz55QtF",
        "colab": {
          "base_uri": "https://localhost:8080/"
        },
        "outputId": "7252dbd8-8b6a-4e53-e8bb-8eb4019e9862"
      },
      "source": [
        "en, ru = create_dataset(path_to_file, None)\n",
        "print(en[0])\n",
        "print(ru[0])"
      ],
      "execution_count": 9,
      "outputs": [
        {
          "output_type": "stream",
          "name": "stdout",
          "text": [
            "<start> go . <end>\n",
            "<start> марш ! <end>\n"
          ]
        }
      ]
    },
    {
      "cell_type": "code",
      "metadata": {
        "id": "bIOn8RCNDJXG"
      },
      "source": [
        "def tokenize(lang):\n",
        "  lang_tokenizer = tf.keras.preprocessing.text.Tokenizer(\n",
        "      filters='')\n",
        "  lang_tokenizer.fit_on_texts(lang)\n",
        "\n",
        "  tensor = lang_tokenizer.texts_to_sequences(lang)\n",
        "\n",
        "  tensor = tf.keras.preprocessing.sequence.pad_sequences(tensor,\n",
        "                                                         padding='post')\n",
        "\n",
        "  return tensor, lang_tokenizer"
      ],
      "execution_count": 10,
      "outputs": []
    },
    {
      "cell_type": "code",
      "metadata": {
        "id": "eAY9k49G3jE_"
      },
      "source": [
        "def load_dataset(path, num_examples=None):\n",
        "  # creating cleaned input, output pairs\n",
        "  targ_lang, inp_lang = create_dataset(path, num_examples)\n",
        "\n",
        "  input_tensor, inp_lang_tokenizer = tokenize(inp_lang)\n",
        "  target_tensor, targ_lang_tokenizer = tokenize(targ_lang)\n",
        "\n",
        "  return input_tensor, target_tensor, inp_lang_tokenizer, targ_lang_tokenizer"
      ],
      "execution_count": 11,
      "outputs": []
    },
    {
      "cell_type": "markdown",
      "metadata": {
        "id": "GOi42V79Ydlr"
      },
      "source": [
        "### Limit the size of the dataset to experiment faster (optional)\n"
      ]
    },
    {
      "cell_type": "code",
      "metadata": {
        "id": "C8j9g9AnIeZV",
        "colab": {
          "base_uri": "https://localhost:8080/"
        },
        "outputId": "63183a48-3ec7-4b35-dc71-3a4ebb26e8a7"
      },
      "source": [
        "len(en), len(ru)"
      ],
      "execution_count": 12,
      "outputs": [
        {
          "output_type": "execute_result",
          "data": {
            "text/plain": [
              "(451436, 451436)"
            ]
          },
          "metadata": {},
          "execution_count": 12
        }
      ]
    },
    {
      "cell_type": "code",
      "metadata": {
        "id": "cnxC7q-j3jFD"
      },
      "source": [
        "# Try experimenting with the size of that dataset\n",
        "num_examples = 100000\n",
        "input_tensor, target_tensor, inp_lang, targ_lang = load_dataset(path_to_file, num_examples)\n",
        "\n",
        "# Calculate max_length of the target tensors\n",
        "max_length_targ, max_length_inp = target_tensor.shape[1], input_tensor.shape[1]"
      ],
      "execution_count": 13,
      "outputs": []
    },
    {
      "cell_type": "code",
      "metadata": {
        "id": "4QILQkOs3jFG",
        "colab": {
          "base_uri": "https://localhost:8080/"
        },
        "outputId": "dfdc41c6-a3ff-486c-eef4-b37b387e3a5a"
      },
      "source": [
        "# Creating training and validation sets using an 80-20 split\n",
        "input_tensor_train, input_tensor_val, target_tensor_train, target_tensor_val = train_test_split(input_tensor, target_tensor, test_size=0.2)\n",
        "\n",
        "# Show length\n",
        "print(len(input_tensor_train), len(target_tensor_train), len(input_tensor_val), len(target_tensor_val))"
      ],
      "execution_count": 14,
      "outputs": [
        {
          "output_type": "stream",
          "name": "stdout",
          "text": [
            "80000 80000 20000 20000\n"
          ]
        }
      ]
    },
    {
      "cell_type": "code",
      "metadata": {
        "id": "lJPmLZGMeD5q"
      },
      "source": [
        "def convert(lang, tensor):\n",
        "  for t in tensor:\n",
        "    if t!=0:\n",
        "      print (\"%d ----> %s\" % (t, lang.index_word[t]))"
      ],
      "execution_count": 15,
      "outputs": []
    },
    {
      "cell_type": "code",
      "metadata": {
        "id": "VXukARTDd7MT",
        "colab": {
          "base_uri": "https://localhost:8080/"
        },
        "outputId": "b1d5ee68-36e3-4ffc-c849-03953de47ba0"
      },
      "source": [
        "print (\"Input Language; index to word mapping\")\n",
        "convert(inp_lang, input_tensor_train[0])\n",
        "print ()\n",
        "print (\"Target Language; index to word mapping\")\n",
        "convert(targ_lang, target_tensor_train[0])"
      ],
      "execution_count": 16,
      "outputs": [
        {
          "output_type": "stream",
          "name": "stdout",
          "text": [
            "Input Language; index to word mapping\n",
            "1 ----> <start>\n",
            "10 ----> ты\n",
            "299 ----> хорошая\n",
            "3 ----> .\n",
            "2 ----> <end>\n",
            "\n",
            "Target Language; index to word mapping\n",
            "1 ----> <start>\n",
            "28 ----> you're\n",
            "92 ----> good\n",
            "3 ----> .\n",
            "2 ----> <end>\n"
          ]
        }
      ]
    },
    {
      "cell_type": "markdown",
      "metadata": {
        "id": "rgCLkfv5uO3d"
      },
      "source": [
        "### Create a tf.data dataset"
      ]
    },
    {
      "cell_type": "code",
      "metadata": {
        "id": "TqHsArVZ3jFS"
      },
      "source": [
        "BUFFER_SIZE = len(input_tensor_train)\n",
        "BATCH_SIZE = 64\n",
        "steps_per_epoch = len(input_tensor_train)//BATCH_SIZE\n",
        "embedding_dim = 300\n",
        "units = 1024\n",
        "vocab_inp_size = len(inp_lang.word_index)+1\n",
        "vocab_tar_size = len(targ_lang.word_index)+1\n",
        "\n",
        "dataset = tf.data.Dataset.from_tensor_slices((input_tensor_train, target_tensor_train)).shuffle(BUFFER_SIZE)\n",
        "dataset = dataset.batch(BATCH_SIZE, drop_remainder=True)"
      ],
      "execution_count": 17,
      "outputs": []
    },
    {
      "cell_type": "code",
      "metadata": {
        "id": "qc6-NK1GtWQt",
        "colab": {
          "base_uri": "https://localhost:8080/"
        },
        "outputId": "c5ea16e7-884f-4dd0-8410-9e6568955061"
      },
      "source": [
        "example_input_batch, example_target_batch = next(iter(dataset))\n",
        "example_input_batch.shape, example_target_batch.shape"
      ],
      "execution_count": 18,
      "outputs": [
        {
          "output_type": "execute_result",
          "data": {
            "text/plain": [
              "(TensorShape([64, 15]), TensorShape([64, 11]))"
            ]
          },
          "metadata": {},
          "execution_count": 18
        }
      ]
    },
    {
      "cell_type": "code",
      "metadata": {
        "id": "nZ2rI24i3jFg"
      },
      "source": [
        "class Encoder(tf.keras.Model):\n",
        "  def __init__(self, vocab_size, embedding_dim, enc_units, batch_sz):\n",
        "    super(Encoder, self).__init__()\n",
        "    self.batch_sz = batch_sz\n",
        "    self.enc_units = enc_units\n",
        "    self.embedding = tf.keras.layers.Embedding(vocab_size, embedding_dim)\n",
        "    self.gru = tf.keras.layers.GRU(self.enc_units,\n",
        "                                   return_sequences=False,\n",
        "                                   return_state=True,\n",
        "                                   recurrent_initializer='glorot_uniform')\n",
        "    \n",
        "\n",
        "  def call(self, x, hidden):\n",
        "    x = self.embedding(x)\n",
        "    output, state = self.gru(x, initial_state = hidden)\n",
        "    return state\n",
        "\n",
        "  def initialize_hidden_state(self):\n",
        "    return tf.zeros((self.batch_sz, self.enc_units))"
      ],
      "execution_count": 19,
      "outputs": []
    },
    {
      "cell_type": "code",
      "metadata": {
        "id": "60gSVh05Jl6l",
        "colab": {
          "base_uri": "https://localhost:8080/"
        },
        "outputId": "8606ea04-3dfe-4be8-da29-ec7035fc9aa6"
      },
      "source": [
        "encoder = Encoder(vocab_inp_size, embedding_dim, units, BATCH_SIZE)\n",
        "\n",
        "# sample input\n",
        "sample_hidden = encoder.initialize_hidden_state()\n",
        "sample_hidden = encoder(example_input_batch, sample_hidden)\n",
        "# print ('Encoder output shape: (batch size, sequence length, units) {}'.format(sample_output.shape))\n",
        "print ('Encoder Hidden state shape: (batch size, units) {}'.format(sample_hidden.shape))"
      ],
      "execution_count": 20,
      "outputs": [
        {
          "output_type": "stream",
          "name": "stdout",
          "text": [
            "Encoder Hidden state shape: (batch size, units) (64, 1024)\n"
          ]
        }
      ]
    },
    {
      "cell_type": "code",
      "metadata": {
        "id": "yJ_B3mhW3jFk"
      },
      "source": [
        "class Decoder(tf.keras.Model):\n",
        "  def __init__(self, vocab_size, embedding_dim, dec_units, batch_sz):\n",
        "    super(Decoder, self).__init__()\n",
        "    self.batch_sz = batch_sz\n",
        "    self.dec_units = dec_units\n",
        "    self.embedding = tf.keras.layers.Embedding(vocab_size, embedding_dim)\n",
        "    self.gru = tf.keras.layers.GRU(self.dec_units,\n",
        "                                   return_sequences=True,\n",
        "                                   return_state=True,\n",
        "                                   recurrent_initializer='glorot_uniform')\n",
        "    self.fc = tf.keras.layers.Dense(vocab_size)\n",
        "\n",
        "  def call(self, x, hidden):\n",
        "    # enc_output shape == (batch_size, max_length, hidden_size)\n",
        "\n",
        "    # x shape after passing through embedding == (batch_size, 1, embedding_dim)\n",
        "    x = self.embedding(x)\n",
        "\n",
        "    # x shape after concatenation == (batch_size, 1, embedding_dim + hidden_size)\n",
        "\n",
        "    # passing the concatenated vector to the GRU\n",
        "    output, state = self.gru(x, initial_state=hidden)\n",
        "\n",
        "    # output shape == (batch_size * 1, hidden_size)\n",
        "    output = tf.reshape(output, (-1, output.shape[2]))\n",
        "\n",
        "    # output shape == (batch_size, vocab)\n",
        "    x = self.fc(output)\n",
        "\n",
        "    return x, state"
      ],
      "execution_count": 21,
      "outputs": []
    },
    {
      "cell_type": "code",
      "metadata": {
        "id": "P5UY8wko3jFp"
      },
      "source": [
        "decoder = Decoder(vocab_tar_size, embedding_dim, units, BATCH_SIZE)\n",
        "\n",
        "decoder_sample_x, decoder_sample_h = decoder(tf.random.uniform((BATCH_SIZE, 1)),\n",
        "                                      sample_hidden)\n",
        "\n"
      ],
      "execution_count": 22,
      "outputs": []
    },
    {
      "cell_type": "code",
      "metadata": {
        "colab": {
          "base_uri": "https://localhost:8080/"
        },
        "id": "XKcypC0AGeLR",
        "outputId": "b9bbe47c-f682-4902-b186-442527bcb5db"
      },
      "source": [
        "decoder_sample_x.shape"
      ],
      "execution_count": 23,
      "outputs": [
        {
          "output_type": "execute_result",
          "data": {
            "text/plain": [
              "TensorShape([64, 7335])"
            ]
          },
          "metadata": {},
          "execution_count": 23
        }
      ]
    },
    {
      "cell_type": "code",
      "metadata": {
        "id": "6y0HF-zMF_vp",
        "colab": {
          "base_uri": "https://localhost:8080/"
        },
        "outputId": "ccaeed92-42d6-4bd3-a0de-d7b6d682aed8"
      },
      "source": [
        "decoder_sample_h.shape"
      ],
      "execution_count": 24,
      "outputs": [
        {
          "output_type": "execute_result",
          "data": {
            "text/plain": [
              "TensorShape([64, 1024])"
            ]
          },
          "metadata": {},
          "execution_count": 24
        }
      ]
    },
    {
      "cell_type": "markdown",
      "metadata": {
        "id": "_ch_71VbIRfK"
      },
      "source": [
        "## Define the optimizer and the loss function"
      ]
    },
    {
      "cell_type": "code",
      "metadata": {
        "id": "WmTHr5iV3jFr"
      },
      "source": [
        "optimizer = tf.keras.optimizers.Adam()\n",
        "\n",
        "loss_object = tf.keras.losses.SparseCategoricalCrossentropy(\n",
        "    from_logits=True, reduction='none')\n",
        "\n",
        "def loss_function(real, pred):\n",
        "  mask = tf.math.logical_not(tf.math.equal(real, 0))\n",
        "  loss_ = loss_object(real, pred)\n",
        "\n",
        "  mask = tf.cast(mask, dtype=loss_.dtype)\n",
        "  loss_ *= mask\n",
        "\n",
        "  return tf.reduce_mean(loss_)"
      ],
      "execution_count": 25,
      "outputs": []
    },
    {
      "cell_type": "markdown",
      "metadata": {
        "id": "DMVWzzsfNl4e"
      },
      "source": [
        "## Checkpoints (Object-based saving)"
      ]
    },
    {
      "cell_type": "code",
      "metadata": {
        "id": "Zj8bXQTgNwrF"
      },
      "source": [
        "checkpoint_dir = './training_nmt_checkpoints'\n",
        "\n",
        "checkpoint_prefix = os.path.join(checkpoint_dir, \"ckpt\")\n",
        "\n",
        "checkpoint = tf.train.Checkpoint(optimizer=optimizer,\n",
        "                                 encoder=encoder,\n",
        "                                 decoder=decoder)"
      ],
      "execution_count": 26,
      "outputs": []
    },
    {
      "cell_type": "code",
      "metadata": {
        "id": "sC9ArXSsVfqn"
      },
      "source": [
        "@tf.function\n",
        "def train_step(inp, targ, enc_hidden):\n",
        "  loss = 0\n",
        "\n",
        "  with tf.GradientTape() as tape:\n",
        "    enc_hidden = encoder(inp, enc_hidden)\n",
        "\n",
        "    dec_hidden = enc_hidden\n",
        "\n",
        "    dec_input = tf.expand_dims([targ_lang.word_index['<start>']] * BATCH_SIZE, 1)\n",
        "\n",
        "    # Teacher forcing - feeding the target as the next input\n",
        "    for t in range(1, targ.shape[1]):\n",
        "      # passing enc_output to the decoder\n",
        "      predictions, dec_hidden = decoder(dec_input, dec_hidden)\n",
        "\n",
        "      loss += loss_function(targ[:, t], predictions)\n",
        "\n",
        "      # using teacher forcing\n",
        "      dec_input = tf.expand_dims(targ[:, t], 1)\n",
        "\n",
        "  batch_loss = (loss / int(targ.shape[1]))\n",
        "\n",
        "  variables = encoder.trainable_variables + decoder.trainable_variables\n",
        "\n",
        "  gradients = tape.gradient(loss, variables)\n",
        "\n",
        "  optimizer.apply_gradients(zip(gradients, variables))\n",
        "\n",
        "  return batch_loss"
      ],
      "execution_count": 27,
      "outputs": []
    },
    {
      "cell_type": "code",
      "metadata": {
        "id": "ddefjBMa3jF0",
        "colab": {
          "base_uri": "https://localhost:8080/"
        },
        "outputId": "9b939d96-dded-4e28-ad86-19d9402a12fe"
      },
      "source": [
        "EPOCHS = 5\n",
        "\n",
        "for epoch in range(EPOCHS):\n",
        "  start = time.time()\n",
        "\n",
        "  enc_hidden = encoder.initialize_hidden_state()\n",
        "  total_loss = 0\n",
        "\n",
        "  for (batch, (inp, targ)) in enumerate(dataset.take(steps_per_epoch)):\n",
        "    batch_loss = train_step(inp, targ, enc_hidden)\n",
        "    total_loss += batch_loss\n",
        "\n",
        "    if batch % 100 == 0:\n",
        "      print('Epoch {} Batch {} Loss {:.4f}'.format(epoch + 1,\n",
        "                                                   batch,\n",
        "                                                   batch_loss.numpy()))\n",
        "  # saving (checkpoint) the model every 2 epochs\n",
        "  if (epoch + 1) % 2 == 0:\n",
        "    checkpoint.save(file_prefix = checkpoint_prefix)\n",
        "\n",
        "  print('Epoch {} Loss {:.4f}'.format(epoch + 1,\n",
        "                                      total_loss / steps_per_epoch))\n",
        "  print('Time taken for 1 epoch {} sec\\n'.format(time.time() - start))"
      ],
      "execution_count": 28,
      "outputs": [
        {
          "output_type": "stream",
          "name": "stdout",
          "text": [
            "Epoch 1 Batch 0 Loss 4.8042\n",
            "Epoch 1 Batch 100 Loss 1.9654\n",
            "Epoch 1 Batch 200 Loss 1.7689\n",
            "Epoch 1 Batch 300 Loss 1.6321\n",
            "Epoch 1 Batch 400 Loss 1.4608\n",
            "Epoch 1 Batch 500 Loss 1.3060\n",
            "Epoch 1 Batch 600 Loss 1.2987\n",
            "Epoch 1 Batch 700 Loss 1.2999\n",
            "Epoch 1 Batch 800 Loss 1.2044\n",
            "Epoch 1 Batch 900 Loss 1.0311\n",
            "Epoch 1 Batch 1000 Loss 0.9943\n",
            "Epoch 1 Batch 1100 Loss 0.8988\n",
            "Epoch 1 Batch 1200 Loss 0.9462\n",
            "Epoch 1 Loss 1.3956\n",
            "Time taken for 1 epoch 70.89350533485413 sec\n",
            "\n",
            "Epoch 2 Batch 0 Loss 0.8698\n",
            "Epoch 2 Batch 100 Loss 0.8122\n",
            "Epoch 2 Batch 200 Loss 0.8385\n",
            "Epoch 2 Batch 300 Loss 0.8135\n",
            "Epoch 2 Batch 400 Loss 0.6829\n",
            "Epoch 2 Batch 500 Loss 0.7531\n",
            "Epoch 2 Batch 600 Loss 0.7334\n",
            "Epoch 2 Batch 700 Loss 0.7128\n",
            "Epoch 2 Batch 800 Loss 0.6412\n",
            "Epoch 2 Batch 900 Loss 0.5582\n",
            "Epoch 2 Batch 1000 Loss 0.6456\n",
            "Epoch 2 Batch 1100 Loss 0.5755\n",
            "Epoch 2 Batch 1200 Loss 0.5689\n",
            "Epoch 2 Loss 0.7019\n",
            "Time taken for 1 epoch 59.35044240951538 sec\n",
            "\n",
            "Epoch 3 Batch 0 Loss 0.4724\n",
            "Epoch 3 Batch 100 Loss 0.3834\n",
            "Epoch 3 Batch 200 Loss 0.4362\n",
            "Epoch 3 Batch 300 Loss 0.4089\n",
            "Epoch 3 Batch 400 Loss 0.3049\n",
            "Epoch 3 Batch 500 Loss 0.4815\n",
            "Epoch 3 Batch 600 Loss 0.3443\n",
            "Epoch 3 Batch 700 Loss 0.3712\n",
            "Epoch 3 Batch 800 Loss 0.3766\n",
            "Epoch 3 Batch 900 Loss 0.3987\n",
            "Epoch 3 Batch 1000 Loss 0.3537\n",
            "Epoch 3 Batch 1100 Loss 0.3116\n",
            "Epoch 3 Batch 1200 Loss 0.4829\n",
            "Epoch 3 Loss 0.3882\n",
            "Time taken for 1 epoch 58.608928203582764 sec\n",
            "\n",
            "Epoch 4 Batch 0 Loss 0.2564\n",
            "Epoch 4 Batch 100 Loss 0.2761\n",
            "Epoch 4 Batch 200 Loss 0.2208\n",
            "Epoch 4 Batch 300 Loss 0.2799\n",
            "Epoch 4 Batch 400 Loss 0.2487\n",
            "Epoch 4 Batch 500 Loss 0.2501\n",
            "Epoch 4 Batch 600 Loss 0.2747\n",
            "Epoch 4 Batch 700 Loss 0.2559\n",
            "Epoch 4 Batch 800 Loss 0.2375\n",
            "Epoch 4 Batch 900 Loss 0.2302\n",
            "Epoch 4 Batch 1000 Loss 0.2241\n",
            "Epoch 4 Batch 1100 Loss 0.2588\n",
            "Epoch 4 Batch 1200 Loss 0.2531\n",
            "Epoch 4 Loss 0.2343\n",
            "Time taken for 1 epoch 59.434921741485596 sec\n",
            "\n",
            "Epoch 5 Batch 0 Loss 0.1373\n",
            "Epoch 5 Batch 100 Loss 0.1477\n",
            "Epoch 5 Batch 200 Loss 0.1541\n",
            "Epoch 5 Batch 300 Loss 0.1441\n",
            "Epoch 5 Batch 400 Loss 0.1384\n",
            "Epoch 5 Batch 500 Loss 0.1376\n",
            "Epoch 5 Batch 600 Loss 0.1839\n",
            "Epoch 5 Batch 700 Loss 0.1668\n",
            "Epoch 5 Batch 800 Loss 0.1407\n",
            "Epoch 5 Batch 900 Loss 0.1723\n",
            "Epoch 5 Batch 1000 Loss 0.2079\n",
            "Epoch 5 Batch 1100 Loss 0.1757\n",
            "Epoch 5 Batch 1200 Loss 0.1951\n",
            "Epoch 5 Loss 0.1596\n",
            "Time taken for 1 epoch 58.274688482284546 sec\n",
            "\n"
          ]
        }
      ]
    },
    {
      "cell_type": "markdown",
      "metadata": {
        "id": "mU3Ce8M6I3rz"
      },
      "source": [
        "## Translate\n",
        "\n",
        "* The evaluate function is similar to the training loop, except we don't use *teacher forcing* here. The input to the decoder at each time step is its previous predictions along with the hidden state and the encoder output.\n",
        "* Stop predicting when the model predicts the *end token*.\n",
        "* And store the *attention weights for every time step*.\n",
        "\n",
        "Note: The encoder output is calculated only once for one input."
      ]
    },
    {
      "cell_type": "code",
      "metadata": {
        "id": "EbQpyYs13jF_"
      },
      "source": [
        "def evaluate(sentence):\n",
        "  attention_plot = np.zeros((max_length_targ, max_length_inp))\n",
        "\n",
        "  sentence = preprocess_sentence(sentence)\n",
        "\n",
        "  inputs = [inp_lang.word_index[i] for i in sentence.split(' ')]\n",
        "  inputs = tf.keras.preprocessing.sequence.pad_sequences([inputs],\n",
        "                                                         maxlen=max_length_inp,\n",
        "                                                         padding='post')\n",
        "  inputs = tf.convert_to_tensor(inputs)\n",
        "\n",
        "  result = ''\n",
        "\n",
        "  hidden = [tf.zeros((1, units))]\n",
        "  enc_hidden = encoder(inputs, hidden)\n",
        "\n",
        "  dec_hidden = enc_hidden\n",
        "  dec_input = tf.expand_dims([targ_lang.word_index['<start>']], 0)\n",
        "\n",
        "  for t in range(max_length_targ):\n",
        "    predictions, dec_hidden = decoder(dec_input, dec_hidden)\n",
        "\n",
        "    # storing the attention weights to plot later on\n",
        "    predicted_id = tf.argmax(predictions[0]).numpy()\n",
        "    result += targ_lang.index_word[predicted_id] + ' '\n",
        "\n",
        "    if targ_lang.index_word[predicted_id] == '<end>':\n",
        "      return result, sentence\n",
        "\n",
        "    # the predicted ID is fed back into the model\n",
        "    dec_input = tf.expand_dims([predicted_id], 0)\n",
        "\n",
        "  return result, sentence"
      ],
      "execution_count": 29,
      "outputs": []
    },
    {
      "cell_type": "code",
      "metadata": {
        "id": "sl9zUHzg3jGI"
      },
      "source": [
        "def translate(sentence):\n",
        "  result, sentence = evaluate(sentence)\n",
        "\n",
        "  print('Input: %s' % (sentence))\n",
        "  print('Predicted translation: {}'.format(result))\n",
        "  return result"
      ],
      "execution_count": 30,
      "outputs": []
    },
    {
      "cell_type": "markdown",
      "metadata": {
        "id": "n250XbnjOaqP"
      },
      "source": [
        "## Restore the latest checkpoint and test"
      ]
    },
    {
      "cell_type": "code",
      "metadata": {
        "id": "UJpT9D5_OgP6",
        "colab": {
          "base_uri": "https://localhost:8080/"
        },
        "outputId": "124c70d3-de71-478e-a822-954bac0c0b80"
      },
      "source": [
        "# restoring the latest checkpoint in checkpoint_dir\n",
        "checkpoint.restore(tf.train.latest_checkpoint(checkpoint_dir))"
      ],
      "execution_count": 31,
      "outputs": [
        {
          "output_type": "execute_result",
          "data": {
            "text/plain": [
              "<tensorflow.python.training.tracking.util.CheckpointLoadStatus at 0x7fc667c8d610>"
            ]
          },
          "metadata": {},
          "execution_count": 31
        }
      ]
    },
    {
      "cell_type": "markdown",
      "source": [
        "## Test"
      ],
      "metadata": {
        "id": "ug4eOpRnADym"
      }
    },
    {
      "cell_type": "code",
      "source": [
        "test = [('Yesterday we were in the park.', 'Вчера мы были в парке.'),\n",
        "('Our team won.', 'Наша команда выиграла.'),\n",
        "('I bought а new computer.', 'Я купил новый компьютер.'),\n",
        "('Yesterday we played football.', 'Вчера мы играли в футбол.'),\n",
        "('Nobody saw animals.', 'Никто не видел животных.'),\n",
        "('The children sang songs.', 'Дети пели песню.'),\n",
        "('The angry dog bit a small girl in the street.', 'Злая собака укусила девочку на улице.'),\n",
        "('Who went to the cinema  yesterday?', 'Кто ходил вчера в кино?'),\n",
        "(\"He came to school at 8 o'clock.\", 'Он пришёл в школу в 8 часов.'),\n",
        "('Spring is the season succeeding Winter and preceding Summer.', 'Весна - это сезон, следующий за Зимой и перед летом.'),\n",
        "('I have to go to the university now but I will come back soon.', 'Я должен пойти сейчас в университет, но я скоро вернусь.'),\n",
        "(\"Yesterday at school somebody stole the money from my friend's bag.\", 'Вчера в школе кто-то украл деньги из сумки моей подруги.')]"
      ],
      "metadata": {
        "id": "wioFNLlGxxCT"
      },
      "execution_count": 32,
      "outputs": []
    },
    {
      "cell_type": "code",
      "source": [
        "nmt_pred = []\n",
        "for i in test:\n",
        "  nmt_pred.append(translate(i[1]))\n",
        "  print('True translation: {}'.format(i[0]))\n",
        "  print()"
      ],
      "metadata": {
        "colab": {
          "base_uri": "https://localhost:8080/"
        },
        "id": "qtj08ySwz4TA",
        "outputId": "dfa501c9-46de-4844-dbf7-be70644a472c"
      },
      "execution_count": 33,
      "outputs": [
        {
          "output_type": "stream",
          "name": "stdout",
          "text": [
            "Input: <start> вчера мы были в парке . <end>\n",
            "Predicted translation: we were all first . <end> \n",
            "True translation: Yesterday we were in the park.\n",
            "\n",
            "Input: <start> наша команда выиграла . <end>\n",
            "Predicted translation: our team won to win . <end> \n",
            "True translation: Our team won.\n",
            "\n",
            "Input: <start> я купил новый компьютер . <end>\n",
            "Predicted translation: i bought a new hat . <end> \n",
            "True translation: I bought а new computer.\n",
            "\n",
            "Input: <start> вчера мы играли в футбол . <end>\n",
            "Predicted translation: we were playing then . <end> \n",
            "True translation: Yesterday we played football.\n",
            "\n",
            "Input: <start> никто не видел животных . <end>\n",
            "Predicted translation: no one saw a ghost . <end> \n",
            "True translation: Nobody saw animals.\n",
            "\n",
            "Input: <start> дети пели песню . <end>\n",
            "Predicted translation: children need french . <end> \n",
            "True translation: The children sang songs.\n",
            "\n",
            "Input: <start> злая собака укусила девочку на улице . <end>\n",
            "Predicted translation: dad coat a dog . <end> \n",
            "True translation: The angry dog bit a small girl in the street.\n",
            "\n",
            "Input: <start> кто ходил вчера в кино ? <end>\n",
            "Predicted translation: who went yesterday ? <end> \n",
            "True translation: Who went to the cinema  yesterday?\n",
            "\n",
            "Input: <start> он приш л в школу в часов . <end>\n",
            "Predicted translation: he came to school . <end> \n",
            "True translation: He came to school at 8 o'clock.\n",
            "\n",
            "Input: <start> весна это сезон , следующий за зимой и перед летом . <end>\n",
            "Predicted translation: spring can put it in bed . <end> \n",
            "True translation: Spring is the season succeeding Winter and preceding Summer.\n",
            "\n",
            "Input: <start> я должен пойти сейчас в университет , но я скоро вернусь . <end>\n",
            "Predicted translation: i must go to my room . <end> \n",
            "True translation: I have to go to the university now but I will come back soon.\n",
            "\n",
            "Input: <start> вчера в школе кто то украл деньги из сумки моей подруги . <end>\n",
            "Predicted translation: mary had one job . <end> \n",
            "True translation: Yesterday at school somebody stole the money from my friend's bag.\n",
            "\n"
          ]
        }
      ]
    },
    {
      "cell_type": "markdown",
      "source": [
        "Видно, что короткие предложения переводятся гораздо лучше, некоторые прям очень хорошо(наша команда выиграла - our team won to win), некоторые похуже(никто не видел животных - no one saw a ghost). А вот если предложение досаточно длинное, то перевод становится заметно хуже, он вообще неправильно переводит, при этом ставя знак <end> раньше времени(вчера в школе кто то украл деньги из сумки моей подруги - mary had one job)"
      ],
      "metadata": {
        "id": "Ho8aFAv93viL"
      }
    },
    {
      "cell_type": "markdown",
      "metadata": {
        "id": "MFj6E6YB8754"
      },
      "source": [
        "# Neural machine translation with attention"
      ]
    },
    {
      "cell_type": "code",
      "metadata": {
        "id": "LA5RyACT8754"
      },
      "source": [
        "import tensorflow as tf\n",
        "\n",
        "import matplotlib.pyplot as plt\n",
        "import matplotlib.ticker as ticker\n",
        "from sklearn.model_selection import train_test_split\n",
        "\n",
        "import unicodedata\n",
        "import re\n",
        "import numpy as np\n",
        "import os\n",
        "import io\n",
        "import time"
      ],
      "execution_count": 34,
      "outputs": []
    },
    {
      "cell_type": "markdown",
      "metadata": {
        "id": "KOkBg4qj8755"
      },
      "source": [
        "## Download and prepare the dataset\n",
        "\n",
        "We'll use a language dataset provided by http://www.manythings.org/anki/"
      ]
    },
    {
      "cell_type": "code",
      "metadata": {
        "colab": {
          "base_uri": "https://localhost:8080/"
        },
        "outputId": "2fb55af6-695a-47bd-b660-6e3823bd9fef",
        "id": "qTmIvvBW8755"
      },
      "source": [
        "!wget http://www.manythings.org/anki/rus-eng.zip"
      ],
      "execution_count": 35,
      "outputs": [
        {
          "output_type": "stream",
          "name": "stdout",
          "text": [
            "--2022-09-22 16:44:18--  http://www.manythings.org/anki/rus-eng.zip\n",
            "Resolving www.manythings.org (www.manythings.org)... 173.254.30.110\n",
            "Connecting to www.manythings.org (www.manythings.org)|173.254.30.110|:80... connected.\n",
            "HTTP request sent, awaiting response... 200 OK\n",
            "Length: 15011848 (14M) [application/zip]\n",
            "Saving to: ‘rus-eng.zip.1’\n",
            "\n",
            "rus-eng.zip.1       100%[===================>]  14.32M  5.90MB/s    in 2.4s    \n",
            "\n",
            "2022-09-22 16:44:21 (5.90 MB/s) - ‘rus-eng.zip.1’ saved [15011848/15011848]\n",
            "\n"
          ]
        }
      ]
    },
    {
      "cell_type": "code",
      "metadata": {
        "colab": {
          "base_uri": "https://localhost:8080/"
        },
        "outputId": "04e1525d-a62a-4812-f98e-198e73f3b2b0",
        "id": "PXVrJOE_8755"
      },
      "source": [
        "!mkdir rus-eng\n",
        "!unzip rus-eng.zip -d rus-eng/"
      ],
      "execution_count": 36,
      "outputs": [
        {
          "output_type": "stream",
          "name": "stdout",
          "text": [
            "mkdir: cannot create directory ‘rus-eng’: File exists\n",
            "Archive:  rus-eng.zip\n",
            "replace rus-eng/rus.txt? [y]es, [n]o, [A]ll, [N]one, [r]ename: "
          ]
        }
      ]
    },
    {
      "cell_type": "code",
      "metadata": {
        "colab": {
          "base_uri": "https://localhost:8080/"
        },
        "outputId": "20de21df-618c-42da-e4d5-fb6f93e298ec",
        "id": "E8884CAb8755"
      },
      "source": [
        "!ls /content/rus-eng/ -lah"
      ],
      "execution_count": 37,
      "outputs": [
        {
          "output_type": "stream",
          "name": "stdout",
          "text": [
            "total 72M\n",
            "drwxr-xr-x 2 root root 4.0K Sep 22 16:38 .\n",
            "drwxr-xr-x 1 root root 4.0K Sep 22 16:44 ..\n",
            "-rw-r--r-- 1 root root 1.5K Sep  6 03:10 _about.txt\n",
            "-rw-r--r-- 1 root root  72M Sep  6 03:10 rus.txt\n"
          ]
        }
      ]
    },
    {
      "cell_type": "code",
      "metadata": {
        "id": "dckx76SF8755"
      },
      "source": [
        "# Download the file\n",
        "path_to_file = \"/content/rus-eng/rus.txt\""
      ],
      "execution_count": 38,
      "outputs": []
    },
    {
      "cell_type": "code",
      "metadata": {
        "id": "OwawP5c18755"
      },
      "source": [
        "def preprocess_sentence(w):\n",
        "  w = w.lower().strip()\n",
        "\n",
        "  # creating a space between a word and the punctuation following it\n",
        "  # eg: \"he is a boy.\" => \"he is a boy .\"\n",
        "  # Reference:- https://stackoverflow.com/questions/3645931/python-padding-punctuation-with-white-spaces-keeping-punctuation\n",
        "  w = re.sub(r\"([?.!,])\", r\" \\1 \", w)\n",
        "  w = re.sub(r'[\" \"]+', \" \", w)\n",
        "\n",
        "  # replacing everything with space except (a-z, A-Z, \".\", \"?\", \"!\", \",\")\n",
        "  w = re.sub(r\"[^a-zA-Zа-яА-Я?.!,']+\", \" \", w)\n",
        "\n",
        "  w = w.strip()\n",
        "\n",
        "  # adding a start and an end token to the sentence\n",
        "  # so that the model know when to start and stop predicting.\n",
        "  w = '<start> ' + w + ' <end>'\n",
        "  return w"
      ],
      "execution_count": 39,
      "outputs": []
    },
    {
      "cell_type": "code",
      "metadata": {
        "colab": {
          "base_uri": "https://localhost:8080/",
          "height": 36
        },
        "outputId": "b3e1b226-1a59-49a3-dd5f-949d9fbe7ad9",
        "id": "NpjTqKck8756"
      },
      "source": [
        "preprocess_sentence(\"I can't go.\")"
      ],
      "execution_count": 40,
      "outputs": [
        {
          "output_type": "execute_result",
          "data": {
            "text/plain": [
              "\"<start> i can't go . <end>\""
            ],
            "application/vnd.google.colaboratory.intrinsic+json": {
              "type": "string"
            }
          },
          "metadata": {},
          "execution_count": 40
        }
      ]
    },
    {
      "cell_type": "code",
      "metadata": {
        "id": "N3iHgQVd8756"
      },
      "source": [
        "# 1. Remove the accents\n",
        "# 2. Clean the sentences\n",
        "# 3. Return word pairs in the format: [ENG, RUS]\n",
        "def create_dataset(path, num_examples):\n",
        "  lines = io.open(path, encoding='UTF-8').read().strip().split('\\n')\n",
        "\n",
        "  word_pairs = [[preprocess_sentence(w) for w in l.split('\\t')[:2]]  for l in lines[:num_examples]]\n",
        "\n",
        "  return zip(*word_pairs)"
      ],
      "execution_count": 41,
      "outputs": []
    },
    {
      "cell_type": "code",
      "metadata": {
        "colab": {
          "base_uri": "https://localhost:8080/"
        },
        "outputId": "81e6419e-d429-48de-964f-c06f8c4ada34",
        "id": "8BHSLI_18756"
      },
      "source": [
        "en, ru = create_dataset(path_to_file, None)\n",
        "print(en[-1])\n",
        "print(ru[-1])"
      ],
      "execution_count": 42,
      "outputs": [
        {
          "output_type": "stream",
          "name": "stdout",
          "text": [
            "<start> doubtless there exists in this world precisely the right woman for any given man to marry and vice versa but when you consider that a human being has the opportunity of being acquainted with only a few hundred people , and out of the few hundred that there are but a dozen or less whom he knows intimately , and out of the dozen , one or two friends at most , it will easily be seen , when we remember the number of millions who inhabit this world , that probably , since the earth was created , the right man has never yet met the right woman . <end>\n",
            "<start> несомненно , для каждого мужчины в этом мире где то есть подходящая женщина , которая может стать ему женой , обратное верно и для женщин . но если учесть , что у человека может быть максимум несколько сотен знакомых , из которых лишь дюжина , а то и меньше , тех , кого он знает близко , а из этой дюжины у него один или от силы два друга , то можно легко увидеть , что с уч том миллионов живущих на земле людей , ни один подходящий мужчина , возможно , ещ не встретил подходящую женщину . <end>\n"
          ]
        }
      ]
    },
    {
      "cell_type": "code",
      "metadata": {
        "id": "5j5fdSQs8756"
      },
      "source": [
        "def tokenize(lang):\n",
        "  lang_tokenizer = tf.keras.preprocessing.text.Tokenizer(\n",
        "      filters='')\n",
        "  lang_tokenizer.fit_on_texts(lang)\n",
        "\n",
        "  tensor = lang_tokenizer.texts_to_sequences(lang)\n",
        "\n",
        "  tensor = tf.keras.preprocessing.sequence.pad_sequences(tensor,\n",
        "                                                         padding='post')\n",
        "\n",
        "  return tensor, lang_tokenizer"
      ],
      "execution_count": 43,
      "outputs": []
    },
    {
      "cell_type": "code",
      "metadata": {
        "id": "ol3Pj5eS8756"
      },
      "source": [
        "def load_dataset(path, num_examples=None):\n",
        "  # creating cleaned input, output pairs\n",
        "  targ_lang, inp_lang = create_dataset(path, num_examples)\n",
        "\n",
        "  input_tensor, inp_lang_tokenizer = tokenize(inp_lang)\n",
        "  target_tensor, targ_lang_tokenizer = tokenize(targ_lang)\n",
        "\n",
        "  return input_tensor, target_tensor, inp_lang_tokenizer, targ_lang_tokenizer"
      ],
      "execution_count": 44,
      "outputs": []
    },
    {
      "cell_type": "markdown",
      "metadata": {
        "id": "Qmcx6_tN8756"
      },
      "source": [
        "### Limit the size of the dataset to experiment faster (optional)\n"
      ]
    },
    {
      "cell_type": "code",
      "metadata": {
        "colab": {
          "base_uri": "https://localhost:8080/"
        },
        "outputId": "c7127323-3bf0-4a12-edff-d2847665ae64",
        "id": "R6QQ-tRJ8758"
      },
      "source": [
        "len(en), len(ru)"
      ],
      "execution_count": 45,
      "outputs": [
        {
          "output_type": "execute_result",
          "data": {
            "text/plain": [
              "(451436, 451436)"
            ]
          },
          "metadata": {},
          "execution_count": 45
        }
      ]
    },
    {
      "cell_type": "code",
      "metadata": {
        "id": "YDg1ebuU8758"
      },
      "source": [
        "# Try experimenting with the size of that dataset\n",
        "num_examples = 100000\n",
        "input_tensor, target_tensor, inp_lang, targ_lang = load_dataset(path_to_file, num_examples)\n",
        "\n",
        "# Calculate max_length of the target tensors\n",
        "max_length_targ, max_length_inp = target_tensor.shape[1], input_tensor.shape[1]"
      ],
      "execution_count": 46,
      "outputs": []
    },
    {
      "cell_type": "code",
      "metadata": {
        "colab": {
          "base_uri": "https://localhost:8080/"
        },
        "outputId": "afa1969f-5994-4bdc-e908-52f72ea36cf4",
        "id": "yfFujwbY8758"
      },
      "source": [
        "# Creating training and validation sets using an 80-20 split\n",
        "input_tensor_train, input_tensor_val, target_tensor_train, target_tensor_val = train_test_split(input_tensor, target_tensor, test_size=0.2)\n",
        "\n",
        "# Show length\n",
        "print(len(input_tensor_train), len(target_tensor_train), len(input_tensor_val), len(target_tensor_val))"
      ],
      "execution_count": 47,
      "outputs": [
        {
          "output_type": "stream",
          "name": "stdout",
          "text": [
            "80000 80000 20000 20000\n"
          ]
        }
      ]
    },
    {
      "cell_type": "code",
      "metadata": {
        "id": "uWdJCWrx8759"
      },
      "source": [
        "def convert(lang, tensor):\n",
        "  for t in tensor:\n",
        "    if t!=0:\n",
        "      print (\"%d ----> %s\" % (t, lang.index_word[t]))"
      ],
      "execution_count": 48,
      "outputs": []
    },
    {
      "cell_type": "code",
      "metadata": {
        "colab": {
          "base_uri": "https://localhost:8080/"
        },
        "outputId": "03704622-69a8-4be9-898b-e35fb3977752",
        "id": "G2iGlvnx8759"
      },
      "source": [
        "print (\"Input Language; index to word mapping\")\n",
        "convert(inp_lang, input_tensor_train[0])\n",
        "print ()\n",
        "print (\"Target Language; index to word mapping\")\n",
        "convert(targ_lang, target_tensor_train[0])"
      ],
      "execution_count": 49,
      "outputs": [
        {
          "output_type": "stream",
          "name": "stdout",
          "text": [
            "Input Language; index to word mapping\n",
            "1 ----> <start>\n",
            "1747 ----> признаю\n",
            "377 ----> сво\n",
            "3357 ----> поражение\n",
            "3 ----> .\n",
            "2 ----> <end>\n",
            "\n",
            "Target Language; index to word mapping\n",
            "1 ----> <start>\n",
            "4 ----> i\n",
            "1110 ----> admit\n",
            "18 ----> that\n",
            "4 ----> i\n",
            "143 ----> lost\n",
            "3 ----> .\n",
            "2 ----> <end>\n"
          ]
        }
      ]
    },
    {
      "cell_type": "markdown",
      "metadata": {
        "id": "yZV6pX968759"
      },
      "source": [
        "### Create a tf.data dataset"
      ]
    },
    {
      "cell_type": "code",
      "metadata": {
        "id": "0XGtyVRw8759"
      },
      "source": [
        "BUFFER_SIZE = len(input_tensor_train)\n",
        "BATCH_SIZE = 64\n",
        "steps_per_epoch = len(input_tensor_train)//BATCH_SIZE\n",
        "embedding_dim = 256\n",
        "units = 1024\n",
        "vocab_inp_size = len(inp_lang.word_index)+1\n",
        "vocab_tar_size = len(targ_lang.word_index)+1\n",
        "\n",
        "dataset = tf.data.Dataset.from_tensor_slices((input_tensor_train, target_tensor_train)).shuffle(BUFFER_SIZE)\n",
        "dataset = dataset.batch(BATCH_SIZE, drop_remainder=True)"
      ],
      "execution_count": 50,
      "outputs": []
    },
    {
      "cell_type": "code",
      "metadata": {
        "colab": {
          "base_uri": "https://localhost:8080/"
        },
        "outputId": "fe528cb8-7366-4201-ac2b-0bbe7bde48ef",
        "id": "iLaNcaEl8759"
      },
      "source": [
        "example_input_batch, example_target_batch = next(iter(dataset))\n",
        "example_input_batch.shape, example_target_batch.shape"
      ],
      "execution_count": 51,
      "outputs": [
        {
          "output_type": "execute_result",
          "data": {
            "text/plain": [
              "(TensorShape([64, 15]), TensorShape([64, 11]))"
            ]
          },
          "metadata": {},
          "execution_count": 51
        }
      ]
    },
    {
      "cell_type": "code",
      "metadata": {
        "id": "KzbDiAF38759"
      },
      "source": [
        "class Encoder(tf.keras.Model):\n",
        "  def __init__(self, vocab_size, embedding_dim, enc_units, batch_sz):\n",
        "    super(Encoder, self).__init__()\n",
        "    self.batch_sz = batch_sz\n",
        "    self.enc_units = enc_units\n",
        "    self.embedding = tf.keras.layers.Embedding(vocab_size, embedding_dim)\n",
        "    self.gru = tf.keras.layers.GRU(self.enc_units,\n",
        "                                   return_sequences=True,\n",
        "                                   return_state=True,\n",
        "                                   recurrent_initializer='glorot_uniform')\n",
        "\n",
        "  def call(self, x, hidden):\n",
        "    x = self.embedding(x)\n",
        "    output, state = self.gru(x, initial_state = hidden)\n",
        "    return output, state\n",
        "\n",
        "  def initialize_hidden_state(self):\n",
        "    return tf.zeros((self.batch_sz, self.enc_units))"
      ],
      "execution_count": 52,
      "outputs": []
    },
    {
      "cell_type": "code",
      "metadata": {
        "colab": {
          "base_uri": "https://localhost:8080/"
        },
        "outputId": "1b36d943-6fa5-4b3f-c452-0b195d7160b0",
        "id": "G99_cf3k875-"
      },
      "source": [
        "encoder = Encoder(vocab_inp_size, embedding_dim, units, BATCH_SIZE)\n",
        "\n",
        "# sample input\n",
        "sample_hidden = encoder.initialize_hidden_state()\n",
        "sample_output, sample_hidden = encoder(example_input_batch, sample_hidden)\n",
        "print ('Encoder output shape: (batch size, sequence length, units) {}'.format(sample_output.shape))\n",
        "print ('Encoder Hidden state shape: (batch size, units) {}'.format(sample_hidden.shape))"
      ],
      "execution_count": 53,
      "outputs": [
        {
          "output_type": "stream",
          "name": "stdout",
          "text": [
            "Encoder output shape: (batch size, sequence length, units) (64, 15, 1024)\n",
            "Encoder Hidden state shape: (batch size, units) (64, 1024)\n"
          ]
        }
      ]
    },
    {
      "cell_type": "code",
      "metadata": {
        "id": "YTyhL28Niqk1"
      },
      "source": [
        "class BahdanauAttention(tf.keras.layers.Layer):\n",
        "  def __init__(self, units):\n",
        "    super(BahdanauAttention, self).__init__()\n",
        "    self.W1 = tf.keras.layers.Dense(units)\n",
        "    self.W2 = tf.keras.layers.Dense(units)\n",
        "    self.V = tf.keras.layers.Dense(1)\n",
        "\n",
        "  def call(self, query, values):\n",
        "    # query hidden state shape == (batch_size, hidden size)\n",
        "    # query_with_time_axis shape == (batch_size, 1, hidden size)\n",
        "    # values shape == (batch_size, max_len, hidden size)\n",
        "    # we are doing this to broadcast addition along the time axis to calculate the score\n",
        "    query_with_time_axis = tf.expand_dims(query, 1)\n",
        "\n",
        "    # score shape == (batch_size, max_length, 1)\n",
        "    # we get 1 at the last axis because we are applying score to self.V\n",
        "    # the shape of the tensor before applying self.V is (batch_size, max_length, units)\n",
        "    score = self.V(tf.nn.tanh(\n",
        "        self.W1(query_with_time_axis) + self.W2(values)))\n",
        "\n",
        "    # attention_weights shape == (batch_size, max_length, 1)\n",
        "    attention_weights = tf.nn.softmax(score, axis=1)\n",
        "\n",
        "    # context_vector shape after sum == (batch_size, hidden_size)\n",
        "    context_vector = attention_weights * values\n",
        "    context_vector = tf.reduce_sum(context_vector, axis=1)\n",
        "\n",
        "    return context_vector, attention_weights"
      ],
      "execution_count": 54,
      "outputs": []
    },
    {
      "cell_type": "code",
      "metadata": {
        "colab": {
          "base_uri": "https://localhost:8080/"
        },
        "id": "XUqssWcci1XJ",
        "outputId": "ed2303b2-b617-4062-b355-f0804595fdf0"
      },
      "source": [
        "attention_layer = BahdanauAttention(10)\n",
        "attention_result, attention_weights = attention_layer(sample_hidden, sample_output)\n",
        "\n",
        "print(\"Attention result shape: (batch size, units) {}\".format(attention_result.shape))\n",
        "print(\"Attention weights shape: (batch_size, sequence_length, 1) {}\".format(attention_weights.shape))"
      ],
      "execution_count": 55,
      "outputs": [
        {
          "output_type": "stream",
          "name": "stdout",
          "text": [
            "Attention result shape: (batch size, units) (64, 1024)\n",
            "Attention weights shape: (batch_size, sequence_length, 1) (64, 15, 1)\n"
          ]
        }
      ]
    },
    {
      "cell_type": "code",
      "metadata": {
        "id": "g7DsUEx7875-"
      },
      "source": [
        "class Decoder(tf.keras.Model):\n",
        "  def __init__(self, vocab_size, embedding_dim, dec_units, batch_sz):\n",
        "    super(Decoder, self).__init__()\n",
        "    self.batch_sz = batch_sz\n",
        "    self.dec_units = dec_units\n",
        "    self.embedding = tf.keras.layers.Embedding(vocab_size, embedding_dim)\n",
        "    self.gru = tf.keras.layers.GRU(self.dec_units,\n",
        "                                   return_sequences=True,\n",
        "                                   return_state=True,\n",
        "                                   recurrent_initializer='glorot_uniform')\n",
        "    self.fc = tf.keras.layers.Dense(vocab_size)\n",
        "\n",
        "    # used for attention\n",
        "    self.attention = BahdanauAttention(self.dec_units)\n",
        "\n",
        "  def call(self, x, hidden, enc_output):\n",
        "    # enc_output shape == (batch_size, max_length, hidden_size)\n",
        "    context_vector, attention_weights = self.attention(hidden, enc_output)\n",
        "\n",
        "    # x shape after passing through embedding == (batch_size, 1, embedding_dim)\n",
        "    x = self.embedding(x)\n",
        "\n",
        "    # x shape after concatenation == (batch_size, 1, embedding_dim + hidden_size)\n",
        "    x = tf.concat([tf.expand_dims(context_vector, 1), x], axis=-1)\n",
        "\n",
        "    # passing the concatenated vector to the GRU\n",
        "    output, state = self.gru(x)\n",
        "\n",
        "    # output shape == (batch_size * 1, hidden_size)\n",
        "    output = tf.reshape(output, (-1, output.shape[2]))\n",
        "\n",
        "    # output shape == (batch_size, vocab)\n",
        "    x = self.fc(output)\n",
        "\n",
        "    return x, state, attention_weights"
      ],
      "execution_count": 56,
      "outputs": []
    },
    {
      "cell_type": "code",
      "metadata": {
        "colab": {
          "base_uri": "https://localhost:8080/"
        },
        "outputId": "d6089181-8526-42e7-fedd-89c2fb61a313",
        "id": "vjYmJ2JW875-"
      },
      "source": [
        "decoder = Decoder(vocab_tar_size, embedding_dim, units, BATCH_SIZE)\n",
        "\n",
        "sample_decoder_output, _, _ = decoder(tf.random.uniform((BATCH_SIZE, 1)),\n",
        "                                      sample_hidden, sample_output)\n",
        "\n",
        "print ('Decoder output shape: (batch_size, vocab size) {}'.format(sample_decoder_output.shape))"
      ],
      "execution_count": 57,
      "outputs": [
        {
          "output_type": "stream",
          "name": "stdout",
          "text": [
            "Decoder output shape: (batch_size, vocab size) (64, 7335)\n"
          ]
        }
      ]
    },
    {
      "cell_type": "markdown",
      "metadata": {
        "id": "WJDEkExA875_"
      },
      "source": [
        "## Define the optimizer and the loss function"
      ]
    },
    {
      "cell_type": "code",
      "metadata": {
        "id": "-zCTVKnL875_"
      },
      "source": [
        "optimizer = tf.keras.optimizers.Adam()\n",
        "loss_object = tf.keras.losses.SparseCategoricalCrossentropy(\n",
        "    from_logits=True, reduction='none')\n",
        "\n",
        "def loss_function(real, pred):\n",
        "  mask = tf.math.logical_not(tf.math.equal(real, 0))\n",
        "  loss_ = loss_object(real, pred)\n",
        "\n",
        "  mask = tf.cast(mask, dtype=loss_.dtype)\n",
        "  loss_ *= mask\n",
        "\n",
        "  return tf.reduce_mean(loss_)"
      ],
      "execution_count": 58,
      "outputs": []
    },
    {
      "cell_type": "markdown",
      "metadata": {
        "id": "B6G8gPqy875_"
      },
      "source": [
        "## Checkpoints (Object-based saving)"
      ]
    },
    {
      "cell_type": "code",
      "metadata": {
        "id": "SyRSmBEO875_"
      },
      "source": [
        "checkpoint_dir = './training_attention_checkpoints'\n",
        "checkpoint_prefix = os.path.join(checkpoint_dir, \"ckpt\")\n",
        "checkpoint = tf.train.Checkpoint(optimizer=optimizer,\n",
        "                                 encoder=encoder,\n",
        "                                 decoder=decoder)"
      ],
      "execution_count": 59,
      "outputs": []
    },
    {
      "cell_type": "code",
      "metadata": {
        "id": "rq0Oe_M9875_"
      },
      "source": [
        "@tf.function\n",
        "def train_step(inp, targ, enc_hidden):\n",
        "  loss = 0\n",
        "\n",
        "  with tf.GradientTape() as tape:\n",
        "    enc_output, enc_hidden = encoder(inp, enc_hidden)\n",
        "\n",
        "    dec_hidden = enc_hidden\n",
        "\n",
        "    dec_input = tf.expand_dims([targ_lang.word_index['<start>']] * BATCH_SIZE, 1)\n",
        "\n",
        "    # Teacher forcing - feeding the target as the next input\n",
        "    for t in range(1, targ.shape[1]):\n",
        "      # passing enc_output to the decoder\n",
        "      predictions, dec_hidden, _ = decoder(dec_input, dec_hidden, enc_output)\n",
        "\n",
        "      loss += loss_function(targ[:, t], predictions)\n",
        "\n",
        "      # using teacher forcing\n",
        "      dec_input = tf.expand_dims(targ[:, t], 1)\n",
        "\n",
        "  batch_loss = (loss / int(targ.shape[1]))\n",
        "\n",
        "  variables = encoder.trainable_variables + decoder.trainable_variables\n",
        "\n",
        "  gradients = tape.gradient(loss, variables)\n",
        "\n",
        "  optimizer.apply_gradients(zip(gradients, variables))\n",
        "\n",
        "  return batch_loss"
      ],
      "execution_count": 60,
      "outputs": []
    },
    {
      "cell_type": "code",
      "metadata": {
        "colab": {
          "base_uri": "https://localhost:8080/"
        },
        "outputId": "22f178d0-2345-4a96-f24b-2e8d55ee648d",
        "id": "bvbLyirA876A"
      },
      "source": [
        "EPOCHS = 5\n",
        "\n",
        "for epoch in range(EPOCHS):\n",
        "  start = time.time()\n",
        "\n",
        "  enc_hidden = encoder.initialize_hidden_state()\n",
        "  total_loss = 0\n",
        "\n",
        "  for (batch, (inp, targ)) in enumerate(dataset.take(steps_per_epoch)):\n",
        "    batch_loss = train_step(inp, targ, enc_hidden)\n",
        "    total_loss += batch_loss\n",
        "\n",
        "    if batch % 100 == 0:\n",
        "      print('Epoch {} Batch {} Loss {:.4f}'.format(epoch + 1,\n",
        "                                                   batch,\n",
        "                                                   batch_loss.numpy()))\n",
        "  # saving (checkpoint) the model every 2 epochs\n",
        "  if (epoch + 1) % 2 == 0:\n",
        "    checkpoint.save(file_prefix = checkpoint_prefix)\n",
        "\n",
        "  print('Epoch {} Loss {:.4f}'.format(epoch + 1,\n",
        "                                      total_loss / steps_per_epoch))\n",
        "  print('Time taken for 1 epoch {} sec\\n'.format(time.time() - start))"
      ],
      "execution_count": 61,
      "outputs": [
        {
          "output_type": "stream",
          "name": "stdout",
          "text": [
            "Epoch 1 Batch 0 Loss 4.5515\n",
            "Epoch 1 Batch 100 Loss 2.1888\n",
            "Epoch 1 Batch 200 Loss 1.8669\n",
            "Epoch 1 Batch 300 Loss 1.7007\n",
            "Epoch 1 Batch 400 Loss 1.6334\n",
            "Epoch 1 Batch 500 Loss 1.4672\n",
            "Epoch 1 Batch 600 Loss 1.4020\n",
            "Epoch 1 Batch 700 Loss 1.2030\n",
            "Epoch 1 Batch 800 Loss 1.2627\n",
            "Epoch 1 Batch 900 Loss 1.2123\n",
            "Epoch 1 Batch 1000 Loss 1.1439\n",
            "Epoch 1 Batch 1100 Loss 1.1228\n",
            "Epoch 1 Batch 1200 Loss 0.8448\n",
            "Epoch 1 Loss 1.4802\n",
            "Time taken for 1 epoch 112.82421731948853 sec\n",
            "\n",
            "Epoch 2 Batch 0 Loss 0.8888\n",
            "Epoch 2 Batch 100 Loss 0.8737\n",
            "Epoch 2 Batch 200 Loss 0.7736\n",
            "Epoch 2 Batch 300 Loss 0.7689\n",
            "Epoch 2 Batch 400 Loss 0.6510\n",
            "Epoch 2 Batch 500 Loss 0.7922\n",
            "Epoch 2 Batch 600 Loss 0.6750\n",
            "Epoch 2 Batch 700 Loss 0.5074\n",
            "Epoch 2 Batch 800 Loss 0.5905\n",
            "Epoch 2 Batch 900 Loss 0.4826\n",
            "Epoch 2 Batch 1000 Loss 0.6972\n",
            "Epoch 2 Batch 1100 Loss 0.4928\n",
            "Epoch 2 Batch 1200 Loss 0.4731\n",
            "Epoch 2 Loss 0.6503\n",
            "Time taken for 1 epoch 101.76433277130127 sec\n",
            "\n",
            "Epoch 3 Batch 0 Loss 0.3656\n",
            "Epoch 3 Batch 100 Loss 0.4604\n",
            "Epoch 3 Batch 200 Loss 0.3829\n",
            "Epoch 3 Batch 300 Loss 0.2593\n",
            "Epoch 3 Batch 400 Loss 0.3436\n",
            "Epoch 3 Batch 500 Loss 0.3648\n",
            "Epoch 3 Batch 600 Loss 0.3234\n",
            "Epoch 3 Batch 700 Loss 0.3024\n",
            "Epoch 3 Batch 800 Loss 0.3215\n",
            "Epoch 3 Batch 900 Loss 0.3149\n",
            "Epoch 3 Batch 1000 Loss 0.4074\n",
            "Epoch 3 Batch 1100 Loss 0.2622\n",
            "Epoch 3 Batch 1200 Loss 0.2332\n",
            "Epoch 3 Loss 0.3425\n",
            "Time taken for 1 epoch 99.96246886253357 sec\n",
            "\n",
            "Epoch 4 Batch 0 Loss 0.2091\n",
            "Epoch 4 Batch 100 Loss 0.2184\n",
            "Epoch 4 Batch 200 Loss 0.2164\n",
            "Epoch 4 Batch 300 Loss 0.1721\n",
            "Epoch 4 Batch 400 Loss 0.2258\n",
            "Epoch 4 Batch 500 Loss 0.1780\n",
            "Epoch 4 Batch 600 Loss 0.1942\n",
            "Epoch 4 Batch 700 Loss 0.2406\n",
            "Epoch 4 Batch 800 Loss 0.2142\n",
            "Epoch 4 Batch 900 Loss 0.1673\n",
            "Epoch 4 Batch 1000 Loss 0.2108\n",
            "Epoch 4 Batch 1100 Loss 0.2016\n",
            "Epoch 4 Batch 1200 Loss 0.2542\n",
            "Epoch 4 Loss 0.2108\n",
            "Time taken for 1 epoch 100.55069708824158 sec\n",
            "\n",
            "Epoch 5 Batch 0 Loss 0.1253\n",
            "Epoch 5 Batch 100 Loss 0.1174\n",
            "Epoch 5 Batch 200 Loss 0.1053\n",
            "Epoch 5 Batch 300 Loss 0.1193\n",
            "Epoch 5 Batch 400 Loss 0.1395\n",
            "Epoch 5 Batch 500 Loss 0.0980\n",
            "Epoch 5 Batch 600 Loss 0.1596\n",
            "Epoch 5 Batch 700 Loss 0.1536\n",
            "Epoch 5 Batch 800 Loss 0.1540\n",
            "Epoch 5 Batch 900 Loss 0.1491\n",
            "Epoch 5 Batch 1000 Loss 0.1278\n",
            "Epoch 5 Batch 1100 Loss 0.1997\n",
            "Epoch 5 Batch 1200 Loss 0.1489\n",
            "Epoch 5 Loss 0.1499\n",
            "Time taken for 1 epoch 99.6553726196289 sec\n",
            "\n"
          ]
        }
      ]
    },
    {
      "cell_type": "markdown",
      "metadata": {
        "id": "X-R0vjJe876A"
      },
      "source": [
        "## Translate\n",
        "\n",
        "* The evaluate function is similar to the training loop, except we don't use *teacher forcing* here. The input to the decoder at each time step is its previous predictions along with the hidden state and the encoder output.\n",
        "* Stop predicting when the model predicts the *end token*.\n",
        "* And store the *attention weights for every time step*.\n",
        "\n",
        "Note: The encoder output is calculated only once for one input."
      ]
    },
    {
      "cell_type": "code",
      "metadata": {
        "id": "DDinBGpO876A"
      },
      "source": [
        "def evaluate(sentence):\n",
        "  attention_plot = np.zeros((max_length_targ, max_length_inp))\n",
        "\n",
        "  sentence = preprocess_sentence(sentence)\n",
        "\n",
        "  inputs = [inp_lang.word_index[i] for i in sentence.split(' ')]\n",
        "  inputs = tf.keras.preprocessing.sequence.pad_sequences([inputs],\n",
        "                                                         maxlen=max_length_inp,\n",
        "                                                         padding='post')\n",
        "  inputs = tf.convert_to_tensor(inputs)\n",
        "\n",
        "  result = ''\n",
        "\n",
        "  hidden = [tf.zeros((1, units))]\n",
        "  enc_out, enc_hidden = encoder(inputs, hidden)\n",
        "\n",
        "  dec_hidden = enc_hidden\n",
        "  dec_input = tf.expand_dims([targ_lang.word_index['<start>']], 0)\n",
        "\n",
        "  for t in range(max_length_targ):\n",
        "    predictions, dec_hidden, attention_weights = decoder(dec_input,\n",
        "                                                         dec_hidden,\n",
        "                                                         enc_out)\n",
        "\n",
        "    # storing the attention weights to plot later on\n",
        "    attention_weights = tf.reshape(attention_weights, (-1, ))\n",
        "    attention_plot[t] = attention_weights.numpy()\n",
        "\n",
        "    predicted_id = tf.argmax(predictions[0]).numpy()\n",
        "\n",
        "    result += targ_lang.index_word[predicted_id] + ' '\n",
        "\n",
        "    if targ_lang.index_word[predicted_id] == '<end>':\n",
        "      return result, sentence, attention_plot\n",
        "\n",
        "    # the predicted ID is fed back into the model\n",
        "    dec_input = tf.expand_dims([predicted_id], 0)\n",
        "\n",
        "  return result, sentence, attention_plot"
      ],
      "execution_count": 62,
      "outputs": []
    },
    {
      "cell_type": "code",
      "metadata": {
        "id": "Qjy26Fe8Bv5d"
      },
      "source": [
        "# function for plotting the attention weights\n",
        "def plot_attention(attention, sentence, predicted_sentence):\n",
        "  fig = plt.figure(figsize=(10,10))\n",
        "  ax = fig.add_subplot(1, 1, 1)\n",
        "  ax.matshow(attention, cmap='viridis')\n",
        "\n",
        "  fontdict = {'fontsize': 14}\n",
        "\n",
        "  ax.set_xticklabels([''] + sentence, fontdict=fontdict, rotation=90)\n",
        "  ax.set_yticklabels([''] + predicted_sentence, fontdict=fontdict)\n",
        "\n",
        "  ax.xaxis.set_major_locator(ticker.MultipleLocator(1))\n",
        "  ax.yaxis.set_major_locator(ticker.MultipleLocator(1))\n",
        "\n",
        "  plt.show()"
      ],
      "execution_count": 63,
      "outputs": []
    },
    {
      "cell_type": "code",
      "metadata": {
        "id": "c-ubkrbP876A"
      },
      "source": [
        "def translate(sentence):\n",
        "  result, sentence, attention_plot = evaluate(sentence)\n",
        "\n",
        "  print('Input: %s' % (sentence))\n",
        "  print('Predicted translation: {}'.format(result))\n",
        "\n",
        "  attention_plot = attention_plot[:len(result.split(' ')), :len(sentence.split(' '))]\n",
        "  plot_attention(attention_plot, sentence.split(' '), result.split(' '))\n",
        "\n",
        "  return result"
      ],
      "execution_count": 69,
      "outputs": []
    },
    {
      "cell_type": "markdown",
      "metadata": {
        "id": "fIMSiVvt876A"
      },
      "source": [
        "## Restore the latest checkpoint and test"
      ]
    },
    {
      "cell_type": "code",
      "metadata": {
        "colab": {
          "base_uri": "https://localhost:8080/"
        },
        "outputId": "8ec0bb55-9d56-44c9-cbea-20e37fab48ff",
        "id": "jzm8PMSi876B"
      },
      "source": [
        "# restoring the latest checkpoint in checkpoint_dir\n",
        "checkpoint.restore(tf.train.latest_checkpoint(checkpoint_dir))"
      ],
      "execution_count": 70,
      "outputs": [
        {
          "output_type": "execute_result",
          "data": {
            "text/plain": [
              "<tensorflow.python.training.tracking.util.CheckpointLoadStatus at 0x7fc6673d6390>"
            ]
          },
          "metadata": {},
          "execution_count": 70
        }
      ]
    },
    {
      "cell_type": "markdown",
      "source": [
        "## Test"
      ],
      "metadata": {
        "id": "Dh6GK5qw_zC2"
      }
    },
    {
      "cell_type": "code",
      "source": [
        "nmt_with_attention_pred = []\n",
        "for i in test:\n",
        "  nmt_with_attention_pred.append(translate(i[1]))\n",
        "  print('True translation: {}'.format(i[0]))\n",
        "  print()"
      ],
      "metadata": {
        "colab": {
          "base_uri": "https://localhost:8080/",
          "height": 1000
        },
        "id": "32qB5UFs_xyn",
        "outputId": "40d62b9e-a3ea-41a8-cb71-5029d621f61d"
      },
      "execution_count": 71,
      "outputs": [
        {
          "output_type": "stream",
          "name": "stdout",
          "text": [
            "Input: <start> вчера мы были в парке . <end>\n",
            "Predicted translation: we were in the park . <end> \n"
          ]
        },
        {
          "output_type": "display_data",
          "data": {
            "text/plain": [
              "<Figure size 720x720 with 1 Axes>"
            ],
            "image/png": "[encoded data removed]"
          },
          "metadata": {
            "needs_background": "light"
          }
        },
        {
          "output_type": "stream",
          "name": "stdout",
          "text": [
            "True translation: Yesterday we were in the park.\n",
            "\n",
            "Input: <start> наша команда выиграла . <end>\n",
            "Predicted translation: our team won . <end> \n"
          ]
        },
        {
          "output_type": "display_data",
          "data": {
            "text/plain": [
              "<Figure size 720x720 with 1 Axes>"
            ],
            "image/png": "[encoded data removed]"
          },
          "metadata": {
            "needs_background": "light"
          }
        },
        {
          "output_type": "stream",
          "name": "stdout",
          "text": [
            "True translation: Our team won.\n",
            "\n",
            "Input: <start> я купил новый компьютер . <end>\n",
            "Predicted translation: i bought a new computer . <end> \n"
          ]
        },
        {
          "output_type": "display_data",
          "data": {
            "text/plain": [
              "<Figure size 720x720 with 1 Axes>"
            ],
            "image/png": "[encoded data removed]"
          },
          "metadata": {
            "needs_background": "light"
          }
        },
        {
          "output_type": "stream",
          "name": "stdout",
          "text": [
            "True translation: I bought а new computer.\n",
            "\n",
            "Input: <start> вчера мы играли в футбол . <end>\n",
            "Predicted translation: we played soccer soccer . <end> \n"
          ]
        },
        {
          "output_type": "display_data",
          "data": {
            "text/plain": [
              "<Figure size 720x720 with 1 Axes>"
            ],
            "image/png": "[encoded data removed]"
          },
          "metadata": {
            "needs_background": "light"
          }
        },
        {
          "output_type": "stream",
          "name": "stdout",
          "text": [
            "True translation: Yesterday we played football.\n",
            "\n",
            "Input: <start> никто не видел животных . <end>\n",
            "Predicted translation: nobody saw anything . <end> \n"
          ]
        },
        {
          "output_type": "display_data",
          "data": {
            "text/plain": [
              "<Figure size 720x720 with 1 Axes>"
            ],
            "image/png": "[encoded data removed]"
          },
          "metadata": {
            "needs_background": "light"
          }
        },
        {
          "output_type": "stream",
          "name": "stdout",
          "text": [
            "True translation: Nobody saw animals.\n",
            "\n",
            "Input: <start> дети пели песню . <end>\n",
            "Predicted translation: kids like english . <end> \n"
          ]
        },
        {
          "output_type": "display_data",
          "data": {
            "text/plain": [
              "<Figure size 720x720 with 1 Axes>"
            ],
            "image/png": "[encoded data removed]"
          },
          "metadata": {
            "needs_background": "light"
          }
        },
        {
          "output_type": "stream",
          "name": "stdout",
          "text": [
            "True translation: The children sang songs.\n",
            "\n",
            "Input: <start> злая собака укусила девочку на улице . <end>\n",
            "Predicted translation: what hit to be train . <end> \n"
          ]
        },
        {
          "output_type": "display_data",
          "data": {
            "text/plain": [
              "<Figure size 720x720 with 1 Axes>"
            ],
            "image/png": "[encoded data removed]"
          },
          "metadata": {
            "needs_background": "light"
          }
        },
        {
          "output_type": "stream",
          "name": "stdout",
          "text": [
            "True translation: The angry dog bit a small girl in the street.\n",
            "\n",
            "Input: <start> кто ходил вчера в кино ? <end>\n",
            "Predicted translation: who went yesterday ? <end> \n"
          ]
        },
        {
          "output_type": "display_data",
          "data": {
            "text/plain": [
              "<Figure size 720x720 with 1 Axes>"
            ],
            "image/png": "[encoded data removed]"
          },
          "metadata": {
            "needs_background": "light"
          }
        },
        {
          "output_type": "stream",
          "name": "stdout",
          "text": [
            "True translation: Who went to the cinema  yesterday?\n",
            "\n",
            "Input: <start> он приш л в школу в часов . <end>\n",
            "Predicted translation: he came to school . <end> \n"
          ]
        },
        {
          "output_type": "display_data",
          "data": {
            "text/plain": [
              "<Figure size 720x720 with 1 Axes>"
            ],
            "image/png": "[encoded data removed]"
          },
          "metadata": {
            "needs_background": "light"
          }
        },
        {
          "output_type": "stream",
          "name": "stdout",
          "text": [
            "True translation: He came to school at 8 o'clock.\n",
            "\n",
            "Input: <start> весна это сезон , следующий за зимой и перед летом . <end>\n",
            "Predicted translation: he is where he is coming . <end> \n"
          ]
        },
        {
          "output_type": "display_data",
          "data": {
            "text/plain": [
              "<Figure size 720x720 with 1 Axes>"
            ],
            "image/png": "[encoded data removed]"
          },
          "metadata": {
            "needs_background": "light"
          }
        },
        {
          "output_type": "stream",
          "name": "stdout",
          "text": [
            "True translation: Spring is the season succeeding Winter and preceding Summer.\n",
            "\n",
            "Input: <start> я должен пойти сейчас в университет , но я скоро вернусь . <end>\n",
            "Predicted translation: i'm home now . <end> \n"
          ]
        },
        {
          "output_type": "display_data",
          "data": {
            "text/plain": [
              "<Figure size 720x720 with 1 Axes>"
            ],
            "image/png": "[encoded data removed]"
          },
          "metadata": {
            "needs_background": "light"
          }
        },
        {
          "output_type": "stream",
          "name": "stdout",
          "text": [
            "True translation: I have to go to the university now but I will come back soon.\n",
            "\n",
            "Input: <start> вчера в школе кто то украл деньги из сумки моей подруги . <end>\n",
            "Predicted translation: we all of french . <end> \n"
          ]
        },
        {
          "output_type": "display_data",
          "data": {
            "text/plain": [
              "<Figure size 720x720 with 1 Axes>"
            ],
            "image/png": "[encoded data removed]"
          },
          "metadata": {
            "needs_background": "light"
          }
        },
        {
          "output_type": "stream",
          "name": "stdout",
          "text": [
            "True translation: Yesterday at school somebody stole the money from my friend's bag.\n",
            "\n"
          ]
        }
      ]
    },
    {
      "cell_type": "markdown",
      "source": [
        "Видно, что у модели так же не получается переводить сложные и длинные предложения.\n",
        "\n",
        "По attention_plot можно увидеть, что когда слой внимания показывает правильное слово из входного предложения при генерации нового слова, то и перевод становится отличным. Это можно увидеть на первых 5 примерах, где слой внимания правильно сопостовляет ключевые сущиствительные или глаголы. А где слой внимания не правильно сопостовляет токены и зацикливается на токене конца <end>, например в последних 2-ух примерах после первых 2-ух токенов. То и перевод получается совсем непрвильным."
      ],
      "metadata": {
        "id": "QnmNmz9vEJ7h"
      }
    },
    {
      "cell_type": "markdown",
      "source": [
        "# Сравним:"
      ],
      "metadata": {
        "id": "qt7M3dYHBtjB"
      }
    },
    {
      "cell_type": "code",
      "source": [
        "for i in range(len(test)):\n",
        "  print('nmt: '+nmt_pred[i])\n",
        "  print('nmt_with_attention: '+nmt_with_attention_pred[i])\n",
        "  print('True: '+test[i][0])\n",
        "  print('Ru: '+test[i][1])\n",
        "  print()"
      ],
      "metadata": {
        "colab": {
          "base_uri": "https://localhost:8080/"
        },
        "id": "SAj_cLjUBxfJ",
        "outputId": "aef834b4-5c5a-45c9-9ee6-5b57b64fb14c"
      },
      "execution_count": 73,
      "outputs": [
        {
          "output_type": "stream",
          "name": "stdout",
          "text": [
            "nmt: we were all first . <end> \n",
            "nmt_with_attention: we were in the park . <end> \n",
            "True: Yesterday we were in the park.\n",
            "Ru: Вчера мы были в парке.\n",
            "\n",
            "nmt: our team won to win . <end> \n",
            "nmt_with_attention: our team won . <end> \n",
            "True: Our team won.\n",
            "Ru: Наша команда выиграла.\n",
            "\n",
            "nmt: i bought a new hat . <end> \n",
            "nmt_with_attention: i bought a new computer . <end> \n",
            "True: I bought а new computer.\n",
            "Ru: Я купил новый компьютер.\n",
            "\n",
            "nmt: we were playing then . <end> \n",
            "nmt_with_attention: we played soccer soccer . <end> \n",
            "True: Yesterday we played football.\n",
            "Ru: Вчера мы играли в футбол.\n",
            "\n",
            "nmt: no one saw a ghost . <end> \n",
            "nmt_with_attention: nobody saw anything . <end> \n",
            "True: Nobody saw animals.\n",
            "Ru: Никто не видел животных.\n",
            "\n",
            "nmt: children need french . <end> \n",
            "nmt_with_attention: kids like english . <end> \n",
            "True: The children sang songs.\n",
            "Ru: Дети пели песню.\n",
            "\n",
            "nmt: dad coat a dog . <end> \n",
            "nmt_with_attention: what hit to be train . <end> \n",
            "True: The angry dog bit a small girl in the street.\n",
            "Ru: Злая собака укусила девочку на улице.\n",
            "\n",
            "nmt: who went yesterday ? <end> \n",
            "nmt_with_attention: who went yesterday ? <end> \n",
            "True: Who went to the cinema  yesterday?\n",
            "Ru: Кто ходил вчера в кино?\n",
            "\n",
            "nmt: he came to school . <end> \n",
            "nmt_with_attention: he came to school . <end> \n",
            "True: He came to school at 8 o'clock.\n",
            "Ru: Он пришёл в школу в 8 часов.\n",
            "\n",
            "nmt: spring can put it in bed . <end> \n",
            "nmt_with_attention: he is where he is coming . <end> \n",
            "True: Spring is the season succeeding Winter and preceding Summer.\n",
            "Ru: Весна - это сезон, следующий за Зимой и перед летом.\n",
            "\n",
            "nmt: i must go to my room . <end> \n",
            "nmt_with_attention: i'm home now . <end> \n",
            "True: I have to go to the university now but I will come back soon.\n",
            "Ru: Я должен пойти сейчас в университет, но я скоро вернусь.\n",
            "\n",
            "nmt: mary had one job . <end> \n",
            "nmt_with_attention: we all of french . <end> \n",
            "True: Yesterday at school somebody stole the money from my friend's bag.\n",
            "Ru: Вчера в школе кто-то украл деньги из сумки моей подруги.\n",
            "\n"
          ]
        }
      ]
    },
    {
      "cell_type": "markdown",
      "source": [
        "Посмотрев на первые 4 примера, где модель справилась почти идеально, можно сказать, что модель со слоем внимания внимания оказалось заметно лучше, чем модель без этого слоя. Хотя и последние примеры ей так же не удались."
      ],
      "metadata": {
        "id": "HKcDnxc1CKWF"
      }
    },
    {
      "cell_type": "markdown",
      "source": [
        "# Вывод:"
      ],
      "metadata": {
        "id": "YClBS191CW2W"
      }
    },
    {
      "cell_type": "markdown",
      "source": [
        "Я разобрался как устроен слой внимания и протестировал его в задаче перевода.\n",
        "\n",
        "Я сравнил перевод текста в зависимости от наличия слоя внимания в индетичных моделях, на одних и тех же данных, и убедился что слой внимания сильно помогает при переводе.\n",
        "\n",
        "Стоит отметить, что модель со слоем внимания обучается в 1.5 раза дольше. При этом loss на train у модели со слоем внимания оказался чуть меньше. А мы его можем сравнивать, потому что loss и данные были одинаковыми.\n",
        "\n",
        "Видимо последние предложения слишком сложные, поэтому даже слой внимания не смог помочь.\n",
        "\n",
        "Но на самом деле 5 эпох конечно очень мало, особенно для модели со слоем внимания, если обучать модель по дольше, то может результаты будут лучше."
      ],
      "metadata": {
        "id": "hvbrAl6wCZ3A"
      }
    }
  ]
}