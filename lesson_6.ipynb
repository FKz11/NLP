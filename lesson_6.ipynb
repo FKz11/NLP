{
  "nbformat": 4,
  "nbformat_minor": 0,
  "metadata": {
    "colab": {
      "provenance": [],
      "collapsed_sections": [],
      "include_colab_link": true
    },
    "kernelspec": {
      "name": "python3",
      "display_name": "Python 3"
    },
    "accelerator": "GPU"
  },
  "cells": [
    {
      "cell_type": "markdown",
      "metadata": {
        "id": "view-in-github",
        "colab_type": "text"
      },
      "source": [
        "<a href=\"https://colab.research.google.com/github/FKz11/NLP/blob/main/lesson_6.ipynb\" target=\"_parent\"><img src=\"https://colab.research.google.com/assets/colab-badge.svg\" alt=\"Open In Colab\"/></a>"
      ]
    },
    {
      "cell_type": "markdown",
      "source": [
        "# Lesson-6"
      ],
      "metadata": {
        "id": "rJjF5-ToRTVc"
      }
    },
    {
      "cell_type": "markdown",
      "source": [
        "Тема “Классификация текста”\n",
        "\n",
        "Взять ноутбук colab_text_classification_part1.ipynb который разбирали на занятии и добавить пункты которые мы пропустили \n",
        "\n",
        "1. Посмотрите на токены если будут мусорные добавьте их в стоп слова и обучите заново\n",
        "\n",
        "2. Проверьте изменилось ли качество при лемматизации/и без неё\n",
        "\n",
        "3. Замените все токены которые принадлежат сущностям на их тег. Проверьте изменилось ли качество после этого\n"
      ],
      "metadata": {
        "id": "EeBaI2lQSRun"
      }
    },
    {
      "cell_type": "code",
      "metadata": {
        "id": "OlqOAQmQGXOL",
        "colab": {
          "base_uri": "https://localhost:8080/"
        },
        "outputId": "6fa35208-2b5a-45c3-ba45-f1e5c711f614"
      },
      "source": [
        "!wget -O imdb.zip -qq --no-check-certificate \"https://drive.google.com/uc?export=download&id=1vrQ5czMHoO3pEnmofFskymXMkq_u1dPc\"\n",
        "!unzip imdb.zip\n",
        "!pip -q install eli5\n",
        "!pip -q install spacy\n",
        "!python -m spacy download en"
      ],
      "execution_count": null,
      "outputs": [
        {
          "output_type": "stream",
          "name": "stdout",
          "text": [
            "Archive:  imdb.zip\n",
            "  inflating: test.tsv                \n",
            "  inflating: train.tsv               \n",
            "\u001b[K     |████████████████████████████████| 216 kB 6.7 MB/s \n",
            "\u001b[K     |████████████████████████████████| 133 kB 51.7 MB/s \n",
            "\u001b[?25h  Building wheel for eli5 (setup.py) ... \u001b[?25l\u001b[?25hdone\n",
            "\u001b[31mERROR: pip's dependency resolver does not currently take into account all the packages that are installed. This behaviour is the source of the following dependency conflicts.\n",
            "flask 1.1.4 requires Jinja2<3.0,>=2.10.1, but you have jinja2 3.1.2 which is incompatible.\u001b[0m\n",
            "\u001b[38;5;3m⚠ As of spaCy v3.0, shortcuts like 'en' are deprecated. Please use the\n",
            "full pipeline package name 'en_core_web_sm' instead.\u001b[0m\n",
            "Looking in indexes: https://pypi.org/simple, https://us-python.pkg.dev/colab-wheels/public/simple/\n",
            "Collecting en-core-web-sm==3.4.0\n",
            "  Downloading https://github.com/explosion/spacy-models/releases/download/en_core_web_sm-3.4.0/en_core_web_sm-3.4.0-py3-none-any.whl (12.8 MB)\n",
            "\u001b[K     |████████████████████████████████| 12.8 MB 5.0 MB/s \n",
            "\u001b[?25hRequirement already satisfied: spacy<3.5.0,>=3.4.0 in /usr/local/lib/python3.7/dist-packages (from en-core-web-sm==3.4.0) (3.4.1)\n",
            "Requirement already satisfied: spacy-legacy<3.1.0,>=3.0.9 in /usr/local/lib/python3.7/dist-packages (from spacy<3.5.0,>=3.4.0->en-core-web-sm==3.4.0) (3.0.10)\n",
            "Requirement already satisfied: murmurhash<1.1.0,>=0.28.0 in /usr/local/lib/python3.7/dist-packages (from spacy<3.5.0,>=3.4.0->en-core-web-sm==3.4.0) (1.0.8)\n",
            "Requirement already satisfied: spacy-loggers<2.0.0,>=1.0.0 in /usr/local/lib/python3.7/dist-packages (from spacy<3.5.0,>=3.4.0->en-core-web-sm==3.4.0) (1.0.3)\n",
            "Requirement already satisfied: preshed<3.1.0,>=3.0.2 in /usr/local/lib/python3.7/dist-packages (from spacy<3.5.0,>=3.4.0->en-core-web-sm==3.4.0) (3.0.7)\n",
            "Requirement already satisfied: packaging>=20.0 in /usr/local/lib/python3.7/dist-packages (from spacy<3.5.0,>=3.4.0->en-core-web-sm==3.4.0) (21.3)\n",
            "Requirement already satisfied: typing-extensions<4.2.0,>=3.7.4 in /usr/local/lib/python3.7/dist-packages (from spacy<3.5.0,>=3.4.0->en-core-web-sm==3.4.0) (4.1.1)\n",
            "Requirement already satisfied: pydantic!=1.8,!=1.8.1,<1.10.0,>=1.7.4 in /usr/local/lib/python3.7/dist-packages (from spacy<3.5.0,>=3.4.0->en-core-web-sm==3.4.0) (1.9.2)\n",
            "Requirement already satisfied: typer<0.5.0,>=0.3.0 in /usr/local/lib/python3.7/dist-packages (from spacy<3.5.0,>=3.4.0->en-core-web-sm==3.4.0) (0.4.2)\n",
            "Requirement already satisfied: langcodes<4.0.0,>=3.2.0 in /usr/local/lib/python3.7/dist-packages (from spacy<3.5.0,>=3.4.0->en-core-web-sm==3.4.0) (3.3.0)\n",
            "Requirement already satisfied: numpy>=1.15.0 in /usr/local/lib/python3.7/dist-packages (from spacy<3.5.0,>=3.4.0->en-core-web-sm==3.4.0) (1.21.6)\n",
            "Requirement already satisfied: jinja2 in /usr/local/lib/python3.7/dist-packages (from spacy<3.5.0,>=3.4.0->en-core-web-sm==3.4.0) (3.1.2)\n",
            "Requirement already satisfied: srsly<3.0.0,>=2.4.3 in /usr/local/lib/python3.7/dist-packages (from spacy<3.5.0,>=3.4.0->en-core-web-sm==3.4.0) (2.4.4)\n",
            "Requirement already satisfied: thinc<8.2.0,>=8.1.0 in /usr/local/lib/python3.7/dist-packages (from spacy<3.5.0,>=3.4.0->en-core-web-sm==3.4.0) (8.1.0)\n",
            "Requirement already satisfied: tqdm<5.0.0,>=4.38.0 in /usr/local/lib/python3.7/dist-packages (from spacy<3.5.0,>=3.4.0->en-core-web-sm==3.4.0) (4.64.0)\n",
            "Requirement already satisfied: cymem<2.1.0,>=2.0.2 in /usr/local/lib/python3.7/dist-packages (from spacy<3.5.0,>=3.4.0->en-core-web-sm==3.4.0) (2.0.6)\n",
            "Requirement already satisfied: catalogue<2.1.0,>=2.0.6 in /usr/local/lib/python3.7/dist-packages (from spacy<3.5.0,>=3.4.0->en-core-web-sm==3.4.0) (2.0.8)\n",
            "Requirement already satisfied: setuptools in /usr/local/lib/python3.7/dist-packages (from spacy<3.5.0,>=3.4.0->en-core-web-sm==3.4.0) (57.4.0)\n",
            "Requirement already satisfied: requests<3.0.0,>=2.13.0 in /usr/local/lib/python3.7/dist-packages (from spacy<3.5.0,>=3.4.0->en-core-web-sm==3.4.0) (2.23.0)\n",
            "Requirement already satisfied: pathy>=0.3.5 in /usr/local/lib/python3.7/dist-packages (from spacy<3.5.0,>=3.4.0->en-core-web-sm==3.4.0) (0.6.2)\n",
            "Requirement already satisfied: wasabi<1.1.0,>=0.9.1 in /usr/local/lib/python3.7/dist-packages (from spacy<3.5.0,>=3.4.0->en-core-web-sm==3.4.0) (0.10.1)\n",
            "Requirement already satisfied: zipp>=0.5 in /usr/local/lib/python3.7/dist-packages (from catalogue<2.1.0,>=2.0.6->spacy<3.5.0,>=3.4.0->en-core-web-sm==3.4.0) (3.8.1)\n",
            "Requirement already satisfied: pyparsing!=3.0.5,>=2.0.2 in /usr/local/lib/python3.7/dist-packages (from packaging>=20.0->spacy<3.5.0,>=3.4.0->en-core-web-sm==3.4.0) (3.0.9)\n",
            "Requirement already satisfied: smart-open<6.0.0,>=5.2.1 in /usr/local/lib/python3.7/dist-packages (from pathy>=0.3.5->spacy<3.5.0,>=3.4.0->en-core-web-sm==3.4.0) (5.2.1)\n",
            "Requirement already satisfied: urllib3!=1.25.0,!=1.25.1,<1.26,>=1.21.1 in /usr/local/lib/python3.7/dist-packages (from requests<3.0.0,>=2.13.0->spacy<3.5.0,>=3.4.0->en-core-web-sm==3.4.0) (1.24.3)\n",
            "Requirement already satisfied: idna<3,>=2.5 in /usr/local/lib/python3.7/dist-packages (from requests<3.0.0,>=2.13.0->spacy<3.5.0,>=3.4.0->en-core-web-sm==3.4.0) (2.10)\n",
            "Requirement already satisfied: chardet<4,>=3.0.2 in /usr/local/lib/python3.7/dist-packages (from requests<3.0.0,>=2.13.0->spacy<3.5.0,>=3.4.0->en-core-web-sm==3.4.0) (3.0.4)\n",
            "Requirement already satisfied: certifi>=2017.4.17 in /usr/local/lib/python3.7/dist-packages (from requests<3.0.0,>=2.13.0->spacy<3.5.0,>=3.4.0->en-core-web-sm==3.4.0) (2022.6.15)\n",
            "Requirement already satisfied: blis<0.8.0,>=0.7.8 in /usr/local/lib/python3.7/dist-packages (from thinc<8.2.0,>=8.1.0->spacy<3.5.0,>=3.4.0->en-core-web-sm==3.4.0) (0.7.8)\n",
            "Requirement already satisfied: click<9.0.0,>=7.1.1 in /usr/local/lib/python3.7/dist-packages (from typer<0.5.0,>=0.3.0->spacy<3.5.0,>=3.4.0->en-core-web-sm==3.4.0) (7.1.2)\n",
            "Requirement already satisfied: MarkupSafe>=2.0 in /usr/local/lib/python3.7/dist-packages (from jinja2->spacy<3.5.0,>=3.4.0->en-core-web-sm==3.4.0) (2.0.1)\n",
            "\u001b[38;5;2m✔ Download and installation successful\u001b[0m\n",
            "You can now load the package via spacy.load('en_core_web_sm')\n"
          ]
        }
      ]
    },
    {
      "cell_type": "markdown",
      "metadata": {
        "id": "kqbkG4qoS0AB"
      },
      "source": [
        "# Классификация текстов\n",
        "\n",
        "Начнём с самого простого - анализа тональности текста.\n",
        "\n",
        "Будем классифицировать отзывы с IMDB на положительные/отрицательные.\n",
        "\n",
        "Датасет взят с http://ai.stanford.edu/~amaas/data/sentiment/"
      ]
    },
    {
      "cell_type": "code",
      "metadata": {
        "id": "Js5kqmWMGqN4",
        "colab": {
          "base_uri": "https://localhost:8080/"
        },
        "outputId": "51fc6090-91fc-4f3a-aa8d-29eef2d2b4ee"
      },
      "source": [
        "!head train.tsv"
      ],
      "execution_count": null,
      "outputs": [
        {
          "output_type": "stream",
          "name": "stdout",
          "text": [
            "is_positive\treview\r\n",
            "0\t\"Dreamgirls, despite its fistful of Tony wins in an incredibly weak year on Broadway, has never been what one would call a jewel in the crown of stage musicals. However, that is not to say that in the right cinematic hands it could not be fleshed out and polished into something worthwhile on-screen. Unfortunately, what transfers to the screen is basically a slavishly faithful version of the stage hit with all of its inherent weaknesses intact. First, the score has never been one of the strong points of this production and the film does not change that factor. There are lots of songs (perhaps too many?), but few of them are especially memorable. The closest any come to catchy tunes are the title song and One Night Only - the much acclaimed And I Am Telling You That I Am Not Going is less a great song than it is a dramatic set piece for the character of Effie (Jennifer Hudson). The film is slick and technically well-produced, but the story and characters are surprisingly thin and lacking in any resonance. There is some interest in the opening moments, watching Jamie Foxx's Svengali-like manager manipulate his acts to the top, but that takes a back seat in the latter portion of the film, when the story conveniently tries to cast him as a villain, despite his having been right from a business stand-point for a good majority of the film. Beyonce Knowles is lovely and sings her songs perfectly well, but is stuck with a character who is basically all surface glitz. Anika Noni Rose as the third member of the Dreamgirls trio literally has nothing to do for the entire film. Eddie Murphy acquits himself well as a singer obviously based on James Brown, but the role is not especially meaty and ultimately has little impact. Foxx would seem ideal casting, but he seems oddly withdrawn and bored. The film's biggest selling point is surely former American Idol contestant/Oscar winner Jennifer Hudson in the central role of Effie White, the temperamental singer who gets booted from the group and makes a triumphant closing act return. For me, Effie has always been a big problem in both the show and the movie. The film obviously wants you to feel sorry for her and rather ham-handedly takes her side, but I have never been sure that this character deserves that kind of devotion. From the start, Effie conducts herself for the most part like an obnoxious, egotistical, self-centered diva, who is more interested in what everyone else can do for her rather than having much vested interest in the group of which she is a part. When she is booted from the group for her unprofessionalism and bad attitude, the charges are more than well-founded, but the stage show/film seem to think Effie should be cut unlimited slack simply because she has a great voice. Even though the film tries to soften some of Effie's harder edges to make her more likable, the charges still stand. Her story becomes more manipulative by suggesting she should have our further sympathy because she is an unwed mother struggling to raise her daughter - using the implication that (much like the talent card) motherhood immediately makes any behavior excusable. Indeed the only big effort the film makes to show Effie's mothering is to tell us about it and then include a scene where she barks at her daughter in the unemployment office, insists that the girl has \"\"no father\"\" and then refuse to look for gainful employment to support them since singing is all she knows. In the hands of a skillful actress, the gaps could perhaps have been remedied with technique and charisma. Unfortunately, Hudson is not that actress. She sings well, but the dialog-driven moments do not come naturally to her nor do high emotional moments. Effie's signature moment (the aforementioned And I Am Telling You... number) is well-sung by Hudson, but emotionally flat in the acting department. Effie is supposed to expressing her rage and desperation at her predicament, but Hudson comes off as a cabaret performer belting out a hot number. All in all, not quite the emotional highlight one expects. The latter portion of the film is basically a predictable melange of events that maneuver Foxx into Hudson's earlier position and allow her to strut back in and lord it over everyone. Foxx's criminal offenses in the film are undoubtedly par for the course of many struggling record producers, but the film's seeming implication that he has it coming because he helped usher in the disco era is rather ridiculous, not to mention pretentious and condescending, particularly coming from a film with all of the depth of a puddle. The end result is a faithful rendition of the stage hit, drained of emotion, energy or anything that can be described as dynamic.\"\r\n",
            "0\tThis show comes up with interesting locations as fast as the travel channel. It is billed as reality but in actuality it is pure prime time soap opera. It's tries to use exotic locales as a facade to bring people into a phony contest & then proceeds to hook viewers on the contestants soap opera style.<br /><br />It also borrows from an early CBS game show pioneer- Beat The Clock- by inventing situations for its contestants to try & overcome. Then it rewards the winner money. If they can spice it up with a little interaction between the characters, even better. While the game format is in slow motion versus Beat The Clock- the real accomplishment of this series is to escape reality. <br /><br />This show has elements of several types of successful past programs. Reality television, hardly, but if your hooked on the contestants, locale or contest, this is your cup of tea. If your not, this entire series is as I say, drivel dripping with gravy. It is another show hiding behind the reality label which is the trend it started in 2000.<br /><br />It is slick & well produced, so it might last a while yet. After all, so do re-runs of Gilligan's Island, Green Acres, The Beverly Hillbillies & The Brady Bunch. This just doesn't employ professional actors. The intelligence level is about the same.\r\n",
            "1\tI simply love this movie. I also love the Ramones, so I am sorta biased to begin with in the first place. There isn't a lot of critical praise to give this film, either you like it or you don't. I think it's a great cult movie.\r\n",
            "0\t\"Spoilers ahead if you want to call them that...<br /><br />I would almost recommend this film just so people can truly see a 1/10. Where to begin, we'll start from the top...<br /><br />THE STORY: Don't believe the premise - the movie has nothing to do with abandoned cars, and people finially understanding what the mysterious happenings are. It's a draub, basic, go to cabin movie with no intensity or \"\"effort\"\".<br /><br />THE SCREENPLAY: I usually give credit to indie screenwriters, it's hard work when you are starting out...but this is crap. The story is flat - it leaves you emotionless the entire movie. The dialogue is extremely weak and predictable boasting lines of \"\"Woah, you totally freaked me out\"\" and \"\"I was wondering if you'd uh...if you'd like to..uh, would you come to the cabin with me?\"\". It makes me want to rip out all my hair, one strand at a time and feed it to myself.<br /><br />THE CHARACTERS: HOLY CRAP!!!! Some have described the characters as flat, I want to take it one step further and say that they actually have a reverse character arch.. They actually start working on a parallel universe and almost start acting backwards...<br /><br />THE ACTORS: Worse than the characters are the actors. They take already poor written characters and add in terrible high school drama acting. The \"\"Woah you totally freaked me out\"\" was said so monotone and slow - like it was dumbed down. I could complain for hours on the actors alone.<br /><br />TECHNICAL: LIGHTING: An eight year old would be disappointed with lighting on this movie. Too shadowy in areas, too bleached in others. The director shouldn't use light as an emotion until he learns how to light a basic scene properly. Baby Steps! SOUND: How many sound guys does it take to make a really shotty sounding movie? 9. With that many sound guys this should sound amazing but quite the opposite has occured. There is one scene in particular that really sticks out, these guys are driving in a car and the sound of the car changes with every camera angle....WEAK! CAMERA: Learn to use it.<br /><br />Anyway, I'm running out of complaining space.....rent it - I dare you...Rent it and learn from it...give it a 1 rating..it deserves it.<br /><br />Signing off... Amanda Christmas\"\r\n",
            "1\t\"My all-time favorite movie! I have seen many movies, but this one beats them all! Excelent acting, wonderful story. You will, as a \"\"normal\"\" caring person start to love George. Altough he is an actor, he is also himself and a very lovable person. And maby most important thing: you will learn to respect & look different to people with Down Syndrome.\"\r\n",
            "1\tWonderful film, one of the best horror films of the 70s. She is realistic settings and atmospheres. As usual it was inevitable the usual negative comments. I have noticed that most horror films of a certain period many times fail to reach even sufficiency. Obviously because most horror movies are old and must be denigrati, is like a mental mechanism that moves the minds of the potential of music critics here.<br /><br />Before you read the review already knew what was the final judgment. In the film a good gift because 10 is really well done. Raines reads quite well and the film as a way in which it was produced reminds me a lot of Kubrick films. He really impression. Excellent film really. I consider a film anthology of years'70.\r\n",
            "0\tand shot in Vancouver with the 'mountains' of the low country of South Carolina visible in the background. For heaven's sake, they should have reset the location. There are no coastal mountains in South Carolina. Period.<br /><br />Lame visuals. They should have been beautiful. And the story limped along.<br /><br />I really don't understand why it was such a hit as a book, although I have to admit it's one I haven't read as yet. Usually I read the book and give the film a miss. There was nothing in this movie that made me want to buy the book, or even borrow it from the library.<br /><br />Verdict: The Mermaid Chair seemed pretty shallow to moi.\r\n",
            "1\tThis is the best dub I've ever heard by Disney, as well as the best adaptation since the biggest abuse ever on soundtrack, themes, characters, dialogues in Kiki Delivery Service. Urrrghhh<br /><br />This one has different atmosphere, especially the deviation from the common heroine. This one has both hero and heroine (although I don't really endorse the use of hero & heroine here, since Miyazaki is out from the stereotype & common theme). As usual, after being introduced by Spirited away, amazed by Mononoke, troubled by Grave of Fireflies, and deeply touched by Majo no Takkyuubin , this one start with a bit doubt in my part. Wondering if this will be the first Ghibi's dud. Well, in the end just like Only Yesterday and Whisper of the Heart, I ended up giving 10 rating. I'd give 9.8 rating, but the additional 0.2 is there to share the good feeling by encouraging people to see the movie.<br /><br />SPOILER Somehow I see this as a sad movie, people die in this one, the lonely robot, the abandoned place, and it ends with destruction. It is as if mankind really can't live with too much power. The collapsing scene gave me patches of Metropolis ending. It's just sad somehow. The plot is apparent in most reviews and the soundtrack rules as well (as always). Joe Hisaishi really belongs to Uematsu, Kanno, Williams caliber.People who can brings a movie, a game, an event to life, even to be a lingering moments by astounding composition.<br /><br />This is a feel good movie that used to be part of US cinema in the classic days (It's a Wonderful Life etc etc). Well, things change....\r\n",
            "1\t\"Linking story: another first-time viewing for me and, again, this is one of the most popular of the Amicus anthologies - and it's easy to see why, though I realize how the film's rather meaningless title could be misleading for some; I certainly fancied director Peter Duffell's choice - DEATH AND THE MAIDEN (which, incidentally, is a classical piece by Schubert that is heard in the film during the Peter Cushing episode) - a great deal more. Though the linking device itself is not all that great, the episodes are all equally compelling and enjoyable. Production values come off as very respectable indeed for the budget Duffell had to work with. The latter infuses the film with a great deal of style which is not so common with this type of film and, frankly, it makes one regret the fact that he wished to distance himself from the genre (though more so as not to be typecast rather than because he felt it was beneath him).<br /><br />Now to the individual stories themselves: <br /><br />\"\"Method For Murder\"\": the opening segment does not offer any real surprises but, to make up for this, it's quietly suspenseful and appropriately creepy at times (Tom Adams' 'fictitious' villain looking like the long-lost brother of Boris Karloff from THE OLD DARK HOUSE [1932]); also, it ends with a satisfactory DIABOLIQUE-type twist, and features a fairly intense role for Denholm Elliott in the lead. That's all we need out of it, really.<br /><br />\"\"Waxworks\"\": for the second story we are introduced to a curiously romantic mood which is quite unusual for this type of film; Peter Cushing and Joss Ackland are both excellent (as well as impeccably dressed) in their roles of two jilted lovers of a woman who continues to obsess them even after such a long time, and whose friendly rivalry can only lead them blindly and inexorably to a fate that is literally worse than death; an ominous hallucination scene with Peter Cushing is quite well done in view of the limited resources at hand, and Ackland's inexplicable inability - or unwillingness - to leave town somewhat recalls the house-trapped aristocrats of Bunuel's THE EXTERMINATING ANGEL (1962).<br /><br />\"\"Sweets To The Sweet\"\": this is perhaps the finest episode of all - with his ambiguous role here, Christopher Lee continues to demonstrate his versatility and he is matched by an understanding Nyree Dawn Porter and the deceptive innocence of Chloe Franks (who appears as Lee's daughter). The film's treatment of the occult here is both subtle and mature, culminating in a powerful and extremely chilling 'curtain'. Trivia Note: Chloe Franks appears as a grown-up in the featurette included on the disc, and when I saw her I felt an immediate familiarity with her face but couldn't quite put my finger on it. Later, on reading her filmography, it was revealed to me that she had played one of the leads in the long-running stage adaptation of Agatha Christie's \"\"The Mousetrap\"\" in London's West End, which my brother and I were fortunate enough to catch while we there on holiday in the Summer of 2002! Needless to say, we had no idea then that she had once created such a delicate - and delicious - portrayal in sheer evil, mainly by virtue of her peculiar look and a devilish smile!! <br /><br />\"\"The Cloak\"\": a wacky but oddly reverent vampire tale (that still manages to debunk many of the myths attached to the subgenre, while inventing some new ones!) which takes in some wonderful digs at exploitation cinema and, at one point, Christopher Lee himself!; Jon Pertwee is marvelous as the campy horror star who gets more than he bargained for when he attempts to bring a measure of authenticity to his work; Ingrid Pitt sends up her image nicely though her role is somewhat subsidiary to the proceedings; Geoffrey Bayldon (made up to look like Ernest Thesiger) also has a memorably quirky bit; the 'silent-cinema' style of the ending was a pretty audacious one to pull on an audience, I suppose - and, while some of the humor comes off as heavy-handed a' la THE FEARLESS VAMPIRE KILLERS (1967) or THEATRE OF BLOOD (1973), it's also rather infectious and certainly ends the film on a high (and highly unusual) note! <br /><br />Video and audio quality are relatively satisfactory, considering I had no other version to compare it with; the main culprit is some noticeable print damage but this is never so nasty as to affect one's enjoyment of the film. As for the extras, beginning with the Audio Commentary: frankly, this is one of the finest chats about a genre film that I can remember listening to; Jonathan Rigby gets to butt in with his opinion more than is usual for a moderator but his effort certainly allows director Peter Duffell to touch on every aspect of the production (whereas with some other films, you're left rather expecting there to be more!) and, as such, it's an extremely pleasant track that complements the main feature very nicely indeed. The featurette \"\"A-Rated Horror Film\"\" is a worthwhile effort with Peter Duffell again at center-stage but this time backed up with valid, if all-too-brief, contributions from producer Max J. Rosenberg and stars Chloe Franks, Ingrid Pitt and Geoffrey Bayldon. We also get film notes, reviews, bios and a poster/stills gallery which, again, are wonderfully assembled (with the contemporary reviews being something of a novelty - and a welcome one at that).\"\r\n"
          ]
        }
      ]
    },
    {
      "cell_type": "code",
      "metadata": {
        "id": "5R9e3pctHIV2",
        "colab": {
          "base_uri": "https://localhost:8080/"
        },
        "outputId": "de42b89e-98ff-4c35-e0cb-89c2e6aad299"
      },
      "source": [
        "import pandas as pd\n",
        "\n",
        "train_df = pd.read_csv(\"train.tsv\", delimiter=\"\\t\")\n",
        "test_df = pd.read_csv(\"test.tsv\", delimiter=\"\\t\")\n",
        "\n",
        "print('Train size = {}'.format(len(train_df)))\n",
        "print('Test size = {}'.format(len(test_df)))"
      ],
      "execution_count": null,
      "outputs": [
        {
          "output_type": "stream",
          "name": "stdout",
          "text": [
            "Train size = 25000\n",
            "Test size = 25000\n"
          ]
        }
      ]
    },
    {
      "cell_type": "markdown",
      "metadata": {
        "id": "6oHbJCPPwhjp"
      },
      "source": [
        "Посмотрите глазами на тексты? Какие есть зацепки, как определить, что это за сентимент?\n",
        "\n",
        "Самое простое, как всегда - найти ключевые слова."
      ]
    },
    {
      "cell_type": "code",
      "source": [
        "import nltk\n",
        "nltk.download('punkt')\n",
        "\n",
        "from collections import Counter"
      ],
      "metadata": {
        "colab": {
          "base_uri": "https://localhost:8080/"
        },
        "id": "pwz79JYg4-9X",
        "outputId": "6b3fb2d6-d68b-463a-a118-7f3f249216e9"
      },
      "execution_count": null,
      "outputs": [
        {
          "output_type": "stream",
          "name": "stderr",
          "text": [
            "[nltk_data] Downloading package punkt to /root/nltk_data...\n",
            "[nltk_data]   Unzipping tokenizers/punkt.zip.\n"
          ]
        }
      ]
    },
    {
      "cell_type": "code",
      "source": [
        "pos = []\n",
        "for i in train_df[train_df['is_positive']==1]['review']:\n",
        "  for j in nltk.word_tokenize(i):\n",
        "    pos.append(j)\n",
        "pos_count = Counter(pos)"
      ],
      "metadata": {
        "id": "5HB1P5Em4d7e"
      },
      "execution_count": null,
      "outputs": []
    },
    {
      "cell_type": "code",
      "source": [
        "neg = []\n",
        "for i in train_df[train_df['is_positive']==0]['review']:\n",
        "  for j in nltk.word_tokenize(i):\n",
        "    neg.append(j)\n",
        "neg_count = Counter(neg)"
      ],
      "metadata": {
        "id": "3FDA9bJT7BDU"
      },
      "execution_count": null,
      "outputs": []
    },
    {
      "cell_type": "code",
      "source": [
        "pos_dict = {}\n",
        "for i in pos_count.keys():\n",
        "  pos_dict[i] = pos_count[i]/max(1, neg_count[i])\n",
        "sorted(list(pos_dict.items()), key=lambda x: -x[1])[:10]"
      ],
      "metadata": {
        "colab": {
          "base_uri": "https://localhost:8080/"
        },
        "id": "wkdk9I0W7GyZ",
        "outputId": "e8c298b0-cefe-47b3-bb1a-f3895a1106f8"
      },
      "execution_count": null,
      "outputs": [
        {
          "output_type": "execute_result",
          "data": {
            "text/plain": [
              "[('Paulie', 114.0),\n",
              " ('Edie', 109.0),\n",
              " ('Antwone', 85.0),\n",
              " ('Din', 74.0),\n",
              " ('Goldsworthy', 65.0),\n",
              " ('Gypo', 60.0),\n",
              " ('Gunga', 58.0),\n",
              " ('Blunt', 55.0),\n",
              " ('Visconti', 51.0),\n",
              " ('Iturbi', 50.0)]"
            ]
          },
          "metadata": {},
          "execution_count": 247
        }
      ]
    },
    {
      "cell_type": "code",
      "source": [
        "neg_dict = {}\n",
        "for i in neg_count.keys():\n",
        "  neg_dict[i] = neg_count[i]/max(1,pos_count[i])\n",
        "sorted(list(neg_dict.items()), key=lambda x: -x[1])[:10]"
      ],
      "metadata": {
        "colab": {
          "base_uri": "https://localhost:8080/"
        },
        "id": "sE7jULPZ-sD6",
        "outputId": "88b8e1eb-68fe-4367-de7f-e0918c45219d"
      },
      "execution_count": null,
      "outputs": [
        {
          "output_type": "execute_result",
          "data": {
            "text/plain": [
              "[('Boll', 137.0),\n",
              " ('Avoid', 120.5),\n",
              " ('2/10', 119.0),\n",
              " ('Uwe', 98.0),\n",
              " ('4/10', 82.5),\n",
              " ('Seed', 68.0),\n",
              " ('Beowulf', 60.0),\n",
              " ('Thunderbirds', 54.0),\n",
              " ('Prom', 54.0),\n",
              " ('Dahmer', 50.0)]"
            ]
          },
          "metadata": {},
          "execution_count": 248
        }
      ]
    },
    {
      "cell_type": "code",
      "metadata": {
        "id": "DywUCyMLr_TD",
        "colab": {
          "base_uri": "https://localhost:8080/"
        },
        "outputId": "21c49bf3-f93b-4a0d-eeb0-62b5b5e4a0e5"
      },
      "source": [
        "#@title Начинаем классифицировать! { vertical-output: true, display-mode: \"form\" }\n",
        "positive_words = 'love', 'great', 'best', 'wonderful', 'excellently', 'excellently', '10/10', '10/10', '9/10', '9/10', '8/10', '8/10', '7/10', '7/10', 'versatility', 'pickpocket', 'quibble', 'sweetly', 'sailing', 'treasured', 'scoop', 'complement', 'partition', 'knockout', 'uncompromising', 'nice', 'amazing', 'beautiful', 'fabulous' #@param {type:\"raw\"}\n",
        "negative_words = 'worst', 'awful', 'crap', '0/10', '1/10', '1/10', '2/10', '2/10', '3/10', '3/10', '4/10', '4/10', 'unwatchable', 'atrocious', 'atrocious', 'boredom', 'boredom', 'pathetic', 'steaming', 'steaming', 'awful', 'dumber', 'drivel', 'tomatoes', 'stinker', 'terrible', 'scarecrows', 'TERRIBLE', 'interminable', 'whatsoever', 'worst', 'WORST', 'HORRIBLE', 'horrible', 'dreck', 'appallingly', 'semblance', 'pointlessly', 'leaden', 'ketchup', 'jeep', 'forwarding', 'crawling', 'dumber', 'wrists', 'mumbling', 'incoherent', 'paycheck', 'dull', 'dull', 'pointless', 'pointless', 'stupid', 'idiot' #@param {type:\"raw\"}\n",
        "\n",
        "positives_count = test_df.review.apply(lambda text: sum(word in text for word in positive_words))\n",
        "negatives_count = test_df.review.apply(lambda text: sum(word in text for word in negative_words))\n",
        "is_positive = positives_count > negatives_count\n",
        "correct_count = (is_positive == test_df.is_positive).values.sum()\n",
        "\n",
        "accuracy = correct_count / len(test_df)\n",
        "\n",
        "print('Test accuracy = {:.2%}'.format(accuracy))"
      ],
      "execution_count": null,
      "outputs": [
        {
          "output_type": "stream",
          "name": "stdout",
          "text": [
            "Test accuracy = 72.47%\n"
          ]
        }
      ]
    },
    {
      "cell_type": "markdown",
      "metadata": {
        "id": "Oo8HRABxv1kW"
      },
      "source": [
        "**Задание** Придумайте хорошие ключевые слова или фразы и наберите хотя бы 71% точности на тесте (и не забудьте посмотреть на код классификации!)"
      ]
    },
    {
      "cell_type": "markdown",
      "metadata": {
        "id": "eaIrBClMUHZB"
      },
      "source": [
        "**Задание** Кому-нибудь нравятся эти `<br /><br />`? Лично мне - нет. Напишите регулярку, которая будет их удалять"
      ]
    },
    {
      "cell_type": "code",
      "metadata": {
        "id": "09OkUmtde6ny",
        "colab": {
          "base_uri": "https://localhost:8080/"
        },
        "outputId": "c2728282-421f-4c02-e8a2-e5981892c900"
      },
      "source": [
        "import re\n",
        "\n",
        "pattern = re.compile('<br />')\n",
        "\n",
        "print(train_df['review'].iloc[3])\n",
        "print(pattern.subn(' ', train_df['review'].iloc[3])[0])"
      ],
      "execution_count": null,
      "outputs": [
        {
          "output_type": "stream",
          "name": "stdout",
          "text": [
            "Spoilers ahead if you want to call them that...<br /><br />I would almost recommend this film just so people can truly see a 1/10. Where to begin, we'll start from the top...<br /><br />THE STORY: Don't believe the premise - the movie has nothing to do with abandoned cars, and people finially understanding what the mysterious happenings are. It's a draub, basic, go to cabin movie with no intensity or \"effort\".<br /><br />THE SCREENPLAY: I usually give credit to indie screenwriters, it's hard work when you are starting out...but this is crap. The story is flat - it leaves you emotionless the entire movie. The dialogue is extremely weak and predictable boasting lines of \"Woah, you totally freaked me out\" and \"I was wondering if you'd uh...if you'd like to..uh, would you come to the cabin with me?\". It makes me want to rip out all my hair, one strand at a time and feed it to myself.<br /><br />THE CHARACTERS: HOLY CRAP!!!! Some have described the characters as flat, I want to take it one step further and say that they actually have a reverse character arch.. They actually start working on a parallel universe and almost start acting backwards...<br /><br />THE ACTORS: Worse than the characters are the actors. They take already poor written characters and add in terrible high school drama acting. The \"Woah you totally freaked me out\" was said so monotone and slow - like it was dumbed down. I could complain for hours on the actors alone.<br /><br />TECHNICAL: LIGHTING: An eight year old would be disappointed with lighting on this movie. Too shadowy in areas, too bleached in others. The director shouldn't use light as an emotion until he learns how to light a basic scene properly. Baby Steps! SOUND: How many sound guys does it take to make a really shotty sounding movie? 9. With that many sound guys this should sound amazing but quite the opposite has occured. There is one scene in particular that really sticks out, these guys are driving in a car and the sound of the car changes with every camera angle....WEAK! CAMERA: Learn to use it.<br /><br />Anyway, I'm running out of complaining space.....rent it - I dare you...Rent it and learn from it...give it a 1 rating..it deserves it.<br /><br />Signing off... Amanda Christmas\n",
            "Spoilers ahead if you want to call them that...  I would almost recommend this film just so people can truly see a 1/10. Where to begin, we'll start from the top...  THE STORY: Don't believe the premise - the movie has nothing to do with abandoned cars, and people finially understanding what the mysterious happenings are. It's a draub, basic, go to cabin movie with no intensity or \"effort\".  THE SCREENPLAY: I usually give credit to indie screenwriters, it's hard work when you are starting out...but this is crap. The story is flat - it leaves you emotionless the entire movie. The dialogue is extremely weak and predictable boasting lines of \"Woah, you totally freaked me out\" and \"I was wondering if you'd uh...if you'd like to..uh, would you come to the cabin with me?\". It makes me want to rip out all my hair, one strand at a time and feed it to myself.  THE CHARACTERS: HOLY CRAP!!!! Some have described the characters as flat, I want to take it one step further and say that they actually have a reverse character arch.. They actually start working on a parallel universe and almost start acting backwards...  THE ACTORS: Worse than the characters are the actors. They take already poor written characters and add in terrible high school drama acting. The \"Woah you totally freaked me out\" was said so monotone and slow - like it was dumbed down. I could complain for hours on the actors alone.  TECHNICAL: LIGHTING: An eight year old would be disappointed with lighting on this movie. Too shadowy in areas, too bleached in others. The director shouldn't use light as an emotion until he learns how to light a basic scene properly. Baby Steps! SOUND: How many sound guys does it take to make a really shotty sounding movie? 9. With that many sound guys this should sound amazing but quite the opposite has occured. There is one scene in particular that really sticks out, these guys are driving in a car and the sound of the car changes with every camera angle....WEAK! CAMERA: Learn to use it.  Anyway, I'm running out of complaining space.....rent it - I dare you...Rent it and learn from it...give it a 1 rating..it deserves it.  Signing off... Amanda Christmas\n"
          ]
        }
      ]
    },
    {
      "cell_type": "markdown",
      "metadata": {
        "id": "vO6D9NuMi4II"
      },
      "source": [
        "Применим ее:"
      ]
    },
    {
      "cell_type": "code",
      "metadata": {
        "id": "7LTwQqs_hD-K"
      },
      "source": [
        "train_df['review'] = train_df['review'].apply(lambda text: pattern.subn(' ', text)[0])\n",
        "test_df['review'] = test_df['review'].apply(lambda text: pattern.subn(' ', text)[0])"
      ],
      "execution_count": null,
      "outputs": []
    },
    {
      "cell_type": "markdown",
      "metadata": {
        "id": "vGxzf4oXmXqw"
      },
      "source": [
        "Пора переходить к машинке!\n",
        "\n",
        "Как будем представлять текст? Проще всего - мешком слов.\n",
        "\n",
        "Заведём большой-большой словарь - список всех слов в обучающей выборке. Тогда каждое предложение можно представить в виде вектора, в котором будет записано, сколько раз встретилось каждое из возможных слов:\n",
        "\n",
        "![bow](https://raw.githubusercontent.com/DanAnastasyev/DeepNLP-Course/master/Week%2001/Images/BOW.png)\n",
        "\n",
        "Простой и приятный способ сделать это - запихнуть тексты в `CountVectorizer`.\n",
        "\n",
        "Он имеет такую сигнатуру:\n",
        "\n",
        "```python\n",
        "CountVectorizer(input='content', encoding='utf-8', decode_error='strict', strip_accents=None, lowercase=True, preprocessor=None, tokenizer=None, stop_words=None, token_pattern=r'(?u)\\b\\w\\w+\\b', ngram_range=(1, 1), analyzer='word', max_df=1.0, min_df=1, max_features=None, vocabulary=None, binary=False, dtype=<class ‘numpy.int64'>)\n",
        "```\n",
        "\n",
        "Для начала обратим внимание на параметры `lowercase=True` и `max_df=1.0, min_df=1, max_features=None` - они про то, что по умолчанию все слова будут приводиться к нижнему регистру и в словарь попадут все слова, встречавшиеся в текстах.\n",
        "\n",
        "При желании можно было бы убрать слишком редкие или слишком частотные слова - пока не будем этого делать.\n",
        "\n",
        "Посмотрим на простом примере, как он будет работать:"
      ]
    },
    {
      "cell_type": "code",
      "metadata": {
        "id": "5Odnum4iyGDr",
        "colab": {
          "base_uri": "https://localhost:8080/"
        },
        "outputId": "0feb219b-5890-49dd-9bf9-c5705f84cad4"
      },
      "source": [
        "from sklearn.feature_extraction.text import CountVectorizer\n",
        "\n",
        "vectorizer = CountVectorizer()\n",
        "\n",
        "dummy_data = ['The movie was excellent',\n",
        "              'the movie was awful']\n",
        "\n",
        "dummy_matrix = vectorizer.fit_transform(dummy_data)\n",
        "\n",
        "print(dummy_matrix.toarray())\n",
        "print(vectorizer.get_feature_names())"
      ],
      "execution_count": null,
      "outputs": [
        {
          "output_type": "stream",
          "name": "stdout",
          "text": [
            "[[0 1 1 1 1]\n",
            " [1 0 1 1 1]]\n",
            "['awful', 'excellent', 'movie', 'the', 'was']\n"
          ]
        },
        {
          "output_type": "stream",
          "name": "stderr",
          "text": [
            "/usr/local/lib/python3.7/dist-packages/sklearn/utils/deprecation.py:87: FutureWarning: Function get_feature_names is deprecated; get_feature_names is deprecated in 1.0 and will be removed in 1.2. Please use get_feature_names_out instead.\n",
            "  warnings.warn(msg, category=FutureWarning)\n"
          ]
        }
      ]
    },
    {
      "cell_type": "markdown",
      "metadata": {
        "id": "q3zC1ItWybVc"
      },
      "source": [
        "*Как именно vectorizer определяет границы слов? Обратите внимание на параметр `token_pattern=r'(?u)\\b\\w\\w+\\b'` - как он будет работать?*\n",
        "\n",
        "Запустим его на реальных данных:"
      ]
    },
    {
      "cell_type": "code",
      "metadata": {
        "id": "Ccd2gaCdQq2W",
        "colab": {
          "base_uri": "https://localhost:8080/"
        },
        "outputId": "42a34545-b6fa-431b-c2b9-5c352cfdc00a"
      },
      "source": [
        "vectorizer = CountVectorizer()\n",
        "vectorizer.fit(train_df['review'].values)"
      ],
      "execution_count": null,
      "outputs": [
        {
          "output_type": "execute_result",
          "data": {
            "text/plain": [
              "CountVectorizer()"
            ]
          },
          "metadata": {},
          "execution_count": 273
        }
      ]
    },
    {
      "cell_type": "markdown",
      "metadata": {
        "id": "J_JC9n6C0bFR"
      },
      "source": [
        "Посмотрим на слова, попавшие в словарь:"
      ]
    },
    {
      "cell_type": "code",
      "metadata": {
        "id": "stV4ICO3mKsf",
        "colab": {
          "base_uri": "https://localhost:8080/"
        },
        "outputId": "c419836f-d867-4c19-dab7-eac787cfe1a6"
      },
      "source": [
        "vectorizer.get_feature_names()[:10]"
      ],
      "execution_count": null,
      "outputs": [
        {
          "output_type": "stream",
          "name": "stderr",
          "text": [
            "/usr/local/lib/python3.7/dist-packages/sklearn/utils/deprecation.py:87: FutureWarning: Function get_feature_names is deprecated; get_feature_names is deprecated in 1.0 and will be removed in 1.2. Please use get_feature_names_out instead.\n",
            "  warnings.warn(msg, category=FutureWarning)\n"
          ]
        },
        {
          "output_type": "execute_result",
          "data": {
            "text/plain": [
              "['00',\n",
              " '000',\n",
              " '0000000000001',\n",
              " '00001',\n",
              " '00015',\n",
              " '000s',\n",
              " '001',\n",
              " '003830',\n",
              " '006',\n",
              " '007']"
            ]
          },
          "metadata": {},
          "execution_count": 275
        }
      ]
    },
    {
      "cell_type": "markdown",
      "metadata": {
        "id": "oesbuQ9g0krj"
      },
      "source": [
        "Попробуем кого-нибудь таки сконвертировать"
      ]
    },
    {
      "cell_type": "code",
      "metadata": {
        "id": "lUWtDWcp0g7U",
        "colab": {
          "base_uri": "https://localhost:8080/"
        },
        "outputId": "c421386d-2bfb-47e5-d98c-bee437c8ce48"
      },
      "source": [
        "vectorizer.transform([train_df['review'].iloc[3]])"
      ],
      "execution_count": null,
      "outputs": [
        {
          "output_type": "execute_result",
          "data": {
            "text/plain": [
              "<1x74849 sparse matrix of type '<class 'numpy.int64'>'\n",
              "\twith 206 stored elements in Compressed Sparse Row format>"
            ]
          },
          "metadata": {},
          "execution_count": 276
        }
      ]
    },
    {
      "cell_type": "markdown",
      "metadata": {
        "id": "lZCRef3pyCRC"
      },
      "source": [
        "То, что и хотели - вектор с bow (т.е. bag-of-words) представлением исходного текста.\n",
        "\n",
        "И чем эта информация может помочь? Ну, всё тем же - какие-то слова носят положительный окрас, какие-то - отрицательный. Большинство вообще нейтральный, да.\n",
        "\n",
        "![bow with weights](https://github.com/DanAnastasyev/DeepNLP-Course/raw/master/Week%2001/Images/BOW_weights.png)\n",
        "\n",
        "Хочется, наверное, подобрать коэффициенты, которые будут определять уровень окраса, да? Подбирать нужно по обучающей выборке, а не как мы перед этим делали.\n",
        "\n",
        "Например, для выборки\n",
        "```\n",
        "1   The movie was excellent\n",
        "0   the movie was awful\n",
        "```\n",
        "легко подобрать коэффициенты на глазок: что-нибудь вроде `+1` для `excellent`,  `-1` для `awful` и по нулям всем остальным.\n",
        "\n",
        "Построим линейную модель, которая станет этим заниматься. Она будет учиться строить разделяющую гиперплоскость в пространстве bow-векторов.\n",
        "\n",
        "Проверим, как справится логистическая регрессия с нашей супер-выборкой из пары предложений"
      ]
    },
    {
      "cell_type": "code",
      "metadata": {
        "id": "i6WVgK4LtUn2",
        "colab": {
          "base_uri": "https://localhost:8080/"
        },
        "outputId": "23f1de57-b0c6-446b-9c1e-63a1bf248f78"
      },
      "source": [
        "from sklearn.linear_model import LogisticRegression\n",
        "from sklearn.pipeline import Pipeline\n",
        "\n",
        "dummy_data = ['The movie was excellent',\n",
        "              'the movie was awful']\n",
        "dummy_labels = [1, 0]\n",
        "\n",
        "vectorizer = CountVectorizer()\n",
        "classifier = LogisticRegression()\n",
        "\n",
        "model = Pipeline([\n",
        "    ('vectorizer', vectorizer),\n",
        "    ('classifier', classifier)\n",
        "])\n",
        "\n",
        "model.fit(dummy_data, dummy_labels)\n",
        "\n",
        "print(vectorizer.get_feature_names())\n",
        "print(classifier.coef_)"
      ],
      "execution_count": null,
      "outputs": [
        {
          "output_type": "stream",
          "name": "stdout",
          "text": [
            "['awful', 'excellent', 'movie', 'the', 'was']\n",
            "[[-0.40104279  0.40104279  0.          0.          0.        ]]\n"
          ]
        },
        {
          "output_type": "stream",
          "name": "stderr",
          "text": [
            "/usr/local/lib/python3.7/dist-packages/sklearn/utils/deprecation.py:87: FutureWarning: Function get_feature_names is deprecated; get_feature_names is deprecated in 1.0 and will be removed in 1.2. Please use get_feature_names_out instead.\n",
            "  warnings.warn(msg, category=FutureWarning)\n"
          ]
        }
      ]
    },
    {
      "cell_type": "markdown",
      "metadata": {
        "id": "C9Y-kq-tv-XY"
      },
      "source": [
        "Получилось что надо.\n",
        "\n",
        "Запустим теперь её на реальных данных."
      ]
    },
    {
      "cell_type": "code",
      "metadata": {
        "id": "kvxHIIbSiUXq",
        "colab": {
          "base_uri": "https://localhost:8080/"
        },
        "outputId": "42b36dd7-87eb-48d2-ff31-fae27e958e5c"
      },
      "source": [
        "model.fit(train_df['review'], train_df['is_positive'])"
      ],
      "execution_count": null,
      "outputs": [
        {
          "output_type": "stream",
          "name": "stderr",
          "text": [
            "/usr/local/lib/python3.7/dist-packages/sklearn/linear_model/_logistic.py:818: ConvergenceWarning: lbfgs failed to converge (status=1):\n",
            "STOP: TOTAL NO. of ITERATIONS REACHED LIMIT.\n",
            "\n",
            "Increase the number of iterations (max_iter) or scale the data as shown in:\n",
            "    https://scikit-learn.org/stable/modules/preprocessing.html\n",
            "Please also refer to the documentation for alternative solver options:\n",
            "    https://scikit-learn.org/stable/modules/linear_model.html#logistic-regression\n",
            "  extra_warning_msg=_LOGISTIC_SOLVER_CONVERGENCE_MSG,\n"
          ]
        },
        {
          "output_type": "execute_result",
          "data": {
            "text/plain": [
              "Pipeline(steps=[('vectorizer', CountVectorizer()),\n",
              "                ('classifier', LogisticRegression())])"
            ]
          },
          "metadata": {},
          "execution_count": 355
        }
      ]
    },
    {
      "cell_type": "code",
      "metadata": {
        "id": "-d3BBV_uUu-O",
        "colab": {
          "base_uri": "https://localhost:8080/"
        },
        "outputId": "cc0d63a5-374b-45db-c550-95bca5e6a423"
      },
      "source": [
        "from sklearn.metrics import accuracy_score\n",
        "\n",
        "def eval_model(model, test_df):\n",
        "    preds = model.predict(test_df['review'])\n",
        "    print('Test accuracy = {:.2%}'.format(accuracy_score(test_df['is_positive'], preds)))\n",
        "    \n",
        "eval_model(model, test_df)"
      ],
      "execution_count": null,
      "outputs": [
        {
          "output_type": "stream",
          "name": "stdout",
          "text": [
            "Test accuracy = 86.50%\n"
          ]
        }
      ]
    },
    {
      "cell_type": "markdown",
      "metadata": {
        "id": "Pnmmz3u71ctO"
      },
      "source": [
        "Прогресс!\n",
        "\n",
        "Хочется как-то посмотреть, что заинтересовало классификатор. К счастью, сделать это совсем просто:"
      ]
    },
    {
      "cell_type": "code",
      "metadata": {
        "id": "8W1Ngl-aVuYx",
        "colab": {
          "base_uri": "https://localhost:8080/",
          "height": 875
        },
        "outputId": "a3609e17-e9e5-49ea-e61c-31f8267ec297"
      },
      "source": [
        "import eli5\n",
        "eli5.show_weights(classifier, vec=vectorizer, top=40)"
      ],
      "execution_count": null,
      "outputs": [
        {
          "output_type": "stream",
          "name": "stderr",
          "text": [
            "/usr/local/lib/python3.7/dist-packages/sklearn/utils/deprecation.py:87: FutureWarning: Function get_feature_names is deprecated; get_feature_names is deprecated in 1.0 and will be removed in 1.2. Please use get_feature_names_out instead.\n",
            "  warnings.warn(msg, category=FutureWarning)\n"
          ]
        },
        {
          "output_type": "execute_result",
          "data": {
            "text/plain": [
              "<IPython.core.display.HTML object>"
            ],
            "text/html": [
              "\n",
              "    <style>\n",
              "    table.eli5-weights tr:hover {\n",
              "        filter: brightness(85%);\n",
              "    }\n",
              "</style>\n",
              "\n",
              "\n",
              "\n",
              "    \n",
              "\n",
              "    \n",
              "\n",
              "    \n",
              "\n",
              "    \n",
              "\n",
              "    \n",
              "\n",
              "    \n",
              "\n",
              "\n",
              "    \n",
              "\n",
              "    \n",
              "\n",
              "    \n",
              "\n",
              "    \n",
              "        \n",
              "\n",
              "    \n",
              "\n",
              "        \n",
              "            \n",
              "                \n",
              "                \n",
              "    \n",
              "        <p style=\"margin-bottom: 0.5em; margin-top: 0em\">\n",
              "            <b>\n",
              "    \n",
              "        y=1\n",
              "    \n",
              "</b>\n",
              "\n",
              "top features\n",
              "        </p>\n",
              "    \n",
              "    <table class=\"eli5-weights\"\n",
              "           style=\"border-collapse: collapse; border: none; margin-top: 0em; table-layout: auto; margin-bottom: 2em;\">\n",
              "        <thead>\n",
              "        <tr style=\"border: none;\">\n",
              "            \n",
              "                <th style=\"padding: 0 1em 0 0.5em; text-align: right; border: none;\" title=\"Feature weights. Note that weights do not account for feature value scales, so if feature values have different scales, features with highest weights might not be the most important.\">\n",
              "                    Weight<sup>?</sup>\n",
              "                </th>\n",
              "            \n",
              "            <th style=\"padding: 0 0.5em 0 0.5em; text-align: left; border: none;\">Feature</th>\n",
              "            \n",
              "        </tr>\n",
              "        </thead>\n",
              "        <tbody>\n",
              "        \n",
              "            <tr style=\"background-color: hsl(120, 100.00%, 84.41%); border: none;\">\n",
              "    <td style=\"padding: 0 1em 0 0.5em; text-align: right; border: none;\">\n",
              "        +1.855\n",
              "    </td>\n",
              "    <td style=\"padding: 0 0.5em 0 0.5em; text-align: left; border: none;\">\n",
              "        refreshing\n",
              "    </td>\n",
              "    \n",
              "</tr>\n",
              "        \n",
              "            <tr style=\"background-color: hsl(120, 100.00%, 84.97%); border: none;\">\n",
              "    <td style=\"padding: 0 1em 0 0.5em; text-align: right; border: none;\">\n",
              "        +1.760\n",
              "    </td>\n",
              "    <td style=\"padding: 0 0.5em 0 0.5em; text-align: left; border: none;\">\n",
              "        wonderfully\n",
              "    </td>\n",
              "    \n",
              "</tr>\n",
              "        \n",
              "            <tr style=\"background-color: hsl(120, 100.00%, 85.40%); border: none;\">\n",
              "    <td style=\"padding: 0 1em 0 0.5em; text-align: right; border: none;\">\n",
              "        +1.689\n",
              "    </td>\n",
              "    <td style=\"padding: 0 0.5em 0 0.5em; text-align: left; border: none;\">\n",
              "        funniest\n",
              "    </td>\n",
              "    \n",
              "</tr>\n",
              "        \n",
              "            <tr style=\"background-color: hsl(120, 100.00%, 85.65%); border: none;\">\n",
              "    <td style=\"padding: 0 1em 0 0.5em; text-align: right; border: none;\">\n",
              "        +1.647\n",
              "    </td>\n",
              "    <td style=\"padding: 0 0.5em 0 0.5em; text-align: left; border: none;\">\n",
              "        surprisingly\n",
              "    </td>\n",
              "    \n",
              "</tr>\n",
              "        \n",
              "            <tr style=\"background-color: hsl(120, 100.00%, 85.79%); border: none;\">\n",
              "    <td style=\"padding: 0 1em 0 0.5em; text-align: right; border: none;\">\n",
              "        +1.626\n",
              "    </td>\n",
              "    <td style=\"padding: 0 0.5em 0 0.5em; text-align: left; border: none;\">\n",
              "        rare\n",
              "    </td>\n",
              "    \n",
              "</tr>\n",
              "        \n",
              "            <tr style=\"background-color: hsl(120, 100.00%, 86.99%); border: none;\">\n",
              "    <td style=\"padding: 0 1em 0 0.5em; text-align: right; border: none;\">\n",
              "        +1.432\n",
              "    </td>\n",
              "    <td style=\"padding: 0 0.5em 0 0.5em; text-align: left; border: none;\">\n",
              "        superb\n",
              "    </td>\n",
              "    \n",
              "</tr>\n",
              "        \n",
              "            <tr style=\"background-color: hsl(120, 100.00%, 87.19%); border: none;\">\n",
              "    <td style=\"padding: 0 1em 0 0.5em; text-align: right; border: none;\">\n",
              "        +1.401\n",
              "    </td>\n",
              "    <td style=\"padding: 0 0.5em 0 0.5em; text-align: left; border: none;\">\n",
              "        excellent\n",
              "    </td>\n",
              "    \n",
              "</tr>\n",
              "        \n",
              "            <tr style=\"background-color: hsl(120, 100.00%, 87.42%); border: none;\">\n",
              "    <td style=\"padding: 0 1em 0 0.5em; text-align: right; border: none;\">\n",
              "        +1.365\n",
              "    </td>\n",
              "    <td style=\"padding: 0 0.5em 0 0.5em; text-align: left; border: none;\">\n",
              "        incredible\n",
              "    </td>\n",
              "    \n",
              "</tr>\n",
              "        \n",
              "            <tr style=\"background-color: hsl(120, 100.00%, 87.51%); border: none;\">\n",
              "    <td style=\"padding: 0 1em 0 0.5em; text-align: right; border: none;\">\n",
              "        +1.351\n",
              "    </td>\n",
              "    <td style=\"padding: 0 0.5em 0 0.5em; text-align: left; border: none;\">\n",
              "        perfect\n",
              "    </td>\n",
              "    \n",
              "</tr>\n",
              "        \n",
              "            <tr style=\"background-color: hsl(120, 100.00%, 87.83%); border: none;\">\n",
              "    <td style=\"padding: 0 1em 0 0.5em; text-align: right; border: none;\">\n",
              "        +1.302\n",
              "    </td>\n",
              "    <td style=\"padding: 0 0.5em 0 0.5em; text-align: left; border: none;\">\n",
              "        delightful\n",
              "    </td>\n",
              "    \n",
              "</tr>\n",
              "        \n",
              "            <tr style=\"background-color: hsl(120, 100.00%, 88.08%); border: none;\">\n",
              "    <td style=\"padding: 0 1em 0 0.5em; text-align: right; border: none;\">\n",
              "        +1.264\n",
              "    </td>\n",
              "    <td style=\"padding: 0 0.5em 0 0.5em; text-align: left; border: none;\">\n",
              "        vengeance\n",
              "    </td>\n",
              "    \n",
              "</tr>\n",
              "        \n",
              "        \n",
              "            <tr style=\"background-color: hsl(120, 100.00%, 88.08%); border: none;\">\n",
              "                <td colspan=\"2\" style=\"padding: 0 0.5em 0 0.5em; text-align: center; border: none; white-space: nowrap;\">\n",
              "                    <i>&hellip; 37681 more positive &hellip;</i>\n",
              "                </td>\n",
              "            </tr>\n",
              "        \n",
              "\n",
              "        \n",
              "            <tr style=\"background-color: hsl(0, 100.00%, 87.97%); border: none;\">\n",
              "                <td colspan=\"2\" style=\"padding: 0 0.5em 0 0.5em; text-align: center; border: none; white-space: nowrap;\">\n",
              "                    <i>&hellip; 37129 more negative &hellip;</i>\n",
              "                </td>\n",
              "            </tr>\n",
              "        \n",
              "        \n",
              "            <tr style=\"background-color: hsl(0, 100.00%, 87.97%); border: none;\">\n",
              "    <td style=\"padding: 0 1em 0 0.5em; text-align: right; border: none;\">\n",
              "        -1.280\n",
              "    </td>\n",
              "    <td style=\"padding: 0 0.5em 0 0.5em; text-align: left; border: none;\">\n",
              "        dull\n",
              "    </td>\n",
              "    \n",
              "</tr>\n",
              "        \n",
              "            <tr style=\"background-color: hsl(0, 100.00%, 87.97%); border: none;\">\n",
              "    <td style=\"padding: 0 1em 0 0.5em; text-align: right; border: none;\">\n",
              "        -1.281\n",
              "    </td>\n",
              "    <td style=\"padding: 0 0.5em 0 0.5em; text-align: left; border: none;\">\n",
              "        worse\n",
              "    </td>\n",
              "    \n",
              "</tr>\n",
              "        \n",
              "            <tr style=\"background-color: hsl(0, 100.00%, 87.88%); border: none;\">\n",
              "    <td style=\"padding: 0 1em 0 0.5em; text-align: right; border: none;\">\n",
              "        -1.295\n",
              "    </td>\n",
              "    <td style=\"padding: 0 0.5em 0 0.5em; text-align: left; border: none;\">\n",
              "        mildly\n",
              "    </td>\n",
              "    \n",
              "</tr>\n",
              "        \n",
              "            <tr style=\"background-color: hsl(0, 100.00%, 87.83%); border: none;\">\n",
              "    <td style=\"padding: 0 1em 0 0.5em; text-align: right; border: none;\">\n",
              "        -1.303\n",
              "    </td>\n",
              "    <td style=\"padding: 0 0.5em 0 0.5em; text-align: left; border: none;\">\n",
              "        redeeming\n",
              "    </td>\n",
              "    \n",
              "</tr>\n",
              "        \n",
              "            <tr style=\"background-color: hsl(0, 100.00%, 87.53%); border: none;\">\n",
              "    <td style=\"padding: 0 1em 0 0.5em; text-align: right; border: none;\">\n",
              "        -1.349\n",
              "    </td>\n",
              "    <td style=\"padding: 0 0.5em 0 0.5em; text-align: left; border: none;\">\n",
              "        baldwin\n",
              "    </td>\n",
              "    \n",
              "</tr>\n",
              "        \n",
              "            <tr style=\"background-color: hsl(0, 100.00%, 87.49%); border: none;\">\n",
              "    <td style=\"padding: 0 1em 0 0.5em; text-align: right; border: none;\">\n",
              "        -1.355\n",
              "    </td>\n",
              "    <td style=\"padding: 0 0.5em 0 0.5em; text-align: left; border: none;\">\n",
              "        wooden\n",
              "    </td>\n",
              "    \n",
              "</tr>\n",
              "        \n",
              "            <tr style=\"background-color: hsl(0, 100.00%, 87.47%); border: none;\">\n",
              "    <td style=\"padding: 0 1em 0 0.5em; text-align: right; border: none;\">\n",
              "        -1.357\n",
              "    </td>\n",
              "    <td style=\"padding: 0 0.5em 0 0.5em; text-align: left; border: none;\">\n",
              "        weak\n",
              "    </td>\n",
              "    \n",
              "</tr>\n",
              "        \n",
              "            <tr style=\"background-color: hsl(0, 100.00%, 87.33%); border: none;\">\n",
              "    <td style=\"padding: 0 1em 0 0.5em; text-align: right; border: none;\">\n",
              "        -1.379\n",
              "    </td>\n",
              "    <td style=\"padding: 0 0.5em 0 0.5em; text-align: left; border: none;\">\n",
              "        badly\n",
              "    </td>\n",
              "    \n",
              "</tr>\n",
              "        \n",
              "            <tr style=\"background-color: hsl(0, 100.00%, 87.24%); border: none;\">\n",
              "    <td style=\"padding: 0 1em 0 0.5em; text-align: right; border: none;\">\n",
              "        -1.393\n",
              "    </td>\n",
              "    <td style=\"padding: 0 0.5em 0 0.5em; text-align: left; border: none;\">\n",
              "        horrible\n",
              "    </td>\n",
              "    \n",
              "</tr>\n",
              "        \n",
              "            <tr style=\"background-color: hsl(0, 100.00%, 87.17%); border: none;\">\n",
              "    <td style=\"padding: 0 1em 0 0.5em; text-align: right; border: none;\">\n",
              "        -1.405\n",
              "    </td>\n",
              "    <td style=\"padding: 0 0.5em 0 0.5em; text-align: left; border: none;\">\n",
              "        mst3k\n",
              "    </td>\n",
              "    \n",
              "</tr>\n",
              "        \n",
              "            <tr style=\"background-color: hsl(0, 100.00%, 87.09%); border: none;\">\n",
              "    <td style=\"padding: 0 1em 0 0.5em; text-align: right; border: none;\">\n",
              "        -1.416\n",
              "    </td>\n",
              "    <td style=\"padding: 0 0.5em 0 0.5em; text-align: left; border: none;\">\n",
              "        save\n",
              "    </td>\n",
              "    \n",
              "</tr>\n",
              "        \n",
              "            <tr style=\"background-color: hsl(0, 100.00%, 87.05%); border: none;\">\n",
              "    <td style=\"padding: 0 1em 0 0.5em; text-align: right; border: none;\">\n",
              "        -1.423\n",
              "    </td>\n",
              "    <td style=\"padding: 0 0.5em 0 0.5em; text-align: left; border: none;\">\n",
              "        lame\n",
              "    </td>\n",
              "    \n",
              "</tr>\n",
              "        \n",
              "            <tr style=\"background-color: hsl(0, 100.00%, 86.87%); border: none;\">\n",
              "    <td style=\"padding: 0 1em 0 0.5em; text-align: right; border: none;\">\n",
              "        -1.452\n",
              "    </td>\n",
              "    <td style=\"padding: 0 0.5em 0 0.5em; text-align: left; border: none;\">\n",
              "        mediocre\n",
              "    </td>\n",
              "    \n",
              "</tr>\n",
              "        \n",
              "            <tr style=\"background-color: hsl(0, 100.00%, 86.31%); border: none;\">\n",
              "    <td style=\"padding: 0 1em 0 0.5em; text-align: right; border: none;\">\n",
              "        -1.541\n",
              "    </td>\n",
              "    <td style=\"padding: 0 0.5em 0 0.5em; text-align: left; border: none;\">\n",
              "        pointless\n",
              "    </td>\n",
              "    \n",
              "</tr>\n",
              "        \n",
              "            <tr style=\"background-color: hsl(0, 100.00%, 86.13%); border: none;\">\n",
              "    <td style=\"padding: 0 1em 0 0.5em; text-align: right; border: none;\">\n",
              "        -1.569\n",
              "    </td>\n",
              "    <td style=\"padding: 0 0.5em 0 0.5em; text-align: left; border: none;\">\n",
              "        alright\n",
              "    </td>\n",
              "    \n",
              "</tr>\n",
              "        \n",
              "            <tr style=\"background-color: hsl(0, 100.00%, 86.12%); border: none;\">\n",
              "    <td style=\"padding: 0 1em 0 0.5em; text-align: right; border: none;\">\n",
              "        -1.570\n",
              "    </td>\n",
              "    <td style=\"padding: 0 0.5em 0 0.5em; text-align: left; border: none;\">\n",
              "        unfunny\n",
              "    </td>\n",
              "    \n",
              "</tr>\n",
              "        \n",
              "            <tr style=\"background-color: hsl(0, 100.00%, 86.02%); border: none;\">\n",
              "    <td style=\"padding: 0 1em 0 0.5em; text-align: right; border: none;\">\n",
              "        -1.588\n",
              "    </td>\n",
              "    <td style=\"padding: 0 0.5em 0 0.5em; text-align: left; border: none;\">\n",
              "        forgettable\n",
              "    </td>\n",
              "    \n",
              "</tr>\n",
              "        \n",
              "            <tr style=\"background-color: hsl(0, 100.00%, 85.91%); border: none;\">\n",
              "    <td style=\"padding: 0 1em 0 0.5em; text-align: right; border: none;\">\n",
              "        -1.605\n",
              "    </td>\n",
              "    <td style=\"padding: 0 0.5em 0 0.5em; text-align: left; border: none;\">\n",
              "        disappointing\n",
              "    </td>\n",
              "    \n",
              "</tr>\n",
              "        \n",
              "            <tr style=\"background-color: hsl(0, 100.00%, 85.62%); border: none;\">\n",
              "    <td style=\"padding: 0 1em 0 0.5em; text-align: right; border: none;\">\n",
              "        -1.653\n",
              "    </td>\n",
              "    <td style=\"padding: 0 0.5em 0 0.5em; text-align: left; border: none;\">\n",
              "        boring\n",
              "    </td>\n",
              "    \n",
              "</tr>\n",
              "        \n",
              "            <tr style=\"background-color: hsl(0, 100.00%, 85.42%); border: none;\">\n",
              "    <td style=\"padding: 0 1em 0 0.5em; text-align: right; border: none;\">\n",
              "        -1.686\n",
              "    </td>\n",
              "    <td style=\"padding: 0 0.5em 0 0.5em; text-align: left; border: none;\">\n",
              "        avoid\n",
              "    </td>\n",
              "    \n",
              "</tr>\n",
              "        \n",
              "            <tr style=\"background-color: hsl(0, 100.00%, 85.19%); border: none;\">\n",
              "    <td style=\"padding: 0 1em 0 0.5em; text-align: right; border: none;\">\n",
              "        -1.723\n",
              "    </td>\n",
              "    <td style=\"padding: 0 0.5em 0 0.5em; text-align: left; border: none;\">\n",
              "        fails\n",
              "    </td>\n",
              "    \n",
              "</tr>\n",
              "        \n",
              "            <tr style=\"background-color: hsl(0, 100.00%, 85.18%); border: none;\">\n",
              "    <td style=\"padding: 0 1em 0 0.5em; text-align: right; border: none;\">\n",
              "        -1.725\n",
              "    </td>\n",
              "    <td style=\"padding: 0 0.5em 0 0.5em; text-align: left; border: none;\">\n",
              "        awful\n",
              "    </td>\n",
              "    \n",
              "</tr>\n",
              "        \n",
              "            <tr style=\"background-color: hsl(0, 100.00%, 85.17%); border: none;\">\n",
              "    <td style=\"padding: 0 1em 0 0.5em; text-align: right; border: none;\">\n",
              "        -1.727\n",
              "    </td>\n",
              "    <td style=\"padding: 0 0.5em 0 0.5em; text-align: left; border: none;\">\n",
              "        laughable\n",
              "    </td>\n",
              "    \n",
              "</tr>\n",
              "        \n",
              "            <tr style=\"background-color: hsl(0, 100.00%, 83.67%); border: none;\">\n",
              "    <td style=\"padding: 0 1em 0 0.5em; text-align: right; border: none;\">\n",
              "        -1.983\n",
              "    </td>\n",
              "    <td style=\"padding: 0 0.5em 0 0.5em; text-align: left; border: none;\">\n",
              "        mess\n",
              "    </td>\n",
              "    \n",
              "</tr>\n",
              "        \n",
              "            <tr style=\"background-color: hsl(0, 100.00%, 82.75%); border: none;\">\n",
              "    <td style=\"padding: 0 1em 0 0.5em; text-align: right; border: none;\">\n",
              "        -2.143\n",
              "    </td>\n",
              "    <td style=\"padding: 0 0.5em 0 0.5em; text-align: left; border: none;\">\n",
              "        lacks\n",
              "    </td>\n",
              "    \n",
              "</tr>\n",
              "        \n",
              "            <tr style=\"background-color: hsl(0, 100.00%, 81.77%); border: none;\">\n",
              "    <td style=\"padding: 0 1em 0 0.5em; text-align: right; border: none;\">\n",
              "        -2.320\n",
              "    </td>\n",
              "    <td style=\"padding: 0 0.5em 0 0.5em; text-align: left; border: none;\">\n",
              "        worst\n",
              "    </td>\n",
              "    \n",
              "</tr>\n",
              "        \n",
              "            <tr style=\"background-color: hsl(0, 100.00%, 81.60%); border: none;\">\n",
              "    <td style=\"padding: 0 1em 0 0.5em; text-align: right; border: none;\">\n",
              "        -2.350\n",
              "    </td>\n",
              "    <td style=\"padding: 0 0.5em 0 0.5em; text-align: left; border: none;\">\n",
              "        poorly\n",
              "    </td>\n",
              "    \n",
              "</tr>\n",
              "        \n",
              "            <tr style=\"background-color: hsl(0, 100.00%, 80.17%); border: none;\">\n",
              "    <td style=\"padding: 0 1em 0 0.5em; text-align: right; border: none;\">\n",
              "        -2.615\n",
              "    </td>\n",
              "    <td style=\"padding: 0 0.5em 0 0.5em; text-align: left; border: none;\">\n",
              "        waste\n",
              "    </td>\n",
              "    \n",
              "</tr>\n",
              "        \n",
              "            <tr style=\"background-color: hsl(0, 100.00%, 80.00%); border: none;\">\n",
              "    <td style=\"padding: 0 1em 0 0.5em; text-align: right; border: none;\">\n",
              "        -2.648\n",
              "    </td>\n",
              "    <td style=\"padding: 0 0.5em 0 0.5em; text-align: left; border: none;\">\n",
              "        disappointment\n",
              "    </td>\n",
              "    \n",
              "</tr>\n",
              "        \n",
              "\n",
              "        </tbody>\n",
              "    </table>\n",
              "\n",
              "            \n",
              "        \n",
              "\n",
              "        \n",
              "\n",
              "\n",
              "\n",
              "    \n",
              "\n",
              "    \n",
              "\n",
              "    \n",
              "\n",
              "    \n",
              "\n",
              "\n",
              "    \n",
              "\n",
              "    \n",
              "\n",
              "    \n",
              "\n",
              "    \n",
              "\n",
              "    \n",
              "\n",
              "    \n",
              "\n",
              "\n",
              "    \n",
              "\n",
              "    \n",
              "\n",
              "    \n",
              "\n",
              "    \n",
              "\n",
              "    \n",
              "\n",
              "    \n",
              "\n",
              "\n",
              "\n"
            ]
          },
          "metadata": {},
          "execution_count": 357
        }
      ]
    },
    {
      "cell_type": "markdown",
      "metadata": {
        "id": "0VgCE9tDk-aO"
      },
      "source": [
        "Посмотрим на конкретные примеры его работы:"
      ]
    },
    {
      "cell_type": "code",
      "metadata": {
        "id": "v-4sVWBOWJpo",
        "colab": {
          "base_uri": "https://localhost:8080/",
          "height": 309
        },
        "outputId": "43bb0a4e-516f-42c4-f55a-a4a48e0e1453"
      },
      "source": [
        "print('Positive' if test_df['is_positive'].iloc[1] else 'Negative')\n",
        "eli5.show_prediction(classifier, test_df['review'].iloc[1], vec=vectorizer, \n",
        "                     targets=['positive'], target_names=['negative', 'positive'])"
      ],
      "execution_count": null,
      "outputs": [
        {
          "output_type": "stream",
          "name": "stdout",
          "text": [
            "Positive\n"
          ]
        },
        {
          "output_type": "execute_result",
          "data": {
            "text/plain": [
              "<IPython.core.display.HTML object>"
            ],
            "text/html": [
              "\n",
              "    <style>\n",
              "    table.eli5-weights tr:hover {\n",
              "        filter: brightness(85%);\n",
              "    }\n",
              "</style>\n",
              "\n",
              "\n",
              "\n",
              "    \n",
              "\n",
              "    \n",
              "\n",
              "    \n",
              "\n",
              "    \n",
              "\n",
              "    \n",
              "\n",
              "    \n",
              "\n",
              "\n",
              "    \n",
              "\n",
              "    \n",
              "\n",
              "    \n",
              "\n",
              "    \n",
              "        \n",
              "\n",
              "    \n",
              "\n",
              "        \n",
              "\n",
              "        \n",
              "    \n",
              "        \n",
              "        \n",
              "    \n",
              "        <p style=\"margin-bottom: 0.5em; margin-top: 0em\">\n",
              "            <b>\n",
              "    \n",
              "        y=positive\n",
              "    \n",
              "</b>\n",
              "\n",
              "    \n",
              "    (probability <b>1.000</b>, score <b>18.921</b>)\n",
              "\n",
              "top features\n",
              "        </p>\n",
              "    \n",
              "    <table class=\"eli5-weights\"\n",
              "           style=\"border-collapse: collapse; border: none; margin-top: 0em; table-layout: auto; margin-bottom: 2em;\">\n",
              "        <thead>\n",
              "        <tr style=\"border: none;\">\n",
              "            \n",
              "                <th style=\"padding: 0 1em 0 0.5em; text-align: right; border: none;\" title=\"Feature contribution already accounts for the feature value (for linear models, contribution = weight * feature value), and the sum of feature contributions is equal to the score or, for some classifiers, to the probability. Feature values are shown if &quot;show_feature_values&quot; is True.\">\n",
              "                    Contribution<sup>?</sup>\n",
              "                </th>\n",
              "            \n",
              "            <th style=\"padding: 0 0.5em 0 0.5em; text-align: left; border: none;\">Feature</th>\n",
              "            \n",
              "        </tr>\n",
              "        </thead>\n",
              "        <tbody>\n",
              "        \n",
              "            <tr style=\"background-color: hsl(120, 100.00%, 80.00%); border: none;\">\n",
              "    <td style=\"padding: 0 1em 0 0.5em; text-align: right; border: none;\">\n",
              "        +18.937\n",
              "    </td>\n",
              "    <td style=\"padding: 0 0.5em 0 0.5em; text-align: left; border: none;\">\n",
              "        Highlighted in text (sum)\n",
              "    </td>\n",
              "    \n",
              "</tr>\n",
              "        \n",
              "        \n",
              "\n",
              "        \n",
              "        \n",
              "            <tr style=\"background-color: hsl(0, 100.00%, 99.86%); border: none;\">\n",
              "    <td style=\"padding: 0 1em 0 0.5em; text-align: right; border: none;\">\n",
              "        -0.016\n",
              "    </td>\n",
              "    <td style=\"padding: 0 0.5em 0 0.5em; text-align: left; border: none;\">\n",
              "        &lt;BIAS&gt;\n",
              "    </td>\n",
              "    \n",
              "</tr>\n",
              "        \n",
              "\n",
              "        </tbody>\n",
              "    </table>\n",
              "\n",
              "    \n",
              "\n",
              "\n",
              "\n",
              "    <p style=\"margin-bottom: 2.5em; margin-top:-0.5em;\">\n",
              "        <span style=\"background-color: hsl(0, 100.00%, 95.29%); opacity: 0.81\" title=\"-0.055\">this</span><span style=\"opacity: 0.80\"> </span><span style=\"background-color: hsl(120, 100.00%, 94.33%); opacity: 0.81\" title=\"0.071\">is</span><span style=\"opacity: 0.80\"> </span><span style=\"background-color: hsl(120, 100.00%, 83.44%); opacity: 0.86\" title=\"0.329\">both</span><span style=\"opacity: 0.80\"> </span><span style=\"background-color: hsl(0, 100.00%, 94.51%); opacity: 0.81\" title=\"-0.068\">an</span><span style=\"opacity: 0.80\"> </span><span style=\"background-color: hsl(120, 100.00%, 71.13%); opacity: 0.93\" title=\"0.728\">entertaining</span><span style=\"opacity: 0.80\"> </span><span style=\"background-color: hsl(120, 100.00%, 92.69%); opacity: 0.82\" title=\"0.102\">and</span><span style=\"opacity: 0.80\"> a </span><span style=\"background-color: hsl(120, 100.00%, 60.00%); opacity: 1.00\" title=\"1.161\">touching</span><span style=\"opacity: 0.80\"> </span><span style=\"background-color: hsl(0, 100.00%, 96.68%); opacity: 0.81\" title=\"-0.033\">version</span><span style=\"opacity: 0.80\"> </span><span style=\"background-color: hsl(0, 100.00%, 94.25%); opacity: 0.81\" title=\"-0.073\">of</span><span style=\"opacity: 0.80\"> </span><span style=\"background-color: hsl(120, 100.00%, 96.85%); opacity: 0.81\" title=\"0.031\">the</span><span style=\"opacity: 0.80\"> </span><span style=\"background-color: hsl(120, 100.00%, 79.12%); opacity: 0.88\" title=\"0.458\">classic</span><span style=\"opacity: 0.80\"> </span><span style=\"background-color: hsl(120, 100.00%, 90.78%); opacity: 0.82\" title=\"0.143\">tale</span><span style=\"opacity: 0.80\">, </span><span style=\"background-color: hsl(120, 100.00%, 86.26%); opacity: 0.84\" title=\"0.252\">also</span><span style=\"opacity: 0.80\"> </span><span style=\"background-color: hsl(120, 100.00%, 89.29%); opacity: 0.83\" title=\"0.177\">quite</span><span style=\"opacity: 0.80\"> </span><span style=\"background-color: hsl(120, 100.00%, 82.92%); opacity: 0.86\" title=\"0.344\">intelligent</span><span style=\"opacity: 0.80\">, </span><span style=\"background-color: hsl(0, 100.00%, 87.65%); opacity: 0.84\" title=\"-0.217\">not</span><span style=\"opacity: 0.80\"> </span><span style=\"background-color: hsl(0, 100.00%, 94.25%); opacity: 0.81\" title=\"-0.073\">of</span><span style=\"opacity: 0.80\"> </span><span style=\"background-color: hsl(120, 100.00%, 96.85%); opacity: 0.81\" title=\"0.031\">the</span><span style=\"opacity: 0.80\"> &#x27;</span><span style=\"background-color: hsl(120, 100.00%, 95.80%); opacity: 0.81\" title=\"0.046\">me</span><span style=\"opacity: 0.80\"> </span><span style=\"background-color: hsl(120, 100.00%, 93.37%); opacity: 0.82\" title=\"0.089\">tarzan</span><span style=\"opacity: 0.80\">, </span><span style=\"background-color: hsl(120, 100.00%, 85.62%); opacity: 0.85\" title=\"0.269\">you</span><span style=\"opacity: 0.80\"> </span><span style=\"background-color: hsl(120, 100.00%, 86.93%); opacity: 0.84\" title=\"0.235\">jane</span><span style=\"opacity: 0.80\">&#x27; </span><span style=\"background-color: hsl(120, 100.00%, 91.98%); opacity: 0.82\" title=\"0.117\">school</span><span style=\"opacity: 0.80\"> </span><span style=\"background-color: hsl(0, 100.00%, 97.49%); opacity: 0.80\" title=\"-0.022\">at</span><span style=\"opacity: 0.80\"> </span><span style=\"background-color: hsl(0, 100.00%, 97.18%); opacity: 0.80\" title=\"-0.026\">all</span><span style=\"opacity: 0.80\">.  </span><span style=\"background-color: hsl(120, 100.00%, 89.60%); opacity: 0.83\" title=\"0.169\">it</span><span style=\"opacity: 0.80\">&#x27;s </span><span style=\"background-color: hsl(120, 100.00%, 96.85%); opacity: 0.81\" title=\"0.031\">the</span><span style=\"opacity: 0.80\"> </span><span style=\"background-color: hsl(120, 100.00%, 84.63%); opacity: 0.85\" title=\"0.296\">famous</span><span style=\"opacity: 0.80\"> </span><span style=\"background-color: hsl(0, 100.00%, 99.54%); opacity: 0.80\" title=\"-0.002\">story</span><span style=\"opacity: 0.80\"> </span><span style=\"background-color: hsl(0, 100.00%, 94.25%); opacity: 0.81\" title=\"-0.073\">of</span><span style=\"opacity: 0.80\"> a </span><span style=\"background-color: hsl(0, 100.00%, 92.74%); opacity: 0.82\" title=\"-0.101\">child</span><span style=\"opacity: 0.80\"> </span><span style=\"background-color: hsl(0, 100.00%, 97.08%); opacity: 0.80\" title=\"-0.028\">reared</span><span style=\"opacity: 0.80\"> </span><span style=\"background-color: hsl(120, 100.00%, 98.14%); opacity: 0.80\" title=\"0.014\">to</span><span style=\"opacity: 0.80\"> </span><span style=\"background-color: hsl(120, 100.00%, 91.22%); opacity: 0.82\" title=\"0.133\">manhood</span><span style=\"opacity: 0.80\"> </span><span style=\"background-color: hsl(120, 100.00%, 98.82%); opacity: 0.80\" title=\"0.008\">in</span><span style=\"opacity: 0.80\"> </span><span style=\"background-color: hsl(120, 100.00%, 96.85%); opacity: 0.81\" title=\"0.031\">the</span><span style=\"opacity: 0.80\"> </span><span style=\"background-color: hsl(0, 100.00%, 85.71%); opacity: 0.85\" title=\"-0.267\">jungle</span><span style=\"opacity: 0.80\"> </span><span style=\"background-color: hsl(0, 100.00%, 93.96%); opacity: 0.81\" title=\"-0.078\">by</span><span style=\"opacity: 0.80\"> </span><span style=\"background-color: hsl(0, 100.00%, 95.91%); opacity: 0.81\" title=\"-0.045\">apes</span><span style=\"opacity: 0.80\">. a </span><span style=\"background-color: hsl(0, 100.00%, 81.00%); opacity: 0.87\" title=\"-0.401\">titled</span><span style=\"opacity: 0.80\"> </span><span style=\"background-color: hsl(120, 100.00%, 91.81%); opacity: 0.82\" title=\"0.120\">british</span><span style=\"opacity: 0.80\"> </span><span style=\"background-color: hsl(0, 100.00%, 86.07%); opacity: 0.84\" title=\"-0.257\">couple</span><span style=\"opacity: 0.80\"> (</span><span style=\"background-color: hsl(120, 100.00%, 96.85%); opacity: 0.81\" title=\"0.031\">the</span><span style=\"opacity: 0.80\"> </span><span style=\"background-color: hsl(120, 100.00%, 92.76%); opacity: 0.82\" title=\"0.101\">wife</span><span style=\"opacity: 0.80\"> </span><span style=\"background-color: hsl(0, 100.00%, 83.30%); opacity: 0.86\" title=\"-0.333\">pregnant</span><span style=\"opacity: 0.80\">) </span><span style=\"background-color: hsl(120, 100.00%, 94.33%); opacity: 0.81\" title=\"0.071\">is</span><span style=\"opacity: 0.80\"> </span><span style=\"background-color: hsl(120, 100.00%, 97.23%); opacity: 0.80\" title=\"0.026\">stranded</span><span style=\"opacity: 0.80\"> </span><span style=\"background-color: hsl(120, 100.00%, 98.82%); opacity: 0.80\" title=\"0.008\">in</span><span style=\"opacity: 0.80\"> </span><span style=\"background-color: hsl(120, 100.00%, 96.85%); opacity: 0.81\" title=\"0.031\">the</span><span style=\"opacity: 0.80\"> </span><span style=\"background-color: hsl(120, 100.00%, 91.27%); opacity: 0.82\" title=\"0.132\">african</span><span style=\"opacity: 0.80\"> </span><span style=\"background-color: hsl(0, 100.00%, 92.23%); opacity: 0.82\" title=\"-0.112\">wilds</span><span style=\"opacity: 0.80\"> </span><span style=\"background-color: hsl(0, 100.00%, 96.52%); opacity: 0.81\" title=\"-0.035\">after</span><span style=\"opacity: 0.80\"> a </span><span style=\"background-color: hsl(0, 100.00%, 99.19%); opacity: 0.80\" title=\"-0.004\">shipwreck</span><span style=\"opacity: 0.80\">. </span><span style=\"background-color: hsl(0, 100.00%, 96.52%); opacity: 0.81\" title=\"-0.035\">after</span><span style=\"opacity: 0.80\"> </span><span style=\"background-color: hsl(120, 100.00%, 96.85%); opacity: 0.81\" title=\"0.031\">the</span><span style=\"opacity: 0.80\"> </span><span style=\"background-color: hsl(120, 100.00%, 74.32%); opacity: 0.91\" title=\"0.616\">parents</span><span style=\"opacity: 0.80\">&#x27; </span><span style=\"background-color: hsl(120, 100.00%, 95.90%); opacity: 0.81\" title=\"0.045\">deaths</span><span style=\"opacity: 0.80\">, </span><span style=\"background-color: hsl(120, 100.00%, 96.85%); opacity: 0.81\" title=\"0.031\">the</span><span style=\"opacity: 0.80\"> </span><span style=\"background-color: hsl(0, 100.00%, 87.90%); opacity: 0.84\" title=\"-0.210\">baby</span><span style=\"opacity: 0.80\"> </span><span style=\"background-color: hsl(120, 100.00%, 94.33%); opacity: 0.81\" title=\"0.071\">is</span><span style=\"opacity: 0.80\"> </span><span style=\"background-color: hsl(120, 100.00%, 88.31%); opacity: 0.83\" title=\"0.200\">raised</span><span style=\"opacity: 0.80\"> </span><span style=\"background-color: hsl(120, 100.00%, 98.82%); opacity: 0.80\" title=\"0.008\">in</span><span style=\"opacity: 0.80\"> </span><span style=\"background-color: hsl(120, 100.00%, 96.85%); opacity: 0.81\" title=\"0.031\">the</span><span style=\"opacity: 0.80\"> </span><span style=\"background-color: hsl(0, 100.00%, 85.71%); opacity: 0.85\" title=\"-0.267\">jungle</span><span style=\"opacity: 0.80\"> </span><span style=\"background-color: hsl(0, 100.00%, 93.96%); opacity: 0.81\" title=\"-0.078\">by</span><span style=\"opacity: 0.80\"> </span><span style=\"background-color: hsl(0, 100.00%, 95.91%); opacity: 0.81\" title=\"-0.045\">apes</span><span style=\"opacity: 0.80\">. </span><span style=\"background-color: hsl(120, 100.00%, 79.73%); opacity: 0.88\" title=\"0.440\">twenty</span><span style=\"opacity: 0.80\"> </span><span style=\"background-color: hsl(120, 100.00%, 94.85%); opacity: 0.81\" title=\"0.062\">years</span><span style=\"opacity: 0.80\"> </span><span style=\"background-color: hsl(120, 100.00%, 83.84%); opacity: 0.85\" title=\"0.318\">later</span><span style=\"opacity: 0.80\">, </span><span style=\"background-color: hsl(0, 100.00%, 95.29%); opacity: 0.81\" title=\"-0.055\">this</span><span style=\"opacity: 0.80\"> </span><span style=\"background-color: hsl(0, 100.00%, 94.77%); opacity: 0.81\" title=\"-0.063\">young</span><span style=\"opacity: 0.80\"> </span><span style=\"background-color: hsl(0, 100.00%, 98.21%); opacity: 0.80\" title=\"-0.014\">man</span><span style=\"opacity: 0.80\"> (i.e. </span><span style=\"background-color: hsl(120, 100.00%, 93.37%); opacity: 0.82\" title=\"0.089\">tarzan</span><span style=\"opacity: 0.80\">) </span><span style=\"background-color: hsl(0, 100.00%, 91.84%); opacity: 0.82\" title=\"-0.120\">rescues</span><span style=\"opacity: 0.80\"> a </span><span style=\"background-color: hsl(0, 100.00%, 93.86%); opacity: 0.81\" title=\"-0.080\">wounded</span><span style=\"opacity: 0.80\"> </span><span style=\"background-color: hsl(0, 100.00%, 89.08%); opacity: 0.83\" title=\"-0.182\">belgian</span><span style=\"opacity: 0.80\"> </span><span style=\"background-color: hsl(0, 100.00%, 96.70%); opacity: 0.81\" title=\"-0.033\">explorer</span><span style=\"opacity: 0.80\">, </span><span style=\"background-color: hsl(120, 100.00%, 94.90%); opacity: 0.81\" title=\"0.061\">nursing</span><span style=\"opacity: 0.80\"> </span><span style=\"background-color: hsl(120, 100.00%, 90.59%); opacity: 0.83\" title=\"0.147\">him</span><span style=\"opacity: 0.80\"> </span><span style=\"background-color: hsl(0, 100.00%, 96.34%); opacity: 0.81\" title=\"-0.038\">back</span><span style=\"opacity: 0.80\"> </span><span style=\"background-color: hsl(120, 100.00%, 98.14%); opacity: 0.80\" title=\"0.014\">to</span><span style=\"opacity: 0.80\"> </span><span style=\"background-color: hsl(0, 100.00%, 97.07%); opacity: 0.80\" title=\"-0.028\">health</span><span style=\"opacity: 0.80\">. </span><span style=\"background-color: hsl(120, 100.00%, 96.85%); opacity: 0.81\" title=\"0.031\">the</span><span style=\"opacity: 0.80\"> </span><span style=\"background-color: hsl(0, 100.00%, 89.08%); opacity: 0.83\" title=\"-0.182\">belgian</span><span style=\"opacity: 0.80\"> </span><span style=\"background-color: hsl(120, 100.00%, 74.14%); opacity: 0.91\" title=\"0.623\">discovers</span><span style=\"opacity: 0.80\"> </span><span style=\"background-color: hsl(120, 100.00%, 91.83%); opacity: 0.82\" title=\"0.120\">evidence</span><span style=\"opacity: 0.80\"> </span><span style=\"background-color: hsl(120, 100.00%, 98.78%); opacity: 0.80\" title=\"0.008\">that</span><span style=\"opacity: 0.80\"> </span><span style=\"background-color: hsl(120, 100.00%, 93.57%); opacity: 0.81\" title=\"0.085\">his</span><span style=\"opacity: 0.80\"> </span><span style=\"background-color: hsl(120, 100.00%, 96.35%); opacity: 0.81\" title=\"0.038\">rescuer</span><span style=\"opacity: 0.80\"> </span><span style=\"background-color: hsl(120, 100.00%, 94.33%); opacity: 0.81\" title=\"0.071\">is</span><span style=\"opacity: 0.80\"> </span><span style=\"background-color: hsl(120, 100.00%, 96.85%); opacity: 0.81\" title=\"0.031\">the</span><span style=\"opacity: 0.80\"> </span><span style=\"background-color: hsl(0, 100.00%, 94.77%); opacity: 0.81\" title=\"-0.063\">young</span><span style=\"opacity: 0.80\"> </span><span style=\"background-color: hsl(0, 100.00%, 93.22%); opacity: 0.82\" title=\"-0.092\">lord</span><span style=\"opacity: 0.80\"> </span><span style=\"background-color: hsl(0, 100.00%, 97.56%); opacity: 0.80\" title=\"-0.021\">greystoke</span><span style=\"opacity: 0.80\"> </span><span style=\"background-color: hsl(120, 100.00%, 92.69%); opacity: 0.82\" title=\"0.102\">and</span><span style=\"opacity: 0.80\"> </span><span style=\"background-color: hsl(120, 100.00%, 84.63%); opacity: 0.85\" title=\"0.296\">returns</span><span style=\"opacity: 0.80\"> </span><span style=\"background-color: hsl(120, 100.00%, 90.59%); opacity: 0.83\" title=\"0.147\">him</span><span style=\"opacity: 0.80\"> </span><span style=\"background-color: hsl(120, 100.00%, 98.14%); opacity: 0.80\" title=\"0.014\">to</span><span style=\"opacity: 0.80\"> </span><span style=\"background-color: hsl(120, 100.00%, 93.57%); opacity: 0.81\" title=\"0.085\">his</span><span style=\"opacity: 0.80\"> </span><span style=\"background-color: hsl(120, 100.00%, 95.27%); opacity: 0.81\" title=\"0.055\">rightful</span><span style=\"opacity: 0.80\"> </span><span style=\"background-color: hsl(0, 100.00%, 81.31%); opacity: 0.87\" title=\"-0.391\">estate</span><span style=\"opacity: 0.80\"> </span><span style=\"background-color: hsl(120, 100.00%, 98.82%); opacity: 0.80\" title=\"0.008\">in</span><span style=\"opacity: 0.80\"> </span><span style=\"background-color: hsl(0, 100.00%, 93.43%); opacity: 0.82\" title=\"-0.088\">scotland</span><span style=\"opacity: 0.80\">, </span><span style=\"background-color: hsl(0, 100.00%, 99.18%); opacity: 0.80\" title=\"-0.005\">where</span><span style=\"opacity: 0.80\"> </span><span style=\"background-color: hsl(0, 100.00%, 98.31%); opacity: 0.80\" title=\"-0.013\">he</span><span style=\"opacity: 0.80\"> </span><span style=\"background-color: hsl(120, 100.00%, 86.83%); opacity: 0.84\" title=\"0.237\">must</span><span style=\"opacity: 0.80\"> </span><span style=\"background-color: hsl(120, 100.00%, 91.78%); opacity: 0.82\" title=\"0.121\">adjust</span><span style=\"opacity: 0.80\"> </span><span style=\"background-color: hsl(120, 100.00%, 98.14%); opacity: 0.80\" title=\"0.014\">to</span><span style=\"opacity: 0.80\"> </span><span style=\"background-color: hsl(120, 100.00%, 94.41%); opacity: 0.81\" title=\"0.070\">civilized</span><span style=\"opacity: 0.80\"> </span><span style=\"background-color: hsl(120, 100.00%, 87.00%); opacity: 0.84\" title=\"0.233\">society</span><span style=\"opacity: 0.80\">.   </span><span style=\"background-color: hsl(120, 100.00%, 96.85%); opacity: 0.81\" title=\"0.031\">the</span><span style=\"opacity: 0.80\"> </span><span style=\"background-color: hsl(120, 100.00%, 96.55%); opacity: 0.81\" title=\"0.035\">movie</span><span style=\"opacity: 0.80\"> </span><span style=\"background-color: hsl(120, 100.00%, 94.33%); opacity: 0.81\" title=\"0.071\">is</span><span style=\"opacity: 0.80\"> </span><span style=\"background-color: hsl(0, 100.00%, 88.64%); opacity: 0.83\" title=\"-0.192\">sort</span><span style=\"opacity: 0.80\"> </span><span style=\"background-color: hsl(0, 100.00%, 94.25%); opacity: 0.81\" title=\"-0.073\">of</span><span style=\"opacity: 0.80\"> </span><span style=\"background-color: hsl(120, 100.00%, 92.10%); opacity: 0.82\" title=\"0.114\">divided</span><span style=\"opacity: 0.80\"> </span><span style=\"background-color: hsl(120, 100.00%, 96.33%); opacity: 0.81\" title=\"0.038\">into</span><span style=\"opacity: 0.80\"> </span><span style=\"background-color: hsl(120, 100.00%, 95.39%); opacity: 0.81\" title=\"0.053\">two</span><span style=\"opacity: 0.80\"> </span><span style=\"background-color: hsl(120, 100.00%, 86.93%); opacity: 0.84\" title=\"0.235\">parts</span><span style=\"opacity: 0.80\">. </span><span style=\"background-color: hsl(120, 100.00%, 98.82%); opacity: 0.80\" title=\"0.008\">in</span><span style=\"opacity: 0.80\"> </span><span style=\"background-color: hsl(120, 100.00%, 96.85%); opacity: 0.81\" title=\"0.031\">the</span><span style=\"opacity: 0.80\"> </span><span style=\"background-color: hsl(120, 100.00%, 92.22%); opacity: 0.82\" title=\"0.112\">first</span><span style=\"opacity: 0.80\"> </span><span style=\"background-color: hsl(0, 100.00%, 80.06%); opacity: 0.87\" title=\"-0.429\">half</span><span style=\"opacity: 0.80\">, </span><span style=\"background-color: hsl(120, 100.00%, 95.78%); opacity: 0.81\" title=\"0.047\">we</span><span style=\"opacity: 0.80\"> </span><span style=\"background-color: hsl(120, 100.00%, 90.04%); opacity: 0.83\" title=\"0.159\">see</span><span style=\"opacity: 0.80\"> </span><span style=\"background-color: hsl(120, 100.00%, 93.37%); opacity: 0.82\" title=\"0.089\">tarzan</span><span style=\"opacity: 0.80\"> </span><span style=\"background-color: hsl(120, 100.00%, 98.82%); opacity: 0.80\" title=\"0.008\">in</span><span style=\"opacity: 0.80\"> </span><span style=\"background-color: hsl(120, 100.00%, 93.57%); opacity: 0.81\" title=\"0.085\">his</span><span style=\"opacity: 0.80\"> </span><span style=\"background-color: hsl(0, 100.00%, 85.71%); opacity: 0.85\" title=\"-0.267\">jungle</span><span style=\"opacity: 0.80\"> </span><span style=\"background-color: hsl(0, 100.00%, 88.27%); opacity: 0.83\" title=\"-0.201\">environment</span><span style=\"opacity: 0.80\">. </span><span style=\"background-color: hsl(0, 100.00%, 87.65%); opacity: 0.84\" title=\"-0.217\">not</span><span style=\"opacity: 0.80\"> </span><span style=\"background-color: hsl(120, 100.00%, 97.79%); opacity: 0.80\" title=\"0.018\">being</span><span style=\"opacity: 0.80\"> </span><span style=\"background-color: hsl(0, 100.00%, 94.51%); opacity: 0.81\" title=\"-0.068\">an</span><span style=\"opacity: 0.80\"> </span><span style=\"background-color: hsl(120, 100.00%, 90.83%); opacity: 0.82\" title=\"0.141\">expert</span><span style=\"opacity: 0.80\">, i </span><span style=\"background-color: hsl(0, 100.00%, 82.31%); opacity: 0.86\" title=\"-0.362\">am</span><span style=\"opacity: 0.80\"> </span><span style=\"background-color: hsl(120, 100.00%, 90.76%); opacity: 0.82\" title=\"0.143\">unaware</span><span style=\"opacity: 0.80\"> </span><span style=\"background-color: hsl(120, 100.00%, 95.58%); opacity: 0.81\" title=\"0.050\">as</span><span style=\"opacity: 0.80\"> </span><span style=\"background-color: hsl(120, 100.00%, 98.14%); opacity: 0.80\" title=\"0.014\">to</span><span style=\"opacity: 0.80\"> </span><span style=\"background-color: hsl(120, 100.00%, 96.85%); opacity: 0.81\" title=\"0.031\">the</span><span style=\"opacity: 0.80\"> </span><span style=\"background-color: hsl(120, 100.00%, 78.65%); opacity: 0.88\" title=\"0.473\">realism</span><span style=\"opacity: 0.80\"> </span><span style=\"background-color: hsl(0, 100.00%, 94.25%); opacity: 0.81\" title=\"-0.073\">of</span><span style=\"opacity: 0.80\"> </span><span style=\"background-color: hsl(120, 100.00%, 94.61%); opacity: 0.81\" title=\"0.066\">its</span><span style=\"opacity: 0.80\"> </span><span style=\"background-color: hsl(120, 100.00%, 92.70%); opacity: 0.82\" title=\"0.102\">depiction</span><span style=\"opacity: 0.80\"> </span><span style=\"background-color: hsl(0, 100.00%, 94.25%); opacity: 0.81\" title=\"-0.073\">of</span><span style=\"opacity: 0.80\"> </span><span style=\"background-color: hsl(0, 100.00%, 91.37%); opacity: 0.82\" title=\"-0.130\">ape</span><span style=\"opacity: 0.80\"> </span><span style=\"background-color: hsl(120, 100.00%, 81.45%); opacity: 0.87\" title=\"0.387\">community</span><span style=\"opacity: 0.80\"> </span><span style=\"background-color: hsl(120, 100.00%, 89.47%); opacity: 0.83\" title=\"0.172\">life</span><span style=\"opacity: 0.80\">, </span><span style=\"background-color: hsl(0, 100.00%, 92.19%); opacity: 0.82\" title=\"-0.113\">but</span><span style=\"opacity: 0.80\"> </span><span style=\"background-color: hsl(120, 100.00%, 89.60%); opacity: 0.83\" title=\"0.169\">it</span><span style=\"opacity: 0.80\"> </span><span style=\"background-color: hsl(120, 100.00%, 94.33%); opacity: 0.81\" title=\"0.071\">is</span><span style=\"opacity: 0.80\"> </span><span style=\"background-color: hsl(120, 100.00%, 93.05%); opacity: 0.82\" title=\"0.095\">certainly</span><span style=\"opacity: 0.80\"> </span><span style=\"background-color: hsl(120, 100.00%, 71.13%); opacity: 0.93\" title=\"0.728\">entertaining</span><span style=\"opacity: 0.80\">. </span><span style=\"background-color: hsl(0, 100.00%, 92.38%); opacity: 0.82\" title=\"-0.109\">for</span><span style=\"opacity: 0.80\"> </span><span style=\"background-color: hsl(120, 100.00%, 95.80%); opacity: 0.81\" title=\"0.046\">me</span><span style=\"opacity: 0.80\">, </span><span style=\"background-color: hsl(120, 100.00%, 96.85%); opacity: 0.81\" title=\"0.031\">the</span><span style=\"opacity: 0.80\"> </span><span style=\"background-color: hsl(120, 100.00%, 91.44%); opacity: 0.82\" title=\"0.128\">more</span><span style=\"opacity: 0.80\"> </span><span style=\"background-color: hsl(120, 100.00%, 69.74%); opacity: 0.93\" title=\"0.779\">moving</span><span style=\"opacity: 0.80\"> </span><span style=\"background-color: hsl(0, 100.00%, 86.14%); opacity: 0.84\" title=\"-0.255\">section</span><span style=\"opacity: 0.80\"> </span><span style=\"background-color: hsl(120, 100.00%, 94.33%); opacity: 0.81\" title=\"0.071\">is</span><span style=\"opacity: 0.80\"> </span><span style=\"background-color: hsl(120, 100.00%, 96.85%); opacity: 0.81\" title=\"0.031\">the</span><span style=\"opacity: 0.80\"> </span><span style=\"background-color: hsl(0, 100.00%, 94.82%); opacity: 0.81\" title=\"-0.063\">second</span><span style=\"opacity: 0.80\"> </span><span style=\"background-color: hsl(0, 100.00%, 80.06%); opacity: 0.87\" title=\"-0.429\">half</span><span style=\"opacity: 0.80\">, </span><span style=\"background-color: hsl(0, 100.00%, 99.03%); opacity: 0.80\" title=\"-0.006\">when</span><span style=\"opacity: 0.80\"> </span><span style=\"background-color: hsl(120, 100.00%, 93.37%); opacity: 0.82\" title=\"0.089\">tarzan</span><span style=\"opacity: 0.80\"> </span><span style=\"background-color: hsl(120, 100.00%, 86.83%); opacity: 0.84\" title=\"0.237\">must</span><span style=\"opacity: 0.80\"> </span><span style=\"background-color: hsl(0, 100.00%, 86.33%); opacity: 0.84\" title=\"-0.250\">meet</span><span style=\"opacity: 0.80\"> </span><span style=\"background-color: hsl(120, 100.00%, 93.57%); opacity: 0.81\" title=\"0.085\">his</span><span style=\"opacity: 0.80\"> </span><span style=\"background-color: hsl(120, 100.00%, 85.98%); opacity: 0.84\" title=\"0.260\">real</span><span style=\"opacity: 0.80\"> </span><span style=\"background-color: hsl(120, 100.00%, 84.34%); opacity: 0.85\" title=\"0.304\">family</span><span style=\"opacity: 0.80\">, </span><span style=\"background-color: hsl(120, 100.00%, 93.07%); opacity: 0.82\" title=\"0.095\">develop</span><span style=\"opacity: 0.80\"> </span><span style=\"background-color: hsl(120, 100.00%, 78.42%); opacity: 0.88\" title=\"0.481\">language</span><span style=\"opacity: 0.80\"> </span><span style=\"background-color: hsl(0, 100.00%, 92.16%); opacity: 0.82\" title=\"-0.113\">skills</span><span style=\"opacity: 0.80\">, </span><span style=\"background-color: hsl(120, 100.00%, 92.69%); opacity: 0.82\" title=\"0.102\">and</span><span style=\"opacity: 0.80\"> </span><span style=\"background-color: hsl(120, 100.00%, 91.78%); opacity: 0.82\" title=\"0.121\">adjust</span><span style=\"opacity: 0.80\"> </span><span style=\"background-color: hsl(120, 100.00%, 98.14%); opacity: 0.80\" title=\"0.014\">to</span><span style=\"opacity: 0.80\"> </span><span style=\"background-color: hsl(120, 100.00%, 97.71%); opacity: 0.80\" title=\"0.019\">aristocratic</span><span style=\"opacity: 0.80\"> </span><span style=\"background-color: hsl(120, 100.00%, 91.81%); opacity: 0.82\" title=\"0.120\">british</span><span style=\"opacity: 0.80\"> </span><span style=\"background-color: hsl(120, 100.00%, 87.00%); opacity: 0.84\" title=\"0.233\">society</span><span style=\"opacity: 0.80\">, </span><span style=\"background-color: hsl(0, 100.00%, 97.18%); opacity: 0.80\" title=\"-0.026\">all</span><span style=\"opacity: 0.80\"> </span><span style=\"background-color: hsl(120, 100.00%, 96.85%); opacity: 0.81\" title=\"0.031\">the</span><span style=\"opacity: 0.80\"> </span><span style=\"background-color: hsl(120, 100.00%, 91.74%); opacity: 0.82\" title=\"0.122\">while</span><span style=\"opacity: 0.80\"> </span><span style=\"background-color: hsl(0, 100.00%, 94.73%); opacity: 0.81\" title=\"-0.064\">wooing</span><span style=\"opacity: 0.80\"> </span><span style=\"background-color: hsl(120, 100.00%, 86.93%); opacity: 0.84\" title=\"0.235\">jane</span><span style=\"opacity: 0.80\"> (</span><span style=\"background-color: hsl(0, 100.00%, 97.89%); opacity: 0.80\" title=\"-0.017\">andie</span><span style=\"opacity: 0.80\"> </span><span style=\"background-color: hsl(0, 100.00%, 98.14%); opacity: 0.80\" title=\"-0.014\">macdowell</span><span style=\"opacity: 0.80\">). </span><span style=\"background-color: hsl(0, 100.00%, 98.31%); opacity: 0.80\" title=\"-0.013\">he</span><span style=\"opacity: 0.80\"> </span><span style=\"background-color: hsl(120, 100.00%, 94.33%); opacity: 0.81\" title=\"0.071\">is</span><span style=\"opacity: 0.80\"> </span><span style=\"background-color: hsl(0, 100.00%, 83.43%); opacity: 0.86\" title=\"-0.329\">portrayed</span><span style=\"opacity: 0.80\"> </span><span style=\"background-color: hsl(120, 100.00%, 95.58%); opacity: 0.81\" title=\"0.050\">as</span><span style=\"opacity: 0.80\"> a &#x27;</span><span style=\"background-color: hsl(120, 100.00%, 92.93%); opacity: 0.82\" title=\"0.098\">noble</span><span style=\"opacity: 0.80\"> </span><span style=\"background-color: hsl(120, 100.00%, 79.67%); opacity: 0.88\" title=\"0.441\">savage</span><span style=\"opacity: 0.80\">&#x27;, </span><span style=\"background-color: hsl(0, 100.00%, 81.07%); opacity: 0.87\" title=\"-0.399\">whether</span><span style=\"opacity: 0.80\"> </span><span style=\"background-color: hsl(120, 100.00%, 98.82%); opacity: 0.80\" title=\"0.008\">in</span><span style=\"opacity: 0.80\"> </span><span style=\"background-color: hsl(120, 100.00%, 96.85%); opacity: 0.81\" title=\"0.031\">the</span><span style=\"opacity: 0.80\"> </span><span style=\"background-color: hsl(0, 100.00%, 88.01%); opacity: 0.84\" title=\"-0.208\">wild</span><span style=\"opacity: 0.80\"> </span><span style=\"background-color: hsl(0, 100.00%, 96.30%); opacity: 0.81\" title=\"-0.039\">or</span><span style=\"opacity: 0.80\"> </span><span style=\"background-color: hsl(120, 100.00%, 98.82%); opacity: 0.80\" title=\"0.008\">in</span><span style=\"opacity: 0.80\"> </span><span style=\"background-color: hsl(120, 100.00%, 88.61%); opacity: 0.83\" title=\"0.193\">elegant</span><span style=\"opacity: 0.80\"> </span><span style=\"background-color: hsl(0, 100.00%, 99.26%); opacity: 0.80\" title=\"-0.004\">edwardian</span><span style=\"opacity: 0.80\"> </span><span style=\"background-color: hsl(0, 100.00%, 91.52%); opacity: 0.82\" title=\"-0.127\">parlors</span><span style=\"opacity: 0.80\">. </span><span style=\"background-color: hsl(0, 100.00%, 93.96%); opacity: 0.81\" title=\"-0.078\">by</span><span style=\"opacity: 0.80\"> </span><span style=\"background-color: hsl(120, 100.00%, 73.07%); opacity: 0.91\" title=\"0.660\">contrast</span><span style=\"opacity: 0.80\">, </span><span style=\"background-color: hsl(120, 100.00%, 96.85%); opacity: 0.81\" title=\"0.031\">the</span><span style=\"opacity: 0.80\"> </span><span style=\"background-color: hsl(0, 100.00%, 87.89%); opacity: 0.84\" title=\"-0.211\">upper</span><span style=\"opacity: 0.80\"> </span><span style=\"background-color: hsl(0, 100.00%, 96.82%); opacity: 0.81\" title=\"-0.031\">crust</span><span style=\"opacity: 0.80\"> </span><span style=\"background-color: hsl(120, 100.00%, 94.33%); opacity: 0.81\" title=\"0.071\">is</span><span style=\"opacity: 0.80\"> </span><span style=\"background-color: hsl(0, 100.00%, 73.07%); opacity: 0.91\" title=\"-0.660\">depicted</span><span style=\"opacity: 0.80\"> </span><span style=\"background-color: hsl(120, 100.00%, 95.58%); opacity: 0.81\" title=\"0.050\">as</span><span style=\"opacity: 0.80\"> </span><span style=\"background-color: hsl(120, 100.00%, 82.83%); opacity: 0.86\" title=\"0.347\">often</span><span style=\"opacity: 0.80\"> </span><span style=\"background-color: hsl(0, 100.00%, 81.99%); opacity: 0.86\" title=\"-0.371\">far</span><span style=\"opacity: 0.80\"> </span><span style=\"background-color: hsl(120, 100.00%, 91.44%); opacity: 0.82\" title=\"0.128\">more</span><span style=\"opacity: 0.80\"> </span><span style=\"background-color: hsl(0, 100.00%, 97.28%); opacity: 0.80\" title=\"-0.025\">barbaric</span><span style=\"opacity: 0.80\"> </span><span style=\"background-color: hsl(0, 100.00%, 96.78%); opacity: 0.81\" title=\"-0.032\">than</span><span style=\"opacity: 0.80\"> </span><span style=\"background-color: hsl(120, 100.00%, 96.85%); opacity: 0.81\" title=\"0.031\">the</span><span style=\"opacity: 0.80\"> </span><span style=\"background-color: hsl(0, 100.00%, 85.71%); opacity: 0.85\" title=\"-0.267\">jungle</span><span style=\"opacity: 0.80\"> </span><span style=\"background-color: hsl(120, 100.00%, 93.37%); opacity: 0.82\" title=\"0.089\">tarzan</span><span style=\"opacity: 0.80\"> </span><span style=\"background-color: hsl(0, 100.00%, 78.00%); opacity: 0.89\" title=\"-0.494\">left</span><span style=\"opacity: 0.80\">.  </span><span style=\"background-color: hsl(0, 100.00%, 92.83%); opacity: 0.82\" title=\"-0.100\">christopher</span><span style=\"opacity: 0.80\"> </span><span style=\"background-color: hsl(0, 100.00%, 99.35%); opacity: 0.80\" title=\"-0.003\">lambert</span><span style=\"opacity: 0.80\"> </span><span style=\"background-color: hsl(120, 100.00%, 94.33%); opacity: 0.81\" title=\"0.071\">is</span><span style=\"opacity: 0.80\"> </span><span style=\"background-color: hsl(120, 100.00%, 72.44%); opacity: 0.92\" title=\"0.682\">fantastic</span><span style=\"opacity: 0.80\"> </span><span style=\"background-color: hsl(120, 100.00%, 98.82%); opacity: 0.80\" title=\"0.008\">in</span><span style=\"opacity: 0.80\"> </span><span style=\"background-color: hsl(120, 100.00%, 93.57%); opacity: 0.81\" title=\"0.085\">his</span><span style=\"opacity: 0.80\"> </span><span style=\"background-color: hsl(120, 100.00%, 67.21%); opacity: 0.95\" title=\"0.874\">sympathetic</span><span style=\"opacity: 0.80\"> </span><span style=\"background-color: hsl(120, 100.00%, 76.30%); opacity: 0.89\" title=\"0.549\">portrayal</span><span style=\"opacity: 0.80\"> </span><span style=\"background-color: hsl(0, 100.00%, 94.25%); opacity: 0.81\" title=\"-0.073\">of</span><span style=\"opacity: 0.80\"> </span><span style=\"background-color: hsl(120, 100.00%, 93.37%); opacity: 0.82\" title=\"0.089\">tarzan</span><span style=\"opacity: 0.80\"> </span><span style=\"background-color: hsl(120, 100.00%, 98.82%); opacity: 0.80\" title=\"0.008\">in</span><span style=\"opacity: 0.80\"> </span><span style=\"background-color: hsl(120, 100.00%, 83.44%); opacity: 0.86\" title=\"0.329\">both</span><span style=\"opacity: 0.80\"> </span><span style=\"background-color: hsl(120, 100.00%, 96.85%); opacity: 0.81\" title=\"0.031\">the</span><span style=\"opacity: 0.80\"> </span><span style=\"background-color: hsl(0, 100.00%, 85.71%); opacity: 0.85\" title=\"-0.267\">jungle</span><span style=\"opacity: 0.80\"> </span><span style=\"background-color: hsl(120, 100.00%, 92.69%); opacity: 0.82\" title=\"0.102\">and</span><span style=\"opacity: 0.80\"> </span><span style=\"background-color: hsl(120, 100.00%, 94.41%); opacity: 0.81\" title=\"0.070\">civilized</span><span style=\"opacity: 0.80\"> </span><span style=\"background-color: hsl(0, 100.00%, 95.79%); opacity: 0.81\" title=\"-0.047\">environments</span><span style=\"opacity: 0.80\">. </span><span style=\"background-color: hsl(0, 100.00%, 98.31%); opacity: 0.80\" title=\"-0.013\">he</span><span style=\"opacity: 0.80\"> </span><span style=\"background-color: hsl(120, 100.00%, 86.86%); opacity: 0.84\" title=\"0.237\">conveys</span><span style=\"opacity: 0.80\"> a </span><span style=\"background-color: hsl(120, 100.00%, 85.98%); opacity: 0.84\" title=\"0.260\">real</span><span style=\"opacity: 0.80\"> </span><span style=\"background-color: hsl(120, 100.00%, 93.11%); opacity: 0.82\" title=\"0.094\">sense</span><span style=\"opacity: 0.80\"> </span><span style=\"background-color: hsl(0, 100.00%, 94.25%); opacity: 0.81\" title=\"-0.073\">of</span><span style=\"opacity: 0.80\"> </span><span style=\"background-color: hsl(120, 100.00%, 93.57%); opacity: 0.81\" title=\"0.085\">his</span><span style=\"opacity: 0.80\"> </span><span style=\"background-color: hsl(0, 100.00%, 92.99%); opacity: 0.82\" title=\"-0.096\">confusion</span><span style=\"opacity: 0.80\"> </span><span style=\"background-color: hsl(120, 100.00%, 92.69%); opacity: 0.82\" title=\"0.102\">and</span><span style=\"opacity: 0.80\"> </span><span style=\"background-color: hsl(0, 100.00%, 81.91%); opacity: 0.86\" title=\"-0.374\">conflict</span><span style=\"opacity: 0.80\">, </span><span style=\"background-color: hsl(120, 100.00%, 80.06%); opacity: 0.87\" title=\"0.429\">torn</span><span style=\"opacity: 0.80\"> </span><span style=\"background-color: hsl(120, 100.00%, 95.58%); opacity: 0.81\" title=\"0.050\">as</span><span style=\"opacity: 0.80\"> </span><span style=\"background-color: hsl(0, 100.00%, 98.31%); opacity: 0.80\" title=\"-0.013\">he</span><span style=\"opacity: 0.80\"> </span><span style=\"background-color: hsl(120, 100.00%, 94.33%); opacity: 0.81\" title=\"0.071\">is</span><span style=\"opacity: 0.80\"> </span><span style=\"background-color: hsl(0, 100.00%, 93.29%); opacity: 0.82\" title=\"-0.091\">between</span><span style=\"opacity: 0.80\"> </span><span style=\"background-color: hsl(120, 100.00%, 96.85%); opacity: 0.81\" title=\"0.031\">the</span><span style=\"opacity: 0.80\"> </span><span style=\"background-color: hsl(120, 100.00%, 95.39%); opacity: 0.81\" title=\"0.053\">two</span><span style=\"opacity: 0.80\"> </span><span style=\"background-color: hsl(120, 100.00%, 90.63%); opacity: 0.83\" title=\"0.146\">very</span><span style=\"opacity: 0.80\"> </span><span style=\"background-color: hsl(120, 100.00%, 93.02%); opacity: 0.82\" title=\"0.096\">different</span><span style=\"opacity: 0.80\"> </span><span style=\"background-color: hsl(120, 100.00%, 70.19%); opacity: 0.93\" title=\"0.763\">worlds</span><span style=\"opacity: 0.80\">, </span><span style=\"background-color: hsl(120, 100.00%, 93.57%); opacity: 0.81\" title=\"0.085\">his</span><span style=\"opacity: 0.80\"> </span><span style=\"background-color: hsl(0, 100.00%, 87.45%); opacity: 0.84\" title=\"-0.222\">original</span><span style=\"opacity: 0.80\"> </span><span style=\"background-color: hsl(0, 100.00%, 91.37%); opacity: 0.82\" title=\"-0.130\">ape</span><span style=\"opacity: 0.80\"> </span><span style=\"background-color: hsl(120, 100.00%, 84.34%); opacity: 0.85\" title=\"0.304\">family</span><span style=\"opacity: 0.80\"> </span><span style=\"background-color: hsl(120, 100.00%, 92.69%); opacity: 0.82\" title=\"0.102\">and</span><span style=\"opacity: 0.80\"> </span><span style=\"background-color: hsl(120, 100.00%, 93.57%); opacity: 0.81\" title=\"0.085\">his</span><span style=\"opacity: 0.80\"> </span><span style=\"background-color: hsl(120, 100.00%, 96.79%); opacity: 0.81\" title=\"0.032\">new</span><span style=\"opacity: 0.80\"> </span><span style=\"background-color: hsl(120, 100.00%, 85.10%); opacity: 0.85\" title=\"0.283\">human</span><span style=\"opacity: 0.80\"> </span><span style=\"background-color: hsl(0, 100.00%, 92.96%); opacity: 0.82\" title=\"-0.097\">one</span><span style=\"opacity: 0.80\">. </span><span style=\"background-color: hsl(120, 100.00%, 80.71%); opacity: 0.87\" title=\"0.409\">sir</span><span style=\"opacity: 0.80\"> </span><span style=\"background-color: hsl(120, 100.00%, 70.78%); opacity: 0.93\" title=\"0.741\">ralph</span><span style=\"opacity: 0.80\"> </span><span style=\"background-color: hsl(0, 100.00%, 97.33%); opacity: 0.80\" title=\"-0.024\">richardson</span><span style=\"opacity: 0.80\">, </span><span style=\"background-color: hsl(0, 100.00%, 92.96%); opacity: 0.82\" title=\"-0.097\">one</span><span style=\"opacity: 0.80\"> </span><span style=\"background-color: hsl(0, 100.00%, 94.25%); opacity: 0.81\" title=\"-0.073\">of</span><span style=\"opacity: 0.80\"> </span><span style=\"background-color: hsl(120, 100.00%, 96.85%); opacity: 0.81\" title=\"0.031\">the</span><span style=\"opacity: 0.80\"> </span><span style=\"background-color: hsl(0, 100.00%, 96.81%); opacity: 0.81\" title=\"-0.031\">old</span><span style=\"opacity: 0.80\"> </span><span style=\"background-color: hsl(120, 100.00%, 91.81%); opacity: 0.82\" title=\"0.120\">british</span><span style=\"opacity: 0.80\"> </span><span style=\"background-color: hsl(0, 100.00%, 80.54%); opacity: 0.87\" title=\"-0.415\">legends</span><span style=\"opacity: 0.80\">, </span><span style=\"background-color: hsl(120, 100.00%, 94.33%); opacity: 0.81\" title=\"0.071\">is</span><span style=\"opacity: 0.80\"> </span><span style=\"background-color: hsl(120, 100.00%, 64.07%); opacity: 0.97\" title=\"0.996\">brilliant</span><span style=\"opacity: 0.80\"> </span><span style=\"background-color: hsl(120, 100.00%, 95.58%); opacity: 0.81\" title=\"0.050\">as</span><span style=\"opacity: 0.80\"> </span><span style=\"background-color: hsl(120, 100.00%, 84.25%); opacity: 0.85\" title=\"0.307\">always</span><span style=\"opacity: 0.80\"> </span><span style=\"background-color: hsl(120, 100.00%, 98.82%); opacity: 0.80\" title=\"0.008\">in</span><span style=\"opacity: 0.80\"> </span><span style=\"background-color: hsl(120, 100.00%, 96.85%); opacity: 0.81\" title=\"0.031\">the</span><span style=\"opacity: 0.80\"> </span><span style=\"background-color: hsl(120, 100.00%, 98.98%); opacity: 0.80\" title=\"0.006\">role</span><span style=\"opacity: 0.80\"> </span><span style=\"background-color: hsl(0, 100.00%, 94.25%); opacity: 0.81\" title=\"-0.073\">of</span><span style=\"opacity: 0.80\"> </span><span style=\"background-color: hsl(120, 100.00%, 93.37%); opacity: 0.82\" title=\"0.089\">tarzan</span><span style=\"opacity: 0.80\">&#x27;s </span><span style=\"background-color: hsl(0, 100.00%, 88.78%); opacity: 0.83\" title=\"-0.189\">grandfather</span><span style=\"opacity: 0.80\">, </span><span style=\"background-color: hsl(120, 100.00%, 96.85%); opacity: 0.81\" title=\"0.031\">the</span><span style=\"opacity: 0.80\"> </span><span style=\"background-color: hsl(0, 100.00%, 89.74%); opacity: 0.83\" title=\"-0.166\">sixth</span><span style=\"opacity: 0.80\"> </span><span style=\"background-color: hsl(120, 100.00%, 92.33%); opacity: 0.82\" title=\"0.110\">earl</span><span style=\"opacity: 0.80\"> </span><span style=\"background-color: hsl(0, 100.00%, 94.25%); opacity: 0.81\" title=\"-0.073\">of</span><span style=\"opacity: 0.80\"> </span><span style=\"background-color: hsl(0, 100.00%, 97.56%); opacity: 0.80\" title=\"-0.021\">greystoke</span><span style=\"opacity: 0.80\">.   </span><span style=\"background-color: hsl(120, 100.00%, 96.85%); opacity: 0.81\" title=\"0.031\">the</span><span style=\"opacity: 0.80\"> </span><span style=\"background-color: hsl(120, 100.00%, 92.70%); opacity: 0.82\" title=\"0.102\">film</span><span style=\"opacity: 0.80\"> </span><span style=\"background-color: hsl(120, 100.00%, 72.23%); opacity: 0.92\" title=\"0.689\">focuses</span><span style=\"opacity: 0.80\"> </span><span style=\"background-color: hsl(120, 100.00%, 91.44%); opacity: 0.82\" title=\"0.128\">more</span><span style=\"opacity: 0.80\"> </span><span style=\"background-color: hsl(0, 100.00%, 97.21%); opacity: 0.80\" title=\"-0.026\">on</span><span style=\"opacity: 0.80\"> </span><span style=\"background-color: hsl(120, 100.00%, 93.37%); opacity: 0.82\" title=\"0.089\">tarzan</span><span style=\"opacity: 0.80\">&#x27;s </span><span style=\"background-color: hsl(0, 100.00%, 85.29%); opacity: 0.85\" title=\"-0.278\">struggles</span><span style=\"opacity: 0.80\"> </span><span style=\"background-color: hsl(120, 100.00%, 98.82%); opacity: 0.80\" title=\"0.008\">in</span><span style=\"opacity: 0.80\"> </span><span style=\"background-color: hsl(120, 100.00%, 88.58%); opacity: 0.83\" title=\"0.194\">adapting</span><span style=\"opacity: 0.80\"> </span><span style=\"background-color: hsl(120, 100.00%, 98.14%); opacity: 0.80\" title=\"0.014\">to</span><span style=\"opacity: 0.80\"> </span><span style=\"background-color: hsl(0, 100.00%, 99.79%); opacity: 0.80\" title=\"-0.001\">civilization</span><span style=\"opacity: 0.80\"> </span><span style=\"background-color: hsl(120, 100.00%, 92.69%); opacity: 0.82\" title=\"0.102\">and</span><span style=\"opacity: 0.80\"> </span><span style=\"background-color: hsl(120, 100.00%, 93.57%); opacity: 0.81\" title=\"0.085\">his</span><span style=\"opacity: 0.80\"> </span><span style=\"background-color: hsl(0, 100.00%, 80.25%); opacity: 0.87\" title=\"-0.424\">inner</span><span style=\"opacity: 0.80\"> </span><span style=\"background-color: hsl(0, 100.00%, 81.91%); opacity: 0.86\" title=\"-0.374\">conflict</span><span style=\"opacity: 0.80\"> </span><span style=\"background-color: hsl(0, 100.00%, 96.78%); opacity: 0.81\" title=\"-0.032\">than</span><span style=\"opacity: 0.80\"> </span><span style=\"background-color: hsl(0, 100.00%, 97.21%); opacity: 0.80\" title=\"-0.026\">on</span><span style=\"opacity: 0.80\"> </span><span style=\"background-color: hsl(120, 100.00%, 93.57%); opacity: 0.81\" title=\"0.085\">his</span><span style=\"opacity: 0.80\"> </span><span style=\"background-color: hsl(0, 100.00%, 85.71%); opacity: 0.85\" title=\"-0.267\">jungle</span><span style=\"opacity: 0.80\"> </span><span style=\"background-color: hsl(0, 100.00%, 92.92%); opacity: 0.82\" title=\"-0.098\">exploits</span><span style=\"opacity: 0.80\">. </span><span style=\"background-color: hsl(0, 100.00%, 95.29%); opacity: 0.81\" title=\"-0.055\">this</span><span style=\"opacity: 0.80\"> </span><span style=\"background-color: hsl(120, 100.00%, 91.18%); opacity: 0.82\" title=\"0.134\">unusual</span><span style=\"opacity: 0.80\"> </span><span style=\"background-color: hsl(120, 100.00%, 88.06%); opacity: 0.84\" title=\"0.206\">take</span><span style=\"opacity: 0.80\"> </span><span style=\"background-color: hsl(0, 100.00%, 97.21%); opacity: 0.80\" title=\"-0.026\">on</span><span style=\"opacity: 0.80\"> </span><span style=\"background-color: hsl(120, 100.00%, 96.85%); opacity: 0.81\" title=\"0.031\">the</span><span style=\"opacity: 0.80\"> </span><span style=\"background-color: hsl(0, 100.00%, 96.81%); opacity: 0.81\" title=\"-0.031\">old</span><span style=\"opacity: 0.80\"> </span><span style=\"background-color: hsl(120, 100.00%, 79.12%); opacity: 0.88\" title=\"0.458\">classic</span><span style=\"opacity: 0.80\"> </span><span style=\"background-color: hsl(120, 100.00%, 85.17%); opacity: 0.85\" title=\"0.281\">makes</span><span style=\"opacity: 0.80\"> </span><span style=\"background-color: hsl(120, 100.00%, 89.60%); opacity: 0.83\" title=\"0.169\">it</span><span style=\"opacity: 0.80\"> </span><span style=\"background-color: hsl(120, 100.00%, 83.44%); opacity: 0.86\" title=\"0.329\">both</span><span style=\"opacity: 0.80\"> </span><span style=\"background-color: hsl(120, 100.00%, 96.85%); opacity: 0.81\" title=\"0.031\">the</span><span style=\"opacity: 0.80\"> </span><span style=\"background-color: hsl(0, 100.00%, 99.10%); opacity: 0.80\" title=\"-0.005\">typical</span><span style=\"opacity: 0.80\"> </span><span style=\"background-color: hsl(120, 100.00%, 87.48%); opacity: 0.84\" title=\"0.221\">dramatic</span><span style=\"opacity: 0.80\"> </span><span style=\"background-color: hsl(120, 100.00%, 82.67%); opacity: 0.86\" title=\"0.351\">adventure</span><span style=\"opacity: 0.80\"> </span><span style=\"background-color: hsl(0, 100.00%, 92.19%); opacity: 0.82\" title=\"-0.113\">but</span><span style=\"opacity: 0.80\"> </span><span style=\"background-color: hsl(120, 100.00%, 86.26%); opacity: 0.84\" title=\"0.252\">also</span><span style=\"opacity: 0.80\">, </span><span style=\"background-color: hsl(120, 100.00%, 81.52%); opacity: 0.87\" title=\"0.385\">above</span><span style=\"opacity: 0.80\"> </span><span style=\"background-color: hsl(0, 100.00%, 97.18%); opacity: 0.80\" title=\"-0.026\">all</span><span style=\"opacity: 0.80\">, a </span><span style=\"background-color: hsl(120, 100.00%, 69.74%); opacity: 0.93\" title=\"0.779\">moving</span><span style=\"opacity: 0.80\"> </span><span style=\"background-color: hsl(0, 100.00%, 84.97%); opacity: 0.85\" title=\"-0.287\">personal</span><span style=\"opacity: 0.80\"> </span><span style=\"background-color: hsl(0, 100.00%, 99.54%); opacity: 0.80\" title=\"-0.002\">story</span><span style=\"opacity: 0.80\">. i </span><span style=\"background-color: hsl(0, 100.00%, 87.57%); opacity: 0.84\" title=\"-0.218\">wasn</span><span style=\"opacity: 0.80\">&#x27;t </span><span style=\"background-color: hsl(120, 100.00%, 67.58%); opacity: 0.95\" title=\"0.860\">surprised</span><span style=\"opacity: 0.80\"> </span><span style=\"background-color: hsl(120, 100.00%, 98.14%); opacity: 0.80\" title=\"0.014\">to</span><span style=\"opacity: 0.80\"> </span><span style=\"background-color: hsl(0, 100.00%, 81.29%); opacity: 0.87\" title=\"-0.392\">note</span><span style=\"opacity: 0.80\"> </span><span style=\"background-color: hsl(0, 100.00%, 85.85%); opacity: 0.85\" title=\"-0.263\">here</span><span style=\"opacity: 0.80\"> </span><span style=\"background-color: hsl(120, 100.00%, 98.78%); opacity: 0.80\" title=\"0.008\">that</span><span style=\"opacity: 0.80\"> </span><span style=\"background-color: hsl(120, 100.00%, 94.61%); opacity: 0.81\" title=\"0.066\">its</span><span style=\"opacity: 0.80\"> </span><span style=\"background-color: hsl(0, 100.00%, 82.17%); opacity: 0.86\" title=\"-0.366\">director</span><span style=\"opacity: 0.80\"> </span><span style=\"background-color: hsl(120, 100.00%, 94.33%); opacity: 0.81\" title=\"0.071\">is</span><span style=\"opacity: 0.80\"> </span><span style=\"background-color: hsl(120, 100.00%, 96.85%); opacity: 0.81\" title=\"0.031\">the</span><span style=\"opacity: 0.80\"> </span><span style=\"background-color: hsl(0, 100.00%, 89.73%); opacity: 0.83\" title=\"-0.167\">same</span><span style=\"opacity: 0.80\"> </span><span style=\"background-color: hsl(120, 100.00%, 99.43%); opacity: 0.80\" title=\"0.003\">individual</span><span style=\"opacity: 0.80\">, </span><span style=\"background-color: hsl(0, 100.00%, 94.78%); opacity: 0.81\" title=\"-0.063\">hugh</span><span style=\"opacity: 0.80\"> </span><span style=\"background-color: hsl(120, 100.00%, 84.95%); opacity: 0.85\" title=\"0.287\">hudson</span><span style=\"opacity: 0.80\">, </span><span style=\"background-color: hsl(120, 100.00%, 88.28%); opacity: 0.83\" title=\"0.201\">who</span><span style=\"opacity: 0.80\"> </span><span style=\"background-color: hsl(120, 100.00%, 86.26%); opacity: 0.84\" title=\"0.252\">also</span><span style=\"opacity: 0.80\"> </span><span style=\"background-color: hsl(0, 100.00%, 75.60%); opacity: 0.90\" title=\"-0.573\">directed</span><span style=\"opacity: 0.80\"> </span><span style=\"background-color: hsl(0, 100.00%, 96.92%); opacity: 0.81\" title=\"-0.030\">chariots</span><span style=\"opacity: 0.80\"> </span><span style=\"background-color: hsl(0, 100.00%, 94.25%); opacity: 0.81\" title=\"-0.073\">of</span><span style=\"opacity: 0.80\"> </span><span style=\"background-color: hsl(0, 100.00%, 96.85%); opacity: 0.81\" title=\"-0.031\">fire</span><span style=\"opacity: 0.80\">, </span><span style=\"background-color: hsl(0, 100.00%, 94.14%); opacity: 0.81\" title=\"-0.075\">another</span><span style=\"opacity: 0.80\"> </span><span style=\"background-color: hsl(120, 100.00%, 64.07%); opacity: 0.97\" title=\"0.996\">brilliant</span><span style=\"opacity: 0.80\"> </span><span style=\"background-color: hsl(120, 100.00%, 96.55%); opacity: 0.81\" title=\"0.035\">movie</span><span style=\"opacity: 0.80\">.</span>\n",
              "    </p>\n",
              "\n",
              "\n",
              "    \n",
              "\n",
              "    \n",
              "\n",
              "    \n",
              "\n",
              "    \n",
              "\n",
              "\n",
              "    \n",
              "\n",
              "    \n",
              "\n",
              "    \n",
              "\n",
              "    \n",
              "\n",
              "    \n",
              "\n",
              "    \n",
              "\n",
              "\n",
              "    \n",
              "\n",
              "    \n",
              "\n",
              "    \n",
              "\n",
              "    \n",
              "\n",
              "    \n",
              "\n",
              "    \n",
              "\n",
              "\n",
              "\n"
            ]
          },
          "metadata": {},
          "execution_count": 358
        }
      ]
    },
    {
      "cell_type": "code",
      "metadata": {
        "id": "AoZhtlYlW-xG",
        "colab": {
          "base_uri": "https://localhost:8080/",
          "height": 279
        },
        "outputId": "b7203934-a261-47a2-8531-f206d8350377"
      },
      "source": [
        "print('Positive' if test_df['is_positive'].iloc[6] else 'Negative')\n",
        "eli5.show_prediction(classifier, test_df['review'].iloc[6], vec=vectorizer, \n",
        "                     targets=['positive'], target_names=['negative', 'positive'])"
      ],
      "execution_count": null,
      "outputs": [
        {
          "output_type": "stream",
          "name": "stdout",
          "text": [
            "Negative\n"
          ]
        },
        {
          "output_type": "stream",
          "name": "stderr",
          "text": [
            "/usr/local/lib/python3.7/dist-packages/sklearn/utils/deprecation.py:87: FutureWarning: Function get_feature_names is deprecated; get_feature_names is deprecated in 1.0 and will be removed in 1.2. Please use get_feature_names_out instead.\n",
            "  warnings.warn(msg, category=FutureWarning)\n"
          ]
        },
        {
          "output_type": "execute_result",
          "data": {
            "text/plain": [
              "<IPython.core.display.HTML object>"
            ],
            "text/html": [
              "\n",
              "    <style>\n",
              "    table.eli5-weights tr:hover {\n",
              "        filter: brightness(85%);\n",
              "    }\n",
              "</style>\n",
              "\n",
              "\n",
              "\n",
              "    \n",
              "\n",
              "    \n",
              "\n",
              "    \n",
              "\n",
              "    \n",
              "\n",
              "    \n",
              "\n",
              "    \n",
              "\n",
              "\n",
              "    \n",
              "\n",
              "    \n",
              "\n",
              "    \n",
              "\n",
              "    \n",
              "        \n",
              "\n",
              "    \n",
              "\n",
              "        \n",
              "\n",
              "        \n",
              "    \n",
              "        \n",
              "        \n",
              "    \n",
              "        <p style=\"margin-bottom: 0.5em; margin-top: 0em\">\n",
              "            <b>\n",
              "    \n",
              "        y=positive\n",
              "    \n",
              "</b>\n",
              "\n",
              "    \n",
              "    (probability <b>0.000</b>, score <b>-10.913</b>)\n",
              "\n",
              "top features\n",
              "        </p>\n",
              "    \n",
              "    <table class=\"eli5-weights\"\n",
              "           style=\"border-collapse: collapse; border: none; margin-top: 0em; table-layout: auto; margin-bottom: 2em;\">\n",
              "        <thead>\n",
              "        <tr style=\"border: none;\">\n",
              "            \n",
              "                <th style=\"padding: 0 1em 0 0.5em; text-align: right; border: none;\" title=\"Feature contribution already accounts for the feature value (for linear models, contribution = weight * feature value), and the sum of feature contributions is equal to the score or, for some classifiers, to the probability. Feature values are shown if &quot;show_feature_values&quot; is True.\">\n",
              "                    Contribution<sup>?</sup>\n",
              "                </th>\n",
              "            \n",
              "            <th style=\"padding: 0 0.5em 0 0.5em; text-align: left; border: none;\">Feature</th>\n",
              "            \n",
              "        </tr>\n",
              "        </thead>\n",
              "        <tbody>\n",
              "        \n",
              "        \n",
              "\n",
              "        \n",
              "        \n",
              "            <tr style=\"background-color: hsl(0, 100.00%, 99.79%); border: none;\">\n",
              "    <td style=\"padding: 0 1em 0 0.5em; text-align: right; border: none;\">\n",
              "        -0.016\n",
              "    </td>\n",
              "    <td style=\"padding: 0 0.5em 0 0.5em; text-align: left; border: none;\">\n",
              "        &lt;BIAS&gt;\n",
              "    </td>\n",
              "    \n",
              "</tr>\n",
              "        \n",
              "            <tr style=\"background-color: hsl(0, 100.00%, 80.00%); border: none;\">\n",
              "    <td style=\"padding: 0 1em 0 0.5em; text-align: right; border: none;\">\n",
              "        -10.897\n",
              "    </td>\n",
              "    <td style=\"padding: 0 0.5em 0 0.5em; text-align: left; border: none;\">\n",
              "        Highlighted in text (sum)\n",
              "    </td>\n",
              "    \n",
              "</tr>\n",
              "        \n",
              "\n",
              "        </tbody>\n",
              "    </table>\n",
              "\n",
              "    \n",
              "\n",
              "\n",
              "\n",
              "    <p style=\"margin-bottom: 2.5em; margin-top:-0.5em;\">\n",
              "        <span style=\"background-color: hsl(0, 100.00%, 95.90%); opacity: 0.81\" title=\"-0.055\">this</span><span style=\"opacity: 0.80\"> </span><span style=\"background-color: hsl(120, 100.00%, 96.99%); opacity: 0.80\" title=\"0.035\">movie</span><span style=\"opacity: 0.80\"> </span><span style=\"background-color: hsl(120, 100.00%, 95.07%); opacity: 0.81\" title=\"0.071\">is</span><span style=\"opacity: 0.80\"> </span><span style=\"background-color: hsl(0, 100.00%, 66.37%); opacity: 0.96\" title=\"-1.105\">terrible</span><span style=\"opacity: 0.80\">, </span><span style=\"background-color: hsl(120, 100.00%, 90.95%); opacity: 0.82\" title=\"0.169\">it</span><span style=\"opacity: 0.80\"> </span><span style=\"background-color: hsl(0, 100.00%, 97.04%); opacity: 0.80\" title=\"-0.034\">was</span><span style=\"opacity: 0.80\"> </span><span style=\"background-color: hsl(120, 100.00%, 95.56%); opacity: 0.81\" title=\"0.061\">so</span><span style=\"opacity: 0.80\"> </span><span style=\"background-color: hsl(0, 100.00%, 91.95%); opacity: 0.82\" title=\"-0.143\">difficult</span><span style=\"opacity: 0.80\"> </span><span style=\"background-color: hsl(120, 100.00%, 98.38%); opacity: 0.80\" title=\"0.014\">to</span><span style=\"opacity: 0.80\"> </span><span style=\"background-color: hsl(0, 100.00%, 94.12%); opacity: 0.81\" title=\"-0.092\">believe</span><span style=\"opacity: 0.80\"> </span><span style=\"background-color: hsl(120, 100.00%, 98.94%); opacity: 0.80\" title=\"0.008\">that</span><span style=\"opacity: 0.80\"> </span><span style=\"background-color: hsl(0, 100.00%, 80.46%); opacity: 0.87\" title=\"-0.509\">katie</span><span style=\"opacity: 0.80\"> </span><span style=\"background-color: hsl(120, 100.00%, 86.80%); opacity: 0.84\" title=\"0.291\">became</span><span style=\"opacity: 0.80\"> a </span><span style=\"background-color: hsl(120, 100.00%, 81.07%); opacity: 0.87\" title=\"0.486\">heartfelt</span><span style=\"opacity: 0.80\"> </span><span style=\"background-color: hsl(120, 100.00%, 93.45%); opacity: 0.82\" title=\"0.107\">teenager</span><span style=\"opacity: 0.80\"> </span><span style=\"background-color: hsl(120, 100.00%, 98.63%); opacity: 0.80\" title=\"0.011\">with</span><span style=\"opacity: 0.80\"> </span><span style=\"background-color: hsl(120, 100.00%, 97.26%); opacity: 0.80\" title=\"0.031\">the</span><span style=\"opacity: 0.80\"> </span><span style=\"background-color: hsl(0, 100.00%, 85.51%); opacity: 0.85\" title=\"-0.332\">power</span><span style=\"opacity: 0.80\"> </span><span style=\"background-color: hsl(120, 100.00%, 98.38%); opacity: 0.80\" title=\"0.014\">to</span><span style=\"opacity: 0.80\"> </span><span style=\"background-color: hsl(0, 100.00%, 60.00%); opacity: 1.00\" title=\"-1.416\">save</span><span style=\"opacity: 0.80\"> </span><span style=\"background-color: hsl(120, 100.00%, 97.26%); opacity: 0.80\" title=\"0.031\">the</span><span style=\"opacity: 0.80\"> </span><span style=\"background-color: hsl(120, 100.00%, 88.35%); opacity: 0.83\" title=\"0.243\">pity</span><span style=\"opacity: 0.80\"> </span><span style=\"background-color: hsl(120, 100.00%, 87.57%); opacity: 0.84\" title=\"0.267\">chinese</span><span style=\"opacity: 0.80\"> </span><span style=\"background-color: hsl(120, 100.00%, 94.82%); opacity: 0.81\" title=\"0.076\">people</span><span style=\"opacity: 0.80\">, </span><span style=\"background-color: hsl(120, 100.00%, 97.26%); opacity: 0.80\" title=\"0.031\">the</span><span style=\"opacity: 0.80\"> </span><span style=\"background-color: hsl(120, 100.00%, 96.99%); opacity: 0.80\" title=\"0.035\">movie</span><span style=\"opacity: 0.80\"> </span><span style=\"background-color: hsl(0, 100.00%, 87.88%); opacity: 0.84\" title=\"-0.257\">didn</span><span style=\"opacity: 0.80\">&#x27;t </span><span style=\"background-color: hsl(0, 100.00%, 96.02%); opacity: 0.81\" title=\"-0.052\">show</span><span style=\"opacity: 0.80\"> </span><span style=\"background-color: hsl(0, 100.00%, 92.13%); opacity: 0.82\" title=\"-0.139\">any</span><span style=\"opacity: 0.80\"> </span><span style=\"background-color: hsl(0, 100.00%, 87.70%); opacity: 0.84\" title=\"-0.263\">convincing</span><span style=\"opacity: 0.80\"> </span><span style=\"background-color: hsl(0, 100.00%, 95.57%); opacity: 0.81\" title=\"-0.061\">argument</span><span style=\"opacity: 0.80\"> </span><span style=\"background-color: hsl(120, 100.00%, 98.38%); opacity: 0.80\" title=\"0.014\">to</span><span style=\"opacity: 0.80\"> </span><span style=\"background-color: hsl(0, 100.00%, 83.43%); opacity: 0.86\" title=\"-0.402\">prove</span><span style=\"opacity: 0.80\"> </span><span style=\"background-color: hsl(120, 100.00%, 98.94%); opacity: 0.80\" title=\"0.008\">that</span><span style=\"opacity: 0.80\">. </span><span style=\"background-color: hsl(120, 100.00%, 93.64%); opacity: 0.81\" title=\"0.102\">and</span><span style=\"opacity: 0.80\"> </span><span style=\"background-color: hsl(120, 100.00%, 97.26%); opacity: 0.80\" title=\"0.031\">the</span><span style=\"opacity: 0.80\"> </span><span style=\"background-color: hsl(0, 100.00%, 88.51%); opacity: 0.83\" title=\"-0.238\">rest</span><span style=\"opacity: 0.80\"> </span><span style=\"background-color: hsl(0, 100.00%, 94.99%); opacity: 0.81\" title=\"-0.073\">of</span><span style=\"opacity: 0.80\"> </span><span style=\"background-color: hsl(120, 100.00%, 97.26%); opacity: 0.80\" title=\"0.031\">the</span><span style=\"opacity: 0.80\"> </span><span style=\"background-color: hsl(0, 100.00%, 88.23%); opacity: 0.83\" title=\"-0.247\">plot</span><span style=\"opacity: 0.80\"> </span><span style=\"background-color: hsl(0, 100.00%, 87.88%); opacity: 0.84\" title=\"-0.257\">didn</span><span style=\"opacity: 0.80\">&#x27;t </span><span style=\"background-color: hsl(0, 100.00%, 91.84%); opacity: 0.82\" title=\"-0.146\">make</span><span style=\"opacity: 0.80\"> </span><span style=\"background-color: hsl(0, 100.00%, 92.13%); opacity: 0.82\" title=\"-0.139\">any</span><span style=\"opacity: 0.80\"> </span><span style=\"background-color: hsl(0, 100.00%, 74.84%); opacity: 0.90\" title=\"-0.730\">effort</span><span style=\"opacity: 0.80\"> </span><span style=\"background-color: hsl(120, 100.00%, 98.38%); opacity: 0.80\" title=\"0.014\">to</span><span style=\"opacity: 0.80\"> </span><span style=\"background-color: hsl(0, 100.00%, 96.02%); opacity: 0.81\" title=\"-0.052\">show</span><span style=\"opacity: 0.80\"> </span><span style=\"background-color: hsl(120, 100.00%, 89.59%); opacity: 0.83\" title=\"0.207\">us</span><span style=\"opacity: 0.80\"> </span><span style=\"background-color: hsl(120, 100.00%, 92.55%); opacity: 0.82\" title=\"0.128\">more</span><span style=\"opacity: 0.80\"> </span><span style=\"background-color: hsl(0, 100.00%, 97.20%); opacity: 0.80\" title=\"-0.032\">than</span><span style=\"opacity: 0.80\"> a </span><span style=\"background-color: hsl(0, 100.00%, 74.55%); opacity: 0.90\" title=\"-0.742\">cheap</span><span style=\"opacity: 0.80\"> </span><span style=\"background-color: hsl(120, 100.00%, 82.93%); opacity: 0.86\" title=\"0.420\">common</span><span style=\"opacity: 0.80\"> </span><span style=\"background-color: hsl(120, 100.00%, 94.01%); opacity: 0.81\" title=\"0.094\">sense</span><span style=\"opacity: 0.80\">...   </span><span style=\"background-color: hsl(120, 100.00%, 97.26%); opacity: 0.80\" title=\"0.031\">the</span><span style=\"opacity: 0.80\"> </span><span style=\"background-color: hsl(0, 100.00%, 88.23%); opacity: 0.83\" title=\"-0.247\">plot</span><span style=\"opacity: 0.80\"> </span><span style=\"background-color: hsl(120, 100.00%, 95.07%); opacity: 0.81\" title=\"0.071\">is</span><span style=\"opacity: 0.80\"> </span><span style=\"background-color: hsl(0, 100.00%, 64.88%); opacity: 0.97\" title=\"-1.176\">ridiculous</span><span style=\"opacity: 0.80\"> </span><span style=\"background-color: hsl(120, 100.00%, 93.64%); opacity: 0.81\" title=\"0.102\">and</span><span style=\"opacity: 0.80\"> </span><span style=\"background-color: hsl(120, 100.00%, 97.26%); opacity: 0.80\" title=\"0.031\">the</span><span style=\"opacity: 0.80\"> </span><span style=\"background-color: hsl(0, 100.00%, 91.87%); opacity: 0.82\" title=\"-0.145\">only</span><span style=\"opacity: 0.80\"> </span><span style=\"background-color: hsl(120, 100.00%, 98.24%); opacity: 0.80\" title=\"0.016\">thing</span><span style=\"opacity: 0.80\"> </span><span style=\"background-color: hsl(120, 100.00%, 96.33%); opacity: 0.81\" title=\"0.047\">we</span><span style=\"opacity: 0.80\"> </span><span style=\"background-color: hsl(0, 100.00%, 97.42%); opacity: 0.80\" title=\"-0.028\">can</span><span style=\"opacity: 0.80\"> </span><span style=\"background-color: hsl(120, 100.00%, 93.45%); opacity: 0.82\" title=\"0.107\">extract</span><span style=\"opacity: 0.80\"> </span><span style=\"background-color: hsl(0, 100.00%, 98.50%); opacity: 0.80\" title=\"-0.013\">from</span><span style=\"opacity: 0.80\"> </span><span style=\"background-color: hsl(120, 100.00%, 90.95%); opacity: 0.82\" title=\"0.169\">it</span><span style=\"opacity: 0.80\"> </span><span style=\"background-color: hsl(120, 100.00%, 95.07%); opacity: 0.81\" title=\"0.071\">is</span><span style=\"opacity: 0.80\"> </span><span style=\"background-color: hsl(120, 100.00%, 98.94%); opacity: 0.80\" title=\"0.008\">that</span><span style=\"opacity: 0.80\"> </span><span style=\"background-color: hsl(120, 100.00%, 90.95%); opacity: 0.82\" title=\"0.169\">it</span><span style=\"opacity: 0.80\"> </span><span style=\"background-color: hsl(120, 100.00%, 91.50%); opacity: 0.82\" title=\"0.155\">demonstrate</span><span style=\"opacity: 0.80\"> </span><span style=\"background-color: hsl(0, 100.00%, 94.93%); opacity: 0.81\" title=\"-0.074\">how</span><span style=\"opacity: 0.80\"> </span><span style=\"background-color: hsl(0, 100.00%, 86.24%); opacity: 0.84\" title=\"-0.308\">arrogant</span><span style=\"opacity: 0.80\"> a </span><span style=\"background-color: hsl(120, 100.00%, 87.03%); opacity: 0.84\" title=\"0.283\">human</span><span style=\"opacity: 0.80\"> </span><span style=\"background-color: hsl(0, 100.00%, 97.42%); opacity: 0.80\" title=\"-0.028\">can</span><span style=\"opacity: 0.80\"> </span><span style=\"background-color: hsl(0, 100.00%, 94.01%); opacity: 0.81\" title=\"-0.094\">be</span><span style=\"opacity: 0.80\">. </span><span style=\"background-color: hsl(0, 100.00%, 80.46%); opacity: 0.87\" title=\"-0.509\">katie</span><span style=\"opacity: 0.80\"> </span><span style=\"background-color: hsl(120, 100.00%, 88.54%); opacity: 0.83\" title=\"0.237\">must</span><span style=\"opacity: 0.80\"> </span><span style=\"background-color: hsl(0, 100.00%, 96.41%); opacity: 0.81\" title=\"-0.045\">have</span><span style=\"opacity: 0.80\"> </span><span style=\"background-color: hsl(0, 100.00%, 91.45%); opacity: 0.82\" title=\"-0.156\">inherited</span><span style=\"opacity: 0.80\"> </span><span style=\"background-color: hsl(120, 100.00%, 98.79%); opacity: 0.80\" title=\"0.010\">her</span><span style=\"opacity: 0.80\"> </span><span style=\"background-color: hsl(0, 100.00%, 94.17%); opacity: 0.81\" title=\"-0.090\">arrogance</span><span style=\"opacity: 0.80\"> </span><span style=\"background-color: hsl(0, 100.00%, 98.50%); opacity: 0.80\" title=\"-0.013\">from</span><span style=\"opacity: 0.80\"> </span><span style=\"background-color: hsl(120, 100.00%, 98.79%); opacity: 0.80\" title=\"0.010\">her</span><span style=\"opacity: 0.80\"> </span><span style=\"background-color: hsl(0, 100.00%, 79.22%); opacity: 0.88\" title=\"-0.556\">mother</span><span style=\"opacity: 0.80\">, </span><span style=\"background-color: hsl(120, 100.00%, 97.26%); opacity: 0.80\" title=\"0.031\">the</span><span style=\"opacity: 0.80\"> </span><span style=\"background-color: hsl(120, 100.00%, 84.26%); opacity: 0.85\" title=\"0.374\">most</span><span style=\"opacity: 0.80\"> </span><span style=\"background-color: hsl(0, 100.00%, 63.78%); opacity: 0.97\" title=\"-1.229\">annoying</span><span style=\"opacity: 0.80\"> </span><span style=\"background-color: hsl(120, 100.00%, 96.33%); opacity: 0.81\" title=\"0.047\">character</span><span style=\"opacity: 0.80\"> i </span><span style=\"background-color: hsl(0, 100.00%, 96.41%); opacity: 0.81\" title=\"-0.045\">have</span><span style=\"opacity: 0.80\"> </span><span style=\"background-color: hsl(120, 100.00%, 90.54%); opacity: 0.83\" title=\"0.181\">seen</span><span style=\"opacity: 0.80\"> </span><span style=\"background-color: hsl(0, 100.00%, 93.37%); opacity: 0.82\" title=\"-0.109\">for</span><span style=\"opacity: 0.80\"> a </span><span style=\"background-color: hsl(0, 100.00%, 95.79%); opacity: 0.81\" title=\"-0.057\">long</span><span style=\"opacity: 0.80\"> </span><span style=\"background-color: hsl(120, 100.00%, 94.95%); opacity: 0.81\" title=\"0.074\">time</span><span style=\"opacity: 0.80\">.   </span><span style=\"background-color: hsl(120, 100.00%, 97.26%); opacity: 0.80\" title=\"0.031\">the</span><span style=\"opacity: 0.80\"> </span><span style=\"background-color: hsl(0, 100.00%, 92.40%); opacity: 0.82\" title=\"-0.132\">acting</span><span style=\"opacity: 0.80\"> </span><span style=\"background-color: hsl(120, 100.00%, 93.64%); opacity: 0.81\" title=\"0.102\">and</span><span style=\"opacity: 0.80\"> </span><span style=\"background-color: hsl(0, 100.00%, 85.07%); opacity: 0.85\" title=\"-0.346\">scenery</span><span style=\"opacity: 0.80\"> </span><span style=\"background-color: hsl(0, 100.00%, 88.60%); opacity: 0.83\" title=\"-0.236\">were</span><span style=\"opacity: 0.80\"> </span><span style=\"background-color: hsl(0, 100.00%, 84.22%); opacity: 0.85\" title=\"-0.375\">ok</span><span style=\"opacity: 0.80\">, </span><span style=\"background-color: hsl(0, 100.00%, 93.20%); opacity: 0.82\" title=\"-0.113\">but</span><span style=\"opacity: 0.80\"> </span><span style=\"background-color: hsl(120, 100.00%, 97.26%); opacity: 0.80\" title=\"0.031\">the</span><span style=\"opacity: 0.80\"> </span><span style=\"background-color: hsl(0, 100.00%, 88.23%); opacity: 0.83\" title=\"-0.247\">plot</span><span style=\"opacity: 0.80\"> </span><span style=\"background-color: hsl(0, 100.00%, 76.41%); opacity: 0.89\" title=\"-0.666\">ruins</span><span style=\"opacity: 0.80\"> </span><span style=\"background-color: hsl(120, 100.00%, 87.98%); opacity: 0.84\" title=\"0.254\">everything</span><span style=\"opacity: 0.80\">, </span><span style=\"background-color: hsl(120, 100.00%, 93.46%); opacity: 0.82\" title=\"0.107\">full</span><span style=\"opacity: 0.80\"> </span><span style=\"background-color: hsl(0, 100.00%, 94.99%); opacity: 0.81\" title=\"-0.073\">of</span><span style=\"opacity: 0.80\"> </span><span style=\"background-color: hsl(0, 100.00%, 74.55%); opacity: 0.90\" title=\"-0.742\">cheap</span><span style=\"opacity: 0.80\"> </span><span style=\"background-color: hsl(0, 100.00%, 86.90%); opacity: 0.84\" title=\"-0.287\">clichés</span><span style=\"opacity: 0.80\"> </span><span style=\"background-color: hsl(120, 100.00%, 93.64%); opacity: 0.81\" title=\"0.102\">and</span><span style=\"opacity: 0.80\"> </span><span style=\"background-color: hsl(0, 100.00%, 89.67%); opacity: 0.83\" title=\"-0.205\">hypocritical</span><span style=\"opacity: 0.80\"> </span><span style=\"background-color: hsl(0, 100.00%, 89.21%); opacity: 0.83\" title=\"-0.218\">scenes</span><span style=\"opacity: 0.80\">, i </span><span style=\"background-color: hsl(120, 100.00%, 87.86%); opacity: 0.84\" title=\"0.258\">expect</span><span style=\"opacity: 0.80\"> </span><span style=\"background-color: hsl(0, 100.00%, 89.25%); opacity: 0.83\" title=\"-0.217\">not</span><span style=\"opacity: 0.80\"> </span><span style=\"background-color: hsl(120, 100.00%, 98.38%); opacity: 0.80\" title=\"0.014\">to</span><span style=\"opacity: 0.80\"> </span><span style=\"background-color: hsl(120, 100.00%, 91.33%); opacity: 0.82\" title=\"0.159\">see</span><span style=\"opacity: 0.80\"> </span><span style=\"background-color: hsl(0, 100.00%, 95.90%); opacity: 0.81\" title=\"-0.055\">this</span><span style=\"opacity: 0.80\"> </span><span style=\"background-color: hsl(120, 100.00%, 96.99%); opacity: 0.80\" title=\"0.035\">movie</span><span style=\"opacity: 0.80\"> </span><span style=\"background-color: hsl(120, 100.00%, 94.60%); opacity: 0.81\" title=\"0.081\">again</span><span style=\"opacity: 0.80\"> </span><span style=\"background-color: hsl(120, 100.00%, 98.98%); opacity: 0.80\" title=\"0.008\">in</span><span style=\"opacity: 0.80\"> </span><span style=\"background-color: hsl(120, 100.00%, 93.54%); opacity: 0.81\" title=\"0.105\">my</span><span style=\"opacity: 0.80\"> </span><span style=\"background-color: hsl(120, 100.00%, 90.84%); opacity: 0.82\" title=\"0.172\">life</span><span style=\"opacity: 0.80\">. </span><span style=\"background-color: hsl(0, 100.00%, 66.28%); opacity: 0.96\" title=\"-1.110\">skip</span><span style=\"opacity: 0.80\"> </span><span style=\"background-color: hsl(0, 100.00%, 95.90%); opacity: 0.81\" title=\"-0.055\">this</span><span style=\"opacity: 0.80\"> </span><span style=\"background-color: hsl(0, 100.00%, 93.87%); opacity: 0.81\" title=\"-0.097\">one</span><span style=\"opacity: 0.80\">!</span>\n",
              "    </p>\n",
              "\n",
              "\n",
              "    \n",
              "\n",
              "    \n",
              "\n",
              "    \n",
              "\n",
              "    \n",
              "\n",
              "\n",
              "    \n",
              "\n",
              "    \n",
              "\n",
              "    \n",
              "\n",
              "    \n",
              "\n",
              "    \n",
              "\n",
              "    \n",
              "\n",
              "\n",
              "    \n",
              "\n",
              "    \n",
              "\n",
              "    \n",
              "\n",
              "    \n",
              "\n",
              "    \n",
              "\n",
              "    \n",
              "\n",
              "\n",
              "\n"
            ]
          },
          "metadata": {},
          "execution_count": 359
        }
      ]
    },
    {
      "cell_type": "markdown",
      "metadata": {
        "id": "UNNUqZvplhAC"
      },
      "source": [
        "Посмотрим на примеры неправильной классификации, наконец:"
      ]
    },
    {
      "cell_type": "code",
      "metadata": {
        "id": "yf9ZzS8fXKFm",
        "colab": {
          "base_uri": "https://localhost:8080/",
          "height": 313
        },
        "outputId": "e8aad625-9dc7-4c04-f408-9b505d2b0c5b"
      },
      "source": [
        "import numpy as np\n",
        "\n",
        "preds = model.predict(test_df['review'])\n",
        "incorrect_pred_index = np.random.choice(np.where(preds != test_df['is_positive'])[0])\n",
        "\n",
        "eli5.show_prediction(classifier, test_df['review'].iloc[incorrect_pred_index],\n",
        "                     vec=vectorizer, targets=['positive'], target_names=['negative', 'positive'])"
      ],
      "execution_count": null,
      "outputs": [
        {
          "output_type": "stream",
          "name": "stderr",
          "text": [
            "/usr/local/lib/python3.7/dist-packages/sklearn/utils/deprecation.py:87: FutureWarning: Function get_feature_names is deprecated; get_feature_names is deprecated in 1.0 and will be removed in 1.2. Please use get_feature_names_out instead.\n",
            "  warnings.warn(msg, category=FutureWarning)\n"
          ]
        },
        {
          "output_type": "execute_result",
          "data": {
            "text/plain": [
              "<IPython.core.display.HTML object>"
            ],
            "text/html": [
              "\n",
              "    <style>\n",
              "    table.eli5-weights tr:hover {\n",
              "        filter: brightness(85%);\n",
              "    }\n",
              "</style>\n",
              "\n",
              "\n",
              "\n",
              "    \n",
              "\n",
              "    \n",
              "\n",
              "    \n",
              "\n",
              "    \n",
              "\n",
              "    \n",
              "\n",
              "    \n",
              "\n",
              "\n",
              "    \n",
              "\n",
              "    \n",
              "\n",
              "    \n",
              "\n",
              "    \n",
              "        \n",
              "\n",
              "    \n",
              "\n",
              "        \n",
              "\n",
              "        \n",
              "    \n",
              "        \n",
              "        \n",
              "    \n",
              "        <p style=\"margin-bottom: 0.5em; margin-top: 0em\">\n",
              "            <b>\n",
              "    \n",
              "        y=positive\n",
              "    \n",
              "</b>\n",
              "\n",
              "    \n",
              "    (probability <b>0.114</b>, score <b>-2.051</b>)\n",
              "\n",
              "top features\n",
              "        </p>\n",
              "    \n",
              "    <table class=\"eli5-weights\"\n",
              "           style=\"border-collapse: collapse; border: none; margin-top: 0em; table-layout: auto; margin-bottom: 2em;\">\n",
              "        <thead>\n",
              "        <tr style=\"border: none;\">\n",
              "            \n",
              "                <th style=\"padding: 0 1em 0 0.5em; text-align: right; border: none;\" title=\"Feature contribution already accounts for the feature value (for linear models, contribution = weight * feature value), and the sum of feature contributions is equal to the score or, for some classifiers, to the probability. Feature values are shown if &quot;show_feature_values&quot; is True.\">\n",
              "                    Contribution<sup>?</sup>\n",
              "                </th>\n",
              "            \n",
              "            <th style=\"padding: 0 0.5em 0 0.5em; text-align: left; border: none;\">Feature</th>\n",
              "            \n",
              "        </tr>\n",
              "        </thead>\n",
              "        <tbody>\n",
              "        \n",
              "        \n",
              "\n",
              "        \n",
              "        \n",
              "            <tr style=\"background-color: hsl(0, 100.00%, 99.31%); border: none;\">\n",
              "    <td style=\"padding: 0 1em 0 0.5em; text-align: right; border: none;\">\n",
              "        -0.016\n",
              "    </td>\n",
              "    <td style=\"padding: 0 0.5em 0 0.5em; text-align: left; border: none;\">\n",
              "        &lt;BIAS&gt;\n",
              "    </td>\n",
              "    \n",
              "</tr>\n",
              "        \n",
              "            <tr style=\"background-color: hsl(0, 100.00%, 80.00%); border: none;\">\n",
              "    <td style=\"padding: 0 1em 0 0.5em; text-align: right; border: none;\">\n",
              "        -2.035\n",
              "    </td>\n",
              "    <td style=\"padding: 0 0.5em 0 0.5em; text-align: left; border: none;\">\n",
              "        Highlighted in text (sum)\n",
              "    </td>\n",
              "    \n",
              "</tr>\n",
              "        \n",
              "\n",
              "        </tbody>\n",
              "    </table>\n",
              "\n",
              "    \n",
              "\n",
              "\n",
              "\n",
              "    <p style=\"margin-bottom: 2.5em; margin-top:-0.5em;\">\n",
              "        <span style=\"background-color: hsl(0, 100.00%, 91.01%); opacity: 0.82\" title=\"-0.109\">for</span><span style=\"opacity: 0.80\"> </span><span style=\"background-color: hsl(120, 100.00%, 90.93%); opacity: 0.82\" title=\"0.110\">those</span><span style=\"opacity: 0.80\"> </span><span style=\"background-color: hsl(120, 100.00%, 86.17%); opacity: 0.84\" title=\"0.201\">who</span><span style=\"opacity: 0.80\"> </span><span style=\"background-color: hsl(120, 100.00%, 83.55%); opacity: 0.86\" title=\"0.258\">expect</span><span style=\"opacity: 0.80\"> </span><span style=\"background-color: hsl(0, 100.00%, 93.55%); opacity: 0.81\" title=\"-0.068\">documentaries</span><span style=\"opacity: 0.80\"> </span><span style=\"background-color: hsl(120, 100.00%, 97.81%); opacity: 0.80\" title=\"0.014\">to</span><span style=\"opacity: 0.80\"> </span><span style=\"background-color: hsl(0, 100.00%, 91.87%); opacity: 0.82\" title=\"-0.094\">be</span><span style=\"opacity: 0.80\"> </span><span style=\"background-color: hsl(120, 100.00%, 88.86%); opacity: 0.83\" title=\"0.148\">objective</span><span style=\"opacity: 0.80\"> </span><span style=\"background-color: hsl(120, 100.00%, 96.05%); opacity: 0.81\" title=\"0.034\">creatures</span><span style=\"opacity: 0.80\">, </span><span style=\"background-color: hsl(0, 100.00%, 77.41%); opacity: 0.89\" title=\"-0.405\">let</span><span style=\"opacity: 0.80\"> </span><span style=\"background-color: hsl(120, 100.00%, 95.05%); opacity: 0.81\" title=\"0.046\">me</span><span style=\"opacity: 0.80\"> </span><span style=\"background-color: hsl(0, 100.00%, 92.95%); opacity: 0.82\" title=\"-0.077\">give</span><span style=\"opacity: 0.80\"> </span><span style=\"background-color: hsl(120, 100.00%, 83.03%); opacity: 0.86\" title=\"0.269\">you</span><span style=\"opacity: 0.80\"> a </span><span style=\"background-color: hsl(0, 100.00%, 98.06%); opacity: 0.80\" title=\"-0.012\">little</span><span style=\"opacity: 0.80\"> </span><span style=\"background-color: hsl(0, 100.00%, 92.98%); opacity: 0.82\" title=\"-0.076\">lesson</span><span style=\"opacity: 0.80\"> </span><span style=\"background-color: hsl(120, 100.00%, 98.61%); opacity: 0.80\" title=\"0.008\">in</span><span style=\"opacity: 0.80\"> </span><span style=\"background-color: hsl(120, 100.00%, 80.13%); opacity: 0.87\" title=\"0.337\">american</span><span style=\"opacity: 0.80\"> </span><span style=\"background-color: hsl(120, 100.00%, 91.39%); opacity: 0.82\" title=\"0.102\">film</span><span style=\"opacity: 0.80\">-</span><span style=\"background-color: hsl(0, 100.00%, 81.82%); opacity: 0.86\" title=\"-0.297\">making</span><span style=\"opacity: 0.80\">.  </span><span style=\"background-color: hsl(0, 100.00%, 93.55%); opacity: 0.81\" title=\"-0.068\">documentaries</span><span style=\"opacity: 0.80\"> </span><span style=\"background-color: hsl(0, 100.00%, 95.95%); opacity: 0.81\" title=\"-0.035\">rely</span><span style=\"opacity: 0.80\"> </span><span style=\"background-color: hsl(120, 100.00%, 85.40%); opacity: 0.85\" title=\"0.217\">heavily</span><span style=\"opacity: 0.80\"> </span><span style=\"background-color: hsl(0, 100.00%, 96.71%); opacity: 0.81\" title=\"-0.026\">on</span><span style=\"opacity: 0.80\"> </span><span style=\"background-color: hsl(120, 100.00%, 93.97%); opacity: 0.81\" title=\"0.061\">casting</span><span style=\"opacity: 0.80\">. </span><span style=\"background-color: hsl(120, 100.00%, 83.03%); opacity: 0.86\" title=\"0.269\">you</span><span style=\"opacity: 0.80\"> </span><span style=\"background-color: hsl(120, 100.00%, 95.67%); opacity: 0.81\" title=\"0.038\">pick</span><span style=\"opacity: 0.80\"> </span><span style=\"background-color: hsl(120, 100.00%, 91.38%); opacity: 0.82\" title=\"0.102\">and</span><span style=\"opacity: 0.80\"> </span><span style=\"background-color: hsl(0, 100.00%, 68.18%); opacity: 0.94\" title=\"-0.661\">choose</span><span style=\"opacity: 0.80\"> </span><span style=\"background-color: hsl(0, 100.00%, 91.14%); opacity: 0.82\" title=\"-0.106\">characters</span><span style=\"opacity: 0.80\"> </span><span style=\"background-color: hsl(120, 100.00%, 83.03%); opacity: 0.86\" title=\"0.269\">you</span><span style=\"opacity: 0.80\"> </span><span style=\"background-color: hsl(120, 100.00%, 90.45%); opacity: 0.83\" title=\"0.119\">think</span><span style=\"opacity: 0.80\"> </span><span style=\"background-color: hsl(120, 100.00%, 87.10%); opacity: 0.84\" title=\"0.182\">will</span><span style=\"opacity: 0.80\"> </span><span style=\"background-color: hsl(0, 100.00%, 88.70%); opacity: 0.83\" title=\"-0.151\">enhance</span><span style=\"opacity: 0.80\"> </span><span style=\"background-color: hsl(120, 100.00%, 96.28%); opacity: 0.81\" title=\"0.031\">the</span><span style=\"opacity: 0.80\"> </span><span style=\"background-color: hsl(0, 100.00%, 95.09%); opacity: 0.81\" title=\"-0.046\">drama</span><span style=\"opacity: 0.80\"> </span><span style=\"background-color: hsl(120, 100.00%, 91.38%); opacity: 0.82\" title=\"0.102\">and</span><span style=\"opacity: 0.80\"> </span><span style=\"background-color: hsl(120, 100.00%, 80.17%); opacity: 0.87\" title=\"0.337\">entertainment</span><span style=\"opacity: 0.80\"> </span><span style=\"background-color: hsl(0, 100.00%, 76.66%); opacity: 0.89\" title=\"-0.425\">value</span><span style=\"opacity: 0.80\"> </span><span style=\"background-color: hsl(0, 100.00%, 93.22%); opacity: 0.82\" title=\"-0.073\">of</span><span style=\"opacity: 0.80\"> </span><span style=\"background-color: hsl(0, 100.00%, 98.16%); opacity: 0.80\" title=\"-0.011\">your</span><span style=\"opacity: 0.80\"> </span><span style=\"background-color: hsl(120, 100.00%, 91.39%); opacity: 0.82\" title=\"0.102\">film</span><span style=\"opacity: 0.80\">.  </span><span style=\"background-color: hsl(0, 100.00%, 95.90%); opacity: 0.81\" title=\"-0.035\">after</span><span style=\"opacity: 0.80\"> </span><span style=\"background-color: hsl(120, 100.00%, 83.03%); opacity: 0.86\" title=\"0.269\">you</span><span style=\"opacity: 0.80\"> </span><span style=\"background-color: hsl(0, 100.00%, 95.13%); opacity: 0.81\" title=\"-0.045\">have</span><span style=\"opacity: 0.80\"> </span><span style=\"background-color: hsl(120, 100.00%, 85.65%); opacity: 0.85\" title=\"0.212\">shot</span><span style=\"opacity: 0.80\"> a </span><span style=\"background-color: hsl(120, 100.00%, 82.66%); opacity: 0.86\" title=\"0.278\">ton</span><span style=\"opacity: 0.80\"> </span><span style=\"background-color: hsl(0, 100.00%, 93.22%); opacity: 0.82\" title=\"-0.073\">of</span><span style=\"opacity: 0.80\"> </span><span style=\"background-color: hsl(0, 100.00%, 83.24%); opacity: 0.86\" title=\"-0.265\">footage</span><span style=\"opacity: 0.80\">, </span><span style=\"background-color: hsl(120, 100.00%, 83.03%); opacity: 0.86\" title=\"0.269\">you</span><span style=\"opacity: 0.80\"> </span><span style=\"background-color: hsl(120, 100.00%, 97.78%); opacity: 0.80\" title=\"0.015\">splice</span><span style=\"opacity: 0.80\"> </span><span style=\"background-color: hsl(120, 100.00%, 87.73%); opacity: 0.84\" title=\"0.169\">it</span><span style=\"opacity: 0.80\"> </span><span style=\"background-color: hsl(120, 100.00%, 79.96%); opacity: 0.87\" title=\"0.342\">together</span><span style=\"opacity: 0.80\"> </span><span style=\"background-color: hsl(120, 100.00%, 97.81%); opacity: 0.80\" title=\"0.014\">to</span><span style=\"opacity: 0.80\"> </span><span style=\"background-color: hsl(0, 100.00%, 88.94%); opacity: 0.83\" title=\"-0.146\">make</span><span style=\"opacity: 0.80\"> a </span><span style=\"background-color: hsl(120, 100.00%, 91.39%); opacity: 0.82\" title=\"0.102\">film</span><span style=\"opacity: 0.80\"> </span><span style=\"background-color: hsl(120, 100.00%, 98.15%); opacity: 0.80\" title=\"0.011\">with</span><span style=\"opacity: 0.80\"> </span><span style=\"background-color: hsl(0, 100.00%, 87.50%); opacity: 0.84\" title=\"-0.174\">ups</span><span style=\"opacity: 0.80\"> </span><span style=\"background-color: hsl(120, 100.00%, 91.38%); opacity: 0.82\" title=\"0.102\">and</span><span style=\"opacity: 0.80\"> </span><span style=\"background-color: hsl(120, 100.00%, 60.00%); opacity: 1.00\" title=\"0.917\">downs</span><span style=\"opacity: 0.80\">, </span><span style=\"background-color: hsl(0, 100.00%, 91.02%); opacity: 0.82\" title=\"-0.109\">turning</span><span style=\"opacity: 0.80\"> </span><span style=\"background-color: hsl(120, 100.00%, 93.46%); opacity: 0.82\" title=\"0.069\">points</span><span style=\"opacity: 0.80\">, </span><span style=\"background-color: hsl(120, 100.00%, 86.85%); opacity: 0.84\" title=\"0.187\">climaxes</span><span style=\"opacity: 0.80\">, </span><span style=\"background-color: hsl(120, 100.00%, 91.37%); opacity: 0.82\" title=\"0.102\">etc</span><span style=\"opacity: 0.80\">. </span><span style=\"background-color: hsl(0, 100.00%, 90.08%); opacity: 0.83\" title=\"-0.125\">if</span><span style=\"opacity: 0.80\"> </span><span style=\"background-color: hsl(120, 100.00%, 83.03%); opacity: 0.86\" title=\"0.269\">you</span><span style=\"opacity: 0.80\"> </span><span style=\"background-color: hsl(0, 100.00%, 95.13%); opacity: 0.81\" title=\"-0.045\">have</span><span style=\"opacity: 0.80\"> </span><span style=\"background-color: hsl(0, 100.00%, 74.42%); opacity: 0.91\" title=\"-0.484\">trouble</span><span style=\"opacity: 0.80\"> </span><span style=\"background-color: hsl(120, 100.00%, 98.15%); opacity: 0.80\" title=\"0.011\">with</span><span style=\"opacity: 0.80\"> </span><span style=\"background-color: hsl(120, 100.00%, 83.25%); opacity: 0.86\" title=\"0.264\">existing</span><span style=\"opacity: 0.80\"> </span><span style=\"background-color: hsl(0, 100.00%, 83.24%); opacity: 0.86\" title=\"-0.265\">footage</span><span style=\"opacity: 0.80\">, </span><span style=\"background-color: hsl(120, 100.00%, 83.03%); opacity: 0.86\" title=\"0.269\">you</span><span style=\"opacity: 0.80\"> </span><span style=\"background-color: hsl(0, 100.00%, 95.02%); opacity: 0.81\" title=\"-0.047\">either</span><span style=\"opacity: 0.80\"> </span><span style=\"background-color: hsl(0, 100.00%, 67.42%); opacity: 0.95\" title=\"-0.684\">shoot</span><span style=\"opacity: 0.80\"> </span><span style=\"background-color: hsl(120, 100.00%, 91.55%); opacity: 0.82\" title=\"0.099\">some</span><span style=\"opacity: 0.80\"> </span><span style=\"background-color: hsl(120, 100.00%, 89.91%); opacity: 0.83\" title=\"0.128\">more</span><span style=\"opacity: 0.80\"> </span><span style=\"background-color: hsl(120, 100.00%, 98.56%); opacity: 0.80\" title=\"0.008\">that</span><span style=\"opacity: 0.80\"> </span><span style=\"background-color: hsl(120, 100.00%, 82.51%); opacity: 0.86\" title=\"0.281\">makes</span><span style=\"opacity: 0.80\"> </span><span style=\"background-color: hsl(120, 100.00%, 91.88%); opacity: 0.82\" title=\"0.094\">sense</span><span style=\"opacity: 0.80\">, </span><span style=\"background-color: hsl(120, 100.00%, 94.26%); opacity: 0.81\" title=\"0.057\">find</span><span style=\"opacity: 0.80\"> </span><span style=\"background-color: hsl(120, 100.00%, 91.55%); opacity: 0.82\" title=\"0.099\">some</span><span style=\"opacity: 0.80\"> </span><span style=\"background-color: hsl(0, 100.00%, 87.78%); opacity: 0.84\" title=\"-0.168\">stock</span><span style=\"opacity: 0.80\"> </span><span style=\"background-color: hsl(0, 100.00%, 83.24%); opacity: 0.86\" title=\"-0.265\">footage</span><span style=\"opacity: 0.80\">, </span><span style=\"background-color: hsl(0, 100.00%, 95.64%); opacity: 0.81\" title=\"-0.039\">or</span><span style=\"opacity: 0.80\"> </span><span style=\"background-color: hsl(0, 100.00%, 91.87%); opacity: 0.82\" title=\"-0.094\">be</span><span style=\"opacity: 0.80\"> </span><span style=\"background-color: hsl(0, 100.00%, 86.57%); opacity: 0.84\" title=\"-0.193\">clever</span><span style=\"opacity: 0.80\"> </span><span style=\"background-color: hsl(120, 100.00%, 98.15%); opacity: 0.80\" title=\"0.011\">with</span><span style=\"opacity: 0.80\"> </span><span style=\"background-color: hsl(0, 100.00%, 98.16%); opacity: 0.80\" title=\"-0.011\">your</span><span style=\"opacity: 0.80\"> </span><span style=\"background-color: hsl(120, 100.00%, 88.33%); opacity: 0.83\" title=\"0.158\">narration</span><span style=\"opacity: 0.80\">.  </span><span style=\"background-color: hsl(120, 100.00%, 96.28%); opacity: 0.81\" title=\"0.031\">the</span><span style=\"opacity: 0.80\"> </span><span style=\"background-color: hsl(0, 100.00%, 99.04%); opacity: 0.80\" title=\"-0.004\">allegation</span><span style=\"opacity: 0.80\"> </span><span style=\"background-color: hsl(120, 100.00%, 98.56%); opacity: 0.80\" title=\"0.008\">that</span><span style=\"opacity: 0.80\"> </span><span style=\"background-color: hsl(120, 100.00%, 96.28%); opacity: 0.81\" title=\"0.031\">the</span><span style=\"opacity: 0.80\"> </span><span style=\"background-color: hsl(0, 100.00%, 92.66%); opacity: 0.82\" title=\"-0.081\">filmmakers</span><span style=\"opacity: 0.80\"> </span><span style=\"background-color: hsl(0, 100.00%, 93.66%); opacity: 0.81\" title=\"-0.066\">used</span><span style=\"opacity: 0.80\"> </span><span style=\"background-color: hsl(0, 100.00%, 83.24%); opacity: 0.86\" title=\"-0.265\">footage</span><span style=\"opacity: 0.80\"> </span><span style=\"background-color: hsl(0, 100.00%, 93.22%); opacity: 0.82\" title=\"-0.073\">of</span><span style=\"opacity: 0.80\"> </span><span style=\"background-color: hsl(0, 100.00%, 79.11%); opacity: 0.88\" title=\"-0.362\">locales</span><span style=\"opacity: 0.80\"> </span><span style=\"background-color: hsl(0, 100.00%, 85.43%); opacity: 0.85\" title=\"-0.217\">not</span><span style=\"opacity: 0.80\"> </span><span style=\"background-color: hsl(120, 100.00%, 93.96%); opacity: 0.81\" title=\"0.062\">part</span><span style=\"opacity: 0.80\"> </span><span style=\"background-color: hsl(0, 100.00%, 93.22%); opacity: 0.82\" title=\"-0.073\">of</span><span style=\"opacity: 0.80\"> </span><span style=\"background-color: hsl(120, 100.00%, 96.28%); opacity: 0.81\" title=\"0.031\">the</span><span style=\"opacity: 0.80\"> </span><span style=\"background-color: hsl(120, 100.00%, 95.93%); opacity: 0.81\" title=\"0.035\">movie</span><span style=\"opacity: 0.80\"> (</span><span style=\"background-color: hsl(0, 100.00%, 99.60%); opacity: 0.80\" title=\"-0.001\">favelas</span><span style=\"opacity: 0.80\"> </span><span style=\"background-color: hsl(0, 100.00%, 97.01%); opacity: 0.80\" title=\"-0.023\">next</span><span style=\"opacity: 0.80\"> </span><span style=\"background-color: hsl(120, 100.00%, 97.81%); opacity: 0.80\" title=\"0.014\">to</span><span style=\"opacity: 0.80\"> </span><span style=\"background-color: hsl(120, 100.00%, 67.42%); opacity: 0.95\" title=\"0.684\">beautiful</span><span style=\"opacity: 0.80\"> </span><span style=\"background-color: hsl(0, 100.00%, 92.22%); opacity: 0.82\" title=\"-0.088\">beaches</span><span style=\"opacity: 0.80\">) </span><span style=\"background-color: hsl(0, 100.00%, 87.58%); opacity: 0.84\" title=\"-0.172\">does</span><span style=\"opacity: 0.80\"> </span><span style=\"background-color: hsl(0, 100.00%, 85.43%); opacity: 0.85\" title=\"-0.217\">not</span><span style=\"opacity: 0.80\"> </span><span style=\"background-color: hsl(120, 100.00%, 71.64%); opacity: 0.92\" title=\"0.561\">detract</span><span style=\"opacity: 0.80\"> </span><span style=\"background-color: hsl(0, 100.00%, 97.97%); opacity: 0.80\" title=\"-0.013\">from</span><span style=\"opacity: 0.80\"> </span><span style=\"background-color: hsl(120, 100.00%, 96.28%); opacity: 0.81\" title=\"0.031\">the</span><span style=\"opacity: 0.80\"> </span><span style=\"background-color: hsl(0, 100.00%, 76.66%); opacity: 0.89\" title=\"-0.425\">value</span><span style=\"opacity: 0.80\"> </span><span style=\"background-color: hsl(0, 100.00%, 93.22%); opacity: 0.82\" title=\"-0.073\">of</span><span style=\"opacity: 0.80\"> </span><span style=\"background-color: hsl(120, 100.00%, 96.28%); opacity: 0.81\" title=\"0.031\">the</span><span style=\"opacity: 0.80\"> </span><span style=\"background-color: hsl(120, 100.00%, 91.39%); opacity: 0.82\" title=\"0.102\">film</span><span style=\"opacity: 0.80\"> </span><span style=\"background-color: hsl(120, 100.00%, 94.78%); opacity: 0.81\" title=\"0.050\">as</span><span style=\"opacity: 0.80\"> a </span><span style=\"background-color: hsl(120, 100.00%, 85.23%); opacity: 0.85\" title=\"0.221\">dramatic</span><span style=\"opacity: 0.80\"> </span><span style=\"background-color: hsl(0, 100.00%, 92.91%); opacity: 0.82\" title=\"-0.077\">piece</span><span style=\"opacity: 0.80\"> </span><span style=\"background-color: hsl(120, 100.00%, 91.38%); opacity: 0.82\" title=\"0.102\">and</span><span style=\"opacity: 0.80\"> </span><span style=\"background-color: hsl(120, 100.00%, 96.28%); opacity: 0.81\" title=\"0.031\">the</span><span style=\"opacity: 0.80\"> </span><span style=\"background-color: hsl(0, 100.00%, 98.82%); opacity: 0.80\" title=\"-0.006\">particular</span><span style=\"opacity: 0.80\"> </span><span style=\"background-color: hsl(0, 100.00%, 84.75%); opacity: 0.85\" title=\"-0.231\">image</span><span style=\"opacity: 0.80\"> </span><span style=\"background-color: hsl(120, 100.00%, 93.31%); opacity: 0.82\" title=\"0.071\">is</span><span style=\"opacity: 0.80\"> </span><span style=\"background-color: hsl(0, 100.00%, 91.69%); opacity: 0.82\" title=\"-0.097\">one</span><span style=\"opacity: 0.80\"> </span><span style=\"background-color: hsl(120, 100.00%, 98.56%); opacity: 0.80\" title=\"0.008\">that</span><span style=\"opacity: 0.80\"> </span><span style=\"background-color: hsl(120, 100.00%, 84.25%); opacity: 0.85\" title=\"0.242\">resonates</span><span style=\"opacity: 0.80\"> </span><span style=\"background-color: hsl(0, 100.00%, 87.41%); opacity: 0.84\" title=\"-0.176\">enough</span><span style=\"opacity: 0.80\"> </span><span style=\"background-color: hsl(120, 100.00%, 97.81%); opacity: 0.80\" title=\"0.014\">to</span><span style=\"opacity: 0.80\"> </span><span style=\"background-color: hsl(120, 100.00%, 81.07%); opacity: 0.87\" title=\"0.315\">justify</span><span style=\"opacity: 0.80\"> </span><span style=\"background-color: hsl(120, 100.00%, 93.65%); opacity: 0.81\" title=\"0.066\">its</span><span style=\"opacity: 0.80\"> </span><span style=\"background-color: hsl(0, 100.00%, 85.43%); opacity: 0.85\" title=\"-0.217\">not</span><span style=\"opacity: 0.80\">-</span><span style=\"background-color: hsl(120, 100.00%, 87.37%); opacity: 0.84\" title=\"0.177\">quite</span><span style=\"opacity: 0.80\">-</span><span style=\"background-color: hsl(120, 100.00%, 94.87%); opacity: 0.81\" title=\"0.049\">truthful</span><span style=\"opacity: 0.80\"> </span><span style=\"background-color: hsl(120, 100.00%, 92.13%); opacity: 0.82\" title=\"0.090\">inclusion</span><span style=\"opacity: 0.80\">. </span><span style=\"background-color: hsl(0, 100.00%, 97.04%); opacity: 0.80\" title=\"-0.022\">at</span><span style=\"opacity: 0.80\"> </span><span style=\"background-color: hsl(0, 100.00%, 89.33%); opacity: 0.83\" title=\"-0.139\">any</span><span style=\"opacity: 0.80\"> </span><span style=\"background-color: hsl(120, 100.00%, 85.53%); opacity: 0.85\" title=\"0.214\">rate</span><span style=\"opacity: 0.80\">, </span><span style=\"background-color: hsl(120, 100.00%, 83.03%); opacity: 0.86\" title=\"0.269\">you</span><span style=\"opacity: 0.80\"> </span><span style=\"background-color: hsl(0, 100.00%, 87.06%); opacity: 0.84\" title=\"-0.183\">use</span><span style=\"opacity: 0.80\"> </span><span style=\"background-color: hsl(120, 100.00%, 96.28%); opacity: 0.81\" title=\"0.031\">the</span><span style=\"opacity: 0.80\"> </span><span style=\"background-color: hsl(0, 100.00%, 83.24%); opacity: 0.86\" title=\"-0.265\">footage</span><span style=\"opacity: 0.80\"> </span><span style=\"background-color: hsl(120, 100.00%, 83.03%); opacity: 0.86\" title=\"0.269\">you</span><span style=\"opacity: 0.80\"> </span><span style=\"background-color: hsl(0, 100.00%, 96.51%); opacity: 0.81\" title=\"-0.028\">can</span><span style=\"opacity: 0.80\">. </span><span style=\"background-color: hsl(120, 100.00%, 93.98%); opacity: 0.81\" title=\"0.061\">so</span><span style=\"opacity: 0.80\"> </span><span style=\"background-color: hsl(0, 100.00%, 98.46%); opacity: 0.80\" title=\"-0.009\">they</span><span style=\"opacity: 0.80\"> </span><span style=\"background-color: hsl(0, 100.00%, 83.58%); opacity: 0.86\" title=\"-0.257\">didn</span><span style=\"opacity: 0.80\">&#x27;t </span><span style=\"background-color: hsl(120, 100.00%, 88.29%); opacity: 0.83\" title=\"0.159\">happen</span><span style=\"opacity: 0.80\"> </span><span style=\"background-color: hsl(120, 100.00%, 97.81%); opacity: 0.80\" title=\"0.014\">to</span><span style=\"opacity: 0.80\"> </span><span style=\"background-color: hsl(0, 100.00%, 95.13%); opacity: 0.81\" title=\"-0.045\">have</span><span style=\"opacity: 0.80\"> </span><span style=\"background-color: hsl(0, 100.00%, 98.55%); opacity: 0.80\" title=\"-0.008\">police</span><span style=\"opacity: 0.80\"> </span><span style=\"background-color: hsl(0, 100.00%, 82.35%); opacity: 0.86\" title=\"-0.285\">violence</span><span style=\"opacity: 0.80\"> </span><span style=\"background-color: hsl(0, 100.00%, 83.24%); opacity: 0.86\" title=\"-0.265\">footage</span><span style=\"opacity: 0.80\"> </span><span style=\"background-color: hsl(0, 100.00%, 91.01%); opacity: 0.82\" title=\"-0.109\">for</span><span style=\"opacity: 0.80\"> </span><span style=\"background-color: hsl(120, 100.00%, 98.56%); opacity: 0.80\" title=\"0.008\">that</span><span style=\"opacity: 0.80\"> </span><span style=\"background-color: hsl(0, 100.00%, 98.82%); opacity: 0.80\" title=\"-0.006\">particular</span><span style=\"opacity: 0.80\"> </span><span style=\"background-color: hsl(0, 100.00%, 80.21%); opacity: 0.87\" title=\"-0.336\">neighborhood</span><span style=\"opacity: 0.80\">. </span><span style=\"background-color: hsl(0, 100.00%, 87.58%); opacity: 0.84\" title=\"-0.172\">does</span><span style=\"opacity: 0.80\"> </span><span style=\"background-color: hsl(0, 100.00%, 94.45%); opacity: 0.81\" title=\"-0.055\">this</span><span style=\"opacity: 0.80\"> </span><span style=\"background-color: hsl(0, 100.00%, 83.35%); opacity: 0.86\" title=\"-0.262\">mean</span><span style=\"opacity: 0.80\"> </span><span style=\"background-color: hsl(0, 100.00%, 85.43%); opacity: 0.85\" title=\"-0.217\">not</span><span style=\"opacity: 0.80\"> </span><span style=\"background-color: hsl(120, 100.00%, 88.54%); opacity: 0.83\" title=\"0.154\">include</span><span style=\"opacity: 0.80\"> </span><span style=\"background-color: hsl(120, 100.00%, 87.73%); opacity: 0.84\" title=\"0.169\">it</span><span style=\"opacity: 0.80\"> </span><span style=\"background-color: hsl(120, 100.00%, 91.38%); opacity: 0.82\" title=\"0.102\">and</span><span style=\"opacity: 0.80\"> </span><span style=\"background-color: hsl(0, 100.00%, 81.43%); opacity: 0.87\" title=\"-0.306\">just</span><span style=\"opacity: 0.80\"> </span><span style=\"background-color: hsl(0, 100.00%, 80.85%); opacity: 0.87\" title=\"-0.320\">talk</span><span style=\"opacity: 0.80\"> </span><span style=\"background-color: hsl(0, 100.00%, 98.20%); opacity: 0.80\" title=\"-0.011\">about</span><span style=\"opacity: 0.80\"> </span><span style=\"background-color: hsl(120, 100.00%, 87.73%); opacity: 0.84\" title=\"0.169\">it</span><span style=\"opacity: 0.80\"> </span><span style=\"background-color: hsl(0, 100.00%, 95.64%); opacity: 0.81\" title=\"-0.039\">or</span><span style=\"opacity: 0.80\"> </span><span style=\"background-color: hsl(0, 100.00%, 84.50%); opacity: 0.85\" title=\"-0.237\">maybe</span><span style=\"opacity: 0.80\"> </span><span style=\"background-color: hsl(120, 100.00%, 84.72%); opacity: 0.85\" title=\"0.232\">put</span><span style=\"opacity: 0.80\"> </span><span style=\"background-color: hsl(120, 100.00%, 98.61%); opacity: 0.80\" title=\"0.008\">in</span><span style=\"opacity: 0.80\"> </span><span style=\"background-color: hsl(120, 100.00%, 91.55%); opacity: 0.82\" title=\"0.099\">some</span><span style=\"opacity: 0.80\"> </span><span style=\"background-color: hsl(0, 100.00%, 77.39%); opacity: 0.89\" title=\"-0.406\">cartoon</span><span style=\"opacity: 0.80\"> </span><span style=\"background-color: hsl(0, 100.00%, 89.68%); opacity: 0.83\" title=\"-0.132\">animation</span><span style=\"opacity: 0.80\"> </span><span style=\"background-color: hsl(120, 100.00%, 93.98%); opacity: 0.81\" title=\"0.061\">so</span><span style=\"opacity: 0.80\"> </span><span style=\"background-color: hsl(120, 100.00%, 96.28%); opacity: 0.81\" title=\"0.031\">the</span><span style=\"opacity: 0.80\"> </span><span style=\"background-color: hsl(0, 100.00%, 96.86%); opacity: 0.81\" title=\"-0.024\">audience</span><span style=\"opacity: 0.80\"> </span><span style=\"background-color: hsl(120, 100.00%, 94.79%); opacity: 0.81\" title=\"0.050\">isn</span><span style=\"opacity: 0.80\">&#x27;t &quot;</span><span style=\"background-color: hsl(0, 100.00%, 96.20%); opacity: 0.81\" title=\"-0.032\">duped</span><span style=\"opacity: 0.80\">&quot;? </span><span style=\"background-color: hsl(0, 100.00%, 95.37%); opacity: 0.81\" title=\"-0.042\">um</span><span style=\"opacity: 0.80\">, </span><span style=\"background-color: hsl(0, 100.00%, 83.08%); opacity: 0.86\" title=\"-0.268\">no</span><span style=\"opacity: 0.80\">.  </span><span style=\"background-color: hsl(120, 100.00%, 94.78%); opacity: 0.81\" title=\"0.050\">as</span><span style=\"opacity: 0.80\"> </span><span style=\"background-color: hsl(0, 100.00%, 91.01%); opacity: 0.82\" title=\"-0.109\">for</span><span style=\"opacity: 0.80\"> </span><span style=\"background-color: hsl(120, 100.00%, 96.28%); opacity: 0.81\" title=\"0.031\">the</span><span style=\"opacity: 0.80\"> </span><span style=\"background-color: hsl(0, 100.00%, 95.86%); opacity: 0.81\" title=\"-0.036\">hopeful</span><span style=\"opacity: 0.80\"> </span><span style=\"background-color: hsl(0, 100.00%, 91.03%); opacity: 0.82\" title=\"-0.108\">ending</span><span style=\"opacity: 0.80\">, </span><span style=\"background-color: hsl(0, 100.00%, 84.31%); opacity: 0.85\" title=\"-0.241\">why</span><span style=\"opacity: 0.80\"> </span><span style=\"background-color: hsl(0, 100.00%, 85.43%); opacity: 0.85\" title=\"-0.217\">not</span><span style=\"opacity: 0.80\">? </span><span style=\"background-color: hsl(120, 100.00%, 81.12%); opacity: 0.87\" title=\"0.314\">yes</span><span style=\"opacity: 0.80\">, </span><span style=\"background-color: hsl(120, 100.00%, 90.18%); opacity: 0.83\" title=\"0.123\">americans</span><span style=\"opacity: 0.80\"> </span><span style=\"background-color: hsl(120, 100.00%, 92.81%); opacity: 0.82\" title=\"0.079\">made</span><span style=\"opacity: 0.80\"> </span><span style=\"background-color: hsl(120, 100.00%, 87.73%); opacity: 0.84\" title=\"0.169\">it</span><span style=\"opacity: 0.80\">. </span><span style=\"background-color: hsl(120, 100.00%, 81.12%); opacity: 0.87\" title=\"0.314\">yes</span><span style=\"opacity: 0.80\">, </span><span style=\"background-color: hsl(120, 100.00%, 90.18%); opacity: 0.83\" title=\"0.123\">americans</span><span style=\"opacity: 0.80\"> </span><span style=\"background-color: hsl(0, 100.00%, 91.68%); opacity: 0.82\" title=\"-0.097\">are</span><span style=\"opacity: 0.80\"> </span><span style=\"background-color: hsl(120, 100.00%, 87.36%); opacity: 0.84\" title=\"0.177\">optimistic</span><span style=\"opacity: 0.80\"> </span><span style=\"background-color: hsl(0, 100.00%, 93.21%); opacity: 0.82\" title=\"-0.073\">bastards</span><span style=\"opacity: 0.80\">. </span><span style=\"background-color: hsl(0, 100.00%, 90.79%); opacity: 0.82\" title=\"-0.113\">but</span><span style=\"opacity: 0.80\"> </span><span style=\"background-color: hsl(0, 100.00%, 84.31%); opacity: 0.85\" title=\"-0.241\">why</span><span style=\"opacity: 0.80\"> </span><span style=\"background-color: hsl(120, 100.00%, 96.64%); opacity: 0.81\" title=\"0.027\">end</span><span style=\"opacity: 0.80\"> </span><span style=\"background-color: hsl(0, 100.00%, 96.71%); opacity: 0.81\" title=\"-0.026\">on</span><span style=\"opacity: 0.80\"> a </span><span style=\"background-color: hsl(0, 100.00%, 87.14%); opacity: 0.84\" title=\"-0.181\">down</span><span style=\"opacity: 0.80\"> </span><span style=\"background-color: hsl(0, 100.00%, 77.93%); opacity: 0.89\" title=\"-0.392\">note</span><span style=\"opacity: 0.80\">? </span><span style=\"background-color: hsl(0, 100.00%, 81.43%); opacity: 0.87\" title=\"-0.306\">just</span><span style=\"opacity: 0.80\"> </span><span style=\"background-color: hsl(120, 100.00%, 98.87%); opacity: 0.80\" title=\"0.006\">because</span><span style=\"opacity: 0.80\"> </span><span style=\"background-color: hsl(120, 100.00%, 87.73%); opacity: 0.84\" title=\"0.169\">it</span><span style=\"opacity: 0.80\">&#x27;s </span><span style=\"background-color: hsl(0, 100.00%, 81.24%); opacity: 0.87\" title=\"-0.311\">set</span><span style=\"opacity: 0.80\"> </span><span style=\"background-color: hsl(120, 100.00%, 98.61%); opacity: 0.80\" title=\"0.008\">in</span><span style=\"opacity: 0.80\"> a </span><span style=\"background-color: hsl(0, 100.00%, 86.42%); opacity: 0.84\" title=\"-0.196\">foreign</span><span style=\"opacity: 0.80\"> </span><span style=\"background-color: hsl(120, 100.00%, 93.02%); opacity: 0.82\" title=\"0.076\">country</span><span style=\"opacity: 0.80\"> </span><span style=\"background-color: hsl(120, 100.00%, 91.38%); opacity: 0.82\" title=\"0.102\">and</span><span style=\"opacity: 0.80\"> </span><span style=\"background-color: hsl(0, 100.00%, 86.42%); opacity: 0.84\" title=\"-0.196\">foreign</span><span style=\"opacity: 0.80\"> </span><span style=\"background-color: hsl(0, 100.00%, 87.05%); opacity: 0.84\" title=\"-0.183\">films</span><span style=\"opacity: 0.80\"> </span><span style=\"background-color: hsl(0, 100.00%, 92.87%); opacity: 0.82\" title=\"-0.078\">by</span><span style=\"opacity: 0.80\"> </span><span style=\"background-color: hsl(120, 100.00%, 91.38%); opacity: 0.82\" title=\"0.102\">and</span><span style=\"opacity: 0.80\"> </span><span style=\"background-color: hsl(0, 100.00%, 87.12%); opacity: 0.84\" title=\"-0.182\">large</span><span style=\"opacity: 0.80\"> </span><span style=\"background-color: hsl(120, 100.00%, 96.64%); opacity: 0.81\" title=\"0.027\">end</span><span style=\"opacity: 0.80\"> </span><span style=\"background-color: hsl(0, 100.00%, 96.71%); opacity: 0.81\" title=\"-0.026\">on</span><span style=\"opacity: 0.80\"> a </span><span style=\"background-color: hsl(0, 100.00%, 87.14%); opacity: 0.84\" title=\"-0.181\">down</span><span style=\"opacity: 0.80\"> </span><span style=\"background-color: hsl(0, 100.00%, 77.93%); opacity: 0.89\" title=\"-0.392\">note</span><span style=\"opacity: 0.80\">? </span><span style=\"background-color: hsl(0, 100.00%, 77.41%); opacity: 0.89\" title=\"-0.405\">let</span><span style=\"opacity: 0.80\"> </span><span style=\"background-color: hsl(0, 100.00%, 90.97%); opacity: 0.82\" title=\"-0.109\">foreigners</span><span style=\"opacity: 0.80\"> </span><span style=\"background-color: hsl(0, 100.00%, 86.36%); opacity: 0.84\" title=\"-0.197\">portray</span><span style=\"opacity: 0.80\"> </span><span style=\"background-color: hsl(120, 100.00%, 96.28%); opacity: 0.81\" title=\"0.031\">the</span><span style=\"opacity: 0.80\"> </span><span style=\"background-color: hsl(120, 100.00%, 87.76%); opacity: 0.84\" title=\"0.169\">dismal</span><span style=\"opacity: 0.80\"> </span><span style=\"background-color: hsl(120, 100.00%, 87.19%); opacity: 0.84\" title=\"0.180\">outlook</span><span style=\"opacity: 0.80\"> </span><span style=\"background-color: hsl(0, 100.00%, 93.22%); opacity: 0.82\" title=\"-0.073\">of</span><span style=\"opacity: 0.80\"> </span><span style=\"background-color: hsl(120, 100.00%, 87.58%); opacity: 0.84\" title=\"0.172\">life</span><span style=\"opacity: 0.80\">.  </span><span style=\"background-color: hsl(0, 100.00%, 77.41%); opacity: 0.89\" title=\"-0.405\">let</span><span style=\"opacity: 0.80\"> </span><span style=\"background-color: hsl(120, 100.00%, 85.89%); opacity: 0.85\" title=\"0.207\">us</span><span style=\"opacity: 0.80\"> </span><span style=\"background-color: hsl(120, 100.00%, 90.18%); opacity: 0.83\" title=\"0.123\">americans</span><span style=\"opacity: 0.80\"> </span><span style=\"background-color: hsl(120, 100.00%, 90.45%); opacity: 0.83\" title=\"0.119\">think</span><span style=\"opacity: 0.80\"> </span><span style=\"background-color: hsl(0, 100.00%, 92.04%); opacity: 0.82\" title=\"-0.091\">there</span><span style=\"opacity: 0.80\"> </span><span style=\"background-color: hsl(120, 100.00%, 86.81%); opacity: 0.84\" title=\"0.188\">may</span><span style=\"opacity: 0.80\"> </span><span style=\"background-color: hsl(0, 100.00%, 91.87%); opacity: 0.82\" title=\"-0.094\">be</span><span style=\"opacity: 0.80\"> a </span><span style=\"background-color: hsl(120, 100.00%, 79.35%); opacity: 0.88\" title=\"0.357\">happy</span><span style=\"opacity: 0.80\"> </span><span style=\"background-color: hsl(0, 100.00%, 91.03%); opacity: 0.82\" title=\"-0.108\">ending</span><span style=\"opacity: 0.80\"> </span><span style=\"background-color: hsl(120, 100.00%, 91.60%); opacity: 0.82\" title=\"0.099\">looming</span><span style=\"opacity: 0.80\"> </span><span style=\"background-color: hsl(120, 100.00%, 98.61%); opacity: 0.80\" title=\"0.008\">in</span><span style=\"opacity: 0.80\"> </span><span style=\"background-color: hsl(120, 100.00%, 96.28%); opacity: 0.81\" title=\"0.031\">the</span><span style=\"opacity: 0.80\"> </span><span style=\"background-color: hsl(120, 100.00%, 83.03%); opacity: 0.86\" title=\"0.269\">future</span><span style=\"opacity: 0.80\">. </span><span style=\"background-color: hsl(0, 100.00%, 92.04%); opacity: 0.82\" title=\"-0.091\">there</span><span style=\"opacity: 0.80\"> </span><span style=\"background-color: hsl(0, 100.00%, 81.43%); opacity: 0.87\" title=\"-0.306\">just</span><span style=\"opacity: 0.80\"> </span><span style=\"background-color: hsl(120, 100.00%, 86.81%); opacity: 0.84\" title=\"0.188\">may</span><span style=\"opacity: 0.80\"> </span><span style=\"background-color: hsl(0, 100.00%, 91.87%); opacity: 0.82\" title=\"-0.094\">be</span><span style=\"opacity: 0.80\"> </span><span style=\"background-color: hsl(0, 100.00%, 91.69%); opacity: 0.82\" title=\"-0.097\">one</span><span style=\"opacity: 0.80\">.</span>\n",
              "    </p>\n",
              "\n",
              "\n",
              "    \n",
              "\n",
              "    \n",
              "\n",
              "    \n",
              "\n",
              "    \n",
              "\n",
              "\n",
              "    \n",
              "\n",
              "    \n",
              "\n",
              "    \n",
              "\n",
              "    \n",
              "\n",
              "    \n",
              "\n",
              "    \n",
              "\n",
              "\n",
              "    \n",
              "\n",
              "    \n",
              "\n",
              "    \n",
              "\n",
              "    \n",
              "\n",
              "    \n",
              "\n",
              "    \n",
              "\n",
              "\n",
              "\n"
            ]
          },
          "metadata": {},
          "execution_count": 360
        }
      ]
    },
    {
      "cell_type": "markdown",
      "metadata": {
        "id": "ZbFXKNrngP46"
      },
      "source": [
        "## Придумываем новые признаки"
      ]
    },
    {
      "cell_type": "markdown",
      "metadata": {
        "id": "dz7GSFzIlv4V"
      },
      "source": [
        "### Tf-idf\n",
        "\n",
        "Сейчас мы на все слова смотрим с одинаковым весом - хотя какие-то из них более редкие, какие-то более частые, и эта частотность - полезная, вообще говоря, информация.\n",
        "\n",
        "Самый простой способ добавить статистическую информацию о частотностях - сделать *tf-idf* взвешивание:\n",
        "\n",
        "$$\\text{tf-idf}(t, d) = \\text{tf}(t, d) \\times \\text{idf}(t)$$\n",
        "\n",
        "*tf* - term-frequency - частотность слова `t` в конкретном документе `d` (рецензии в нашем случае). Это ровно то, что мы уже считали.\n",
        "\n",
        "*idf* - inverse document-frequency - коэффициент, который тем больше, чем в меньшем числе документов встречалось данное слово. Считается как-нибудь так:\n",
        "$$\\text{idf}(t) = \\text{log}\\frac{1 + n_d}{1 + n_{d(t)}} + 1$$\n",
        "где $n_d$ - число всех документов, а $n_{d(t)}$ - число документов со словом `t`.\n",
        "\n",
        "Использовать его просто - нужно заменить `CountVectorizer` на `TfidfVectorizer`.\n",
        "\n",
        "**Задание** Попробуйте запустить `TfidfVectorizer`. Посмотрите на ошибки, которые он научился исправлять, и на ошибки, которые он начал делать - по сравнению с `CountVectorizer`."
      ]
    },
    {
      "cell_type": "code",
      "metadata": {
        "id": "p3DjjiJglvT3",
        "colab": {
          "base_uri": "https://localhost:8080/"
        },
        "outputId": "e8d07d18-b8a9-4200-8d73-321129dbb42f"
      },
      "source": [
        "from sklearn.feature_extraction.text import TfidfVectorizer\n",
        "\n",
        "vectorizer_tfidf = TfidfVectorizer()\n",
        "classifier_tfidf = LogisticRegression()\n",
        "\n",
        "model_tfidf = Pipeline([\n",
        "    ('vectorizer', vectorizer_tfidf),\n",
        "    ('classifier', classifier_tfidf)\n",
        "])\n",
        "\n",
        "model_tfidf.fit(train_df['review'], train_df['is_positive'])\n",
        "\n",
        "eval_model(model_tfidf, test_df)"
      ],
      "execution_count": null,
      "outputs": [
        {
          "output_type": "stream",
          "name": "stdout",
          "text": [
            "Test accuracy = 88.28%\n"
          ]
        }
      ]
    },
    {
      "cell_type": "code",
      "source": [
        "import eli5\n",
        "eli5.show_weights(classifier_tfidf, vec=vectorizer_tfidf, top=40)"
      ],
      "metadata": {
        "colab": {
          "base_uri": "https://localhost:8080/",
          "height": 875
        },
        "id": "yzfA1FfmToIy",
        "outputId": "87ae1837-8a8d-4da2-cd50-8001f430a2ce"
      },
      "execution_count": null,
      "outputs": [
        {
          "output_type": "stream",
          "name": "stderr",
          "text": [
            "/usr/local/lib/python3.7/dist-packages/sklearn/utils/deprecation.py:87: FutureWarning: Function get_feature_names is deprecated; get_feature_names is deprecated in 1.0 and will be removed in 1.2. Please use get_feature_names_out instead.\n",
            "  warnings.warn(msg, category=FutureWarning)\n"
          ]
        },
        {
          "output_type": "execute_result",
          "data": {
            "text/plain": [
              "<IPython.core.display.HTML object>"
            ],
            "text/html": [
              "\n",
              "    <style>\n",
              "    table.eli5-weights tr:hover {\n",
              "        filter: brightness(85%);\n",
              "    }\n",
              "</style>\n",
              "\n",
              "\n",
              "\n",
              "    \n",
              "\n",
              "    \n",
              "\n",
              "    \n",
              "\n",
              "    \n",
              "\n",
              "    \n",
              "\n",
              "    \n",
              "\n",
              "\n",
              "    \n",
              "\n",
              "    \n",
              "\n",
              "    \n",
              "\n",
              "    \n",
              "        \n",
              "\n",
              "    \n",
              "\n",
              "        \n",
              "            \n",
              "                \n",
              "                \n",
              "    \n",
              "        <p style=\"margin-bottom: 0.5em; margin-top: 0em\">\n",
              "            <b>\n",
              "    \n",
              "        y=1\n",
              "    \n",
              "</b>\n",
              "\n",
              "top features\n",
              "        </p>\n",
              "    \n",
              "    <table class=\"eli5-weights\"\n",
              "           style=\"border-collapse: collapse; border: none; margin-top: 0em; table-layout: auto; margin-bottom: 2em;\">\n",
              "        <thead>\n",
              "        <tr style=\"border: none;\">\n",
              "            \n",
              "                <th style=\"padding: 0 1em 0 0.5em; text-align: right; border: none;\" title=\"Feature weights. Note that weights do not account for feature value scales, so if feature values have different scales, features with highest weights might not be the most important.\">\n",
              "                    Weight<sup>?</sup>\n",
              "                </th>\n",
              "            \n",
              "            <th style=\"padding: 0 0.5em 0 0.5em; text-align: left; border: none;\">Feature</th>\n",
              "            \n",
              "        </tr>\n",
              "        </thead>\n",
              "        <tbody>\n",
              "        \n",
              "            <tr style=\"background-color: hsl(120, 100.00%, 82.61%); border: none;\">\n",
              "    <td style=\"padding: 0 1em 0 0.5em; text-align: right; border: none;\">\n",
              "        +7.553\n",
              "    </td>\n",
              "    <td style=\"padding: 0 0.5em 0 0.5em; text-align: left; border: none;\">\n",
              "        great\n",
              "    </td>\n",
              "    \n",
              "</tr>\n",
              "        \n",
              "            <tr style=\"background-color: hsl(120, 100.00%, 84.93%); border: none;\">\n",
              "    <td style=\"padding: 0 1em 0 0.5em; text-align: right; border: none;\">\n",
              "        +6.153\n",
              "    </td>\n",
              "    <td style=\"padding: 0 0.5em 0 0.5em; text-align: left; border: none;\">\n",
              "        excellent\n",
              "    </td>\n",
              "    \n",
              "</tr>\n",
              "        \n",
              "            <tr style=\"background-color: hsl(120, 100.00%, 86.75%); border: none;\">\n",
              "    <td style=\"padding: 0 1em 0 0.5em; text-align: right; border: none;\">\n",
              "        +5.121\n",
              "    </td>\n",
              "    <td style=\"padding: 0 0.5em 0 0.5em; text-align: left; border: none;\">\n",
              "        best\n",
              "    </td>\n",
              "    \n",
              "</tr>\n",
              "        \n",
              "            <tr style=\"background-color: hsl(120, 100.00%, 87.31%); border: none;\">\n",
              "    <td style=\"padding: 0 1em 0 0.5em; text-align: right; border: none;\">\n",
              "        +4.814\n",
              "    </td>\n",
              "    <td style=\"padding: 0 0.5em 0 0.5em; text-align: left; border: none;\">\n",
              "        perfect\n",
              "    </td>\n",
              "    \n",
              "</tr>\n",
              "        \n",
              "            <tr style=\"background-color: hsl(120, 100.00%, 87.61%); border: none;\">\n",
              "    <td style=\"padding: 0 1em 0 0.5em; text-align: right; border: none;\">\n",
              "        +4.653\n",
              "    </td>\n",
              "    <td style=\"padding: 0 0.5em 0 0.5em; text-align: left; border: none;\">\n",
              "        wonderful\n",
              "    </td>\n",
              "    \n",
              "</tr>\n",
              "        \n",
              "            <tr style=\"background-color: hsl(120, 100.00%, 88.60%); border: none;\">\n",
              "    <td style=\"padding: 0 1em 0 0.5em; text-align: right; border: none;\">\n",
              "        +4.132\n",
              "    </td>\n",
              "    <td style=\"padding: 0 0.5em 0 0.5em; text-align: left; border: none;\">\n",
              "        amazing\n",
              "    </td>\n",
              "    \n",
              "</tr>\n",
              "        \n",
              "            <tr style=\"background-color: hsl(120, 100.00%, 88.85%); border: none;\">\n",
              "    <td style=\"padding: 0 1em 0 0.5em; text-align: right; border: none;\">\n",
              "        +4.000\n",
              "    </td>\n",
              "    <td style=\"padding: 0 0.5em 0 0.5em; text-align: left; border: none;\">\n",
              "        well\n",
              "    </td>\n",
              "    \n",
              "</tr>\n",
              "        \n",
              "            <tr style=\"background-color: hsl(120, 100.00%, 89.17%); border: none;\">\n",
              "    <td style=\"padding: 0 1em 0 0.5em; text-align: right; border: none;\">\n",
              "        +3.837\n",
              "    </td>\n",
              "    <td style=\"padding: 0 0.5em 0 0.5em; text-align: left; border: none;\">\n",
              "        loved\n",
              "    </td>\n",
              "    \n",
              "</tr>\n",
              "        \n",
              "            <tr style=\"background-color: hsl(120, 100.00%, 89.30%); border: none;\">\n",
              "    <td style=\"padding: 0 1em 0 0.5em; text-align: right; border: none;\">\n",
              "        +3.772\n",
              "    </td>\n",
              "    <td style=\"padding: 0 0.5em 0 0.5em; text-align: left; border: none;\">\n",
              "        favorite\n",
              "    </td>\n",
              "    \n",
              "</tr>\n",
              "        \n",
              "            <tr style=\"background-color: hsl(120, 100.00%, 89.31%); border: none;\">\n",
              "    <td style=\"padding: 0 1em 0 0.5em; text-align: right; border: none;\">\n",
              "        +3.769\n",
              "    </td>\n",
              "    <td style=\"padding: 0 0.5em 0 0.5em; text-align: left; border: none;\">\n",
              "        fun\n",
              "    </td>\n",
              "    \n",
              "</tr>\n",
              "        \n",
              "            <tr style=\"background-color: hsl(120, 100.00%, 89.33%); border: none;\">\n",
              "    <td style=\"padding: 0 1em 0 0.5em; text-align: right; border: none;\">\n",
              "        +3.757\n",
              "    </td>\n",
              "    <td style=\"padding: 0 0.5em 0 0.5em; text-align: left; border: none;\">\n",
              "        love\n",
              "    </td>\n",
              "    \n",
              "</tr>\n",
              "        \n",
              "            <tr style=\"background-color: hsl(120, 100.00%, 89.34%); border: none;\">\n",
              "    <td style=\"padding: 0 1em 0 0.5em; text-align: right; border: none;\">\n",
              "        +3.753\n",
              "    </td>\n",
              "    <td style=\"padding: 0 0.5em 0 0.5em; text-align: left; border: none;\">\n",
              "        today\n",
              "    </td>\n",
              "    \n",
              "</tr>\n",
              "        \n",
              "            <tr style=\"background-color: hsl(120, 100.00%, 89.84%); border: none;\">\n",
              "    <td style=\"padding: 0 1em 0 0.5em; text-align: right; border: none;\">\n",
              "        +3.506\n",
              "    </td>\n",
              "    <td style=\"padding: 0 0.5em 0 0.5em; text-align: left; border: none;\">\n",
              "        enjoyed\n",
              "    </td>\n",
              "    \n",
              "</tr>\n",
              "        \n",
              "        \n",
              "            <tr style=\"background-color: hsl(120, 100.00%, 89.84%); border: none;\">\n",
              "                <td colspan=\"2\" style=\"padding: 0 0.5em 0 0.5em; text-align: center; border: none; white-space: nowrap;\">\n",
              "                    <i>&hellip; 37454 more positive &hellip;</i>\n",
              "                </td>\n",
              "            </tr>\n",
              "        \n",
              "\n",
              "        \n",
              "            <tr style=\"background-color: hsl(0, 100.00%, 90.03%); border: none;\">\n",
              "                <td colspan=\"2\" style=\"padding: 0 0.5em 0 0.5em; text-align: center; border: none; white-space: nowrap;\">\n",
              "                    <i>&hellip; 37356 more negative &hellip;</i>\n",
              "                </td>\n",
              "            </tr>\n",
              "        \n",
              "        \n",
              "            <tr style=\"background-color: hsl(0, 100.00%, 90.03%); border: none;\">\n",
              "    <td style=\"padding: 0 1em 0 0.5em; text-align: right; border: none;\">\n",
              "        -3.413\n",
              "    </td>\n",
              "    <td style=\"padding: 0 0.5em 0 0.5em; text-align: left; border: none;\">\n",
              "        supposed\n",
              "    </td>\n",
              "    \n",
              "</tr>\n",
              "        \n",
              "            <tr style=\"background-color: hsl(0, 100.00%, 89.98%); border: none;\">\n",
              "    <td style=\"padding: 0 1em 0 0.5em; text-align: right; border: none;\">\n",
              "        -3.433\n",
              "    </td>\n",
              "    <td style=\"padding: 0 0.5em 0 0.5em; text-align: left; border: none;\">\n",
              "        lame\n",
              "    </td>\n",
              "    \n",
              "</tr>\n",
              "        \n",
              "            <tr style=\"background-color: hsl(0, 100.00%, 89.92%); border: none;\">\n",
              "    <td style=\"padding: 0 1em 0 0.5em; text-align: right; border: none;\">\n",
              "        -3.462\n",
              "    </td>\n",
              "    <td style=\"padding: 0 0.5em 0 0.5em; text-align: left; border: none;\">\n",
              "        disappointing\n",
              "    </td>\n",
              "    \n",
              "</tr>\n",
              "        \n",
              "            <tr style=\"background-color: hsl(0, 100.00%, 89.85%); border: none;\">\n",
              "    <td style=\"padding: 0 1em 0 0.5em; text-align: right; border: none;\">\n",
              "        -3.497\n",
              "    </td>\n",
              "    <td style=\"padding: 0 0.5em 0 0.5em; text-align: left; border: none;\">\n",
              "        disappointment\n",
              "    </td>\n",
              "    \n",
              "</tr>\n",
              "        \n",
              "            <tr style=\"background-color: hsl(0, 100.00%, 89.85%); border: none;\">\n",
              "    <td style=\"padding: 0 1em 0 0.5em; text-align: right; border: none;\">\n",
              "        -3.499\n",
              "    </td>\n",
              "    <td style=\"padding: 0 0.5em 0 0.5em; text-align: left; border: none;\">\n",
              "        even\n",
              "    </td>\n",
              "    \n",
              "</tr>\n",
              "        \n",
              "            <tr style=\"background-color: hsl(0, 100.00%, 89.85%); border: none;\">\n",
              "    <td style=\"padding: 0 1em 0 0.5em; text-align: right; border: none;\">\n",
              "        -3.501\n",
              "    </td>\n",
              "    <td style=\"padding: 0 0.5em 0 0.5em; text-align: left; border: none;\">\n",
              "        mess\n",
              "    </td>\n",
              "    \n",
              "</tr>\n",
              "        \n",
              "            <tr style=\"background-color: hsl(0, 100.00%, 89.83%); border: none;\">\n",
              "    <td style=\"padding: 0 1em 0 0.5em; text-align: right; border: none;\">\n",
              "        -3.510\n",
              "    </td>\n",
              "    <td style=\"padding: 0 0.5em 0 0.5em; text-align: left; border: none;\">\n",
              "        instead\n",
              "    </td>\n",
              "    \n",
              "</tr>\n",
              "        \n",
              "            <tr style=\"background-color: hsl(0, 100.00%, 89.79%); border: none;\">\n",
              "    <td style=\"padding: 0 1em 0 0.5em; text-align: right; border: none;\">\n",
              "        -3.529\n",
              "    </td>\n",
              "    <td style=\"padding: 0 0.5em 0 0.5em; text-align: left; border: none;\">\n",
              "        fails\n",
              "    </td>\n",
              "    \n",
              "</tr>\n",
              "        \n",
              "            <tr style=\"background-color: hsl(0, 100.00%, 89.66%); border: none;\">\n",
              "    <td style=\"padding: 0 1em 0 0.5em; text-align: right; border: none;\">\n",
              "        -3.593\n",
              "    </td>\n",
              "    <td style=\"padding: 0 0.5em 0 0.5em; text-align: left; border: none;\">\n",
              "        minutes\n",
              "    </td>\n",
              "    \n",
              "</tr>\n",
              "        \n",
              "            <tr style=\"background-color: hsl(0, 100.00%, 89.53%); border: none;\">\n",
              "    <td style=\"padding: 0 1em 0 0.5em; text-align: right; border: none;\">\n",
              "        -3.660\n",
              "    </td>\n",
              "    <td style=\"padding: 0 0.5em 0 0.5em; text-align: left; border: none;\">\n",
              "        ridiculous\n",
              "    </td>\n",
              "    \n",
              "</tr>\n",
              "        \n",
              "            <tr style=\"background-color: hsl(0, 100.00%, 89.22%); border: none;\">\n",
              "    <td style=\"padding: 0 1em 0 0.5em; text-align: right; border: none;\">\n",
              "        -3.814\n",
              "    </td>\n",
              "    <td style=\"padding: 0 0.5em 0 0.5em; text-align: left; border: none;\">\n",
              "        stupid\n",
              "    </td>\n",
              "    \n",
              "</tr>\n",
              "        \n",
              "            <tr style=\"background-color: hsl(0, 100.00%, 89.18%); border: none;\">\n",
              "    <td style=\"padding: 0 1em 0 0.5em; text-align: right; border: none;\">\n",
              "        -3.835\n",
              "    </td>\n",
              "    <td style=\"padding: 0 0.5em 0 0.5em; text-align: left; border: none;\">\n",
              "        annoying\n",
              "    </td>\n",
              "    \n",
              "</tr>\n",
              "        \n",
              "            <tr style=\"background-color: hsl(0, 100.00%, 89.10%); border: none;\">\n",
              "    <td style=\"padding: 0 1em 0 0.5em; text-align: right; border: none;\">\n",
              "        -3.873\n",
              "    </td>\n",
              "    <td style=\"padding: 0 0.5em 0 0.5em; text-align: left; border: none;\">\n",
              "        script\n",
              "    </td>\n",
              "    \n",
              "</tr>\n",
              "        \n",
              "            <tr style=\"background-color: hsl(0, 100.00%, 88.92%); border: none;\">\n",
              "    <td style=\"padding: 0 1em 0 0.5em; text-align: right; border: none;\">\n",
              "        -3.964\n",
              "    </td>\n",
              "    <td style=\"padding: 0 0.5em 0 0.5em; text-align: left; border: none;\">\n",
              "        unfortunately\n",
              "    </td>\n",
              "    \n",
              "</tr>\n",
              "        \n",
              "            <tr style=\"background-color: hsl(0, 100.00%, 88.54%); border: none;\">\n",
              "    <td style=\"padding: 0 1em 0 0.5em; text-align: right; border: none;\">\n",
              "        -4.161\n",
              "    </td>\n",
              "    <td style=\"padding: 0 0.5em 0 0.5em; text-align: left; border: none;\">\n",
              "        dull\n",
              "    </td>\n",
              "    \n",
              "</tr>\n",
              "        \n",
              "            <tr style=\"background-color: hsl(0, 100.00%, 88.53%); border: none;\">\n",
              "    <td style=\"padding: 0 1em 0 0.5em; text-align: right; border: none;\">\n",
              "        -4.168\n",
              "    </td>\n",
              "    <td style=\"padding: 0 0.5em 0 0.5em; text-align: left; border: none;\">\n",
              "        poorly\n",
              "    </td>\n",
              "    \n",
              "</tr>\n",
              "        \n",
              "            <tr style=\"background-color: hsl(0, 100.00%, 88.50%); border: none;\">\n",
              "    <td style=\"padding: 0 1em 0 0.5em; text-align: right; border: none;\">\n",
              "        -4.182\n",
              "    </td>\n",
              "    <td style=\"padding: 0 0.5em 0 0.5em; text-align: left; border: none;\">\n",
              "        horrible\n",
              "    </td>\n",
              "    \n",
              "</tr>\n",
              "        \n",
              "            <tr style=\"background-color: hsl(0, 100.00%, 88.06%); border: none;\">\n",
              "    <td style=\"padding: 0 1em 0 0.5em; text-align: right; border: none;\">\n",
              "        -4.414\n",
              "    </td>\n",
              "    <td style=\"padding: 0 0.5em 0 0.5em; text-align: left; border: none;\">\n",
              "        no\n",
              "    </td>\n",
              "    \n",
              "</tr>\n",
              "        \n",
              "            <tr style=\"background-color: hsl(0, 100.00%, 87.78%); border: none;\">\n",
              "    <td style=\"padding: 0 1em 0 0.5em; text-align: right; border: none;\">\n",
              "        -4.560\n",
              "    </td>\n",
              "    <td style=\"padding: 0 0.5em 0 0.5em; text-align: left; border: none;\">\n",
              "        worse\n",
              "    </td>\n",
              "    \n",
              "</tr>\n",
              "        \n",
              "            <tr style=\"background-color: hsl(0, 100.00%, 87.43%); border: none;\">\n",
              "    <td style=\"padding: 0 1em 0 0.5em; text-align: right; border: none;\">\n",
              "        -4.748\n",
              "    </td>\n",
              "    <td style=\"padding: 0 0.5em 0 0.5em; text-align: left; border: none;\">\n",
              "        nothing\n",
              "    </td>\n",
              "    \n",
              "</tr>\n",
              "        \n",
              "            <tr style=\"background-color: hsl(0, 100.00%, 87.27%); border: none;\">\n",
              "    <td style=\"padding: 0 1em 0 0.5em; text-align: right; border: none;\">\n",
              "        -4.834\n",
              "    </td>\n",
              "    <td style=\"padding: 0 0.5em 0 0.5em; text-align: left; border: none;\">\n",
              "        terrible\n",
              "    </td>\n",
              "    \n",
              "</tr>\n",
              "        \n",
              "            <tr style=\"background-color: hsl(0, 100.00%, 86.15%); border: none;\">\n",
              "    <td style=\"padding: 0 1em 0 0.5em; text-align: right; border: none;\">\n",
              "        -5.457\n",
              "    </td>\n",
              "    <td style=\"padding: 0 0.5em 0 0.5em; text-align: left; border: none;\">\n",
              "        poor\n",
              "    </td>\n",
              "    \n",
              "</tr>\n",
              "        \n",
              "            <tr style=\"background-color: hsl(0, 100.00%, 85.19%); border: none;\">\n",
              "    <td style=\"padding: 0 1em 0 0.5em; text-align: right; border: none;\">\n",
              "        -6.005\n",
              "    </td>\n",
              "    <td style=\"padding: 0 0.5em 0 0.5em; text-align: left; border: none;\">\n",
              "        boring\n",
              "    </td>\n",
              "    \n",
              "</tr>\n",
              "        \n",
              "            <tr style=\"background-color: hsl(0, 100.00%, 84.76%); border: none;\">\n",
              "    <td style=\"padding: 0 1em 0 0.5em; text-align: right; border: none;\">\n",
              "        -6.253\n",
              "    </td>\n",
              "    <td style=\"padding: 0 0.5em 0 0.5em; text-align: left; border: none;\">\n",
              "        waste\n",
              "    </td>\n",
              "    \n",
              "</tr>\n",
              "        \n",
              "            <tr style=\"background-color: hsl(0, 100.00%, 84.38%); border: none;\">\n",
              "    <td style=\"padding: 0 1em 0 0.5em; text-align: right; border: none;\">\n",
              "        -6.475\n",
              "    </td>\n",
              "    <td style=\"padding: 0 0.5em 0 0.5em; text-align: left; border: none;\">\n",
              "        awful\n",
              "    </td>\n",
              "    \n",
              "</tr>\n",
              "        \n",
              "            <tr style=\"background-color: hsl(0, 100.00%, 81.99%); border: none;\">\n",
              "    <td style=\"padding: 0 1em 0 0.5em; text-align: right; border: none;\">\n",
              "        -7.936\n",
              "    </td>\n",
              "    <td style=\"padding: 0 0.5em 0 0.5em; text-align: left; border: none;\">\n",
              "        bad\n",
              "    </td>\n",
              "    \n",
              "</tr>\n",
              "        \n",
              "            <tr style=\"background-color: hsl(0, 100.00%, 80.00%); border: none;\">\n",
              "    <td style=\"padding: 0 1em 0 0.5em; text-align: right; border: none;\">\n",
              "        -9.220\n",
              "    </td>\n",
              "    <td style=\"padding: 0 0.5em 0 0.5em; text-align: left; border: none;\">\n",
              "        worst\n",
              "    </td>\n",
              "    \n",
              "</tr>\n",
              "        \n",
              "\n",
              "        </tbody>\n",
              "    </table>\n",
              "\n",
              "            \n",
              "        \n",
              "\n",
              "        \n",
              "\n",
              "\n",
              "\n",
              "    \n",
              "\n",
              "    \n",
              "\n",
              "    \n",
              "\n",
              "    \n",
              "\n",
              "\n",
              "    \n",
              "\n",
              "    \n",
              "\n",
              "    \n",
              "\n",
              "    \n",
              "\n",
              "    \n",
              "\n",
              "    \n",
              "\n",
              "\n",
              "    \n",
              "\n",
              "    \n",
              "\n",
              "    \n",
              "\n",
              "    \n",
              "\n",
              "    \n",
              "\n",
              "    \n",
              "\n",
              "\n",
              "\n"
            ]
          },
          "metadata": {},
          "execution_count": 362
        }
      ]
    },
    {
      "cell_type": "code",
      "source": [
        "preds_tfidf = model_tfidf.predict(test_df['review'])"
      ],
      "metadata": {
        "id": "T__eiR1bNFQe"
      },
      "execution_count": null,
      "outputs": []
    },
    {
      "cell_type": "markdown",
      "source": [
        "#### Исправил ошибки:"
      ],
      "metadata": {
        "id": "5FHGS51pUxfU"
      }
    },
    {
      "cell_type": "markdown",
      "source": [
        "count Negative, tfidf Positive, True_label Positive"
      ],
      "metadata": {
        "id": "VGqoJfE4RKKj"
      }
    },
    {
      "cell_type": "markdown",
      "source": [
        "count"
      ],
      "metadata": {
        "id": "I-5ynci8VYnj"
      }
    },
    {
      "cell_type": "code",
      "source": [
        "eli5.show_prediction(classifier, test_df['review'][(preds==0) & (preds_tfidf==1) & (test_df['is_positive']==1)].values[0], vec=vectorizer, \n",
        "                     targets=['positive'], target_names=['negative', 'positive'])"
      ],
      "metadata": {
        "colab": {
          "base_uri": "https://localhost:8080/",
          "height": 204
        },
        "id": "loyWV0Y5Q4tH",
        "outputId": "865b2a66-b5ad-4f10-a115-3ca0c5f6b74d"
      },
      "execution_count": null,
      "outputs": [
        {
          "output_type": "execute_result",
          "data": {
            "text/plain": [
              "<IPython.core.display.HTML object>"
            ],
            "text/html": [
              "\n",
              "    <style>\n",
              "    table.eli5-weights tr:hover {\n",
              "        filter: brightness(85%);\n",
              "    }\n",
              "</style>\n",
              "\n",
              "\n",
              "\n",
              "    \n",
              "\n",
              "    \n",
              "\n",
              "    \n",
              "\n",
              "    \n",
              "\n",
              "    \n",
              "\n",
              "    \n",
              "\n",
              "\n",
              "    \n",
              "\n",
              "    \n",
              "\n",
              "    \n",
              "\n",
              "    \n",
              "        \n",
              "\n",
              "    \n",
              "\n",
              "        \n",
              "\n",
              "        \n",
              "    \n",
              "        \n",
              "        \n",
              "    \n",
              "        <p style=\"margin-bottom: 0.5em; margin-top: 0em\">\n",
              "            <b>\n",
              "    \n",
              "        y=positive\n",
              "    \n",
              "</b>\n",
              "\n",
              "    \n",
              "    (probability <b>0.438</b>, score <b>-0.249</b>)\n",
              "\n",
              "top features\n",
              "        </p>\n",
              "    \n",
              "    <table class=\"eli5-weights\"\n",
              "           style=\"border-collapse: collapse; border: none; margin-top: 0em; table-layout: auto; margin-bottom: 2em;\">\n",
              "        <thead>\n",
              "        <tr style=\"border: none;\">\n",
              "            \n",
              "                <th style=\"padding: 0 1em 0 0.5em; text-align: right; border: none;\" title=\"Feature contribution already accounts for the feature value (for linear models, contribution = weight * feature value), and the sum of feature contributions is equal to the score or, for some classifiers, to the probability. Feature values are shown if &quot;show_feature_values&quot; is True.\">\n",
              "                    Contribution<sup>?</sup>\n",
              "                </th>\n",
              "            \n",
              "            <th style=\"padding: 0 0.5em 0 0.5em; text-align: left; border: none;\">Feature</th>\n",
              "            \n",
              "        </tr>\n",
              "        </thead>\n",
              "        <tbody>\n",
              "        \n",
              "        \n",
              "\n",
              "        \n",
              "        \n",
              "            <tr style=\"background-color: hsl(0, 100.00%, 96.87%); border: none;\">\n",
              "    <td style=\"padding: 0 1em 0 0.5em; text-align: right; border: none;\">\n",
              "        -0.016\n",
              "    </td>\n",
              "    <td style=\"padding: 0 0.5em 0 0.5em; text-align: left; border: none;\">\n",
              "        &lt;BIAS&gt;\n",
              "    </td>\n",
              "    \n",
              "</tr>\n",
              "        \n",
              "            <tr style=\"background-color: hsl(0, 100.00%, 80.00%); border: none;\">\n",
              "    <td style=\"padding: 0 1em 0 0.5em; text-align: right; border: none;\">\n",
              "        -0.233\n",
              "    </td>\n",
              "    <td style=\"padding: 0 0.5em 0 0.5em; text-align: left; border: none;\">\n",
              "        Highlighted in text (sum)\n",
              "    </td>\n",
              "    \n",
              "</tr>\n",
              "        \n",
              "\n",
              "        </tbody>\n",
              "    </table>\n",
              "\n",
              "    \n",
              "\n",
              "\n",
              "\n",
              "    <p style=\"margin-bottom: 2.5em; margin-top:-0.5em;\">\n",
              "        <span style=\"background-color: hsl(0, 100.00%, 91.20%); opacity: 0.82\" title=\"-0.097\">one</span><span style=\"opacity: 0.80\"> </span><span style=\"background-color: hsl(0, 100.00%, 92.82%); opacity: 0.82\" title=\"-0.073\">of</span><span style=\"opacity: 0.80\"> </span><span style=\"background-color: hsl(120, 100.00%, 96.06%); opacity: 0.81\" title=\"0.031\">the</span><span style=\"opacity: 0.80\"> </span><span style=\"background-color: hsl(120, 100.00%, 65.95%); opacity: 0.96\" title=\"0.671\">earlier</span><span style=\"opacity: 0.80\"> </span><span style=\"background-color: hsl(120, 100.00%, 86.42%); opacity: 0.84\" title=\"0.181\">reviews</span><span style=\"opacity: 0.80\"> </span><span style=\"background-color: hsl(0, 100.00%, 92.82%); opacity: 0.82\" title=\"-0.073\">of</span><span style=\"opacity: 0.80\"> </span><span style=\"background-color: hsl(0, 100.00%, 94.12%); opacity: 0.81\" title=\"-0.055\">this</span><span style=\"opacity: 0.80\"> </span><span style=\"background-color: hsl(120, 100.00%, 95.69%); opacity: 0.81\" title=\"0.035\">movie</span><span style=\"opacity: 0.80\"> </span><span style=\"background-color: hsl(0, 100.00%, 73.09%); opacity: 0.91\" title=\"-0.480\">ends</span><span style=\"opacity: 0.80\"> </span><span style=\"background-color: hsl(120, 100.00%, 98.04%); opacity: 0.80\" title=\"0.011\">with</span><span style=\"opacity: 0.80\"> &quot;</span><span style=\"background-color: hsl(0, 100.00%, 88.33%); opacity: 0.83\" title=\"-0.145\">only</span><span style=\"opacity: 0.80\"> </span><span style=\"background-color: hsl(0, 100.00%, 90.48%); opacity: 0.83\" title=\"-0.109\">for</span><span style=\"opacity: 0.80\"> </span><span style=\"background-color: hsl(120, 100.00%, 97.19%); opacity: 0.80\" title=\"0.019\">big</span><span style=\"opacity: 0.80\"> </span><span style=\"background-color: hsl(120, 100.00%, 81.96%); opacity: 0.86\" title=\"0.271\">fans</span><span style=\"opacity: 0.80\"> </span><span style=\"background-color: hsl(0, 100.00%, 92.82%); opacity: 0.82\" title=\"-0.073\">of</span><span style=\"opacity: 0.80\"> </span><span style=\"background-color: hsl(120, 100.00%, 96.06%); opacity: 0.81\" title=\"0.031\">the</span><span style=\"opacity: 0.80\"> </span><span style=\"background-color: hsl(0, 100.00%, 98.87%); opacity: 0.80\" title=\"-0.005\">lead</span><span style=\"opacity: 0.80\"> </span><span style=\"background-color: hsl(0, 100.00%, 88.87%); opacity: 0.83\" title=\"-0.136\">actors</span><span style=\"opacity: 0.80\"> </span><span style=\"background-color: hsl(0, 100.00%, 95.38%); opacity: 0.81\" title=\"-0.039\">or</span><span style=\"opacity: 0.80\"> </span><span style=\"background-color: hsl(120, 100.00%, 81.96%); opacity: 0.86\" title=\"0.271\">fans</span><span style=\"opacity: 0.80\"> </span><span style=\"background-color: hsl(0, 100.00%, 92.82%); opacity: 0.82\" title=\"-0.073\">of</span><span style=\"opacity: 0.80\"> </span><span style=\"background-color: hsl(0, 100.00%, 70.59%); opacity: 0.93\" title=\"-0.545\">exotic</span><span style=\"opacity: 0.80\"> </span><span style=\"background-color: hsl(120, 100.00%, 90.64%); opacity: 0.83\" title=\"0.106\">romance</span><span style=\"opacity: 0.80\">/</span><span style=\"background-color: hsl(120, 100.00%, 78.36%); opacity: 0.88\" title=\"0.351\">adventure</span><span style=\"opacity: 0.80\"> holywood </span><span style=\"background-color: hsl(0, 100.00%, 99.30%); opacity: 0.80\" title=\"-0.003\">movies</span><span style=\"opacity: 0.80\">...,&quot; </span><span style=\"background-color: hsl(120, 100.00%, 94.48%); opacity: 0.81\" title=\"0.050\">as</span><span style=\"opacity: 0.80\"> </span><span style=\"background-color: hsl(0, 100.00%, 89.50%); opacity: 0.83\" title=\"-0.125\">if</span><span style=\"opacity: 0.80\"> </span><span style=\"background-color: hsl(120, 100.00%, 90.40%); opacity: 0.83\" title=\"0.110\">those</span><span style=\"opacity: 0.80\"> </span><span style=\"background-color: hsl(0, 100.00%, 78.47%); opacity: 0.88\" title=\"-0.349\">weren</span><span style=\"opacity: 0.80\">&#x27;t </span><span style=\"background-color: hsl(0, 100.00%, 70.08%); opacity: 0.93\" title=\"-0.558\">reason</span><span style=\"opacity: 0.80\"> </span><span style=\"background-color: hsl(0, 100.00%, 86.68%); opacity: 0.84\" title=\"-0.176\">enough</span><span style=\"opacity: 0.80\"> </span><span style=\"background-color: hsl(120, 100.00%, 97.68%); opacity: 0.80\" title=\"0.014\">to</span><span style=\"opacity: 0.80\"> </span><span style=\"background-color: hsl(120, 100.00%, 73.47%); opacity: 0.91\" title=\"0.470\">love</span><span style=\"opacity: 0.80\"> </span><span style=\"background-color: hsl(120, 100.00%, 87.01%); opacity: 0.84\" title=\"0.169\">it</span><span style=\"opacity: 0.80\">! </span><span style=\"background-color: hsl(120, 100.00%, 87.82%); opacity: 0.84\" title=\"0.155\">anyone</span><span style=\"opacity: 0.80\"> </span><span style=\"background-color: hsl(120, 100.00%, 85.36%); opacity: 0.85\" title=\"0.201\">who</span><span style=\"opacity: 0.80\">, </span><span style=\"background-color: hsl(0, 100.00%, 95.66%); opacity: 0.81\" title=\"-0.035\">after</span><span style=\"opacity: 0.80\"> </span><span style=\"background-color: hsl(120, 100.00%, 79.52%); opacity: 0.88\" title=\"0.325\">seeing</span><span style=\"opacity: 0.80\"> </span><span style=\"background-color: hsl(0, 100.00%, 94.12%); opacity: 0.81\" title=\"-0.055\">this</span><span style=\"opacity: 0.80\"> </span><span style=\"background-color: hsl(120, 100.00%, 95.69%); opacity: 0.81\" title=\"0.035\">movie</span><span style=\"opacity: 0.80\">, </span><span style=\"background-color: hsl(0, 100.00%, 89.41%); opacity: 0.83\" title=\"-0.127\">complains</span><span style=\"opacity: 0.80\"> </span><span style=\"background-color: hsl(0, 100.00%, 98.10%); opacity: 0.80\" title=\"-0.011\">about</span><span style=\"opacity: 0.80\"> </span><span style=\"background-color: hsl(0, 100.00%, 86.80%); opacity: 0.84\" title=\"-0.174\">connery</span><span style=\"opacity: 0.80\">&#x27;s </span><span style=\"background-color: hsl(0, 100.00%, 71.86%); opacity: 0.92\" title=\"-0.512\">accent</span><span style=\"opacity: 0.80\">, </span><span style=\"background-color: hsl(0, 100.00%, 95.38%); opacity: 0.81\" title=\"-0.039\">or</span><span style=\"opacity: 0.80\"> </span><span style=\"background-color: hsl(120, 100.00%, 96.06%); opacity: 0.81\" title=\"0.031\">the</span><span style=\"opacity: 0.80\"> </span><span style=\"background-color: hsl(0, 100.00%, 77.43%); opacity: 0.89\" title=\"-0.373\">lack</span><span style=\"opacity: 0.80\"> </span><span style=\"background-color: hsl(0, 100.00%, 92.82%); opacity: 0.82\" title=\"-0.073\">of</span><span style=\"opacity: 0.80\"> </span><span style=\"background-color: hsl(0, 100.00%, 95.45%); opacity: 0.81\" title=\"-0.038\">historical</span><span style=\"opacity: 0.80\"> </span><span style=\"background-color: hsl(0, 100.00%, 94.41%); opacity: 0.81\" title=\"-0.051\">verisimilitude</span><span style=\"opacity: 0.80\">, </span><span style=\"background-color: hsl(0, 100.00%, 95.38%); opacity: 0.81\" title=\"-0.039\">or</span><span style=\"opacity: 0.80\"> </span><span style=\"background-color: hsl(120, 100.00%, 96.06%); opacity: 0.81\" title=\"0.031\">the</span><span style=\"opacity: 0.80\"> </span><span style=\"background-color: hsl(120, 100.00%, 73.34%); opacity: 0.91\" title=\"0.473\">realism</span><span style=\"opacity: 0.80\"> </span><span style=\"background-color: hsl(0, 100.00%, 92.82%); opacity: 0.82\" title=\"-0.073\">of</span><span style=\"opacity: 0.80\"> </span><span style=\"background-color: hsl(120, 100.00%, 96.06%); opacity: 0.81\" title=\"0.031\">the</span><span style=\"opacity: 0.80\"> </span><span style=\"background-color: hsl(120, 100.00%, 91.79%); opacity: 0.82\" title=\"0.088\">political</span><span style=\"opacity: 0.80\"> </span><span style=\"background-color: hsl(0, 100.00%, 81.45%); opacity: 0.87\" title=\"-0.282\">motivations</span><span style=\"opacity: 0.80\">, </span><span style=\"background-color: hsl(0, 100.00%, 95.38%); opacity: 0.81\" title=\"-0.039\">or</span><span style=\"opacity: 0.80\"> </span><span style=\"background-color: hsl(0, 100.00%, 88.70%); opacity: 0.83\" title=\"-0.139\">any</span><span style=\"opacity: 0.80\"> </span><span style=\"background-color: hsl(120, 100.00%, 93.51%); opacity: 0.81\" title=\"0.063\">other</span><span style=\"opacity: 0.80\"> </span><span style=\"background-color: hsl(120, 100.00%, 95.89%); opacity: 0.81\" title=\"0.033\">extra</span><span style=\"opacity: 0.80\">-</span><span style=\"background-color: hsl(120, 100.00%, 95.69%); opacity: 0.81\" title=\"0.035\">movie</span><span style=\"opacity: 0.80\"> </span><span style=\"background-color: hsl(0, 100.00%, 94.56%); opacity: 0.81\" title=\"-0.049\">concerns</span><span style=\"opacity: 0.80\">, </span><span style=\"background-color: hsl(0, 100.00%, 77.61%); opacity: 0.89\" title=\"-0.369\">simply</span><span style=\"opacity: 0.80\"> </span><span style=\"background-color: hsl(0, 100.00%, 81.66%); opacity: 0.87\" title=\"-0.277\">doesn</span><span style=\"opacity: 0.80\">&#x27;t </span><span style=\"background-color: hsl(120, 100.00%, 73.47%); opacity: 0.91\" title=\"0.470\">love</span><span style=\"opacity: 0.80\"> </span><span style=\"background-color: hsl(0, 100.00%, 99.30%); opacity: 0.80\" title=\"-0.003\">movies</span><span style=\"opacity: 0.80\">. </span><span style=\"background-color: hsl(120, 100.00%, 87.56%); opacity: 0.84\" title=\"0.159\">see</span><span style=\"opacity: 0.80\"> </span><span style=\"background-color: hsl(120, 100.00%, 87.01%); opacity: 0.84\" title=\"0.169\">it</span><span style=\"opacity: 0.80\"> </span><span style=\"background-color: hsl(120, 100.00%, 90.87%); opacity: 0.82\" title=\"0.102\">and</span><span style=\"opacity: 0.80\"> </span><span style=\"background-color: hsl(0, 100.00%, 91.40%); opacity: 0.82\" title=\"-0.094\">be</span><span style=\"opacity: 0.80\"> </span><span style=\"background-color: hsl(120, 100.00%, 83.81%); opacity: 0.85\" title=\"0.232\">awed</span><span style=\"opacity: 0.80\"> </span><span style=\"background-color: hsl(0, 100.00%, 92.46%); opacity: 0.82\" title=\"-0.078\">by</span><span style=\"opacity: 0.80\"> </span><span style=\"background-color: hsl(120, 100.00%, 96.06%); opacity: 0.81\" title=\"0.031\">the</span><span style=\"opacity: 0.80\"> </span><span style=\"background-color: hsl(120, 100.00%, 94.97%); opacity: 0.81\" title=\"0.044\">star</span><span style=\"opacity: 0.80\">-</span><span style=\"background-color: hsl(0, 100.00%, 79.20%); opacity: 0.88\" title=\"-0.332\">power</span><span style=\"opacity: 0.80\"> </span><span style=\"background-color: hsl(0, 100.00%, 92.82%); opacity: 0.82\" title=\"-0.073\">of</span><span style=\"opacity: 0.80\"> </span><span style=\"background-color: hsl(120, 100.00%, 96.06%); opacity: 0.81\" title=\"0.031\">the</span><span style=\"opacity: 0.80\"> </span><span style=\"background-color: hsl(120, 100.00%, 94.24%); opacity: 0.81\" title=\"0.053\">two</span><span style=\"opacity: 0.80\"> </span><span style=\"background-color: hsl(0, 100.00%, 81.36%); opacity: 0.87\" title=\"-0.284\">leads</span><span style=\"opacity: 0.80\">, </span><span style=\"background-color: hsl(120, 100.00%, 96.06%); opacity: 0.81\" title=\"0.031\">the</span><span style=\"opacity: 0.80\"> </span><span style=\"background-color: hsl(0, 100.00%, 70.59%); opacity: 0.93\" title=\"-0.545\">exotic</span><span style=\"opacity: 0.80\">, </span><span style=\"background-color: hsl(120, 100.00%, 71.99%); opacity: 0.92\" title=\"0.508\">romantic</span><span style=\"opacity: 0.80\">, </span><span style=\"background-color: hsl(120, 100.00%, 87.47%); opacity: 0.84\" title=\"0.161\">photography</span><span style=\"opacity: 0.80\"> </span><span style=\"background-color: hsl(120, 100.00%, 90.87%); opacity: 0.82\" title=\"0.102\">and</span><span style=\"opacity: 0.80\"> </span><span style=\"background-color: hsl(120, 100.00%, 98.94%); opacity: 0.80\" title=\"0.005\">music</span><span style=\"opacity: 0.80\">, </span><span style=\"background-color: hsl(120, 100.00%, 90.87%); opacity: 0.82\" title=\"0.102\">and</span><span style=\"opacity: 0.80\"> </span><span style=\"background-color: hsl(120, 100.00%, 96.06%); opacity: 0.81\" title=\"0.031\">the</span><span style=\"opacity: 0.80\"> </span><span style=\"background-color: hsl(0, 100.00%, 86.15%); opacity: 0.84\" title=\"-0.186\">bold</span><span style=\"opacity: 0.80\"> </span><span style=\"background-color: hsl(120, 100.00%, 78.36%); opacity: 0.88\" title=\"0.351\">adventure</span><span style=\"opacity: 0.80\"> </span><span style=\"background-color: hsl(0, 100.00%, 92.82%); opacity: 0.82\" title=\"-0.073\">of</span><span style=\"opacity: 0.80\"> a </span><span style=\"background-color: hsl(120, 100.00%, 85.18%); opacity: 0.85\" title=\"0.205\">truly</span><span style=\"opacity: 0.80\"> </span><span style=\"background-color: hsl(120, 100.00%, 95.27%); opacity: 0.81\" title=\"0.040\">escapist</span><span style=\"opacity: 0.80\"> </span><span style=\"background-color: hsl(120, 100.00%, 90.88%); opacity: 0.82\" title=\"0.102\">film</span><span style=\"opacity: 0.80\">. </span><span style=\"background-color: hsl(0, 100.00%, 94.12%); opacity: 0.81\" title=\"-0.055\">this</span><span style=\"opacity: 0.80\"> </span><span style=\"background-color: hsl(120, 100.00%, 92.92%); opacity: 0.82\" title=\"0.071\">is</span><span style=\"opacity: 0.80\"> </span><span style=\"background-color: hsl(0, 100.00%, 60.00%); opacity: 1.00\" title=\"-0.845\">proof</span><span style=\"opacity: 0.80\"> </span><span style=\"background-color: hsl(120, 100.00%, 98.48%); opacity: 0.80\" title=\"0.008\">that</span><span style=\"opacity: 0.80\"> </span><span style=\"background-color: hsl(120, 100.00%, 92.47%); opacity: 0.82\" title=\"0.078\">hollywood</span><span style=\"opacity: 0.80\"> </span><span style=\"background-color: hsl(0, 100.00%, 96.30%); opacity: 0.81\" title=\"-0.028\">can</span><span style=\"opacity: 0.80\"> &quot;</span><span style=\"background-color: hsl(0, 100.00%, 88.29%); opacity: 0.83\" title=\"-0.146\">make</span><span style=\"opacity: 0.80\"> &#x27;</span><span style=\"background-color: hsl(120, 100.00%, 88.71%); opacity: 0.83\" title=\"0.139\">em</span><span style=\"opacity: 0.80\"> </span><span style=\"background-color: hsl(120, 100.00%, 96.04%); opacity: 0.81\" title=\"0.031\">like</span><span style=\"opacity: 0.80\"> </span><span style=\"background-color: hsl(0, 100.00%, 98.37%); opacity: 0.80\" title=\"-0.009\">they</span><span style=\"opacity: 0.80\"> </span><span style=\"background-color: hsl(0, 100.00%, 93.29%); opacity: 0.82\" title=\"-0.066\">used</span><span style=\"opacity: 0.80\"> </span><span style=\"background-color: hsl(120, 100.00%, 97.68%); opacity: 0.80\" title=\"0.014\">to</span><span style=\"opacity: 0.80\">&quot; </span><span style=\"background-color: hsl(0, 100.00%, 98.79%); opacity: 0.80\" title=\"-0.006\">when</span><span style=\"opacity: 0.80\"> </span><span style=\"background-color: hsl(120, 100.00%, 87.01%); opacity: 0.84\" title=\"0.169\">it</span><span style=\"opacity: 0.80\"> </span><span style=\"background-color: hsl(0, 100.00%, 94.25%); opacity: 0.81\" title=\"-0.053\">really</span><span style=\"opacity: 0.80\"> </span><span style=\"background-color: hsl(0, 100.00%, 83.44%); opacity: 0.86\" title=\"-0.240\">wants</span><span style=\"opacity: 0.80\"> </span><span style=\"background-color: hsl(120, 100.00%, 97.68%); opacity: 0.80\" title=\"0.014\">to</span><span style=\"opacity: 0.80\">. a </span><span style=\"background-color: hsl(120, 100.00%, 60.68%); opacity: 1.00\" title=\"0.825\">solid</span><span style=\"opacity: 0.80\"> 8/</span><span style=\"background-color: hsl(120, 100.00%, 86.89%); opacity: 0.84\" title=\"0.172\">10</span><span style=\"opacity: 0.80\">.</span>\n",
              "    </p>\n",
              "\n",
              "\n",
              "    \n",
              "\n",
              "    \n",
              "\n",
              "    \n",
              "\n",
              "    \n",
              "\n",
              "\n",
              "    \n",
              "\n",
              "    \n",
              "\n",
              "    \n",
              "\n",
              "    \n",
              "\n",
              "    \n",
              "\n",
              "    \n",
              "\n",
              "\n",
              "    \n",
              "\n",
              "    \n",
              "\n",
              "    \n",
              "\n",
              "    \n",
              "\n",
              "    \n",
              "\n",
              "    \n",
              "\n",
              "\n",
              "\n"
            ]
          },
          "metadata": {},
          "execution_count": 364
        }
      ]
    },
    {
      "cell_type": "markdown",
      "source": [
        "tfidf"
      ],
      "metadata": {
        "id": "Wz3RHdVwVZ07"
      }
    },
    {
      "cell_type": "code",
      "source": [
        "eli5.show_prediction(classifier_tfidf, test_df['review'][(preds==0) & (preds_tfidf==1) & (test_df['is_positive']==1)].values[0], vec=vectorizer_tfidf, \n",
        "                     targets=['positive'], target_names=['negative', 'positive'])"
      ],
      "metadata": {
        "colab": {
          "base_uri": "https://localhost:8080/",
          "height": 261
        },
        "id": "X1psdzynVF2p",
        "outputId": "35902e02-5962-4db4-fc9b-45a256543e05"
      },
      "execution_count": null,
      "outputs": [
        {
          "output_type": "stream",
          "name": "stderr",
          "text": [
            "/usr/local/lib/python3.7/dist-packages/sklearn/utils/deprecation.py:87: FutureWarning: Function get_feature_names is deprecated; get_feature_names is deprecated in 1.0 and will be removed in 1.2. Please use get_feature_names_out instead.\n",
            "  warnings.warn(msg, category=FutureWarning)\n"
          ]
        },
        {
          "output_type": "execute_result",
          "data": {
            "text/plain": [
              "<IPython.core.display.HTML object>"
            ],
            "text/html": [
              "\n",
              "    <style>\n",
              "    table.eli5-weights tr:hover {\n",
              "        filter: brightness(85%);\n",
              "    }\n",
              "</style>\n",
              "\n",
              "\n",
              "\n",
              "    \n",
              "\n",
              "    \n",
              "\n",
              "    \n",
              "\n",
              "    \n",
              "\n",
              "    \n",
              "\n",
              "    \n",
              "\n",
              "\n",
              "    \n",
              "\n",
              "    \n",
              "\n",
              "    \n",
              "\n",
              "    \n",
              "        \n",
              "\n",
              "    \n",
              "\n",
              "        \n",
              "\n",
              "        \n",
              "    \n",
              "        \n",
              "        \n",
              "    \n",
              "        <p style=\"margin-bottom: 0.5em; margin-top: 0em\">\n",
              "            <b>\n",
              "    \n",
              "        y=positive\n",
              "    \n",
              "</b>\n",
              "\n",
              "    \n",
              "    (probability <b>0.583</b>, score <b>0.333</b>)\n",
              "\n",
              "top features\n",
              "        </p>\n",
              "    \n",
              "    <table class=\"eli5-weights\"\n",
              "           style=\"border-collapse: collapse; border: none; margin-top: 0em; table-layout: auto; margin-bottom: 2em;\">\n",
              "        <thead>\n",
              "        <tr style=\"border: none;\">\n",
              "            \n",
              "                <th style=\"padding: 0 1em 0 0.5em; text-align: right; border: none;\" title=\"Feature contribution already accounts for the feature value (for linear models, contribution = weight * feature value), and the sum of feature contributions is equal to the score or, for some classifiers, to the probability. Feature values are shown if &quot;show_feature_values&quot; is True.\">\n",
              "                    Contribution<sup>?</sup>\n",
              "                </th>\n",
              "            \n",
              "            <th style=\"padding: 0 0.5em 0 0.5em; text-align: left; border: none;\">Feature</th>\n",
              "            \n",
              "        </tr>\n",
              "        </thead>\n",
              "        <tbody>\n",
              "        \n",
              "            <tr style=\"background-color: hsl(120, 100.00%, 80.00%); border: none;\">\n",
              "    <td style=\"padding: 0 1em 0 0.5em; text-align: right; border: none;\">\n",
              "        +0.490\n",
              "    </td>\n",
              "    <td style=\"padding: 0 0.5em 0 0.5em; text-align: left; border: none;\">\n",
              "        Highlighted in text (sum)\n",
              "    </td>\n",
              "    \n",
              "</tr>\n",
              "        \n",
              "        \n",
              "\n",
              "        \n",
              "        \n",
              "            <tr style=\"background-color: hsl(0, 100.00%, 91.00%); border: none;\">\n",
              "    <td style=\"padding: 0 1em 0 0.5em; text-align: right; border: none;\">\n",
              "        -0.157\n",
              "    </td>\n",
              "    <td style=\"padding: 0 0.5em 0 0.5em; text-align: left; border: none;\">\n",
              "        &lt;BIAS&gt;\n",
              "    </td>\n",
              "    \n",
              "</tr>\n",
              "        \n",
              "\n",
              "        </tbody>\n",
              "    </table>\n",
              "\n",
              "    \n",
              "\n",
              "\n",
              "\n",
              "    <p style=\"margin-bottom: 2.5em; margin-top:-0.5em;\">\n",
              "        <span style=\"background-color: hsl(120, 100.00%, 98.09%); opacity: 0.80\" title=\"0.003\">one</span><span style=\"opacity: 0.80\"> </span><span style=\"background-color: hsl(0, 100.00%, 99.87%); opacity: 0.80\" title=\"-0.000\">of</span><span style=\"opacity: 0.80\"> </span><span style=\"background-color: hsl(120, 100.00%, 93.66%); opacity: 0.81\" title=\"0.017\">the</span><span style=\"opacity: 0.80\"> </span><span style=\"background-color: hsl(120, 100.00%, 88.64%); opacity: 0.83\" title=\"0.039\">earlier</span><span style=\"opacity: 0.80\"> </span><span style=\"background-color: hsl(0, 100.00%, 98.79%); opacity: 0.80\" title=\"-0.002\">reviews</span><span style=\"opacity: 0.80\"> </span><span style=\"background-color: hsl(0, 100.00%, 99.87%); opacity: 0.80\" title=\"-0.000\">of</span><span style=\"opacity: 0.80\"> </span><span style=\"background-color: hsl(0, 100.00%, 90.79%); opacity: 0.82\" title=\"-0.029\">this</span><span style=\"opacity: 0.80\"> </span><span style=\"background-color: hsl(0, 100.00%, 95.76%); opacity: 0.81\" title=\"-0.010\">movie</span><span style=\"opacity: 0.80\"> </span><span style=\"background-color: hsl(0, 100.00%, 82.60%); opacity: 0.86\" title=\"-0.072\">ends</span><span style=\"opacity: 0.80\"> </span><span style=\"background-color: hsl(120, 100.00%, 96.13%); opacity: 0.81\" title=\"0.008\">with</span><span style=\"opacity: 0.80\"> &quot;</span><span style=\"background-color: hsl(0, 100.00%, 72.32%); opacity: 0.92\" title=\"-0.140\">only</span><span style=\"opacity: 0.80\"> </span><span style=\"background-color: hsl(0, 100.00%, 94.26%); opacity: 0.81\" title=\"-0.015\">for</span><span style=\"opacity: 0.80\"> </span><span style=\"background-color: hsl(120, 100.00%, 96.49%); opacity: 0.81\" title=\"0.007\">big</span><span style=\"opacity: 0.80\"> </span><span style=\"background-color: hsl(120, 100.00%, 78.96%); opacity: 0.88\" title=\"0.095\">fans</span><span style=\"opacity: 0.80\"> </span><span style=\"background-color: hsl(0, 100.00%, 99.87%); opacity: 0.80\" title=\"-0.000\">of</span><span style=\"opacity: 0.80\"> </span><span style=\"background-color: hsl(120, 100.00%, 93.66%); opacity: 0.81\" title=\"0.017\">the</span><span style=\"opacity: 0.80\"> </span><span style=\"background-color: hsl(0, 100.00%, 88.15%); opacity: 0.84\" title=\"-0.042\">lead</span><span style=\"opacity: 0.80\"> </span><span style=\"background-color: hsl(0, 100.00%, 82.14%); opacity: 0.86\" title=\"-0.075\">actors</span><span style=\"opacity: 0.80\"> </span><span style=\"background-color: hsl(0, 100.00%, 84.12%); opacity: 0.85\" title=\"-0.063\">or</span><span style=\"opacity: 0.80\"> </span><span style=\"background-color: hsl(120, 100.00%, 78.96%); opacity: 0.88\" title=\"0.095\">fans</span><span style=\"opacity: 0.80\"> </span><span style=\"background-color: hsl(0, 100.00%, 99.87%); opacity: 0.80\" title=\"-0.000\">of</span><span style=\"opacity: 0.80\"> </span><span style=\"background-color: hsl(0, 100.00%, 87.92%); opacity: 0.84\" title=\"-0.043\">exotic</span><span style=\"opacity: 0.80\"> </span><span style=\"background-color: hsl(120, 100.00%, 96.89%); opacity: 0.81\" title=\"0.006\">romance</span><span style=\"opacity: 0.80\">/</span><span style=\"background-color: hsl(120, 100.00%, 74.69%); opacity: 0.90\" title=\"0.123\">adventure</span><span style=\"opacity: 0.80\"> holywood </span><span style=\"background-color: hsl(120, 100.00%, 89.29%); opacity: 0.83\" title=\"0.036\">movies</span><span style=\"opacity: 0.80\">...,&quot; </span><span style=\"background-color: hsl(120, 100.00%, 87.25%); opacity: 0.84\" title=\"0.046\">as</span><span style=\"opacity: 0.80\"> </span><span style=\"background-color: hsl(0, 100.00%, 82.83%); opacity: 0.86\" title=\"-0.071\">if</span><span style=\"opacity: 0.80\"> </span><span style=\"background-color: hsl(120, 100.00%, 84.42%); opacity: 0.85\" title=\"0.062\">those</span><span style=\"opacity: 0.80\"> </span><span style=\"background-color: hsl(0, 100.00%, 85.30%); opacity: 0.85\" title=\"-0.057\">weren</span><span style=\"opacity: 0.80\">&#x27;t </span><span style=\"background-color: hsl(0, 100.00%, 66.16%); opacity: 0.96\" title=\"-0.187\">reason</span><span style=\"opacity: 0.80\"> </span><span style=\"background-color: hsl(0, 100.00%, 73.50%); opacity: 0.91\" title=\"-0.132\">enough</span><span style=\"opacity: 0.80\"> </span><span style=\"background-color: hsl(0, 100.00%, 90.45%); opacity: 0.83\" title=\"-0.031\">to</span><span style=\"opacity: 0.80\"> </span><span style=\"background-color: hsl(120, 100.00%, 60.00%); opacity: 1.00\" title=\"0.237\">love</span><span style=\"opacity: 0.80\"> </span><span style=\"background-color: hsl(120, 100.00%, 80.54%); opacity: 0.87\" title=\"0.085\">it</span><span style=\"opacity: 0.80\">! </span><span style=\"background-color: hsl(120, 100.00%, 89.44%); opacity: 0.83\" title=\"0.035\">anyone</span><span style=\"opacity: 0.80\"> </span><span style=\"background-color: hsl(120, 100.00%, 88.72%); opacity: 0.83\" title=\"0.039\">who</span><span style=\"opacity: 0.80\">, </span><span style=\"background-color: hsl(0, 100.00%, 95.03%); opacity: 0.81\" title=\"-0.012\">after</span><span style=\"opacity: 0.80\"> </span><span style=\"background-color: hsl(120, 100.00%, 86.48%); opacity: 0.84\" title=\"0.050\">seeing</span><span style=\"opacity: 0.80\"> </span><span style=\"background-color: hsl(0, 100.00%, 90.79%); opacity: 0.82\" title=\"-0.029\">this</span><span style=\"opacity: 0.80\"> </span><span style=\"background-color: hsl(0, 100.00%, 95.76%); opacity: 0.81\" title=\"-0.010\">movie</span><span style=\"opacity: 0.80\">, </span><span style=\"background-color: hsl(0, 100.00%, 93.18%); opacity: 0.82\" title=\"-0.019\">complains</span><span style=\"opacity: 0.80\"> </span><span style=\"background-color: hsl(0, 100.00%, 95.12%); opacity: 0.81\" title=\"-0.012\">about</span><span style=\"opacity: 0.80\"> </span><span style=\"background-color: hsl(0, 100.00%, 90.77%); opacity: 0.82\" title=\"-0.029\">connery</span><span style=\"opacity: 0.80\">&#x27;s </span><span style=\"background-color: hsl(0, 100.00%, 72.17%); opacity: 0.92\" title=\"-0.141\">accent</span><span style=\"opacity: 0.80\">, </span><span style=\"background-color: hsl(0, 100.00%, 84.12%); opacity: 0.85\" title=\"-0.063\">or</span><span style=\"opacity: 0.80\"> </span><span style=\"background-color: hsl(120, 100.00%, 93.66%); opacity: 0.81\" title=\"0.017\">the</span><span style=\"opacity: 0.80\"> </span><span style=\"background-color: hsl(0, 100.00%, 65.04%); opacity: 0.97\" title=\"-0.196\">lack</span><span style=\"opacity: 0.80\"> </span><span style=\"background-color: hsl(0, 100.00%, 99.87%); opacity: 0.80\" title=\"-0.000\">of</span><span style=\"opacity: 0.80\"> </span><span style=\"background-color: hsl(0, 100.00%, 88.99%); opacity: 0.83\" title=\"-0.038\">historical</span><span style=\"opacity: 0.80\"> </span><span style=\"background-color: hsl(0, 100.00%, 98.57%); opacity: 0.80\" title=\"-0.002\">verisimilitude</span><span style=\"opacity: 0.80\">, </span><span style=\"background-color: hsl(0, 100.00%, 84.12%); opacity: 0.85\" title=\"-0.063\">or</span><span style=\"opacity: 0.80\"> </span><span style=\"background-color: hsl(120, 100.00%, 93.66%); opacity: 0.81\" title=\"0.017\">the</span><span style=\"opacity: 0.80\"> </span><span style=\"background-color: hsl(120, 100.00%, 76.87%); opacity: 0.89\" title=\"0.109\">realism</span><span style=\"opacity: 0.80\"> </span><span style=\"background-color: hsl(0, 100.00%, 99.87%); opacity: 0.80\" title=\"-0.000\">of</span><span style=\"opacity: 0.80\"> </span><span style=\"background-color: hsl(120, 100.00%, 93.66%); opacity: 0.81\" title=\"0.017\">the</span><span style=\"opacity: 0.80\"> </span><span style=\"background-color: hsl(120, 100.00%, 88.68%); opacity: 0.83\" title=\"0.039\">political</span><span style=\"opacity: 0.80\"> </span><span style=\"background-color: hsl(0, 100.00%, 87.49%); opacity: 0.84\" title=\"-0.045\">motivations</span><span style=\"opacity: 0.80\">, </span><span style=\"background-color: hsl(0, 100.00%, 84.12%); opacity: 0.85\" title=\"-0.063\">or</span><span style=\"opacity: 0.80\"> </span><span style=\"background-color: hsl(0, 100.00%, 70.28%); opacity: 0.93\" title=\"-0.155\">any</span><span style=\"opacity: 0.80\"> </span><span style=\"background-color: hsl(120, 100.00%, 87.66%); opacity: 0.84\" title=\"0.044\">other</span><span style=\"opacity: 0.80\"> </span><span style=\"background-color: hsl(120, 100.00%, 89.03%); opacity: 0.83\" title=\"0.037\">extra</span><span style=\"opacity: 0.80\">-</span><span style=\"background-color: hsl(0, 100.00%, 95.76%); opacity: 0.81\" title=\"-0.010\">movie</span><span style=\"opacity: 0.80\"> </span><span style=\"background-color: hsl(0, 100.00%, 95.61%); opacity: 0.81\" title=\"-0.010\">concerns</span><span style=\"opacity: 0.80\">, </span><span style=\"background-color: hsl(0, 100.00%, 76.10%); opacity: 0.90\" title=\"-0.114\">simply</span><span style=\"opacity: 0.80\"> </span><span style=\"background-color: hsl(0, 100.00%, 71.68%); opacity: 0.92\" title=\"-0.145\">doesn</span><span style=\"opacity: 0.80\">&#x27;t </span><span style=\"background-color: hsl(120, 100.00%, 60.00%); opacity: 1.00\" title=\"0.237\">love</span><span style=\"opacity: 0.80\"> </span><span style=\"background-color: hsl(120, 100.00%, 89.29%); opacity: 0.83\" title=\"0.036\">movies</span><span style=\"opacity: 0.80\">. </span><span style=\"background-color: hsl(120, 100.00%, 77.40%); opacity: 0.89\" title=\"0.105\">see</span><span style=\"opacity: 0.80\"> </span><span style=\"background-color: hsl(120, 100.00%, 80.54%); opacity: 0.87\" title=\"0.085\">it</span><span style=\"opacity: 0.80\"> </span><span style=\"background-color: hsl(120, 100.00%, 81.92%); opacity: 0.86\" title=\"0.076\">and</span><span style=\"opacity: 0.80\"> </span><span style=\"background-color: hsl(0, 100.00%, 87.96%); opacity: 0.84\" title=\"-0.043\">be</span><span style=\"opacity: 0.80\"> </span><span style=\"background-color: hsl(120, 100.00%, 88.89%); opacity: 0.83\" title=\"0.038\">awed</span><span style=\"opacity: 0.80\"> </span><span style=\"background-color: hsl(0, 100.00%, 93.76%); opacity: 0.81\" title=\"-0.017\">by</span><span style=\"opacity: 0.80\"> </span><span style=\"background-color: hsl(120, 100.00%, 93.66%); opacity: 0.81\" title=\"0.017\">the</span><span style=\"opacity: 0.80\"> </span><span style=\"background-color: hsl(0, 100.00%, 94.28%); opacity: 0.81\" title=\"-0.015\">star</span><span style=\"opacity: 0.80\">-</span><span style=\"background-color: hsl(0, 100.00%, 91.95%); opacity: 0.82\" title=\"-0.024\">power</span><span style=\"opacity: 0.80\"> </span><span style=\"background-color: hsl(0, 100.00%, 99.87%); opacity: 0.80\" title=\"-0.000\">of</span><span style=\"opacity: 0.80\"> </span><span style=\"background-color: hsl(120, 100.00%, 93.66%); opacity: 0.81\" title=\"0.017\">the</span><span style=\"opacity: 0.80\"> </span><span style=\"background-color: hsl(120, 100.00%, 92.59%); opacity: 0.82\" title=\"0.021\">two</span><span style=\"opacity: 0.80\"> </span><span style=\"background-color: hsl(120, 100.00%, 95.03%); opacity: 0.81\" title=\"0.012\">leads</span><span style=\"opacity: 0.80\">, </span><span style=\"background-color: hsl(120, 100.00%, 93.66%); opacity: 0.81\" title=\"0.017\">the</span><span style=\"opacity: 0.80\"> </span><span style=\"background-color: hsl(0, 100.00%, 87.92%); opacity: 0.84\" title=\"-0.043\">exotic</span><span style=\"opacity: 0.80\">, </span><span style=\"background-color: hsl(120, 100.00%, 75.82%); opacity: 0.90\" title=\"0.116\">romantic</span><span style=\"opacity: 0.80\">, </span><span style=\"background-color: hsl(120, 100.00%, 91.40%); opacity: 0.82\" title=\"0.026\">photography</span><span style=\"opacity: 0.80\"> </span><span style=\"background-color: hsl(120, 100.00%, 81.92%); opacity: 0.86\" title=\"0.076\">and</span><span style=\"opacity: 0.80\"> </span><span style=\"background-color: hsl(120, 100.00%, 86.00%); opacity: 0.84\" title=\"0.053\">music</span><span style=\"opacity: 0.80\">, </span><span style=\"background-color: hsl(120, 100.00%, 81.92%); opacity: 0.86\" title=\"0.076\">and</span><span style=\"opacity: 0.80\"> </span><span style=\"background-color: hsl(120, 100.00%, 93.66%); opacity: 0.81\" title=\"0.017\">the</span><span style=\"opacity: 0.80\"> </span><span style=\"background-color: hsl(120, 100.00%, 94.39%); opacity: 0.81\" title=\"0.014\">bold</span><span style=\"opacity: 0.80\"> </span><span style=\"background-color: hsl(120, 100.00%, 74.69%); opacity: 0.90\" title=\"0.123\">adventure</span><span style=\"opacity: 0.80\"> </span><span style=\"background-color: hsl(0, 100.00%, 99.87%); opacity: 0.80\" title=\"-0.000\">of</span><span style=\"opacity: 0.80\"> a </span><span style=\"background-color: hsl(120, 100.00%, 76.87%); opacity: 0.89\" title=\"0.108\">truly</span><span style=\"opacity: 0.80\"> </span><span style=\"background-color: hsl(120, 100.00%, 86.88%); opacity: 0.84\" title=\"0.048\">escapist</span><span style=\"opacity: 0.80\"> </span><span style=\"background-color: hsl(120, 100.00%, 91.00%); opacity: 0.82\" title=\"0.028\">film</span><span style=\"opacity: 0.80\">. </span><span style=\"background-color: hsl(0, 100.00%, 90.79%); opacity: 0.82\" title=\"-0.029\">this</span><span style=\"opacity: 0.80\"> </span><span style=\"background-color: hsl(120, 100.00%, 89.03%); opacity: 0.83\" title=\"0.037\">is</span><span style=\"opacity: 0.80\"> </span><span style=\"background-color: hsl(0, 100.00%, 77.13%); opacity: 0.89\" title=\"-0.107\">proof</span><span style=\"opacity: 0.80\"> </span><span style=\"background-color: hsl(0, 100.00%, 95.62%); opacity: 0.81\" title=\"-0.010\">that</span><span style=\"opacity: 0.80\"> </span><span style=\"background-color: hsl(120, 100.00%, 88.85%); opacity: 0.83\" title=\"0.038\">hollywood</span><span style=\"opacity: 0.80\"> </span><span style=\"background-color: hsl(0, 100.00%, 96.04%); opacity: 0.81\" title=\"-0.009\">can</span><span style=\"opacity: 0.80\"> &quot;</span><span style=\"background-color: hsl(0, 100.00%, 76.24%); opacity: 0.90\" title=\"-0.113\">make</span><span style=\"opacity: 0.80\"> &#x27;</span><span style=\"background-color: hsl(120, 100.00%, 90.44%); opacity: 0.83\" title=\"0.031\">em</span><span style=\"opacity: 0.80\"> </span><span style=\"background-color: hsl(0, 100.00%, 90.68%); opacity: 0.82\" title=\"-0.030\">like</span><span style=\"opacity: 0.80\"> </span><span style=\"background-color: hsl(0, 100.00%, 86.30%); opacity: 0.84\" title=\"-0.051\">they</span><span style=\"opacity: 0.80\"> </span><span style=\"background-color: hsl(0, 100.00%, 98.22%); opacity: 0.80\" title=\"-0.003\">used</span><span style=\"opacity: 0.80\"> </span><span style=\"background-color: hsl(0, 100.00%, 90.45%); opacity: 0.83\" title=\"-0.031\">to</span><span style=\"opacity: 0.80\">&quot; </span><span style=\"background-color: hsl(120, 100.00%, 87.97%); opacity: 0.84\" title=\"0.043\">when</span><span style=\"opacity: 0.80\"> </span><span style=\"background-color: hsl(120, 100.00%, 80.54%); opacity: 0.87\" title=\"0.085\">it</span><span style=\"opacity: 0.80\"> </span><span style=\"background-color: hsl(0, 100.00%, 97.89%); opacity: 0.80\" title=\"-0.004\">really</span><span style=\"opacity: 0.80\"> </span><span style=\"background-color: hsl(0, 100.00%, 93.93%); opacity: 0.81\" title=\"-0.016\">wants</span><span style=\"opacity: 0.80\"> </span><span style=\"background-color: hsl(0, 100.00%, 90.45%); opacity: 0.83\" title=\"-0.031\">to</span><span style=\"opacity: 0.80\">. a </span><span style=\"background-color: hsl(120, 100.00%, 62.64%); opacity: 0.98\" title=\"0.215\">solid</span><span style=\"opacity: 0.80\"> 8/</span><span style=\"background-color: hsl(120, 100.00%, 77.16%); opacity: 0.89\" title=\"0.107\">10</span><span style=\"opacity: 0.80\">.</span>\n",
              "    </p>\n",
              "\n",
              "\n",
              "    \n",
              "\n",
              "    \n",
              "\n",
              "    \n",
              "\n",
              "    \n",
              "\n",
              "\n",
              "    \n",
              "\n",
              "    \n",
              "\n",
              "    \n",
              "\n",
              "    \n",
              "\n",
              "    \n",
              "\n",
              "    \n",
              "\n",
              "\n",
              "    \n",
              "\n",
              "    \n",
              "\n",
              "    \n",
              "\n",
              "    \n",
              "\n",
              "    \n",
              "\n",
              "    \n",
              "\n",
              "\n",
              "\n"
            ]
          },
          "metadata": {},
          "execution_count": 365
        }
      ]
    },
    {
      "cell_type": "markdown",
      "source": [
        "count Positive, tfidf Negative, True_label Negative"
      ],
      "metadata": {
        "id": "kXykgAoJUb9L"
      }
    },
    {
      "cell_type": "markdown",
      "source": [
        "count"
      ],
      "metadata": {
        "id": "2G_b6eu7VbVB"
      }
    },
    {
      "cell_type": "code",
      "source": [
        "eli5.show_prediction(classifier, test_df['review'][(preds==1) & (preds_tfidf==0) & (test_df['is_positive']==0)].values[0], vec=vectorizer, \n",
        "                     targets=['positive'], target_names=['negative', 'positive'])"
      ],
      "metadata": {
        "colab": {
          "base_uri": "https://localhost:8080/",
          "height": 243
        },
        "id": "tAKQQvaBUetK",
        "outputId": "63f058cd-a867-47ec-fe16-db7ded20e56a"
      },
      "execution_count": null,
      "outputs": [
        {
          "output_type": "stream",
          "name": "stderr",
          "text": [
            "/usr/local/lib/python3.7/dist-packages/sklearn/utils/deprecation.py:87: FutureWarning: Function get_feature_names is deprecated; get_feature_names is deprecated in 1.0 and will be removed in 1.2. Please use get_feature_names_out instead.\n",
            "  warnings.warn(msg, category=FutureWarning)\n"
          ]
        },
        {
          "output_type": "execute_result",
          "data": {
            "text/plain": [
              "<IPython.core.display.HTML object>"
            ],
            "text/html": [
              "\n",
              "    <style>\n",
              "    table.eli5-weights tr:hover {\n",
              "        filter: brightness(85%);\n",
              "    }\n",
              "</style>\n",
              "\n",
              "\n",
              "\n",
              "    \n",
              "\n",
              "    \n",
              "\n",
              "    \n",
              "\n",
              "    \n",
              "\n",
              "    \n",
              "\n",
              "    \n",
              "\n",
              "\n",
              "    \n",
              "\n",
              "    \n",
              "\n",
              "    \n",
              "\n",
              "    \n",
              "        \n",
              "\n",
              "    \n",
              "\n",
              "        \n",
              "\n",
              "        \n",
              "    \n",
              "        \n",
              "        \n",
              "    \n",
              "        <p style=\"margin-bottom: 0.5em; margin-top: 0em\">\n",
              "            <b>\n",
              "    \n",
              "        y=positive\n",
              "    \n",
              "</b>\n",
              "\n",
              "    \n",
              "    (probability <b>0.616</b>, score <b>0.472</b>)\n",
              "\n",
              "top features\n",
              "        </p>\n",
              "    \n",
              "    <table class=\"eli5-weights\"\n",
              "           style=\"border-collapse: collapse; border: none; margin-top: 0em; table-layout: auto; margin-bottom: 2em;\">\n",
              "        <thead>\n",
              "        <tr style=\"border: none;\">\n",
              "            \n",
              "                <th style=\"padding: 0 1em 0 0.5em; text-align: right; border: none;\" title=\"Feature contribution already accounts for the feature value (for linear models, contribution = weight * feature value), and the sum of feature contributions is equal to the score or, for some classifiers, to the probability. Feature values are shown if &quot;show_feature_values&quot; is True.\">\n",
              "                    Contribution<sup>?</sup>\n",
              "                </th>\n",
              "            \n",
              "            <th style=\"padding: 0 0.5em 0 0.5em; text-align: left; border: none;\">Feature</th>\n",
              "            \n",
              "        </tr>\n",
              "        </thead>\n",
              "        <tbody>\n",
              "        \n",
              "            <tr style=\"background-color: hsl(120, 100.00%, 80.00%); border: none;\">\n",
              "    <td style=\"padding: 0 1em 0 0.5em; text-align: right; border: none;\">\n",
              "        +0.488\n",
              "    </td>\n",
              "    <td style=\"padding: 0 0.5em 0 0.5em; text-align: left; border: none;\">\n",
              "        Highlighted in text (sum)\n",
              "    </td>\n",
              "    \n",
              "</tr>\n",
              "        \n",
              "        \n",
              "\n",
              "        \n",
              "        \n",
              "            <tr style=\"background-color: hsl(0, 100.00%, 98.14%); border: none;\">\n",
              "    <td style=\"padding: 0 1em 0 0.5em; text-align: right; border: none;\">\n",
              "        -0.016\n",
              "    </td>\n",
              "    <td style=\"padding: 0 0.5em 0 0.5em; text-align: left; border: none;\">\n",
              "        &lt;BIAS&gt;\n",
              "    </td>\n",
              "    \n",
              "</tr>\n",
              "        \n",
              "\n",
              "        </tbody>\n",
              "    </table>\n",
              "\n",
              "    \n",
              "\n",
              "\n",
              "\n",
              "    <p style=\"margin-bottom: 2.5em; margin-top:-0.5em;\">\n",
              "        <span style=\"background-color: hsl(0, 100.00%, 93.65%); opacity: 0.81\" title=\"-0.068\">an</span><span style=\"opacity: 0.80\"> </span><span style=\"background-color: hsl(0, 100.00%, 82.89%); opacity: 0.86\" title=\"-0.280\">interesting</span><span style=\"opacity: 0.80\"> </span><span style=\"background-color: hsl(0, 100.00%, 76.69%); opacity: 0.89\" title=\"-0.436\">period</span><span style=\"opacity: 0.80\"> picec </span><span style=\"background-color: hsl(120, 100.00%, 84.47%); opacity: 0.85\" title=\"0.244\">showing</span><span style=\"opacity: 0.80\"> </span><span style=\"background-color: hsl(120, 100.00%, 86.16%); opacity: 0.84\" title=\"0.207\">us</span><span style=\"opacity: 0.80\"> </span><span style=\"background-color: hsl(120, 100.00%, 94.15%); opacity: 0.81\" title=\"0.060\">what</span><span style=\"opacity: 0.80\"> </span><span style=\"background-color: hsl(0, 100.00%, 96.07%); opacity: 0.81\" title=\"-0.034\">was</span><span style=\"opacity: 0.80\"> </span><span style=\"background-color: hsl(120, 100.00%, 60.00%); opacity: 1.00\" title=\"0.943\">amazing</span><span style=\"opacity: 0.80\"> </span><span style=\"background-color: hsl(120, 100.00%, 98.64%); opacity: 0.80\" title=\"0.008\">in</span><span style=\"opacity: 0.80\"> </span><span style=\"background-color: hsl(0, 100.00%, 98.47%); opacity: 0.80\" title=\"-0.009\">1938</span><span style=\"opacity: 0.80\">. </span><span style=\"background-color: hsl(0, 100.00%, 91.20%); opacity: 0.82\" title=\"-0.108\">gosh</span><span style=\"opacity: 0.80\">, </span><span style=\"background-color: hsl(120, 100.00%, 94.63%); opacity: 0.81\" title=\"0.054\">ma</span><span style=\"opacity: 0.80\">, a </span><span style=\"background-color: hsl(0, 100.00%, 77.28%); opacity: 0.89\" title=\"-0.420\">fake</span><span style=\"opacity: 0.80\"> </span><span style=\"background-color: hsl(120, 100.00%, 68.69%); opacity: 0.94\" title=\"0.664\">accident</span><span style=\"opacity: 0.80\"> </span><span style=\"background-color: hsl(0, 100.00%, 90.79%); opacity: 0.82\" title=\"-0.116\">ring</span><span style=\"opacity: 0.80\"> </span><span style=\"background-color: hsl(0, 100.00%, 99.10%); opacity: 0.80\" title=\"-0.004\">suing</span><span style=\"opacity: 0.80\"> </span><span style=\"background-color: hsl(0, 100.00%, 91.18%); opacity: 0.82\" title=\"-0.109\">for</span><span style=\"opacity: 0.80\"> $</span><span style=\"background-color: hsl(0, 100.00%, 91.59%); opacity: 0.82\" title=\"-0.102\">25</span><span style=\"opacity: 0.80\">,</span><span style=\"background-color: hsl(0, 100.00%, 94.27%); opacity: 0.81\" title=\"-0.059\">000</span><span style=\"opacity: 0.80\">!!! i </span><span style=\"background-color: hsl(0, 100.00%, 67.96%); opacity: 0.95\" title=\"-0.687\">guess</span><span style=\"opacity: 0.80\"> </span><span style=\"background-color: hsl(120, 100.00%, 96.14%); opacity: 0.81\" title=\"0.033\">projected</span><span style=\"opacity: 0.80\"> </span><span style=\"background-color: hsl(120, 100.00%, 95.75%); opacity: 0.81\" title=\"0.038\">into</span><span style=\"opacity: 0.80\"> </span><span style=\"background-color: hsl(120, 100.00%, 96.35%); opacity: 0.81\" title=\"0.031\">the</span><span style=\"opacity: 0.80\"> </span><span style=\"background-color: hsl(120, 100.00%, 75.58%); opacity: 0.90\" title=\"0.466\">21st</span><span style=\"opacity: 0.80\"> </span><span style=\"background-color: hsl(120, 100.00%, 82.11%); opacity: 0.86\" title=\"0.299\">century</span><span style=\"opacity: 0.80\"> </span><span style=\"background-color: hsl(120, 100.00%, 87.97%); opacity: 0.84\" title=\"0.169\">it</span><span style=\"opacity: 0.80\"> </span><span style=\"background-color: hsl(0, 100.00%, 81.99%); opacity: 0.86\" title=\"-0.302\">would</span><span style=\"opacity: 0.80\"> </span><span style=\"background-color: hsl(0, 100.00%, 91.68%); opacity: 0.82\" title=\"-0.100\">amount</span><span style=\"opacity: 0.80\"> </span><span style=\"background-color: hsl(120, 100.00%, 97.85%); opacity: 0.80\" title=\"0.014\">to</span><span style=\"opacity: 0.80\"> a </span><span style=\"background-color: hsl(120, 100.00%, 79.12%); opacity: 0.88\" title=\"0.372\">lot</span><span style=\"opacity: 0.80\"> </span><span style=\"background-color: hsl(0, 100.00%, 93.35%); opacity: 0.82\" title=\"-0.073\">of</span><span style=\"opacity: 0.80\"> </span><span style=\"background-color: hsl(0, 100.00%, 75.19%); opacity: 0.90\" title=\"-0.476\">money</span><span style=\"opacity: 0.80\">. </span><span style=\"background-color: hsl(120, 100.00%, 96.35%); opacity: 0.81\" title=\"0.031\">the</span><span style=\"opacity: 0.80\"> </span><span style=\"background-color: hsl(0, 100.00%, 89.90%); opacity: 0.83\" title=\"-0.132\">acting</span><span style=\"opacity: 0.80\"> </span><span style=\"background-color: hsl(0, 100.00%, 81.99%); opacity: 0.86\" title=\"-0.302\">would</span><span style=\"opacity: 0.80\"> </span><span style=\"background-color: hsl(0, 100.00%, 91.68%); opacity: 0.82\" title=\"-0.100\">amount</span><span style=\"opacity: 0.80\"> </span><span style=\"background-color: hsl(120, 100.00%, 97.85%); opacity: 0.80\" title=\"0.014\">to</span><span style=\"opacity: 0.80\"> </span><span style=\"background-color: hsl(0, 100.00%, 90.31%); opacity: 0.83\" title=\"-0.124\">pure</span><span style=\"opacity: 0.80\"> </span><span style=\"background-color: hsl(120, 100.00%, 75.58%); opacity: 0.90\" title=\"0.466\">21st</span><span style=\"opacity: 0.80\"> </span><span style=\"background-color: hsl(120, 100.00%, 82.11%); opacity: 0.86\" title=\"0.299\">century</span><span style=\"opacity: 0.80\"> </span><span style=\"background-color: hsl(0, 100.00%, 76.84%); opacity: 0.89\" title=\"-0.432\">ham</span><span style=\"opacity: 0.80\">. </span><span style=\"background-color: hsl(120, 100.00%, 73.33%); opacity: 0.91\" title=\"0.528\">nice</span><span style=\"opacity: 0.80\"> </span><span style=\"background-color: hsl(120, 100.00%, 97.85%); opacity: 0.80\" title=\"0.014\">to</span><span style=\"opacity: 0.80\"> </span><span style=\"background-color: hsl(120, 100.00%, 88.47%); opacity: 0.83\" title=\"0.159\">see</span><span style=\"opacity: 0.80\"> </span><span style=\"background-color: hsl(120, 100.00%, 96.35%); opacity: 0.81\" title=\"0.031\">the</span><span style=\"opacity: 0.80\"> </span><span style=\"background-color: hsl(120, 100.00%, 88.65%); opacity: 0.83\" title=\"0.156\">president</span><span style=\"opacity: 0.80\"> </span><span style=\"background-color: hsl(120, 100.00%, 94.88%); opacity: 0.81\" title=\"0.050\">as</span><span style=\"opacity: 0.80\"> a </span><span style=\"background-color: hsl(0, 100.00%, 98.84%); opacity: 0.80\" title=\"-0.006\">hard</span><span style=\"opacity: 0.80\">-</span><span style=\"background-color: hsl(0, 100.00%, 85.67%); opacity: 0.85\" title=\"-0.218\">working</span><span style=\"opacity: 0.80\"> </span><span style=\"background-color: hsl(0, 100.00%, 88.04%); opacity: 0.84\" title=\"-0.168\">newcomer</span><span style=\"opacity: 0.80\">.</span>\n",
              "    </p>\n",
              "\n",
              "\n",
              "    \n",
              "\n",
              "    \n",
              "\n",
              "    \n",
              "\n",
              "    \n",
              "\n",
              "\n",
              "    \n",
              "\n",
              "    \n",
              "\n",
              "    \n",
              "\n",
              "    \n",
              "\n",
              "    \n",
              "\n",
              "    \n",
              "\n",
              "\n",
              "    \n",
              "\n",
              "    \n",
              "\n",
              "    \n",
              "\n",
              "    \n",
              "\n",
              "    \n",
              "\n",
              "    \n",
              "\n",
              "\n",
              "\n"
            ]
          },
          "metadata": {},
          "execution_count": 366
        }
      ]
    },
    {
      "cell_type": "markdown",
      "source": [
        "tfidf"
      ],
      "metadata": {
        "id": "03Wd3w2zVccT"
      }
    },
    {
      "cell_type": "code",
      "source": [
        "eli5.show_prediction(classifier_tfidf, test_df['review'][(preds==1) & (preds_tfidf==0) & (test_df['is_positive']==0)].values[0], vec=vectorizer_tfidf, \n",
        "                     targets=['positive'], target_names=['negative', 'positive'])"
      ],
      "metadata": {
        "colab": {
          "base_uri": "https://localhost:8080/",
          "height": 243
        },
        "id": "6cmIauXMVLNG",
        "outputId": "e05ea7af-c4db-4d75-9c12-de60dd8cb45e"
      },
      "execution_count": null,
      "outputs": [
        {
          "output_type": "stream",
          "name": "stderr",
          "text": [
            "/usr/local/lib/python3.7/dist-packages/sklearn/utils/deprecation.py:87: FutureWarning: Function get_feature_names is deprecated; get_feature_names is deprecated in 1.0 and will be removed in 1.2. Please use get_feature_names_out instead.\n",
            "  warnings.warn(msg, category=FutureWarning)\n"
          ]
        },
        {
          "output_type": "execute_result",
          "data": {
            "text/plain": [
              "<IPython.core.display.HTML object>"
            ],
            "text/html": [
              "\n",
              "    <style>\n",
              "    table.eli5-weights tr:hover {\n",
              "        filter: brightness(85%);\n",
              "    }\n",
              "</style>\n",
              "\n",
              "\n",
              "\n",
              "    \n",
              "\n",
              "    \n",
              "\n",
              "    \n",
              "\n",
              "    \n",
              "\n",
              "    \n",
              "\n",
              "    \n",
              "\n",
              "\n",
              "    \n",
              "\n",
              "    \n",
              "\n",
              "    \n",
              "\n",
              "    \n",
              "        \n",
              "\n",
              "    \n",
              "\n",
              "        \n",
              "\n",
              "        \n",
              "    \n",
              "        \n",
              "        \n",
              "    \n",
              "        <p style=\"margin-bottom: 0.5em; margin-top: 0em\">\n",
              "            <b>\n",
              "    \n",
              "        y=positive\n",
              "    \n",
              "</b>\n",
              "\n",
              "    \n",
              "    (probability <b>0.405</b>, score <b>-0.384</b>)\n",
              "\n",
              "top features\n",
              "        </p>\n",
              "    \n",
              "    <table class=\"eli5-weights\"\n",
              "           style=\"border-collapse: collapse; border: none; margin-top: 0em; table-layout: auto; margin-bottom: 2em;\">\n",
              "        <thead>\n",
              "        <tr style=\"border: none;\">\n",
              "            \n",
              "                <th style=\"padding: 0 1em 0 0.5em; text-align: right; border: none;\" title=\"Feature contribution already accounts for the feature value (for linear models, contribution = weight * feature value), and the sum of feature contributions is equal to the score or, for some classifiers, to the probability. Feature values are shown if &quot;show_feature_values&quot; is True.\">\n",
              "                    Contribution<sup>?</sup>\n",
              "                </th>\n",
              "            \n",
              "            <th style=\"padding: 0 0.5em 0 0.5em; text-align: left; border: none;\">Feature</th>\n",
              "            \n",
              "        </tr>\n",
              "        </thead>\n",
              "        <tbody>\n",
              "        \n",
              "        \n",
              "\n",
              "        \n",
              "        \n",
              "            <tr style=\"background-color: hsl(0, 100.00%, 84.62%); border: none;\">\n",
              "    <td style=\"padding: 0 1em 0 0.5em; text-align: right; border: none;\">\n",
              "        -0.157\n",
              "    </td>\n",
              "    <td style=\"padding: 0 0.5em 0 0.5em; text-align: left; border: none;\">\n",
              "        &lt;BIAS&gt;\n",
              "    </td>\n",
              "    \n",
              "</tr>\n",
              "        \n",
              "            <tr style=\"background-color: hsl(0, 100.00%, 80.00%); border: none;\">\n",
              "    <td style=\"padding: 0 1em 0 0.5em; text-align: right; border: none;\">\n",
              "        -0.228\n",
              "    </td>\n",
              "    <td style=\"padding: 0 0.5em 0 0.5em; text-align: left; border: none;\">\n",
              "        Highlighted in text (sum)\n",
              "    </td>\n",
              "    \n",
              "</tr>\n",
              "        \n",
              "\n",
              "        </tbody>\n",
              "    </table>\n",
              "\n",
              "    \n",
              "\n",
              "\n",
              "\n",
              "    <p style=\"margin-bottom: 2.5em; margin-top:-0.5em;\">\n",
              "        <span style=\"background-color: hsl(0, 100.00%, 95.55%); opacity: 0.81\" title=\"-0.021\">an</span><span style=\"opacity: 0.80\"> </span><span style=\"background-color: hsl(0, 100.00%, 81.32%); opacity: 0.87\" title=\"-0.161\">interesting</span><span style=\"opacity: 0.80\"> </span><span style=\"background-color: hsl(0, 100.00%, 91.35%); opacity: 0.82\" title=\"-0.054\">period</span><span style=\"opacity: 0.80\"> picec </span><span style=\"background-color: hsl(120, 100.00%, 98.40%); opacity: 0.80\" title=\"0.005\">showing</span><span style=\"opacity: 0.80\"> </span><span style=\"background-color: hsl(120, 100.00%, 86.18%); opacity: 0.84\" title=\"0.105\">us</span><span style=\"opacity: 0.80\"> </span><span style=\"background-color: hsl(120, 100.00%, 94.49%); opacity: 0.81\" title=\"0.028\">what</span><span style=\"opacity: 0.80\"> </span><span style=\"background-color: hsl(0, 100.00%, 90.32%); opacity: 0.83\" title=\"-0.063\">was</span><span style=\"opacity: 0.80\"> </span><span style=\"background-color: hsl(120, 100.00%, 60.00%); opacity: 1.00\" title=\"0.479\">amazing</span><span style=\"opacity: 0.80\"> </span><span style=\"background-color: hsl(120, 100.00%, 96.18%); opacity: 0.81\" title=\"0.017\">in</span><span style=\"opacity: 0.80\"> </span><span style=\"background-color: hsl(120, 100.00%, 94.44%); opacity: 0.81\" title=\"0.029\">1938</span><span style=\"opacity: 0.80\">. </span><span style=\"background-color: hsl(0, 100.00%, 96.87%); opacity: 0.81\" title=\"-0.013\">gosh</span><span style=\"opacity: 0.80\">, </span><span style=\"background-color: hsl(0, 100.00%, 96.05%); opacity: 0.81\" title=\"-0.018\">ma</span><span style=\"opacity: 0.80\">, a </span><span style=\"background-color: hsl(0, 100.00%, 77.27%); opacity: 0.89\" title=\"-0.214\">fake</span><span style=\"opacity: 0.80\"> </span><span style=\"background-color: hsl(120, 100.00%, 94.37%); opacity: 0.81\" title=\"0.029\">accident</span><span style=\"opacity: 0.80\"> </span><span style=\"background-color: hsl(120, 100.00%, 93.20%); opacity: 0.82\" title=\"0.038\">ring</span><span style=\"opacity: 0.80\"> </span><span style=\"background-color: hsl(0, 100.00%, 98.28%); opacity: 0.80\" title=\"-0.005\">suing</span><span style=\"opacity: 0.80\"> </span><span style=\"background-color: hsl(0, 100.00%, 95.98%); opacity: 0.81\" title=\"-0.018\">for</span><span style=\"opacity: 0.80\"> $</span><span style=\"background-color: hsl(0, 100.00%, 97.89%); opacity: 0.80\" title=\"-0.007\">25</span><span style=\"opacity: 0.80\">,</span><span style=\"background-color: hsl(0, 100.00%, 91.67%); opacity: 0.82\" title=\"-0.051\">000</span><span style=\"opacity: 0.80\">!!! i </span><span style=\"background-color: hsl(0, 100.00%, 76.22%); opacity: 0.90\" title=\"-0.228\">guess</span><span style=\"opacity: 0.80\"> </span><span style=\"background-color: hsl(0, 100.00%, 95.58%); opacity: 0.81\" title=\"-0.021\">projected</span><span style=\"opacity: 0.80\"> </span><span style=\"background-color: hsl(0, 100.00%, 96.92%); opacity: 0.81\" title=\"-0.012\">into</span><span style=\"opacity: 0.80\"> </span><span style=\"background-color: hsl(120, 100.00%, 95.56%); opacity: 0.81\" title=\"0.021\">the</span><span style=\"opacity: 0.80\"> </span><span style=\"background-color: hsl(120, 100.00%, 89.28%); opacity: 0.83\" title=\"0.073\">21st</span><span style=\"opacity: 0.80\"> </span><span style=\"background-color: hsl(120, 100.00%, 91.23%); opacity: 0.82\" title=\"0.055\">century</span><span style=\"opacity: 0.80\"> </span><span style=\"background-color: hsl(120, 100.00%, 86.37%); opacity: 0.84\" title=\"0.103\">it</span><span style=\"opacity: 0.80\"> </span><span style=\"background-color: hsl(0, 100.00%, 84.81%); opacity: 0.85\" title=\"-0.120\">would</span><span style=\"opacity: 0.80\"> </span><span style=\"background-color: hsl(0, 100.00%, 89.88%); opacity: 0.83\" title=\"-0.067\">amount</span><span style=\"opacity: 0.80\"> </span><span style=\"background-color: hsl(0, 100.00%, 93.31%); opacity: 0.82\" title=\"-0.037\">to</span><span style=\"opacity: 0.80\"> a </span><span style=\"background-color: hsl(120, 100.00%, 82.76%); opacity: 0.86\" title=\"0.144\">lot</span><span style=\"opacity: 0.80\"> </span><span style=\"background-color: hsl(0, 100.00%, 99.91%); opacity: 0.80\" title=\"-0.000\">of</span><span style=\"opacity: 0.80\"> </span><span style=\"background-color: hsl(0, 100.00%, 70.91%); opacity: 0.93\" title=\"-0.304\">money</span><span style=\"opacity: 0.80\">. </span><span style=\"background-color: hsl(120, 100.00%, 95.56%); opacity: 0.81\" title=\"0.021\">the</span><span style=\"opacity: 0.80\"> </span><span style=\"background-color: hsl(0, 100.00%, 81.93%); opacity: 0.86\" title=\"-0.154\">acting</span><span style=\"opacity: 0.80\"> </span><span style=\"background-color: hsl(0, 100.00%, 84.81%); opacity: 0.85\" title=\"-0.120\">would</span><span style=\"opacity: 0.80\"> </span><span style=\"background-color: hsl(0, 100.00%, 89.88%); opacity: 0.83\" title=\"-0.067\">amount</span><span style=\"opacity: 0.80\"> </span><span style=\"background-color: hsl(0, 100.00%, 93.31%); opacity: 0.82\" title=\"-0.037\">to</span><span style=\"opacity: 0.80\"> </span><span style=\"background-color: hsl(120, 100.00%, 94.03%); opacity: 0.81\" title=\"0.032\">pure</span><span style=\"opacity: 0.80\"> </span><span style=\"background-color: hsl(120, 100.00%, 89.28%); opacity: 0.83\" title=\"0.073\">21st</span><span style=\"opacity: 0.80\"> </span><span style=\"background-color: hsl(120, 100.00%, 91.23%); opacity: 0.82\" title=\"0.055\">century</span><span style=\"opacity: 0.80\"> </span><span style=\"background-color: hsl(0, 100.00%, 86.06%); opacity: 0.84\" title=\"-0.106\">ham</span><span style=\"opacity: 0.80\">. </span><span style=\"background-color: hsl(120, 100.00%, 79.76%); opacity: 0.88\" title=\"0.181\">nice</span><span style=\"opacity: 0.80\"> </span><span style=\"background-color: hsl(0, 100.00%, 93.31%); opacity: 0.82\" title=\"-0.037\">to</span><span style=\"opacity: 0.80\"> </span><span style=\"background-color: hsl(120, 100.00%, 84.17%); opacity: 0.85\" title=\"0.127\">see</span><span style=\"opacity: 0.80\"> </span><span style=\"background-color: hsl(120, 100.00%, 95.56%); opacity: 0.81\" title=\"0.021\">the</span><span style=\"opacity: 0.80\"> </span><span style=\"background-color: hsl(120, 100.00%, 89.45%); opacity: 0.83\" title=\"0.071\">president</span><span style=\"opacity: 0.80\"> </span><span style=\"background-color: hsl(120, 100.00%, 91.07%); opacity: 0.82\" title=\"0.056\">as</span><span style=\"opacity: 0.80\"> a </span><span style=\"background-color: hsl(0, 100.00%, 93.77%); opacity: 0.81\" title=\"-0.034\">hard</span><span style=\"opacity: 0.80\">-</span><span style=\"background-color: hsl(120, 100.00%, 97.79%); opacity: 0.80\" title=\"0.008\">working</span><span style=\"opacity: 0.80\"> </span><span style=\"background-color: hsl(0, 100.00%, 94.48%); opacity: 0.81\" title=\"-0.028\">newcomer</span><span style=\"opacity: 0.80\">.</span>\n",
              "    </p>\n",
              "\n",
              "\n",
              "    \n",
              "\n",
              "    \n",
              "\n",
              "    \n",
              "\n",
              "    \n",
              "\n",
              "\n",
              "    \n",
              "\n",
              "    \n",
              "\n",
              "    \n",
              "\n",
              "    \n",
              "\n",
              "    \n",
              "\n",
              "    \n",
              "\n",
              "\n",
              "    \n",
              "\n",
              "    \n",
              "\n",
              "    \n",
              "\n",
              "    \n",
              "\n",
              "    \n",
              "\n",
              "    \n",
              "\n",
              "\n",
              "\n"
            ]
          },
          "metadata": {},
          "execution_count": 367
        }
      ]
    },
    {
      "cell_type": "markdown",
      "source": [
        "#### Начал допускать ошибки:"
      ],
      "metadata": {
        "id": "9L1f1l8EU1Tp"
      }
    },
    {
      "cell_type": "markdown",
      "source": [
        "count Positive, tfidf Negative, True_label Positive"
      ],
      "metadata": {
        "id": "7Avm97mBUlNB"
      }
    },
    {
      "cell_type": "markdown",
      "source": [
        "count"
      ],
      "metadata": {
        "id": "4pHAK0E8Vd-u"
      }
    },
    {
      "cell_type": "code",
      "source": [
        "eli5.show_prediction(classifier, test_df['review'][(preds==1) & (preds_tfidf==0) & (test_df['is_positive']==1)].values[0], vec=vectorizer, \n",
        "                     targets=['positive'], target_names=['negative', 'positive'])"
      ],
      "metadata": {
        "colab": {
          "base_uri": "https://localhost:8080/",
          "height": 295
        },
        "id": "FhNCWllnUliI",
        "outputId": "a8c153d2-66ff-46d9-b5f3-77ec5d810f8b"
      },
      "execution_count": null,
      "outputs": [
        {
          "output_type": "stream",
          "name": "stderr",
          "text": [
            "/usr/local/lib/python3.7/dist-packages/sklearn/utils/deprecation.py:87: FutureWarning: Function get_feature_names is deprecated; get_feature_names is deprecated in 1.0 and will be removed in 1.2. Please use get_feature_names_out instead.\n",
            "  warnings.warn(msg, category=FutureWarning)\n"
          ]
        },
        {
          "output_type": "execute_result",
          "data": {
            "text/plain": [
              "<IPython.core.display.HTML object>"
            ],
            "text/html": [
              "\n",
              "    <style>\n",
              "    table.eli5-weights tr:hover {\n",
              "        filter: brightness(85%);\n",
              "    }\n",
              "</style>\n",
              "\n",
              "\n",
              "\n",
              "    \n",
              "\n",
              "    \n",
              "\n",
              "    \n",
              "\n",
              "    \n",
              "\n",
              "    \n",
              "\n",
              "    \n",
              "\n",
              "\n",
              "    \n",
              "\n",
              "    \n",
              "\n",
              "    \n",
              "\n",
              "    \n",
              "        \n",
              "\n",
              "    \n",
              "\n",
              "        \n",
              "\n",
              "        \n",
              "    \n",
              "        \n",
              "        \n",
              "    \n",
              "        <p style=\"margin-bottom: 0.5em; margin-top: 0em\">\n",
              "            <b>\n",
              "    \n",
              "        y=positive\n",
              "    \n",
              "</b>\n",
              "\n",
              "    \n",
              "    (probability <b>0.685</b>, score <b>0.776</b>)\n",
              "\n",
              "top features\n",
              "        </p>\n",
              "    \n",
              "    <table class=\"eli5-weights\"\n",
              "           style=\"border-collapse: collapse; border: none; margin-top: 0em; table-layout: auto; margin-bottom: 2em;\">\n",
              "        <thead>\n",
              "        <tr style=\"border: none;\">\n",
              "            \n",
              "                <th style=\"padding: 0 1em 0 0.5em; text-align: right; border: none;\" title=\"Feature contribution already accounts for the feature value (for linear models, contribution = weight * feature value), and the sum of feature contributions is equal to the score or, for some classifiers, to the probability. Feature values are shown if &quot;show_feature_values&quot; is True.\">\n",
              "                    Contribution<sup>?</sup>\n",
              "                </th>\n",
              "            \n",
              "            <th style=\"padding: 0 0.5em 0 0.5em; text-align: left; border: none;\">Feature</th>\n",
              "            \n",
              "        </tr>\n",
              "        </thead>\n",
              "        <tbody>\n",
              "        \n",
              "            <tr style=\"background-color: hsl(120, 100.00%, 80.00%); border: none;\">\n",
              "    <td style=\"padding: 0 1em 0 0.5em; text-align: right; border: none;\">\n",
              "        +0.792\n",
              "    </td>\n",
              "    <td style=\"padding: 0 0.5em 0 0.5em; text-align: left; border: none;\">\n",
              "        Highlighted in text (sum)\n",
              "    </td>\n",
              "    \n",
              "</tr>\n",
              "        \n",
              "        \n",
              "\n",
              "        \n",
              "        \n",
              "            <tr style=\"background-color: hsl(0, 100.00%, 98.67%); border: none;\">\n",
              "    <td style=\"padding: 0 1em 0 0.5em; text-align: right; border: none;\">\n",
              "        -0.016\n",
              "    </td>\n",
              "    <td style=\"padding: 0 0.5em 0 0.5em; text-align: left; border: none;\">\n",
              "        &lt;BIAS&gt;\n",
              "    </td>\n",
              "    \n",
              "</tr>\n",
              "        \n",
              "\n",
              "        </tbody>\n",
              "    </table>\n",
              "\n",
              "    \n",
              "\n",
              "\n",
              "\n",
              "    <p style=\"margin-bottom: 2.5em; margin-top:-0.5em;\">\n",
              "        <span style=\"opacity: 0.80\">i </span><span style=\"background-color: hsl(0, 100.00%, 97.65%); opacity: 0.80\" title=\"-0.024\">saw</span><span style=\"opacity: 0.80\"> a </span><span style=\"background-color: hsl(0, 100.00%, 97.51%); opacity: 0.80\" title=\"-0.026\">sneak</span><span style=\"opacity: 0.80\"> </span><span style=\"background-color: hsl(0, 100.00%, 90.07%); opacity: 0.83\" title=\"-0.190\">preview</span><span style=\"opacity: 0.80\"> </span><span style=\"background-color: hsl(0, 100.00%, 94.94%); opacity: 0.81\" title=\"-0.073\">of</span><span style=\"opacity: 0.80\"> </span><span style=\"background-color: hsl(0, 100.00%, 95.86%); opacity: 0.81\" title=\"-0.055\">this</span><span style=\"opacity: 0.80\"> </span><span style=\"background-color: hsl(120, 100.00%, 90.19%); opacity: 0.83\" title=\"0.187\">tuesday</span><span style=\"opacity: 0.80\"> </span><span style=\"background-color: hsl(0, 100.00%, 98.25%); opacity: 0.80\" title=\"-0.016\">night</span><span style=\"opacity: 0.80\"> </span><span style=\"background-color: hsl(120, 100.00%, 98.62%); opacity: 0.80\" title=\"0.011\">with</span><span style=\"opacity: 0.80\"> a </span><span style=\"background-color: hsl(0, 100.00%, 84.61%); opacity: 0.85\" title=\"-0.356\">group</span><span style=\"opacity: 0.80\"> </span><span style=\"background-color: hsl(0, 100.00%, 94.94%); opacity: 0.81\" title=\"-0.073\">of</span><span style=\"opacity: 0.80\"> </span><span style=\"background-color: hsl(120, 100.00%, 88.62%); opacity: 0.83\" title=\"0.231\">friends</span><span style=\"opacity: 0.80\"> </span><span style=\"background-color: hsl(120, 100.00%, 93.56%); opacity: 0.81\" title=\"0.102\">and</span><span style=\"opacity: 0.80\"> </span><span style=\"background-color: hsl(120, 100.00%, 96.29%); opacity: 0.81\" title=\"0.047\">we</span><span style=\"opacity: 0.80\"> </span><span style=\"background-color: hsl(0, 100.00%, 96.61%); opacity: 0.81\" title=\"-0.041\">had</span><span style=\"opacity: 0.80\"> a </span><span style=\"background-color: hsl(120, 100.00%, 88.29%); opacity: 0.83\" title=\"0.241\">blast</span><span style=\"opacity: 0.80\">! </span><span style=\"background-color: hsl(0, 100.00%, 96.94%); opacity: 0.81\" title=\"-0.035\">after</span><span style=\"opacity: 0.80\"> </span><span style=\"background-color: hsl(120, 100.00%, 85.56%); opacity: 0.85\" title=\"0.325\">seeing</span><span style=\"opacity: 0.80\"> </span><span style=\"background-color: hsl(0, 100.00%, 97.51%); opacity: 0.80\" title=\"-0.026\">sneak</span><span style=\"opacity: 0.80\"> </span><span style=\"background-color: hsl(120, 100.00%, 92.91%); opacity: 0.82\" title=\"0.118\">peaks</span><span style=\"opacity: 0.80\"> </span><span style=\"background-color: hsl(0, 100.00%, 93.29%); opacity: 0.82\" title=\"-0.109\">for</span><span style=\"opacity: 0.80\"> </span><span style=\"background-color: hsl(0, 100.00%, 95.94%); opacity: 0.81\" title=\"-0.053\">boogeyman</span><span style=\"opacity: 0.80\"> (</span><span style=\"background-color: hsl(0, 100.00%, 60.00%); opacity: 1.00\" title=\"-1.393\">horrible</span><span style=\"opacity: 0.80\">! 3/</span><span style=\"background-color: hsl(120, 100.00%, 90.76%); opacity: 0.82\" title=\"0.172\">10</span><span style=\"opacity: 0.80\">) </span><span style=\"background-color: hsl(120, 100.00%, 93.56%); opacity: 0.81\" title=\"0.102\">and</span><span style=\"opacity: 0.80\"> </span><span style=\"background-color: hsl(120, 100.00%, 93.69%); opacity: 0.81\" title=\"0.100\">amityville</span><span style=\"opacity: 0.80\"> </span><span style=\"background-color: hsl(0, 100.00%, 78.66%); opacity: 0.88\" title=\"-0.568\">remake</span><span style=\"opacity: 0.80\"> (</span><span style=\"background-color: hsl(120, 100.00%, 95.51%); opacity: 0.81\" title=\"0.061\">so</span><span style=\"opacity: 0.80\">-</span><span style=\"background-color: hsl(120, 100.00%, 95.51%); opacity: 0.81\" title=\"0.061\">so</span><span style=\"opacity: 0.80\"> 6/</span><span style=\"background-color: hsl(120, 100.00%, 90.76%); opacity: 0.82\" title=\"0.172\">10</span><span style=\"opacity: 0.80\">) i </span><span style=\"background-color: hsl(120, 100.00%, 67.21%); opacity: 0.95\" title=\"1.048\">enjoyed</span><span style=\"opacity: 0.80\"> </span><span style=\"background-color: hsl(0, 100.00%, 95.86%); opacity: 0.81\" title=\"-0.055\">this</span><span style=\"opacity: 0.80\"> a </span><span style=\"background-color: hsl(120, 100.00%, 84.11%); opacity: 0.85\" title=\"0.372\">lot</span><span style=\"opacity: 0.80\"> </span><span style=\"background-color: hsl(120, 100.00%, 92.47%); opacity: 0.82\" title=\"0.128\">more</span><span style=\"opacity: 0.80\">! </span><span style=\"background-color: hsl(120, 100.00%, 96.11%); opacity: 0.81\" title=\"0.050\">as</span><span style=\"opacity: 0.80\"> </span><span style=\"background-color: hsl(120, 100.00%, 90.43%); opacity: 0.83\" title=\"0.181\">seen</span><span style=\"opacity: 0.80\"> </span><span style=\"background-color: hsl(120, 100.00%, 98.96%); opacity: 0.80\" title=\"0.008\">in</span><span style=\"opacity: 0.80\"> </span><span style=\"background-color: hsl(120, 100.00%, 97.22%); opacity: 0.80\" title=\"0.031\">the</span><span style=\"opacity: 0.80\"> </span><span style=\"background-color: hsl(120, 100.00%, 84.28%); opacity: 0.85\" title=\"0.367\">trailer</span><span style=\"opacity: 0.80\">, </span><span style=\"background-color: hsl(0, 100.00%, 93.80%); opacity: 0.81\" title=\"-0.097\">one</span><span style=\"opacity: 0.80\"> </span><span style=\"background-color: hsl(120, 100.00%, 86.58%); opacity: 0.84\" title=\"0.292\">knock</span><span style=\"opacity: 0.80\"> i </span><span style=\"background-color: hsl(0, 100.00%, 96.61%); opacity: 0.81\" title=\"-0.041\">had</span><span style=\"opacity: 0.80\"> </span><span style=\"background-color: hsl(0, 100.00%, 97.01%); opacity: 0.80\" title=\"-0.034\">was</span><span style=\"opacity: 0.80\"> </span><span style=\"background-color: hsl(0, 100.00%, 95.74%); opacity: 0.81\" title=\"-0.057\">believing</span><span style=\"opacity: 0.80\"> </span><span style=\"background-color: hsl(120, 100.00%, 98.93%); opacity: 0.80\" title=\"0.008\">that</span><span style=\"opacity: 0.80\"> a </span><span style=\"background-color: hsl(0, 100.00%, 88.07%); opacity: 0.84\" title=\"-0.247\">whole</span><span style=\"opacity: 0.80\"> </span><span style=\"background-color: hsl(0, 100.00%, 95.53%); opacity: 0.81\" title=\"-0.061\">town</span><span style=\"opacity: 0.80\"> </span><span style=\"background-color: hsl(0, 100.00%, 89.00%); opacity: 0.83\" title=\"-0.220\">could</span><span style=\"opacity: 0.80\"> </span><span style=\"background-color: hsl(0, 100.00%, 93.94%); opacity: 0.81\" title=\"-0.094\">be</span><span style=\"opacity: 0.80\"> &quot;</span><span style=\"background-color: hsl(0, 100.00%, 81.98%); opacity: 0.86\" title=\"-0.446\">forgotten</span><span style=\"opacity: 0.80\">&quot; </span><span style=\"background-color: hsl(0, 100.00%, 93.12%); opacity: 0.82\" title=\"-0.113\">but</span><span style=\"opacity: 0.80\"> </span><span style=\"background-color: hsl(0, 100.00%, 95.86%); opacity: 0.81\" title=\"-0.055\">this</span><span style=\"opacity: 0.80\"> </span><span style=\"background-color: hsl(120, 100.00%, 95.01%); opacity: 0.81\" title=\"0.071\">is</span><span style=\"opacity: 0.80\"> a </span><span style=\"background-color: hsl(0, 100.00%, 90.25%); opacity: 0.83\" title=\"-0.186\">cheesy</span><span style=\"opacity: 0.80\"> </span><span style=\"background-color: hsl(0, 100.00%, 84.55%); opacity: 0.85\" title=\"-0.358\">popcorn</span><span style=\"opacity: 0.80\"> </span><span style=\"background-color: hsl(0, 100.00%, 88.74%); opacity: 0.83\" title=\"-0.228\">horror</span><span style=\"opacity: 0.80\"> </span><span style=\"background-color: hsl(120, 100.00%, 96.96%); opacity: 0.81\" title=\"0.035\">movie</span><span style=\"opacity: 0.80\"> </span><span style=\"background-color: hsl(120, 100.00%, 95.51%); opacity: 0.81\" title=\"0.061\">so</span><span style=\"opacity: 0.80\"> i </span><span style=\"background-color: hsl(120, 100.00%, 93.33%); opacity: 0.82\" title=\"0.108\">accept</span><span style=\"opacity: 0.80\"> </span><span style=\"background-color: hsl(120, 100.00%, 90.84%); opacity: 0.82\" title=\"0.169\">it</span><span style=\"opacity: 0.80\"> </span><span style=\"background-color: hsl(0, 100.00%, 93.29%); opacity: 0.82\" title=\"-0.109\">for</span><span style=\"opacity: 0.80\"> </span><span style=\"background-color: hsl(120, 100.00%, 95.55%); opacity: 0.81\" title=\"0.060\">what</span><span style=\"opacity: 0.80\"> </span><span style=\"background-color: hsl(120, 100.00%, 90.84%); opacity: 0.82\" title=\"0.169\">it</span><span style=\"opacity: 0.80\"> </span><span style=\"background-color: hsl(120, 100.00%, 95.01%); opacity: 0.81\" title=\"0.071\">is</span><span style=\"opacity: 0.80\">.  </span><span style=\"background-color: hsl(120, 100.00%, 93.47%); opacity: 0.82\" title=\"0.105\">my</span><span style=\"opacity: 0.80\"> </span><span style=\"background-color: hsl(0, 100.00%, 91.77%); opacity: 0.82\" title=\"-0.145\">only</span><span style=\"opacity: 0.80\"> </span><span style=\"background-color: hsl(0, 100.00%, 78.82%); opacity: 0.88\" title=\"-0.562\">major</span><span style=\"opacity: 0.80\"> </span><span style=\"background-color: hsl(120, 100.00%, 74.62%); opacity: 0.90\" title=\"0.727\">complaint</span><span style=\"opacity: 0.80\"> </span><span style=\"background-color: hsl(120, 100.00%, 95.01%); opacity: 0.81\" title=\"0.071\">is</span><span style=\"opacity: 0.80\"> i </span><span style=\"background-color: hsl(0, 100.00%, 93.82%); opacity: 0.81\" title=\"-0.097\">assumed</span><span style=\"opacity: 0.80\"> </span><span style=\"background-color: hsl(0, 100.00%, 94.60%); opacity: 0.81\" title=\"-0.080\">paris</span><span style=\"opacity: 0.80\"> </span><span style=\"background-color: hsl(120, 100.00%, 95.24%); opacity: 0.81\" title=\"0.066\">hilton</span><span style=\"opacity: 0.80\"> </span><span style=\"background-color: hsl(0, 100.00%, 86.29%); opacity: 0.84\" title=\"-0.302\">would</span><span style=\"opacity: 0.80\"> </span><span style=\"background-color: hsl(0, 100.00%, 96.57%); opacity: 0.81\" title=\"-0.042\">touch</span><span style=\"opacity: 0.80\"> </span><span style=\"background-color: hsl(120, 100.00%, 86.55%); opacity: 0.84\" title=\"0.294\">wax</span><span style=\"opacity: 0.80\"> </span><span style=\"background-color: hsl(0, 100.00%, 96.74%); opacity: 0.81\" title=\"-0.039\">or</span><span style=\"opacity: 0.80\"> </span><span style=\"background-color: hsl(120, 100.00%, 91.99%); opacity: 0.82\" title=\"0.140\">get</span><span style=\"opacity: 0.80\"> </span><span style=\"background-color: hsl(0, 100.00%, 98.18%); opacity: 0.80\" title=\"-0.017\">dipped</span><span style=\"opacity: 0.80\"> </span><span style=\"background-color: hsl(120, 100.00%, 93.56%); opacity: 0.81\" title=\"0.102\">etc</span><span style=\"opacity: 0.80\">. </span><span style=\"background-color: hsl(120, 100.00%, 93.56%); opacity: 0.81\" title=\"0.102\">and</span><span style=\"opacity: 0.80\"> </span><span style=\"background-color: hsl(120, 100.00%, 90.98%); opacity: 0.82\" title=\"0.166\">moan</span><span style=\"opacity: 0.80\"> &quot;</span><span style=\"background-color: hsl(120, 100.00%, 98.93%); opacity: 0.80\" title=\"0.008\">that</span><span style=\"opacity: 0.80\">&#x27;s </span><span style=\"background-color: hsl(120, 100.00%, 81.01%); opacity: 0.87\" title=\"0.480\">hot</span><span style=\"opacity: 0.80\">&quot; </span><span style=\"background-color: hsl(0, 100.00%, 93.12%); opacity: 0.82\" title=\"-0.113\">but</span><span style=\"opacity: 0.80\"> </span><span style=\"background-color: hsl(0, 100.00%, 98.85%); opacity: 0.80\" title=\"-0.009\">they</span><span style=\"opacity: 0.80\"> </span><span style=\"background-color: hsl(0, 100.00%, 87.74%); opacity: 0.84\" title=\"-0.257\">didn</span><span style=\"opacity: 0.80\">&#x27;t </span><span style=\"background-color: hsl(0, 100.00%, 96.85%); opacity: 0.81\" title=\"-0.037\">do</span><span style=\"opacity: 0.80\"> </span><span style=\"background-color: hsl(120, 100.00%, 98.93%); opacity: 0.80\" title=\"0.008\">that</span><span style=\"opacity: 0.80\"> (</span><span style=\"background-color: hsl(0, 100.00%, 94.87%); opacity: 0.81\" title=\"-0.074\">how</span><span style=\"opacity: 0.80\"> </span><span style=\"background-color: hsl(0, 100.00%, 89.00%); opacity: 0.83\" title=\"-0.220\">could</span><span style=\"opacity: 0.80\"> </span><span style=\"background-color: hsl(0, 100.00%, 98.85%); opacity: 0.80\" title=\"-0.009\">they</span><span style=\"opacity: 0.80\"> </span><span style=\"background-color: hsl(0, 100.00%, 84.57%); opacity: 0.85\" title=\"-0.357\">resist</span><span style=\"opacity: 0.80\">???).  </span><span style=\"background-color: hsl(0, 100.00%, 94.06%); opacity: 0.81\" title=\"-0.091\">there</span><span style=\"opacity: 0.80\"> </span><span style=\"background-color: hsl(120, 100.00%, 95.01%); opacity: 0.81\" title=\"0.071\">is</span><span style=\"opacity: 0.80\"> </span><span style=\"background-color: hsl(0, 100.00%, 87.37%); opacity: 0.84\" title=\"-0.268\">no</span><span style=\"opacity: 0.80\"> </span><span style=\"background-color: hsl(0, 100.00%, 78.25%); opacity: 0.88\" title=\"-0.583\">nudity</span><span style=\"opacity: 0.80\"> </span><span style=\"background-color: hsl(0, 100.00%, 98.49%); opacity: 0.80\" title=\"-0.013\">from</span><span style=\"opacity: 0.80\"> </span><span style=\"background-color: hsl(120, 100.00%, 97.22%); opacity: 0.80\" title=\"0.031\">the</span><span style=\"opacity: 0.80\"> 2 </span><span style=\"background-color: hsl(0, 100.00%, 89.71%); opacity: 0.83\" title=\"-0.200\">girls</span><span style=\"opacity: 0.80\"> </span><span style=\"background-color: hsl(120, 100.00%, 93.06%); opacity: 0.82\" title=\"0.114\">although</span><span style=\"opacity: 0.80\"> </span><span style=\"background-color: hsl(0, 100.00%, 94.60%); opacity: 0.81\" title=\"-0.080\">paris</span><span style=\"opacity: 0.80\"> </span><span style=\"background-color: hsl(0, 100.00%, 74.84%); opacity: 0.90\" title=\"-0.718\">looks</span><span style=\"opacity: 0.80\"> </span><span style=\"background-color: hsl(120, 100.00%, 72.42%); opacity: 0.92\" title=\"0.819\">great</span><span style=\"opacity: 0.80\"> </span><span style=\"background-color: hsl(120, 100.00%, 98.96%); opacity: 0.80\" title=\"0.008\">in</span><span style=\"opacity: 0.80\"> </span><span style=\"background-color: hsl(120, 100.00%, 98.78%); opacity: 0.80\" title=\"0.010\">her</span><span style=\"opacity: 0.80\"> </span><span style=\"background-color: hsl(0, 100.00%, 93.31%); opacity: 0.82\" title=\"-0.108\">lingerie</span><span style=\"opacity: 0.80\">! i&#x27;m </span><span style=\"background-color: hsl(120, 100.00%, 71.46%); opacity: 0.92\" title=\"0.860\">surprised</span><span style=\"opacity: 0.80\"> </span><span style=\"background-color: hsl(0, 100.00%, 98.85%); opacity: 0.80\" title=\"-0.009\">they</span><span style=\"opacity: 0.80\"> </span><span style=\"background-color: hsl(0, 100.00%, 87.74%); opacity: 0.84\" title=\"-0.257\">didn</span><span style=\"opacity: 0.80\">&#x27;t </span><span style=\"background-color: hsl(120, 100.00%, 88.59%); opacity: 0.83\" title=\"0.232\">put</span><span style=\"opacity: 0.80\"> a </span><span style=\"background-color: hsl(0, 100.00%, 88.38%); opacity: 0.83\" title=\"-0.238\">3rd</span><span style=\"opacity: 0.80\"> &quot;</span><span style=\"background-color: hsl(120, 100.00%, 81.01%); opacity: 0.87\" title=\"0.480\">hot</span><span style=\"opacity: 0.80\"> </span><span style=\"background-color: hsl(120, 100.00%, 88.73%); opacity: 0.83\" title=\"0.228\">token</span><span style=\"opacity: 0.80\"> </span><span style=\"background-color: hsl(0, 100.00%, 88.69%); opacity: 0.83\" title=\"-0.229\">victim</span><span style=\"opacity: 0.80\">&quot; </span><span style=\"background-color: hsl(120, 100.00%, 98.96%); opacity: 0.80\" title=\"0.008\">in</span><span style=\"opacity: 0.80\"> </span><span style=\"background-color: hsl(120, 100.00%, 97.22%); opacity: 0.80\" title=\"0.031\">the</span><span style=\"opacity: 0.80\"> </span><span style=\"background-color: hsl(120, 100.00%, 96.96%); opacity: 0.81\" title=\"0.035\">movie</span><span style=\"opacity: 0.80\"> </span><span style=\"background-color: hsl(0, 100.00%, 93.29%); opacity: 0.82\" title=\"-0.109\">for</span><span style=\"opacity: 0.80\"> </span><span style=\"background-color: hsl(120, 100.00%, 93.69%); opacity: 0.81\" title=\"0.099\">some</span><span style=\"opacity: 0.80\"> </span><span style=\"background-color: hsl(0, 100.00%, 95.50%); opacity: 0.81\" title=\"-0.061\">needless</span><span style=\"opacity: 0.80\"> </span><span style=\"background-color: hsl(0, 100.00%, 78.25%); opacity: 0.88\" title=\"-0.583\">nudity</span><span style=\"opacity: 0.80\"> </span><span style=\"background-color: hsl(120, 100.00%, 97.77%); opacity: 0.80\" title=\"0.022\">which</span><span style=\"opacity: 0.80\"> </span><span style=\"background-color: hsl(120, 100.00%, 95.01%); opacity: 0.81\" title=\"0.071\">is</span><span style=\"opacity: 0.80\"> </span><span style=\"background-color: hsl(120, 100.00%, 97.22%); opacity: 0.80\" title=\"0.031\">the</span><span style=\"opacity: 0.80\"> </span><span style=\"background-color: hsl(0, 100.00%, 85.72%); opacity: 0.85\" title=\"-0.320\">norm</span><span style=\"opacity: 0.80\"> </span><span style=\"background-color: hsl(0, 100.00%, 93.29%); opacity: 0.82\" title=\"-0.109\">for</span><span style=\"opacity: 0.80\"> </span><span style=\"background-color: hsl(0, 100.00%, 95.86%); opacity: 0.81\" title=\"-0.055\">this</span><span style=\"opacity: 0.80\"> </span><span style=\"background-color: hsl(120, 100.00%, 89.42%); opacity: 0.83\" title=\"0.208\">type</span><span style=\"opacity: 0.80\"> </span><span style=\"background-color: hsl(0, 100.00%, 94.94%); opacity: 0.81\" title=\"-0.073\">of</span><span style=\"opacity: 0.80\"> </span><span style=\"background-color: hsl(120, 100.00%, 88.53%); opacity: 0.83\" title=\"0.234\">flick</span><span style=\"opacity: 0.80\">! i </span><span style=\"background-color: hsl(0, 100.00%, 89.80%); opacity: 0.83\" title=\"-0.198\">won</span><span style=\"opacity: 0.80\">&#x27;t </span><span style=\"background-color: hsl(120, 100.00%, 91.52%); opacity: 0.82\" title=\"0.152\">list</span><span style=\"opacity: 0.80\"> </span><span style=\"background-color: hsl(0, 100.00%, 92.04%); opacity: 0.82\" title=\"-0.139\">any</span><span style=\"opacity: 0.80\"> </span><span style=\"background-color: hsl(120, 100.00%, 91.91%); opacity: 0.82\" title=\"0.142\">death</span><span style=\"opacity: 0.80\"> </span><span style=\"background-color: hsl(0, 100.00%, 96.74%); opacity: 0.81\" title=\"-0.039\">or</span><span style=\"opacity: 0.80\"> </span><span style=\"background-color: hsl(0, 100.00%, 88.09%); opacity: 0.84\" title=\"-0.247\">plot</span><span style=\"opacity: 0.80\"> </span><span style=\"background-color: hsl(120, 100.00%, 89.34%); opacity: 0.83\" title=\"0.210\">spoilers</span><span style=\"opacity: 0.80\"> </span><span style=\"background-color: hsl(0, 100.00%, 93.12%); opacity: 0.82\" title=\"-0.113\">but</span><span style=\"opacity: 0.80\"> i </span><span style=\"background-color: hsl(120, 100.00%, 90.37%); opacity: 0.83\" title=\"0.182\">will</span><span style=\"opacity: 0.80\"> </span><span style=\"background-color: hsl(0, 100.00%, 95.53%); opacity: 0.81\" title=\"-0.061\">say</span><span style=\"opacity: 0.80\"> </span><span style=\"background-color: hsl(120, 100.00%, 98.93%); opacity: 0.80\" title=\"0.008\">that</span><span style=\"opacity: 0.80\"> </span><span style=\"background-color: hsl(0, 100.00%, 94.60%); opacity: 0.81\" title=\"-0.080\">paris</span><span style=\"opacity: 0.80\"> &amp; </span><span style=\"background-color: hsl(0, 100.00%, 95.71%); opacity: 0.81\" title=\"-0.057\">eliza</span><span style=\"opacity: 0.80\"> </span><span style=\"background-color: hsl(120, 100.00%, 85.42%); opacity: 0.85\" title=\"0.329\">both</span><span style=\"opacity: 0.80\"> </span><span style=\"background-color: hsl(120, 100.00%, 91.99%); opacity: 0.82\" title=\"0.140\">get</span><span style=\"opacity: 0.80\"> </span><span style=\"background-color: hsl(120, 100.00%, 99.87%); opacity: 0.80\" title=\"0.000\">roughed</span><span style=\"opacity: 0.80\"> </span><span style=\"background-color: hsl(120, 100.00%, 93.75%); opacity: 0.81\" title=\"0.098\">up</span><span style=\"opacity: 0.80\"> </span><span style=\"background-color: hsl(120, 100.00%, 87.28%); opacity: 0.84\" title=\"0.271\">good</span><span style=\"opacity: 0.80\">!   </span><span style=\"background-color: hsl(120, 100.00%, 97.22%); opacity: 0.80\" title=\"0.031\">the</span><span style=\"opacity: 0.80\"> </span><span style=\"background-color: hsl(0, 100.00%, 93.39%); opacity: 0.82\" title=\"-0.106\">characters</span><span style=\"opacity: 0.80\"> </span><span style=\"background-color: hsl(0, 100.00%, 93.79%); opacity: 0.81\" title=\"-0.097\">are</span><span style=\"opacity: 0.80\"> </span><span style=\"background-color: hsl(120, 100.00%, 88.69%); opacity: 0.83\" title=\"0.229\">developed</span><span style=\"opacity: 0.80\"> </span><span style=\"background-color: hsl(0, 100.00%, 97.09%); opacity: 0.80\" title=\"-0.033\">decently</span><span style=\"opacity: 0.80\"> </span><span style=\"background-color: hsl(120, 100.00%, 93.56%); opacity: 0.81\" title=\"0.102\">and</span><span style=\"opacity: 0.80\"> </span><span style=\"background-color: hsl(0, 100.00%, 93.79%); opacity: 0.81\" title=\"-0.097\">are</span><span style=\"opacity: 0.80\"> </span><span style=\"background-color: hsl(120, 100.00%, 84.49%); opacity: 0.85\" title=\"0.360\">somewhat</span><span style=\"opacity: 0.80\"> </span><span style=\"background-color: hsl(120, 100.00%, 74.79%); opacity: 0.90\" title=\"0.720\">likable</span><span style=\"opacity: 0.80\"> (</span><span style=\"background-color: hsl(0, 100.00%, 89.12%); opacity: 0.83\" title=\"-0.217\">not</span><span style=\"opacity: 0.80\"> </span><span style=\"background-color: hsl(120, 100.00%, 97.21%); opacity: 0.80\" title=\"0.031\">like</span><span style=\"opacity: 0.80\"> </span><span style=\"background-color: hsl(120, 100.00%, 96.09%); opacity: 0.81\" title=\"0.050\">cabin</span><span style=\"opacity: 0.80\"> </span><span style=\"background-color: hsl(120, 100.00%, 87.77%); opacity: 0.84\" title=\"0.256\">fever</span><span style=\"opacity: 0.80\"> </span><span style=\"background-color: hsl(0, 100.00%, 99.27%); opacity: 0.80\" title=\"-0.005\">where</span><span style=\"opacity: 0.80\"> </span><span style=\"background-color: hsl(120, 100.00%, 87.34%); opacity: 0.84\" title=\"0.269\">you</span><span style=\"opacity: 0.80\"> </span><span style=\"background-color: hsl(0, 100.00%, 90.95%); opacity: 0.82\" title=\"-0.167\">wanted</span><span style=\"opacity: 0.80\"> </span><span style=\"background-color: hsl(120, 100.00%, 99.68%); opacity: 0.80\" title=\"0.001\">them</span><span style=\"opacity: 0.80\"> </span><span style=\"background-color: hsl(120, 100.00%, 98.36%); opacity: 0.80\" title=\"0.014\">to</span><span style=\"opacity: 0.80\"> </span><span style=\"background-color: hsl(0, 100.00%, 90.39%); opacity: 0.83\" title=\"-0.182\">die</span><span style=\"opacity: 0.80\">) </span><span style=\"background-color: hsl(120, 100.00%, 93.56%); opacity: 0.81\" title=\"0.102\">and</span><span style=\"opacity: 0.80\"> </span><span style=\"background-color: hsl(120, 100.00%, 97.22%); opacity: 0.80\" title=\"0.031\">the</span><span style=\"opacity: 0.80\"> </span><span style=\"background-color: hsl(120, 100.00%, 96.96%); opacity: 0.81\" title=\"0.035\">movie</span><span style=\"opacity: 0.80\"> </span><span style=\"background-color: hsl(120, 100.00%, 97.58%); opacity: 0.80\" title=\"0.025\">has</span><span style=\"opacity: 0.80\"> a </span><span style=\"background-color: hsl(0, 100.00%, 85.98%); opacity: 0.84\" title=\"-0.312\">decent</span><span style=\"opacity: 0.80\"> </span><span style=\"background-color: hsl(120, 100.00%, 73.88%); opacity: 0.91\" title=\"0.757\">pace</span><span style=\"opacity: 0.80\"> </span><span style=\"background-color: hsl(120, 100.00%, 93.06%); opacity: 0.82\" title=\"0.114\">although</span><span style=\"opacity: 0.80\"> </span><span style=\"background-color: hsl(0, 100.00%, 74.38%); opacity: 0.91\" title=\"-0.737\">nothing</span><span style=\"opacity: 0.80\"> </span><span style=\"background-color: hsl(0, 100.00%, 89.74%); opacity: 0.83\" title=\"-0.199\">happens</span><span style=\"opacity: 0.80\"> </span><span style=\"background-color: hsl(120, 100.00%, 98.96%); opacity: 0.80\" title=\"0.008\">in</span><span style=\"opacity: 0.80\"> </span><span style=\"background-color: hsl(120, 100.00%, 97.22%); opacity: 0.80\" title=\"0.031\">the</span><span style=\"opacity: 0.80\"> </span><span style=\"background-color: hsl(0, 100.00%, 86.50%); opacity: 0.84\" title=\"-0.295\">1st</span><span style=\"opacity: 0.80\"> </span><span style=\"background-color: hsl(0, 100.00%, 94.09%); opacity: 0.81\" title=\"-0.091\">30</span><span style=\"opacity: 0.80\"> </span><span style=\"background-color: hsl(0, 100.00%, 79.14%); opacity: 0.88\" title=\"-0.549\">minutes</span><span style=\"opacity: 0.80\"> </span><span style=\"background-color: hsl(120, 100.00%, 97.21%); opacity: 0.80\" title=\"0.031\">like</span><span style=\"opacity: 0.80\"> </span><span style=\"background-color: hsl(120, 100.00%, 84.08%); opacity: 0.85\" title=\"0.374\">most</span><span style=\"opacity: 0.80\"> </span><span style=\"background-color: hsl(0, 100.00%, 88.74%); opacity: 0.83\" title=\"-0.228\">horror</span><span style=\"opacity: 0.80\"> </span><span style=\"background-color: hsl(0, 100.00%, 90.33%); opacity: 0.83\" title=\"-0.183\">films</span><span style=\"opacity: 0.80\">.  i </span><span style=\"background-color: hsl(0, 100.00%, 94.74%); opacity: 0.81\" title=\"-0.077\">give</span><span style=\"opacity: 0.80\"> </span><span style=\"background-color: hsl(120, 100.00%, 90.84%); opacity: 0.82\" title=\"0.169\">it</span><span style=\"opacity: 0.80\"> a 8/</span><span style=\"background-color: hsl(120, 100.00%, 90.76%); opacity: 0.82\" title=\"0.172\">10</span><span style=\"opacity: 0.80\"> </span><span style=\"background-color: hsl(120, 100.00%, 96.11%); opacity: 0.81\" title=\"0.050\">as</span><span style=\"opacity: 0.80\"> </span><span style=\"background-color: hsl(120, 100.00%, 90.84%); opacity: 0.82\" title=\"0.169\">it</span><span style=\"opacity: 0.80\"> </span><span style=\"background-color: hsl(120, 100.00%, 85.61%); opacity: 0.85\" title=\"0.323\">delivered</span><span style=\"opacity: 0.80\"> </span><span style=\"background-color: hsl(120, 100.00%, 87.28%); opacity: 0.84\" title=\"0.271\">good</span><span style=\"opacity: 0.80\"> </span><span style=\"background-color: hsl(0, 100.00%, 92.67%); opacity: 0.82\" title=\"-0.123\">scares</span><span style=\"opacity: 0.80\"> </span><span style=\"background-color: hsl(120, 100.00%, 93.56%); opacity: 0.81\" title=\"0.102\">and</span><span style=\"opacity: 0.80\"> </span><span style=\"background-color: hsl(0, 100.00%, 88.10%); opacity: 0.84\" title=\"-0.246\">gore</span><span style=\"opacity: 0.80\"> </span><span style=\"background-color: hsl(120, 100.00%, 93.56%); opacity: 0.81\" title=\"0.102\">and</span><span style=\"opacity: 0.80\"> i </span><span style=\"background-color: hsl(0, 100.00%, 96.61%); opacity: 0.81\" title=\"-0.041\">had</span><span style=\"opacity: 0.80\"> </span><span style=\"background-color: hsl(0, 100.00%, 90.56%); opacity: 0.83\" title=\"-0.177\">low</span><span style=\"opacity: 0.80\"> </span><span style=\"background-color: hsl(0, 100.00%, 82.20%); opacity: 0.86\" title=\"-0.438\">expectations</span><span style=\"opacity: 0.80\"> </span><span style=\"background-color: hsl(0, 100.00%, 89.48%); opacity: 0.83\" title=\"-0.207\">going</span><span style=\"opacity: 0.80\"> </span><span style=\"background-color: hsl(120, 100.00%, 96.77%); opacity: 0.81\" title=\"0.038\">into</span><span style=\"opacity: 0.80\"> </span><span style=\"background-color: hsl(120, 100.00%, 90.84%); opacity: 0.82\" title=\"0.169\">it</span><span style=\"opacity: 0.80\">. </span><span style=\"background-color: hsl(0, 100.00%, 92.60%); opacity: 0.82\" title=\"-0.125\">if</span><span style=\"opacity: 0.80\"> </span><span style=\"background-color: hsl(120, 100.00%, 87.34%); opacity: 0.84\" title=\"0.269\">you</span><span style=\"opacity: 0.80\"> </span><span style=\"background-color: hsl(120, 100.00%, 97.70%); opacity: 0.80\" title=\"0.024\">go</span><span style=\"opacity: 0.80\"> </span><span style=\"background-color: hsl(120, 100.00%, 98.62%); opacity: 0.80\" title=\"0.011\">with</span><span style=\"opacity: 0.80\"> </span><span style=\"background-color: hsl(120, 100.00%, 93.69%); opacity: 0.81\" title=\"0.099\">some</span><span style=\"opacity: 0.80\"> </span><span style=\"background-color: hsl(120, 100.00%, 88.62%); opacity: 0.83\" title=\"0.231\">friends</span><span style=\"opacity: 0.80\"> </span><span style=\"background-color: hsl(120, 100.00%, 98.93%); opacity: 0.80\" title=\"0.008\">that</span><span style=\"opacity: 0.80\"> </span><span style=\"background-color: hsl(120, 100.00%, 97.21%); opacity: 0.80\" title=\"0.031\">like</span><span style=\"opacity: 0.80\"> </span><span style=\"background-color: hsl(0, 100.00%, 90.25%); opacity: 0.83\" title=\"-0.186\">cheesy</span><span style=\"opacity: 0.80\"> </span><span style=\"background-color: hsl(0, 100.00%, 88.74%); opacity: 0.83\" title=\"-0.228\">horror</span><span style=\"opacity: 0.80\"> </span><span style=\"background-color: hsl(0, 100.00%, 99.51%); opacity: 0.80\" title=\"-0.003\">movies</span><span style=\"opacity: 0.80\"> </span><span style=\"background-color: hsl(120, 100.00%, 87.34%); opacity: 0.84\" title=\"0.269\">you</span><span style=\"opacity: 0.80\">&#x27;</span><span style=\"background-color: hsl(0, 100.00%, 92.17%); opacity: 0.82\" title=\"-0.135\">ll</span><span style=\"opacity: 0.80\"> </span><span style=\"background-color: hsl(0, 100.00%, 96.37%); opacity: 0.81\" title=\"-0.045\">have</span><span style=\"opacity: 0.80\"> a </span><span style=\"background-color: hsl(120, 100.00%, 87.28%); opacity: 0.84\" title=\"0.271\">good</span><span style=\"opacity: 0.80\"> </span><span style=\"background-color: hsl(120, 100.00%, 94.89%); opacity: 0.81\" title=\"0.074\">time</span><span style=\"opacity: 0.80\">.  </span><span style=\"background-color: hsl(120, 100.00%, 90.91%); opacity: 0.82\" title=\"0.168\">noah</span>\n",
              "    </p>\n",
              "\n",
              "\n",
              "    \n",
              "\n",
              "    \n",
              "\n",
              "    \n",
              "\n",
              "    \n",
              "\n",
              "\n",
              "    \n",
              "\n",
              "    \n",
              "\n",
              "    \n",
              "\n",
              "    \n",
              "\n",
              "    \n",
              "\n",
              "    \n",
              "\n",
              "\n",
              "    \n",
              "\n",
              "    \n",
              "\n",
              "    \n",
              "\n",
              "    \n",
              "\n",
              "    \n",
              "\n",
              "    \n",
              "\n",
              "\n",
              "\n"
            ]
          },
          "metadata": {},
          "execution_count": 368
        }
      ]
    },
    {
      "cell_type": "markdown",
      "source": [
        "tfidf"
      ],
      "metadata": {
        "id": "lVKU26yKVfMu"
      }
    },
    {
      "cell_type": "code",
      "source": [
        "eli5.show_prediction(classifier_tfidf, test_df['review'][(preds==1) & (preds_tfidf==0) & (test_df['is_positive']==1)].values[0], vec=vectorizer_tfidf, \n",
        "                     targets=['positive'], target_names=['negative', 'positive'])"
      ],
      "metadata": {
        "colab": {
          "base_uri": "https://localhost:8080/",
          "height": 295
        },
        "id": "NiH7JQkQVOJZ",
        "outputId": "18e8db17-f98b-4c08-c1cf-88a7df0e1a4e"
      },
      "execution_count": null,
      "outputs": [
        {
          "output_type": "stream",
          "name": "stderr",
          "text": [
            "/usr/local/lib/python3.7/dist-packages/sklearn/utils/deprecation.py:87: FutureWarning: Function get_feature_names is deprecated; get_feature_names is deprecated in 1.0 and will be removed in 1.2. Please use get_feature_names_out instead.\n",
            "  warnings.warn(msg, category=FutureWarning)\n"
          ]
        },
        {
          "output_type": "execute_result",
          "data": {
            "text/plain": [
              "<IPython.core.display.HTML object>"
            ],
            "text/html": [
              "\n",
              "    <style>\n",
              "    table.eli5-weights tr:hover {\n",
              "        filter: brightness(85%);\n",
              "    }\n",
              "</style>\n",
              "\n",
              "\n",
              "\n",
              "    \n",
              "\n",
              "    \n",
              "\n",
              "    \n",
              "\n",
              "    \n",
              "\n",
              "    \n",
              "\n",
              "    \n",
              "\n",
              "\n",
              "    \n",
              "\n",
              "    \n",
              "\n",
              "    \n",
              "\n",
              "    \n",
              "        \n",
              "\n",
              "    \n",
              "\n",
              "        \n",
              "\n",
              "        \n",
              "    \n",
              "        \n",
              "        \n",
              "    \n",
              "        <p style=\"margin-bottom: 0.5em; margin-top: 0em\">\n",
              "            <b>\n",
              "    \n",
              "        y=positive\n",
              "    \n",
              "</b>\n",
              "\n",
              "    \n",
              "    (probability <b>0.427</b>, score <b>-0.292</b>)\n",
              "\n",
              "top features\n",
              "        </p>\n",
              "    \n",
              "    <table class=\"eli5-weights\"\n",
              "           style=\"border-collapse: collapse; border: none; margin-top: 0em; table-layout: auto; margin-bottom: 2em;\">\n",
              "        <thead>\n",
              "        <tr style=\"border: none;\">\n",
              "            \n",
              "                <th style=\"padding: 0 1em 0 0.5em; text-align: right; border: none;\" title=\"Feature contribution already accounts for the feature value (for linear models, contribution = weight * feature value), and the sum of feature contributions is equal to the score or, for some classifiers, to the probability. Feature values are shown if &quot;show_feature_values&quot; is True.\">\n",
              "                    Contribution<sup>?</sup>\n",
              "                </th>\n",
              "            \n",
              "            <th style=\"padding: 0 0.5em 0 0.5em; text-align: left; border: none;\">Feature</th>\n",
              "            \n",
              "        </tr>\n",
              "        </thead>\n",
              "        <tbody>\n",
              "        \n",
              "        \n",
              "\n",
              "        \n",
              "        \n",
              "            <tr style=\"background-color: hsl(0, 100.00%, 81.89%); border: none;\">\n",
              "    <td style=\"padding: 0 1em 0 0.5em; text-align: right; border: none;\">\n",
              "        -0.136\n",
              "    </td>\n",
              "    <td style=\"padding: 0 0.5em 0 0.5em; text-align: left; border: none;\">\n",
              "        Highlighted in text (sum)\n",
              "    </td>\n",
              "    \n",
              "</tr>\n",
              "        \n",
              "            <tr style=\"background-color: hsl(0, 100.00%, 80.00%); border: none;\">\n",
              "    <td style=\"padding: 0 1em 0 0.5em; text-align: right; border: none;\">\n",
              "        -0.157\n",
              "    </td>\n",
              "    <td style=\"padding: 0 0.5em 0 0.5em; text-align: left; border: none;\">\n",
              "        &lt;BIAS&gt;\n",
              "    </td>\n",
              "    \n",
              "</tr>\n",
              "        \n",
              "\n",
              "        </tbody>\n",
              "    </table>\n",
              "\n",
              "    \n",
              "\n",
              "\n",
              "\n",
              "    <p style=\"margin-bottom: 2.5em; margin-top:-0.5em;\">\n",
              "        <span style=\"opacity: 0.80\">i </span><span style=\"background-color: hsl(120, 100.00%, 88.74%); opacity: 0.83\" title=\"0.045\">saw</span><span style=\"opacity: 0.80\"> a </span><span style=\"background-color: hsl(0, 100.00%, 96.23%); opacity: 0.81\" title=\"-0.009\">sneak</span><span style=\"opacity: 0.80\"> </span><span style=\"background-color: hsl(0, 100.00%, 95.95%); opacity: 0.81\" title=\"-0.010\">preview</span><span style=\"opacity: 0.80\"> </span><span style=\"background-color: hsl(0, 100.00%, 99.92%); opacity: 0.80\" title=\"-0.000\">of</span><span style=\"opacity: 0.80\"> </span><span style=\"background-color: hsl(0, 100.00%, 93.79%); opacity: 0.81\" title=\"-0.019\">this</span><span style=\"opacity: 0.80\"> </span><span style=\"background-color: hsl(120, 100.00%, 92.66%); opacity: 0.82\" title=\"0.024\">tuesday</span><span style=\"opacity: 0.80\"> </span><span style=\"background-color: hsl(120, 100.00%, 94.25%); opacity: 0.81\" title=\"0.017\">night</span><span style=\"opacity: 0.80\"> </span><span style=\"background-color: hsl(120, 100.00%, 97.39%); opacity: 0.80\" title=\"0.006\">with</span><span style=\"opacity: 0.80\"> a </span><span style=\"background-color: hsl(0, 100.00%, 86.76%); opacity: 0.84\" title=\"-0.057\">group</span><span style=\"opacity: 0.80\"> </span><span style=\"background-color: hsl(0, 100.00%, 99.92%); opacity: 0.80\" title=\"-0.000\">of</span><span style=\"opacity: 0.80\"> </span><span style=\"background-color: hsl(120, 100.00%, 87.59%); opacity: 0.84\" title=\"0.052\">friends</span><span style=\"opacity: 0.80\"> </span><span style=\"background-color: hsl(120, 100.00%, 87.81%); opacity: 0.84\" title=\"0.050\">and</span><span style=\"opacity: 0.80\"> </span><span style=\"background-color: hsl(120, 100.00%, 95.89%); opacity: 0.81\" title=\"0.011\">we</span><span style=\"opacity: 0.80\"> </span><span style=\"background-color: hsl(0, 100.00%, 92.05%); opacity: 0.82\" title=\"-0.027\">had</span><span style=\"opacity: 0.80\"> a </span><span style=\"background-color: hsl(120, 100.00%, 93.47%); opacity: 0.82\" title=\"0.021\">blast</span><span style=\"opacity: 0.80\">! </span><span style=\"background-color: hsl(0, 100.00%, 96.65%); opacity: 0.81\" title=\"-0.008\">after</span><span style=\"opacity: 0.80\"> </span><span style=\"background-color: hsl(120, 100.00%, 90.88%); opacity: 0.82\" title=\"0.033\">seeing</span><span style=\"opacity: 0.80\"> </span><span style=\"background-color: hsl(0, 100.00%, 96.23%); opacity: 0.81\" title=\"-0.009\">sneak</span><span style=\"opacity: 0.80\"> </span><span style=\"background-color: hsl(120, 100.00%, 96.63%); opacity: 0.81\" title=\"0.008\">peaks</span><span style=\"opacity: 0.80\"> </span><span style=\"background-color: hsl(0, 100.00%, 96.13%); opacity: 0.81\" title=\"-0.010\">for</span><span style=\"opacity: 0.80\"> </span><span style=\"background-color: hsl(0, 100.00%, 91.15%); opacity: 0.82\" title=\"-0.032\">boogeyman</span><span style=\"opacity: 0.80\"> (</span><span style=\"background-color: hsl(0, 100.00%, 60.50%); opacity: 1.00\" title=\"-0.269\">horrible</span><span style=\"opacity: 0.80\">! 3/</span><span style=\"background-color: hsl(120, 100.00%, 84.60%); opacity: 0.85\" title=\"0.070\">10</span><span style=\"opacity: 0.80\">) </span><span style=\"background-color: hsl(120, 100.00%, 87.81%); opacity: 0.84\" title=\"0.050\">and</span><span style=\"opacity: 0.80\"> </span><span style=\"background-color: hsl(120, 100.00%, 98.52%); opacity: 0.80\" title=\"0.002\">amityville</span><span style=\"opacity: 0.80\"> </span><span style=\"background-color: hsl(0, 100.00%, 84.60%); opacity: 0.85\" title=\"-0.070\">remake</span><span style=\"opacity: 0.80\"> (</span><span style=\"background-color: hsl(0, 100.00%, 93.66%); opacity: 0.81\" title=\"-0.020\">so</span><span style=\"opacity: 0.80\">-</span><span style=\"background-color: hsl(0, 100.00%, 93.66%); opacity: 0.81\" title=\"-0.020\">so</span><span style=\"opacity: 0.80\"> 6/</span><span style=\"background-color: hsl(120, 100.00%, 84.60%); opacity: 0.85\" title=\"0.070\">10</span><span style=\"opacity: 0.80\">) i </span><span style=\"background-color: hsl(120, 100.00%, 65.84%); opacity: 0.96\" title=\"0.219\">enjoyed</span><span style=\"opacity: 0.80\"> </span><span style=\"background-color: hsl(0, 100.00%, 93.79%); opacity: 0.81\" title=\"-0.019\">this</span><span style=\"opacity: 0.80\"> a </span><span style=\"background-color: hsl(120, 100.00%, 83.40%); opacity: 0.86\" title=\"0.078\">lot</span><span style=\"opacity: 0.80\"> </span><span style=\"background-color: hsl(120, 100.00%, 88.67%); opacity: 0.83\" title=\"0.045\">more</span><span style=\"opacity: 0.80\">! </span><span style=\"background-color: hsl(120, 100.00%, 91.40%); opacity: 0.82\" title=\"0.031\">as</span><span style=\"opacity: 0.80\"> </span><span style=\"background-color: hsl(120, 100.00%, 83.89%); opacity: 0.85\" title=\"0.075\">seen</span><span style=\"opacity: 0.80\"> </span><span style=\"background-color: hsl(120, 100.00%, 96.32%); opacity: 0.81\" title=\"0.009\">in</span><span style=\"opacity: 0.80\"> </span><span style=\"background-color: hsl(120, 100.00%, 95.73%); opacity: 0.81\" title=\"0.011\">the</span><span style=\"opacity: 0.80\"> </span><span style=\"background-color: hsl(120, 100.00%, 91.12%); opacity: 0.82\" title=\"0.032\">trailer</span><span style=\"opacity: 0.80\">, </span><span style=\"background-color: hsl(120, 100.00%, 98.71%); opacity: 0.80\" title=\"0.002\">one</span><span style=\"opacity: 0.80\"> </span><span style=\"background-color: hsl(120, 100.00%, 92.47%); opacity: 0.82\" title=\"0.025\">knock</span><span style=\"opacity: 0.80\"> i </span><span style=\"background-color: hsl(0, 100.00%, 92.05%); opacity: 0.82\" title=\"-0.027\">had</span><span style=\"opacity: 0.80\"> </span><span style=\"background-color: hsl(0, 100.00%, 90.68%); opacity: 0.82\" title=\"-0.034\">was</span><span style=\"opacity: 0.80\"> </span><span style=\"background-color: hsl(0, 100.00%, 96.01%); opacity: 0.81\" title=\"-0.010\">believing</span><span style=\"opacity: 0.80\"> </span><span style=\"background-color: hsl(0, 100.00%, 97.04%); opacity: 0.80\" title=\"-0.007\">that</span><span style=\"opacity: 0.80\"> a </span><span style=\"background-color: hsl(0, 100.00%, 88.16%); opacity: 0.84\" title=\"-0.048\">whole</span><span style=\"opacity: 0.80\"> </span><span style=\"background-color: hsl(120, 100.00%, 93.64%); opacity: 0.81\" title=\"0.020\">town</span><span style=\"opacity: 0.80\"> </span><span style=\"background-color: hsl(0, 100.00%, 84.92%); opacity: 0.85\" title=\"-0.068\">could</span><span style=\"opacity: 0.80\"> </span><span style=\"background-color: hsl(0, 100.00%, 91.88%); opacity: 0.82\" title=\"-0.028\">be</span><span style=\"opacity: 0.80\"> &quot;</span><span style=\"background-color: hsl(0, 100.00%, 98.74%); opacity: 0.80\" title=\"-0.002\">forgotten</span><span style=\"opacity: 0.80\">&quot; </span><span style=\"background-color: hsl(0, 100.00%, 94.56%); opacity: 0.81\" title=\"-0.016\">but</span><span style=\"opacity: 0.80\"> </span><span style=\"background-color: hsl(0, 100.00%, 93.79%); opacity: 0.81\" title=\"-0.019\">this</span><span style=\"opacity: 0.80\"> </span><span style=\"background-color: hsl(120, 100.00%, 92.60%); opacity: 0.82\" title=\"0.025\">is</span><span style=\"opacity: 0.80\"> a </span><span style=\"background-color: hsl(0, 100.00%, 88.30%); opacity: 0.83\" title=\"-0.047\">cheesy</span><span style=\"opacity: 0.80\"> </span><span style=\"background-color: hsl(0, 100.00%, 94.57%); opacity: 0.81\" title=\"-0.016\">popcorn</span><span style=\"opacity: 0.80\"> </span><span style=\"background-color: hsl(0, 100.00%, 88.48%); opacity: 0.83\" title=\"-0.046\">horror</span><span style=\"opacity: 0.80\"> </span><span style=\"background-color: hsl(0, 100.00%, 97.14%); opacity: 0.80\" title=\"-0.006\">movie</span><span style=\"opacity: 0.80\"> </span><span style=\"background-color: hsl(0, 100.00%, 93.66%); opacity: 0.81\" title=\"-0.020\">so</span><span style=\"opacity: 0.80\"> i </span><span style=\"background-color: hsl(120, 100.00%, 89.80%); opacity: 0.83\" title=\"0.039\">accept</span><span style=\"opacity: 0.80\"> </span><span style=\"background-color: hsl(120, 100.00%, 86.87%); opacity: 0.84\" title=\"0.056\">it</span><span style=\"opacity: 0.80\"> </span><span style=\"background-color: hsl(0, 100.00%, 96.13%); opacity: 0.81\" title=\"-0.010\">for</span><span style=\"opacity: 0.80\"> </span><span style=\"background-color: hsl(120, 100.00%, 94.70%); opacity: 0.81\" title=\"0.015\">what</span><span style=\"opacity: 0.80\"> </span><span style=\"background-color: hsl(120, 100.00%, 86.87%); opacity: 0.84\" title=\"0.056\">it</span><span style=\"opacity: 0.80\"> </span><span style=\"background-color: hsl(120, 100.00%, 92.60%); opacity: 0.82\" title=\"0.025\">is</span><span style=\"opacity: 0.80\">.  </span><span style=\"background-color: hsl(120, 100.00%, 86.45%); opacity: 0.84\" title=\"0.058\">my</span><span style=\"opacity: 0.80\"> </span><span style=\"background-color: hsl(0, 100.00%, 81.33%); opacity: 0.87\" title=\"-0.092\">only</span><span style=\"opacity: 0.80\"> </span><span style=\"background-color: hsl(0, 100.00%, 83.72%); opacity: 0.86\" title=\"-0.076\">major</span><span style=\"opacity: 0.80\"> </span><span style=\"background-color: hsl(120, 100.00%, 80.01%); opacity: 0.87\" title=\"0.102\">complaint</span><span style=\"opacity: 0.80\"> </span><span style=\"background-color: hsl(120, 100.00%, 92.60%); opacity: 0.82\" title=\"0.025\">is</span><span style=\"opacity: 0.80\"> i </span><span style=\"background-color: hsl(120, 100.00%, 98.24%); opacity: 0.80\" title=\"0.003\">assumed</span><span style=\"opacity: 0.80\"> </span><span style=\"background-color: hsl(120, 100.00%, 92.43%); opacity: 0.82\" title=\"0.025\">paris</span><span style=\"opacity: 0.80\"> </span><span style=\"background-color: hsl(120, 100.00%, 98.05%); opacity: 0.80\" title=\"0.004\">hilton</span><span style=\"opacity: 0.80\"> </span><span style=\"background-color: hsl(0, 100.00%, 85.38%); opacity: 0.85\" title=\"-0.065\">would</span><span style=\"opacity: 0.80\"> </span><span style=\"background-color: hsl(120, 100.00%, 89.93%); opacity: 0.83\" title=\"0.038\">touch</span><span style=\"opacity: 0.80\"> </span><span style=\"background-color: hsl(120, 100.00%, 92.61%); opacity: 0.82\" title=\"0.025\">wax</span><span style=\"opacity: 0.80\"> </span><span style=\"background-color: hsl(0, 100.00%, 89.29%); opacity: 0.83\" title=\"-0.042\">or</span><span style=\"opacity: 0.80\"> </span><span style=\"background-color: hsl(120, 100.00%, 95.42%); opacity: 0.81\" title=\"0.012\">get</span><span style=\"opacity: 0.80\"> </span><span style=\"background-color: hsl(0, 100.00%, 95.87%); opacity: 0.81\" title=\"-0.011\">dipped</span><span style=\"opacity: 0.80\"> </span><span style=\"background-color: hsl(0, 100.00%, 96.22%); opacity: 0.81\" title=\"-0.009\">etc</span><span style=\"opacity: 0.80\">. </span><span style=\"background-color: hsl(120, 100.00%, 87.81%); opacity: 0.84\" title=\"0.050\">and</span><span style=\"opacity: 0.80\"> </span><span style=\"background-color: hsl(120, 100.00%, 91.18%); opacity: 0.82\" title=\"0.032\">moan</span><span style=\"opacity: 0.80\"> &quot;</span><span style=\"background-color: hsl(0, 100.00%, 97.04%); opacity: 0.80\" title=\"-0.007\">that</span><span style=\"opacity: 0.80\">&#x27;s </span><span style=\"background-color: hsl(120, 100.00%, 90.32%); opacity: 0.83\" title=\"0.036\">hot</span><span style=\"opacity: 0.80\">&quot; </span><span style=\"background-color: hsl(0, 100.00%, 94.56%); opacity: 0.81\" title=\"-0.016\">but</span><span style=\"opacity: 0.80\"> </span><span style=\"background-color: hsl(0, 100.00%, 90.76%); opacity: 0.82\" title=\"-0.034\">they</span><span style=\"opacity: 0.80\"> </span><span style=\"background-color: hsl(0, 100.00%, 84.28%); opacity: 0.85\" title=\"-0.072\">didn</span><span style=\"opacity: 0.80\">&#x27;t </span><span style=\"background-color: hsl(0, 100.00%, 89.06%); opacity: 0.83\" title=\"-0.043\">do</span><span style=\"opacity: 0.80\"> </span><span style=\"background-color: hsl(0, 100.00%, 97.04%); opacity: 0.80\" title=\"-0.007\">that</span><span style=\"opacity: 0.80\"> (</span><span style=\"background-color: hsl(120, 100.00%, 98.84%); opacity: 0.80\" title=\"0.002\">how</span><span style=\"opacity: 0.80\"> </span><span style=\"background-color: hsl(0, 100.00%, 84.92%); opacity: 0.85\" title=\"-0.068\">could</span><span style=\"opacity: 0.80\"> </span><span style=\"background-color: hsl(0, 100.00%, 90.76%); opacity: 0.82\" title=\"-0.034\">they</span><span style=\"opacity: 0.80\"> </span><span style=\"background-color: hsl(0, 100.00%, 93.41%); opacity: 0.82\" title=\"-0.021\">resist</span><span style=\"opacity: 0.80\">???).  </span><span style=\"background-color: hsl(0, 100.00%, 88.46%); opacity: 0.83\" title=\"-0.046\">there</span><span style=\"opacity: 0.80\"> </span><span style=\"background-color: hsl(120, 100.00%, 92.60%); opacity: 0.82\" title=\"0.025\">is</span><span style=\"opacity: 0.80\"> </span><span style=\"background-color: hsl(0, 100.00%, 74.70%); opacity: 0.90\" title=\"-0.143\">no</span><span style=\"opacity: 0.80\"> </span><span style=\"background-color: hsl(0, 100.00%, 78.92%); opacity: 0.88\" title=\"-0.110\">nudity</span><span style=\"opacity: 0.80\"> </span><span style=\"background-color: hsl(120, 100.00%, 97.94%); opacity: 0.80\" title=\"0.004\">from</span><span style=\"opacity: 0.80\"> </span><span style=\"background-color: hsl(120, 100.00%, 95.73%); opacity: 0.81\" title=\"0.011\">the</span><span style=\"opacity: 0.80\"> 2 </span><span style=\"background-color: hsl(0, 100.00%, 93.80%); opacity: 0.81\" title=\"-0.019\">girls</span><span style=\"opacity: 0.80\"> </span><span style=\"background-color: hsl(120, 100.00%, 83.66%); opacity: 0.86\" title=\"0.076\">although</span><span style=\"opacity: 0.80\"> </span><span style=\"background-color: hsl(120, 100.00%, 92.43%); opacity: 0.82\" title=\"0.025\">paris</span><span style=\"opacity: 0.80\"> </span><span style=\"background-color: hsl(0, 100.00%, 72.53%); opacity: 0.92\" title=\"-0.160\">looks</span><span style=\"opacity: 0.80\"> </span><span style=\"background-color: hsl(120, 100.00%, 60.00%); opacity: 1.00\" title=\"0.274\">great</span><span style=\"opacity: 0.80\"> </span><span style=\"background-color: hsl(120, 100.00%, 96.32%); opacity: 0.81\" title=\"0.009\">in</span><span style=\"opacity: 0.80\"> </span><span style=\"background-color: hsl(120, 100.00%, 93.75%); opacity: 0.81\" title=\"0.019\">her</span><span style=\"opacity: 0.80\"> </span><span style=\"background-color: hsl(0, 100.00%, 95.61%); opacity: 0.81\" title=\"-0.012\">lingerie</span><span style=\"opacity: 0.80\">! i&#x27;m </span><span style=\"background-color: hsl(120, 100.00%, 72.81%); opacity: 0.92\" title=\"0.158\">surprised</span><span style=\"opacity: 0.80\"> </span><span style=\"background-color: hsl(0, 100.00%, 90.76%); opacity: 0.82\" title=\"-0.034\">they</span><span style=\"opacity: 0.80\"> </span><span style=\"background-color: hsl(0, 100.00%, 84.28%); opacity: 0.85\" title=\"-0.072\">didn</span><span style=\"opacity: 0.80\">&#x27;t </span><span style=\"background-color: hsl(120, 100.00%, 96.20%); opacity: 0.81\" title=\"0.009\">put</span><span style=\"opacity: 0.80\"> a </span><span style=\"background-color: hsl(0, 100.00%, 95.70%); opacity: 0.81\" title=\"-0.011\">3rd</span><span style=\"opacity: 0.80\"> &quot;</span><span style=\"background-color: hsl(120, 100.00%, 90.32%); opacity: 0.83\" title=\"0.036\">hot</span><span style=\"opacity: 0.80\"> </span><span style=\"background-color: hsl(0, 100.00%, 95.32%); opacity: 0.81\" title=\"-0.013\">token</span><span style=\"opacity: 0.80\"> </span><span style=\"background-color: hsl(0, 100.00%, 91.98%); opacity: 0.82\" title=\"-0.028\">victim</span><span style=\"opacity: 0.80\">&quot; </span><span style=\"background-color: hsl(120, 100.00%, 96.32%); opacity: 0.81\" title=\"0.009\">in</span><span style=\"opacity: 0.80\"> </span><span style=\"background-color: hsl(120, 100.00%, 95.73%); opacity: 0.81\" title=\"0.011\">the</span><span style=\"opacity: 0.80\"> </span><span style=\"background-color: hsl(0, 100.00%, 97.14%); opacity: 0.80\" title=\"-0.006\">movie</span><span style=\"opacity: 0.80\"> </span><span style=\"background-color: hsl(0, 100.00%, 96.13%); opacity: 0.81\" title=\"-0.010\">for</span><span style=\"opacity: 0.80\"> </span><span style=\"background-color: hsl(0, 100.00%, 97.64%); opacity: 0.80\" title=\"-0.005\">some</span><span style=\"opacity: 0.80\"> </span><span style=\"background-color: hsl(0, 100.00%, 96.56%); opacity: 0.81\" title=\"-0.008\">needless</span><span style=\"opacity: 0.80\"> </span><span style=\"background-color: hsl(0, 100.00%, 78.92%); opacity: 0.88\" title=\"-0.110\">nudity</span><span style=\"opacity: 0.80\"> </span><span style=\"background-color: hsl(120, 100.00%, 97.69%); opacity: 0.80\" title=\"0.005\">which</span><span style=\"opacity: 0.80\"> </span><span style=\"background-color: hsl(120, 100.00%, 92.60%); opacity: 0.82\" title=\"0.025\">is</span><span style=\"opacity: 0.80\"> </span><span style=\"background-color: hsl(120, 100.00%, 95.73%); opacity: 0.81\" title=\"0.011\">the</span><span style=\"opacity: 0.80\"> </span><span style=\"background-color: hsl(0, 100.00%, 91.07%); opacity: 0.82\" title=\"-0.032\">norm</span><span style=\"opacity: 0.80\"> </span><span style=\"background-color: hsl(0, 100.00%, 96.13%); opacity: 0.81\" title=\"-0.010\">for</span><span style=\"opacity: 0.80\"> </span><span style=\"background-color: hsl(0, 100.00%, 93.79%); opacity: 0.81\" title=\"-0.019\">this</span><span style=\"opacity: 0.80\"> </span><span style=\"background-color: hsl(120, 100.00%, 90.84%); opacity: 0.82\" title=\"0.033\">type</span><span style=\"opacity: 0.80\"> </span><span style=\"background-color: hsl(0, 100.00%, 99.92%); opacity: 0.80\" title=\"-0.000\">of</span><span style=\"opacity: 0.80\"> </span><span style=\"background-color: hsl(0, 100.00%, 89.84%); opacity: 0.83\" title=\"-0.039\">flick</span><span style=\"opacity: 0.80\">! i </span><span style=\"background-color: hsl(120, 100.00%, 95.01%); opacity: 0.81\" title=\"0.014\">won</span><span style=\"opacity: 0.80\">&#x27;t </span><span style=\"background-color: hsl(120, 100.00%, 96.36%); opacity: 0.81\" title=\"0.009\">list</span><span style=\"opacity: 0.80\"> </span><span style=\"background-color: hsl(0, 100.00%, 79.96%); opacity: 0.87\" title=\"-0.102\">any</span><span style=\"opacity: 0.80\"> </span><span style=\"background-color: hsl(120, 100.00%, 94.21%); opacity: 0.81\" title=\"0.017\">death</span><span style=\"opacity: 0.80\"> </span><span style=\"background-color: hsl(0, 100.00%, 89.29%); opacity: 0.83\" title=\"-0.042\">or</span><span style=\"opacity: 0.80\"> </span><span style=\"background-color: hsl(0, 100.00%, 78.52%); opacity: 0.88\" title=\"-0.113\">plot</span><span style=\"opacity: 0.80\"> </span><span style=\"background-color: hsl(0, 100.00%, 95.35%); opacity: 0.81\" title=\"-0.013\">spoilers</span><span style=\"opacity: 0.80\"> </span><span style=\"background-color: hsl(0, 100.00%, 94.56%); opacity: 0.81\" title=\"-0.016\">but</span><span style=\"opacity: 0.80\"> i </span><span style=\"background-color: hsl(120, 100.00%, 82.67%); opacity: 0.86\" title=\"0.083\">will</span><span style=\"opacity: 0.80\"> </span><span style=\"background-color: hsl(0, 100.00%, 98.19%); opacity: 0.80\" title=\"-0.003\">say</span><span style=\"opacity: 0.80\"> </span><span style=\"background-color: hsl(0, 100.00%, 97.04%); opacity: 0.80\" title=\"-0.007\">that</span><span style=\"opacity: 0.80\"> </span><span style=\"background-color: hsl(120, 100.00%, 92.43%); opacity: 0.82\" title=\"0.025\">paris</span><span style=\"opacity: 0.80\"> &amp; </span><span style=\"background-color: hsl(0, 100.00%, 93.46%); opacity: 0.82\" title=\"-0.021\">eliza</span><span style=\"opacity: 0.80\"> </span><span style=\"background-color: hsl(120, 100.00%, 76.72%); opacity: 0.89\" title=\"0.127\">both</span><span style=\"opacity: 0.80\"> </span><span style=\"background-color: hsl(120, 100.00%, 95.42%); opacity: 0.81\" title=\"0.012\">get</span><span style=\"opacity: 0.80\"> </span><span style=\"background-color: hsl(0, 100.00%, 99.32%); opacity: 0.80\" title=\"-0.001\">roughed</span><span style=\"opacity: 0.80\"> </span><span style=\"background-color: hsl(0, 100.00%, 96.04%); opacity: 0.81\" title=\"-0.010\">up</span><span style=\"opacity: 0.80\"> </span><span style=\"background-color: hsl(120, 100.00%, 83.66%); opacity: 0.86\" title=\"0.076\">good</span><span style=\"opacity: 0.80\">!   </span><span style=\"background-color: hsl(120, 100.00%, 95.73%); opacity: 0.81\" title=\"0.011\">the</span><span style=\"opacity: 0.80\"> </span><span style=\"background-color: hsl(0, 100.00%, 92.97%); opacity: 0.82\" title=\"-0.023\">characters</span><span style=\"opacity: 0.80\"> </span><span style=\"background-color: hsl(0, 100.00%, 94.42%); opacity: 0.81\" title=\"-0.016\">are</span><span style=\"opacity: 0.80\"> </span><span style=\"background-color: hsl(120, 100.00%, 92.65%); opacity: 0.82\" title=\"0.024\">developed</span><span style=\"opacity: 0.80\"> </span><span style=\"background-color: hsl(0, 100.00%, 92.95%); opacity: 0.82\" title=\"-0.023\">decently</span><span style=\"opacity: 0.80\"> </span><span style=\"background-color: hsl(120, 100.00%, 87.81%); opacity: 0.84\" title=\"0.050\">and</span><span style=\"opacity: 0.80\"> </span><span style=\"background-color: hsl(0, 100.00%, 94.42%); opacity: 0.81\" title=\"-0.016\">are</span><span style=\"opacity: 0.80\"> </span><span style=\"background-color: hsl(120, 100.00%, 87.47%); opacity: 0.84\" title=\"0.052\">somewhat</span><span style=\"opacity: 0.80\"> </span><span style=\"background-color: hsl(120, 100.00%, 85.48%); opacity: 0.85\" title=\"0.064\">likable</span><span style=\"opacity: 0.80\"> (</span><span style=\"background-color: hsl(0, 100.00%, 86.67%); opacity: 0.84\" title=\"-0.057\">not</span><span style=\"opacity: 0.80\"> </span><span style=\"background-color: hsl(0, 100.00%, 93.71%); opacity: 0.81\" title=\"-0.019\">like</span><span style=\"opacity: 0.80\"> </span><span style=\"background-color: hsl(0, 100.00%, 92.09%); opacity: 0.82\" title=\"-0.027\">cabin</span><span style=\"opacity: 0.80\"> </span><span style=\"background-color: hsl(120, 100.00%, 93.77%); opacity: 0.81\" title=\"0.019\">fever</span><span style=\"opacity: 0.80\"> </span><span style=\"background-color: hsl(0, 100.00%, 95.90%); opacity: 0.81\" title=\"-0.011\">where</span><span style=\"opacity: 0.80\"> </span><span style=\"background-color: hsl(120, 100.00%, 85.09%); opacity: 0.85\" title=\"0.067\">you</span><span style=\"opacity: 0.80\"> </span><span style=\"background-color: hsl(0, 100.00%, 88.10%); opacity: 0.84\" title=\"-0.049\">wanted</span><span style=\"opacity: 0.80\"> </span><span style=\"background-color: hsl(0, 100.00%, 96.15%); opacity: 0.81\" title=\"-0.010\">them</span><span style=\"opacity: 0.80\"> </span><span style=\"background-color: hsl(0, 100.00%, 93.56%); opacity: 0.81\" title=\"-0.020\">to</span><span style=\"opacity: 0.80\"> </span><span style=\"background-color: hsl(0, 100.00%, 89.11%); opacity: 0.83\" title=\"-0.043\">die</span><span style=\"opacity: 0.80\">) </span><span style=\"background-color: hsl(120, 100.00%, 87.81%); opacity: 0.84\" title=\"0.050\">and</span><span style=\"opacity: 0.80\"> </span><span style=\"background-color: hsl(120, 100.00%, 95.73%); opacity: 0.81\" title=\"0.011\">the</span><span style=\"opacity: 0.80\"> </span><span style=\"background-color: hsl(0, 100.00%, 97.14%); opacity: 0.80\" title=\"-0.006\">movie</span><span style=\"opacity: 0.80\"> </span><span style=\"background-color: hsl(120, 100.00%, 92.21%); opacity: 0.82\" title=\"0.026\">has</span><span style=\"opacity: 0.80\"> a </span><span style=\"background-color: hsl(0, 100.00%, 79.18%); opacity: 0.88\" title=\"-0.108\">decent</span><span style=\"opacity: 0.80\"> </span><span style=\"background-color: hsl(120, 100.00%, 83.83%); opacity: 0.85\" title=\"0.075\">pace</span><span style=\"opacity: 0.80\"> </span><span style=\"background-color: hsl(120, 100.00%, 83.66%); opacity: 0.86\" title=\"0.076\">although</span><span style=\"opacity: 0.80\"> </span><span style=\"background-color: hsl(0, 100.00%, 66.10%); opacity: 0.96\" title=\"-0.216\">nothing</span><span style=\"opacity: 0.80\"> </span><span style=\"background-color: hsl(0, 100.00%, 87.43%); opacity: 0.84\" title=\"-0.052\">happens</span><span style=\"opacity: 0.80\"> </span><span style=\"background-color: hsl(120, 100.00%, 96.32%); opacity: 0.81\" title=\"0.009\">in</span><span style=\"opacity: 0.80\"> </span><span style=\"background-color: hsl(120, 100.00%, 95.73%); opacity: 0.81\" title=\"0.011\">the</span><span style=\"opacity: 0.80\"> </span><span style=\"background-color: hsl(0, 100.00%, 91.03%); opacity: 0.82\" title=\"-0.032\">1st</span><span style=\"opacity: 0.80\"> </span><span style=\"background-color: hsl(0, 100.00%, 85.51%); opacity: 0.85\" title=\"-0.064\">30</span><span style=\"opacity: 0.80\"> </span><span style=\"background-color: hsl(0, 100.00%, 69.80%); opacity: 0.93\" title=\"-0.184\">minutes</span><span style=\"opacity: 0.80\"> </span><span style=\"background-color: hsl(0, 100.00%, 93.71%); opacity: 0.81\" title=\"-0.019\">like</span><span style=\"opacity: 0.80\"> </span><span style=\"background-color: hsl(120, 100.00%, 84.80%); opacity: 0.85\" title=\"0.069\">most</span><span style=\"opacity: 0.80\"> </span><span style=\"background-color: hsl(0, 100.00%, 88.48%); opacity: 0.83\" title=\"-0.046\">horror</span><span style=\"opacity: 0.80\"> </span><span style=\"background-color: hsl(120, 100.00%, 95.13%); opacity: 0.81\" title=\"0.014\">films</span><span style=\"opacity: 0.80\">.  i </span><span style=\"background-color: hsl(0, 100.00%, 94.65%); opacity: 0.81\" title=\"-0.015\">give</span><span style=\"opacity: 0.80\"> </span><span style=\"background-color: hsl(120, 100.00%, 86.87%); opacity: 0.84\" title=\"0.056\">it</span><span style=\"opacity: 0.80\"> a 8/</span><span style=\"background-color: hsl(120, 100.00%, 84.60%); opacity: 0.85\" title=\"0.070\">10</span><span style=\"opacity: 0.80\"> </span><span style=\"background-color: hsl(120, 100.00%, 91.40%); opacity: 0.82\" title=\"0.031\">as</span><span style=\"opacity: 0.80\"> </span><span style=\"background-color: hsl(120, 100.00%, 86.87%); opacity: 0.84\" title=\"0.056\">it</span><span style=\"opacity: 0.80\"> </span><span style=\"background-color: hsl(120, 100.00%, 97.19%); opacity: 0.80\" title=\"0.006\">delivered</span><span style=\"opacity: 0.80\"> </span><span style=\"background-color: hsl(120, 100.00%, 83.66%); opacity: 0.86\" title=\"0.076\">good</span><span style=\"opacity: 0.80\"> </span><span style=\"background-color: hsl(0, 100.00%, 96.84%); opacity: 0.81\" title=\"-0.007\">scares</span><span style=\"opacity: 0.80\"> </span><span style=\"background-color: hsl(120, 100.00%, 87.81%); opacity: 0.84\" title=\"0.050\">and</span><span style=\"opacity: 0.80\"> </span><span style=\"background-color: hsl(0, 100.00%, 85.55%); opacity: 0.85\" title=\"-0.064\">gore</span><span style=\"opacity: 0.80\"> </span><span style=\"background-color: hsl(120, 100.00%, 87.81%); opacity: 0.84\" title=\"0.050\">and</span><span style=\"opacity: 0.80\"> i </span><span style=\"background-color: hsl(0, 100.00%, 92.05%); opacity: 0.82\" title=\"-0.027\">had</span><span style=\"opacity: 0.80\"> </span><span style=\"background-color: hsl(0, 100.00%, 83.72%); opacity: 0.86\" title=\"-0.076\">low</span><span style=\"opacity: 0.80\"> </span><span style=\"background-color: hsl(0, 100.00%, 94.36%); opacity: 0.81\" title=\"-0.017\">expectations</span><span style=\"opacity: 0.80\"> </span><span style=\"background-color: hsl(0, 100.00%, 94.40%); opacity: 0.81\" title=\"-0.017\">going</span><span style=\"opacity: 0.80\"> </span><span style=\"background-color: hsl(0, 100.00%, 97.03%); opacity: 0.80\" title=\"-0.007\">into</span><span style=\"opacity: 0.80\"> </span><span style=\"background-color: hsl(120, 100.00%, 86.87%); opacity: 0.84\" title=\"0.056\">it</span><span style=\"opacity: 0.80\">. </span><span style=\"background-color: hsl(0, 100.00%, 88.42%); opacity: 0.83\" title=\"-0.047\">if</span><span style=\"opacity: 0.80\"> </span><span style=\"background-color: hsl(120, 100.00%, 85.09%); opacity: 0.85\" title=\"0.067\">you</span><span style=\"opacity: 0.80\"> </span><span style=\"background-color: hsl(0, 100.00%, 99.00%); opacity: 0.80\" title=\"-0.001\">go</span><span style=\"opacity: 0.80\"> </span><span style=\"background-color: hsl(120, 100.00%, 97.39%); opacity: 0.80\" title=\"0.006\">with</span><span style=\"opacity: 0.80\"> </span><span style=\"background-color: hsl(0, 100.00%, 97.64%); opacity: 0.80\" title=\"-0.005\">some</span><span style=\"opacity: 0.80\"> </span><span style=\"background-color: hsl(120, 100.00%, 87.59%); opacity: 0.84\" title=\"0.052\">friends</span><span style=\"opacity: 0.80\"> </span><span style=\"background-color: hsl(0, 100.00%, 97.04%); opacity: 0.80\" title=\"-0.007\">that</span><span style=\"opacity: 0.80\"> </span><span style=\"background-color: hsl(0, 100.00%, 93.71%); opacity: 0.81\" title=\"-0.019\">like</span><span style=\"opacity: 0.80\"> </span><span style=\"background-color: hsl(0, 100.00%, 88.30%); opacity: 0.83\" title=\"-0.047\">cheesy</span><span style=\"opacity: 0.80\"> </span><span style=\"background-color: hsl(0, 100.00%, 88.48%); opacity: 0.83\" title=\"-0.046\">horror</span><span style=\"opacity: 0.80\"> </span><span style=\"background-color: hsl(120, 100.00%, 92.78%); opacity: 0.82\" title=\"0.024\">movies</span><span style=\"opacity: 0.80\"> </span><span style=\"background-color: hsl(120, 100.00%, 85.09%); opacity: 0.85\" title=\"0.067\">you</span><span style=\"opacity: 0.80\">&#x27;</span><span style=\"background-color: hsl(0, 100.00%, 93.37%); opacity: 0.82\" title=\"-0.021\">ll</span><span style=\"opacity: 0.80\"> </span><span style=\"background-color: hsl(0, 100.00%, 91.88%); opacity: 0.82\" title=\"-0.028\">have</span><span style=\"opacity: 0.80\"> a </span><span style=\"background-color: hsl(120, 100.00%, 83.66%); opacity: 0.86\" title=\"0.076\">good</span><span style=\"opacity: 0.80\"> </span><span style=\"background-color: hsl(120, 100.00%, 93.06%); opacity: 0.82\" title=\"0.022\">time</span><span style=\"opacity: 0.80\">.  </span><span style=\"background-color: hsl(120, 100.00%, 93.78%); opacity: 0.81\" title=\"0.019\">noah</span>\n",
              "    </p>\n",
              "\n",
              "\n",
              "    \n",
              "\n",
              "    \n",
              "\n",
              "    \n",
              "\n",
              "    \n",
              "\n",
              "\n",
              "    \n",
              "\n",
              "    \n",
              "\n",
              "    \n",
              "\n",
              "    \n",
              "\n",
              "    \n",
              "\n",
              "    \n",
              "\n",
              "\n",
              "    \n",
              "\n",
              "    \n",
              "\n",
              "    \n",
              "\n",
              "    \n",
              "\n",
              "    \n",
              "\n",
              "    \n",
              "\n",
              "\n",
              "\n"
            ]
          },
          "metadata": {},
          "execution_count": 369
        }
      ]
    },
    {
      "cell_type": "markdown",
      "source": [
        "count Negative, tfidf Positive, True_label Negative"
      ],
      "metadata": {
        "id": "XqCnQ3jiUPjR"
      }
    },
    {
      "cell_type": "markdown",
      "source": [
        "count"
      ],
      "metadata": {
        "id": "pP03r_H4VgXq"
      }
    },
    {
      "cell_type": "code",
      "source": [
        "eli5.show_prediction(classifier, test_df['review'][(preds==0) & (preds_tfidf==1) & (test_df['is_positive']==0)].values[0], vec=vectorizer, \n",
        "                     targets=['positive'], target_names=['negative', 'positive'])"
      ],
      "metadata": {
        "colab": {
          "base_uri": "https://localhost:8080/",
          "height": 313
        },
        "id": "8vIwjjZ3UQyv",
        "outputId": "ef831b90-d413-4c01-db91-b87aecd4f2d8"
      },
      "execution_count": null,
      "outputs": [
        {
          "output_type": "stream",
          "name": "stderr",
          "text": [
            "/usr/local/lib/python3.7/dist-packages/sklearn/utils/deprecation.py:87: FutureWarning: Function get_feature_names is deprecated; get_feature_names is deprecated in 1.0 and will be removed in 1.2. Please use get_feature_names_out instead.\n",
            "  warnings.warn(msg, category=FutureWarning)\n"
          ]
        },
        {
          "output_type": "execute_result",
          "data": {
            "text/plain": [
              "<IPython.core.display.HTML object>"
            ],
            "text/html": [
              "\n",
              "    <style>\n",
              "    table.eli5-weights tr:hover {\n",
              "        filter: brightness(85%);\n",
              "    }\n",
              "</style>\n",
              "\n",
              "\n",
              "\n",
              "    \n",
              "\n",
              "    \n",
              "\n",
              "    \n",
              "\n",
              "    \n",
              "\n",
              "    \n",
              "\n",
              "    \n",
              "\n",
              "\n",
              "    \n",
              "\n",
              "    \n",
              "\n",
              "    \n",
              "\n",
              "    \n",
              "        \n",
              "\n",
              "    \n",
              "\n",
              "        \n",
              "\n",
              "        \n",
              "    \n",
              "        \n",
              "        \n",
              "    \n",
              "        <p style=\"margin-bottom: 0.5em; margin-top: 0em\">\n",
              "            <b>\n",
              "    \n",
              "        y=positive\n",
              "    \n",
              "</b>\n",
              "\n",
              "    \n",
              "    (probability <b>0.437</b>, score <b>-0.252</b>)\n",
              "\n",
              "top features\n",
              "        </p>\n",
              "    \n",
              "    <table class=\"eli5-weights\"\n",
              "           style=\"border-collapse: collapse; border: none; margin-top: 0em; table-layout: auto; margin-bottom: 2em;\">\n",
              "        <thead>\n",
              "        <tr style=\"border: none;\">\n",
              "            \n",
              "                <th style=\"padding: 0 1em 0 0.5em; text-align: right; border: none;\" title=\"Feature contribution already accounts for the feature value (for linear models, contribution = weight * feature value), and the sum of feature contributions is equal to the score or, for some classifiers, to the probability. Feature values are shown if &quot;show_feature_values&quot; is True.\">\n",
              "                    Contribution<sup>?</sup>\n",
              "                </th>\n",
              "            \n",
              "            <th style=\"padding: 0 0.5em 0 0.5em; text-align: left; border: none;\">Feature</th>\n",
              "            \n",
              "        </tr>\n",
              "        </thead>\n",
              "        <tbody>\n",
              "        \n",
              "        \n",
              "\n",
              "        \n",
              "        \n",
              "            <tr style=\"background-color: hsl(0, 100.00%, 96.90%); border: none;\">\n",
              "    <td style=\"padding: 0 1em 0 0.5em; text-align: right; border: none;\">\n",
              "        -0.016\n",
              "    </td>\n",
              "    <td style=\"padding: 0 0.5em 0 0.5em; text-align: left; border: none;\">\n",
              "        &lt;BIAS&gt;\n",
              "    </td>\n",
              "    \n",
              "</tr>\n",
              "        \n",
              "            <tr style=\"background-color: hsl(0, 100.00%, 80.00%); border: none;\">\n",
              "    <td style=\"padding: 0 1em 0 0.5em; text-align: right; border: none;\">\n",
              "        -0.236\n",
              "    </td>\n",
              "    <td style=\"padding: 0 0.5em 0 0.5em; text-align: left; border: none;\">\n",
              "        Highlighted in text (sum)\n",
              "    </td>\n",
              "    \n",
              "</tr>\n",
              "        \n",
              "\n",
              "        </tbody>\n",
              "    </table>\n",
              "\n",
              "    \n",
              "\n",
              "\n",
              "\n",
              "    <p style=\"margin-bottom: 2.5em; margin-top:-0.5em;\">\n",
              "        <span style=\"background-color: hsl(120, 100.00%, 99.19%); opacity: 0.80\" title=\"0.008\">in</span><span style=\"opacity: 0.80\"> </span><span style=\"background-color: hsl(0, 100.00%, 97.07%); opacity: 0.80\" title=\"-0.047\">pasadena</span><span style=\"opacity: 0.80\">, </span><span style=\"background-color: hsl(120, 100.00%, 84.34%); opacity: 0.85\" title=\"0.519\">mrs</span><span style=\"opacity: 0.80\">. </span><span style=\"background-color: hsl(0, 100.00%, 95.94%); opacity: 0.81\" title=\"-0.076\">davis</span><span style=\"opacity: 0.80\"> (</span><span style=\"background-color: hsl(0, 100.00%, 91.02%); opacity: 0.82\" title=\"-0.235\">joanna</span><span style=\"opacity: 0.80\"> </span><span style=\"background-color: hsl(120, 100.00%, 88.71%); opacity: 0.83\" title=\"0.325\">cassidy</span><span style=\"opacity: 0.80\">) </span><span style=\"background-color: hsl(0, 100.00%, 88.52%); opacity: 0.83\" title=\"-0.333\">sends</span><span style=\"opacity: 0.80\"> </span><span style=\"background-color: hsl(120, 100.00%, 99.05%); opacity: 0.80\" title=\"0.010\">her</span><span style=\"opacity: 0.80\"> </span><span style=\"background-color: hsl(0, 100.00%, 85.15%); opacity: 0.85\" title=\"-0.481\">daughter</span><span style=\"opacity: 0.80\"> </span><span style=\"background-color: hsl(0, 100.00%, 97.09%); opacity: 0.80\" title=\"-0.047\">aubrey</span><span style=\"opacity: 0.80\"> </span><span style=\"background-color: hsl(0, 100.00%, 95.94%); opacity: 0.81\" title=\"-0.076\">davis</span><span style=\"opacity: 0.80\"> (</span><span style=\"background-color: hsl(120, 100.00%, 95.22%); opacity: 0.81\" title=\"0.095\">amber</span><span style=\"opacity: 0.80\"> </span><span style=\"background-color: hsl(0, 100.00%, 93.23%); opacity: 0.82\" title=\"-0.157\">tamblyn</span><span style=\"opacity: 0.80\">) </span><span style=\"background-color: hsl(120, 100.00%, 98.72%); opacity: 0.80\" title=\"0.014\">to</span><span style=\"opacity: 0.80\"> </span><span style=\"background-color: hsl(120, 100.00%, 97.35%); opacity: 0.80\" title=\"0.041\">tokyo</span><span style=\"opacity: 0.80\"> </span><span style=\"background-color: hsl(120, 100.00%, 98.72%); opacity: 0.80\" title=\"0.014\">to</span><span style=\"opacity: 0.80\"> </span><span style=\"background-color: hsl(120, 100.00%, 94.40%); opacity: 0.81\" title=\"0.120\">bring</span><span style=\"opacity: 0.80\"> </span><span style=\"background-color: hsl(120, 100.00%, 99.05%); opacity: 0.80\" title=\"0.010\">her</span><span style=\"opacity: 0.80\"> </span><span style=\"background-color: hsl(120, 100.00%, 93.81%); opacity: 0.81\" title=\"0.138\">sister</span><span style=\"opacity: 0.80\"> </span><span style=\"background-color: hsl(120, 100.00%, 90.52%); opacity: 0.83\" title=\"0.253\">karen</span><span style=\"opacity: 0.80\"> </span><span style=\"background-color: hsl(0, 100.00%, 95.94%); opacity: 0.81\" title=\"-0.076\">davis</span><span style=\"opacity: 0.80\"> (</span><span style=\"background-color: hsl(120, 100.00%, 93.52%); opacity: 0.81\" title=\"0.147\">sarah</span><span style=\"opacity: 0.80\"> </span><span style=\"background-color: hsl(120, 100.00%, 95.51%); opacity: 0.81\" title=\"0.087\">michelle</span><span style=\"opacity: 0.80\"> </span><span style=\"background-color: hsl(0, 100.00%, 96.62%); opacity: 0.81\" title=\"-0.058\">gellar</span><span style=\"opacity: 0.80\">), </span><span style=\"background-color: hsl(120, 100.00%, 91.94%); opacity: 0.82\" title=\"0.201\">who</span><span style=\"opacity: 0.80\"> </span><span style=\"background-color: hsl(120, 100.00%, 96.10%); opacity: 0.81\" title=\"0.071\">is</span><span style=\"opacity: 0.80\"> </span><span style=\"background-color: hsl(120, 100.00%, 99.52%); opacity: 0.80\" title=\"0.004\">interned</span><span style=\"opacity: 0.80\"> </span><span style=\"background-color: hsl(120, 100.00%, 99.19%); opacity: 0.80\" title=\"0.008\">in</span><span style=\"opacity: 0.80\"> a </span><span style=\"background-color: hsl(0, 100.00%, 86.15%); opacity: 0.84\" title=\"-0.436\">hospital</span><span style=\"opacity: 0.80\"> </span><span style=\"background-color: hsl(0, 100.00%, 97.61%); opacity: 0.80\" title=\"-0.035\">after</span><span style=\"opacity: 0.80\"> </span><span style=\"background-color: hsl(120, 100.00%, 93.67%); opacity: 0.81\" title=\"0.142\">surviving</span><span style=\"opacity: 0.80\"> a </span><span style=\"background-color: hsl(0, 100.00%, 97.83%); opacity: 0.80\" title=\"-0.031\">fire</span><span style=\"opacity: 0.80\">, </span><span style=\"background-color: hsl(0, 100.00%, 97.48%); opacity: 0.80\" title=\"-0.038\">back</span><span style=\"opacity: 0.80\"> </span><span style=\"background-color: hsl(120, 100.00%, 98.72%); opacity: 0.80\" title=\"0.014\">to</span><span style=\"opacity: 0.80\"> </span><span style=\"background-color: hsl(120, 100.00%, 97.83%); opacity: 0.80\" title=\"0.031\">the</span><span style=\"opacity: 0.80\"> </span><span style=\"background-color: hsl(120, 100.00%, 96.58%); opacity: 0.81\" title=\"0.059\">usa</span><span style=\"opacity: 0.80\">. </span><span style=\"background-color: hsl(0, 100.00%, 97.61%); opacity: 0.80\" title=\"-0.035\">after</span><span style=\"opacity: 0.80\"> </span><span style=\"background-color: hsl(120, 100.00%, 98.59%); opacity: 0.80\" title=\"0.017\">their</span><span style=\"opacity: 0.80\"> </span><span style=\"background-color: hsl(120, 100.00%, 99.09%); opacity: 0.80\" title=\"0.009\">meeting</span><span style=\"opacity: 0.80\">, </span><span style=\"background-color: hsl(120, 100.00%, 90.52%); opacity: 0.83\" title=\"0.253\">karen</span><span style=\"opacity: 0.80\"> </span><span style=\"background-color: hsl(0, 100.00%, 99.89%); opacity: 0.80\" title=\"-0.000\">dies</span><span style=\"opacity: 0.80\"> </span><span style=\"background-color: hsl(120, 100.00%, 94.97%); opacity: 0.81\" title=\"0.102\">and</span><span style=\"opacity: 0.80\"> </span><span style=\"background-color: hsl(0, 100.00%, 97.09%); opacity: 0.80\" title=\"-0.047\">aubrey</span><span style=\"opacity: 0.80\"> </span><span style=\"background-color: hsl(0, 100.00%, 84.81%); opacity: 0.85\" title=\"-0.497\">decides</span><span style=\"opacity: 0.80\"> </span><span style=\"background-color: hsl(120, 100.00%, 98.72%); opacity: 0.80\" title=\"0.014\">to</span><span style=\"opacity: 0.80\"> </span><span style=\"background-color: hsl(120, 100.00%, 88.70%); opacity: 0.83\" title=\"0.326\">investigate</span><span style=\"opacity: 0.80\"> </span><span style=\"background-color: hsl(120, 100.00%, 96.53%); opacity: 0.81\" title=\"0.060\">what</span><span style=\"opacity: 0.80\"> </span><span style=\"background-color: hsl(120, 100.00%, 92.36%); opacity: 0.82\" title=\"0.186\">happened</span><span style=\"opacity: 0.80\"> </span><span style=\"background-color: hsl(120, 100.00%, 98.72%); opacity: 0.80\" title=\"0.014\">to</span><span style=\"opacity: 0.80\"> </span><span style=\"background-color: hsl(120, 100.00%, 99.05%); opacity: 0.80\" title=\"0.010\">her</span><span style=\"opacity: 0.80\"> </span><span style=\"background-color: hsl(120, 100.00%, 94.97%); opacity: 0.81\" title=\"0.102\">and</span><span style=\"opacity: 0.80\"> </span><span style=\"background-color: hsl(120, 100.00%, 95.72%); opacity: 0.81\" title=\"0.081\">gets</span><span style=\"opacity: 0.80\"> </span><span style=\"background-color: hsl(120, 100.00%, 86.36%); opacity: 0.84\" title=\"0.426\">herself</span><span style=\"opacity: 0.80\"> </span><span style=\"background-color: hsl(120, 100.00%, 90.86%); opacity: 0.82\" title=\"0.241\">cursed</span><span style=\"opacity: 0.80\"> </span><span style=\"background-color: hsl(120, 100.00%, 99.19%); opacity: 0.80\" title=\"0.008\">in</span><span style=\"opacity: 0.80\"> </span><span style=\"background-color: hsl(120, 100.00%, 97.83%); opacity: 0.80\" title=\"0.031\">the</span><span style=\"opacity: 0.80\"> </span><span style=\"background-color: hsl(0, 100.00%, 92.94%); opacity: 0.82\" title=\"-0.167\">same</span><span style=\"opacity: 0.80\"> </span><span style=\"background-color: hsl(120, 100.00%, 94.80%); opacity: 0.81\" title=\"0.107\">situation</span><span style=\"opacity: 0.80\">, </span><span style=\"background-color: hsl(120, 100.00%, 98.48%); opacity: 0.80\" title=\"0.018\">being</span><span style=\"opacity: 0.80\"> </span><span style=\"background-color: hsl(0, 100.00%, 89.35%); opacity: 0.83\" title=\"-0.299\">chased</span><span style=\"opacity: 0.80\"> </span><span style=\"background-color: hsl(0, 100.00%, 95.85%); opacity: 0.81\" title=\"-0.078\">by</span><span style=\"opacity: 0.80\"> </span><span style=\"background-color: hsl(120, 100.00%, 97.83%); opacity: 0.80\" title=\"0.031\">the</span><span style=\"opacity: 0.80\"> </span><span style=\"background-color: hsl(0, 100.00%, 91.92%); opacity: 0.82\" title=\"-0.202\">ghost</span><span style=\"opacity: 0.80\"> </span><span style=\"background-color: hsl(0, 100.00%, 96.05%); opacity: 0.81\" title=\"-0.073\">of</span><span style=\"opacity: 0.80\"> </span><span style=\"background-color: hsl(120, 100.00%, 97.83%); opacity: 0.80\" title=\"0.031\">the</span><span style=\"opacity: 0.80\"> </span><span style=\"background-color: hsl(120, 100.00%, 94.48%); opacity: 0.81\" title=\"0.117\">house</span><span style=\"opacity: 0.80\">. </span><span style=\"background-color: hsl(0, 100.00%, 85.32%); opacity: 0.85\" title=\"-0.474\">meanwhile</span><span style=\"opacity: 0.80\"> </span><span style=\"background-color: hsl(120, 100.00%, 99.19%); opacity: 0.80\" title=\"0.008\">in</span><span style=\"opacity: 0.80\"> </span><span style=\"background-color: hsl(120, 100.00%, 97.35%); opacity: 0.80\" title=\"0.041\">tokyo</span><span style=\"opacity: 0.80\">, </span><span style=\"background-color: hsl(120, 100.00%, 97.83%); opacity: 0.80\" title=\"0.031\">the</span><span style=\"opacity: 0.80\"> </span><span style=\"background-color: hsl(0, 100.00%, 86.34%); opacity: 0.84\" title=\"-0.427\">three</span><span style=\"opacity: 0.80\"> </span><span style=\"background-color: hsl(120, 100.00%, 94.99%); opacity: 0.81\" title=\"0.102\">high</span><span style=\"opacity: 0.80\"> </span><span style=\"background-color: hsl(120, 100.00%, 94.48%); opacity: 0.81\" title=\"0.117\">school</span><span style=\"opacity: 0.80\"> </span><span style=\"background-color: hsl(0, 100.00%, 93.35%); opacity: 0.82\" title=\"-0.153\">mates</span><span style=\"opacity: 0.80\"> </span><span style=\"background-color: hsl(120, 100.00%, 91.90%); opacity: 0.82\" title=\"0.202\">allison</span><span style=\"opacity: 0.80\"> (</span><span style=\"background-color: hsl(0, 100.00%, 98.28%); opacity: 0.80\" title=\"-0.022\">arielle</span><span style=\"opacity: 0.80\"> </span><span style=\"background-color: hsl(0, 100.00%, 98.29%); opacity: 0.80\" title=\"-0.022\">kebbel</span><span style=\"opacity: 0.80\">), </span><span style=\"background-color: hsl(0, 100.00%, 75.52%); opacity: 0.90\" title=\"-0.983\">vanessa</span><span style=\"opacity: 0.80\"> (</span><span style=\"background-color: hsl(0, 100.00%, 92.65%); opacity: 0.82\" title=\"-0.176\">teresa</span><span style=\"opacity: 0.80\"> </span><span style=\"background-color: hsl(0, 100.00%, 94.17%); opacity: 0.81\" title=\"-0.127\">palmer</span><span style=\"opacity: 0.80\">) </span><span style=\"background-color: hsl(120, 100.00%, 94.97%); opacity: 0.81\" title=\"0.102\">and</span><span style=\"opacity: 0.80\"> miyuki (misako </span><span style=\"background-color: hsl(0, 100.00%, 99.68%); opacity: 0.80\" title=\"-0.002\">uno</span><span style=\"opacity: 0.80\">) </span><span style=\"background-color: hsl(0, 100.00%, 94.10%); opacity: 0.81\" title=\"-0.129\">visit</span><span style=\"opacity: 0.80\"> </span><span style=\"background-color: hsl(120, 100.00%, 97.83%); opacity: 0.80\" title=\"0.031\">the</span><span style=\"opacity: 0.80\"> </span><span style=\"background-color: hsl(120, 100.00%, 89.43%); opacity: 0.83\" title=\"0.296\">famous</span><span style=\"opacity: 0.80\"> </span><span style=\"background-color: hsl(120, 100.00%, 83.97%); opacity: 0.85\" title=\"0.537\">haunted</span><span style=\"opacity: 0.80\"> </span><span style=\"background-color: hsl(120, 100.00%, 94.48%); opacity: 0.81\" title=\"0.117\">house</span><span style=\"opacity: 0.80\"> </span><span style=\"background-color: hsl(120, 100.00%, 94.97%); opacity: 0.81\" title=\"0.102\">and</span><span style=\"opacity: 0.80\"> </span><span style=\"background-color: hsl(0, 100.00%, 95.15%); opacity: 0.81\" title=\"-0.097\">are</span><span style=\"opacity: 0.80\"> </span><span style=\"background-color: hsl(120, 100.00%, 90.55%); opacity: 0.83\" title=\"0.252\">also</span><span style=\"opacity: 0.80\"> </span><span style=\"background-color: hsl(120, 100.00%, 90.86%); opacity: 0.82\" title=\"0.241\">cursed</span><span style=\"opacity: 0.80\"> </span><span style=\"background-color: hsl(120, 100.00%, 94.97%); opacity: 0.81\" title=\"0.102\">and</span><span style=\"opacity: 0.80\"> </span><span style=\"background-color: hsl(0, 100.00%, 89.35%); opacity: 0.83\" title=\"-0.299\">chased</span><span style=\"opacity: 0.80\"> </span><span style=\"background-color: hsl(0, 100.00%, 95.85%); opacity: 0.81\" title=\"-0.078\">by</span><span style=\"opacity: 0.80\"> </span><span style=\"background-color: hsl(120, 100.00%, 97.83%); opacity: 0.80\" title=\"0.031\">the</span><span style=\"opacity: 0.80\"> </span><span style=\"background-color: hsl(0, 100.00%, 91.92%); opacity: 0.82\" title=\"-0.202\">ghost</span><span style=\"opacity: 0.80\">. </span><span style=\"background-color: hsl(120, 100.00%, 99.19%); opacity: 0.80\" title=\"0.008\">in</span><span style=\"opacity: 0.80\"> </span><span style=\"background-color: hsl(120, 100.00%, 93.06%); opacity: 0.82\" title=\"0.162\">chicago</span><span style=\"opacity: 0.80\">, </span><span style=\"background-color: hsl(0, 100.00%, 99.03%); opacity: 0.80\" title=\"-0.010\">trish</span><span style=\"opacity: 0.80\"> (</span><span style=\"background-color: hsl(0, 100.00%, 86.16%); opacity: 0.84\" title=\"-0.436\">jennifer</span><span style=\"opacity: 0.80\"> </span><span style=\"background-color: hsl(0, 100.00%, 90.87%); opacity: 0.82\" title=\"-0.240\">beals</span><span style=\"opacity: 0.80\">) </span><span style=\"background-color: hsl(120, 100.00%, 92.15%); opacity: 0.82\" title=\"0.193\">moves</span><span style=\"opacity: 0.80\"> </span><span style=\"background-color: hsl(120, 100.00%, 98.72%); opacity: 0.80\" title=\"0.014\">to</span><span style=\"opacity: 0.80\"> </span><span style=\"background-color: hsl(120, 100.00%, 97.83%); opacity: 0.80\" title=\"0.031\">the</span><span style=\"opacity: 0.80\"> </span><span style=\"background-color: hsl(120, 100.00%, 80.59%); opacity: 0.87\" title=\"0.705\">apartment</span><span style=\"opacity: 0.80\"> </span><span style=\"background-color: hsl(0, 100.00%, 96.05%); opacity: 0.81\" title=\"-0.073\">of</span><span style=\"opacity: 0.80\"> </span><span style=\"background-color: hsl(120, 100.00%, 99.05%); opacity: 0.80\" title=\"0.010\">her</span><span style=\"opacity: 0.80\"> </span><span style=\"background-color: hsl(0, 100.00%, 93.47%); opacity: 0.82\" title=\"-0.149\">boyfriend</span><span style=\"opacity: 0.80\"> </span><span style=\"background-color: hsl(0, 100.00%, 94.36%); opacity: 0.81\" title=\"-0.121\">bill</span><span style=\"opacity: 0.80\"> (</span><span style=\"background-color: hsl(0, 100.00%, 95.07%); opacity: 0.81\" title=\"-0.100\">christopher</span><span style=\"opacity: 0.80\"> </span><span style=\"background-color: hsl(0, 100.00%, 97.59%); opacity: 0.80\" title=\"-0.036\">cousins</span><span style=\"opacity: 0.80\">), </span><span style=\"background-color: hsl(120, 100.00%, 91.94%); opacity: 0.82\" title=\"0.201\">who</span><span style=\"opacity: 0.80\"> </span><span style=\"background-color: hsl(120, 100.00%, 86.46%); opacity: 0.84\" title=\"0.422\">lives</span><span style=\"opacity: 0.80\"> </span><span style=\"background-color: hsl(120, 100.00%, 98.92%); opacity: 0.80\" title=\"0.011\">with</span><span style=\"opacity: 0.80\"> </span><span style=\"background-color: hsl(120, 100.00%, 95.58%); opacity: 0.81\" title=\"0.085\">his</span><span style=\"opacity: 0.80\"> </span><span style=\"background-color: hsl(0, 100.00%, 92.66%); opacity: 0.82\" title=\"-0.176\">children</span><span style=\"opacity: 0.80\">, </span><span style=\"background-color: hsl(120, 100.00%, 97.83%); opacity: 0.80\" title=\"0.031\">the</span><span style=\"opacity: 0.80\"> </span><span style=\"background-color: hsl(120, 100.00%, 94.83%); opacity: 0.81\" title=\"0.107\">teenager</span><span style=\"opacity: 0.80\"> </span><span style=\"background-color: hsl(0, 100.00%, 95.43%); opacity: 0.81\" title=\"-0.089\">lacey</span><span style=\"opacity: 0.80\"> (</span><span style=\"background-color: hsl(120, 100.00%, 93.52%); opacity: 0.81\" title=\"0.147\">sarah</span><span style=\"opacity: 0.80\"> roehmer) </span><span style=\"background-color: hsl(120, 100.00%, 94.97%); opacity: 0.81\" title=\"0.102\">and</span><span style=\"opacity: 0.80\"> </span><span style=\"background-color: hsl(120, 100.00%, 99.10%); opacity: 0.80\" title=\"0.009\">boy</span><span style=\"opacity: 0.80\"> </span><span style=\"background-color: hsl(120, 100.00%, 88.84%); opacity: 0.83\" title=\"0.320\">jake</span><span style=\"opacity: 0.80\"> (</span><span style=\"background-color: hsl(0, 100.00%, 86.15%); opacity: 0.84\" title=\"-0.436\">matthew</span><span style=\"opacity: 0.80\"> </span><span style=\"background-color: hsl(120, 100.00%, 97.16%); opacity: 0.80\" title=\"0.045\">knight</span><span style=\"opacity: 0.80\">). </span><span style=\"background-color: hsl(0, 100.00%, 98.08%); opacity: 0.80\" title=\"-0.026\">on</span><span style=\"opacity: 0.80\"> </span><span style=\"background-color: hsl(120, 100.00%, 97.83%); opacity: 0.80\" title=\"0.031\">the</span><span style=\"opacity: 0.80\"> </span><span style=\"background-color: hsl(0, 100.00%, 98.26%); opacity: 0.80\" title=\"-0.023\">next</span><span style=\"opacity: 0.80\"> </span><span style=\"background-color: hsl(0, 100.00%, 90.05%); opacity: 0.83\" title=\"-0.272\">door</span><span style=\"opacity: 0.80\">, </span><span style=\"background-color: hsl(120, 100.00%, 83.92%); opacity: 0.85\" title=\"0.539\">weird</span><span style=\"opacity: 0.80\"> </span><span style=\"background-color: hsl(120, 100.00%, 88.60%); opacity: 0.83\" title=\"0.330\">things</span><span style=\"opacity: 0.80\"> </span><span style=\"background-color: hsl(120, 100.00%, 93.17%); opacity: 0.82\" title=\"0.159\">happen</span><span style=\"opacity: 0.80\"> </span><span style=\"background-color: hsl(120, 100.00%, 98.92%); opacity: 0.80\" title=\"0.011\">with</span><span style=\"opacity: 0.80\"> </span><span style=\"background-color: hsl(120, 100.00%, 98.59%); opacity: 0.80\" title=\"0.017\">their</span><span style=\"opacity: 0.80\"> </span><span style=\"background-color: hsl(120, 100.00%, 87.70%); opacity: 0.84\" title=\"0.368\">neighbor</span><span style=\"opacity: 0.80\">.  &quot;</span><span style=\"background-color: hsl(120, 100.00%, 97.83%); opacity: 0.80\" title=\"0.031\">the</span><span style=\"opacity: 0.80\"> </span><span style=\"background-color: hsl(0, 100.00%, 97.71%); opacity: 0.80\" title=\"-0.033\">grudge</span><span style=\"opacity: 0.80\"> 2&quot; </span><span style=\"background-color: hsl(120, 100.00%, 98.11%); opacity: 0.80\" title=\"0.025\">has</span><span style=\"opacity: 0.80\"> </span><span style=\"background-color: hsl(0, 100.00%, 86.46%); opacity: 0.84\" title=\"-0.422\">scary</span><span style=\"opacity: 0.80\"> </span><span style=\"background-color: hsl(0, 100.00%, 95.08%); opacity: 0.81\" title=\"-0.099\">sound</span><span style=\"opacity: 0.80\"> </span><span style=\"background-color: hsl(120, 100.00%, 94.97%); opacity: 0.81\" title=\"0.102\">and</span><span style=\"opacity: 0.80\"> </span><span style=\"background-color: hsl(0, 100.00%, 91.85%); opacity: 0.82\" title=\"-0.204\">visual</span><span style=\"opacity: 0.80\"> </span><span style=\"background-color: hsl(0, 100.00%, 96.72%); opacity: 0.81\" title=\"-0.056\">effects</span><span style=\"opacity: 0.80\">, </span><span style=\"background-color: hsl(120, 100.00%, 98.92%); opacity: 0.80\" title=\"0.011\">with</span><span style=\"opacity: 0.80\"> </span><span style=\"background-color: hsl(120, 100.00%, 97.83%); opacity: 0.80\" title=\"0.031\">the</span><span style=\"opacity: 0.80\"> </span><span style=\"background-color: hsl(0, 100.00%, 91.53%); opacity: 0.82\" title=\"-0.216\">creepy</span><span style=\"opacity: 0.80\"> </span><span style=\"background-color: hsl(0, 100.00%, 93.27%); opacity: 0.82\" title=\"-0.155\">woman</span><span style=\"opacity: 0.80\"> </span><span style=\"background-color: hsl(120, 100.00%, 94.97%); opacity: 0.81\" title=\"0.102\">and</span><span style=\"opacity: 0.80\"> </span><span style=\"background-color: hsl(120, 100.00%, 99.10%); opacity: 0.80\" title=\"0.009\">boy</span><span style=\"opacity: 0.80\">, </span><span style=\"background-color: hsl(120, 100.00%, 94.97%); opacity: 0.81\" title=\"0.102\">and</span><span style=\"opacity: 0.80\"> i </span><span style=\"background-color: hsl(0, 100.00%, 97.16%); opacity: 0.80\" title=\"-0.045\">have</span><span style=\"opacity: 0.80\"> </span><span style=\"background-color: hsl(120, 100.00%, 99.47%); opacity: 0.80\" title=\"0.004\">startled</span><span style=\"opacity: 0.80\"> a </span><span style=\"background-color: hsl(0, 100.00%, 90.42%); opacity: 0.83\" title=\"-0.257\">couple</span><span style=\"opacity: 0.80\"> </span><span style=\"background-color: hsl(0, 100.00%, 96.05%); opacity: 0.81\" title=\"-0.073\">of</span><span style=\"opacity: 0.80\"> </span><span style=\"background-color: hsl(120, 100.00%, 92.88%); opacity: 0.82\" title=\"0.168\">times</span><span style=\"opacity: 0.80\"> </span><span style=\"background-color: hsl(120, 100.00%, 94.32%); opacity: 0.81\" title=\"0.122\">while</span><span style=\"opacity: 0.80\"> </span><span style=\"background-color: hsl(0, 100.00%, 94.81%); opacity: 0.81\" title=\"-0.107\">watching</span><span style=\"opacity: 0.80\"> </span><span style=\"background-color: hsl(0, 100.00%, 96.76%); opacity: 0.81\" title=\"-0.055\">this</span><span style=\"opacity: 0.80\"> </span><span style=\"background-color: hsl(120, 100.00%, 97.62%); opacity: 0.80\" title=\"0.035\">movie</span><span style=\"opacity: 0.80\">. </span><span style=\"background-color: hsl(0, 100.00%, 91.99%); opacity: 0.82\" title=\"-0.199\">however</span><span style=\"opacity: 0.80\">, </span><span style=\"background-color: hsl(120, 100.00%, 97.83%); opacity: 0.80\" title=\"0.031\">the</span><span style=\"opacity: 0.80\"> </span><span style=\"background-color: hsl(120, 100.00%, 89.04%); opacity: 0.83\" title=\"0.312\">complex</span><span style=\"opacity: 0.80\"> </span><span style=\"background-color: hsl(0, 100.00%, 84.64%); opacity: 0.85\" title=\"-0.505\">screenplay</span><span style=\"opacity: 0.80\"> </span><span style=\"background-color: hsl(120, 100.00%, 98.92%); opacity: 0.80\" title=\"0.011\">with</span><span style=\"opacity: 0.80\"> </span><span style=\"background-color: hsl(0, 100.00%, 86.34%); opacity: 0.84\" title=\"-0.427\">three</span><span style=\"opacity: 0.80\"> </span><span style=\"background-color: hsl(120, 100.00%, 77.72%); opacity: 0.89\" title=\"0.859\">subplots</span><span style=\"opacity: 0.80\"> </span><span style=\"background-color: hsl(120, 100.00%, 96.10%); opacity: 0.81\" title=\"0.071\">is</span><span style=\"opacity: 0.80\"> </span><span style=\"background-color: hsl(120, 100.00%, 95.87%); opacity: 0.81\" title=\"0.077\">totally</span><span style=\"opacity: 0.80\"> </span><span style=\"background-color: hsl(120, 100.00%, 89.48%); opacity: 0.83\" title=\"0.294\">confused</span><span style=\"opacity: 0.80\">, </span><span style=\"background-color: hsl(0, 100.00%, 89.40%); opacity: 0.83\" title=\"-0.297\">making</span><span style=\"opacity: 0.80\"> </span><span style=\"background-color: hsl(120, 100.00%, 97.83%); opacity: 0.80\" title=\"0.031\">the</span><span style=\"opacity: 0.80\"> </span><span style=\"background-color: hsl(120, 100.00%, 98.29%); opacity: 0.80\" title=\"0.022\">entwined</span><span style=\"opacity: 0.80\"> </span><span style=\"background-color: hsl(0, 100.00%, 99.68%); opacity: 0.80\" title=\"-0.002\">story</span><span style=\"opacity: 0.80\"> a </span><span style=\"background-color: hsl(0, 100.00%, 95.77%); opacity: 0.81\" title=\"-0.080\">complete</span><span style=\"opacity: 0.80\"> </span><span style=\"background-color: hsl(0, 100.00%, 60.00%); opacity: 1.00\" title=\"-1.983\">mess</span><span style=\"opacity: 0.80\">. </span><span style=\"background-color: hsl(0, 100.00%, 95.36%); opacity: 0.81\" title=\"-0.091\">there</span><span style=\"opacity: 0.80\"> </span><span style=\"background-color: hsl(0, 100.00%, 95.15%); opacity: 0.81\" title=\"-0.097\">are</span><span style=\"opacity: 0.80\"> </span><span style=\"background-color: hsl(0, 100.00%, 89.51%); opacity: 0.83\" title=\"-0.293\">too</span><span style=\"opacity: 0.80\"> </span><span style=\"background-color: hsl(0, 100.00%, 92.46%); opacity: 0.82\" title=\"-0.183\">much</span><span style=\"opacity: 0.80\"> </span><span style=\"background-color: hsl(0, 100.00%, 94.83%); opacity: 0.81\" title=\"-0.106\">characters</span><span style=\"opacity: 0.80\"> </span><span style=\"background-color: hsl(120, 100.00%, 94.97%); opacity: 0.81\" title=\"0.102\">and</span><span style=\"opacity: 0.80\"> </span><span style=\"background-color: hsl(120, 100.00%, 92.95%); opacity: 0.82\" title=\"0.166\">situations</span><span style=\"opacity: 0.80\">, </span><span style=\"background-color: hsl(120, 100.00%, 94.97%); opacity: 0.81\" title=\"0.102\">and</span><span style=\"opacity: 0.80\"> </span><span style=\"background-color: hsl(120, 100.00%, 99.19%); opacity: 0.80\" title=\"0.008\">in</span><span style=\"opacity: 0.80\"> a </span><span style=\"background-color: hsl(120, 100.00%, 83.65%); opacity: 0.86\" title=\"0.552\">certain</span><span style=\"opacity: 0.80\"> </span><span style=\"background-color: hsl(120, 100.00%, 98.48%); opacity: 0.80\" title=\"0.019\">moment</span><span style=\"opacity: 0.80\"> i </span><span style=\"background-color: hsl(0, 100.00%, 97.66%); opacity: 0.80\" title=\"-0.034\">was</span><span style=\"opacity: 0.80\"> </span><span style=\"background-color: hsl(0, 100.00%, 93.33%); opacity: 0.82\" title=\"-0.153\">completely</span><span style=\"opacity: 0.80\"> </span><span style=\"background-color: hsl(0, 100.00%, 93.48%); opacity: 0.81\" title=\"-0.148\">lost</span><span style=\"opacity: 0.80\"> </span><span style=\"background-color: hsl(120, 100.00%, 98.92%); opacity: 0.80\" title=\"0.011\">with</span><span style=\"opacity: 0.80\"> </span><span style=\"background-color: hsl(120, 100.00%, 97.83%); opacity: 0.80\" title=\"0.031\">the</span><span style=\"opacity: 0.80\"> </span><span style=\"background-color: hsl(0, 100.00%, 90.03%); opacity: 0.83\" title=\"-0.273\">disconnected</span><span style=\"opacity: 0.80\"> </span><span style=\"background-color: hsl(120, 100.00%, 94.97%); opacity: 0.81\" title=\"0.102\">and</span><span style=\"opacity: 0.80\"> </span><span style=\"background-color: hsl(0, 100.00%, 99.17%); opacity: 0.80\" title=\"-0.008\">fragmented</span><span style=\"opacity: 0.80\"> </span><span style=\"background-color: hsl(0, 100.00%, 95.66%); opacity: 0.81\" title=\"-0.083\">narrative</span><span style=\"opacity: 0.80\">. </span><span style=\"background-color: hsl(120, 100.00%, 99.19%); opacity: 0.80\" title=\"0.008\">in</span><span style=\"opacity: 0.80\"> </span><span style=\"background-color: hsl(120, 100.00%, 97.83%); opacity: 0.80\" title=\"0.031\">the</span><span style=\"opacity: 0.80\"> </span><span style=\"background-color: hsl(120, 100.00%, 98.04%); opacity: 0.80\" title=\"0.027\">end</span><span style=\"opacity: 0.80\">, i </span><span style=\"background-color: hsl(0, 100.00%, 97.66%); opacity: 0.80\" title=\"-0.034\">was</span><span style=\"opacity: 0.80\"> </span><span style=\"background-color: hsl(0, 100.00%, 93.33%); opacity: 0.82\" title=\"-0.153\">completely</span><span style=\"opacity: 0.80\"> </span><span style=\"background-color: hsl(0, 100.00%, 84.99%); opacity: 0.85\" title=\"-0.489\">disappointed</span><span style=\"opacity: 0.80\"> </span><span style=\"background-color: hsl(120, 100.00%, 98.92%); opacity: 0.80\" title=\"0.011\">with</span><span style=\"opacity: 0.80\"> </span><span style=\"background-color: hsl(0, 100.00%, 96.76%); opacity: 0.81\" title=\"-0.055\">this</span><span style=\"opacity: 0.80\"> </span><span style=\"background-color: hsl(120, 100.00%, 89.48%); opacity: 0.83\" title=\"0.294\">confused</span><span style=\"opacity: 0.80\">, </span><span style=\"background-color: hsl(0, 100.00%, 94.63%); opacity: 0.81\" title=\"-0.113\">but</span><span style=\"opacity: 0.80\"> </span><span style=\"background-color: hsl(120, 100.00%, 90.55%); opacity: 0.83\" title=\"0.252\">also</span><span style=\"opacity: 0.80\"> </span><span style=\"background-color: hsl(120, 100.00%, 84.39%); opacity: 0.85\" title=\"0.517\">spooky</span><span style=\"opacity: 0.80\"> </span><span style=\"background-color: hsl(120, 100.00%, 94.98%); opacity: 0.81\" title=\"0.102\">film</span><span style=\"opacity: 0.80\">. </span><span style=\"background-color: hsl(120, 100.00%, 94.90%); opacity: 0.81\" title=\"0.105\">my</span><span style=\"opacity: 0.80\"> </span><span style=\"background-color: hsl(0, 100.00%, 92.13%); opacity: 0.82\" title=\"-0.194\">vote</span><span style=\"opacity: 0.80\"> </span><span style=\"background-color: hsl(120, 100.00%, 96.10%); opacity: 0.81\" title=\"0.071\">is</span><span style=\"opacity: 0.80\"> </span><span style=\"background-color: hsl(0, 100.00%, 87.15%); opacity: 0.84\" title=\"-0.392\">four</span><span style=\"opacity: 0.80\">.  </span><span style=\"background-color: hsl(120, 100.00%, 90.10%); opacity: 0.83\" title=\"0.270\">title</span><span style=\"opacity: 0.80\"> (</span><span style=\"background-color: hsl(120, 100.00%, 87.12%); opacity: 0.84\" title=\"0.393\">brazil</span><span style=\"opacity: 0.80\">): &quot;o grito 2&quot; (&quot;</span><span style=\"background-color: hsl(120, 100.00%, 97.83%); opacity: 0.80\" title=\"0.031\">the</span><span style=\"opacity: 0.80\"> </span><span style=\"background-color: hsl(120, 100.00%, 90.58%); opacity: 0.83\" title=\"0.251\">scream</span><span style=\"opacity: 0.80\"> 2&quot;)</span>\n",
              "    </p>\n",
              "\n",
              "\n",
              "    \n",
              "\n",
              "    \n",
              "\n",
              "    \n",
              "\n",
              "    \n",
              "\n",
              "\n",
              "    \n",
              "\n",
              "    \n",
              "\n",
              "    \n",
              "\n",
              "    \n",
              "\n",
              "    \n",
              "\n",
              "    \n",
              "\n",
              "\n",
              "    \n",
              "\n",
              "    \n",
              "\n",
              "    \n",
              "\n",
              "    \n",
              "\n",
              "    \n",
              "\n",
              "    \n",
              "\n",
              "\n",
              "\n"
            ]
          },
          "metadata": {},
          "execution_count": 370
        }
      ]
    },
    {
      "cell_type": "markdown",
      "source": [
        "tfidf"
      ],
      "metadata": {
        "id": "2HQbTiOvVhRe"
      }
    },
    {
      "cell_type": "code",
      "source": [
        "eli5.show_prediction(classifier_tfidf, test_df['review'][(preds==0) & (preds_tfidf==1) & (test_df['is_positive']==0)].values[0], vec=vectorizer_tfidf, \n",
        "                     targets=['positive'], target_names=['negative', 'positive'])"
      ],
      "metadata": {
        "colab": {
          "base_uri": "https://localhost:8080/",
          "height": 313
        },
        "id": "cxBykrRBVRIH",
        "outputId": "29d014d3-4182-48a4-c2ef-44b2a4dbea93"
      },
      "execution_count": null,
      "outputs": [
        {
          "output_type": "stream",
          "name": "stderr",
          "text": [
            "/usr/local/lib/python3.7/dist-packages/sklearn/utils/deprecation.py:87: FutureWarning: Function get_feature_names is deprecated; get_feature_names is deprecated in 1.0 and will be removed in 1.2. Please use get_feature_names_out instead.\n",
            "  warnings.warn(msg, category=FutureWarning)\n"
          ]
        },
        {
          "output_type": "execute_result",
          "data": {
            "text/plain": [
              "<IPython.core.display.HTML object>"
            ],
            "text/html": [
              "\n",
              "    <style>\n",
              "    table.eli5-weights tr:hover {\n",
              "        filter: brightness(85%);\n",
              "    }\n",
              "</style>\n",
              "\n",
              "\n",
              "\n",
              "    \n",
              "\n",
              "    \n",
              "\n",
              "    \n",
              "\n",
              "    \n",
              "\n",
              "    \n",
              "\n",
              "    \n",
              "\n",
              "\n",
              "    \n",
              "\n",
              "    \n",
              "\n",
              "    \n",
              "\n",
              "    \n",
              "        \n",
              "\n",
              "    \n",
              "\n",
              "        \n",
              "\n",
              "        \n",
              "    \n",
              "        \n",
              "        \n",
              "    \n",
              "        <p style=\"margin-bottom: 0.5em; margin-top: 0em\">\n",
              "            <b>\n",
              "    \n",
              "        y=positive\n",
              "    \n",
              "</b>\n",
              "\n",
              "    \n",
              "    (probability <b>0.504</b>, score <b>0.018</b>)\n",
              "\n",
              "top features\n",
              "        </p>\n",
              "    \n",
              "    <table class=\"eli5-weights\"\n",
              "           style=\"border-collapse: collapse; border: none; margin-top: 0em; table-layout: auto; margin-bottom: 2em;\">\n",
              "        <thead>\n",
              "        <tr style=\"border: none;\">\n",
              "            \n",
              "                <th style=\"padding: 0 1em 0 0.5em; text-align: right; border: none;\" title=\"Feature contribution already accounts for the feature value (for linear models, contribution = weight * feature value), and the sum of feature contributions is equal to the score or, for some classifiers, to the probability. Feature values are shown if &quot;show_feature_values&quot; is True.\">\n",
              "                    Contribution<sup>?</sup>\n",
              "                </th>\n",
              "            \n",
              "            <th style=\"padding: 0 0.5em 0 0.5em; text-align: left; border: none;\">Feature</th>\n",
              "            \n",
              "        </tr>\n",
              "        </thead>\n",
              "        <tbody>\n",
              "        \n",
              "            <tr style=\"background-color: hsl(120, 100.00%, 80.00%); border: none;\">\n",
              "    <td style=\"padding: 0 1em 0 0.5em; text-align: right; border: none;\">\n",
              "        +0.174\n",
              "    </td>\n",
              "    <td style=\"padding: 0 0.5em 0 0.5em; text-align: left; border: none;\">\n",
              "        Highlighted in text (sum)\n",
              "    </td>\n",
              "    \n",
              "</tr>\n",
              "        \n",
              "        \n",
              "\n",
              "        \n",
              "        \n",
              "            <tr style=\"background-color: hsl(0, 100.00%, 81.46%); border: none;\">\n",
              "    <td style=\"padding: 0 1em 0 0.5em; text-align: right; border: none;\">\n",
              "        -0.157\n",
              "    </td>\n",
              "    <td style=\"padding: 0 0.5em 0 0.5em; text-align: left; border: none;\">\n",
              "        &lt;BIAS&gt;\n",
              "    </td>\n",
              "    \n",
              "</tr>\n",
              "        \n",
              "\n",
              "        </tbody>\n",
              "    </table>\n",
              "\n",
              "    \n",
              "\n",
              "\n",
              "\n",
              "    <p style=\"margin-bottom: 2.5em; margin-top:-0.5em;\">\n",
              "        <span style=\"background-color: hsl(120, 100.00%, 96.11%); opacity: 0.81\" title=\"0.007\">in</span><span style=\"opacity: 0.80\"> </span><span style=\"background-color: hsl(120, 100.00%, 96.98%); opacity: 0.80\" title=\"0.005\">pasadena</span><span style=\"opacity: 0.80\">, </span><span style=\"background-color: hsl(120, 100.00%, 92.27%); opacity: 0.82\" title=\"0.020\">mrs</span><span style=\"opacity: 0.80\">. </span><span style=\"background-color: hsl(120, 100.00%, 90.01%); opacity: 0.83\" title=\"0.028\">davis</span><span style=\"opacity: 0.80\"> (</span><span style=\"background-color: hsl(0, 100.00%, 89.02%); opacity: 0.83\" title=\"-0.032\">joanna</span><span style=\"opacity: 0.80\"> </span><span style=\"background-color: hsl(120, 100.00%, 97.04%); opacity: 0.80\" title=\"0.005\">cassidy</span><span style=\"opacity: 0.80\">) </span><span style=\"background-color: hsl(0, 100.00%, 97.64%); opacity: 0.80\" title=\"-0.004\">sends</span><span style=\"opacity: 0.80\"> </span><span style=\"background-color: hsl(120, 100.00%, 93.40%); opacity: 0.82\" title=\"0.016\">her</span><span style=\"opacity: 0.80\"> </span><span style=\"background-color: hsl(0, 100.00%, 79.38%); opacity: 0.88\" title=\"-0.080\">daughter</span><span style=\"opacity: 0.80\"> </span><span style=\"background-color: hsl(120, 100.00%, 97.76%); opacity: 0.80\" title=\"0.003\">aubrey</span><span style=\"opacity: 0.80\"> </span><span style=\"background-color: hsl(120, 100.00%, 90.01%); opacity: 0.83\" title=\"0.028\">davis</span><span style=\"opacity: 0.80\"> (</span><span style=\"background-color: hsl(120, 100.00%, 96.15%); opacity: 0.81\" title=\"0.007\">amber</span><span style=\"opacity: 0.80\"> </span><span style=\"background-color: hsl(0, 100.00%, 95.32%); opacity: 0.81\" title=\"-0.010\">tamblyn</span><span style=\"opacity: 0.80\">) </span><span style=\"background-color: hsl(0, 100.00%, 93.19%); opacity: 0.82\" title=\"-0.016\">to</span><span style=\"opacity: 0.80\"> </span><span style=\"background-color: hsl(0, 100.00%, 94.66%); opacity: 0.81\" title=\"-0.012\">tokyo</span><span style=\"opacity: 0.80\"> </span><span style=\"background-color: hsl(0, 100.00%, 93.19%); opacity: 0.82\" title=\"-0.016\">to</span><span style=\"opacity: 0.80\"> </span><span style=\"background-color: hsl(0, 100.00%, 98.90%); opacity: 0.80\" title=\"-0.001\">bring</span><span style=\"opacity: 0.80\"> </span><span style=\"background-color: hsl(120, 100.00%, 93.40%); opacity: 0.82\" title=\"0.016\">her</span><span style=\"opacity: 0.80\"> </span><span style=\"background-color: hsl(120, 100.00%, 94.47%); opacity: 0.81\" title=\"0.012\">sister</span><span style=\"opacity: 0.80\"> </span><span style=\"background-color: hsl(120, 100.00%, 92.60%); opacity: 0.82\" title=\"0.018\">karen</span><span style=\"opacity: 0.80\"> </span><span style=\"background-color: hsl(120, 100.00%, 90.01%); opacity: 0.83\" title=\"0.028\">davis</span><span style=\"opacity: 0.80\"> (</span><span style=\"background-color: hsl(120, 100.00%, 91.13%); opacity: 0.82\" title=\"0.024\">sarah</span><span style=\"opacity: 0.80\"> </span><span style=\"background-color: hsl(120, 100.00%, 92.61%); opacity: 0.82\" title=\"0.018\">michelle</span><span style=\"opacity: 0.80\"> </span><span style=\"background-color: hsl(0, 100.00%, 91.16%); opacity: 0.82\" title=\"-0.024\">gellar</span><span style=\"opacity: 0.80\">), </span><span style=\"background-color: hsl(120, 100.00%, 91.97%); opacity: 0.82\" title=\"0.021\">who</span><span style=\"opacity: 0.80\"> </span><span style=\"background-color: hsl(120, 100.00%, 92.19%); opacity: 0.82\" title=\"0.020\">is</span><span style=\"opacity: 0.80\"> </span><span style=\"background-color: hsl(120, 100.00%, 98.23%); opacity: 0.80\" title=\"0.002\">interned</span><span style=\"opacity: 0.80\"> </span><span style=\"background-color: hsl(120, 100.00%, 96.11%); opacity: 0.81\" title=\"0.007\">in</span><span style=\"opacity: 0.80\"> a </span><span style=\"background-color: hsl(0, 100.00%, 87.99%); opacity: 0.84\" title=\"-0.037\">hospital</span><span style=\"opacity: 0.80\"> </span><span style=\"background-color: hsl(0, 100.00%, 96.46%); opacity: 0.81\" title=\"-0.006\">after</span><span style=\"opacity: 0.80\"> </span><span style=\"background-color: hsl(120, 100.00%, 97.08%); opacity: 0.80\" title=\"0.005\">surviving</span><span style=\"opacity: 0.80\"> a </span><span style=\"background-color: hsl(0, 100.00%, 90.91%); opacity: 0.82\" title=\"-0.025\">fire</span><span style=\"opacity: 0.80\">, </span><span style=\"background-color: hsl(120, 100.00%, 94.96%); opacity: 0.81\" title=\"0.011\">back</span><span style=\"opacity: 0.80\"> </span><span style=\"background-color: hsl(0, 100.00%, 93.19%); opacity: 0.82\" title=\"-0.016\">to</span><span style=\"opacity: 0.80\"> </span><span style=\"background-color: hsl(120, 100.00%, 95.49%); opacity: 0.81\" title=\"0.009\">the</span><span style=\"opacity: 0.80\"> </span><span style=\"background-color: hsl(120, 100.00%, 95.86%); opacity: 0.81\" title=\"0.008\">usa</span><span style=\"opacity: 0.80\">. </span><span style=\"background-color: hsl(0, 100.00%, 96.46%); opacity: 0.81\" title=\"-0.006\">after</span><span style=\"opacity: 0.80\"> </span><span style=\"background-color: hsl(120, 100.00%, 92.49%); opacity: 0.82\" title=\"0.019\">their</span><span style=\"opacity: 0.80\"> </span><span style=\"background-color: hsl(120, 100.00%, 92.61%); opacity: 0.82\" title=\"0.018\">meeting</span><span style=\"opacity: 0.80\">, </span><span style=\"background-color: hsl(120, 100.00%, 92.60%); opacity: 0.82\" title=\"0.018\">karen</span><span style=\"opacity: 0.80\"> </span><span style=\"background-color: hsl(0, 100.00%, 91.72%); opacity: 0.82\" title=\"-0.022\">dies</span><span style=\"opacity: 0.80\"> </span><span style=\"background-color: hsl(120, 100.00%, 87.12%); opacity: 0.84\" title=\"0.041\">and</span><span style=\"opacity: 0.80\"> </span><span style=\"background-color: hsl(120, 100.00%, 97.76%); opacity: 0.80\" title=\"0.003\">aubrey</span><span style=\"opacity: 0.80\"> </span><span style=\"background-color: hsl(0, 100.00%, 93.74%); opacity: 0.81\" title=\"-0.015\">decides</span><span style=\"opacity: 0.80\"> </span><span style=\"background-color: hsl(0, 100.00%, 93.19%); opacity: 0.82\" title=\"-0.016\">to</span><span style=\"opacity: 0.80\"> </span><span style=\"background-color: hsl(120, 100.00%, 96.58%); opacity: 0.81\" title=\"0.006\">investigate</span><span style=\"opacity: 0.80\"> </span><span style=\"background-color: hsl(120, 100.00%, 94.40%); opacity: 0.81\" title=\"0.012\">what</span><span style=\"opacity: 0.80\"> </span><span style=\"background-color: hsl(0, 100.00%, 95.76%); opacity: 0.81\" title=\"-0.008\">happened</span><span style=\"opacity: 0.80\"> </span><span style=\"background-color: hsl(0, 100.00%, 93.19%); opacity: 0.82\" title=\"-0.016\">to</span><span style=\"opacity: 0.80\"> </span><span style=\"background-color: hsl(120, 100.00%, 93.40%); opacity: 0.82\" title=\"0.016\">her</span><span style=\"opacity: 0.80\"> </span><span style=\"background-color: hsl(120, 100.00%, 87.12%); opacity: 0.84\" title=\"0.041\">and</span><span style=\"opacity: 0.80\"> </span><span style=\"background-color: hsl(0, 100.00%, 90.14%); opacity: 0.83\" title=\"-0.028\">gets</span><span style=\"opacity: 0.80\"> </span><span style=\"background-color: hsl(120, 100.00%, 86.48%); opacity: 0.84\" title=\"0.044\">herself</span><span style=\"opacity: 0.80\"> </span><span style=\"background-color: hsl(120, 100.00%, 93.46%); opacity: 0.82\" title=\"0.015\">cursed</span><span style=\"opacity: 0.80\"> </span><span style=\"background-color: hsl(120, 100.00%, 96.11%); opacity: 0.81\" title=\"0.007\">in</span><span style=\"opacity: 0.80\"> </span><span style=\"background-color: hsl(120, 100.00%, 95.49%); opacity: 0.81\" title=\"0.009\">the</span><span style=\"opacity: 0.80\"> </span><span style=\"background-color: hsl(0, 100.00%, 89.29%); opacity: 0.83\" title=\"-0.031\">same</span><span style=\"opacity: 0.80\"> </span><span style=\"background-color: hsl(120, 100.00%, 86.85%); opacity: 0.84\" title=\"0.042\">situation</span><span style=\"opacity: 0.80\">, </span><span style=\"background-color: hsl(0, 100.00%, 93.80%); opacity: 0.81\" title=\"-0.014\">being</span><span style=\"opacity: 0.80\"> </span><span style=\"background-color: hsl(0, 100.00%, 91.83%); opacity: 0.82\" title=\"-0.021\">chased</span><span style=\"opacity: 0.80\"> </span><span style=\"background-color: hsl(0, 100.00%, 95.56%); opacity: 0.81\" title=\"-0.009\">by</span><span style=\"opacity: 0.80\"> </span><span style=\"background-color: hsl(120, 100.00%, 95.49%); opacity: 0.81\" title=\"0.009\">the</span><span style=\"opacity: 0.80\"> </span><span style=\"background-color: hsl(0, 100.00%, 91.58%); opacity: 0.82\" title=\"-0.022\">ghost</span><span style=\"opacity: 0.80\"> </span><span style=\"background-color: hsl(0, 100.00%, 99.91%); opacity: 0.80\" title=\"-0.000\">of</span><span style=\"opacity: 0.80\"> </span><span style=\"background-color: hsl(120, 100.00%, 95.49%); opacity: 0.81\" title=\"0.009\">the</span><span style=\"opacity: 0.80\"> </span><span style=\"background-color: hsl(120, 100.00%, 94.87%); opacity: 0.81\" title=\"0.011\">house</span><span style=\"opacity: 0.80\">. </span><span style=\"background-color: hsl(0, 100.00%, 93.49%); opacity: 0.81\" title=\"-0.015\">meanwhile</span><span style=\"opacity: 0.80\"> </span><span style=\"background-color: hsl(120, 100.00%, 96.11%); opacity: 0.81\" title=\"0.007\">in</span><span style=\"opacity: 0.80\"> </span><span style=\"background-color: hsl(0, 100.00%, 94.66%); opacity: 0.81\" title=\"-0.012\">tokyo</span><span style=\"opacity: 0.80\">, </span><span style=\"background-color: hsl(120, 100.00%, 95.49%); opacity: 0.81\" title=\"0.009\">the</span><span style=\"opacity: 0.80\"> </span><span style=\"background-color: hsl(0, 100.00%, 86.89%); opacity: 0.84\" title=\"-0.042\">three</span><span style=\"opacity: 0.80\"> </span><span style=\"background-color: hsl(120, 100.00%, 95.25%); opacity: 0.81\" title=\"0.010\">high</span><span style=\"opacity: 0.80\"> </span><span style=\"background-color: hsl(0, 100.00%, 98.77%); opacity: 0.80\" title=\"-0.001\">school</span><span style=\"opacity: 0.80\"> </span><span style=\"background-color: hsl(0, 100.00%, 94.81%); opacity: 0.81\" title=\"-0.011\">mates</span><span style=\"opacity: 0.80\"> </span><span style=\"background-color: hsl(120, 100.00%, 89.09%); opacity: 0.83\" title=\"0.032\">allison</span><span style=\"opacity: 0.80\"> (</span><span style=\"background-color: hsl(0, 100.00%, 96.83%); opacity: 0.81\" title=\"-0.005\">arielle</span><span style=\"opacity: 0.80\"> </span><span style=\"background-color: hsl(0, 100.00%, 96.68%); opacity: 0.81\" title=\"-0.006\">kebbel</span><span style=\"opacity: 0.80\">), </span><span style=\"background-color: hsl(0, 100.00%, 80.54%); opacity: 0.87\" title=\"-0.073\">vanessa</span><span style=\"opacity: 0.80\"> (</span><span style=\"background-color: hsl(0, 100.00%, 95.40%); opacity: 0.81\" title=\"-0.009\">teresa</span><span style=\"opacity: 0.80\"> </span><span style=\"background-color: hsl(0, 100.00%, 93.90%); opacity: 0.81\" title=\"-0.014\">palmer</span><span style=\"opacity: 0.80\">) </span><span style=\"background-color: hsl(120, 100.00%, 87.12%); opacity: 0.84\" title=\"0.041\">and</span><span style=\"opacity: 0.80\"> miyuki (misako </span><span style=\"background-color: hsl(0, 100.00%, 99.11%); opacity: 0.80\" title=\"-0.001\">uno</span><span style=\"opacity: 0.80\">) </span><span style=\"background-color: hsl(120, 100.00%, 95.05%); opacity: 0.81\" title=\"0.010\">visit</span><span style=\"opacity: 0.80\"> </span><span style=\"background-color: hsl(120, 100.00%, 95.49%); opacity: 0.81\" title=\"0.009\">the</span><span style=\"opacity: 0.80\"> </span><span style=\"background-color: hsl(120, 100.00%, 88.92%); opacity: 0.83\" title=\"0.033\">famous</span><span style=\"opacity: 0.80\"> </span><span style=\"background-color: hsl(120, 100.00%, 87.80%); opacity: 0.84\" title=\"0.038\">haunted</span><span style=\"opacity: 0.80\"> </span><span style=\"background-color: hsl(120, 100.00%, 94.87%); opacity: 0.81\" title=\"0.011\">house</span><span style=\"opacity: 0.80\"> </span><span style=\"background-color: hsl(120, 100.00%, 87.12%); opacity: 0.84\" title=\"0.041\">and</span><span style=\"opacity: 0.80\"> </span><span style=\"background-color: hsl(0, 100.00%, 94.11%); opacity: 0.81\" title=\"-0.013\">are</span><span style=\"opacity: 0.80\"> </span><span style=\"background-color: hsl(120, 100.00%, 78.55%); opacity: 0.88\" title=\"0.084\">also</span><span style=\"opacity: 0.80\"> </span><span style=\"background-color: hsl(120, 100.00%, 93.46%); opacity: 0.82\" title=\"0.015\">cursed</span><span style=\"opacity: 0.80\"> </span><span style=\"background-color: hsl(120, 100.00%, 87.12%); opacity: 0.84\" title=\"0.041\">and</span><span style=\"opacity: 0.80\"> </span><span style=\"background-color: hsl(0, 100.00%, 91.83%); opacity: 0.82\" title=\"-0.021\">chased</span><span style=\"opacity: 0.80\"> </span><span style=\"background-color: hsl(0, 100.00%, 95.56%); opacity: 0.81\" title=\"-0.009\">by</span><span style=\"opacity: 0.80\"> </span><span style=\"background-color: hsl(120, 100.00%, 95.49%); opacity: 0.81\" title=\"0.009\">the</span><span style=\"opacity: 0.80\"> </span><span style=\"background-color: hsl(0, 100.00%, 91.58%); opacity: 0.82\" title=\"-0.022\">ghost</span><span style=\"opacity: 0.80\">. </span><span style=\"background-color: hsl(120, 100.00%, 96.11%); opacity: 0.81\" title=\"0.007\">in</span><span style=\"opacity: 0.80\"> </span><span style=\"background-color: hsl(0, 100.00%, 99.63%); opacity: 0.80\" title=\"-0.000\">chicago</span><span style=\"opacity: 0.80\">, </span><span style=\"background-color: hsl(120, 100.00%, 99.14%); opacity: 0.80\" title=\"0.001\">trish</span><span style=\"opacity: 0.80\"> (</span><span style=\"background-color: hsl(0, 100.00%, 85.82%); opacity: 0.85\" title=\"-0.047\">jennifer</span><span style=\"opacity: 0.80\"> </span><span style=\"background-color: hsl(0, 100.00%, 87.46%); opacity: 0.84\" title=\"-0.039\">beals</span><span style=\"opacity: 0.80\">) </span><span style=\"background-color: hsl(120, 100.00%, 85.96%); opacity: 0.84\" title=\"0.046\">moves</span><span style=\"opacity: 0.80\"> </span><span style=\"background-color: hsl(0, 100.00%, 93.19%); opacity: 0.82\" title=\"-0.016\">to</span><span style=\"opacity: 0.80\"> </span><span style=\"background-color: hsl(120, 100.00%, 95.49%); opacity: 0.81\" title=\"0.009\">the</span><span style=\"opacity: 0.80\"> </span><span style=\"background-color: hsl(120, 100.00%, 82.18%); opacity: 0.86\" title=\"0.065\">apartment</span><span style=\"opacity: 0.80\"> </span><span style=\"background-color: hsl(0, 100.00%, 99.91%); opacity: 0.80\" title=\"-0.000\">of</span><span style=\"opacity: 0.80\"> </span><span style=\"background-color: hsl(120, 100.00%, 93.40%); opacity: 0.82\" title=\"0.016\">her</span><span style=\"opacity: 0.80\"> </span><span style=\"background-color: hsl(0, 100.00%, 87.79%); opacity: 0.84\" title=\"-0.038\">boyfriend</span><span style=\"opacity: 0.80\"> </span><span style=\"background-color: hsl(120, 100.00%, 88.26%); opacity: 0.83\" title=\"0.036\">bill</span><span style=\"opacity: 0.80\"> (</span><span style=\"background-color: hsl(0, 100.00%, 90.89%); opacity: 0.82\" title=\"-0.025\">christopher</span><span style=\"opacity: 0.80\"> </span><span style=\"background-color: hsl(0, 100.00%, 93.75%); opacity: 0.81\" title=\"-0.015\">cousins</span><span style=\"opacity: 0.80\">), </span><span style=\"background-color: hsl(120, 100.00%, 91.97%); opacity: 0.82\" title=\"0.021\">who</span><span style=\"opacity: 0.80\"> </span><span style=\"background-color: hsl(120, 100.00%, 80.15%); opacity: 0.87\" title=\"0.075\">lives</span><span style=\"opacity: 0.80\"> </span><span style=\"background-color: hsl(120, 100.00%, 97.24%); opacity: 0.80\" title=\"0.004\">with</span><span style=\"opacity: 0.80\"> </span><span style=\"background-color: hsl(120, 100.00%, 89.68%); opacity: 0.83\" title=\"0.030\">his</span><span style=\"opacity: 0.80\"> </span><span style=\"background-color: hsl(0, 100.00%, 91.45%); opacity: 0.82\" title=\"-0.023\">children</span><span style=\"opacity: 0.80\">, </span><span style=\"background-color: hsl(120, 100.00%, 95.49%); opacity: 0.81\" title=\"0.009\">the</span><span style=\"opacity: 0.80\"> </span><span style=\"background-color: hsl(120, 100.00%, 96.21%); opacity: 0.81\" title=\"0.007\">teenager</span><span style=\"opacity: 0.80\"> </span><span style=\"background-color: hsl(0, 100.00%, 93.02%); opacity: 0.82\" title=\"-0.017\">lacey</span><span style=\"opacity: 0.80\"> (</span><span style=\"background-color: hsl(120, 100.00%, 91.13%); opacity: 0.82\" title=\"0.024\">sarah</span><span style=\"opacity: 0.80\"> roehmer) </span><span style=\"background-color: hsl(120, 100.00%, 87.12%); opacity: 0.84\" title=\"0.041\">and</span><span style=\"opacity: 0.80\"> </span><span style=\"background-color: hsl(120, 100.00%, 92.56%); opacity: 0.82\" title=\"0.019\">boy</span><span style=\"opacity: 0.80\"> </span><span style=\"background-color: hsl(120, 100.00%, 84.56%); opacity: 0.85\" title=\"0.053\">jake</span><span style=\"opacity: 0.80\"> (</span><span style=\"background-color: hsl(0, 100.00%, 93.87%); opacity: 0.81\" title=\"-0.014\">matthew</span><span style=\"opacity: 0.80\"> </span><span style=\"background-color: hsl(0, 100.00%, 97.12%); opacity: 0.80\" title=\"-0.005\">knight</span><span style=\"opacity: 0.80\">). </span><span style=\"background-color: hsl(0, 100.00%, 94.42%); opacity: 0.81\" title=\"-0.012\">on</span><span style=\"opacity: 0.80\"> </span><span style=\"background-color: hsl(120, 100.00%, 95.49%); opacity: 0.81\" title=\"0.009\">the</span><span style=\"opacity: 0.80\"> </span><span style=\"background-color: hsl(120, 100.00%, 94.90%); opacity: 0.81\" title=\"0.011\">next</span><span style=\"opacity: 0.80\"> </span><span style=\"background-color: hsl(0, 100.00%, 91.21%); opacity: 0.82\" title=\"-0.024\">door</span><span style=\"opacity: 0.80\">, </span><span style=\"background-color: hsl(120, 100.00%, 90.50%); opacity: 0.83\" title=\"0.026\">weird</span><span style=\"opacity: 0.80\"> </span><span style=\"background-color: hsl(120, 100.00%, 86.99%); opacity: 0.84\" title=\"0.041\">things</span><span style=\"opacity: 0.80\"> </span><span style=\"background-color: hsl(120, 100.00%, 90.78%); opacity: 0.82\" title=\"0.025\">happen</span><span style=\"opacity: 0.80\"> </span><span style=\"background-color: hsl(120, 100.00%, 97.24%); opacity: 0.80\" title=\"0.004\">with</span><span style=\"opacity: 0.80\"> </span><span style=\"background-color: hsl(120, 100.00%, 92.49%); opacity: 0.82\" title=\"0.019\">their</span><span style=\"opacity: 0.80\"> </span><span style=\"background-color: hsl(120, 100.00%, 92.95%); opacity: 0.82\" title=\"0.017\">neighbor</span><span style=\"opacity: 0.80\">.  &quot;</span><span style=\"background-color: hsl(120, 100.00%, 95.49%); opacity: 0.81\" title=\"0.009\">the</span><span style=\"opacity: 0.80\"> </span><span style=\"background-color: hsl(0, 100.00%, 92.63%); opacity: 0.82\" title=\"-0.018\">grudge</span><span style=\"opacity: 0.80\"> 2&quot; </span><span style=\"background-color: hsl(120, 100.00%, 91.77%); opacity: 0.82\" title=\"0.021\">has</span><span style=\"opacity: 0.80\"> </span><span style=\"background-color: hsl(0, 100.00%, 85.96%); opacity: 0.84\" title=\"-0.046\">scary</span><span style=\"opacity: 0.80\"> </span><span style=\"background-color: hsl(0, 100.00%, 92.97%); opacity: 0.82\" title=\"-0.017\">sound</span><span style=\"opacity: 0.80\"> </span><span style=\"background-color: hsl(120, 100.00%, 87.12%); opacity: 0.84\" title=\"0.041\">and</span><span style=\"opacity: 0.80\"> </span><span style=\"background-color: hsl(120, 100.00%, 96.19%); opacity: 0.81\" title=\"0.007\">visual</span><span style=\"opacity: 0.80\"> </span><span style=\"background-color: hsl(0, 100.00%, 88.57%); opacity: 0.83\" title=\"-0.034\">effects</span><span style=\"opacity: 0.80\">, </span><span style=\"background-color: hsl(120, 100.00%, 97.24%); opacity: 0.80\" title=\"0.004\">with</span><span style=\"opacity: 0.80\"> </span><span style=\"background-color: hsl(120, 100.00%, 95.49%); opacity: 0.81\" title=\"0.009\">the</span><span style=\"opacity: 0.80\"> </span><span style=\"background-color: hsl(120, 100.00%, 99.06%); opacity: 0.80\" title=\"0.001\">creepy</span><span style=\"opacity: 0.80\"> </span><span style=\"background-color: hsl(0, 100.00%, 88.16%); opacity: 0.84\" title=\"-0.036\">woman</span><span style=\"opacity: 0.80\"> </span><span style=\"background-color: hsl(120, 100.00%, 87.12%); opacity: 0.84\" title=\"0.041\">and</span><span style=\"opacity: 0.80\"> </span><span style=\"background-color: hsl(120, 100.00%, 92.56%); opacity: 0.82\" title=\"0.019\">boy</span><span style=\"opacity: 0.80\">, </span><span style=\"background-color: hsl(120, 100.00%, 87.12%); opacity: 0.84\" title=\"0.041\">and</span><span style=\"opacity: 0.80\"> i </span><span style=\"background-color: hsl(0, 100.00%, 91.42%); opacity: 0.82\" title=\"-0.023\">have</span><span style=\"opacity: 0.80\"> </span><span style=\"background-color: hsl(0, 100.00%, 96.41%); opacity: 0.81\" title=\"-0.007\">startled</span><span style=\"opacity: 0.80\"> a </span><span style=\"background-color: hsl(0, 100.00%, 86.56%); opacity: 0.84\" title=\"-0.043\">couple</span><span style=\"opacity: 0.80\"> </span><span style=\"background-color: hsl(0, 100.00%, 99.91%); opacity: 0.80\" title=\"-0.000\">of</span><span style=\"opacity: 0.80\"> </span><span style=\"background-color: hsl(120, 100.00%, 81.19%); opacity: 0.87\" title=\"0.070\">times</span><span style=\"opacity: 0.80\"> </span><span style=\"background-color: hsl(120, 100.00%, 91.28%); opacity: 0.82\" title=\"0.023\">while</span><span style=\"opacity: 0.80\"> </span><span style=\"background-color: hsl(0, 100.00%, 87.25%); opacity: 0.84\" title=\"-0.040\">watching</span><span style=\"opacity: 0.80\"> </span><span style=\"background-color: hsl(0, 100.00%, 93.44%); opacity: 0.82\" title=\"-0.016\">this</span><span style=\"opacity: 0.80\"> </span><span style=\"background-color: hsl(0, 100.00%, 96.98%); opacity: 0.80\" title=\"-0.005\">movie</span><span style=\"opacity: 0.80\">. </span><span style=\"background-color: hsl(0, 100.00%, 87.45%); opacity: 0.84\" title=\"-0.039\">however</span><span style=\"opacity: 0.80\">, </span><span style=\"background-color: hsl(120, 100.00%, 95.49%); opacity: 0.81\" title=\"0.009\">the</span><span style=\"opacity: 0.80\"> </span><span style=\"background-color: hsl(120, 100.00%, 78.71%); opacity: 0.88\" title=\"0.083\">complex</span><span style=\"opacity: 0.80\"> </span><span style=\"background-color: hsl(0, 100.00%, 85.87%); opacity: 0.85\" title=\"-0.046\">screenplay</span><span style=\"opacity: 0.80\"> </span><span style=\"background-color: hsl(120, 100.00%, 97.24%); opacity: 0.80\" title=\"0.004\">with</span><span style=\"opacity: 0.80\"> </span><span style=\"background-color: hsl(0, 100.00%, 86.89%); opacity: 0.84\" title=\"-0.042\">three</span><span style=\"opacity: 0.80\"> </span><span style=\"background-color: hsl(120, 100.00%, 86.53%); opacity: 0.84\" title=\"0.043\">subplots</span><span style=\"opacity: 0.80\"> </span><span style=\"background-color: hsl(120, 100.00%, 92.19%); opacity: 0.82\" title=\"0.020\">is</span><span style=\"opacity: 0.80\"> </span><span style=\"background-color: hsl(0, 100.00%, 89.76%); opacity: 0.83\" title=\"-0.029\">totally</span><span style=\"opacity: 0.80\"> </span><span style=\"background-color: hsl(0, 100.00%, 94.95%); opacity: 0.81\" title=\"-0.011\">confused</span><span style=\"opacity: 0.80\">, </span><span style=\"background-color: hsl(0, 100.00%, 81.22%); opacity: 0.87\" title=\"-0.070\">making</span><span style=\"opacity: 0.80\"> </span><span style=\"background-color: hsl(120, 100.00%, 95.49%); opacity: 0.81\" title=\"0.009\">the</span><span style=\"opacity: 0.80\"> </span><span style=\"background-color: hsl(0, 100.00%, 99.80%); opacity: 0.80\" title=\"-0.000\">entwined</span><span style=\"opacity: 0.80\"> </span><span style=\"background-color: hsl(120, 100.00%, 90.71%); opacity: 0.82\" title=\"0.025\">story</span><span style=\"opacity: 0.80\"> a </span><span style=\"background-color: hsl(0, 100.00%, 83.41%); opacity: 0.86\" title=\"-0.058\">complete</span><span style=\"opacity: 0.80\"> </span><span style=\"background-color: hsl(0, 100.00%, 60.00%); opacity: 1.00\" title=\"-0.205\">mess</span><span style=\"opacity: 0.80\">. </span><span style=\"background-color: hsl(0, 100.00%, 87.81%); opacity: 0.84\" title=\"-0.038\">there</span><span style=\"opacity: 0.80\"> </span><span style=\"background-color: hsl(0, 100.00%, 94.11%); opacity: 0.81\" title=\"-0.013\">are</span><span style=\"opacity: 0.80\"> </span><span style=\"background-color: hsl(0, 100.00%, 84.72%); opacity: 0.85\" title=\"-0.052\">too</span><span style=\"opacity: 0.80\"> </span><span style=\"background-color: hsl(0, 100.00%, 88.22%); opacity: 0.83\" title=\"-0.036\">much</span><span style=\"opacity: 0.80\"> </span><span style=\"background-color: hsl(0, 100.00%, 92.57%); opacity: 0.82\" title=\"-0.019\">characters</span><span style=\"opacity: 0.80\"> </span><span style=\"background-color: hsl(120, 100.00%, 87.12%); opacity: 0.84\" title=\"0.041\">and</span><span style=\"opacity: 0.80\"> </span><span style=\"background-color: hsl(0, 100.00%, 99.31%); opacity: 0.80\" title=\"-0.001\">situations</span><span style=\"opacity: 0.80\">, </span><span style=\"background-color: hsl(120, 100.00%, 87.12%); opacity: 0.84\" title=\"0.041\">and</span><span style=\"opacity: 0.80\"> </span><span style=\"background-color: hsl(120, 100.00%, 96.11%); opacity: 0.81\" title=\"0.007\">in</span><span style=\"opacity: 0.80\"> a </span><span style=\"background-color: hsl(120, 100.00%, 84.89%); opacity: 0.85\" title=\"0.051\">certain</span><span style=\"opacity: 0.80\"> </span><span style=\"background-color: hsl(120, 100.00%, 96.05%); opacity: 0.81\" title=\"0.008\">moment</span><span style=\"opacity: 0.80\"> i </span><span style=\"background-color: hsl(0, 100.00%, 90.15%); opacity: 0.83\" title=\"-0.028\">was</span><span style=\"opacity: 0.80\"> </span><span style=\"background-color: hsl(0, 100.00%, 82.18%); opacity: 0.86\" title=\"-0.065\">completely</span><span style=\"opacity: 0.80\"> </span><span style=\"background-color: hsl(0, 100.00%, 92.43%); opacity: 0.82\" title=\"-0.019\">lost</span><span style=\"opacity: 0.80\"> </span><span style=\"background-color: hsl(120, 100.00%, 97.24%); opacity: 0.80\" title=\"0.004\">with</span><span style=\"opacity: 0.80\"> </span><span style=\"background-color: hsl(120, 100.00%, 95.49%); opacity: 0.81\" title=\"0.009\">the</span><span style=\"opacity: 0.80\"> </span><span style=\"background-color: hsl(0, 100.00%, 88.07%); opacity: 0.84\" title=\"-0.036\">disconnected</span><span style=\"opacity: 0.80\"> </span><span style=\"background-color: hsl(120, 100.00%, 87.12%); opacity: 0.84\" title=\"0.041\">and</span><span style=\"opacity: 0.80\"> </span><span style=\"background-color: hsl(0, 100.00%, 93.35%); opacity: 0.82\" title=\"-0.016\">fragmented</span><span style=\"opacity: 0.80\"> </span><span style=\"background-color: hsl(120, 100.00%, 97.77%); opacity: 0.80\" title=\"0.003\">narrative</span><span style=\"opacity: 0.80\">. </span><span style=\"background-color: hsl(120, 100.00%, 96.11%); opacity: 0.81\" title=\"0.007\">in</span><span style=\"opacity: 0.80\"> </span><span style=\"background-color: hsl(120, 100.00%, 95.49%); opacity: 0.81\" title=\"0.009\">the</span><span style=\"opacity: 0.80\"> </span><span style=\"background-color: hsl(0, 100.00%, 95.84%); opacity: 0.81\" title=\"-0.008\">end</span><span style=\"opacity: 0.80\">, i </span><span style=\"background-color: hsl(0, 100.00%, 90.15%); opacity: 0.83\" title=\"-0.028\">was</span><span style=\"opacity: 0.80\"> </span><span style=\"background-color: hsl(0, 100.00%, 82.18%); opacity: 0.86\" title=\"-0.065\">completely</span><span style=\"opacity: 0.80\"> </span><span style=\"background-color: hsl(0, 100.00%, 75.28%); opacity: 0.90\" title=\"-0.103\">disappointed</span><span style=\"opacity: 0.80\"> </span><span style=\"background-color: hsl(120, 100.00%, 97.24%); opacity: 0.80\" title=\"0.004\">with</span><span style=\"opacity: 0.80\"> </span><span style=\"background-color: hsl(0, 100.00%, 93.44%); opacity: 0.82\" title=\"-0.016\">this</span><span style=\"opacity: 0.80\"> </span><span style=\"background-color: hsl(0, 100.00%, 94.95%); opacity: 0.81\" title=\"-0.011\">confused</span><span style=\"opacity: 0.80\">, </span><span style=\"background-color: hsl(0, 100.00%, 94.25%); opacity: 0.81\" title=\"-0.013\">but</span><span style=\"opacity: 0.80\"> </span><span style=\"background-color: hsl(120, 100.00%, 78.55%); opacity: 0.88\" title=\"0.084\">also</span><span style=\"opacity: 0.80\"> </span><span style=\"background-color: hsl(120, 100.00%, 87.33%); opacity: 0.84\" title=\"0.040\">spooky</span><span style=\"opacity: 0.80\"> </span><span style=\"background-color: hsl(120, 100.00%, 93.59%); opacity: 0.81\" title=\"0.015\">film</span><span style=\"opacity: 0.80\">. </span><span style=\"background-color: hsl(120, 100.00%, 85.69%); opacity: 0.85\" title=\"0.047\">my</span><span style=\"opacity: 0.80\"> </span><span style=\"background-color: hsl(0, 100.00%, 94.73%); opacity: 0.81\" title=\"-0.011\">vote</span><span style=\"opacity: 0.80\"> </span><span style=\"background-color: hsl(120, 100.00%, 92.19%); opacity: 0.82\" title=\"0.020\">is</span><span style=\"opacity: 0.80\"> </span><span style=\"background-color: hsl(0, 100.00%, 86.91%); opacity: 0.84\" title=\"-0.042\">four</span><span style=\"opacity: 0.80\">.  </span><span style=\"background-color: hsl(0, 100.00%, 91.61%); opacity: 0.82\" title=\"-0.022\">title</span><span style=\"opacity: 0.80\"> (</span><span style=\"background-color: hsl(120, 100.00%, 87.75%); opacity: 0.84\" title=\"0.038\">brazil</span><span style=\"opacity: 0.80\">): &quot;o grito 2&quot; (&quot;</span><span style=\"background-color: hsl(120, 100.00%, 95.49%); opacity: 0.81\" title=\"0.009\">the</span><span style=\"opacity: 0.80\"> </span><span style=\"background-color: hsl(120, 100.00%, 94.59%); opacity: 0.81\" title=\"0.012\">scream</span><span style=\"opacity: 0.80\"> 2&quot;)</span>\n",
              "    </p>\n",
              "\n",
              "\n",
              "    \n",
              "\n",
              "    \n",
              "\n",
              "    \n",
              "\n",
              "    \n",
              "\n",
              "\n",
              "    \n",
              "\n",
              "    \n",
              "\n",
              "    \n",
              "\n",
              "    \n",
              "\n",
              "    \n",
              "\n",
              "    \n",
              "\n",
              "\n",
              "    \n",
              "\n",
              "    \n",
              "\n",
              "    \n",
              "\n",
              "    \n",
              "\n",
              "    \n",
              "\n",
              "    \n",
              "\n",
              "\n",
              "\n"
            ]
          },
          "metadata": {},
          "execution_count": 371
        }
      ]
    },
    {
      "cell_type": "markdown",
      "metadata": {
        "id": "Xe_CJxQ0tFP9"
      },
      "source": [
        "### N-граммы слов\n",
        "\n",
        "До сих пор мы смотрели на тексты как на мешок слов - но очевидно, что есть разница между `good movie` и `not good movie`.\n",
        "\n",
        "Добавим информацию (хоть какую-то) о последовательностях слов - будем извлекать еще и биграммы слов.\n",
        "\n",
        "В Vectorizer'ах для этого есть параметр `ngram_range=(n_1, n_2)` - он говорит, что нужны n_1-...n_2-граммы.\n",
        "\n",
        "**Задание** Попробуйте увеличенный range и поинтерпретируйте полученный результат."
      ]
    },
    {
      "cell_type": "code",
      "metadata": {
        "id": "RDpdrT0HuKYN",
        "colab": {
          "base_uri": "https://localhost:8080/"
        },
        "outputId": "986e467c-2b09-42a1-9e2d-a6d896fd85f0"
      },
      "source": [
        "vectorizer = TfidfVectorizer(ngram_range=(1, 2))\n",
        "classifier = LogisticRegression()\n",
        "\n",
        "model = Pipeline([\n",
        "    ('vectorizer', vectorizer),\n",
        "    ('classifier', classifier)\n",
        "])\n",
        "\n",
        "model.fit(train_df['review'], train_df['is_positive'])\n",
        "\n",
        "eval_model(model, test_df)"
      ],
      "execution_count": null,
      "outputs": [
        {
          "output_type": "stream",
          "name": "stdout",
          "text": [
            "Test accuracy = 88.64%\n"
          ]
        }
      ]
    },
    {
      "cell_type": "code",
      "source": [
        "vectorizer = TfidfVectorizer(ngram_range=(1, 3))\n",
        "classifier = LogisticRegression()\n",
        "\n",
        "model = Pipeline([\n",
        "    ('vectorizer', vectorizer),\n",
        "    ('classifier', classifier)\n",
        "])\n",
        "\n",
        "model.fit(train_df['review'], train_df['is_positive'])\n",
        "\n",
        "eval_model(model, test_df)"
      ],
      "metadata": {
        "colab": {
          "base_uri": "https://localhost:8080/"
        },
        "id": "N4xptPA7Wrfi",
        "outputId": "1a6d6460-3163-4e54-fac0-4f1c9ad0c8b6"
      },
      "execution_count": null,
      "outputs": [
        {
          "output_type": "stream",
          "name": "stdout",
          "text": [
            "Test accuracy = 87.76%\n"
          ]
        }
      ]
    },
    {
      "cell_type": "markdown",
      "source": [
        "#### Интерпретация:"
      ],
      "metadata": {
        "id": "K0TT1grlYVxn"
      }
    },
    {
      "cell_type": "markdown",
      "source": [
        "Результаты ухудшились, так как различных сочетаний из трёх слов намного больше, следовательно словарь сильно увеличился, следовательно получилось переобучение под определенные сочетания из трёх слов, которые редко встречаются"
      ],
      "metadata": {
        "id": "qK29C4FXWuNx"
      }
    },
    {
      "cell_type": "markdown",
      "metadata": {
        "id": "YrBoThj6wl2F"
      },
      "source": [
        "### N-граммы символов\n",
        "\n",
        "Символьные n-граммы дают простой способ выучить полезные корни и суффиксы, не связываясь с этой вашей лингвистикой - только статистика, только хардкор.\n",
        "\n",
        "Например, слово `badass` мы можем представить в виде такой последовательности триграмм:\n",
        "\n",
        "`##b #ba bad ada das ass ss# s##`\n",
        "\n",
        "So interpretable, неправда ли?\n",
        "\n",
        "Реализовать это дело всё так же просто - нужно поставить `analyzer='char'` в вашем любимом Vectorizer'е и выбрать размер `ngram_range`.\n",
        "\n",
        "**Задание** Запилите классификатор на n-граммах символов и визуализируйте его."
      ]
    },
    {
      "cell_type": "code",
      "metadata": {
        "id": "QFaWmUrGyY3n",
        "colab": {
          "base_uri": "https://localhost:8080/"
        },
        "outputId": "6d74080b-dcc5-4406-bf38-2068cc11ea51"
      },
      "source": [
        "vectorizer = TfidfVectorizer(ngram_range=(2, 6), max_features=20000, analyzer='char')\n",
        "classifier = LogisticRegression()\n",
        "\n",
        "model = Pipeline([\n",
        "    ('vectorizer', vectorizer),\n",
        "    ('classifier', classifier)\n",
        "])\n",
        "\n",
        "model.fit(train_df['review'], train_df['is_positive'])\n",
        "\n",
        "eval_model(model, test_df)"
      ],
      "execution_count": null,
      "outputs": [
        {
          "output_type": "stream",
          "name": "stderr",
          "text": [
            "/usr/local/lib/python3.7/dist-packages/sklearn/linear_model/_logistic.py:818: ConvergenceWarning: lbfgs failed to converge (status=1):\n",
            "STOP: TOTAL NO. of ITERATIONS REACHED LIMIT.\n",
            "\n",
            "Increase the number of iterations (max_iter) or scale the data as shown in:\n",
            "    https://scikit-learn.org/stable/modules/preprocessing.html\n",
            "Please also refer to the documentation for alternative solver options:\n",
            "    https://scikit-learn.org/stable/modules/linear_model.html#logistic-regression\n",
            "  extra_warning_msg=_LOGISTIC_SOLVER_CONVERGENCE_MSG,\n"
          ]
        },
        {
          "output_type": "stream",
          "name": "stdout",
          "text": [
            "Test accuracy = 87.86%\n"
          ]
        }
      ]
    },
    {
      "cell_type": "code",
      "source": [
        "import eli5\n",
        "eli5.show_weights(classifier, vec=vectorizer, top=40)"
      ],
      "metadata": {
        "colab": {
          "base_uri": "https://localhost:8080/",
          "height": 875
        },
        "id": "D6TU8BixYwji",
        "outputId": "93071f0c-20fe-4ce3-d266-8a020e288a80"
      },
      "execution_count": null,
      "outputs": [
        {
          "output_type": "stream",
          "name": "stderr",
          "text": [
            "/usr/local/lib/python3.7/dist-packages/sklearn/utils/deprecation.py:87: FutureWarning: Function get_feature_names is deprecated; get_feature_names is deprecated in 1.0 and will be removed in 1.2. Please use get_feature_names_out instead.\n",
            "  warnings.warn(msg, category=FutureWarning)\n"
          ]
        },
        {
          "output_type": "execute_result",
          "data": {
            "text/plain": [
              "<IPython.core.display.HTML object>"
            ],
            "text/html": [
              "\n",
              "    <style>\n",
              "    table.eli5-weights tr:hover {\n",
              "        filter: brightness(85%);\n",
              "    }\n",
              "</style>\n",
              "\n",
              "\n",
              "\n",
              "    \n",
              "\n",
              "    \n",
              "\n",
              "    \n",
              "\n",
              "    \n",
              "\n",
              "    \n",
              "\n",
              "    \n",
              "\n",
              "\n",
              "    \n",
              "\n",
              "    \n",
              "\n",
              "    \n",
              "\n",
              "    \n",
              "        \n",
              "\n",
              "    \n",
              "\n",
              "        \n",
              "            \n",
              "                \n",
              "                \n",
              "    \n",
              "        <p style=\"margin-bottom: 0.5em; margin-top: 0em\">\n",
              "            <b>\n",
              "    \n",
              "        y=1\n",
              "    \n",
              "</b>\n",
              "\n",
              "top features\n",
              "        </p>\n",
              "    \n",
              "    <table class=\"eli5-weights\"\n",
              "           style=\"border-collapse: collapse; border: none; margin-top: 0em; table-layout: auto; margin-bottom: 2em;\">\n",
              "        <thead>\n",
              "        <tr style=\"border: none;\">\n",
              "            \n",
              "                <th style=\"padding: 0 1em 0 0.5em; text-align: right; border: none;\" title=\"Feature weights. Note that weights do not account for feature value scales, so if feature values have different scales, features with highest weights might not be the most important.\">\n",
              "                    Weight<sup>?</sup>\n",
              "                </th>\n",
              "            \n",
              "            <th style=\"padding: 0 0.5em 0 0.5em; text-align: left; border: none;\">Feature</th>\n",
              "            \n",
              "        </tr>\n",
              "        </thead>\n",
              "        <tbody>\n",
              "        \n",
              "            <tr style=\"background-color: hsl(120, 100.00%, 86.77%); border: none;\">\n",
              "    <td style=\"padding: 0 1em 0 0.5em; text-align: right; border: none;\">\n",
              "        +2.292\n",
              "    </td>\n",
              "    <td style=\"padding: 0 0.5em 0 0.5em; text-align: left; border: none;\">\n",
              "        rf\n",
              "    </td>\n",
              "    \n",
              "</tr>\n",
              "        \n",
              "            <tr style=\"background-color: hsl(120, 100.00%, 86.78%); border: none;\">\n",
              "    <td style=\"padding: 0 1em 0 0.5em; text-align: right; border: none;\">\n",
              "        +2.287\n",
              "    </td>\n",
              "    <td style=\"padding: 0 0.5em 0 0.5em; text-align: left; border: none;\">\n",
              "        <span style=\"background-color: hsl(120, 80%, 70%); margin: 0 0.1em 0 0\" title=\"A space symbol\">&emsp;</span>great\n",
              "    </td>\n",
              "    \n",
              "</tr>\n",
              "        \n",
              "            <tr style=\"background-color: hsl(120, 100.00%, 86.99%); border: none;\">\n",
              "    <td style=\"padding: 0 1em 0 0.5em; text-align: right; border: none;\">\n",
              "        +2.235\n",
              "    </td>\n",
              "    <td style=\"padding: 0 0.5em 0 0.5em; text-align: left; border: none;\">\n",
              "        erf\n",
              "    </td>\n",
              "    \n",
              "</tr>\n",
              "        \n",
              "            <tr style=\"background-color: hsl(120, 100.00%, 87.01%); border: none;\">\n",
              "    <td style=\"padding: 0 1em 0 0.5em; text-align: right; border: none;\">\n",
              "        +2.232\n",
              "    </td>\n",
              "    <td style=\"padding: 0 0.5em 0 0.5em; text-align: left; border: none;\">\n",
              "        reat\n",
              "    </td>\n",
              "    \n",
              "</tr>\n",
              "        \n",
              "            <tr style=\"background-color: hsl(120, 100.00%, 87.16%); border: none;\">\n",
              "    <td style=\"padding: 0 1em 0 0.5em; text-align: right; border: none;\">\n",
              "        +2.193\n",
              "    </td>\n",
              "    <td style=\"padding: 0 0.5em 0 0.5em; text-align: left; border: none;\">\n",
              "        great\n",
              "    </td>\n",
              "    \n",
              "</tr>\n",
              "        \n",
              "        \n",
              "            <tr style=\"background-color: hsl(120, 100.00%, 87.16%); border: none;\">\n",
              "                <td colspan=\"2\" style=\"padding: 0 0.5em 0 0.5em; text-align: center; border: none; white-space: nowrap;\">\n",
              "                    <i>&hellip; 10315 more positive &hellip;</i>\n",
              "                </td>\n",
              "            </tr>\n",
              "        \n",
              "\n",
              "        \n",
              "            <tr style=\"background-color: hsl(0, 100.00%, 87.01%); border: none;\">\n",
              "                <td colspan=\"2\" style=\"padding: 0 0.5em 0 0.5em; text-align: center; border: none; white-space: nowrap;\">\n",
              "                    <i>&hellip; 9646 more negative &hellip;</i>\n",
              "                </td>\n",
              "            </tr>\n",
              "        \n",
              "        \n",
              "            <tr style=\"background-color: hsl(0, 100.00%, 87.01%); border: none;\">\n",
              "    <td style=\"padding: 0 1em 0 0.5em; text-align: right; border: none;\">\n",
              "        -2.231\n",
              "    </td>\n",
              "    <td style=\"padding: 0 0.5em 0 0.5em; text-align: left; border: none;\">\n",
              "        <span style=\"background-color: hsl(0, 80%, 70%); margin: 0 0.1em 0 0\" title=\"A space symbol\">&emsp;</span>awful\n",
              "    </td>\n",
              "    \n",
              "</tr>\n",
              "        \n",
              "            <tr style=\"background-color: hsl(0, 100.00%, 87.01%); border: none;\">\n",
              "    <td style=\"padding: 0 1em 0 0.5em; text-align: right; border: none;\">\n",
              "        -2.231\n",
              "    </td>\n",
              "    <td style=\"padding: 0 0.5em 0 0.5em; text-align: left; border: none;\">\n",
              "        <span style=\"background-color: hsl(0, 80%, 70%); margin: 0 0.1em 0 0\" title=\"A space symbol\">&emsp;</span>awfu\n",
              "    </td>\n",
              "    \n",
              "</tr>\n",
              "        \n",
              "            <tr style=\"background-color: hsl(0, 100.00%, 87.01%); border: none;\">\n",
              "    <td style=\"padding: 0 1em 0 0.5em; text-align: right; border: none;\">\n",
              "        -2.231\n",
              "    </td>\n",
              "    <td style=\"padding: 0 0.5em 0 0.5em; text-align: left; border: none;\">\n",
              "        <span style=\"background-color: hsl(0, 80%, 70%); margin: 0 0.1em 0 0\" title=\"A space symbol\">&emsp;</span>awf\n",
              "    </td>\n",
              "    \n",
              "</tr>\n",
              "        \n",
              "            <tr style=\"background-color: hsl(0, 100.00%, 86.81%); border: none;\">\n",
              "    <td style=\"padding: 0 1em 0 0.5em; text-align: right; border: none;\">\n",
              "        -2.281\n",
              "    </td>\n",
              "    <td style=\"padding: 0 0.5em 0 0.5em; text-align: left; border: none;\">\n",
              "        poo\n",
              "    </td>\n",
              "    \n",
              "</tr>\n",
              "        \n",
              "            <tr style=\"background-color: hsl(0, 100.00%, 86.77%); border: none;\">\n",
              "    <td style=\"padding: 0 1em 0 0.5em; text-align: right; border: none;\">\n",
              "        -2.291\n",
              "    </td>\n",
              "    <td style=\"padding: 0 0.5em 0 0.5em; text-align: left; border: none;\">\n",
              "        oor\n",
              "    </td>\n",
              "    \n",
              "</tr>\n",
              "        \n",
              "            <tr style=\"background-color: hsl(0, 100.00%, 86.56%); border: none;\">\n",
              "    <td style=\"padding: 0 1em 0 0.5em; text-align: right; border: none;\">\n",
              "        -2.342\n",
              "    </td>\n",
              "    <td style=\"padding: 0 0.5em 0 0.5em; text-align: left; border: none;\">\n",
              "        wful\n",
              "    </td>\n",
              "    \n",
              "</tr>\n",
              "        \n",
              "            <tr style=\"background-color: hsl(0, 100.00%, 86.56%); border: none;\">\n",
              "    <td style=\"padding: 0 1em 0 0.5em; text-align: right; border: none;\">\n",
              "        -2.342\n",
              "    </td>\n",
              "    <td style=\"padding: 0 0.5em 0 0.5em; text-align: left; border: none;\">\n",
              "        wfu\n",
              "    </td>\n",
              "    \n",
              "</tr>\n",
              "        \n",
              "            <tr style=\"background-color: hsl(0, 100.00%, 86.54%); border: none;\">\n",
              "    <td style=\"padding: 0 1em 0 0.5em; text-align: right; border: none;\">\n",
              "        -2.348\n",
              "    </td>\n",
              "    <td style=\"padding: 0 0.5em 0 0.5em; text-align: left; border: none;\">\n",
              "        awful\n",
              "    </td>\n",
              "    \n",
              "</tr>\n",
              "        \n",
              "            <tr style=\"background-color: hsl(0, 100.00%, 86.54%); border: none;\">\n",
              "    <td style=\"padding: 0 1em 0 0.5em; text-align: right; border: none;\">\n",
              "        -2.348\n",
              "    </td>\n",
              "    <td style=\"padding: 0 0.5em 0 0.5em; text-align: left; border: none;\">\n",
              "        awfu\n",
              "    </td>\n",
              "    \n",
              "</tr>\n",
              "        \n",
              "            <tr style=\"background-color: hsl(0, 100.00%, 86.52%); border: none;\">\n",
              "    <td style=\"padding: 0 1em 0 0.5em; text-align: right; border: none;\">\n",
              "        -2.353\n",
              "    </td>\n",
              "    <td style=\"padding: 0 0.5em 0 0.5em; text-align: left; border: none;\">\n",
              "        awf\n",
              "    </td>\n",
              "    \n",
              "</tr>\n",
              "        \n",
              "            <tr style=\"background-color: hsl(0, 100.00%, 86.51%); border: none;\">\n",
              "    <td style=\"padding: 0 1em 0 0.5em; text-align: right; border: none;\">\n",
              "        -2.355\n",
              "    </td>\n",
              "    <td style=\"padding: 0 0.5em 0 0.5em; text-align: left; border: none;\">\n",
              "        ors\n",
              "    </td>\n",
              "    \n",
              "</tr>\n",
              "        \n",
              "            <tr style=\"background-color: hsl(0, 100.00%, 86.47%); border: none;\">\n",
              "    <td style=\"padding: 0 1em 0 0.5em; text-align: right; border: none;\">\n",
              "        -2.365\n",
              "    </td>\n",
              "    <td style=\"padding: 0 0.5em 0 0.5em; text-align: left; border: none;\">\n",
              "        wf\n",
              "    </td>\n",
              "    \n",
              "</tr>\n",
              "        \n",
              "            <tr style=\"background-color: hsl(0, 100.00%, 86.21%); border: none;\">\n",
              "    <td style=\"padding: 0 1em 0 0.5em; text-align: right; border: none;\">\n",
              "        -2.429\n",
              "    </td>\n",
              "    <td style=\"padding: 0 0.5em 0 0.5em; text-align: left; border: none;\">\n",
              "        <span style=\"background-color: hsl(0, 80%, 70%); margin: 0 0.1em 0 0\" title=\"A space symbol\">&emsp;</span>bad<span style=\"background-color: hsl(0, 80%, 70%); margin: 0 0 0 0.1em\" title=\"A space symbol\">&emsp;</span>\n",
              "    </td>\n",
              "    \n",
              "</tr>\n",
              "        \n",
              "            <tr style=\"background-color: hsl(0, 100.00%, 86.19%); border: none;\">\n",
              "    <td style=\"padding: 0 1em 0 0.5em; text-align: right; border: none;\">\n",
              "        -2.436\n",
              "    </td>\n",
              "    <td style=\"padding: 0 0.5em 0 0.5em; text-align: left; border: none;\">\n",
              "        <span style=\"background-color: hsl(0, 80%, 70%); margin: 0 0.1em 0 0\" title=\"A space symbol\">&emsp;</span>bor\n",
              "    </td>\n",
              "    \n",
              "</tr>\n",
              "        \n",
              "            <tr style=\"background-color: hsl(0, 100.00%, 86.16%); border: none;\">\n",
              "    <td style=\"padding: 0 1em 0 0.5em; text-align: right; border: none;\">\n",
              "        -2.444\n",
              "    </td>\n",
              "    <td style=\"padding: 0 0.5em 0 0.5em; text-align: left; border: none;\">\n",
              "        ba\n",
              "    </td>\n",
              "    \n",
              "</tr>\n",
              "        \n",
              "            <tr style=\"background-color: hsl(0, 100.00%, 86.15%); border: none;\">\n",
              "    <td style=\"padding: 0 1em 0 0.5em; text-align: right; border: none;\">\n",
              "        -2.446\n",
              "    </td>\n",
              "    <td style=\"padding: 0 0.5em 0 0.5em; text-align: left; border: none;\">\n",
              "        bad<span style=\"background-color: hsl(0, 80%, 70%); margin: 0 0 0 0.1em\" title=\"A space symbol\">&emsp;</span>\n",
              "    </td>\n",
              "    \n",
              "</tr>\n",
              "        \n",
              "            <tr style=\"background-color: hsl(0, 100.00%, 86.14%); border: none;\">\n",
              "    <td style=\"padding: 0 1em 0 0.5em; text-align: right; border: none;\">\n",
              "        -2.449\n",
              "    </td>\n",
              "    <td style=\"padding: 0 0.5em 0 0.5em; text-align: left; border: none;\">\n",
              "        <span style=\"background-color: hsl(0, 80%, 70%); margin: 0 0.1em 0 0\" title=\"A space symbol\">&emsp;</span>waste\n",
              "    </td>\n",
              "    \n",
              "</tr>\n",
              "        \n",
              "            <tr style=\"background-color: hsl(0, 100.00%, 86.12%); border: none;\">\n",
              "    <td style=\"padding: 0 1em 0 0.5em; text-align: right; border: none;\">\n",
              "        -2.454\n",
              "    </td>\n",
              "    <td style=\"padding: 0 0.5em 0 0.5em; text-align: left; border: none;\">\n",
              "        waste\n",
              "    </td>\n",
              "    \n",
              "</tr>\n",
              "        \n",
              "            <tr style=\"background-color: hsl(0, 100.00%, 85.98%); border: none;\">\n",
              "    <td style=\"padding: 0 1em 0 0.5em; text-align: right; border: none;\">\n",
              "        -2.488\n",
              "    </td>\n",
              "    <td style=\"padding: 0 0.5em 0 0.5em; text-align: left; border: none;\">\n",
              "        <span style=\"background-color: hsl(0, 80%, 70%); margin: 0 0.1em 0 0\" title=\"A space symbol\">&emsp;</span>ba\n",
              "    </td>\n",
              "    \n",
              "</tr>\n",
              "        \n",
              "            <tr style=\"background-color: hsl(0, 100.00%, 85.66%); border: none;\">\n",
              "    <td style=\"padding: 0 1em 0 0.5em; text-align: right; border: none;\">\n",
              "        -2.570\n",
              "    </td>\n",
              "    <td style=\"padding: 0 0.5em 0 0.5em; text-align: left; border: none;\">\n",
              "        e<span style=\"background-color: hsl(0, 80%, 70%); margin: 0 0.1em 0 0.1em\" title=\"A space symbol\">&emsp;</span>wors\n",
              "    </td>\n",
              "    \n",
              "</tr>\n",
              "        \n",
              "            <tr style=\"background-color: hsl(0, 100.00%, 85.43%); border: none;\">\n",
              "    <td style=\"padding: 0 1em 0 0.5em; text-align: right; border: none;\">\n",
              "        -2.628\n",
              "    </td>\n",
              "    <td style=\"padding: 0 0.5em 0 0.5em; text-align: left; border: none;\">\n",
              "        wast\n",
              "    </td>\n",
              "    \n",
              "</tr>\n",
              "        \n",
              "            <tr style=\"background-color: hsl(0, 100.00%, 85.43%); border: none;\">\n",
              "    <td style=\"padding: 0 1em 0 0.5em; text-align: right; border: none;\">\n",
              "        -2.630\n",
              "    </td>\n",
              "    <td style=\"padding: 0 0.5em 0 0.5em; text-align: left; border: none;\">\n",
              "        <span style=\"background-color: hsl(0, 80%, 70%); margin: 0 0.1em 0 0\" title=\"A space symbol\">&emsp;</span>wast\n",
              "    </td>\n",
              "    \n",
              "</tr>\n",
              "        \n",
              "            <tr style=\"background-color: hsl(0, 100.00%, 85.32%); border: none;\">\n",
              "    <td style=\"padding: 0 1em 0 0.5em; text-align: right; border: none;\">\n",
              "        -2.657\n",
              "    </td>\n",
              "    <td style=\"padding: 0 0.5em 0 0.5em; text-align: left; border: none;\">\n",
              "        <span style=\"background-color: hsl(0, 80%, 70%); margin: 0 0.1em 0 0\" title=\"A space symbol\">&emsp;</span>poor\n",
              "    </td>\n",
              "    \n",
              "</tr>\n",
              "        \n",
              "            <tr style=\"background-color: hsl(0, 100.00%, 85.25%); border: none;\">\n",
              "    <td style=\"padding: 0 1em 0 0.5em; text-align: right; border: none;\">\n",
              "        -2.675\n",
              "    </td>\n",
              "    <td style=\"padding: 0 0.5em 0 0.5em; text-align: left; border: none;\">\n",
              "        <span style=\"background-color: hsl(0, 80%, 70%); margin: 0 0.1em 0 0\" title=\"A space symbol\">&emsp;</span>poo\n",
              "    </td>\n",
              "    \n",
              "</tr>\n",
              "        \n",
              "            <tr style=\"background-color: hsl(0, 100.00%, 85.21%); border: none;\">\n",
              "    <td style=\"padding: 0 1em 0 0.5em; text-align: right; border: none;\">\n",
              "        -2.686\n",
              "    </td>\n",
              "    <td style=\"padding: 0 0.5em 0 0.5em; text-align: left; border: none;\">\n",
              "        poor\n",
              "    </td>\n",
              "    \n",
              "</tr>\n",
              "        \n",
              "            <tr style=\"background-color: hsl(0, 100.00%, 85.07%); border: none;\">\n",
              "    <td style=\"padding: 0 1em 0 0.5em; text-align: right; border: none;\">\n",
              "        -2.723\n",
              "    </td>\n",
              "    <td style=\"padding: 0 0.5em 0 0.5em; text-align: left; border: none;\">\n",
              "        worst<span style=\"background-color: hsl(0, 80%, 70%); margin: 0 0 0 0.1em\" title=\"A space symbol\">&emsp;</span>\n",
              "    </td>\n",
              "    \n",
              "</tr>\n",
              "        \n",
              "            <tr style=\"background-color: hsl(0, 100.00%, 85.05%); border: none;\">\n",
              "    <td style=\"padding: 0 1em 0 0.5em; text-align: right; border: none;\">\n",
              "        -2.729\n",
              "    </td>\n",
              "    <td style=\"padding: 0 0.5em 0 0.5em; text-align: left; border: none;\">\n",
              "        orst<span style=\"background-color: hsl(0, 80%, 70%); margin: 0 0 0 0.1em\" title=\"A space symbol\">&emsp;</span>\n",
              "    </td>\n",
              "    \n",
              "</tr>\n",
              "        \n",
              "            <tr style=\"background-color: hsl(0, 100.00%, 84.43%); border: none;\">\n",
              "    <td style=\"padding: 0 1em 0 0.5em; text-align: right; border: none;\">\n",
              "        -2.892\n",
              "    </td>\n",
              "    <td style=\"padding: 0 0.5em 0 0.5em; text-align: left; border: none;\">\n",
              "        <span style=\"background-color: hsl(0, 80%, 70%); margin: 0 0.1em 0 0\" title=\"A space symbol\">&emsp;</span>worst\n",
              "    </td>\n",
              "    \n",
              "</tr>\n",
              "        \n",
              "            <tr style=\"background-color: hsl(0, 100.00%, 84.10%); border: none;\">\n",
              "    <td style=\"padding: 0 1em 0 0.5em; text-align: right; border: none;\">\n",
              "        -2.979\n",
              "    </td>\n",
              "    <td style=\"padding: 0 0.5em 0 0.5em; text-align: left; border: none;\">\n",
              "        orst\n",
              "    </td>\n",
              "    \n",
              "</tr>\n",
              "        \n",
              "            <tr style=\"background-color: hsl(0, 100.00%, 84.05%); border: none;\">\n",
              "    <td style=\"padding: 0 1em 0 0.5em; text-align: right; border: none;\">\n",
              "        -2.991\n",
              "    </td>\n",
              "    <td style=\"padding: 0 0.5em 0 0.5em; text-align: left; border: none;\">\n",
              "        worst\n",
              "    </td>\n",
              "    \n",
              "</tr>\n",
              "        \n",
              "            <tr style=\"background-color: hsl(0, 100.00%, 81.46%); border: none;\">\n",
              "    <td style=\"padding: 0 1em 0 0.5em; text-align: right; border: none;\">\n",
              "        -3.709\n",
              "    </td>\n",
              "    <td style=\"padding: 0 0.5em 0 0.5em; text-align: left; border: none;\">\n",
              "        <span style=\"background-color: hsl(0, 80%, 70%); margin: 0 0.1em 0 0\" title=\"A space symbol\">&emsp;</span>wors\n",
              "    </td>\n",
              "    \n",
              "</tr>\n",
              "        \n",
              "            <tr style=\"background-color: hsl(0, 100.00%, 81.28%); border: none;\">\n",
              "    <td style=\"padding: 0 1em 0 0.5em; text-align: right; border: none;\">\n",
              "        -3.760\n",
              "    </td>\n",
              "    <td style=\"padding: 0 0.5em 0 0.5em; text-align: left; border: none;\">\n",
              "        <span style=\"background-color: hsl(0, 80%, 70%); margin: 0 0.1em 0 0\" title=\"A space symbol\">&emsp;</span>bad\n",
              "    </td>\n",
              "    \n",
              "</tr>\n",
              "        \n",
              "            <tr style=\"background-color: hsl(0, 100.00%, 81.09%); border: none;\">\n",
              "    <td style=\"padding: 0 1em 0 0.5em; text-align: right; border: none;\">\n",
              "        -3.816\n",
              "    </td>\n",
              "    <td style=\"padding: 0 0.5em 0 0.5em; text-align: left; border: none;\">\n",
              "        wors\n",
              "    </td>\n",
              "    \n",
              "</tr>\n",
              "        \n",
              "            <tr style=\"background-color: hsl(0, 100.00%, 80.94%); border: none;\">\n",
              "    <td style=\"padding: 0 1em 0 0.5em; text-align: right; border: none;\">\n",
              "        -3.860\n",
              "    </td>\n",
              "    <td style=\"padding: 0 0.5em 0 0.5em; text-align: left; border: none;\">\n",
              "        bad\n",
              "    </td>\n",
              "    \n",
              "</tr>\n",
              "        \n",
              "            <tr style=\"background-color: hsl(0, 100.00%, 80.00%); border: none;\">\n",
              "    <td style=\"padding: 0 1em 0 0.5em; text-align: right; border: none;\">\n",
              "        -4.133\n",
              "    </td>\n",
              "    <td style=\"padding: 0 0.5em 0 0.5em; text-align: left; border: none;\">\n",
              "        ?<span style=\"background-color: hsl(0, 80%, 70%); margin: 0 0 0 0.1em\" title=\"A space symbol\">&emsp;</span>\n",
              "    </td>\n",
              "    \n",
              "</tr>\n",
              "        \n",
              "\n",
              "        </tbody>\n",
              "    </table>\n",
              "\n",
              "            \n",
              "        \n",
              "\n",
              "        \n",
              "\n",
              "\n",
              "\n",
              "    \n",
              "\n",
              "    \n",
              "\n",
              "    \n",
              "\n",
              "    \n",
              "\n",
              "\n",
              "    \n",
              "\n",
              "    \n",
              "\n",
              "    \n",
              "\n",
              "    \n",
              "\n",
              "    \n",
              "\n",
              "    \n",
              "\n",
              "\n",
              "    \n",
              "\n",
              "    \n",
              "\n",
              "    \n",
              "\n",
              "    \n",
              "\n",
              "    \n",
              "\n",
              "    \n",
              "\n",
              "\n",
              "\n"
            ]
          },
          "metadata": {},
          "execution_count": 379
        }
      ]
    },
    {
      "cell_type": "code",
      "metadata": {
        "id": "9E1E1Bn8yvhq",
        "colab": {
          "base_uri": "https://localhost:8080/",
          "height": 309
        },
        "outputId": "bd5d0464-ecc5-4e48-d879-8ce65d6649a5"
      },
      "source": [
        "print('Positive' if test_df['is_positive'].iloc[1] else 'Negative')\n",
        "eli5.show_prediction(classifier, test_df['review'].iloc[1], vec=vectorizer, \n",
        "                     targets=['positive'], target_names=['negative', 'positive'])"
      ],
      "execution_count": null,
      "outputs": [
        {
          "output_type": "stream",
          "name": "stdout",
          "text": [
            "Positive\n"
          ]
        },
        {
          "output_type": "execute_result",
          "data": {
            "text/plain": [
              "<IPython.core.display.HTML object>"
            ],
            "text/html": [
              "\n",
              "    <style>\n",
              "    table.eli5-weights tr:hover {\n",
              "        filter: brightness(85%);\n",
              "    }\n",
              "</style>\n",
              "\n",
              "\n",
              "\n",
              "    \n",
              "\n",
              "    \n",
              "\n",
              "    \n",
              "\n",
              "    \n",
              "\n",
              "    \n",
              "\n",
              "    \n",
              "\n",
              "\n",
              "    \n",
              "\n",
              "    \n",
              "\n",
              "    \n",
              "\n",
              "    \n",
              "        \n",
              "\n",
              "    \n",
              "\n",
              "        \n",
              "\n",
              "        \n",
              "    \n",
              "        \n",
              "        \n",
              "    \n",
              "        <p style=\"margin-bottom: 0.5em; margin-top: 0em\">\n",
              "            <b>\n",
              "    \n",
              "        y=positive\n",
              "    \n",
              "</b>\n",
              "\n",
              "    \n",
              "    (probability <b>0.962</b>, score <b>3.245</b>)\n",
              "\n",
              "top features\n",
              "        </p>\n",
              "    \n",
              "    <table class=\"eli5-weights\"\n",
              "           style=\"border-collapse: collapse; border: none; margin-top: 0em; table-layout: auto; margin-bottom: 2em;\">\n",
              "        <thead>\n",
              "        <tr style=\"border: none;\">\n",
              "            \n",
              "                <th style=\"padding: 0 1em 0 0.5em; text-align: right; border: none;\" title=\"Feature contribution already accounts for the feature value (for linear models, contribution = weight * feature value), and the sum of feature contributions is equal to the score or, for some classifiers, to the probability. Feature values are shown if &quot;show_feature_values&quot; is True.\">\n",
              "                    Contribution<sup>?</sup>\n",
              "                </th>\n",
              "            \n",
              "            <th style=\"padding: 0 0.5em 0 0.5em; text-align: left; border: none;\">Feature</th>\n",
              "            \n",
              "        </tr>\n",
              "        </thead>\n",
              "        <tbody>\n",
              "        \n",
              "            <tr style=\"background-color: hsl(120, 100.00%, 80.00%); border: none;\">\n",
              "    <td style=\"padding: 0 1em 0 0.5em; text-align: right; border: none;\">\n",
              "        +3.195\n",
              "    </td>\n",
              "    <td style=\"padding: 0 0.5em 0 0.5em; text-align: left; border: none;\">\n",
              "        Highlighted in text (sum)\n",
              "    </td>\n",
              "    \n",
              "</tr>\n",
              "        \n",
              "            <tr style=\"background-color: hsl(120, 100.00%, 98.91%); border: none;\">\n",
              "    <td style=\"padding: 0 1em 0 0.5em; text-align: right; border: none;\">\n",
              "        +0.050\n",
              "    </td>\n",
              "    <td style=\"padding: 0 0.5em 0 0.5em; text-align: left; border: none;\">\n",
              "        &lt;BIAS&gt;\n",
              "    </td>\n",
              "    \n",
              "</tr>\n",
              "        \n",
              "        \n",
              "\n",
              "        \n",
              "        \n",
              "\n",
              "        </tbody>\n",
              "    </table>\n",
              "\n",
              "    \n",
              "\n",
              "\n",
              "\n",
              "    <p style=\"margin-bottom: 2.5em; margin-top:-0.5em;\">\n",
              "        <span style=\"background-color: hsl(0, 100.00%, 94.93%); opacity: 0.81\" title=\"-0.002\">t</span><span style=\"background-color: hsl(120, 100.00%, 98.16%); opacity: 0.80\" title=\"0.000\">h</span><span style=\"background-color: hsl(120, 100.00%, 92.76%); opacity: 0.82\" title=\"0.003\">i</span><span style=\"background-color: hsl(120, 100.00%, 86.80%); opacity: 0.84\" title=\"0.007\">s</span><span style=\"background-color: hsl(120, 100.00%, 81.04%); opacity: 0.87\" title=\"0.011\"> </span><span style=\"background-color: hsl(120, 100.00%, 83.93%); opacity: 0.85\" title=\"0.009\">i</span><span style=\"background-color: hsl(120, 100.00%, 89.70%); opacity: 0.83\" title=\"0.005\">s</span><span style=\"background-color: hsl(120, 100.00%, 92.26%); opacity: 0.82\" title=\"0.003\"> </span><span style=\"background-color: hsl(120, 100.00%, 92.75%); opacity: 0.82\" title=\"0.003\">b</span><span style=\"background-color: hsl(120, 100.00%, 86.27%); opacity: 0.84\" title=\"0.007\">o</span><span style=\"background-color: hsl(120, 100.00%, 81.77%); opacity: 0.87\" title=\"0.011\">t</span><span style=\"background-color: hsl(120, 100.00%, 81.37%); opacity: 0.87\" title=\"0.011\">h</span><span style=\"background-color: hsl(120, 100.00%, 83.22%); opacity: 0.86\" title=\"0.009\"> </span><span style=\"background-color: hsl(120, 100.00%, 91.76%); opacity: 0.82\" title=\"0.003\">a</span><span style=\"background-color: hsl(120, 100.00%, 89.80%); opacity: 0.83\" title=\"0.005\">n</span><span style=\"background-color: hsl(120, 100.00%, 87.11%); opacity: 0.84\" title=\"0.006\"> </span><span style=\"background-color: hsl(120, 100.00%, 82.60%); opacity: 0.86\" title=\"0.010\">e</span><span style=\"background-color: hsl(120, 100.00%, 83.40%); opacity: 0.86\" title=\"0.009\">n</span><span style=\"background-color: hsl(120, 100.00%, 87.89%); opacity: 0.84\" title=\"0.006\">t</span><span style=\"background-color: hsl(120, 100.00%, 83.18%); opacity: 0.86\" title=\"0.009\">e</span><span style=\"background-color: hsl(120, 100.00%, 75.75%); opacity: 0.90\" title=\"0.016\">r</span><span style=\"background-color: hsl(120, 100.00%, 73.19%); opacity: 0.91\" title=\"0.018\">t</span><span style=\"background-color: hsl(120, 100.00%, 76.27%); opacity: 0.89\" title=\"0.016\">a</span><span style=\"background-color: hsl(120, 100.00%, 79.55%); opacity: 0.88\" title=\"0.013\">i</span><span style=\"background-color: hsl(120, 100.00%, 82.18%); opacity: 0.86\" title=\"0.010\">n</span><span style=\"background-color: hsl(120, 100.00%, 88.42%); opacity: 0.83\" title=\"0.006\">i</span><span style=\"background-color: hsl(120, 100.00%, 96.38%); opacity: 0.81\" title=\"0.001\">n</span><span style=\"background-color: hsl(120, 100.00%, 97.01%); opacity: 0.80\" title=\"0.001\">g</span><span style=\"background-color: hsl(120, 100.00%, 92.90%); opacity: 0.82\" title=\"0.003\"> </span><span style=\"background-color: hsl(120, 100.00%, 86.29%); opacity: 0.84\" title=\"0.007\">a</span><span style=\"background-color: hsl(120, 100.00%, 81.53%); opacity: 0.87\" title=\"0.011\">n</span><span style=\"background-color: hsl(120, 100.00%, 86.23%); opacity: 0.84\" title=\"0.007\">d</span><span style=\"background-color: hsl(120, 100.00%, 94.01%); opacity: 0.81\" title=\"0.002\"> </span><span style=\"background-color: hsl(120, 100.00%, 98.84%); opacity: 0.80\" title=\"0.000\">a</span><span style=\"background-color: hsl(120, 100.00%, 88.19%); opacity: 0.83\" title=\"0.006\"> </span><span style=\"background-color: hsl(120, 100.00%, 79.57%); opacity: 0.88\" title=\"0.013\">t</span><span style=\"background-color: hsl(120, 100.00%, 73.75%); opacity: 0.91\" title=\"0.018\">o</span><span style=\"background-color: hsl(120, 100.00%, 73.15%); opacity: 0.91\" title=\"0.018\">u</span><span style=\"background-color: hsl(120, 100.00%, 80.55%); opacity: 0.87\" title=\"0.012\">c</span><span style=\"background-color: hsl(120, 100.00%, 89.33%); opacity: 0.83\" title=\"0.005\">h</span><span style=\"background-color: hsl(0, 100.00%, 90.56%); opacity: 0.83\" title=\"-0.004\">i</span><span style=\"background-color: hsl(0, 100.00%, 87.40%); opacity: 0.84\" title=\"-0.006\">n</span><span style=\"background-color: hsl(0, 100.00%, 85.96%); opacity: 0.84\" title=\"-0.007\">g</span><span style=\"background-color: hsl(0, 100.00%, 93.29%); opacity: 0.82\" title=\"-0.003\"> </span><span style=\"background-color: hsl(120, 100.00%, 92.69%); opacity: 0.82\" title=\"0.003\">v</span><span style=\"background-color: hsl(120, 100.00%, 87.94%); opacity: 0.84\" title=\"0.006\">e</span><span style=\"background-color: hsl(120, 100.00%, 94.41%); opacity: 0.81\" title=\"0.002\">r</span><span style=\"background-color: hsl(0, 100.00%, 96.49%); opacity: 0.81\" title=\"-0.001\">s</span><span style=\"background-color: hsl(0, 100.00%, 95.70%); opacity: 0.81\" title=\"-0.001\">i</span><span style=\"background-color: hsl(0, 100.00%, 93.26%); opacity: 0.82\" title=\"-0.003\">o</span><span style=\"background-color: hsl(0, 100.00%, 90.99%); opacity: 0.82\" title=\"-0.004\">n</span><span style=\"background-color: hsl(0, 100.00%, 88.83%); opacity: 0.83\" title=\"-0.005\"> </span><span style=\"background-color: hsl(0, 100.00%, 89.70%); opacity: 0.83\" title=\"-0.005\">o</span><span style=\"background-color: hsl(0, 100.00%, 93.80%); opacity: 0.81\" title=\"-0.002\">f</span><span style=\"background-color: hsl(0, 100.00%, 96.08%); opacity: 0.81\" title=\"-0.001\"> </span><span style=\"background-color: hsl(120, 100.00%, 97.17%); opacity: 0.80\" title=\"0.001\">t</span><span style=\"background-color: hsl(120, 100.00%, 91.56%); opacity: 0.82\" title=\"0.004\">h</span><span style=\"background-color: hsl(120, 100.00%, 90.04%); opacity: 0.83\" title=\"0.004\">e</span><span style=\"background-color: hsl(120, 100.00%, 88.14%); opacity: 0.84\" title=\"0.006\"> </span><span style=\"background-color: hsl(120, 100.00%, 86.59%); opacity: 0.84\" title=\"0.007\">c</span><span style=\"background-color: hsl(120, 100.00%, 80.50%); opacity: 0.87\" title=\"0.012\">l</span><span style=\"background-color: hsl(120, 100.00%, 76.49%); opacity: 0.89\" title=\"0.015\">a</span><span style=\"background-color: hsl(120, 100.00%, 74.71%); opacity: 0.90\" title=\"0.017\">s</span><span style=\"background-color: hsl(120, 100.00%, 76.05%); opacity: 0.90\" title=\"0.016\">s</span><span style=\"background-color: hsl(120, 100.00%, 76.94%); opacity: 0.89\" title=\"0.015\">i</span><span style=\"background-color: hsl(120, 100.00%, 79.68%); opacity: 0.88\" title=\"0.012\">c</span><span style=\"background-color: hsl(120, 100.00%, 89.05%); opacity: 0.83\" title=\"0.005\"> </span><span style=\"background-color: hsl(0, 100.00%, 97.25%); opacity: 0.80\" title=\"-0.001\">t</span><span style=\"background-color: hsl(0, 100.00%, 94.27%); opacity: 0.81\" title=\"-0.002\">a</span><span style=\"background-color: hsl(0, 100.00%, 92.30%); opacity: 0.82\" title=\"-0.003\">l</span><span style=\"background-color: hsl(0, 100.00%, 98.90%); opacity: 0.80\" title=\"-0.000\">e</span><span style=\"background-color: hsl(120, 100.00%, 88.98%); opacity: 0.83\" title=\"0.005\">,</span><span style=\"background-color: hsl(120, 100.00%, 84.41%); opacity: 0.85\" title=\"0.009\"> </span><span style=\"background-color: hsl(120, 100.00%, 79.54%); opacity: 0.88\" title=\"0.013\">a</span><span style=\"background-color: hsl(120, 100.00%, 78.07%); opacity: 0.88\" title=\"0.014\">l</span><span style=\"background-color: hsl(120, 100.00%, 77.53%); opacity: 0.89\" title=\"0.014\">s</span><span style=\"background-color: hsl(120, 100.00%, 83.52%); opacity: 0.86\" title=\"0.009\">o</span><span style=\"background-color: hsl(120, 100.00%, 84.56%); opacity: 0.85\" title=\"0.008\"> </span><span style=\"background-color: hsl(120, 100.00%, 84.84%); opacity: 0.85\" title=\"0.008\">q</span><span style=\"background-color: hsl(120, 100.00%, 83.56%); opacity: 0.86\" title=\"0.009\">u</span><span style=\"background-color: hsl(120, 100.00%, 80.90%); opacity: 0.87\" title=\"0.011\">i</span><span style=\"background-color: hsl(120, 100.00%, 87.81%); opacity: 0.84\" title=\"0.006\">t</span><span style=\"background-color: hsl(120, 100.00%, 91.58%); opacity: 0.82\" title=\"0.004\">e</span><span style=\"background-color: hsl(120, 100.00%, 88.94%); opacity: 0.83\" title=\"0.005\"> </span><span style=\"background-color: hsl(120, 100.00%, 99.80%); opacity: 0.80\" title=\"0.000\">i</span><span style=\"background-color: hsl(0, 100.00%, 93.17%); opacity: 0.82\" title=\"-0.003\">n</span><span style=\"background-color: hsl(0, 100.00%, 88.35%); opacity: 0.83\" title=\"-0.006\">t</span><span style=\"background-color: hsl(0, 100.00%, 94.77%); opacity: 0.81\" title=\"-0.002\">e</span><span style=\"background-color: hsl(120, 100.00%, 93.45%); opacity: 0.82\" title=\"0.002\">l</span><span style=\"background-color: hsl(120, 100.00%, 89.15%); opacity: 0.83\" title=\"0.005\">l</span><span style=\"background-color: hsl(120, 100.00%, 92.35%); opacity: 0.82\" title=\"0.003\">i</span><span style=\"background-color: hsl(120, 100.00%, 92.38%); opacity: 0.82\" title=\"0.003\">g</span><span style=\"background-color: hsl(120, 100.00%, 90.98%); opacity: 0.82\" title=\"0.004\">e</span><span style=\"background-color: hsl(120, 100.00%, 90.07%); opacity: 0.83\" title=\"0.004\">n</span><span style=\"background-color: hsl(120, 100.00%, 89.90%); opacity: 0.83\" title=\"0.005\">t</span><span style=\"background-color: hsl(120, 100.00%, 93.98%); opacity: 0.81\" title=\"0.002\">,</span><span style=\"background-color: hsl(0, 100.00%, 90.15%); opacity: 0.83\" title=\"-0.004\"> </span><span style=\"background-color: hsl(0, 100.00%, 82.37%); opacity: 0.86\" title=\"-0.010\">n</span><span style=\"background-color: hsl(0, 100.00%, 85.05%); opacity: 0.85\" title=\"-0.008\">o</span><span style=\"background-color: hsl(0, 100.00%, 89.86%); opacity: 0.83\" title=\"-0.005\">t</span><span style=\"background-color: hsl(0, 100.00%, 93.77%); opacity: 0.81\" title=\"-0.002\"> </span><span style=\"background-color: hsl(0, 100.00%, 98.38%); opacity: 0.80\" title=\"-0.000\">o</span><span style=\"background-color: hsl(0, 100.00%, 97.77%); opacity: 0.80\" title=\"-0.001\">f</span><span style=\"background-color: hsl(0, 100.00%, 97.12%); opacity: 0.80\" title=\"-0.001\"> </span><span style=\"background-color: hsl(120, 100.00%, 98.18%); opacity: 0.80\" title=\"0.000\">t</span><span style=\"background-color: hsl(120, 100.00%, 91.72%); opacity: 0.82\" title=\"0.003\">h</span><span style=\"background-color: hsl(120, 100.00%, 93.21%); opacity: 0.82\" title=\"0.003\">e</span><span style=\"background-color: hsl(0, 100.00%, 92.73%); opacity: 0.82\" title=\"-0.003\"> </span><span style=\"background-color: hsl(0, 100.00%, 84.53%); opacity: 0.85\" title=\"-0.008\">&#x27;</span><span style=\"background-color: hsl(0, 100.00%, 93.91%); opacity: 0.81\" title=\"-0.002\">m</span><span style=\"background-color: hsl(120, 100.00%, 95.92%); opacity: 0.81\" title=\"0.001\">e</span><span style=\"background-color: hsl(120, 100.00%, 95.76%); opacity: 0.81\" title=\"0.001\"> </span><span style=\"background-color: hsl(0, 100.00%, 99.20%); opacity: 0.80\" title=\"-0.000\">t</span><span style=\"background-color: hsl(120, 100.00%, 99.40%); opacity: 0.80\" title=\"0.000\">a</span><span style=\"background-color: hsl(0, 100.00%, 99.95%); opacity: 0.80\" title=\"-0.000\">r</span><span style=\"background-color: hsl(120, 100.00%, 97.98%); opacity: 0.80\" title=\"0.000\">z</span><span style=\"background-color: hsl(120, 100.00%, 95.67%); opacity: 0.81\" title=\"0.001\">a</span><span style=\"background-color: hsl(120, 100.00%, 92.13%); opacity: 0.82\" title=\"0.003\">n</span><span style=\"background-color: hsl(120, 100.00%, 91.29%); opacity: 0.82\" title=\"0.004\">,</span><span style=\"background-color: hsl(120, 100.00%, 88.41%); opacity: 0.83\" title=\"0.006\"> </span><span style=\"background-color: hsl(120, 100.00%, 86.99%); opacity: 0.84\" title=\"0.007\">y</span><span style=\"background-color: hsl(120, 100.00%, 85.86%); opacity: 0.85\" title=\"0.007\">o</span><span style=\"background-color: hsl(120, 100.00%, 84.96%); opacity: 0.85\" title=\"0.008\">u</span><span style=\"background-color: hsl(120, 100.00%, 83.87%); opacity: 0.85\" title=\"0.009\"> </span><span style=\"background-color: hsl(120, 100.00%, 89.66%); opacity: 0.83\" title=\"0.005\">j</span><span style=\"background-color: hsl(120, 100.00%, 91.05%); opacity: 0.82\" title=\"0.004\">a</span><span style=\"background-color: hsl(120, 100.00%, 94.05%); opacity: 0.81\" title=\"0.002\">n</span><span style=\"background-color: hsl(0, 100.00%, 98.55%); opacity: 0.80\" title=\"-0.000\">e</span><span style=\"background-color: hsl(0, 100.00%, 95.53%); opacity: 0.81\" title=\"-0.001\">&#x27;</span><span style=\"background-color: hsl(0, 100.00%, 89.12%); opacity: 0.83\" title=\"-0.005\"> </span><span style=\"background-color: hsl(0, 100.00%, 89.78%); opacity: 0.83\" title=\"-0.005\">s</span><span style=\"background-color: hsl(0, 100.00%, 91.23%); opacity: 0.82\" title=\"-0.004\">c</span><span style=\"background-color: hsl(0, 100.00%, 96.55%); opacity: 0.81\" title=\"-0.001\">h</span><span style=\"background-color: hsl(0, 100.00%, 96.97%); opacity: 0.81\" title=\"-0.001\">o</span><span style=\"background-color: hsl(0, 100.00%, 95.62%); opacity: 0.81\" title=\"-0.001\">o</span><span style=\"background-color: hsl(120, 100.00%, 95.64%); opacity: 0.81\" title=\"0.001\">l</span><span style=\"background-color: hsl(0, 100.00%, 90.54%); opacity: 0.83\" title=\"-0.004\"> </span><span style=\"background-color: hsl(0, 100.00%, 84.46%); opacity: 0.85\" title=\"-0.008\">a</span><span style=\"background-color: hsl(0, 100.00%, 78.49%); opacity: 0.88\" title=\"-0.013\">t</span><span style=\"background-color: hsl(0, 100.00%, 77.00%); opacity: 0.89\" title=\"-0.015\"> </span><span style=\"background-color: hsl(0, 100.00%, 75.69%); opacity: 0.90\" title=\"-0.016\">a</span><span style=\"background-color: hsl(0, 100.00%, 80.33%); opacity: 0.87\" title=\"-0.012\">l</span><span style=\"background-color: hsl(0, 100.00%, 87.60%); opacity: 0.84\" title=\"-0.006\">l</span><span style=\"background-color: hsl(0, 100.00%, 94.31%); opacity: 0.81\" title=\"-0.002\">.</span><span style=\"background-color: hsl(120, 100.00%, 90.57%); opacity: 0.83\" title=\"0.004\"> </span><span style=\"background-color: hsl(120, 100.00%, 82.96%); opacity: 0.86\" title=\"0.010\">i</span><span style=\"background-color: hsl(120, 100.00%, 85.70%); opacity: 0.85\" title=\"0.008\">t</span><span style=\"background-color: hsl(120, 100.00%, 89.59%); opacity: 0.83\" title=\"0.005\">&#x27;</span><span style=\"background-color: hsl(120, 100.00%, 90.05%); opacity: 0.83\" title=\"0.004\">s</span><span style=\"background-color: hsl(120, 100.00%, 96.53%); opacity: 0.81\" title=\"0.001\"> </span><span style=\"background-color: hsl(0, 100.00%, 95.84%); opacity: 0.81\" title=\"-0.001\">t</span><span style=\"background-color: hsl(120, 100.00%, 92.81%); opacity: 0.82\" title=\"0.003\">h</span><span style=\"background-color: hsl(120, 100.00%, 90.58%); opacity: 0.83\" title=\"0.004\">e</span><span style=\"background-color: hsl(120, 100.00%, 87.41%); opacity: 0.84\" title=\"0.006\"> </span><span style=\"background-color: hsl(120, 100.00%, 87.73%); opacity: 0.84\" title=\"0.006\">f</span><span style=\"background-color: hsl(120, 100.00%, 86.97%); opacity: 0.84\" title=\"0.007\">a</span><span style=\"background-color: hsl(120, 100.00%, 83.41%); opacity: 0.86\" title=\"0.009\">m</span><span style=\"background-color: hsl(120, 100.00%, 87.23%); opacity: 0.84\" title=\"0.006\">o</span><span style=\"background-color: hsl(120, 100.00%, 95.41%); opacity: 0.81\" title=\"0.001\">u</span><span style=\"background-color: hsl(0, 100.00%, 98.99%); opacity: 0.80\" title=\"-0.000\">s</span><span style=\"background-color: hsl(0, 100.00%, 94.28%); opacity: 0.81\" title=\"-0.002\"> </span><span style=\"background-color: hsl(0, 100.00%, 93.79%); opacity: 0.81\" title=\"-0.002\">s</span><span style=\"background-color: hsl(120, 100.00%, 94.10%); opacity: 0.81\" title=\"0.002\">t</span><span style=\"background-color: hsl(120, 100.00%, 90.28%); opacity: 0.83\" title=\"0.004\">o</span><span style=\"background-color: hsl(120, 100.00%, 85.56%); opacity: 0.85\" title=\"0.008\">r</span><span style=\"background-color: hsl(120, 100.00%, 79.64%); opacity: 0.88\" title=\"0.012\">y</span><span style=\"background-color: hsl(120, 100.00%, 84.63%); opacity: 0.85\" title=\"0.008\"> </span><span style=\"background-color: hsl(120, 100.00%, 88.07%); opacity: 0.84\" title=\"0.006\">o</span><span style=\"background-color: hsl(120, 100.00%, 92.19%); opacity: 0.82\" title=\"0.003\">f</span><span style=\"background-color: hsl(120, 100.00%, 97.32%); opacity: 0.80\" title=\"0.001\"> </span><span style=\"background-color: hsl(120, 100.00%, 99.16%); opacity: 0.80\" title=\"0.000\">a</span><span style=\"background-color: hsl(0, 100.00%, 98.64%); opacity: 0.80\" title=\"-0.000\"> </span><span style=\"background-color: hsl(0, 100.00%, 97.07%); opacity: 0.80\" title=\"-0.001\">c</span><span style=\"background-color: hsl(120, 100.00%, 94.97%); opacity: 0.81\" title=\"0.002\">h</span><span style=\"background-color: hsl(120, 100.00%, 92.80%); opacity: 0.82\" title=\"0.003\">i</span><span style=\"background-color: hsl(120, 100.00%, 93.92%); opacity: 0.81\" title=\"0.002\">l</span><span style=\"background-color: hsl(0, 100.00%, 98.36%); opacity: 0.80\" title=\"-0.000\">d</span><span style=\"background-color: hsl(120, 100.00%, 97.45%); opacity: 0.80\" title=\"0.001\"> </span><span style=\"background-color: hsl(120, 100.00%, 91.34%); opacity: 0.82\" title=\"0.004\">r</span><span style=\"background-color: hsl(120, 100.00%, 90.61%); opacity: 0.83\" title=\"0.004\">e</span><span style=\"background-color: hsl(120, 100.00%, 87.65%); opacity: 0.84\" title=\"0.006\">a</span><span style=\"background-color: hsl(120, 100.00%, 97.86%); opacity: 0.80\" title=\"0.000\">r</span><span style=\"background-color: hsl(0, 100.00%, 91.26%); opacity: 0.82\" title=\"-0.004\">e</span><span style=\"background-color: hsl(0, 100.00%, 88.92%); opacity: 0.83\" title=\"-0.005\">d</span><span style=\"background-color: hsl(0, 100.00%, 87.59%); opacity: 0.84\" title=\"-0.006\"> </span><span style=\"background-color: hsl(0, 100.00%, 86.99%); opacity: 0.84\" title=\"-0.007\">t</span><span style=\"background-color: hsl(0, 100.00%, 82.47%); opacity: 0.86\" title=\"-0.010\">o</span><span style=\"background-color: hsl(0, 100.00%, 86.70%); opacity: 0.84\" title=\"-0.007\"> </span><span style=\"background-color: hsl(0, 100.00%, 97.49%); opacity: 0.80\" title=\"-0.001\">m</span><span style=\"background-color: hsl(120, 100.00%, 94.24%); opacity: 0.81\" title=\"0.002\">a</span><span style=\"background-color: hsl(120, 100.00%, 94.44%); opacity: 0.81\" title=\"0.002\">n</span><span style=\"background-color: hsl(120, 100.00%, 96.43%); opacity: 0.81\" title=\"0.001\">h</span><span style=\"background-color: hsl(120, 100.00%, 97.15%); opacity: 0.80\" title=\"0.001\">o</span><span style=\"background-color: hsl(0, 100.00%, 99.50%); opacity: 0.80\" title=\"-0.000\">o</span><span style=\"background-color: hsl(120, 100.00%, 99.18%); opacity: 0.80\" title=\"0.000\">d</span><span style=\"background-color: hsl(120, 100.00%, 97.52%); opacity: 0.80\" title=\"0.001\"> </span><span style=\"background-color: hsl(0, 100.00%, 99.30%); opacity: 0.80\" title=\"-0.000\">i</span><span style=\"background-color: hsl(0, 100.00%, 96.55%); opacity: 0.81\" title=\"-0.001\">n</span><span style=\"background-color: hsl(0, 100.00%, 96.46%); opacity: 0.81\" title=\"-0.001\"> </span><span style=\"background-color: hsl(0, 100.00%, 94.25%); opacity: 0.81\" title=\"-0.002\">t</span><span style=\"background-color: hsl(120, 100.00%, 98.91%); opacity: 0.80\" title=\"0.000\">h</span><span style=\"background-color: hsl(120, 100.00%, 94.02%); opacity: 0.81\" title=\"0.002\">e</span><span style=\"background-color: hsl(120, 100.00%, 95.56%); opacity: 0.81\" title=\"0.001\"> </span><span style=\"background-color: hsl(0, 100.00%, 93.25%); opacity: 0.82\" title=\"-0.003\">j</span><span style=\"background-color: hsl(0, 100.00%, 92.38%); opacity: 0.82\" title=\"-0.003\">u</span><span style=\"background-color: hsl(0, 100.00%, 94.09%); opacity: 0.81\" title=\"-0.002\">n</span><span style=\"background-color: hsl(0, 100.00%, 95.18%); opacity: 0.81\" title=\"-0.002\">g</span><span style=\"background-color: hsl(0, 100.00%, 91.77%); opacity: 0.82\" title=\"-0.003\">l</span><span style=\"background-color: hsl(0, 100.00%, 92.49%); opacity: 0.82\" title=\"-0.003\">e</span><span style=\"background-color: hsl(0, 100.00%, 93.87%); opacity: 0.81\" title=\"-0.002\"> </span><span style=\"background-color: hsl(0, 100.00%, 93.86%); opacity: 0.81\" title=\"-0.002\">b</span><span style=\"background-color: hsl(0, 100.00%, 94.08%); opacity: 0.81\" title=\"-0.002\">y</span><span style=\"background-color: hsl(0, 100.00%, 95.30%); opacity: 0.81\" title=\"-0.002\"> </span><span style=\"background-color: hsl(0, 100.00%, 88.83%); opacity: 0.83\" title=\"-0.005\">a</span><span style=\"background-color: hsl(0, 100.00%, 85.76%); opacity: 0.85\" title=\"-0.007\">p</span><span style=\"background-color: hsl(0, 100.00%, 93.49%); opacity: 0.81\" title=\"-0.002\">e</span><span style=\"background-color: hsl(0, 100.00%, 96.23%); opacity: 0.81\" title=\"-0.001\">s</span><span style=\"background-color: hsl(120, 100.00%, 95.28%); opacity: 0.81\" title=\"0.002\">.</span><span style=\"background-color: hsl(120, 100.00%, 93.73%); opacity: 0.81\" title=\"0.002\"> </span><span style=\"background-color: hsl(120, 100.00%, 91.06%); opacity: 0.82\" title=\"0.004\">a</span><span style=\"background-color: hsl(120, 100.00%, 94.41%); opacity: 0.81\" title=\"0.002\"> </span><span style=\"background-color: hsl(120, 100.00%, 98.34%); opacity: 0.80\" title=\"0.000\">t</span><span style=\"background-color: hsl(0, 100.00%, 97.94%); opacity: 0.80\" title=\"-0.000\">i</span><span style=\"background-color: hsl(0, 100.00%, 98.10%); opacity: 0.80\" title=\"-0.000\">t</span><span style=\"background-color: hsl(0, 100.00%, 89.56%); opacity: 0.83\" title=\"-0.005\">l</span><span style=\"background-color: hsl(0, 100.00%, 90.51%); opacity: 0.83\" title=\"-0.004\">e</span><span style=\"background-color: hsl(0, 100.00%, 94.30%); opacity: 0.81\" title=\"-0.002\">d</span><span style=\"background-color: hsl(120, 100.00%, 97.01%); opacity: 0.80\" title=\"0.001\"> </span><span style=\"background-color: hsl(120, 100.00%, 86.18%); opacity: 0.84\" title=\"0.007\">b</span><span style=\"background-color: hsl(120, 100.00%, 84.57%); opacity: 0.85\" title=\"0.008\">r</span><span style=\"background-color: hsl(120, 100.00%, 90.20%); opacity: 0.83\" title=\"0.004\">i</span><span style=\"background-color: hsl(120, 100.00%, 94.27%); opacity: 0.81\" title=\"0.002\">t</span><span style=\"background-color: hsl(0, 100.00%, 94.57%); opacity: 0.81\" title=\"-0.002\">i</span><span style=\"background-color: hsl(0, 100.00%, 89.29%); opacity: 0.83\" title=\"-0.005\">s</span><span style=\"background-color: hsl(0, 100.00%, 94.91%); opacity: 0.81\" title=\"-0.002\">h</span><span style=\"background-color: hsl(0, 100.00%, 98.15%); opacity: 0.80\" title=\"-0.000\"> </span><span style=\"background-color: hsl(120, 100.00%, 98.88%); opacity: 0.80\" title=\"0.000\">c</span><span style=\"background-color: hsl(0, 100.00%, 92.69%); opacity: 0.82\" title=\"-0.003\">o</span><span style=\"background-color: hsl(0, 100.00%, 87.58%); opacity: 0.84\" title=\"-0.006\">u</span><span style=\"background-color: hsl(0, 100.00%, 87.56%); opacity: 0.84\" title=\"-0.006\">p</span><span style=\"background-color: hsl(0, 100.00%, 89.09%); opacity: 0.83\" title=\"-0.005\">l</span><span style=\"background-color: hsl(0, 100.00%, 93.57%); opacity: 0.81\" title=\"-0.002\">e</span><span style=\"background-color: hsl(120, 100.00%, 92.12%); opacity: 0.82\" title=\"0.003\"> </span><span style=\"background-color: hsl(120, 100.00%, 85.55%); opacity: 0.85\" title=\"0.008\">(</span><span style=\"background-color: hsl(120, 100.00%, 86.73%); opacity: 0.84\" title=\"0.007\">t</span><span style=\"background-color: hsl(120, 100.00%, 87.50%); opacity: 0.84\" title=\"0.006\">h</span><span style=\"background-color: hsl(120, 100.00%, 87.83%); opacity: 0.84\" title=\"0.006\">e</span><span style=\"background-color: hsl(120, 100.00%, 94.69%); opacity: 0.81\" title=\"0.002\"> </span><span style=\"background-color: hsl(0, 100.00%, 92.28%); opacity: 0.82\" title=\"-0.003\">w</span><span style=\"background-color: hsl(120, 100.00%, 95.21%); opacity: 0.81\" title=\"0.002\">i</span><span style=\"background-color: hsl(0, 100.00%, 95.63%); opacity: 0.81\" title=\"-0.001\">f</span><span style=\"background-color: hsl(0, 100.00%, 95.83%); opacity: 0.81\" title=\"-0.001\">e</span><span style=\"background-color: hsl(0, 100.00%, 88.54%); opacity: 0.83\" title=\"-0.005\"> </span><span style=\"background-color: hsl(0, 100.00%, 89.03%); opacity: 0.83\" title=\"-0.005\">p</span><span style=\"background-color: hsl(0, 100.00%, 88.23%); opacity: 0.83\" title=\"-0.006\">r</span><span style=\"background-color: hsl(0, 100.00%, 88.35%); opacity: 0.83\" title=\"-0.006\">e</span><span style=\"background-color: hsl(0, 100.00%, 90.69%); opacity: 0.82\" title=\"-0.004\">g</span><span style=\"background-color: hsl(120, 100.00%, 97.23%); opacity: 0.80\" title=\"0.001\">n</span><span style=\"background-color: hsl(120, 100.00%, 92.01%); opacity: 0.82\" title=\"0.003\">a</span><span style=\"background-color: hsl(120, 100.00%, 91.10%); opacity: 0.82\" title=\"0.004\">n</span><span style=\"background-color: hsl(120, 100.00%, 95.11%); opacity: 0.81\" title=\"0.002\">t</span><span style=\"background-color: hsl(120, 100.00%, 95.97%); opacity: 0.81\" title=\"0.001\">)</span><span style=\"background-color: hsl(120, 100.00%, 93.13%); opacity: 0.82\" title=\"0.003\"> </span><span style=\"background-color: hsl(120, 100.00%, 94.92%); opacity: 0.81\" title=\"0.002\">i</span><span style=\"background-color: hsl(120, 100.00%, 98.66%); opacity: 0.80\" title=\"0.000\">s</span><span style=\"background-color: hsl(0, 100.00%, 96.33%); opacity: 0.81\" title=\"-0.001\"> </span><span style=\"background-color: hsl(0, 100.00%, 91.68%); opacity: 0.82\" title=\"-0.003\">s</span><span style=\"background-color: hsl(120, 100.00%, 94.55%); opacity: 0.81\" title=\"0.002\">t</span><span style=\"background-color: hsl(120, 100.00%, 92.44%); opacity: 0.82\" title=\"0.003\">r</span><span style=\"background-color: hsl(0, 100.00%, 97.96%); opacity: 0.80\" title=\"-0.000\">a</span><span style=\"background-color: hsl(120, 100.00%, 98.33%); opacity: 0.80\" title=\"0.000\">n</span><span style=\"background-color: hsl(0, 100.00%, 95.40%); opacity: 0.81\" title=\"-0.001\">d</span><span style=\"background-color: hsl(0, 100.00%, 88.62%); opacity: 0.83\" title=\"-0.005\">e</span><span style=\"background-color: hsl(0, 100.00%, 90.32%); opacity: 0.83\" title=\"-0.004\">d</span><span style=\"background-color: hsl(0, 100.00%, 96.99%); opacity: 0.80\" title=\"-0.001\"> </span><span style=\"background-color: hsl(120, 100.00%, 94.33%); opacity: 0.81\" title=\"0.002\">i</span><span style=\"background-color: hsl(0, 100.00%, 96.58%); opacity: 0.81\" title=\"-0.001\">n</span><span style=\"background-color: hsl(0, 100.00%, 96.02%); opacity: 0.81\" title=\"-0.001\"> </span><span style=\"background-color: hsl(0, 100.00%, 93.16%); opacity: 0.82\" title=\"-0.003\">t</span><span style=\"background-color: hsl(0, 100.00%, 98.28%); opacity: 0.80\" title=\"-0.000\">h</span><span style=\"background-color: hsl(120, 100.00%, 94.31%); opacity: 0.81\" title=\"0.002\">e</span><span style=\"background-color: hsl(120, 100.00%, 94.37%); opacity: 0.81\" title=\"0.002\"> </span><span style=\"background-color: hsl(120, 100.00%, 98.03%); opacity: 0.80\" title=\"0.000\">a</span><span style=\"background-color: hsl(120, 100.00%, 92.89%); opacity: 0.82\" title=\"0.003\">f</span><span style=\"background-color: hsl(120, 100.00%, 92.31%); opacity: 0.82\" title=\"0.003\">r</span><span style=\"background-color: hsl(120, 100.00%, 93.49%); opacity: 0.81\" title=\"0.002\">i</span><span style=\"background-color: hsl(120, 100.00%, 95.12%); opacity: 0.81\" title=\"0.002\">c</span><span style=\"background-color: hsl(120, 100.00%, 95.32%); opacity: 0.81\" title=\"0.002\">a</span><span style=\"background-color: hsl(0, 100.00%, 98.70%); opacity: 0.80\" title=\"-0.000\">n</span><span style=\"background-color: hsl(120, 100.00%, 98.34%); opacity: 0.80\" title=\"0.000\"> </span><span style=\"background-color: hsl(120, 100.00%, 94.36%); opacity: 0.81\" title=\"0.002\">w</span><span style=\"background-color: hsl(120, 100.00%, 88.70%); opacity: 0.83\" title=\"0.005\">i</span><span style=\"background-color: hsl(120, 100.00%, 88.32%); opacity: 0.83\" title=\"0.006\">l</span><span style=\"background-color: hsl(120, 100.00%, 88.04%); opacity: 0.84\" title=\"0.006\">d</span><span style=\"background-color: hsl(120, 100.00%, 85.90%); opacity: 0.85\" title=\"0.007\">s</span><span style=\"background-color: hsl(120, 100.00%, 92.21%); opacity: 0.82\" title=\"0.003\"> </span><span style=\"background-color: hsl(120, 100.00%, 91.46%); opacity: 0.82\" title=\"0.004\">a</span><span style=\"background-color: hsl(120, 100.00%, 91.30%); opacity: 0.82\" title=\"0.004\">f</span><span style=\"background-color: hsl(0, 100.00%, 97.41%); opacity: 0.80\" title=\"-0.001\">t</span><span style=\"background-color: hsl(0, 100.00%, 94.62%); opacity: 0.81\" title=\"-0.002\">e</span><span style=\"background-color: hsl(0, 100.00%, 92.76%); opacity: 0.82\" title=\"-0.003\">r</span><span style=\"background-color: hsl(0, 100.00%, 91.30%); opacity: 0.82\" title=\"-0.004\"> </span><span style=\"background-color: hsl(0, 100.00%, 93.34%); opacity: 0.82\" title=\"-0.003\">a</span><span style=\"background-color: hsl(0, 100.00%, 92.18%); opacity: 0.82\" title=\"-0.003\"> </span><span style=\"background-color: hsl(120, 100.00%, 96.12%); opacity: 0.81\" title=\"0.001\">s</span><span style=\"background-color: hsl(120, 100.00%, 89.17%); opacity: 0.83\" title=\"0.005\">h</span><span style=\"background-color: hsl(120, 100.00%, 88.67%); opacity: 0.83\" title=\"0.005\">i</span><span style=\"background-color: hsl(120, 100.00%, 96.05%); opacity: 0.81\" title=\"0.001\">p</span><span style=\"background-color: hsl(0, 100.00%, 90.29%); opacity: 0.83\" title=\"-0.004\">w</span><span style=\"background-color: hsl(0, 100.00%, 89.01%); opacity: 0.83\" title=\"-0.005\">r</span><span style=\"background-color: hsl(120, 100.00%, 96.52%); opacity: 0.81\" title=\"0.001\">e</span><span style=\"background-color: hsl(0, 100.00%, 92.24%); opacity: 0.82\" title=\"-0.003\">c</span><span style=\"background-color: hsl(0, 100.00%, 83.74%); opacity: 0.86\" title=\"-0.009\">k</span><span style=\"background-color: hsl(0, 100.00%, 82.24%); opacity: 0.86\" title=\"-0.010\">.</span><span style=\"background-color: hsl(0, 100.00%, 89.66%); opacity: 0.83\" title=\"-0.005\"> </span><span style=\"background-color: hsl(120, 100.00%, 95.40%); opacity: 0.81\" title=\"0.001\">a</span><span style=\"background-color: hsl(120, 100.00%, 92.36%); opacity: 0.82\" title=\"0.003\">f</span><span style=\"background-color: hsl(120, 100.00%, 99.03%); opacity: 0.80\" title=\"0.000\">t</span><span style=\"background-color: hsl(0, 100.00%, 95.15%); opacity: 0.81\" title=\"-0.002\">e</span><span style=\"background-color: hsl(0, 100.00%, 91.62%); opacity: 0.82\" title=\"-0.004\">r</span><span style=\"background-color: hsl(0, 100.00%, 89.36%); opacity: 0.83\" title=\"-0.005\"> </span><span style=\"background-color: hsl(0, 100.00%, 92.59%); opacity: 0.82\" title=\"-0.003\">t</span><span style=\"background-color: hsl(120, 100.00%, 96.63%); opacity: 0.81\" title=\"0.001\">h</span><span style=\"background-color: hsl(120, 100.00%, 92.38%); opacity: 0.82\" title=\"0.003\">e</span><span style=\"background-color: hsl(120, 100.00%, 92.71%); opacity: 0.82\" title=\"0.003\"> </span><span style=\"background-color: hsl(120, 100.00%, 98.87%); opacity: 0.80\" title=\"0.000\">p</span><span style=\"background-color: hsl(120, 100.00%, 93.92%); opacity: 0.81\" title=\"0.002\">a</span><span style=\"background-color: hsl(0, 100.00%, 96.96%); opacity: 0.81\" title=\"-0.001\">r</span><span style=\"background-color: hsl(0, 100.00%, 92.92%); opacity: 0.82\" title=\"-0.003\">e</span><span style=\"background-color: hsl(0, 100.00%, 97.14%); opacity: 0.80\" title=\"-0.001\">n</span><span style=\"background-color: hsl(0, 100.00%, 98.10%); opacity: 0.80\" title=\"-0.000\">t</span><span style=\"background-color: hsl(120, 100.00%, 93.19%); opacity: 0.82\" title=\"0.003\">s</span><span style=\"background-color: hsl(120, 100.00%, 98.13%); opacity: 0.80\" title=\"0.000\">&#x27;</span><span style=\"background-color: hsl(0, 100.00%, 97.00%); opacity: 0.80\" title=\"-0.001\"> </span><span style=\"background-color: hsl(120, 100.00%, 99.00%); opacity: 0.80\" title=\"0.000\">d</span><span style=\"background-color: hsl(120, 100.00%, 88.73%); opacity: 0.83\" title=\"0.005\">e</span><span style=\"background-color: hsl(120, 100.00%, 90.27%); opacity: 0.83\" title=\"0.004\">a</span><span style=\"background-color: hsl(120, 100.00%, 90.99%); opacity: 0.82\" title=\"0.004\">t</span><span style=\"background-color: hsl(120, 100.00%, 95.02%); opacity: 0.81\" title=\"0.002\">h</span><span style=\"background-color: hsl(120, 100.00%, 88.96%); opacity: 0.83\" title=\"0.005\">s</span><span style=\"background-color: hsl(120, 100.00%, 89.16%); opacity: 0.83\" title=\"0.005\">,</span><span style=\"background-color: hsl(120, 100.00%, 90.58%); opacity: 0.83\" title=\"0.004\"> </span><span style=\"background-color: hsl(120, 100.00%, 91.30%); opacity: 0.82\" title=\"0.004\">t</span><span style=\"background-color: hsl(120, 100.00%, 87.72%); opacity: 0.84\" title=\"0.006\">h</span><span style=\"background-color: hsl(120, 100.00%, 86.94%); opacity: 0.84\" title=\"0.007\">e</span><span style=\"background-color: hsl(0, 100.00%, 98.48%); opacity: 0.80\" title=\"-0.000\"> </span><span style=\"background-color: hsl(0, 100.00%, 85.81%); opacity: 0.85\" title=\"-0.007\">b</span><span style=\"background-color: hsl(0, 100.00%, 82.12%); opacity: 0.86\" title=\"-0.010\">a</span><span style=\"background-color: hsl(0, 100.00%, 94.98%); opacity: 0.81\" title=\"-0.002\">b</span><span style=\"background-color: hsl(0, 100.00%, 91.78%); opacity: 0.82\" title=\"-0.003\">y</span><span style=\"background-color: hsl(120, 100.00%, 99.10%); opacity: 0.80\" title=\"0.000\"> </span><span style=\"background-color: hsl(0, 100.00%, 98.85%); opacity: 0.80\" title=\"-0.000\">i</span><span style=\"background-color: hsl(0, 100.00%, 95.85%); opacity: 0.81\" title=\"-0.001\">s</span><span style=\"background-color: hsl(120, 100.00%, 94.70%); opacity: 0.81\" title=\"0.002\"> </span><span style=\"background-color: hsl(120, 100.00%, 98.15%); opacity: 0.80\" title=\"0.000\">r</span><span style=\"background-color: hsl(120, 100.00%, 95.94%); opacity: 0.81\" title=\"0.001\">a</span><span style=\"background-color: hsl(0, 100.00%, 98.22%); opacity: 0.80\" title=\"-0.000\">i</span><span style=\"background-color: hsl(0, 100.00%, 96.48%); opacity: 0.81\" title=\"-0.001\">s</span><span style=\"background-color: hsl(0, 100.00%, 94.42%); opacity: 0.81\" title=\"-0.002\">e</span><span style=\"background-color: hsl(0, 100.00%, 94.57%); opacity: 0.81\" title=\"-0.002\">d</span><span style=\"background-color: hsl(120, 100.00%, 98.25%); opacity: 0.80\" title=\"0.000\"> </span><span style=\"background-color: hsl(120, 100.00%, 95.15%); opacity: 0.81\" title=\"0.002\">i</span><span style=\"background-color: hsl(0, 100.00%, 96.58%); opacity: 0.81\" title=\"-0.001\">n</span><span style=\"background-color: hsl(0, 100.00%, 96.51%); opacity: 0.81\" title=\"-0.001\"> </span><span style=\"background-color: hsl(0, 100.00%, 94.25%); opacity: 0.81\" title=\"-0.002\">t</span><span style=\"background-color: hsl(120, 100.00%, 98.91%); opacity: 0.80\" title=\"0.000\">h</span><span style=\"background-color: hsl(120, 100.00%, 94.02%); opacity: 0.81\" title=\"0.002\">e</span><span style=\"background-color: hsl(120, 100.00%, 95.56%); opacity: 0.81\" title=\"0.001\"> </span><span style=\"background-color: hsl(0, 100.00%, 93.25%); opacity: 0.82\" title=\"-0.003\">j</span><span style=\"background-color: hsl(0, 100.00%, 92.38%); opacity: 0.82\" title=\"-0.003\">u</span><span style=\"background-color: hsl(0, 100.00%, 94.09%); opacity: 0.81\" title=\"-0.002\">n</span><span style=\"background-color: hsl(0, 100.00%, 95.18%); opacity: 0.81\" title=\"-0.002\">g</span><span style=\"background-color: hsl(0, 100.00%, 91.77%); opacity: 0.82\" title=\"-0.003\">l</span><span style=\"background-color: hsl(0, 100.00%, 92.49%); opacity: 0.82\" title=\"-0.003\">e</span><span style=\"background-color: hsl(0, 100.00%, 93.87%); opacity: 0.81\" title=\"-0.002\"> </span><span style=\"background-color: hsl(0, 100.00%, 93.86%); opacity: 0.81\" title=\"-0.002\">b</span><span style=\"background-color: hsl(0, 100.00%, 94.08%); opacity: 0.81\" title=\"-0.002\">y</span><span style=\"background-color: hsl(0, 100.00%, 95.30%); opacity: 0.81\" title=\"-0.002\"> </span><span style=\"background-color: hsl(0, 100.00%, 88.83%); opacity: 0.83\" title=\"-0.005\">a</span><span style=\"background-color: hsl(0, 100.00%, 85.76%); opacity: 0.85\" title=\"-0.007\">p</span><span style=\"background-color: hsl(0, 100.00%, 92.76%); opacity: 0.82\" title=\"-0.003\">e</span><span style=\"background-color: hsl(0, 100.00%, 94.57%); opacity: 0.81\" title=\"-0.002\">s</span><span style=\"background-color: hsl(0, 100.00%, 96.01%); opacity: 0.81\" title=\"-0.001\">.</span><span style=\"background-color: hsl(0, 100.00%, 95.65%); opacity: 0.81\" title=\"-0.001\"> </span><span style=\"background-color: hsl(120, 100.00%, 98.40%); opacity: 0.80\" title=\"0.000\">t</span><span style=\"background-color: hsl(0, 100.00%, 99.10%); opacity: 0.80\" title=\"-0.000\">w</span><span style=\"background-color: hsl(120, 100.00%, 98.78%); opacity: 0.80\" title=\"0.000\">e</span><span style=\"background-color: hsl(120, 100.00%, 89.53%); opacity: 0.83\" title=\"0.005\">n</span><span style=\"background-color: hsl(120, 100.00%, 84.81%); opacity: 0.85\" title=\"0.008\">t</span><span style=\"background-color: hsl(120, 100.00%, 85.26%); opacity: 0.85\" title=\"0.008\">y</span><span style=\"background-color: hsl(120, 100.00%, 85.13%); opacity: 0.85\" title=\"0.008\"> </span><span style=\"background-color: hsl(120, 100.00%, 82.87%); opacity: 0.86\" title=\"0.010\">y</span><span style=\"background-color: hsl(120, 100.00%, 80.85%); opacity: 0.87\" title=\"0.011\">e</span><span style=\"background-color: hsl(120, 100.00%, 81.57%); opacity: 0.87\" title=\"0.011\">a</span><span style=\"background-color: hsl(120, 100.00%, 85.43%); opacity: 0.85\" title=\"0.008\">r</span><span style=\"background-color: hsl(120, 100.00%, 90.81%); opacity: 0.82\" title=\"0.004\">s</span><span style=\"background-color: hsl(120, 100.00%, 91.77%); opacity: 0.82\" title=\"0.003\"> </span><span style=\"background-color: hsl(120, 100.00%, 90.15%); opacity: 0.83\" title=\"0.004\">l</span><span style=\"background-color: hsl(120, 100.00%, 86.14%); opacity: 0.84\" title=\"0.007\">a</span><span style=\"background-color: hsl(120, 100.00%, 88.00%); opacity: 0.84\" title=\"0.006\">t</span><span style=\"background-color: hsl(120, 100.00%, 90.31%); opacity: 0.83\" title=\"0.004\">e</span><span style=\"background-color: hsl(120, 100.00%, 91.44%); opacity: 0.82\" title=\"0.004\">r</span><span style=\"background-color: hsl(120, 100.00%, 93.32%); opacity: 0.82\" title=\"0.003\">,</span><span style=\"background-color: hsl(0, 100.00%, 96.51%); opacity: 0.81\" title=\"-0.001\"> </span><span style=\"background-color: hsl(0, 100.00%, 89.75%); opacity: 0.83\" title=\"-0.005\">t</span><span style=\"background-color: hsl(0, 100.00%, 90.27%); opacity: 0.83\" title=\"-0.004\">h</span><span style=\"background-color: hsl(0, 100.00%, 89.75%); opacity: 0.83\" title=\"-0.005\">i</span><span style=\"background-color: hsl(0, 100.00%, 91.93%); opacity: 0.82\" title=\"-0.003\">s</span><span style=\"background-color: hsl(120, 100.00%, 93.52%); opacity: 0.81\" title=\"0.002\"> </span><span style=\"background-color: hsl(120, 100.00%, 89.04%); opacity: 0.83\" title=\"0.005\">y</span><span style=\"background-color: hsl(120, 100.00%, 86.78%); opacity: 0.84\" title=\"0.007\">o</span><span style=\"background-color: hsl(120, 100.00%, 86.36%); opacity: 0.84\" title=\"0.007\">u</span><span style=\"background-color: hsl(120, 100.00%, 90.40%); opacity: 0.83\" title=\"0.004\">n</span><span style=\"background-color: hsl(120, 100.00%, 91.73%); opacity: 0.82\" title=\"0.003\">g</span><span style=\"background-color: hsl(120, 100.00%, 90.35%); opacity: 0.83\" title=\"0.004\"> </span><span style=\"background-color: hsl(120, 100.00%, 89.09%); opacity: 0.83\" title=\"0.005\">m</span><span style=\"background-color: hsl(120, 100.00%, 86.88%); opacity: 0.84\" title=\"0.007\">a</span><span style=\"background-color: hsl(120, 100.00%, 88.69%); opacity: 0.83\" title=\"0.005\">n</span><span style=\"background-color: hsl(120, 100.00%, 92.01%); opacity: 0.82\" title=\"0.003\"> </span><span style=\"background-color: hsl(120, 100.00%, 93.81%); opacity: 0.81\" title=\"0.002\">(</span><span style=\"background-color: hsl(120, 100.00%, 97.32%); opacity: 0.80\" title=\"0.001\">i</span><span style=\"background-color: hsl(0, 100.00%, 99.48%); opacity: 0.80\" title=\"-0.000\">.</span><span style=\"background-color: hsl(0, 100.00%, 95.70%); opacity: 0.81\" title=\"-0.001\">e</span><span style=\"background-color: hsl(0, 100.00%, 93.12%); opacity: 0.82\" title=\"-0.003\">.</span><span style=\"background-color: hsl(0, 100.00%, 93.85%); opacity: 0.81\" title=\"-0.002\"> </span><span style=\"background-color: hsl(0, 100.00%, 94.55%); opacity: 0.81\" title=\"-0.002\">t</span><span style=\"background-color: hsl(120, 100.00%, 98.97%); opacity: 0.80\" title=\"0.000\">a</span><span style=\"background-color: hsl(0, 100.00%, 99.95%); opacity: 0.80\" title=\"-0.000\">r</span><span style=\"background-color: hsl(120, 100.00%, 97.98%); opacity: 0.80\" title=\"0.000\">z</span><span style=\"background-color: hsl(120, 100.00%, 95.28%); opacity: 0.81\" title=\"0.002\">a</span><span style=\"background-color: hsl(120, 100.00%, 93.65%); opacity: 0.81\" title=\"0.002\">n</span><span style=\"background-color: hsl(120, 100.00%, 97.81%); opacity: 0.80\" title=\"0.001\">)</span><span style=\"background-color: hsl(0, 100.00%, 96.80%); opacity: 0.81\" title=\"-0.001\"> </span><span style=\"background-color: hsl(0, 100.00%, 95.33%); opacity: 0.81\" title=\"-0.002\">r</span><span style=\"background-color: hsl(0, 100.00%, 96.90%); opacity: 0.81\" title=\"-0.001\">e</span><span style=\"background-color: hsl(0, 100.00%, 95.55%); opacity: 0.81\" title=\"-0.001\">s</span><span style=\"background-color: hsl(0, 100.00%, 92.96%); opacity: 0.82\" title=\"-0.003\">c</span><span style=\"background-color: hsl(0, 100.00%, 99.61%); opacity: 0.80\" title=\"-0.000\">u</span><span style=\"background-color: hsl(120, 100.00%, 88.23%); opacity: 0.83\" title=\"0.006\">e</span><span style=\"background-color: hsl(120, 100.00%, 85.25%); opacity: 0.85\" title=\"0.008\">s</span><span style=\"background-color: hsl(120, 100.00%, 85.07%); opacity: 0.85\" title=\"0.008\"> </span><span style=\"background-color: hsl(120, 100.00%, 84.29%); opacity: 0.85\" title=\"0.009\">a</span><span style=\"background-color: hsl(120, 100.00%, 90.03%); opacity: 0.83\" title=\"0.004\"> </span><span style=\"background-color: hsl(0, 100.00%, 96.60%); opacity: 0.81\" title=\"-0.001\">w</span><span style=\"background-color: hsl(0, 100.00%, 98.93%); opacity: 0.80\" title=\"-0.000\">o</span><span style=\"background-color: hsl(0, 100.00%, 98.64%); opacity: 0.80\" title=\"-0.000\">u</span><span style=\"background-color: hsl(120, 100.00%, 95.06%); opacity: 0.81\" title=\"0.002\">n</span><span style=\"background-color: hsl(120, 100.00%, 95.03%); opacity: 0.81\" title=\"0.002\">d</span><span style=\"background-color: hsl(0, 100.00%, 95.02%); opacity: 0.81\" title=\"-0.002\">e</span><span style=\"background-color: hsl(0, 100.00%, 91.14%); opacity: 0.82\" title=\"-0.004\">d</span><span style=\"background-color: hsl(0, 100.00%, 90.86%); opacity: 0.82\" title=\"-0.004\"> </span><span style=\"background-color: hsl(0, 100.00%, 95.18%); opacity: 0.81\" title=\"-0.002\">b</span><span style=\"background-color: hsl(120, 100.00%, 98.18%); opacity: 0.80\" title=\"0.000\">e</span><span style=\"background-color: hsl(0, 100.00%, 97.95%); opacity: 0.80\" title=\"-0.000\">l</span><span style=\"background-color: hsl(0, 100.00%, 90.41%); opacity: 0.83\" title=\"-0.004\">g</span><span style=\"background-color: hsl(0, 100.00%, 88.94%); opacity: 0.83\" title=\"-0.005\">i</span><span style=\"background-color: hsl(0, 100.00%, 95.95%); opacity: 0.81\" title=\"-0.001\">a</span><span style=\"background-color: hsl(120, 100.00%, 95.42%); opacity: 0.81\" title=\"0.001\">n</span><span style=\"background-color: hsl(120, 100.00%, 92.48%); opacity: 0.82\" title=\"0.003\"> </span><span style=\"background-color: hsl(120, 100.00%, 90.96%); opacity: 0.82\" title=\"0.004\">e</span><span style=\"background-color: hsl(120, 100.00%, 93.13%); opacity: 0.82\" title=\"0.003\">x</span><span style=\"background-color: hsl(0, 100.00%, 98.59%); opacity: 0.80\" title=\"-0.000\">p</span><span style=\"background-color: hsl(0, 100.00%, 95.65%); opacity: 0.81\" title=\"-0.001\">l</span><span style=\"background-color: hsl(0, 100.00%, 93.58%); opacity: 0.81\" title=\"-0.002\">o</span><span style=\"background-color: hsl(0, 100.00%, 95.27%); opacity: 0.81\" title=\"-0.002\">r</span><span style=\"background-color: hsl(120, 100.00%, 97.25%); opacity: 0.80\" title=\"0.001\">e</span><span style=\"background-color: hsl(120, 100.00%, 94.22%); opacity: 0.81\" title=\"0.002\">r</span><span style=\"background-color: hsl(120, 100.00%, 96.34%); opacity: 0.81\" title=\"0.001\">,</span><span style=\"background-color: hsl(0, 100.00%, 91.36%); opacity: 0.82\" title=\"-0.004\"> </span><span style=\"background-color: hsl(0, 100.00%, 86.40%); opacity: 0.84\" title=\"-0.007\">n</span><span style=\"background-color: hsl(0, 100.00%, 91.99%); opacity: 0.82\" title=\"-0.003\">u</span><span style=\"background-color: hsl(0, 100.00%, 98.78%); opacity: 0.80\" title=\"-0.000\">r</span><span style=\"background-color: hsl(0, 100.00%, 94.33%); opacity: 0.81\" title=\"-0.002\">s</span><span style=\"background-color: hsl(0, 100.00%, 91.43%); opacity: 0.82\" title=\"-0.004\">i</span><span style=\"background-color: hsl(0, 100.00%, 90.57%); opacity: 0.83\" title=\"-0.004\">n</span><span style=\"background-color: hsl(0, 100.00%, 90.86%); opacity: 0.82\" title=\"-0.004\">g</span><span style=\"background-color: hsl(120, 100.00%, 95.25%); opacity: 0.81\" title=\"0.002\"> </span><span style=\"background-color: hsl(120, 100.00%, 86.73%); opacity: 0.84\" title=\"0.007\">h</span><span style=\"background-color: hsl(120, 100.00%, 81.00%); opacity: 0.87\" title=\"0.011\">i</span><span style=\"background-color: hsl(120, 100.00%, 85.29%); opacity: 0.85\" title=\"0.008\">m</span><span style=\"background-color: hsl(0, 100.00%, 96.54%); opacity: 0.81\" title=\"-0.001\"> </span><span style=\"background-color: hsl(0, 100.00%, 85.61%); opacity: 0.85\" title=\"-0.008\">b</span><span style=\"background-color: hsl(0, 100.00%, 88.97%); opacity: 0.83\" title=\"-0.005\">a</span><span style=\"background-color: hsl(120, 100.00%, 92.79%); opacity: 0.82\" title=\"0.003\">c</span><span style=\"background-color: hsl(120, 100.00%, 92.22%); opacity: 0.82\" title=\"0.003\">k</span><span style=\"background-color: hsl(120, 100.00%, 91.73%); opacity: 0.82\" title=\"0.003\"> </span><span style=\"background-color: hsl(120, 100.00%, 93.89%); opacity: 0.81\" title=\"0.002\">t</span><span style=\"background-color: hsl(120, 100.00%, 98.51%); opacity: 0.80\" title=\"0.000\">o</span><span style=\"background-color: hsl(120, 100.00%, 94.82%); opacity: 0.81\" title=\"0.002\"> </span><span style=\"background-color: hsl(120, 100.00%, 89.92%); opacity: 0.83\" title=\"0.005\">h</span><span style=\"background-color: hsl(120, 100.00%, 89.11%); opacity: 0.83\" title=\"0.005\">e</span><span style=\"background-color: hsl(120, 100.00%, 92.00%); opacity: 0.82\" title=\"0.003\">a</span><span style=\"background-color: hsl(120, 100.00%, 94.83%); opacity: 0.81\" title=\"0.002\">l</span><span style=\"background-color: hsl(120, 100.00%, 98.27%); opacity: 0.80\" title=\"0.000\">t</span><span style=\"background-color: hsl(0, 100.00%, 91.87%); opacity: 0.82\" title=\"-0.003\">h</span><span style=\"background-color: hsl(0, 100.00%, 87.62%); opacity: 0.84\" title=\"-0.006\">.</span><span style=\"background-color: hsl(0, 100.00%, 91.25%); opacity: 0.82\" title=\"-0.004\"> </span><span style=\"background-color: hsl(120, 100.00%, 97.70%); opacity: 0.80\" title=\"0.001\">t</span><span style=\"background-color: hsl(120, 100.00%, 86.80%); opacity: 0.84\" title=\"0.007\">h</span><span style=\"background-color: hsl(120, 100.00%, 82.66%); opacity: 0.86\" title=\"0.010\">e</span><span style=\"background-color: hsl(120, 100.00%, 84.63%); opacity: 0.85\" title=\"0.008\"> </span><span style=\"background-color: hsl(120, 100.00%, 89.92%); opacity: 0.83\" title=\"0.005\">b</span><span style=\"background-color: hsl(120, 100.00%, 88.94%); opacity: 0.83\" title=\"0.005\">e</span><span style=\"background-color: hsl(0, 100.00%, 97.95%); opacity: 0.80\" title=\"-0.000\">l</span><span style=\"background-color: hsl(0, 100.00%, 90.41%); opacity: 0.83\" title=\"-0.004\">g</span><span style=\"background-color: hsl(0, 100.00%, 88.94%); opacity: 0.83\" title=\"-0.005\">i</span><span style=\"background-color: hsl(0, 100.00%, 93.00%); opacity: 0.82\" title=\"-0.003\">a</span><span style=\"background-color: hsl(120, 100.00%, 96.68%); opacity: 0.81\" title=\"0.001\">n</span><span style=\"background-color: hsl(0, 100.00%, 98.41%); opacity: 0.80\" title=\"-0.000\"> </span><span style=\"background-color: hsl(120, 100.00%, 95.43%); opacity: 0.81\" title=\"0.001\">d</span><span style=\"background-color: hsl(120, 100.00%, 86.34%); opacity: 0.84\" title=\"0.007\">i</span><span style=\"background-color: hsl(120, 100.00%, 78.85%); opacity: 0.88\" title=\"0.013\">s</span><span style=\"background-color: hsl(120, 100.00%, 72.51%); opacity: 0.92\" title=\"0.019\">c</span><span style=\"background-color: hsl(120, 100.00%, 72.39%); opacity: 0.92\" title=\"0.019\">o</span><span style=\"background-color: hsl(120, 100.00%, 75.40%); opacity: 0.90\" title=\"0.016\">v</span><span style=\"background-color: hsl(120, 100.00%, 81.54%); opacity: 0.87\" title=\"0.011\">e</span><span style=\"background-color: hsl(120, 100.00%, 90.19%); opacity: 0.83\" title=\"0.004\">r</span><span style=\"background-color: hsl(120, 100.00%, 91.19%); opacity: 0.82\" title=\"0.004\">s</span><span style=\"background-color: hsl(120, 100.00%, 94.16%); opacity: 0.81\" title=\"0.002\"> </span><span style=\"background-color: hsl(0, 100.00%, 97.15%); opacity: 0.80\" title=\"-0.001\">e</span><span style=\"background-color: hsl(0, 100.00%, 93.32%); opacity: 0.82\" title=\"-0.003\">v</span><span style=\"background-color: hsl(0, 100.00%, 93.60%); opacity: 0.81\" title=\"-0.002\">i</span><span style=\"background-color: hsl(120, 100.00%, 96.97%); opacity: 0.81\" title=\"0.001\">d</span><span style=\"background-color: hsl(120, 100.00%, 94.53%); opacity: 0.81\" title=\"0.002\">e</span><span style=\"background-color: hsl(120, 100.00%, 92.71%); opacity: 0.82\" title=\"0.003\">n</span><span style=\"background-color: hsl(120, 100.00%, 88.45%); opacity: 0.83\" title=\"0.006\">c</span><span style=\"background-color: hsl(120, 100.00%, 87.76%); opacity: 0.84\" title=\"0.006\">e</span><span style=\"background-color: hsl(120, 100.00%, 92.97%); opacity: 0.82\" title=\"0.003\"> </span><span style=\"background-color: hsl(120, 100.00%, 95.48%); opacity: 0.81\" title=\"0.001\">t</span><span style=\"background-color: hsl(0, 100.00%, 98.45%); opacity: 0.80\" title=\"-0.000\">h</span><span style=\"background-color: hsl(120, 100.00%, 92.51%); opacity: 0.82\" title=\"0.003\">a</span><span style=\"background-color: hsl(120, 100.00%, 89.88%); opacity: 0.83\" title=\"0.005\">t</span><span style=\"background-color: hsl(120, 100.00%, 84.78%); opacity: 0.85\" title=\"0.008\"> </span><span style=\"background-color: hsl(120, 100.00%, 85.25%); opacity: 0.85\" title=\"0.008\">h</span><span style=\"background-color: hsl(120, 100.00%, 89.39%); opacity: 0.83\" title=\"0.005\">i</span><span style=\"background-color: hsl(120, 100.00%, 95.33%); opacity: 0.81\" title=\"0.002\">s</span><span style=\"background-color: hsl(120, 100.00%, 94.39%); opacity: 0.81\" title=\"0.002\"> </span><span style=\"background-color: hsl(0, 100.00%, 97.41%); opacity: 0.80\" title=\"-0.001\">r</span><span style=\"background-color: hsl(0, 100.00%, 97.93%); opacity: 0.80\" title=\"-0.000\">e</span><span style=\"background-color: hsl(0, 100.00%, 95.55%); opacity: 0.81\" title=\"-0.001\">s</span><span style=\"background-color: hsl(0, 100.00%, 92.96%); opacity: 0.82\" title=\"-0.003\">c</span><span style=\"background-color: hsl(0, 100.00%, 96.51%); opacity: 0.81\" title=\"-0.001\">u</span><span style=\"background-color: hsl(120, 100.00%, 98.06%); opacity: 0.80\" title=\"0.000\">e</span><span style=\"background-color: hsl(0, 100.00%, 90.59%); opacity: 0.83\" title=\"-0.004\">r</span><span style=\"background-color: hsl(0, 100.00%, 91.91%); opacity: 0.82\" title=\"-0.003\"> </span><span style=\"background-color: hsl(0, 100.00%, 92.11%); opacity: 0.82\" title=\"-0.003\">i</span><span style=\"background-color: hsl(0, 100.00%, 93.90%); opacity: 0.81\" title=\"-0.002\">s</span><span style=\"background-color: hsl(120, 100.00%, 98.34%); opacity: 0.80\" title=\"0.000\"> </span><span style=\"background-color: hsl(120, 100.00%, 96.24%); opacity: 0.81\" title=\"0.001\">t</span><span style=\"background-color: hsl(120, 100.00%, 88.56%); opacity: 0.83\" title=\"0.005\">h</span><span style=\"background-color: hsl(120, 100.00%, 88.01%); opacity: 0.84\" title=\"0.006\">e</span><span style=\"background-color: hsl(120, 100.00%, 85.96%); opacity: 0.84\" title=\"0.007\"> </span><span style=\"background-color: hsl(120, 100.00%, 86.20%); opacity: 0.84\" title=\"0.007\">y</span><span style=\"background-color: hsl(120, 100.00%, 87.27%); opacity: 0.84\" title=\"0.006\">o</span><span style=\"background-color: hsl(120, 100.00%, 86.80%); opacity: 0.84\" title=\"0.007\">u</span><span style=\"background-color: hsl(120, 100.00%, 89.83%); opacity: 0.83\" title=\"0.005\">n</span><span style=\"background-color: hsl(120, 100.00%, 89.84%); opacity: 0.83\" title=\"0.005\">g</span><span style=\"background-color: hsl(120, 100.00%, 94.53%); opacity: 0.81\" title=\"0.002\"> </span><span style=\"background-color: hsl(120, 100.00%, 98.72%); opacity: 0.80\" title=\"0.000\">l</span><span style=\"background-color: hsl(0, 100.00%, 96.10%); opacity: 0.81\" title=\"-0.001\">o</span><span style=\"background-color: hsl(0, 100.00%, 95.35%); opacity: 0.81\" title=\"-0.002\">r</span><span style=\"background-color: hsl(0, 100.00%, 91.39%); opacity: 0.82\" title=\"-0.004\">d</span><span style=\"background-color: hsl(120, 100.00%, 93.62%); opacity: 0.81\" title=\"0.002\"> </span><span style=\"background-color: hsl(120, 100.00%, 83.04%); opacity: 0.86\" title=\"0.010\">g</span><span style=\"background-color: hsl(120, 100.00%, 83.52%); opacity: 0.86\" title=\"0.009\">r</span><span style=\"background-color: hsl(120, 100.00%, 89.66%); opacity: 0.83\" title=\"0.005\">e</span><span style=\"background-color: hsl(120, 100.00%, 94.32%); opacity: 0.81\" title=\"0.002\">y</span><span style=\"background-color: hsl(120, 100.00%, 96.37%); opacity: 0.81\" title=\"0.001\">s</span><span style=\"background-color: hsl(0, 100.00%, 96.52%); opacity: 0.81\" title=\"-0.001\">t</span><span style=\"background-color: hsl(0, 100.00%, 90.62%); opacity: 0.83\" title=\"-0.004\">o</span><span style=\"background-color: hsl(0, 100.00%, 84.67%); opacity: 0.85\" title=\"-0.008\">k</span><span style=\"background-color: hsl(0, 100.00%, 89.82%); opacity: 0.83\" title=\"-0.005\">e</span><span style=\"background-color: hsl(120, 100.00%, 98.33%); opacity: 0.80\" title=\"0.000\"> </span><span style=\"background-color: hsl(120, 100.00%, 88.08%); opacity: 0.84\" title=\"0.006\">a</span><span style=\"background-color: hsl(120, 100.00%, 80.73%); opacity: 0.87\" title=\"0.012\">n</span><span style=\"background-color: hsl(120, 100.00%, 82.75%); opacity: 0.86\" title=\"0.010\">d</span><span style=\"background-color: hsl(120, 100.00%, 86.90%); opacity: 0.84\" title=\"0.007\"> </span><span style=\"background-color: hsl(120, 100.00%, 89.56%); opacity: 0.83\" title=\"0.005\">r</span><span style=\"background-color: hsl(120, 100.00%, 92.45%); opacity: 0.82\" title=\"0.003\">e</span><span style=\"background-color: hsl(120, 100.00%, 94.43%); opacity: 0.81\" title=\"0.002\">t</span><span style=\"background-color: hsl(120, 100.00%, 88.74%); opacity: 0.83\" title=\"0.005\">u</span><span style=\"background-color: hsl(120, 100.00%, 85.81%); opacity: 0.85\" title=\"0.007\">r</span><span style=\"background-color: hsl(120, 100.00%, 92.14%); opacity: 0.82\" title=\"0.003\">n</span><span style=\"background-color: hsl(120, 100.00%, 92.16%); opacity: 0.82\" title=\"0.003\">s</span><span style=\"background-color: hsl(120, 100.00%, 86.36%); opacity: 0.84\" title=\"0.007\"> </span><span style=\"background-color: hsl(120, 100.00%, 83.87%); opacity: 0.85\" title=\"0.009\">h</span><span style=\"background-color: hsl(120, 100.00%, 81.15%); opacity: 0.87\" title=\"0.011\">i</span><span style=\"background-color: hsl(120, 100.00%, 84.83%); opacity: 0.85\" title=\"0.008\">m</span><span style=\"background-color: hsl(120, 100.00%, 93.04%); opacity: 0.82\" title=\"0.003\"> </span><span style=\"background-color: hsl(0, 100.00%, 97.06%); opacity: 0.80\" title=\"-0.001\">t</span><span style=\"background-color: hsl(0, 100.00%, 95.49%); opacity: 0.81\" title=\"-0.001\">o</span><span style=\"background-color: hsl(120, 100.00%, 92.89%); opacity: 0.82\" title=\"0.003\"> </span><span style=\"background-color: hsl(120, 100.00%, 87.98%); opacity: 0.84\" title=\"0.006\">h</span><span style=\"background-color: hsl(120, 100.00%, 91.89%); opacity: 0.82\" title=\"0.003\">i</span><span style=\"background-color: hsl(120, 100.00%, 96.88%); opacity: 0.81\" title=\"0.001\">s</span><span style=\"background-color: hsl(120, 100.00%, 88.33%); opacity: 0.83\" title=\"0.006\"> </span><span style=\"background-color: hsl(120, 100.00%, 90.56%); opacity: 0.83\" title=\"0.004\">r</span><span style=\"background-color: hsl(120, 100.00%, 88.97%); opacity: 0.83\" title=\"0.005\">i</span><span style=\"background-color: hsl(120, 100.00%, 87.37%); opacity: 0.84\" title=\"0.006\">g</span><span style=\"background-color: hsl(120, 100.00%, 87.48%); opacity: 0.84\" title=\"0.006\">h</span><span style=\"background-color: hsl(120, 100.00%, 87.23%); opacity: 0.84\" title=\"0.006\">t</span><span style=\"background-color: hsl(120, 100.00%, 90.32%); opacity: 0.83\" title=\"0.004\">f</span><span style=\"background-color: hsl(120, 100.00%, 97.89%); opacity: 0.80\" title=\"0.000\">u</span><span style=\"background-color: hsl(0, 100.00%, 98.31%); opacity: 0.80\" title=\"-0.000\">l</span><span style=\"background-color: hsl(120, 100.00%, 91.22%); opacity: 0.82\" title=\"0.004\"> </span><span style=\"background-color: hsl(120, 100.00%, 91.08%); opacity: 0.82\" title=\"0.004\">e</span><span style=\"background-color: hsl(120, 100.00%, 95.04%); opacity: 0.81\" title=\"0.002\">s</span><span style=\"background-color: hsl(0, 100.00%, 94.04%); opacity: 0.81\" title=\"-0.002\">t</span><span style=\"background-color: hsl(120, 100.00%, 98.38%); opacity: 0.80\" title=\"0.000\">a</span><span style=\"background-color: hsl(0, 100.00%, 95.55%); opacity: 0.81\" title=\"-0.001\">t</span><span style=\"background-color: hsl(120, 100.00%, 98.76%); opacity: 0.80\" title=\"0.000\">e</span><span style=\"background-color: hsl(120, 100.00%, 90.18%); opacity: 0.83\" title=\"0.004\"> </span><span style=\"background-color: hsl(120, 100.00%, 94.30%); opacity: 0.81\" title=\"0.002\">i</span><span style=\"background-color: hsl(0, 100.00%, 96.39%); opacity: 0.81\" title=\"-0.001\">n</span><span style=\"background-color: hsl(0, 100.00%, 91.37%); opacity: 0.82\" title=\"-0.004\"> </span><span style=\"background-color: hsl(0, 100.00%, 90.25%); opacity: 0.83\" title=\"-0.004\">s</span><span style=\"background-color: hsl(0, 100.00%, 92.36%); opacity: 0.82\" title=\"-0.003\">c</span><span style=\"background-color: hsl(0, 100.00%, 94.23%); opacity: 0.81\" title=\"-0.002\">o</span><span style=\"background-color: hsl(0, 100.00%, 92.31%); opacity: 0.82\" title=\"-0.003\">t</span><span style=\"background-color: hsl(0, 100.00%, 97.73%); opacity: 0.80\" title=\"-0.001\">l</span><span style=\"background-color: hsl(120, 100.00%, 97.99%); opacity: 0.80\" title=\"0.000\">a</span><span style=\"background-color: hsl(120, 100.00%, 92.88%); opacity: 0.82\" title=\"0.003\">n</span><span style=\"background-color: hsl(120, 100.00%, 98.37%); opacity: 0.80\" title=\"0.000\">d</span><span style=\"background-color: hsl(120, 100.00%, 96.27%); opacity: 0.81\" title=\"0.001\">,</span><span style=\"background-color: hsl(120, 100.00%, 95.16%); opacity: 0.81\" title=\"0.002\"> </span><span style=\"background-color: hsl(0, 100.00%, 99.61%); opacity: 0.80\" title=\"-0.000\">w</span><span style=\"background-color: hsl(0, 100.00%, 98.77%); opacity: 0.80\" title=\"-0.000\">h</span><span style=\"background-color: hsl(0, 100.00%, 94.75%); opacity: 0.81\" title=\"-0.002\">e</span><span style=\"background-color: hsl(0, 100.00%, 91.32%); opacity: 0.82\" title=\"-0.004\">r</span><span style=\"background-color: hsl(0, 100.00%, 91.87%); opacity: 0.82\" title=\"-0.003\">e</span><span style=\"background-color: hsl(120, 100.00%, 93.22%); opacity: 0.82\" title=\"0.003\"> </span><span style=\"background-color: hsl(120, 100.00%, 89.02%); opacity: 0.83\" title=\"0.005\">h</span><span style=\"background-color: hsl(120, 100.00%, 90.21%); opacity: 0.83\" title=\"0.004\">e</span><span style=\"background-color: hsl(120, 100.00%, 90.05%); opacity: 0.83\" title=\"0.004\"> </span><span style=\"background-color: hsl(120, 100.00%, 91.05%); opacity: 0.82\" title=\"0.004\">m</span><span style=\"background-color: hsl(120, 100.00%, 93.87%); opacity: 0.81\" title=\"0.002\">u</span><span style=\"background-color: hsl(120, 100.00%, 92.52%); opacity: 0.82\" title=\"0.003\">s</span><span style=\"background-color: hsl(120, 100.00%, 95.69%); opacity: 0.81\" title=\"0.001\">t</span><span style=\"background-color: hsl(120, 100.00%, 94.07%); opacity: 0.81\" title=\"0.002\"> </span><span style=\"background-color: hsl(0, 100.00%, 95.78%); opacity: 0.81\" title=\"-0.001\">a</span><span style=\"background-color: hsl(0, 100.00%, 93.29%); opacity: 0.82\" title=\"-0.003\">d</span><span style=\"background-color: hsl(0, 100.00%, 88.97%); opacity: 0.83\" title=\"-0.005\">j</span><span style=\"background-color: hsl(0, 100.00%, 86.12%); opacity: 0.84\" title=\"-0.007\">u</span><span style=\"background-color: hsl(0, 100.00%, 85.65%); opacity: 0.85\" title=\"-0.008\">s</span><span style=\"background-color: hsl(0, 100.00%, 89.92%); opacity: 0.83\" title=\"-0.005\">t</span><span style=\"background-color: hsl(0, 100.00%, 93.66%); opacity: 0.81\" title=\"-0.002\"> </span><span style=\"background-color: hsl(0, 100.00%, 97.58%); opacity: 0.80\" title=\"-0.001\">t</span><span style=\"background-color: hsl(0, 100.00%, 92.97%); opacity: 0.82\" title=\"-0.003\">o</span><span style=\"background-color: hsl(0, 100.00%, 92.80%); opacity: 0.82\" title=\"-0.003\"> </span><span style=\"background-color: hsl(120, 100.00%, 97.40%); opacity: 0.80\" title=\"0.001\">c</span><span style=\"background-color: hsl(120, 100.00%, 94.34%); opacity: 0.81\" title=\"0.002\">i</span><span style=\"background-color: hsl(0, 100.00%, 97.39%); opacity: 0.80\" title=\"-0.001\">v</span><span style=\"background-color: hsl(0, 100.00%, 98.66%); opacity: 0.80\" title=\"-0.000\">i</span><span style=\"background-color: hsl(120, 100.00%, 94.92%); opacity: 0.81\" title=\"0.002\">l</span><span style=\"background-color: hsl(120, 100.00%, 94.83%); opacity: 0.81\" title=\"0.002\">i</span><span style=\"background-color: hsl(0, 100.00%, 96.66%); opacity: 0.81\" title=\"-0.001\">z</span><span style=\"background-color: hsl(0, 100.00%, 95.19%); opacity: 0.81\" title=\"-0.002\">e</span><span style=\"background-color: hsl(0, 100.00%, 94.44%); opacity: 0.81\" title=\"-0.002\">d</span><span style=\"background-color: hsl(0, 100.00%, 94.24%); opacity: 0.81\" title=\"-0.002\"> </span><span style=\"background-color: hsl(120, 100.00%, 93.29%); opacity: 0.82\" title=\"0.003\">s</span><span style=\"background-color: hsl(120, 100.00%, 89.34%); opacity: 0.83\" title=\"0.005\">o</span><span style=\"background-color: hsl(120, 100.00%, 89.56%); opacity: 0.83\" title=\"0.005\">c</span><span style=\"background-color: hsl(120, 100.00%, 87.48%); opacity: 0.84\" title=\"0.006\">i</span><span style=\"background-color: hsl(120, 100.00%, 89.71%); opacity: 0.83\" title=\"0.005\">e</span><span style=\"background-color: hsl(120, 100.00%, 88.08%); opacity: 0.84\" title=\"0.006\">t</span><span style=\"background-color: hsl(120, 100.00%, 94.22%); opacity: 0.81\" title=\"0.002\">y</span><span style=\"background-color: hsl(0, 100.00%, 91.07%); opacity: 0.82\" title=\"-0.004\">.</span><span style=\"background-color: hsl(0, 100.00%, 89.97%); opacity: 0.83\" title=\"-0.005\"> </span><span style=\"background-color: hsl(0, 100.00%, 92.05%); opacity: 0.82\" title=\"-0.003\">t</span><span style=\"background-color: hsl(0, 100.00%, 95.32%); opacity: 0.81\" title=\"-0.002\">h</span><span style=\"background-color: hsl(0, 100.00%, 96.32%); opacity: 0.81\" title=\"-0.001\">e</span><span style=\"background-color: hsl(0, 100.00%, 96.63%); opacity: 0.81\" title=\"-0.001\"> </span><span style=\"background-color: hsl(0, 100.00%, 91.93%); opacity: 0.82\" title=\"-0.003\">m</span><span style=\"background-color: hsl(0, 100.00%, 94.11%); opacity: 0.81\" title=\"-0.002\">o</span><span style=\"background-color: hsl(0, 100.00%, 90.80%); opacity: 0.82\" title=\"-0.004\">v</span><span style=\"background-color: hsl(0, 100.00%, 91.60%); opacity: 0.82\" title=\"-0.004\">i</span><span style=\"background-color: hsl(0, 100.00%, 96.09%); opacity: 0.81\" title=\"-0.001\">e</span><span style=\"background-color: hsl(120, 100.00%, 96.70%); opacity: 0.81\" title=\"0.001\"> </span><span style=\"background-color: hsl(0, 100.00%, 95.77%); opacity: 0.81\" title=\"-0.001\">i</span><span style=\"background-color: hsl(0, 100.00%, 93.19%); opacity: 0.82\" title=\"-0.003\">s</span><span style=\"background-color: hsl(0, 100.00%, 87.97%); opacity: 0.84\" title=\"-0.006\"> </span><span style=\"background-color: hsl(0, 100.00%, 82.97%); opacity: 0.86\" title=\"-0.010\">s</span><span style=\"background-color: hsl(0, 100.00%, 81.74%); opacity: 0.87\" title=\"-0.011\">o</span><span style=\"background-color: hsl(0, 100.00%, 85.84%); opacity: 0.85\" title=\"-0.007\">r</span><span style=\"background-color: hsl(0, 100.00%, 93.07%); opacity: 0.82\" title=\"-0.003\">t</span><span style=\"background-color: hsl(0, 100.00%, 87.69%); opacity: 0.84\" title=\"-0.006\"> </span><span style=\"background-color: hsl(0, 100.00%, 87.81%); opacity: 0.84\" title=\"-0.006\">o</span><span style=\"background-color: hsl(0, 100.00%, 86.56%); opacity: 0.84\" title=\"-0.007\">f</span><span style=\"background-color: hsl(0, 100.00%, 85.06%); opacity: 0.85\" title=\"-0.008\"> </span><span style=\"background-color: hsl(0, 100.00%, 87.10%); opacity: 0.84\" title=\"-0.006\">d</span><span style=\"background-color: hsl(120, 100.00%, 98.19%); opacity: 0.80\" title=\"0.000\">i</span><span style=\"background-color: hsl(120, 100.00%, 92.43%); opacity: 0.82\" title=\"0.003\">v</span><span style=\"background-color: hsl(0, 100.00%, 95.61%); opacity: 0.81\" title=\"-0.001\">i</span><span style=\"background-color: hsl(0, 100.00%, 94.16%); opacity: 0.81\" title=\"-0.002\">d</span><span style=\"background-color: hsl(0, 100.00%, 93.41%); opacity: 0.82\" title=\"-0.002\">e</span><span style=\"background-color: hsl(0, 100.00%, 90.72%); opacity: 0.82\" title=\"-0.004\">d</span><span style=\"background-color: hsl(0, 100.00%, 99.22%); opacity: 0.80\" title=\"-0.000\"> </span><span style=\"background-color: hsl(120, 100.00%, 94.55%); opacity: 0.81\" title=\"0.002\">i</span><span style=\"background-color: hsl(120, 100.00%, 94.71%); opacity: 0.81\" title=\"0.002\">n</span><span style=\"background-color: hsl(120, 100.00%, 93.17%); opacity: 0.82\" title=\"0.003\">t</span><span style=\"background-color: hsl(120, 100.00%, 97.01%); opacity: 0.80\" title=\"0.001\">o</span><span style=\"background-color: hsl(120, 100.00%, 96.22%); opacity: 0.81\" title=\"0.001\"> </span><span style=\"background-color: hsl(120, 100.00%, 87.48%); opacity: 0.84\" title=\"0.006\">t</span><span style=\"background-color: hsl(120, 100.00%, 91.25%); opacity: 0.82\" title=\"0.004\">w</span><span style=\"background-color: hsl(0, 100.00%, 97.00%); opacity: 0.80\" title=\"-0.001\">o</span><span style=\"background-color: hsl(0, 100.00%, 96.58%); opacity: 0.81\" title=\"-0.001\"> </span><span style=\"background-color: hsl(120, 100.00%, 93.22%); opacity: 0.82\" title=\"0.003\">p</span><span style=\"background-color: hsl(120, 100.00%, 88.75%); opacity: 0.83\" title=\"0.005\">a</span><span style=\"background-color: hsl(120, 100.00%, 87.52%); opacity: 0.84\" title=\"0.006\">r</span><span style=\"background-color: hsl(120, 100.00%, 91.48%); opacity: 0.82\" title=\"0.004\">t</span><span style=\"background-color: hsl(120, 100.00%, 98.38%); opacity: 0.80\" title=\"0.000\">s</span><span style=\"background-color: hsl(0, 100.00%, 94.30%); opacity: 0.81\" title=\"-0.002\">.</span><span style=\"background-color: hsl(120, 100.00%, 98.95%); opacity: 0.80\" title=\"0.000\"> </span><span style=\"background-color: hsl(0, 100.00%, 98.85%); opacity: 0.80\" title=\"-0.000\">i</span><span style=\"background-color: hsl(0, 100.00%, 91.56%); opacity: 0.82\" title=\"-0.004\">n</span><span style=\"background-color: hsl(0, 100.00%, 93.59%); opacity: 0.81\" title=\"-0.002\"> </span><span style=\"background-color: hsl(0, 100.00%, 92.32%); opacity: 0.82\" title=\"-0.003\">t</span><span style=\"background-color: hsl(0, 100.00%, 98.02%); opacity: 0.80\" title=\"-0.000\">h</span><span style=\"background-color: hsl(120, 100.00%, 95.58%); opacity: 0.81\" title=\"0.001\">e</span><span style=\"background-color: hsl(120, 100.00%, 88.56%); opacity: 0.83\" title=\"0.005\"> </span><span style=\"background-color: hsl(120, 100.00%, 86.63%); opacity: 0.84\" title=\"0.007\">f</span><span style=\"background-color: hsl(120, 100.00%, 85.41%); opacity: 0.85\" title=\"0.008\">i</span><span style=\"background-color: hsl(120, 100.00%, 95.92%); opacity: 0.81\" title=\"0.001\">r</span><span style=\"background-color: hsl(0, 100.00%, 90.70%); opacity: 0.82\" title=\"-0.004\">s</span><span style=\"background-color: hsl(0, 100.00%, 87.92%); opacity: 0.84\" title=\"-0.006\">t</span><span style=\"background-color: hsl(0, 100.00%, 85.45%); opacity: 0.85\" title=\"-0.008\"> </span><span style=\"background-color: hsl(0, 100.00%, 81.52%); opacity: 0.87\" title=\"-0.011\">h</span><span style=\"background-color: hsl(0, 100.00%, 77.45%); opacity: 0.89\" title=\"-0.014\">a</span><span style=\"background-color: hsl(0, 100.00%, 76.94%); opacity: 0.89\" title=\"-0.015\">l</span><span style=\"background-color: hsl(0, 100.00%, 80.24%); opacity: 0.87\" title=\"-0.012\">f</span><span style=\"background-color: hsl(120, 100.00%, 99.71%); opacity: 0.80\" title=\"0.000\">,</span><span style=\"background-color: hsl(120, 100.00%, 97.35%); opacity: 0.80\" title=\"0.001\"> </span><span style=\"background-color: hsl(120, 100.00%, 94.10%); opacity: 0.81\" title=\"0.002\">w</span><span style=\"background-color: hsl(120, 100.00%, 89.79%); opacity: 0.83\" title=\"0.005\">e</span><span style=\"background-color: hsl(120, 100.00%, 90.52%); opacity: 0.83\" title=\"0.004\"> </span><span style=\"background-color: hsl(120, 100.00%, 88.78%); opacity: 0.83\" title=\"0.005\">s</span><span style=\"background-color: hsl(120, 100.00%, 84.24%); opacity: 0.85\" title=\"0.009\">e</span><span style=\"background-color: hsl(120, 100.00%, 83.02%); opacity: 0.86\" title=\"0.010\">e</span><span style=\"background-color: hsl(120, 100.00%, 87.84%); opacity: 0.84\" title=\"0.006\"> </span><span style=\"background-color: hsl(120, 100.00%, 94.39%); opacity: 0.81\" title=\"0.002\">t</span><span style=\"background-color: hsl(120, 100.00%, 99.40%); opacity: 0.80\" title=\"0.000\">a</span><span style=\"background-color: hsl(0, 100.00%, 99.95%); opacity: 0.80\" title=\"-0.000\">r</span><span style=\"background-color: hsl(120, 100.00%, 97.98%); opacity: 0.80\" title=\"0.000\">z</span><span style=\"background-color: hsl(120, 100.00%, 95.62%); opacity: 0.81\" title=\"0.001\">a</span><span style=\"background-color: hsl(120, 100.00%, 93.12%); opacity: 0.82\" title=\"0.003\">n</span><span style=\"background-color: hsl(120, 100.00%, 90.11%); opacity: 0.83\" title=\"0.004\"> </span><span style=\"background-color: hsl(120, 100.00%, 90.13%); opacity: 0.83\" title=\"0.004\">i</span><span style=\"background-color: hsl(120, 100.00%, 91.20%); opacity: 0.82\" title=\"0.004\">n</span><span style=\"background-color: hsl(120, 100.00%, 85.64%); opacity: 0.85\" title=\"0.008\"> </span><span style=\"background-color: hsl(120, 100.00%, 88.52%); opacity: 0.83\" title=\"0.005\">h</span><span style=\"background-color: hsl(0, 100.00%, 98.71%); opacity: 0.80\" title=\"-0.000\">i</span><span style=\"background-color: hsl(0, 100.00%, 86.66%); opacity: 0.84\" title=\"-0.007\">s</span><span style=\"background-color: hsl(0, 100.00%, 87.42%); opacity: 0.84\" title=\"-0.006\"> </span><span style=\"background-color: hsl(0, 100.00%, 83.40%); opacity: 0.86\" title=\"-0.009\">j</span><span style=\"background-color: hsl(0, 100.00%, 87.00%); opacity: 0.84\" title=\"-0.007\">u</span><span style=\"background-color: hsl(0, 100.00%, 94.09%); opacity: 0.81\" title=\"-0.002\">n</span><span style=\"background-color: hsl(0, 100.00%, 95.18%); opacity: 0.81\" title=\"-0.002\">g</span><span style=\"background-color: hsl(0, 100.00%, 89.76%); opacity: 0.83\" title=\"-0.005\">l</span><span style=\"background-color: hsl(0, 100.00%, 89.60%); opacity: 0.83\" title=\"-0.005\">e</span><span style=\"background-color: hsl(0, 100.00%, 98.10%); opacity: 0.80\" title=\"-0.000\"> </span><span style=\"background-color: hsl(120, 100.00%, 96.38%); opacity: 0.81\" title=\"0.001\">e</span><span style=\"background-color: hsl(0, 100.00%, 97.65%); opacity: 0.80\" title=\"-0.001\">n</span><span style=\"background-color: hsl(0, 100.00%, 93.47%); opacity: 0.82\" title=\"-0.002\">v</span><span style=\"background-color: hsl(0, 100.00%, 97.28%); opacity: 0.80\" title=\"-0.001\">i</span><span style=\"background-color: hsl(0, 100.00%, 99.00%); opacity: 0.80\" title=\"-0.000\">r</span><span style=\"background-color: hsl(120, 100.00%, 99.69%); opacity: 0.80\" title=\"0.000\">o</span><span style=\"background-color: hsl(0, 100.00%, 97.40%); opacity: 0.80\" title=\"-0.001\">n</span><span style=\"background-color: hsl(0, 100.00%, 91.50%); opacity: 0.82\" title=\"-0.004\">m</span><span style=\"background-color: hsl(0, 100.00%, 92.46%); opacity: 0.82\" title=\"-0.003\">e</span><span style=\"background-color: hsl(0, 100.00%, 99.61%); opacity: 0.80\" title=\"-0.000\">n</span><span style=\"background-color: hsl(120, 100.00%, 95.08%); opacity: 0.81\" title=\"0.002\">t</span><span style=\"background-color: hsl(0, 100.00%, 91.32%); opacity: 0.82\" title=\"-0.004\">.</span><span style=\"background-color: hsl(0, 100.00%, 84.96%); opacity: 0.85\" title=\"-0.008\"> </span><span style=\"background-color: hsl(0, 100.00%, 82.78%); opacity: 0.86\" title=\"-0.010\">n</span><span style=\"background-color: hsl(0, 100.00%, 89.53%); opacity: 0.83\" title=\"-0.005\">o</span><span style=\"background-color: hsl(120, 100.00%, 95.83%); opacity: 0.81\" title=\"0.001\">t</span><span style=\"background-color: hsl(120, 100.00%, 91.15%); opacity: 0.82\" title=\"0.004\"> </span><span style=\"background-color: hsl(120, 100.00%, 87.80%); opacity: 0.84\" title=\"0.006\">b</span><span style=\"background-color: hsl(120, 100.00%, 90.26%); opacity: 0.83\" title=\"0.004\">e</span><span style=\"background-color: hsl(0, 100.00%, 94.24%); opacity: 0.81\" title=\"-0.002\">i</span><span style=\"background-color: hsl(0, 100.00%, 92.20%); opacity: 0.82\" title=\"-0.003\">n</span><span style=\"background-color: hsl(0, 100.00%, 92.17%); opacity: 0.82\" title=\"-0.003\">g</span><span style=\"background-color: hsl(0, 100.00%, 94.77%); opacity: 0.81\" title=\"-0.002\"> </span><span style=\"background-color: hsl(120, 100.00%, 92.28%); opacity: 0.82\" title=\"0.003\">a</span><span style=\"background-color: hsl(120, 100.00%, 89.81%); opacity: 0.83\" title=\"0.005\">n</span><span style=\"background-color: hsl(120, 100.00%, 91.09%); opacity: 0.82\" title=\"0.004\"> </span><span style=\"background-color: hsl(120, 100.00%, 88.68%); opacity: 0.83\" title=\"0.005\">e</span><span style=\"background-color: hsl(120, 100.00%, 89.84%); opacity: 0.83\" title=\"0.005\">x</span><span style=\"background-color: hsl(120, 100.00%, 86.73%); opacity: 0.84\" title=\"0.007\">p</span><span style=\"background-color: hsl(120, 100.00%, 86.49%); opacity: 0.84\" title=\"0.007\">e</span><span style=\"background-color: hsl(120, 100.00%, 87.25%); opacity: 0.84\" title=\"0.006\">r</span><span style=\"background-color: hsl(120, 100.00%, 89.18%); opacity: 0.83\" title=\"0.005\">t</span><span style=\"background-color: hsl(120, 100.00%, 93.73%); opacity: 0.81\" title=\"0.002\">,</span><span style=\"background-color: hsl(120, 100.00%, 98.88%); opacity: 0.80\" title=\"0.000\"> </span><span style=\"background-color: hsl(0, 100.00%, 90.07%); opacity: 0.83\" title=\"-0.004\">i</span><span style=\"background-color: hsl(0, 100.00%, 85.49%); opacity: 0.85\" title=\"-0.008\"> </span><span style=\"background-color: hsl(0, 100.00%, 83.01%); opacity: 0.86\" title=\"-0.010\">a</span><span style=\"background-color: hsl(0, 100.00%, 84.05%); opacity: 0.85\" title=\"-0.009\">m</span><span style=\"background-color: hsl(0, 100.00%, 83.94%); opacity: 0.85\" title=\"-0.009\"> </span><span style=\"background-color: hsl(0, 100.00%, 85.22%); opacity: 0.85\" title=\"-0.008\">u</span><span style=\"background-color: hsl(0, 100.00%, 88.62%); opacity: 0.83\" title=\"-0.005\">n</span><span style=\"background-color: hsl(0, 100.00%, 98.07%); opacity: 0.80\" title=\"-0.000\">a</span><span style=\"background-color: hsl(120, 100.00%, 92.90%); opacity: 0.82\" title=\"0.003\">w</span><span style=\"background-color: hsl(120, 100.00%, 90.94%); opacity: 0.82\" title=\"0.004\">a</span><span style=\"background-color: hsl(120, 100.00%, 91.42%); opacity: 0.82\" title=\"0.004\">r</span><span style=\"background-color: hsl(120, 100.00%, 99.18%); opacity: 0.80\" title=\"0.000\">e</span><span style=\"background-color: hsl(120, 100.00%, 91.13%); opacity: 0.82\" title=\"0.004\"> </span><span style=\"background-color: hsl(120, 100.00%, 92.24%); opacity: 0.82\" title=\"0.003\">a</span><span style=\"background-color: hsl(120, 100.00%, 92.21%); opacity: 0.82\" title=\"0.003\">s</span><span style=\"background-color: hsl(120, 100.00%, 91.52%); opacity: 0.82\" title=\"0.004\"> </span><span style=\"background-color: hsl(120, 100.00%, 93.28%); opacity: 0.82\" title=\"0.003\">t</span><span style=\"background-color: hsl(120, 100.00%, 93.74%); opacity: 0.81\" title=\"0.002\">o</span><span style=\"background-color: hsl(120, 100.00%, 93.36%); opacity: 0.82\" title=\"0.003\"> </span><span style=\"background-color: hsl(120, 100.00%, 87.57%); opacity: 0.84\" title=\"0.006\">t</span><span style=\"background-color: hsl(120, 100.00%, 86.05%); opacity: 0.84\" title=\"0.007\">h</span><span style=\"background-color: hsl(120, 100.00%, 84.32%); opacity: 0.85\" title=\"0.009\">e</span><span style=\"background-color: hsl(120, 100.00%, 83.73%); opacity: 0.86\" title=\"0.009\"> </span><span style=\"background-color: hsl(120, 100.00%, 83.82%); opacity: 0.85\" title=\"0.009\">r</span><span style=\"background-color: hsl(120, 100.00%, 82.59%); opacity: 0.86\" title=\"0.010\">e</span><span style=\"background-color: hsl(120, 100.00%, 78.40%); opacity: 0.88\" title=\"0.014\">a</span><span style=\"background-color: hsl(120, 100.00%, 79.58%); opacity: 0.88\" title=\"0.013\">l</span><span style=\"background-color: hsl(120, 100.00%, 82.97%); opacity: 0.86\" title=\"0.010\">i</span><span style=\"background-color: hsl(120, 100.00%, 87.95%); opacity: 0.84\" title=\"0.006\">s</span><span style=\"background-color: hsl(120, 100.00%, 89.28%); opacity: 0.83\" title=\"0.005\">m</span><span style=\"background-color: hsl(120, 100.00%, 94.38%); opacity: 0.81\" title=\"0.002\"> </span><span style=\"background-color: hsl(120, 100.00%, 96.04%); opacity: 0.81\" title=\"0.001\">o</span><span style=\"background-color: hsl(0, 100.00%, 98.63%); opacity: 0.80\" title=\"-0.000\">f</span><span style=\"background-color: hsl(120, 100.00%, 92.52%); opacity: 0.82\" title=\"0.003\"> </span><span style=\"background-color: hsl(120, 100.00%, 88.31%); opacity: 0.83\" title=\"0.006\">i</span><span style=\"background-color: hsl(120, 100.00%, 90.59%); opacity: 0.83\" title=\"0.004\">t</span><span style=\"background-color: hsl(120, 100.00%, 96.07%); opacity: 0.81\" title=\"0.001\">s</span><span style=\"background-color: hsl(120, 100.00%, 95.04%); opacity: 0.81\" title=\"0.002\"> </span><span style=\"background-color: hsl(120, 100.00%, 94.68%); opacity: 0.81\" title=\"0.002\">d</span><span style=\"background-color: hsl(120, 100.00%, 88.61%); opacity: 0.83\" title=\"0.005\">e</span><span style=\"background-color: hsl(120, 100.00%, 91.15%); opacity: 0.82\" title=\"0.004\">p</span><span style=\"background-color: hsl(120, 100.00%, 91.03%); opacity: 0.82\" title=\"0.004\">i</span><span style=\"background-color: hsl(120, 100.00%, 93.59%); opacity: 0.81\" title=\"0.002\">c</span><span style=\"background-color: hsl(120, 100.00%, 94.62%); opacity: 0.81\" title=\"0.002\">t</span><span style=\"background-color: hsl(120, 100.00%, 96.26%); opacity: 0.81\" title=\"0.001\">i</span><span style=\"background-color: hsl(120, 100.00%, 98.02%); opacity: 0.80\" title=\"0.000\">o</span><span style=\"background-color: hsl(0, 100.00%, 95.21%); opacity: 0.81\" title=\"-0.002\">n</span><span style=\"background-color: hsl(0, 100.00%, 90.50%); opacity: 0.83\" title=\"-0.004\"> </span><span style=\"background-color: hsl(0, 100.00%, 88.60%); opacity: 0.83\" title=\"-0.005\">o</span><span style=\"background-color: hsl(0, 100.00%, 91.31%); opacity: 0.82\" title=\"-0.004\">f</span><span style=\"background-color: hsl(0, 100.00%, 94.24%); opacity: 0.81\" title=\"-0.002\"> </span><span style=\"background-color: hsl(0, 100.00%, 88.79%); opacity: 0.83\" title=\"-0.005\">a</span><span style=\"background-color: hsl(0, 100.00%, 91.34%); opacity: 0.82\" title=\"-0.004\">p</span><span style=\"background-color: hsl(120, 100.00%, 98.44%); opacity: 0.80\" title=\"0.000\">e</span><span style=\"background-color: hsl(120, 100.00%, 92.19%); opacity: 0.82\" title=\"0.003\"> </span><span style=\"background-color: hsl(120, 100.00%, 89.73%); opacity: 0.83\" title=\"0.005\">c</span><span style=\"background-color: hsl(120, 100.00%, 89.18%); opacity: 0.83\" title=\"0.005\">o</span><span style=\"background-color: hsl(120, 100.00%, 89.57%); opacity: 0.83\" title=\"0.005\">m</span><span style=\"background-color: hsl(120, 100.00%, 96.29%); opacity: 0.81\" title=\"0.001\">m</span><span style=\"background-color: hsl(0, 100.00%, 91.34%); opacity: 0.82\" title=\"-0.004\">u</span><span style=\"background-color: hsl(120, 100.00%, 98.57%); opacity: 0.80\" title=\"0.000\">n</span><span style=\"background-color: hsl(120, 100.00%, 94.14%); opacity: 0.81\" title=\"0.002\">i</span><span style=\"background-color: hsl(120, 100.00%, 91.59%); opacity: 0.82\" title=\"0.004\">t</span><span style=\"background-color: hsl(0, 100.00%, 95.91%); opacity: 0.81\" title=\"-0.001\">y</span><span style=\"background-color: hsl(120, 100.00%, 94.91%); opacity: 0.81\" title=\"0.002\"> </span><span style=\"background-color: hsl(120, 100.00%, 85.53%); opacity: 0.85\" title=\"0.008\">l</span><span style=\"background-color: hsl(120, 100.00%, 80.38%); opacity: 0.87\" title=\"0.012\">i</span><span style=\"background-color: hsl(120, 100.00%, 80.33%); opacity: 0.87\" title=\"0.012\">f</span><span style=\"background-color: hsl(120, 100.00%, 84.63%); opacity: 0.85\" title=\"0.008\">e</span><span style=\"background-color: hsl(120, 100.00%, 94.68%); opacity: 0.81\" title=\"0.002\">,</span><span style=\"background-color: hsl(0, 100.00%, 94.12%); opacity: 0.81\" title=\"-0.002\"> </span><span style=\"background-color: hsl(0, 100.00%, 93.21%); opacity: 0.82\" title=\"-0.003\">b</span><span style=\"background-color: hsl(120, 100.00%, 96.79%); opacity: 0.81\" title=\"0.001\">u</span><span style=\"background-color: hsl(120, 100.00%, 93.56%); opacity: 0.81\" title=\"0.002\">t</span><span style=\"background-color: hsl(120, 100.00%, 84.80%); opacity: 0.85\" title=\"0.008\"> </span><span style=\"background-color: hsl(120, 100.00%, 77.15%); opacity: 0.89\" title=\"0.015\">i</span><span style=\"background-color: hsl(120, 100.00%, 79.76%); opacity: 0.88\" title=\"0.012\">t</span><span style=\"background-color: hsl(120, 100.00%, 82.31%); opacity: 0.86\" title=\"0.010\"> </span><span style=\"background-color: hsl(120, 100.00%, 86.39%); opacity: 0.84\" title=\"0.007\">i</span><span style=\"background-color: hsl(120, 100.00%, 91.26%); opacity: 0.82\" title=\"0.004\">s</span><span style=\"background-color: hsl(120, 100.00%, 87.74%); opacity: 0.84\" title=\"0.006\"> </span><span style=\"background-color: hsl(120, 100.00%, 84.51%); opacity: 0.85\" title=\"0.008\">c</span><span style=\"background-color: hsl(120, 100.00%, 79.45%); opacity: 0.88\" title=\"0.013\">e</span><span style=\"background-color: hsl(120, 100.00%, 77.35%); opacity: 0.89\" title=\"0.015\">r</span><span style=\"background-color: hsl(120, 100.00%, 75.66%); opacity: 0.90\" title=\"0.016\">t</span><span style=\"background-color: hsl(120, 100.00%, 79.28%); opacity: 0.88\" title=\"0.013\">a</span><span style=\"background-color: hsl(120, 100.00%, 83.68%); opacity: 0.86\" title=\"0.009\">i</span><span style=\"background-color: hsl(120, 100.00%, 97.71%); opacity: 0.80\" title=\"0.001\">n</span><span style=\"background-color: hsl(0, 100.00%, 95.23%); opacity: 0.81\" title=\"-0.002\">l</span><span style=\"background-color: hsl(120, 100.00%, 93.45%); opacity: 0.82\" title=\"0.002\">y</span><span style=\"background-color: hsl(120, 100.00%, 85.73%); opacity: 0.85\" title=\"0.007\"> </span><span style=\"background-color: hsl(120, 100.00%, 79.95%); opacity: 0.87\" title=\"0.012\">e</span><span style=\"background-color: hsl(120, 100.00%, 81.99%); opacity: 0.86\" title=\"0.010\">n</span><span style=\"background-color: hsl(120, 100.00%, 87.89%); opacity: 0.84\" title=\"0.006\">t</span><span style=\"background-color: hsl(120, 100.00%, 83.18%); opacity: 0.86\" title=\"0.009\">e</span><span style=\"background-color: hsl(120, 100.00%, 75.75%); opacity: 0.90\" title=\"0.016\">r</span><span style=\"background-color: hsl(120, 100.00%, 73.19%); opacity: 0.91\" title=\"0.018\">t</span><span style=\"background-color: hsl(120, 100.00%, 76.27%); opacity: 0.89\" title=\"0.016\">a</span><span style=\"background-color: hsl(120, 100.00%, 80.11%); opacity: 0.87\" title=\"0.012\">i</span><span style=\"background-color: hsl(120, 100.00%, 82.55%); opacity: 0.86\" title=\"0.010\">n</span><span style=\"background-color: hsl(120, 100.00%, 86.90%); opacity: 0.84\" title=\"0.007\">i</span><span style=\"background-color: hsl(120, 100.00%, 94.51%); opacity: 0.81\" title=\"0.002\">n</span><span style=\"background-color: hsl(120, 100.00%, 96.85%); opacity: 0.81\" title=\"0.001\">g</span><span style=\"background-color: hsl(0, 100.00%, 95.05%); opacity: 0.81\" title=\"-0.002\">.</span><span style=\"background-color: hsl(0, 100.00%, 97.11%); opacity: 0.80\" title=\"-0.001\"> </span><span style=\"background-color: hsl(120, 100.00%, 97.68%); opacity: 0.80\" title=\"0.001\">f</span><span style=\"background-color: hsl(0, 100.00%, 90.09%); opacity: 0.83\" title=\"-0.004\">o</span><span style=\"background-color: hsl(0, 100.00%, 89.13%); opacity: 0.83\" title=\"-0.005\">r</span><span style=\"background-color: hsl(0, 100.00%, 94.32%); opacity: 0.81\" title=\"-0.002\"> </span><span style=\"background-color: hsl(0, 100.00%, 99.35%); opacity: 0.80\" title=\"-0.000\">m</span><span style=\"background-color: hsl(0, 100.00%, 96.14%); opacity: 0.81\" title=\"-0.001\">e</span><span style=\"background-color: hsl(120, 100.00%, 94.61%); opacity: 0.81\" title=\"0.002\">,</span><span style=\"background-color: hsl(0, 100.00%, 97.84%); opacity: 0.80\" title=\"-0.001\"> </span><span style=\"background-color: hsl(0, 100.00%, 93.87%); opacity: 0.81\" title=\"-0.002\">t</span><span style=\"background-color: hsl(0, 100.00%, 98.52%); opacity: 0.80\" title=\"-0.000\">h</span><span style=\"background-color: hsl(120, 100.00%, 93.17%); opacity: 0.82\" title=\"0.003\">e</span><span style=\"background-color: hsl(120, 100.00%, 89.32%); opacity: 0.83\" title=\"0.005\"> </span><span style=\"background-color: hsl(120, 100.00%, 87.59%); opacity: 0.84\" title=\"0.006\">m</span><span style=\"background-color: hsl(120, 100.00%, 89.47%); opacity: 0.83\" title=\"0.005\">o</span><span style=\"background-color: hsl(120, 100.00%, 92.17%); opacity: 0.82\" title=\"0.003\">r</span><span style=\"background-color: hsl(120, 100.00%, 93.23%); opacity: 0.82\" title=\"0.003\">e</span><span style=\"background-color: hsl(120, 100.00%, 97.81%); opacity: 0.80\" title=\"0.001\"> </span><span style=\"background-color: hsl(0, 100.00%, 96.69%); opacity: 0.81\" title=\"-0.001\">m</span><span style=\"background-color: hsl(120, 100.00%, 87.68%); opacity: 0.84\" title=\"0.006\">o</span><span style=\"background-color: hsl(120, 100.00%, 87.91%); opacity: 0.84\" title=\"0.006\">v</span><span style=\"background-color: hsl(120, 100.00%, 94.60%); opacity: 0.81\" title=\"0.002\">i</span><span style=\"background-color: hsl(120, 100.00%, 93.77%); opacity: 0.81\" title=\"0.002\">n</span><span style=\"background-color: hsl(0, 100.00%, 97.87%); opacity: 0.80\" title=\"-0.000\">g</span><span style=\"background-color: hsl(0, 100.00%, 89.88%); opacity: 0.83\" title=\"-0.005\"> </span><span style=\"background-color: hsl(0, 100.00%, 89.56%); opacity: 0.83\" title=\"-0.005\">s</span><span style=\"background-color: hsl(120, 100.00%, 97.39%); opacity: 0.80\" title=\"0.001\">e</span><span style=\"background-color: hsl(120, 100.00%, 94.23%); opacity: 0.81\" title=\"0.002\">c</span><span style=\"background-color: hsl(120, 100.00%, 91.45%); opacity: 0.82\" title=\"0.004\">t</span><span style=\"background-color: hsl(120, 100.00%, 92.53%); opacity: 0.82\" title=\"0.003\">i</span><span style=\"background-color: hsl(120, 100.00%, 95.84%); opacity: 0.81\" title=\"0.001\">o</span><span style=\"background-color: hsl(0, 100.00%, 97.81%); opacity: 0.80\" title=\"-0.001\">n</span><span style=\"background-color: hsl(0, 100.00%, 99.40%); opacity: 0.80\" title=\"-0.000\"> </span><span style=\"background-color: hsl(0, 100.00%, 92.20%); opacity: 0.82\" title=\"-0.003\">i</span><span style=\"background-color: hsl(0, 100.00%, 93.26%); opacity: 0.82\" title=\"-0.003\">s</span><span style=\"background-color: hsl(120, 100.00%, 97.82%); opacity: 0.80\" title=\"0.001\"> </span><span style=\"background-color: hsl(120, 100.00%, 96.08%); opacity: 0.81\" title=\"0.001\">t</span><span style=\"background-color: hsl(120, 100.00%, 88.46%); opacity: 0.83\" title=\"0.006\">h</span><span style=\"background-color: hsl(120, 100.00%, 86.62%); opacity: 0.84\" title=\"0.007\">e</span><span style=\"background-color: hsl(120, 100.00%, 94.13%); opacity: 0.81\" title=\"0.002\"> </span><span style=\"background-color: hsl(0, 100.00%, 90.78%); opacity: 0.82\" title=\"-0.004\">s</span><span style=\"background-color: hsl(0, 100.00%, 91.37%); opacity: 0.82\" title=\"-0.004\">e</span><span style=\"background-color: hsl(0, 100.00%, 89.52%); opacity: 0.83\" title=\"-0.005\">c</span><span style=\"background-color: hsl(0, 100.00%, 89.78%); opacity: 0.83\" title=\"-0.005\">o</span><span style=\"background-color: hsl(0, 100.00%, 97.46%); opacity: 0.80\" title=\"-0.001\">n</span><span style=\"background-color: hsl(0, 100.00%, 96.89%); opacity: 0.81\" title=\"-0.001\">d</span><span style=\"background-color: hsl(0, 100.00%, 89.90%); opacity: 0.83\" title=\"-0.005\"> </span><span style=\"background-color: hsl(0, 100.00%, 83.01%); opacity: 0.86\" title=\"-0.010\">h</span><span style=\"background-color: hsl(0, 100.00%, 77.95%); opacity: 0.89\" title=\"-0.014\">a</span><span style=\"background-color: hsl(0, 100.00%, 76.94%); opacity: 0.89\" title=\"-0.015\">l</span><span style=\"background-color: hsl(0, 100.00%, 80.24%); opacity: 0.87\" title=\"-0.012\">f</span><span style=\"background-color: hsl(120, 100.00%, 96.62%); opacity: 0.81\" title=\"0.001\">,</span><span style=\"background-color: hsl(120, 100.00%, 93.36%); opacity: 0.82\" title=\"0.003\"> </span><span style=\"background-color: hsl(120, 100.00%, 91.58%); opacity: 0.82\" title=\"0.004\">w</span><span style=\"background-color: hsl(120, 100.00%, 91.10%); opacity: 0.82\" title=\"0.004\">h</span><span style=\"background-color: hsl(120, 100.00%, 93.29%); opacity: 0.82\" title=\"0.003\">e</span><span style=\"background-color: hsl(120, 100.00%, 97.17%); opacity: 0.80\" title=\"0.001\">n</span><span style=\"background-color: hsl(0, 100.00%, 96.05%); opacity: 0.81\" title=\"-0.001\"> </span><span style=\"background-color: hsl(0, 100.00%, 93.51%); opacity: 0.81\" title=\"-0.002\">t</span><span style=\"background-color: hsl(120, 100.00%, 98.97%); opacity: 0.80\" title=\"0.000\">a</span><span style=\"background-color: hsl(0, 100.00%, 99.95%); opacity: 0.80\" title=\"-0.000\">r</span><span style=\"background-color: hsl(120, 100.00%, 97.98%); opacity: 0.80\" title=\"0.000\">z</span><span style=\"background-color: hsl(120, 100.00%, 94.01%); opacity: 0.81\" title=\"0.002\">a</span><span style=\"background-color: hsl(120, 100.00%, 91.59%); opacity: 0.82\" title=\"0.004\">n</span><span style=\"background-color: hsl(120, 100.00%, 89.62%); opacity: 0.83\" title=\"0.005\"> </span><span style=\"background-color: hsl(120, 100.00%, 88.23%); opacity: 0.83\" title=\"0.006\">m</span><span style=\"background-color: hsl(120, 100.00%, 95.70%); opacity: 0.81\" title=\"0.001\">u</span><span style=\"background-color: hsl(120, 100.00%, 98.23%); opacity: 0.80\" title=\"0.000\">s</span><span style=\"background-color: hsl(0, 100.00%, 96.09%); opacity: 0.81\" title=\"-0.001\">t</span><span style=\"background-color: hsl(120, 100.00%, 98.27%); opacity: 0.80\" title=\"0.000\"> </span><span style=\"background-color: hsl(120, 100.00%, 93.63%); opacity: 0.81\" title=\"0.002\">m</span><span style=\"background-color: hsl(120, 100.00%, 84.45%); opacity: 0.85\" title=\"0.008\">e</span><span style=\"background-color: hsl(120, 100.00%, 82.96%); opacity: 0.86\" title=\"0.010\">e</span><span style=\"background-color: hsl(120, 100.00%, 86.43%); opacity: 0.84\" title=\"0.007\">t</span><span style=\"background-color: hsl(120, 100.00%, 86.07%); opacity: 0.84\" title=\"0.007\"> </span><span style=\"background-color: hsl(120, 100.00%, 87.70%); opacity: 0.84\" title=\"0.006\">h</span><span style=\"background-color: hsl(120, 100.00%, 89.51%); opacity: 0.83\" title=\"0.005\">i</span><span style=\"background-color: hsl(120, 100.00%, 94.14%); opacity: 0.81\" title=\"0.002\">s</span><span style=\"background-color: hsl(120, 100.00%, 90.35%); opacity: 0.83\" title=\"0.004\"> </span><span style=\"background-color: hsl(120, 100.00%, 91.05%); opacity: 0.82\" title=\"0.004\">r</span><span style=\"background-color: hsl(120, 100.00%, 88.96%); opacity: 0.83\" title=\"0.005\">e</span><span style=\"background-color: hsl(120, 100.00%, 87.57%); opacity: 0.84\" title=\"0.006\">a</span><span style=\"background-color: hsl(120, 100.00%, 92.50%); opacity: 0.82\" title=\"0.003\">l</span><span style=\"background-color: hsl(120, 100.00%, 88.92%); opacity: 0.83\" title=\"0.005\"> </span><span style=\"background-color: hsl(120, 100.00%, 83.32%); opacity: 0.86\" title=\"0.009\">f</span><span style=\"background-color: hsl(120, 100.00%, 84.67%); opacity: 0.85\" title=\"0.008\">a</span><span style=\"background-color: hsl(120, 100.00%, 85.69%); opacity: 0.85\" title=\"0.008\">m</span><span style=\"background-color: hsl(120, 100.00%, 85.15%); opacity: 0.85\" title=\"0.008\">i</span><span style=\"background-color: hsl(120, 100.00%, 91.97%); opacity: 0.82\" title=\"0.003\">l</span><span style=\"background-color: hsl(0, 100.00%, 95.06%); opacity: 0.81\" title=\"-0.002\">y</span><span style=\"background-color: hsl(0, 100.00%, 95.73%); opacity: 0.81\" title=\"-0.001\">,</span><span style=\"background-color: hsl(0, 100.00%, 96.60%); opacity: 0.81\" title=\"-0.001\"> </span><span style=\"background-color: hsl(0, 100.00%, 95.18%); opacity: 0.81\" title=\"-0.002\">d</span><span style=\"background-color: hsl(0, 100.00%, 93.43%); opacity: 0.82\" title=\"-0.002\">e</span><span style=\"background-color: hsl(0, 100.00%, 92.64%); opacity: 0.82\" title=\"-0.003\">v</span><span style=\"background-color: hsl(0, 100.00%, 99.28%); opacity: 0.80\" title=\"-0.000\">e</span><span style=\"background-color: hsl(0, 100.00%, 92.92%); opacity: 0.82\" title=\"-0.003\">l</span><span style=\"background-color: hsl(0, 100.00%, 90.80%); opacity: 0.82\" title=\"-0.004\">o</span><span style=\"background-color: hsl(0, 100.00%, 92.53%); opacity: 0.82\" title=\"-0.003\">p</span><span style=\"background-color: hsl(0, 100.00%, 94.31%); opacity: 0.81\" title=\"-0.002\"> </span><span style=\"background-color: hsl(0, 100.00%, 94.79%); opacity: 0.81\" title=\"-0.002\">l</span><span style=\"background-color: hsl(120, 100.00%, 96.07%); opacity: 0.81\" title=\"0.001\">a</span><span style=\"background-color: hsl(120, 100.00%, 91.79%); opacity: 0.82\" title=\"0.003\">n</span><span style=\"background-color: hsl(120, 100.00%, 93.57%); opacity: 0.81\" title=\"0.002\">g</span><span style=\"background-color: hsl(120, 100.00%, 95.90%); opacity: 0.81\" title=\"0.001\">u</span><span style=\"background-color: hsl(120, 100.00%, 92.84%); opacity: 0.82\" title=\"0.003\">a</span><span style=\"background-color: hsl(120, 100.00%, 97.22%); opacity: 0.80\" title=\"0.001\">g</span><span style=\"background-color: hsl(120, 100.00%, 97.55%); opacity: 0.80\" title=\"0.001\">e</span><span style=\"background-color: hsl(0, 100.00%, 88.82%); opacity: 0.83\" title=\"-0.005\"> </span><span style=\"background-color: hsl(0, 100.00%, 86.25%); opacity: 0.84\" title=\"-0.007\">s</span><span style=\"background-color: hsl(0, 100.00%, 83.14%); opacity: 0.86\" title=\"-0.010\">k</span><span style=\"background-color: hsl(0, 100.00%, 87.74%); opacity: 0.84\" title=\"-0.006\">i</span><span style=\"background-color: hsl(0, 100.00%, 95.39%); opacity: 0.81\" title=\"-0.001\">l</span><span style=\"background-color: hsl(0, 100.00%, 93.82%); opacity: 0.81\" title=\"-0.002\">l</span><span style=\"background-color: hsl(120, 100.00%, 97.74%); opacity: 0.80\" title=\"0.001\">s</span><span style=\"background-color: hsl(120, 100.00%, 87.46%); opacity: 0.84\" title=\"0.006\">,</span><span style=\"background-color: hsl(120, 100.00%, 84.32%); opacity: 0.85\" title=\"0.009\"> </span><span style=\"background-color: hsl(120, 100.00%, 81.61%); opacity: 0.87\" title=\"0.011\">a</span><span style=\"background-color: hsl(120, 100.00%, 81.04%); opacity: 0.87\" title=\"0.011\">n</span><span style=\"background-color: hsl(120, 100.00%, 86.41%); opacity: 0.84\" title=\"0.007\">d</span><span style=\"background-color: hsl(120, 100.00%, 92.14%); opacity: 0.82\" title=\"0.003\"> </span><span style=\"background-color: hsl(0, 100.00%, 94.64%); opacity: 0.81\" title=\"-0.002\">a</span><span style=\"background-color: hsl(0, 100.00%, 93.29%); opacity: 0.82\" title=\"-0.003\">d</span><span style=\"background-color: hsl(0, 100.00%, 88.97%); opacity: 0.83\" title=\"-0.005\">j</span><span style=\"background-color: hsl(0, 100.00%, 86.12%); opacity: 0.84\" title=\"-0.007\">u</span><span style=\"background-color: hsl(0, 100.00%, 85.65%); opacity: 0.85\" title=\"-0.008\">s</span><span style=\"background-color: hsl(0, 100.00%, 89.92%); opacity: 0.83\" title=\"-0.005\">t</span><span style=\"background-color: hsl(0, 100.00%, 94.29%); opacity: 0.81\" title=\"-0.002\"> </span><span style=\"background-color: hsl(0, 100.00%, 98.47%); opacity: 0.80\" title=\"-0.000\">t</span><span style=\"background-color: hsl(0, 100.00%, 93.22%); opacity: 0.82\" title=\"-0.003\">o</span><span style=\"background-color: hsl(0, 100.00%, 90.82%); opacity: 0.82\" title=\"-0.004\"> </span><span style=\"background-color: hsl(120, 100.00%, 95.26%); opacity: 0.81\" title=\"0.002\">a</span><span style=\"background-color: hsl(120, 100.00%, 99.60%); opacity: 0.80\" title=\"0.000\">r</span><span style=\"background-color: hsl(0, 100.00%, 93.37%); opacity: 0.82\" title=\"-0.003\">i</span><span style=\"background-color: hsl(0, 100.00%, 88.88%); opacity: 0.83\" title=\"-0.005\">s</span><span style=\"background-color: hsl(0, 100.00%, 90.86%); opacity: 0.82\" title=\"-0.004\">t</span><span style=\"background-color: hsl(120, 100.00%, 97.85%); opacity: 0.80\" title=\"0.001\">o</span><span style=\"background-color: hsl(0, 100.00%, 91.49%); opacity: 0.82\" title=\"-0.004\">c</span><span style=\"background-color: hsl(0, 100.00%, 91.65%); opacity: 0.82\" title=\"-0.003\">r</span><span style=\"background-color: hsl(0, 100.00%, 96.43%); opacity: 0.81\" title=\"-0.001\">a</span><span style=\"background-color: hsl(120, 100.00%, 94.85%); opacity: 0.81\" title=\"0.002\">t</span><span style=\"background-color: hsl(120, 100.00%, 93.76%); opacity: 0.81\" title=\"0.002\">i</span><span style=\"background-color: hsl(120, 100.00%, 93.91%); opacity: 0.81\" title=\"0.002\">c</span><span style=\"background-color: hsl(120, 100.00%, 92.02%); opacity: 0.82\" title=\"0.003\"> </span><span style=\"background-color: hsl(120, 100.00%, 88.19%); opacity: 0.84\" title=\"0.006\">b</span><span style=\"background-color: hsl(120, 100.00%, 85.62%); opacity: 0.85\" title=\"0.008\">r</span><span style=\"background-color: hsl(120, 100.00%, 90.20%); opacity: 0.83\" title=\"0.004\">i</span><span style=\"background-color: hsl(120, 100.00%, 94.27%); opacity: 0.81\" title=\"0.002\">t</span><span style=\"background-color: hsl(0, 100.00%, 94.57%); opacity: 0.81\" title=\"-0.002\">i</span><span style=\"background-color: hsl(0, 100.00%, 89.29%); opacity: 0.83\" title=\"-0.005\">s</span><span style=\"background-color: hsl(0, 100.00%, 93.41%); opacity: 0.82\" title=\"-0.002\">h</span><span style=\"background-color: hsl(0, 100.00%, 96.06%); opacity: 0.81\" title=\"-0.001\"> </span><span style=\"background-color: hsl(120, 100.00%, 92.48%); opacity: 0.82\" title=\"0.003\">s</span><span style=\"background-color: hsl(120, 100.00%, 90.78%); opacity: 0.82\" title=\"0.004\">o</span><span style=\"background-color: hsl(120, 100.00%, 89.56%); opacity: 0.83\" title=\"0.005\">c</span><span style=\"background-color: hsl(120, 100.00%, 87.48%); opacity: 0.84\" title=\"0.006\">i</span><span style=\"background-color: hsl(120, 100.00%, 89.71%); opacity: 0.83\" title=\"0.005\">e</span><span style=\"background-color: hsl(120, 100.00%, 86.44%); opacity: 0.84\" title=\"0.007\">t</span><span style=\"background-color: hsl(120, 100.00%, 90.43%); opacity: 0.83\" title=\"0.004\">y</span><span style=\"background-color: hsl(120, 100.00%, 91.09%); opacity: 0.82\" title=\"0.004\">,</span><span style=\"background-color: hsl(120, 100.00%, 91.76%); opacity: 0.82\" title=\"0.003\"> </span><span style=\"background-color: hsl(120, 100.00%, 92.65%); opacity: 0.82\" title=\"0.003\">a</span><span style=\"background-color: hsl(120, 100.00%, 92.76%); opacity: 0.82\" title=\"0.003\">l</span><span style=\"background-color: hsl(120, 100.00%, 93.57%); opacity: 0.81\" title=\"0.002\">l</span><span style=\"background-color: hsl(120, 100.00%, 98.60%); opacity: 0.80\" title=\"0.000\"> </span><span style=\"background-color: hsl(0, 100.00%, 93.23%); opacity: 0.82\" title=\"-0.003\">t</span><span style=\"background-color: hsl(0, 100.00%, 94.65%); opacity: 0.81\" title=\"-0.002\">h</span><span style=\"background-color: hsl(0, 100.00%, 98.65%); opacity: 0.80\" title=\"-0.000\">e</span><span style=\"background-color: hsl(0, 100.00%, 97.26%); opacity: 0.80\" title=\"-0.001\"> </span><span style=\"background-color: hsl(0, 100.00%, 95.33%); opacity: 0.81\" title=\"-0.002\">w</span><span style=\"background-color: hsl(120, 100.00%, 89.51%); opacity: 0.83\" title=\"0.005\">h</span><span style=\"background-color: hsl(120, 100.00%, 89.53%); opacity: 0.83\" title=\"0.005\">i</span><span style=\"background-color: hsl(120, 100.00%, 93.66%); opacity: 0.81\" title=\"0.002\">l</span><span style=\"background-color: hsl(0, 100.00%, 94.11%); opacity: 0.81\" title=\"-0.002\">e</span><span style=\"background-color: hsl(0, 100.00%, 89.80%); opacity: 0.83\" title=\"-0.005\"> </span><span style=\"background-color: hsl(0, 100.00%, 84.88%); opacity: 0.85\" title=\"-0.008\">w</span><span style=\"background-color: hsl(0, 100.00%, 84.54%); opacity: 0.85\" title=\"-0.008\">o</span><span style=\"background-color: hsl(0, 100.00%, 84.19%); opacity: 0.85\" title=\"-0.009\">o</span><span style=\"background-color: hsl(0, 100.00%, 86.48%); opacity: 0.84\" title=\"-0.007\">i</span><span style=\"background-color: hsl(0, 100.00%, 88.63%); opacity: 0.83\" title=\"-0.005\">n</span><span style=\"background-color: hsl(0, 100.00%, 93.30%); opacity: 0.82\" title=\"-0.003\">g</span><span style=\"background-color: hsl(120, 100.00%, 95.92%); opacity: 0.81\" title=\"0.001\"> </span><span style=\"background-color: hsl(120, 100.00%, 88.54%); opacity: 0.83\" title=\"0.005\">j</span><span style=\"background-color: hsl(120, 100.00%, 92.27%); opacity: 0.82\" title=\"0.003\">a</span><span style=\"background-color: hsl(0, 100.00%, 99.47%); opacity: 0.80\" title=\"-0.000\">n</span><span style=\"background-color: hsl(0, 100.00%, 96.96%); opacity: 0.81\" title=\"-0.001\">e</span><span style=\"background-color: hsl(0, 100.00%, 92.91%); opacity: 0.82\" title=\"-0.003\"> </span><span style=\"background-color: hsl(0, 100.00%, 86.18%); opacity: 0.84\" title=\"-0.007\">(</span><span style=\"background-color: hsl(0, 100.00%, 88.75%); opacity: 0.83\" title=\"-0.005\">a</span><span style=\"background-color: hsl(120, 100.00%, 93.73%); opacity: 0.81\" title=\"0.002\">n</span><span style=\"background-color: hsl(120, 100.00%, 89.25%); opacity: 0.83\" title=\"0.005\">d</span><span style=\"background-color: hsl(120, 100.00%, 91.28%); opacity: 0.82\" title=\"0.004\">i</span><span style=\"background-color: hsl(120, 100.00%, 90.09%); opacity: 0.83\" title=\"0.004\">e</span><span style=\"background-color: hsl(120, 100.00%, 90.57%); opacity: 0.83\" title=\"0.004\"> </span><span style=\"background-color: hsl(120, 100.00%, 94.54%); opacity: 0.81\" title=\"0.002\">m</span><span style=\"background-color: hsl(120, 100.00%, 94.93%); opacity: 0.81\" title=\"0.002\">a</span><span style=\"background-color: hsl(0, 100.00%, 96.64%); opacity: 0.81\" title=\"-0.001\">c</span><span style=\"background-color: hsl(0, 100.00%, 94.57%); opacity: 0.81\" title=\"-0.002\">d</span><span style=\"background-color: hsl(0, 100.00%, 95.17%); opacity: 0.81\" title=\"-0.002\">o</span><span style=\"background-color: hsl(120, 100.00%, 87.82%); opacity: 0.84\" title=\"0.006\">w</span><span style=\"background-color: hsl(120, 100.00%, 82.71%); opacity: 0.86\" title=\"0.010\">e</span><span style=\"background-color: hsl(120, 100.00%, 82.26%); opacity: 0.86\" title=\"0.010\">l</span><span style=\"background-color: hsl(120, 100.00%, 88.14%); opacity: 0.84\" title=\"0.006\">l</span><span style=\"background-color: hsl(120, 100.00%, 99.12%); opacity: 0.80\" title=\"0.000\">)</span><span style=\"background-color: hsl(120, 100.00%, 96.40%); opacity: 0.81\" title=\"0.001\">.</span><span style=\"background-color: hsl(120, 100.00%, 95.11%); opacity: 0.81\" title=\"0.002\"> </span><span style=\"background-color: hsl(120, 100.00%, 90.31%); opacity: 0.83\" title=\"0.004\">h</span><span style=\"background-color: hsl(120, 100.00%, 90.47%); opacity: 0.83\" title=\"0.004\">e</span><span style=\"background-color: hsl(120, 100.00%, 90.92%); opacity: 0.82\" title=\"0.004\"> </span><span style=\"background-color: hsl(0, 100.00%, 99.39%); opacity: 0.80\" title=\"-0.000\">i</span><span style=\"background-color: hsl(0, 100.00%, 94.78%); opacity: 0.81\" title=\"-0.002\">s</span><span style=\"background-color: hsl(0, 100.00%, 96.79%); opacity: 0.81\" title=\"-0.001\"> </span><span style=\"background-color: hsl(120, 100.00%, 98.71%); opacity: 0.80\" title=\"0.000\">p</span><span style=\"background-color: hsl(120, 100.00%, 94.01%); opacity: 0.81\" title=\"0.002\">o</span><span style=\"background-color: hsl(120, 100.00%, 79.18%); opacity: 0.88\" title=\"0.013\">r</span><span style=\"background-color: hsl(120, 100.00%, 75.45%); opacity: 0.90\" title=\"0.016\">t</span><span style=\"background-color: hsl(120, 100.00%, 80.61%); opacity: 0.87\" title=\"0.012\">r</span><span style=\"background-color: hsl(120, 100.00%, 87.41%); opacity: 0.84\" title=\"0.006\">a</span><span style=\"background-color: hsl(120, 100.00%, 91.28%); opacity: 0.82\" title=\"0.004\">y</span><span style=\"background-color: hsl(0, 100.00%, 97.90%); opacity: 0.80\" title=\"-0.000\">e</span><span style=\"background-color: hsl(0, 100.00%, 90.36%); opacity: 0.83\" title=\"-0.004\">d</span><span style=\"background-color: hsl(0, 100.00%, 92.72%); opacity: 0.82\" title=\"-0.003\"> </span><span style=\"background-color: hsl(0, 100.00%, 93.18%); opacity: 0.82\" title=\"-0.003\">a</span><span style=\"background-color: hsl(120, 100.00%, 95.68%); opacity: 0.81\" title=\"0.001\">s</span><span style=\"background-color: hsl(120, 100.00%, 92.74%); opacity: 0.82\" title=\"0.003\"> </span><span style=\"background-color: hsl(120, 100.00%, 94.73%); opacity: 0.81\" title=\"0.002\">a</span><span style=\"background-color: hsl(0, 100.00%, 94.26%); opacity: 0.81\" title=\"-0.002\"> </span><span style=\"background-color: hsl(0, 100.00%, 90.66%); opacity: 0.83\" title=\"-0.004\">&#x27;</span><span style=\"background-color: hsl(0, 100.00%, 92.83%); opacity: 0.82\" title=\"-0.003\">n</span><span style=\"background-color: hsl(0, 100.00%, 88.37%); opacity: 0.83\" title=\"-0.006\">o</span><span style=\"background-color: hsl(0, 100.00%, 87.12%); opacity: 0.84\" title=\"-0.006\">b</span><span style=\"background-color: hsl(0, 100.00%, 87.63%); opacity: 0.84\" title=\"-0.006\">l</span><span style=\"background-color: hsl(0, 100.00%, 94.47%); opacity: 0.81\" title=\"-0.002\">e</span><span style=\"background-color: hsl(0, 100.00%, 86.94%); opacity: 0.84\" title=\"-0.007\"> </span><span style=\"background-color: hsl(0, 100.00%, 77.25%); opacity: 0.89\" title=\"-0.015\">s</span><span style=\"background-color: hsl(0, 100.00%, 82.89%); opacity: 0.86\" title=\"-0.010\">a</span><span style=\"background-color: hsl(0, 100.00%, 91.27%); opacity: 0.82\" title=\"-0.004\">v</span><span style=\"background-color: hsl(120, 100.00%, 86.08%); opacity: 0.84\" title=\"0.007\">a</span><span style=\"background-color: hsl(120, 100.00%, 94.32%); opacity: 0.81\" title=\"0.002\">g</span><span style=\"background-color: hsl(0, 100.00%, 99.14%); opacity: 0.80\" title=\"-0.000\">e</span><span style=\"background-color: hsl(0, 100.00%, 96.23%); opacity: 0.81\" title=\"-0.001\">&#x27;</span><span style=\"background-color: hsl(120, 100.00%, 95.16%); opacity: 0.81\" title=\"0.002\">,</span><span style=\"background-color: hsl(120, 100.00%, 95.21%); opacity: 0.81\" title=\"0.002\"> </span><span style=\"background-color: hsl(120, 100.00%, 96.34%); opacity: 0.81\" title=\"0.001\">w</span><span style=\"background-color: hsl(120, 100.00%, 96.94%); opacity: 0.81\" title=\"0.001\">h</span><span style=\"background-color: hsl(120, 100.00%, 95.41%); opacity: 0.81\" title=\"0.001\">e</span><span style=\"background-color: hsl(0, 100.00%, 96.42%); opacity: 0.81\" title=\"-0.001\">t</span><span style=\"background-color: hsl(120, 100.00%, 93.83%); opacity: 0.81\" title=\"0.002\">h</span><span style=\"background-color: hsl(120, 100.00%, 90.61%); opacity: 0.83\" title=\"0.004\">e</span><span style=\"background-color: hsl(120, 100.00%, 95.68%); opacity: 0.81\" title=\"0.001\">r</span><span style=\"background-color: hsl(120, 100.00%, 92.73%); opacity: 0.82\" title=\"0.003\"> </span><span style=\"background-color: hsl(120, 100.00%, 92.64%); opacity: 0.82\" title=\"0.003\">i</span><span style=\"background-color: hsl(120, 100.00%, 97.99%); opacity: 0.80\" title=\"0.000\">n</span><span style=\"background-color: hsl(0, 100.00%, 97.28%); opacity: 0.80\" title=\"-0.001\"> </span><span style=\"background-color: hsl(0, 100.00%, 92.09%); opacity: 0.82\" title=\"-0.003\">t</span><span style=\"background-color: hsl(0, 100.00%, 95.80%); opacity: 0.81\" title=\"-0.001\">h</span><span style=\"background-color: hsl(120, 100.00%, 95.15%); opacity: 0.81\" title=\"0.002\">e</span><span style=\"background-color: hsl(120, 100.00%, 93.30%); opacity: 0.82\" title=\"0.003\"> </span><span style=\"background-color: hsl(120, 100.00%, 92.79%); opacity: 0.82\" title=\"0.003\">w</span><span style=\"background-color: hsl(120, 100.00%, 85.84%); opacity: 0.85\" title=\"0.007\">i</span><span style=\"background-color: hsl(120, 100.00%, 91.19%); opacity: 0.82\" title=\"0.004\">l</span><span style=\"background-color: hsl(120, 100.00%, 93.58%); opacity: 0.81\" title=\"0.002\">d</span><span style=\"background-color: hsl(0, 100.00%, 96.97%); opacity: 0.81\" title=\"-0.001\"> </span><span style=\"background-color: hsl(0, 100.00%, 91.50%); opacity: 0.82\" title=\"-0.004\">o</span><span style=\"background-color: hsl(0, 100.00%, 89.29%); opacity: 0.83\" title=\"-0.005\">r</span><span style=\"background-color: hsl(0, 100.00%, 96.69%); opacity: 0.81\" title=\"-0.001\"> </span><span style=\"background-color: hsl(0, 100.00%, 97.71%); opacity: 0.80\" title=\"-0.001\">i</span><span style=\"background-color: hsl(120, 100.00%, 97.46%); opacity: 0.80\" title=\"0.001\">n</span><span style=\"background-color: hsl(120, 100.00%, 92.20%); opacity: 0.82\" title=\"0.003\"> </span><span style=\"background-color: hsl(120, 100.00%, 90.50%); opacity: 0.83\" title=\"0.004\">e</span><span style=\"background-color: hsl(120, 100.00%, 97.84%); opacity: 0.80\" title=\"0.001\">l</span><span style=\"background-color: hsl(0, 100.00%, 93.05%); opacity: 0.82\" title=\"-0.003\">e</span><span style=\"background-color: hsl(0, 100.00%, 87.71%); opacity: 0.84\" title=\"-0.006\">g</span><span style=\"background-color: hsl(0, 100.00%, 94.42%); opacity: 0.81\" title=\"-0.002\">a</span><span style=\"background-color: hsl(120, 100.00%, 96.45%); opacity: 0.81\" title=\"0.001\">n</span><span style=\"background-color: hsl(0, 100.00%, 95.42%); opacity: 0.81\" title=\"-0.001\">t</span><span style=\"background-color: hsl(0, 100.00%, 98.65%); opacity: 0.80\" title=\"-0.000\"> </span><span style=\"background-color: hsl(0, 100.00%, 98.36%); opacity: 0.80\" title=\"-0.000\">e</span><span style=\"background-color: hsl(0, 100.00%, 96.94%); opacity: 0.81\" title=\"-0.001\">d</span><span style=\"background-color: hsl(120, 100.00%, 97.64%); opacity: 0.80\" title=\"0.001\">w</span><span style=\"background-color: hsl(120, 100.00%, 94.50%); opacity: 0.81\" title=\"0.002\">a</span><span style=\"background-color: hsl(120, 100.00%, 93.29%); opacity: 0.82\" title=\"0.003\">r</span><span style=\"background-color: hsl(0, 100.00%, 93.93%); opacity: 0.81\" title=\"-0.002\">d</span><span style=\"background-color: hsl(0, 100.00%, 94.23%); opacity: 0.81\" title=\"-0.002\">i</span><span style=\"background-color: hsl(0, 100.00%, 97.55%); opacity: 0.80\" title=\"-0.001\">a</span><span style=\"background-color: hsl(120, 100.00%, 97.34%); opacity: 0.80\" title=\"0.001\">n</span><span style=\"background-color: hsl(120, 100.00%, 98.17%); opacity: 0.80\" title=\"0.000\"> </span><span style=\"background-color: hsl(120, 100.00%, 94.60%); opacity: 0.81\" title=\"0.002\">p</span><span style=\"background-color: hsl(120, 100.00%, 91.82%); opacity: 0.82\" title=\"0.003\">a</span><span style=\"background-color: hsl(120, 100.00%, 89.81%); opacity: 0.83\" title=\"0.005\">r</span><span style=\"background-color: hsl(120, 100.00%, 93.37%); opacity: 0.82\" title=\"0.003\">l</span><span style=\"background-color: hsl(0, 100.00%, 88.88%); opacity: 0.83\" title=\"-0.005\">o</span><span style=\"background-color: hsl(0, 100.00%, 87.18%); opacity: 0.84\" title=\"-0.006\">r</span><span style=\"background-color: hsl(0, 100.00%, 89.73%); opacity: 0.83\" title=\"-0.005\">s</span><span style=\"background-color: hsl(120, 100.00%, 98.22%); opacity: 0.80\" title=\"0.000\">.</span><span style=\"background-color: hsl(0, 100.00%, 95.46%); opacity: 0.81\" title=\"-0.001\"> </span><span style=\"background-color: hsl(0, 100.00%, 95.69%); opacity: 0.81\" title=\"-0.001\">b</span><span style=\"background-color: hsl(0, 100.00%, 96.11%); opacity: 0.81\" title=\"-0.001\">y</span><span style=\"background-color: hsl(0, 100.00%, 98.43%); opacity: 0.80\" title=\"-0.000\"> </span><span style=\"background-color: hsl(120, 100.00%, 99.57%); opacity: 0.80\" title=\"0.000\">c</span><span style=\"background-color: hsl(120, 100.00%, 97.21%); opacity: 0.80\" title=\"0.001\">o</span><span style=\"background-color: hsl(120, 100.00%, 93.29%); opacity: 0.82\" title=\"0.003\">n</span><span style=\"background-color: hsl(120, 100.00%, 87.54%); opacity: 0.84\" title=\"0.006\">t</span><span style=\"background-color: hsl(120, 100.00%, 93.55%); opacity: 0.81\" title=\"0.002\">r</span><span style=\"background-color: hsl(0, 100.00%, 93.38%); opacity: 0.82\" title=\"-0.002\">a</span><span style=\"background-color: hsl(0, 100.00%, 85.31%); opacity: 0.85\" title=\"-0.008\">s</span><span style=\"background-color: hsl(0, 100.00%, 97.76%); opacity: 0.80\" title=\"-0.001\">t</span><span style=\"background-color: hsl(120, 100.00%, 91.33%); opacity: 0.82\" title=\"0.004\">,</span><span style=\"background-color: hsl(120, 100.00%, 92.36%); opacity: 0.82\" title=\"0.003\"> </span><span style=\"background-color: hsl(120, 100.00%, 92.88%); opacity: 0.82\" title=\"0.003\">t</span><span style=\"background-color: hsl(120, 100.00%, 89.05%); opacity: 0.83\" title=\"0.005\">h</span><span style=\"background-color: hsl(120, 100.00%, 88.02%); opacity: 0.84\" title=\"0.006\">e</span><span style=\"background-color: hsl(120, 100.00%, 93.82%); opacity: 0.81\" title=\"0.002\"> </span><span style=\"background-color: hsl(0, 100.00%, 92.91%); opacity: 0.82\" title=\"-0.003\">u</span><span style=\"background-color: hsl(0, 100.00%, 89.45%); opacity: 0.83\" title=\"-0.005\">p</span><span style=\"background-color: hsl(0, 100.00%, 95.04%); opacity: 0.81\" title=\"-0.002\">p</span><span style=\"background-color: hsl(120, 100.00%, 94.35%); opacity: 0.81\" title=\"0.002\">e</span><span style=\"background-color: hsl(120, 100.00%, 96.58%); opacity: 0.81\" title=\"0.001\">r</span><span style=\"background-color: hsl(0, 100.00%, 94.04%); opacity: 0.81\" title=\"-0.002\"> </span><span style=\"background-color: hsl(0, 100.00%, 90.93%); opacity: 0.82\" title=\"-0.004\">c</span><span style=\"background-color: hsl(0, 100.00%, 89.80%); opacity: 0.83\" title=\"-0.005\">r</span><span style=\"background-color: hsl(0, 100.00%, 90.72%); opacity: 0.82\" title=\"-0.004\">u</span><span style=\"background-color: hsl(0, 100.00%, 89.58%); opacity: 0.83\" title=\"-0.005\">s</span><span style=\"background-color: hsl(0, 100.00%, 95.51%); opacity: 0.81\" title=\"-0.001\">t</span><span style=\"background-color: hsl(120, 100.00%, 93.07%); opacity: 0.82\" title=\"0.003\"> </span><span style=\"background-color: hsl(120, 100.00%, 92.49%); opacity: 0.82\" title=\"0.003\">i</span><span style=\"background-color: hsl(120, 100.00%, 93.25%); opacity: 0.82\" title=\"0.003\">s</span><span style=\"background-color: hsl(120, 100.00%, 91.69%); opacity: 0.82\" title=\"0.003\"> </span><span style=\"background-color: hsl(120, 100.00%, 93.35%); opacity: 0.82\" title=\"0.003\">d</span><span style=\"background-color: hsl(120, 100.00%, 87.92%); opacity: 0.84\" title=\"0.006\">e</span><span style=\"background-color: hsl(120, 100.00%, 91.15%); opacity: 0.82\" title=\"0.004\">p</span><span style=\"background-color: hsl(120, 100.00%, 90.28%); opacity: 0.83\" title=\"0.004\">i</span><span style=\"background-color: hsl(120, 100.00%, 93.39%); opacity: 0.82\" title=\"0.002\">c</span><span style=\"background-color: hsl(0, 100.00%, 95.67%); opacity: 0.81\" title=\"-0.001\">t</span><span style=\"background-color: hsl(0, 100.00%, 89.98%); opacity: 0.83\" title=\"-0.005\">e</span><span style=\"background-color: hsl(0, 100.00%, 89.20%); opacity: 0.83\" title=\"-0.005\">d</span><span style=\"background-color: hsl(0, 100.00%, 93.65%); opacity: 0.81\" title=\"-0.002\"> </span><span style=\"background-color: hsl(0, 100.00%, 98.19%); opacity: 0.80\" title=\"-0.000\">a</span><span style=\"background-color: hsl(120, 100.00%, 94.84%); opacity: 0.81\" title=\"0.002\">s</span><span style=\"background-color: hsl(120, 100.00%, 89.36%); opacity: 0.83\" title=\"0.005\"> </span><span style=\"background-color: hsl(120, 100.00%, 84.98%); opacity: 0.85\" title=\"0.008\">o</span><span style=\"background-color: hsl(120, 100.00%, 79.47%); opacity: 0.88\" title=\"0.013\">f</span><span style=\"background-color: hsl(120, 100.00%, 81.20%); opacity: 0.87\" title=\"0.011\">t</span><span style=\"background-color: hsl(120, 100.00%, 87.67%); opacity: 0.84\" title=\"0.006\">e</span><span style=\"background-color: hsl(120, 100.00%, 91.29%); opacity: 0.82\" title=\"0.004\">n</span><span style=\"background-color: hsl(0, 100.00%, 95.21%); opacity: 0.81\" title=\"-0.002\"> </span><span style=\"background-color: hsl(0, 100.00%, 89.19%); opacity: 0.83\" title=\"-0.005\">f</span><span style=\"background-color: hsl(0, 100.00%, 89.67%); opacity: 0.83\" title=\"-0.005\">a</span><span style=\"background-color: hsl(0, 100.00%, 85.87%); opacity: 0.85\" title=\"-0.007\">r</span><span style=\"background-color: hsl(0, 100.00%, 91.92%); opacity: 0.82\" title=\"-0.003\"> </span><span style=\"background-color: hsl(120, 100.00%, 88.14%); opacity: 0.84\" title=\"0.006\">m</span><span style=\"background-color: hsl(120, 100.00%, 90.94%); opacity: 0.82\" title=\"0.004\">o</span><span style=\"background-color: hsl(120, 100.00%, 93.74%); opacity: 0.81\" title=\"0.002\">r</span><span style=\"background-color: hsl(120, 100.00%, 91.93%); opacity: 0.82\" title=\"0.003\">e</span><span style=\"background-color: hsl(0, 100.00%, 89.47%); opacity: 0.83\" title=\"-0.005\"> </span><span style=\"background-color: hsl(0, 100.00%, 77.23%); opacity: 0.89\" title=\"-0.015\">b</span><span style=\"background-color: hsl(0, 100.00%, 79.01%); opacity: 0.88\" title=\"-0.013\">a</span><span style=\"background-color: hsl(120, 100.00%, 95.80%); opacity: 0.81\" title=\"0.001\">r</span><span style=\"background-color: hsl(0, 100.00%, 91.57%); opacity: 0.82\" title=\"-0.004\">b</span><span style=\"background-color: hsl(0, 100.00%, 89.35%); opacity: 0.83\" title=\"-0.005\">a</span><span style=\"background-color: hsl(120, 100.00%, 99.24%); opacity: 0.80\" title=\"0.000\">r</span><span style=\"background-color: hsl(120, 100.00%, 91.34%); opacity: 0.82\" title=\"0.004\">i</span><span style=\"background-color: hsl(120, 100.00%, 91.63%); opacity: 0.82\" title=\"0.003\">c</span><span style=\"background-color: hsl(120, 100.00%, 94.79%); opacity: 0.81\" title=\"0.002\"> </span><span style=\"background-color: hsl(120, 100.00%, 98.49%); opacity: 0.80\" title=\"0.000\">t</span><span style=\"background-color: hsl(0, 100.00%, 92.39%); opacity: 0.82\" title=\"-0.003\">h</span><span style=\"background-color: hsl(0, 100.00%, 93.12%); opacity: 0.82\" title=\"-0.003\">a</span><span style=\"background-color: hsl(0, 100.00%, 92.21%); opacity: 0.82\" title=\"-0.003\">n</span><span style=\"background-color: hsl(0, 100.00%, 87.53%); opacity: 0.84\" title=\"-0.006\"> </span><span style=\"background-color: hsl(0, 100.00%, 87.45%); opacity: 0.84\" title=\"-0.006\">t</span><span style=\"background-color: hsl(0, 100.00%, 96.38%); opacity: 0.81\" title=\"-0.001\">h</span><span style=\"background-color: hsl(120, 100.00%, 93.30%); opacity: 0.82\" title=\"0.003\">e</span><span style=\"background-color: hsl(120, 100.00%, 95.56%); opacity: 0.81\" title=\"0.001\"> </span><span style=\"background-color: hsl(0, 100.00%, 93.25%); opacity: 0.82\" title=\"-0.003\">j</span><span style=\"background-color: hsl(0, 100.00%, 92.38%); opacity: 0.82\" title=\"-0.003\">u</span><span style=\"background-color: hsl(0, 100.00%, 94.09%); opacity: 0.81\" title=\"-0.002\">n</span><span style=\"background-color: hsl(0, 100.00%, 95.18%); opacity: 0.81\" title=\"-0.002\">g</span><span style=\"background-color: hsl(0, 100.00%, 89.93%); opacity: 0.83\" title=\"-0.005\">l</span><span style=\"background-color: hsl(0, 100.00%, 91.03%); opacity: 0.82\" title=\"-0.004\">e</span><span style=\"background-color: hsl(0, 100.00%, 96.12%); opacity: 0.81\" title=\"-0.001\"> </span><span style=\"background-color: hsl(0, 100.00%, 96.11%); opacity: 0.81\" title=\"-0.001\">t</span><span style=\"background-color: hsl(120, 100.00%, 99.40%); opacity: 0.80\" title=\"0.000\">a</span><span style=\"background-color: hsl(0, 100.00%, 99.95%); opacity: 0.80\" title=\"-0.000\">r</span><span style=\"background-color: hsl(120, 100.00%, 97.98%); opacity: 0.80\" title=\"0.000\">z</span><span style=\"background-color: hsl(120, 100.00%, 94.82%); opacity: 0.81\" title=\"0.002\">a</span><span style=\"background-color: hsl(120, 100.00%, 98.71%); opacity: 0.80\" title=\"0.000\">n</span><span style=\"background-color: hsl(0, 100.00%, 89.36%); opacity: 0.83\" title=\"-0.005\"> </span><span style=\"background-color: hsl(0, 100.00%, 83.82%); opacity: 0.85\" title=\"-0.009\">l</span><span style=\"background-color: hsl(0, 100.00%, 83.94%); opacity: 0.85\" title=\"-0.009\">e</span><span style=\"background-color: hsl(0, 100.00%, 90.81%); opacity: 0.82\" title=\"-0.004\">f</span><span style=\"background-color: hsl(0, 100.00%, 98.98%); opacity: 0.80\" title=\"-0.000\">t</span><span style=\"background-color: hsl(120, 100.00%, 94.61%); opacity: 0.81\" title=\"0.002\">.</span><span style=\"background-color: hsl(0, 100.00%, 93.76%); opacity: 0.81\" title=\"-0.002\"> </span><span style=\"background-color: hsl(0, 100.00%, 84.05%); opacity: 0.85\" title=\"-0.009\">c</span><span style=\"background-color: hsl(0, 100.00%, 75.86%); opacity: 0.90\" title=\"-0.016\">h</span><span style=\"background-color: hsl(0, 100.00%, 75.06%); opacity: 0.90\" title=\"-0.017\">r</span><span style=\"background-color: hsl(0, 100.00%, 78.25%); opacity: 0.88\" title=\"-0.014\">i</span><span style=\"background-color: hsl(0, 100.00%, 80.84%); opacity: 0.87\" title=\"-0.011\">s</span><span style=\"background-color: hsl(0, 100.00%, 89.72%); opacity: 0.83\" title=\"-0.005\">t</span><span style=\"background-color: hsl(120, 100.00%, 96.12%); opacity: 0.81\" title=\"0.001\">o</span><span style=\"background-color: hsl(120, 100.00%, 89.97%); opacity: 0.83\" title=\"0.005\">p</span><span style=\"background-color: hsl(120, 100.00%, 91.02%); opacity: 0.82\" title=\"0.004\">h</span><span style=\"background-color: hsl(120, 100.00%, 89.29%); opacity: 0.83\" title=\"0.005\">e</span><span style=\"background-color: hsl(120, 100.00%, 94.15%); opacity: 0.81\" title=\"0.002\">r</span><span style=\"background-color: hsl(0, 100.00%, 88.22%); opacity: 0.83\" title=\"-0.006\"> </span><span style=\"background-color: hsl(0, 100.00%, 84.75%); opacity: 0.85\" title=\"-0.008\">l</span><span style=\"background-color: hsl(0, 100.00%, 82.80%); opacity: 0.86\" title=\"-0.010\">a</span><span style=\"background-color: hsl(0, 100.00%, 85.58%); opacity: 0.85\" title=\"-0.008\">m</span><span style=\"background-color: hsl(120, 100.00%, 95.30%); opacity: 0.81\" title=\"0.002\">b</span><span style=\"background-color: hsl(120, 100.00%, 90.40%); opacity: 0.83\" title=\"0.004\">e</span><span style=\"background-color: hsl(120, 100.00%, 92.60%); opacity: 0.82\" title=\"0.003\">r</span><span style=\"background-color: hsl(120, 100.00%, 93.91%); opacity: 0.81\" title=\"0.002\">t</span><span style=\"background-color: hsl(120, 100.00%, 93.06%); opacity: 0.82\" title=\"0.003\"> </span><span style=\"background-color: hsl(120, 100.00%, 92.79%); opacity: 0.82\" title=\"0.003\">i</span><span style=\"background-color: hsl(120, 100.00%, 93.11%); opacity: 0.82\" title=\"0.003\">s</span><span style=\"background-color: hsl(120, 100.00%, 82.63%); opacity: 0.86\" title=\"0.010\"> </span><span style=\"background-color: hsl(120, 100.00%, 75.36%); opacity: 0.90\" title=\"0.016\">f</span><span style=\"background-color: hsl(120, 100.00%, 74.64%); opacity: 0.90\" title=\"0.017\">a</span><span style=\"background-color: hsl(120, 100.00%, 73.58%); opacity: 0.91\" title=\"0.018\">n</span><span style=\"background-color: hsl(120, 100.00%, 75.88%); opacity: 0.90\" title=\"0.016\">t</span><span style=\"background-color: hsl(120, 100.00%, 81.18%); opacity: 0.87\" title=\"0.011\">a</span><span style=\"background-color: hsl(120, 100.00%, 87.34%); opacity: 0.84\" title=\"0.006\">s</span><span style=\"background-color: hsl(120, 100.00%, 93.17%); opacity: 0.82\" title=\"0.003\">t</span><span style=\"background-color: hsl(120, 100.00%, 89.52%); opacity: 0.83\" title=\"0.005\">i</span><span style=\"background-color: hsl(120, 100.00%, 90.67%); opacity: 0.82\" title=\"0.004\">c</span><span style=\"background-color: hsl(120, 100.00%, 90.13%); opacity: 0.83\" title=\"0.004\"> </span><span style=\"background-color: hsl(120, 100.00%, 92.78%); opacity: 0.82\" title=\"0.003\">i</span><span style=\"background-color: hsl(120, 100.00%, 94.14%); opacity: 0.81\" title=\"0.002\">n</span><span style=\"background-color: hsl(120, 100.00%, 86.73%); opacity: 0.84\" title=\"0.007\"> </span><span style=\"background-color: hsl(120, 100.00%, 88.88%); opacity: 0.83\" title=\"0.005\">h</span><span style=\"background-color: hsl(120, 100.00%, 93.79%); opacity: 0.81\" title=\"0.002\">i</span><span style=\"background-color: hsl(0, 100.00%, 97.85%); opacity: 0.80\" title=\"-0.001\">s</span><span style=\"background-color: hsl(120, 100.00%, 98.09%); opacity: 0.80\" title=\"0.000\"> </span><span style=\"background-color: hsl(0, 100.00%, 98.33%); opacity: 0.80\" title=\"-0.000\">s</span><span style=\"background-color: hsl(120, 100.00%, 91.76%); opacity: 0.82\" title=\"0.003\">y</span><span style=\"background-color: hsl(120, 100.00%, 91.59%); opacity: 0.82\" title=\"0.004\">m</span><span style=\"background-color: hsl(0, 100.00%, 93.57%); opacity: 0.81\" title=\"-0.002\">p</span><span style=\"background-color: hsl(0, 100.00%, 96.05%); opacity: 0.81\" title=\"-0.001\">a</span><span style=\"background-color: hsl(0, 100.00%, 85.03%); opacity: 0.85\" title=\"-0.008\">t</span><span style=\"background-color: hsl(0, 100.00%, 79.48%); opacity: 0.88\" title=\"-0.013\">h</span><span style=\"background-color: hsl(0, 100.00%, 79.15%); opacity: 0.88\" title=\"-0.013\">e</span><span style=\"background-color: hsl(0, 100.00%, 80.29%); opacity: 0.87\" title=\"-0.012\">t</span><span style=\"background-color: hsl(0, 100.00%, 86.92%); opacity: 0.84\" title=\"-0.007\">i</span><span style=\"background-color: hsl(0, 100.00%, 92.20%); opacity: 0.82\" title=\"-0.003\">c</span><span style=\"background-color: hsl(0, 100.00%, 97.95%); opacity: 0.80\" title=\"-0.000\"> </span><span style=\"background-color: hsl(120, 100.00%, 98.35%); opacity: 0.80\" title=\"0.000\">p</span><span style=\"background-color: hsl(120, 100.00%, 91.96%); opacity: 0.82\" title=\"0.003\">o</span><span style=\"background-color: hsl(120, 100.00%, 79.18%); opacity: 0.88\" title=\"0.013\">r</span><span style=\"background-color: hsl(120, 100.00%, 75.45%); opacity: 0.90\" title=\"0.016\">t</span><span style=\"background-color: hsl(120, 100.00%, 80.61%); opacity: 0.87\" title=\"0.012\">r</span><span style=\"background-color: hsl(120, 100.00%, 87.92%); opacity: 0.84\" title=\"0.006\">a</span><span style=\"background-color: hsl(120, 100.00%, 85.74%); opacity: 0.85\" title=\"0.007\">y</span><span style=\"background-color: hsl(120, 100.00%, 84.94%); opacity: 0.85\" title=\"0.008\">a</span><span style=\"background-color: hsl(120, 100.00%, 88.28%); opacity: 0.83\" title=\"0.006\">l</span><span style=\"background-color: hsl(120, 100.00%, 93.25%); opacity: 0.82\" title=\"0.003\"> </span><span style=\"background-color: hsl(120, 100.00%, 94.51%); opacity: 0.81\" title=\"0.002\">o</span><span style=\"background-color: hsl(120, 100.00%, 95.09%); opacity: 0.81\" title=\"0.002\">f</span><span style=\"background-color: hsl(120, 100.00%, 97.81%); opacity: 0.80\" title=\"0.001\"> </span><span style=\"background-color: hsl(0, 100.00%, 97.81%); opacity: 0.80\" title=\"-0.001\">t</span><span style=\"background-color: hsl(120, 100.00%, 98.97%); opacity: 0.80\" title=\"0.000\">a</span><span style=\"background-color: hsl(0, 100.00%, 99.95%); opacity: 0.80\" title=\"-0.000\">r</span><span style=\"background-color: hsl(120, 100.00%, 97.98%); opacity: 0.80\" title=\"0.000\">z</span><span style=\"background-color: hsl(120, 100.00%, 95.62%); opacity: 0.81\" title=\"0.001\">a</span><span style=\"background-color: hsl(120, 100.00%, 93.12%); opacity: 0.82\" title=\"0.003\">n</span><span style=\"background-color: hsl(120, 100.00%, 89.30%); opacity: 0.83\" title=\"0.005\"> </span><span style=\"background-color: hsl(120, 100.00%, 88.99%); opacity: 0.83\" title=\"0.005\">i</span><span style=\"background-color: hsl(120, 100.00%, 87.40%); opacity: 0.84\" title=\"0.006\">n</span><span style=\"background-color: hsl(120, 100.00%, 86.64%); opacity: 0.84\" title=\"0.007\"> </span><span style=\"background-color: hsl(120, 100.00%, 85.36%); opacity: 0.85\" title=\"0.008\">b</span><span style=\"background-color: hsl(120, 100.00%, 84.88%); opacity: 0.85\" title=\"0.008\">o</span><span style=\"background-color: hsl(120, 100.00%, 81.50%); opacity: 0.87\" title=\"0.011\">t</span><span style=\"background-color: hsl(120, 100.00%, 80.04%); opacity: 0.87\" title=\"0.012\">h</span><span style=\"background-color: hsl(120, 100.00%, 84.10%); opacity: 0.85\" title=\"0.009\"> </span><span style=\"background-color: hsl(120, 100.00%, 98.77%); opacity: 0.80\" title=\"0.000\">t</span><span style=\"background-color: hsl(120, 100.00%, 92.51%); opacity: 0.82\" title=\"0.003\">h</span><span style=\"background-color: hsl(120, 100.00%, 90.61%); opacity: 0.83\" title=\"0.004\">e</span><span style=\"background-color: hsl(120, 100.00%, 94.43%); opacity: 0.81\" title=\"0.002\"> </span><span style=\"background-color: hsl(0, 100.00%, 93.25%); opacity: 0.82\" title=\"-0.003\">j</span><span style=\"background-color: hsl(0, 100.00%, 92.38%); opacity: 0.82\" title=\"-0.003\">u</span><span style=\"background-color: hsl(0, 100.00%, 94.09%); opacity: 0.81\" title=\"-0.002\">n</span><span style=\"background-color: hsl(0, 100.00%, 95.18%); opacity: 0.81\" title=\"-0.002\">g</span><span style=\"background-color: hsl(0, 100.00%, 93.05%); opacity: 0.82\" title=\"-0.003\">l</span><span style=\"background-color: hsl(0, 100.00%, 94.53%); opacity: 0.81\" title=\"-0.002\">e</span><span style=\"background-color: hsl(120, 100.00%, 91.15%); opacity: 0.82\" title=\"0.004\"> </span><span style=\"background-color: hsl(120, 100.00%, 85.05%); opacity: 0.85\" title=\"0.008\">a</span><span style=\"background-color: hsl(120, 100.00%, 81.36%); opacity: 0.87\" title=\"0.011\">n</span><span style=\"background-color: hsl(120, 100.00%, 86.23%); opacity: 0.84\" title=\"0.007\">d</span><span style=\"background-color: hsl(120, 100.00%, 92.50%); opacity: 0.82\" title=\"0.003\"> </span><span style=\"background-color: hsl(120, 100.00%, 94.10%); opacity: 0.81\" title=\"0.002\">c</span><span style=\"background-color: hsl(120, 100.00%, 94.34%); opacity: 0.81\" title=\"0.002\">i</span><span style=\"background-color: hsl(0, 100.00%, 97.39%); opacity: 0.80\" title=\"-0.001\">v</span><span style=\"background-color: hsl(0, 100.00%, 98.66%); opacity: 0.80\" title=\"-0.000\">i</span><span style=\"background-color: hsl(120, 100.00%, 94.92%); opacity: 0.81\" title=\"0.002\">l</span><span style=\"background-color: hsl(120, 100.00%, 94.83%); opacity: 0.81\" title=\"0.002\">i</span><span style=\"background-color: hsl(0, 100.00%, 96.66%); opacity: 0.81\" title=\"-0.001\">z</span><span style=\"background-color: hsl(0, 100.00%, 93.82%); opacity: 0.81\" title=\"-0.002\">e</span><span style=\"background-color: hsl(120, 100.00%, 97.14%); opacity: 0.80\" title=\"0.001\">d</span><span style=\"background-color: hsl(120, 100.00%, 93.57%); opacity: 0.81\" title=\"0.002\"> </span><span style=\"background-color: hsl(120, 100.00%, 89.61%); opacity: 0.83\" title=\"0.005\">e</span><span style=\"background-color: hsl(120, 100.00%, 96.06%); opacity: 0.81\" title=\"0.001\">n</span><span style=\"background-color: hsl(0, 100.00%, 93.47%); opacity: 0.82\" title=\"-0.002\">v</span><span style=\"background-color: hsl(0, 100.00%, 97.28%); opacity: 0.80\" title=\"-0.001\">i</span><span style=\"background-color: hsl(0, 100.00%, 99.00%); opacity: 0.80\" title=\"-0.000\">r</span><span style=\"background-color: hsl(120, 100.00%, 99.69%); opacity: 0.80\" title=\"0.000\">o</span><span style=\"background-color: hsl(0, 100.00%, 97.40%); opacity: 0.80\" title=\"-0.001\">n</span><span style=\"background-color: hsl(0, 100.00%, 96.62%); opacity: 0.81\" title=\"-0.001\">m</span><span style=\"background-color: hsl(120, 100.00%, 97.54%); opacity: 0.80\" title=\"0.001\">e</span><span style=\"background-color: hsl(120, 100.00%, 91.67%); opacity: 0.82\" title=\"0.003\">n</span><span style=\"background-color: hsl(120, 100.00%, 92.85%); opacity: 0.82\" title=\"0.003\">t</span><span style=\"background-color: hsl(120, 100.00%, 94.21%); opacity: 0.81\" title=\"0.002\">s</span><span style=\"background-color: hsl(120, 100.00%, 94.19%); opacity: 0.81\" title=\"0.002\">.</span><span style=\"background-color: hsl(120, 100.00%, 92.77%); opacity: 0.82\" title=\"0.003\"> </span><span style=\"background-color: hsl(120, 100.00%, 87.38%); opacity: 0.84\" title=\"0.006\">h</span><span style=\"background-color: hsl(120, 100.00%, 88.00%); opacity: 0.84\" title=\"0.006\">e</span><span style=\"background-color: hsl(120, 100.00%, 90.74%); opacity: 0.82\" title=\"0.004\"> </span><span style=\"background-color: hsl(120, 100.00%, 95.93%); opacity: 0.81\" title=\"0.001\">c</span><span style=\"background-color: hsl(120, 100.00%, 97.36%); opacity: 0.80\" title=\"0.001\">o</span><span style=\"background-color: hsl(0, 100.00%, 97.42%); opacity: 0.80\" title=\"-0.001\">n</span><span style=\"background-color: hsl(120, 100.00%, 96.30%); opacity: 0.81\" title=\"0.001\">v</span><span style=\"background-color: hsl(120, 100.00%, 96.24%); opacity: 0.81\" title=\"0.001\">e</span><span style=\"background-color: hsl(120, 100.00%, 94.09%); opacity: 0.81\" title=\"0.002\">y</span><span style=\"background-color: hsl(120, 100.00%, 85.10%); opacity: 0.85\" title=\"0.008\">s</span><span style=\"background-color: hsl(120, 100.00%, 85.30%); opacity: 0.85\" title=\"0.008\"> </span><span style=\"background-color: hsl(120, 100.00%, 83.58%); opacity: 0.86\" title=\"0.009\">a</span><span style=\"background-color: hsl(120, 100.00%, 83.31%); opacity: 0.86\" title=\"0.009\"> </span><span style=\"background-color: hsl(120, 100.00%, 84.54%); opacity: 0.85\" title=\"0.008\">r</span><span style=\"background-color: hsl(120, 100.00%, 85.20%); opacity: 0.85\" title=\"0.008\">e</span><span style=\"background-color: hsl(120, 100.00%, 85.49%); opacity: 0.85\" title=\"0.008\">a</span><span style=\"background-color: hsl(120, 100.00%, 91.64%); opacity: 0.82\" title=\"0.003\">l</span><span style=\"background-color: hsl(0, 100.00%, 95.75%); opacity: 0.81\" title=\"-0.001\"> </span><span style=\"background-color: hsl(0, 100.00%, 90.96%); opacity: 0.82\" title=\"-0.004\">s</span><span style=\"background-color: hsl(0, 100.00%, 97.53%); opacity: 0.80\" title=\"-0.001\">e</span><span style=\"background-color: hsl(120, 100.00%, 96.49%); opacity: 0.81\" title=\"0.001\">n</span><span style=\"background-color: hsl(120, 100.00%, 98.95%); opacity: 0.80\" title=\"0.000\">s</span><span style=\"background-color: hsl(120, 100.00%, 92.45%); opacity: 0.82\" title=\"0.003\">e</span><span style=\"background-color: hsl(120, 100.00%, 90.19%); opacity: 0.83\" title=\"0.004\"> </span><span style=\"background-color: hsl(120, 100.00%, 89.18%); opacity: 0.83\" title=\"0.005\">o</span><span style=\"background-color: hsl(120, 100.00%, 90.55%); opacity: 0.83\" title=\"0.004\">f</span><span style=\"background-color: hsl(120, 100.00%, 87.30%); opacity: 0.84\" title=\"0.006\"> </span><span style=\"background-color: hsl(120, 100.00%, 87.34%); opacity: 0.84\" title=\"0.006\">h</span><span style=\"background-color: hsl(120, 100.00%, 93.09%); opacity: 0.82\" title=\"0.003\">i</span><span style=\"background-color: hsl(120, 100.00%, 95.26%); opacity: 0.81\" title=\"0.002\">s</span><span style=\"background-color: hsl(120, 100.00%, 94.94%); opacity: 0.81\" title=\"0.002\"> </span><span style=\"background-color: hsl(0, 100.00%, 93.94%); opacity: 0.81\" title=\"-0.002\">c</span><span style=\"background-color: hsl(0, 100.00%, 89.73%); opacity: 0.83\" title=\"-0.005\">o</span><span style=\"background-color: hsl(0, 100.00%, 75.11%); opacity: 0.90\" title=\"-0.017\">n</span><span style=\"background-color: hsl(0, 100.00%, 76.43%); opacity: 0.89\" title=\"-0.015\">f</span><span style=\"background-color: hsl(0, 100.00%, 78.95%); opacity: 0.88\" title=\"-0.013\">u</span><span style=\"background-color: hsl(0, 100.00%, 88.05%); opacity: 0.84\" title=\"-0.006\">s</span><span style=\"background-color: hsl(120, 100.00%, 98.80%); opacity: 0.80\" title=\"0.000\">i</span><span style=\"background-color: hsl(120, 100.00%, 97.61%); opacity: 0.80\" title=\"0.001\">o</span><span style=\"background-color: hsl(120, 100.00%, 97.98%); opacity: 0.80\" title=\"0.000\">n</span><span style=\"background-color: hsl(120, 100.00%, 92.88%); opacity: 0.82\" title=\"0.003\"> </span><span style=\"background-color: hsl(120, 100.00%, 88.34%); opacity: 0.83\" title=\"0.006\">a</span><span style=\"background-color: hsl(120, 100.00%, 84.67%); opacity: 0.85\" title=\"0.008\">n</span><span style=\"background-color: hsl(120, 100.00%, 88.08%); opacity: 0.84\" title=\"0.006\">d</span><span style=\"background-color: hsl(120, 100.00%, 94.75%); opacity: 0.81\" title=\"0.002\"> </span><span style=\"background-color: hsl(0, 100.00%, 98.98%); opacity: 0.80\" title=\"-0.000\">c</span><span style=\"background-color: hsl(0, 100.00%, 95.00%); opacity: 0.81\" title=\"-0.002\">o</span><span style=\"background-color: hsl(0, 100.00%, 91.54%); opacity: 0.82\" title=\"-0.004\">n</span><span style=\"background-color: hsl(0, 100.00%, 91.41%); opacity: 0.82\" title=\"-0.004\">f</span><span style=\"background-color: hsl(120, 100.00%, 97.45%); opacity: 0.80\" title=\"0.001\">l</span><span style=\"background-color: hsl(120, 100.00%, 98.07%); opacity: 0.80\" title=\"0.000\">i</span><span style=\"background-color: hsl(120, 100.00%, 98.24%); opacity: 0.80\" title=\"0.000\">c</span><span style=\"background-color: hsl(120, 100.00%, 90.99%); opacity: 0.82\" title=\"0.004\">t</span><span style=\"background-color: hsl(120, 100.00%, 87.58%); opacity: 0.84\" title=\"0.006\">,</span><span style=\"background-color: hsl(120, 100.00%, 90.57%); opacity: 0.83\" title=\"0.004\"> </span><span style=\"background-color: hsl(120, 100.00%, 94.42%); opacity: 0.81\" title=\"0.002\">t</span><span style=\"background-color: hsl(0, 100.00%, 96.09%); opacity: 0.81\" title=\"-0.001\">o</span><span style=\"background-color: hsl(0, 100.00%, 95.22%); opacity: 0.81\" title=\"-0.002\">r</span><span style=\"background-color: hsl(120, 100.00%, 96.99%); opacity: 0.80\" title=\"0.001\">n</span><span style=\"background-color: hsl(120, 100.00%, 92.16%); opacity: 0.82\" title=\"0.003\"> </span><span style=\"background-color: hsl(120, 100.00%, 89.52%); opacity: 0.83\" title=\"0.005\">a</span><span style=\"background-color: hsl(120, 100.00%, 85.78%); opacity: 0.85\" title=\"0.007\">s</span><span style=\"background-color: hsl(120, 100.00%, 84.29%); opacity: 0.85\" title=\"0.009\"> </span><span style=\"background-color: hsl(120, 100.00%, 84.68%); opacity: 0.85\" title=\"0.008\">h</span><span style=\"background-color: hsl(120, 100.00%, 87.39%); opacity: 0.84\" title=\"0.006\">e</span><span style=\"background-color: hsl(120, 100.00%, 89.51%); opacity: 0.83\" title=\"0.005\"> </span><span style=\"background-color: hsl(120, 100.00%, 98.44%); opacity: 0.80\" title=\"0.000\">i</span><span style=\"background-color: hsl(0, 100.00%, 98.43%); opacity: 0.80\" title=\"-0.000\">s</span><span style=\"background-color: hsl(0, 100.00%, 97.13%); opacity: 0.80\" title=\"-0.001\"> </span><span style=\"background-color: hsl(0, 100.00%, 92.86%); opacity: 0.82\" title=\"-0.003\">b</span><span style=\"background-color: hsl(0, 100.00%, 97.87%); opacity: 0.80\" title=\"-0.000\">e</span><span style=\"background-color: hsl(0, 100.00%, 96.03%); opacity: 0.81\" title=\"-0.001\">t</span><span style=\"background-color: hsl(120, 100.00%, 89.60%); opacity: 0.83\" title=\"0.005\">w</span><span style=\"background-color: hsl(120, 100.00%, 87.73%); opacity: 0.84\" title=\"0.006\">e</span><span style=\"background-color: hsl(120, 100.00%, 91.18%); opacity: 0.82\" title=\"0.004\">e</span><span style=\"background-color: hsl(0, 100.00%, 99.67%); opacity: 0.80\" title=\"-0.000\">n</span><span style=\"background-color: hsl(0, 100.00%, 95.48%); opacity: 0.81\" title=\"-0.001\"> </span><span style=\"background-color: hsl(120, 100.00%, 97.90%); opacity: 0.80\" title=\"0.000\">t</span><span style=\"background-color: hsl(120, 100.00%, 88.10%); opacity: 0.84\" title=\"0.006\">h</span><span style=\"background-color: hsl(120, 100.00%, 80.43%); opacity: 0.87\" title=\"0.012\">e</span><span style=\"background-color: hsl(120, 100.00%, 79.18%); opacity: 0.88\" title=\"0.013\"> </span><span style=\"background-color: hsl(120, 100.00%, 78.33%); opacity: 0.88\" title=\"0.014\">t</span><span style=\"background-color: hsl(120, 100.00%, 81.55%); opacity: 0.87\" title=\"0.011\">w</span><span style=\"background-color: hsl(120, 100.00%, 90.40%); opacity: 0.83\" title=\"0.004\">o</span><span style=\"background-color: hsl(120, 100.00%, 87.36%); opacity: 0.84\" title=\"0.006\"> </span><span style=\"background-color: hsl(120, 100.00%, 83.37%); opacity: 0.86\" title=\"0.009\">v</span><span style=\"background-color: hsl(120, 100.00%, 84.93%); opacity: 0.85\" title=\"0.008\">e</span><span style=\"background-color: hsl(120, 100.00%, 87.34%); opacity: 0.84\" title=\"0.006\">r</span><span style=\"background-color: hsl(120, 100.00%, 99.31%); opacity: 0.80\" title=\"0.000\">y</span><span style=\"background-color: hsl(0, 100.00%, 92.86%); opacity: 0.82\" title=\"-0.003\"> </span><span style=\"background-color: hsl(0, 100.00%, 95.43%); opacity: 0.81\" title=\"-0.001\">d</span><span style=\"background-color: hsl(120, 100.00%, 82.60%); opacity: 0.86\" title=\"0.010\">i</span><span style=\"background-color: hsl(120, 100.00%, 78.18%); opacity: 0.88\" title=\"0.014\">f</span><span style=\"background-color: hsl(120, 100.00%, 77.96%); opacity: 0.89\" title=\"0.014\">f</span><span style=\"background-color: hsl(120, 100.00%, 80.67%); opacity: 0.87\" title=\"0.012\">e</span><span style=\"background-color: hsl(120, 100.00%, 89.85%); opacity: 0.83\" title=\"0.005\">r</span><span style=\"background-color: hsl(120, 100.00%, 92.42%); opacity: 0.82\" title=\"0.003\">e</span><span style=\"background-color: hsl(120, 100.00%, 91.64%); opacity: 0.82\" title=\"0.003\">n</span><span style=\"background-color: hsl(0, 100.00%, 94.11%); opacity: 0.81\" title=\"-0.002\">t</span><span style=\"background-color: hsl(0, 100.00%, 94.65%); opacity: 0.81\" title=\"-0.002\"> </span><span style=\"background-color: hsl(120, 100.00%, 94.99%); opacity: 0.81\" title=\"0.002\">w</span><span style=\"background-color: hsl(120, 100.00%, 91.16%); opacity: 0.82\" title=\"0.004\">o</span><span style=\"background-color: hsl(120, 100.00%, 79.62%); opacity: 0.88\" title=\"0.012\">r</span><span style=\"background-color: hsl(120, 100.00%, 71.43%); opacity: 0.92\" title=\"0.020\">l</span><span style=\"background-color: hsl(120, 100.00%, 74.55%); opacity: 0.90\" title=\"0.017\">d</span><span style=\"background-color: hsl(120, 100.00%, 86.70%); opacity: 0.84\" title=\"0.007\">s</span><span style=\"background-color: hsl(120, 100.00%, 92.04%); opacity: 0.82\" title=\"0.003\">,</span><span style=\"background-color: hsl(120, 100.00%, 88.68%); opacity: 0.83\" title=\"0.005\"> </span><span style=\"background-color: hsl(120, 100.00%, 92.54%); opacity: 0.82\" title=\"0.003\">h</span><span style=\"background-color: hsl(120, 100.00%, 93.12%); opacity: 0.82\" title=\"0.003\">i</span><span style=\"background-color: hsl(120, 100.00%, 96.79%); opacity: 0.81\" title=\"0.001\">s</span><span style=\"background-color: hsl(0, 100.00%, 94.63%); opacity: 0.81\" title=\"-0.002\"> </span><span style=\"background-color: hsl(0, 100.00%, 84.37%); opacity: 0.85\" title=\"-0.009\">o</span><span style=\"background-color: hsl(0, 100.00%, 84.32%); opacity: 0.85\" title=\"-0.009\">r</span><span style=\"background-color: hsl(0, 100.00%, 85.05%); opacity: 0.85\" title=\"-0.008\">i</span><span style=\"background-color: hsl(0, 100.00%, 82.18%); opacity: 0.86\" title=\"-0.010\">g</span><span style=\"background-color: hsl(0, 100.00%, 83.26%); opacity: 0.86\" title=\"-0.009\">i</span><span style=\"background-color: hsl(0, 100.00%, 90.02%); opacity: 0.83\" title=\"-0.004\">n</span><span style=\"background-color: hsl(0, 100.00%, 97.33%); opacity: 0.80\" title=\"-0.001\">a</span><span style=\"background-color: hsl(120, 100.00%, 94.70%); opacity: 0.81\" title=\"0.002\">l</span><span style=\"background-color: hsl(120, 100.00%, 94.36%); opacity: 0.81\" title=\"0.002\"> </span><span style=\"background-color: hsl(0, 100.00%, 91.16%); opacity: 0.82\" title=\"-0.004\">a</span><span style=\"background-color: hsl(0, 100.00%, 91.34%); opacity: 0.82\" title=\"-0.004\">p</span><span style=\"background-color: hsl(0, 100.00%, 99.86%); opacity: 0.80\" title=\"-0.000\">e</span><span style=\"background-color: hsl(120, 100.00%, 87.99%); opacity: 0.84\" title=\"0.006\"> </span><span style=\"background-color: hsl(120, 100.00%, 82.74%); opacity: 0.86\" title=\"0.010\">f</span><span style=\"background-color: hsl(120, 100.00%, 83.94%); opacity: 0.85\" title=\"0.009\">a</span><span style=\"background-color: hsl(120, 100.00%, 84.62%); opacity: 0.85\" title=\"0.008\">m</span><span style=\"background-color: hsl(120, 100.00%, 83.16%); opacity: 0.86\" title=\"0.009\">i</span><span style=\"background-color: hsl(120, 100.00%, 89.11%); opacity: 0.83\" title=\"0.005\">l</span><span style=\"background-color: hsl(120, 100.00%, 96.17%); opacity: 0.81\" title=\"0.001\">y</span><span style=\"background-color: hsl(120, 100.00%, 93.04%); opacity: 0.82\" title=\"0.003\"> </span><span style=\"background-color: hsl(120, 100.00%, 87.73%); opacity: 0.84\" title=\"0.006\">a</span><span style=\"background-color: hsl(120, 100.00%, 82.46%); opacity: 0.86\" title=\"0.010\">n</span><span style=\"background-color: hsl(120, 100.00%, 85.16%); opacity: 0.85\" title=\"0.008\">d</span><span style=\"background-color: hsl(120, 100.00%, 86.13%); opacity: 0.84\" title=\"0.007\"> </span><span style=\"background-color: hsl(120, 100.00%, 88.68%); opacity: 0.83\" title=\"0.005\">h</span><span style=\"background-color: hsl(120, 100.00%, 98.20%); opacity: 0.80\" title=\"0.000\">i</span><span style=\"background-color: hsl(0, 100.00%, 92.42%); opacity: 0.82\" title=\"-0.003\">s</span><span style=\"background-color: hsl(0, 100.00%, 93.58%); opacity: 0.81\" title=\"-0.002\"> </span><span style=\"background-color: hsl(0, 100.00%, 93.27%); opacity: 0.82\" title=\"-0.003\">n</span><span style=\"background-color: hsl(120, 100.00%, 90.82%); opacity: 0.82\" title=\"0.004\">e</span><span style=\"background-color: hsl(120, 100.00%, 92.04%); opacity: 0.82\" title=\"0.003\">w</span><span style=\"background-color: hsl(120, 100.00%, 87.14%); opacity: 0.84\" title=\"0.006\"> </span><span style=\"background-color: hsl(120, 100.00%, 83.62%); opacity: 0.86\" title=\"0.009\">h</span><span style=\"background-color: hsl(120, 100.00%, 82.13%); opacity: 0.86\" title=\"0.010\">u</span><span style=\"background-color: hsl(120, 100.00%, 79.00%); opacity: 0.88\" title=\"0.013\">m</span><span style=\"background-color: hsl(120, 100.00%, 81.92%); opacity: 0.86\" title=\"0.011\">a</span><span style=\"background-color: hsl(120, 100.00%, 88.43%); opacity: 0.83\" title=\"0.006\">n</span><span style=\"background-color: hsl(0, 100.00%, 93.78%); opacity: 0.81\" title=\"-0.002\"> </span><span style=\"background-color: hsl(0, 100.00%, 89.41%); opacity: 0.83\" title=\"-0.005\">o</span><span style=\"background-color: hsl(0, 100.00%, 94.05%); opacity: 0.81\" title=\"-0.002\">n</span><span style=\"background-color: hsl(0, 100.00%, 92.74%); opacity: 0.82\" title=\"-0.003\">e</span><span style=\"background-color: hsl(0, 100.00%, 90.15%); opacity: 0.83\" title=\"-0.004\">.</span><span style=\"background-color: hsl(0, 100.00%, 90.41%); opacity: 0.83\" title=\"-0.004\"> </span><span style=\"background-color: hsl(0, 100.00%, 92.50%); opacity: 0.82\" title=\"-0.003\">s</span><span style=\"background-color: hsl(120, 100.00%, 96.42%); opacity: 0.81\" title=\"0.001\">i</span><span style=\"background-color: hsl(0, 100.00%, 98.50%); opacity: 0.80\" title=\"-0.000\">r</span><span style=\"background-color: hsl(120, 100.00%, 98.55%); opacity: 0.80\" title=\"0.000\"> </span><span style=\"background-color: hsl(120, 100.00%, 93.63%); opacity: 0.81\" title=\"0.002\">r</span><span style=\"background-color: hsl(120, 100.00%, 93.71%); opacity: 0.81\" title=\"0.002\">a</span><span style=\"background-color: hsl(120, 100.00%, 90.10%); opacity: 0.83\" title=\"0.004\">l</span><span style=\"background-color: hsl(120, 100.00%, 92.28%); opacity: 0.82\" title=\"0.003\">p</span><span style=\"background-color: hsl(0, 100.00%, 96.56%); opacity: 0.81\" title=\"-0.001\">h</span><span style=\"background-color: hsl(120, 100.00%, 99.35%); opacity: 0.80\" title=\"0.000\"> </span><span style=\"background-color: hsl(120, 100.00%, 95.30%); opacity: 0.81\" title=\"0.002\">r</span><span style=\"background-color: hsl(120, 100.00%, 90.95%); opacity: 0.82\" title=\"0.004\">i</span><span style=\"background-color: hsl(120, 100.00%, 92.56%); opacity: 0.82\" title=\"0.003\">c</span><span style=\"background-color: hsl(120, 100.00%, 95.68%); opacity: 0.81\" title=\"0.001\">h</span><span style=\"background-color: hsl(120, 100.00%, 95.79%); opacity: 0.81\" title=\"0.001\">a</span><span style=\"background-color: hsl(120, 100.00%, 97.83%); opacity: 0.80\" title=\"0.001\">r</span><span style=\"background-color: hsl(120, 100.00%, 96.89%); opacity: 0.81\" title=\"0.001\">d</span><span style=\"background-color: hsl(120, 100.00%, 90.35%); opacity: 0.83\" title=\"0.004\">s</span><span style=\"background-color: hsl(120, 100.00%, 92.75%); opacity: 0.82\" title=\"0.003\">o</span><span style=\"background-color: hsl(120, 100.00%, 89.89%); opacity: 0.83\" title=\"0.005\">n</span><span style=\"background-color: hsl(120, 100.00%, 92.33%); opacity: 0.82\" title=\"0.003\">,</span><span style=\"background-color: hsl(120, 100.00%, 99.98%); opacity: 0.80\" title=\"0.000\"> </span><span style=\"background-color: hsl(0, 100.00%, 94.72%); opacity: 0.81\" title=\"-0.002\">o</span><span style=\"background-color: hsl(120, 100.00%, 93.48%); opacity: 0.81\" title=\"0.002\">n</span><span style=\"background-color: hsl(120, 100.00%, 90.16%); opacity: 0.83\" title=\"0.004\">e</span><span style=\"background-color: hsl(120, 100.00%, 91.86%); opacity: 0.82\" title=\"0.003\"> </span><span style=\"background-color: hsl(120, 100.00%, 91.33%); opacity: 0.82\" title=\"0.004\">o</span><span style=\"background-color: hsl(120, 100.00%, 93.24%); opacity: 0.82\" title=\"0.003\">f</span><span style=\"background-color: hsl(120, 100.00%, 97.49%); opacity: 0.80\" title=\"0.001\"> </span><span style=\"background-color: hsl(120, 100.00%, 97.72%); opacity: 0.80\" title=\"0.001\">t</span><span style=\"background-color: hsl(120, 100.00%, 93.45%); opacity: 0.82\" title=\"0.002\">h</span><span style=\"background-color: hsl(120, 100.00%, 90.35%); opacity: 0.83\" title=\"0.004\">e</span><span style=\"background-color: hsl(120, 100.00%, 98.46%); opacity: 0.80\" title=\"0.000\"> </span><span style=\"background-color: hsl(0, 100.00%, 93.11%); opacity: 0.82\" title=\"-0.003\">o</span><span style=\"background-color: hsl(120, 100.00%, 98.13%); opacity: 0.80\" title=\"0.000\">l</span><span style=\"background-color: hsl(0, 100.00%, 96.23%); opacity: 0.81\" title=\"-0.001\">d</span><span style=\"background-color: hsl(120, 100.00%, 99.29%); opacity: 0.80\" title=\"0.000\"> </span><span style=\"background-color: hsl(120, 100.00%, 86.68%); opacity: 0.84\" title=\"0.007\">b</span><span style=\"background-color: hsl(120, 100.00%, 84.57%); opacity: 0.85\" title=\"0.008\">r</span><span style=\"background-color: hsl(120, 100.00%, 90.20%); opacity: 0.83\" title=\"0.004\">i</span><span style=\"background-color: hsl(120, 100.00%, 94.27%); opacity: 0.81\" title=\"0.002\">t</span><span style=\"background-color: hsl(0, 100.00%, 94.57%); opacity: 0.81\" title=\"-0.002\">i</span><span style=\"background-color: hsl(0, 100.00%, 89.29%); opacity: 0.83\" title=\"-0.005\">s</span><span style=\"background-color: hsl(0, 100.00%, 93.09%); opacity: 0.82\" title=\"-0.003\">h</span><span style=\"background-color: hsl(0, 100.00%, 91.93%); opacity: 0.82\" title=\"-0.003\"> </span><span style=\"background-color: hsl(0, 100.00%, 87.99%); opacity: 0.84\" title=\"-0.006\">l</span><span style=\"background-color: hsl(0, 100.00%, 83.89%); opacity: 0.85\" title=\"-0.009\">e</span><span style=\"background-color: hsl(0, 100.00%, 89.68%); opacity: 0.83\" title=\"-0.005\">g</span><span style=\"background-color: hsl(0, 100.00%, 98.87%); opacity: 0.80\" title=\"-0.000\">e</span><span style=\"background-color: hsl(120, 100.00%, 90.02%); opacity: 0.83\" title=\"0.005\">n</span><span style=\"background-color: hsl(120, 100.00%, 86.82%); opacity: 0.84\" title=\"0.007\">d</span><span style=\"background-color: hsl(120, 100.00%, 88.15%); opacity: 0.84\" title=\"0.006\">s</span><span style=\"background-color: hsl(120, 100.00%, 90.62%); opacity: 0.83\" title=\"0.004\">,</span><span style=\"background-color: hsl(120, 100.00%, 90.57%); opacity: 0.83\" title=\"0.004\"> </span><span style=\"background-color: hsl(120, 100.00%, 98.86%); opacity: 0.80\" title=\"0.000\">i</span><span style=\"background-color: hsl(120, 100.00%, 96.13%); opacity: 0.81\" title=\"0.001\">s</span><span style=\"background-color: hsl(120, 100.00%, 86.03%); opacity: 0.84\" title=\"0.007\"> </span><span style=\"background-color: hsl(120, 100.00%, 75.28%); opacity: 0.90\" title=\"0.016\">b</span><span style=\"background-color: hsl(120, 100.00%, 64.38%); opacity: 0.97\" title=\"0.028\">r</span><span style=\"background-color: hsl(120, 100.00%, 65.40%); opacity: 0.96\" title=\"0.027\">i</span><span style=\"background-color: hsl(120, 100.00%, 60.52%); opacity: 1.00\" title=\"0.032\">l</span><span style=\"background-color: hsl(120, 100.00%, 61.29%); opacity: 0.99\" title=\"0.031\">l</span><span style=\"background-color: hsl(120, 100.00%, 67.61%); opacity: 0.95\" title=\"0.024\">i</span><span style=\"background-color: hsl(120, 100.00%, 72.95%); opacity: 0.91\" title=\"0.019\">a</span><span style=\"background-color: hsl(120, 100.00%, 80.73%); opacity: 0.87\" title=\"0.012\">n</span><span style=\"background-color: hsl(120, 100.00%, 86.56%); opacity: 0.84\" title=\"0.007\">t</span><span style=\"background-color: hsl(120, 100.00%, 93.64%); opacity: 0.81\" title=\"0.002\"> </span><span style=\"background-color: hsl(120, 100.00%, 91.82%); opacity: 0.82\" title=\"0.003\">a</span><span style=\"background-color: hsl(120, 100.00%, 88.90%); opacity: 0.83\" title=\"0.005\">s</span><span style=\"background-color: hsl(120, 100.00%, 84.98%); opacity: 0.85\" title=\"0.008\"> </span><span style=\"background-color: hsl(120, 100.00%, 82.58%); opacity: 0.86\" title=\"0.010\">a</span><span style=\"background-color: hsl(120, 100.00%, 75.45%); opacity: 0.90\" title=\"0.016\">l</span><span style=\"background-color: hsl(120, 100.00%, 73.85%); opacity: 0.91\" title=\"0.018\">w</span><span style=\"background-color: hsl(120, 100.00%, 75.66%); opacity: 0.90\" title=\"0.016\">a</span><span style=\"background-color: hsl(120, 100.00%, 75.83%); opacity: 0.90\" title=\"0.016\">y</span><span style=\"background-color: hsl(120, 100.00%, 78.51%); opacity: 0.88\" title=\"0.013\">s</span><span style=\"background-color: hsl(120, 100.00%, 85.22%); opacity: 0.85\" title=\"0.008\"> </span><span style=\"background-color: hsl(120, 100.00%, 94.18%); opacity: 0.81\" title=\"0.002\">i</span><span style=\"background-color: hsl(0, 100.00%, 96.73%); opacity: 0.81\" title=\"-0.001\">n</span><span style=\"background-color: hsl(0, 100.00%, 98.37%); opacity: 0.80\" title=\"-0.000\"> </span><span style=\"background-color: hsl(120, 100.00%, 99.18%); opacity: 0.80\" title=\"0.000\">t</span><span style=\"background-color: hsl(120, 100.00%, 89.80%); opacity: 0.83\" title=\"0.005\">h</span><span style=\"background-color: hsl(120, 100.00%, 81.45%); opacity: 0.87\" title=\"0.011\">e</span><span style=\"background-color: hsl(120, 100.00%, 79.38%); opacity: 0.88\" title=\"0.013\"> </span><span style=\"background-color: hsl(120, 100.00%, 82.62%); opacity: 0.86\" title=\"0.010\">r</span><span style=\"background-color: hsl(120, 100.00%, 87.24%); opacity: 0.84\" title=\"0.006\">o</span><span style=\"background-color: hsl(120, 100.00%, 96.15%); opacity: 0.81\" title=\"0.001\">l</span><span style=\"background-color: hsl(0, 100.00%, 99.20%); opacity: 0.80\" title=\"-0.000\">e</span><span style=\"background-color: hsl(0, 100.00%, 98.73%); opacity: 0.80\" title=\"-0.000\"> </span><span style=\"background-color: hsl(0, 100.00%, 95.66%); opacity: 0.81\" title=\"-0.001\">o</span><span style=\"background-color: hsl(0, 100.00%, 97.03%); opacity: 0.80\" title=\"-0.001\">f</span><span style=\"background-color: hsl(0, 100.00%, 96.97%); opacity: 0.81\" title=\"-0.001\"> </span><span style=\"background-color: hsl(0, 100.00%, 96.99%); opacity: 0.80\" title=\"-0.001\">t</span><span style=\"background-color: hsl(120, 100.00%, 98.97%); opacity: 0.80\" title=\"0.000\">a</span><span style=\"background-color: hsl(0, 100.00%, 99.95%); opacity: 0.80\" title=\"-0.000\">r</span><span style=\"background-color: hsl(120, 100.00%, 97.98%); opacity: 0.80\" title=\"0.000\">z</span><span style=\"background-color: hsl(120, 100.00%, 96.42%); opacity: 0.81\" title=\"0.001\">a</span><span style=\"background-color: hsl(0, 100.00%, 97.88%); opacity: 0.80\" title=\"-0.000\">n</span><span style=\"background-color: hsl(120, 100.00%, 97.10%); opacity: 0.80\" title=\"0.001\">&#x27;</span><span style=\"background-color: hsl(120, 100.00%, 85.76%); opacity: 0.85\" title=\"0.007\">s</span><span style=\"background-color: hsl(120, 100.00%, 84.36%); opacity: 0.85\" title=\"0.009\"> </span><span style=\"background-color: hsl(120, 100.00%, 84.90%); opacity: 0.85\" title=\"0.008\">g</span><span style=\"background-color: hsl(120, 100.00%, 90.30%); opacity: 0.83\" title=\"0.004\">r</span><span style=\"background-color: hsl(120, 100.00%, 97.47%); opacity: 0.80\" title=\"0.001\">a</span><span style=\"background-color: hsl(120, 100.00%, 89.06%); opacity: 0.83\" title=\"0.005\">n</span><span style=\"background-color: hsl(120, 100.00%, 92.54%); opacity: 0.82\" title=\"0.003\">d</span><span style=\"background-color: hsl(120, 100.00%, 90.79%); opacity: 0.82\" title=\"0.004\">f</span><span style=\"background-color: hsl(120, 100.00%, 90.21%); opacity: 0.83\" title=\"0.004\">a</span><span style=\"background-color: hsl(120, 100.00%, 93.57%); opacity: 0.81\" title=\"0.002\">t</span><span style=\"background-color: hsl(120, 100.00%, 96.49%); opacity: 0.81\" title=\"0.001\">h</span><span style=\"background-color: hsl(120, 100.00%, 95.36%); opacity: 0.81\" title=\"0.002\">e</span><span style=\"background-color: hsl(120, 100.00%, 95.38%); opacity: 0.81\" title=\"0.001\">r</span><span style=\"background-color: hsl(120, 100.00%, 93.50%); opacity: 0.81\" title=\"0.002\">,</span><span style=\"background-color: hsl(120, 100.00%, 95.60%); opacity: 0.81\" title=\"0.001\"> </span><span style=\"background-color: hsl(120, 100.00%, 96.08%); opacity: 0.81\" title=\"0.001\">t</span><span style=\"background-color: hsl(120, 100.00%, 90.44%); opacity: 0.83\" title=\"0.004\">h</span><span style=\"background-color: hsl(120, 100.00%, 87.59%); opacity: 0.84\" title=\"0.006\">e</span><span style=\"background-color: hsl(120, 100.00%, 91.47%); opacity: 0.82\" title=\"0.004\"> </span><span style=\"background-color: hsl(120, 100.00%, 98.64%); opacity: 0.80\" title=\"0.000\">s</span><span style=\"background-color: hsl(120, 100.00%, 97.53%); opacity: 0.80\" title=\"0.001\">i</span><span style=\"background-color: hsl(120, 100.00%, 95.61%); opacity: 0.81\" title=\"0.001\">x</span><span style=\"background-color: hsl(120, 100.00%, 93.17%); opacity: 0.82\" title=\"0.003\">t</span><span style=\"background-color: hsl(120, 100.00%, 92.35%); opacity: 0.82\" title=\"0.003\">h</span><span style=\"background-color: hsl(120, 100.00%, 88.49%); opacity: 0.83\" title=\"0.006\"> </span><span style=\"background-color: hsl(120, 100.00%, 87.42%); opacity: 0.84\" title=\"0.006\">e</span><span style=\"background-color: hsl(120, 100.00%, 91.44%); opacity: 0.82\" title=\"0.004\">a</span><span style=\"background-color: hsl(120, 100.00%, 93.95%); opacity: 0.81\" title=\"0.002\">r</span><span style=\"background-color: hsl(120, 100.00%, 92.65%); opacity: 0.82\" title=\"0.003\">l</span><span style=\"background-color: hsl(120, 100.00%, 97.48%); opacity: 0.80\" title=\"0.001\"> </span><span style=\"background-color: hsl(0, 100.00%, 96.26%); opacity: 0.81\" title=\"-0.001\">o</span><span style=\"background-color: hsl(0, 100.00%, 96.84%); opacity: 0.81\" title=\"-0.001\">f</span><span style=\"background-color: hsl(120, 100.00%, 88.88%); opacity: 0.83\" title=\"0.005\"> </span><span style=\"background-color: hsl(120, 100.00%, 81.83%); opacity: 0.86\" title=\"0.011\">g</span><span style=\"background-color: hsl(120, 100.00%, 82.48%); opacity: 0.86\" title=\"0.010\">r</span><span style=\"background-color: hsl(120, 100.00%, 89.66%); opacity: 0.83\" title=\"0.005\">e</span><span style=\"background-color: hsl(120, 100.00%, 94.32%); opacity: 0.81\" title=\"0.002\">y</span><span style=\"background-color: hsl(120, 100.00%, 96.37%); opacity: 0.81\" title=\"0.001\">s</span><span style=\"background-color: hsl(0, 100.00%, 96.52%); opacity: 0.81\" title=\"-0.001\">t</span><span style=\"background-color: hsl(0, 100.00%, 92.21%); opacity: 0.82\" title=\"-0.003\">o</span><span style=\"background-color: hsl(0, 100.00%, 87.23%); opacity: 0.84\" title=\"-0.006\">k</span><span style=\"background-color: hsl(0, 100.00%, 87.67%); opacity: 0.84\" title=\"-0.006\">e</span><span style=\"background-color: hsl(0, 100.00%, 87.34%); opacity: 0.84\" title=\"-0.006\">.</span><span style=\"background-color: hsl(0, 100.00%, 89.90%); opacity: 0.83\" title=\"-0.005\"> </span><span style=\"background-color: hsl(0, 100.00%, 91.73%); opacity: 0.82\" title=\"-0.003\">t</span><span style=\"background-color: hsl(0, 100.00%, 97.06%); opacity: 0.80\" title=\"-0.001\">h</span><span style=\"background-color: hsl(120, 100.00%, 97.71%); opacity: 0.80\" title=\"0.001\">e</span><span style=\"background-color: hsl(120, 100.00%, 91.99%); opacity: 0.82\" title=\"0.003\"> </span><span style=\"background-color: hsl(120, 100.00%, 94.10%); opacity: 0.81\" title=\"0.002\">f</span><span style=\"background-color: hsl(120, 100.00%, 94.23%); opacity: 0.81\" title=\"0.002\">i</span><span style=\"background-color: hsl(120, 100.00%, 93.43%); opacity: 0.82\" title=\"0.002\">l</span><span style=\"background-color: hsl(120, 100.00%, 91.30%); opacity: 0.82\" title=\"0.004\">m</span><span style=\"background-color: hsl(120, 100.00%, 86.30%); opacity: 0.84\" title=\"0.007\"> </span><span style=\"background-color: hsl(120, 100.00%, 86.71%); opacity: 0.84\" title=\"0.007\">f</span><span style=\"background-color: hsl(120, 100.00%, 86.53%); opacity: 0.84\" title=\"0.007\">o</span><span style=\"background-color: hsl(120, 100.00%, 89.01%); opacity: 0.83\" title=\"0.005\">c</span><span style=\"background-color: hsl(120, 100.00%, 93.71%); opacity: 0.81\" title=\"0.002\">u</span><span style=\"background-color: hsl(120, 100.00%, 99.67%); opacity: 0.80\" title=\"0.000\">s</span><span style=\"background-color: hsl(120, 100.00%, 97.54%); opacity: 0.80\" title=\"0.001\">e</span><span style=\"background-color: hsl(120, 100.00%, 90.97%); opacity: 0.82\" title=\"0.004\">s</span><span style=\"background-color: hsl(120, 100.00%, 90.41%); opacity: 0.83\" title=\"0.004\"> </span><span style=\"background-color: hsl(120, 100.00%, 86.89%); opacity: 0.84\" title=\"0.007\">m</span><span style=\"background-color: hsl(120, 100.00%, 88.89%); opacity: 0.83\" title=\"0.005\">o</span><span style=\"background-color: hsl(120, 100.00%, 93.32%); opacity: 0.82\" title=\"0.003\">r</span><span style=\"background-color: hsl(120, 100.00%, 93.68%); opacity: 0.81\" title=\"0.002\">e</span><span style=\"background-color: hsl(0, 100.00%, 95.44%); opacity: 0.81\" title=\"-0.001\"> </span><span style=\"background-color: hsl(0, 100.00%, 92.20%); opacity: 0.82\" title=\"-0.003\">o</span><span style=\"background-color: hsl(0, 100.00%, 95.15%); opacity: 0.81\" title=\"-0.002\">n</span><span style=\"background-color: hsl(0, 100.00%, 99.29%); opacity: 0.80\" title=\"-0.000\"> </span><span style=\"background-color: hsl(0, 100.00%, 95.53%); opacity: 0.81\" title=\"-0.001\">t</span><span style=\"background-color: hsl(120, 100.00%, 98.97%); opacity: 0.80\" title=\"0.000\">a</span><span style=\"background-color: hsl(0, 100.00%, 99.95%); opacity: 0.80\" title=\"-0.000\">r</span><span style=\"background-color: hsl(120, 100.00%, 97.98%); opacity: 0.80\" title=\"0.000\">z</span><span style=\"background-color: hsl(120, 100.00%, 96.42%); opacity: 0.81\" title=\"0.001\">a</span><span style=\"background-color: hsl(0, 100.00%, 97.88%); opacity: 0.80\" title=\"-0.000\">n</span><span style=\"background-color: hsl(120, 100.00%, 98.63%); opacity: 0.80\" title=\"0.000\">&#x27;</span><span style=\"background-color: hsl(120, 100.00%, 91.03%); opacity: 0.82\" title=\"0.004\">s</span><span style=\"background-color: hsl(0, 100.00%, 98.35%); opacity: 0.80\" title=\"-0.000\"> </span><span style=\"background-color: hsl(0, 100.00%, 92.13%); opacity: 0.82\" title=\"-0.003\">s</span><span style=\"background-color: hsl(120, 100.00%, 92.69%); opacity: 0.82\" title=\"0.003\">t</span><span style=\"background-color: hsl(120, 100.00%, 90.76%); opacity: 0.82\" title=\"0.004\">r</span><span style=\"background-color: hsl(120, 100.00%, 96.21%); opacity: 0.81\" title=\"0.001\">u</span><span style=\"background-color: hsl(0, 100.00%, 89.88%); opacity: 0.83\" title=\"-0.005\">g</span><span style=\"background-color: hsl(0, 100.00%, 91.31%); opacity: 0.82\" title=\"-0.004\">g</span><span style=\"background-color: hsl(0, 100.00%, 91.79%); opacity: 0.82\" title=\"-0.003\">l</span><span style=\"background-color: hsl(0, 100.00%, 97.13%); opacity: 0.80\" title=\"-0.001\">e</span><span style=\"background-color: hsl(120, 100.00%, 92.78%); opacity: 0.82\" title=\"0.003\">s</span><span style=\"background-color: hsl(120, 100.00%, 88.07%); opacity: 0.84\" title=\"0.006\"> </span><span style=\"background-color: hsl(120, 100.00%, 91.77%); opacity: 0.82\" title=\"0.003\">i</span><span style=\"background-color: hsl(120, 100.00%, 95.82%); opacity: 0.81\" title=\"0.001\">n</span><span style=\"background-color: hsl(120, 100.00%, 91.87%); opacity: 0.82\" title=\"0.003\"> </span><span style=\"background-color: hsl(0, 100.00%, 96.00%); opacity: 0.81\" title=\"-0.001\">a</span><span style=\"background-color: hsl(120, 100.00%, 99.29%); opacity: 0.80\" title=\"0.000\">d</span><span style=\"background-color: hsl(120, 100.00%, 95.69%); opacity: 0.81\" title=\"0.001\">a</span><span style=\"background-color: hsl(0, 100.00%, 90.25%); opacity: 0.83\" title=\"-0.004\">p</span><span style=\"background-color: hsl(0, 100.00%, 91.48%); opacity: 0.82\" title=\"-0.004\">t</span><span style=\"background-color: hsl(0, 100.00%, 89.64%); opacity: 0.83\" title=\"-0.005\">i</span><span style=\"background-color: hsl(0, 100.00%, 86.37%); opacity: 0.84\" title=\"-0.007\">n</span><span style=\"background-color: hsl(0, 100.00%, 87.46%); opacity: 0.84\" title=\"-0.006\">g</span><span style=\"background-color: hsl(0, 100.00%, 88.87%); opacity: 0.83\" title=\"-0.005\"> </span><span style=\"background-color: hsl(0, 100.00%, 92.23%); opacity: 0.82\" title=\"-0.003\">t</span><span style=\"background-color: hsl(0, 100.00%, 90.39%); opacity: 0.83\" title=\"-0.004\">o</span><span style=\"background-color: hsl(0, 100.00%, 92.18%); opacity: 0.82\" title=\"-0.003\"> </span><span style=\"background-color: hsl(120, 100.00%, 97.40%); opacity: 0.80\" title=\"0.001\">c</span><span style=\"background-color: hsl(120, 100.00%, 94.34%); opacity: 0.81\" title=\"0.002\">i</span><span style=\"background-color: hsl(0, 100.00%, 97.39%); opacity: 0.80\" title=\"-0.001\">v</span><span style=\"background-color: hsl(0, 100.00%, 98.66%); opacity: 0.80\" title=\"-0.000\">i</span><span style=\"background-color: hsl(120, 100.00%, 94.88%); opacity: 0.81\" title=\"0.002\">l</span><span style=\"background-color: hsl(0, 100.00%, 97.56%); opacity: 0.80\" title=\"-0.001\">i</span><span style=\"background-color: hsl(0, 100.00%, 95.36%); opacity: 0.81\" title=\"-0.002\">z</span><span style=\"background-color: hsl(0, 100.00%, 98.39%); opacity: 0.80\" title=\"-0.000\">a</span><span style=\"background-color: hsl(120, 100.00%, 92.69%); opacity: 0.82\" title=\"0.003\">t</span><span style=\"background-color: hsl(120, 100.00%, 92.08%); opacity: 0.82\" title=\"0.003\">i</span><span style=\"background-color: hsl(120, 100.00%, 93.97%); opacity: 0.81\" title=\"0.002\">o</span><span style=\"background-color: hsl(120, 100.00%, 94.99%); opacity: 0.81\" title=\"0.002\">n</span><span style=\"background-color: hsl(120, 100.00%, 91.63%); opacity: 0.82\" title=\"0.003\"> </span><span style=\"background-color: hsl(120, 100.00%, 87.75%); opacity: 0.84\" title=\"0.006\">a</span><span style=\"background-color: hsl(120, 100.00%, 83.50%); opacity: 0.86\" title=\"0.009\">n</span><span style=\"background-color: hsl(120, 100.00%, 86.78%); opacity: 0.84\" title=\"0.007\">d</span><span style=\"background-color: hsl(120, 100.00%, 86.78%); opacity: 0.84\" title=\"0.007\"> </span><span style=\"background-color: hsl(120, 100.00%, 87.02%); opacity: 0.84\" title=\"0.007\">h</span><span style=\"background-color: hsl(120, 100.00%, 90.71%); opacity: 0.82\" title=\"0.004\">i</span><span style=\"background-color: hsl(120, 100.00%, 93.21%); opacity: 0.82\" title=\"0.003\">s</span><span style=\"background-color: hsl(120, 100.00%, 85.71%); opacity: 0.85\" title=\"0.008\"> </span><span style=\"background-color: hsl(120, 100.00%, 86.99%); opacity: 0.84\" title=\"0.007\">i</span><span style=\"background-color: hsl(120, 100.00%, 98.07%); opacity: 0.80\" title=\"0.000\">n</span><span style=\"background-color: hsl(120, 100.00%, 98.70%); opacity: 0.80\" title=\"0.000\">n</span><span style=\"background-color: hsl(0, 100.00%, 96.26%); opacity: 0.81\" title=\"-0.001\">e</span><span style=\"background-color: hsl(0, 100.00%, 95.74%); opacity: 0.81\" title=\"-0.001\">r</span><span style=\"background-color: hsl(0, 100.00%, 96.42%); opacity: 0.81\" title=\"-0.001\"> </span><span style=\"background-color: hsl(120, 100.00%, 99.55%); opacity: 0.80\" title=\"0.000\">c</span><span style=\"background-color: hsl(0, 100.00%, 96.77%); opacity: 0.81\" title=\"-0.001\">o</span><span style=\"background-color: hsl(0, 100.00%, 91.22%); opacity: 0.82\" title=\"-0.004\">n</span><span style=\"background-color: hsl(0, 100.00%, 91.41%); opacity: 0.82\" title=\"-0.004\">f</span><span style=\"background-color: hsl(120, 100.00%, 97.45%); opacity: 0.80\" title=\"0.001\">l</span><span style=\"background-color: hsl(120, 100.00%, 98.07%); opacity: 0.80\" title=\"0.000\">i</span><span style=\"background-color: hsl(0, 100.00%, 98.52%); opacity: 0.80\" title=\"-0.000\">c</span><span style=\"background-color: hsl(0, 100.00%, 99.73%); opacity: 0.80\" title=\"-0.000\">t</span><span style=\"background-color: hsl(0, 100.00%, 98.02%); opacity: 0.80\" title=\"-0.000\"> </span><span style=\"background-color: hsl(120, 100.00%, 99.43%); opacity: 0.80\" title=\"0.000\">t</span><span style=\"background-color: hsl(0, 100.00%, 97.50%); opacity: 0.80\" title=\"-0.001\">h</span><span style=\"background-color: hsl(120, 100.00%, 96.95%); opacity: 0.81\" title=\"0.001\">a</span><span style=\"background-color: hsl(120, 100.00%, 96.01%); opacity: 0.81\" title=\"0.001\">n</span><span style=\"background-color: hsl(0, 100.00%, 92.14%); opacity: 0.82\" title=\"-0.003\"> </span><span style=\"background-color: hsl(0, 100.00%, 92.50%); opacity: 0.82\" title=\"-0.003\">o</span><span style=\"background-color: hsl(120, 100.00%, 98.39%); opacity: 0.80\" title=\"0.000\">n</span><span style=\"background-color: hsl(120, 100.00%, 89.74%); opacity: 0.83\" title=\"0.005\"> </span><span style=\"background-color: hsl(120, 100.00%, 90.64%); opacity: 0.83\" title=\"0.004\">h</span><span style=\"background-color: hsl(0, 100.00%, 95.43%); opacity: 0.81\" title=\"-0.001\">i</span><span style=\"background-color: hsl(0, 100.00%, 86.36%); opacity: 0.84\" title=\"-0.007\">s</span><span style=\"background-color: hsl(0, 100.00%, 87.42%); opacity: 0.84\" title=\"-0.006\"> </span><span style=\"background-color: hsl(0, 100.00%, 83.40%); opacity: 0.86\" title=\"-0.009\">j</span><span style=\"background-color: hsl(0, 100.00%, 87.00%); opacity: 0.84\" title=\"-0.007\">u</span><span style=\"background-color: hsl(0, 100.00%, 94.09%); opacity: 0.81\" title=\"-0.002\">n</span><span style=\"background-color: hsl(0, 100.00%, 95.18%); opacity: 0.81\" title=\"-0.002\">g</span><span style=\"background-color: hsl(0, 100.00%, 89.76%); opacity: 0.83\" title=\"-0.005\">l</span><span style=\"background-color: hsl(0, 100.00%, 89.12%); opacity: 0.83\" title=\"-0.005\">e</span><span style=\"background-color: hsl(0, 100.00%, 97.90%); opacity: 0.80\" title=\"-0.000\"> </span><span style=\"background-color: hsl(120, 100.00%, 97.29%); opacity: 0.80\" title=\"0.001\">e</span><span style=\"background-color: hsl(120, 100.00%, 95.43%); opacity: 0.81\" title=\"0.001\">x</span><span style=\"background-color: hsl(0, 100.00%, 99.78%); opacity: 0.80\" title=\"-0.000\">p</span><span style=\"background-color: hsl(0, 100.00%, 92.74%); opacity: 0.82\" title=\"-0.003\">l</span><span style=\"background-color: hsl(0, 100.00%, 91.62%); opacity: 0.82\" title=\"-0.004\">o</span><span style=\"background-color: hsl(120, 100.00%, 99.03%); opacity: 0.80\" title=\"0.000\">i</span><span style=\"background-color: hsl(120, 100.00%, 94.42%); opacity: 0.81\" title=\"0.002\">t</span><span style=\"background-color: hsl(0, 100.00%, 98.69%); opacity: 0.80\" title=\"-0.000\">s</span><span style=\"background-color: hsl(120, 100.00%, 96.96%); opacity: 0.81\" title=\"0.001\">.</span><span style=\"background-color: hsl(0, 100.00%, 95.14%); opacity: 0.81\" title=\"-0.002\"> </span><span style=\"background-color: hsl(0, 100.00%, 91.41%); opacity: 0.82\" title=\"-0.004\">t</span><span style=\"background-color: hsl(0, 100.00%, 92.67%); opacity: 0.82\" title=\"-0.003\">h</span><span style=\"background-color: hsl(0, 100.00%, 91.68%); opacity: 0.82\" title=\"-0.003\">i</span><span style=\"background-color: hsl(0, 100.00%, 93.06%); opacity: 0.82\" title=\"-0.003\">s</span><span style=\"background-color: hsl(0, 100.00%, 89.20%); opacity: 0.83\" title=\"-0.005\"> </span><span style=\"background-color: hsl(0, 100.00%, 87.04%); opacity: 0.84\" title=\"-0.007\">u</span><span style=\"background-color: hsl(0, 100.00%, 87.47%); opacity: 0.84\" title=\"-0.006\">n</span><span style=\"background-color: hsl(0, 100.00%, 95.34%); opacity: 0.81\" title=\"-0.002\">u</span><span style=\"background-color: hsl(120, 100.00%, 92.68%); opacity: 0.82\" title=\"0.003\">s</span><span style=\"background-color: hsl(120, 100.00%, 91.37%); opacity: 0.82\" title=\"0.004\">u</span><span style=\"background-color: hsl(120, 100.00%, 90.30%); opacity: 0.83\" title=\"0.004\">a</span><span style=\"background-color: hsl(120, 100.00%, 91.28%); opacity: 0.82\" title=\"0.004\">l</span><span style=\"background-color: hsl(120, 100.00%, 92.23%); opacity: 0.82\" title=\"0.003\"> </span><span style=\"background-color: hsl(120, 100.00%, 92.21%); opacity: 0.82\" title=\"0.003\">t</span><span style=\"background-color: hsl(0, 100.00%, 97.07%); opacity: 0.80\" title=\"-0.001\">a</span><span style=\"background-color: hsl(0, 100.00%, 91.97%); opacity: 0.82\" title=\"-0.003\">k</span><span style=\"background-color: hsl(0, 100.00%, 90.57%); opacity: 0.83\" title=\"-0.004\">e</span><span style=\"background-color: hsl(0, 100.00%, 88.70%); opacity: 0.83\" title=\"-0.005\"> </span><span style=\"background-color: hsl(0, 100.00%, 89.95%); opacity: 0.83\" title=\"-0.005\">o</span><span style=\"background-color: hsl(0, 100.00%, 92.31%); opacity: 0.82\" title=\"-0.003\">n</span><span style=\"background-color: hsl(0, 100.00%, 92.77%); opacity: 0.82\" title=\"-0.003\"> </span><span style=\"background-color: hsl(0, 100.00%, 91.53%); opacity: 0.82\" title=\"-0.004\">t</span><span style=\"background-color: hsl(0, 100.00%, 96.46%); opacity: 0.81\" title=\"-0.001\">h</span><span style=\"background-color: hsl(120, 100.00%, 93.15%); opacity: 0.82\" title=\"0.003\">e</span><span style=\"background-color: hsl(0, 100.00%, 98.34%); opacity: 0.80\" title=\"-0.000\"> </span><span style=\"background-color: hsl(0, 100.00%, 93.11%); opacity: 0.82\" title=\"-0.003\">o</span><span style=\"background-color: hsl(120, 100.00%, 97.41%); opacity: 0.80\" title=\"0.001\">l</span><span style=\"background-color: hsl(0, 100.00%, 91.19%); opacity: 0.82\" title=\"-0.004\">d</span><span style=\"background-color: hsl(0, 100.00%, 96.61%); opacity: 0.81\" title=\"-0.001\"> </span><span style=\"background-color: hsl(120, 100.00%, 87.78%); opacity: 0.84\" title=\"0.006\">c</span><span style=\"background-color: hsl(120, 100.00%, 81.44%); opacity: 0.87\" title=\"0.011\">l</span><span style=\"background-color: hsl(120, 100.00%, 76.49%); opacity: 0.89\" title=\"0.015\">a</span><span style=\"background-color: hsl(120, 100.00%, 74.71%); opacity: 0.90\" title=\"0.017\">s</span><span style=\"background-color: hsl(120, 100.00%, 76.05%); opacity: 0.90\" title=\"0.016\">s</span><span style=\"background-color: hsl(120, 100.00%, 77.46%); opacity: 0.89\" title=\"0.014\">i</span><span style=\"background-color: hsl(120, 100.00%, 81.08%); opacity: 0.87\" title=\"0.011\">c</span><span style=\"background-color: hsl(120, 100.00%, 86.71%); opacity: 0.84\" title=\"0.007\"> </span><span style=\"background-color: hsl(120, 100.00%, 90.00%); opacity: 0.83\" title=\"0.005\">m</span><span style=\"background-color: hsl(120, 100.00%, 89.26%); opacity: 0.83\" title=\"0.005\">a</span><span style=\"background-color: hsl(120, 100.00%, 91.39%); opacity: 0.82\" title=\"0.004\">k</span><span style=\"background-color: hsl(120, 100.00%, 85.33%); opacity: 0.85\" title=\"0.008\">e</span><span style=\"background-color: hsl(120, 100.00%, 81.65%); opacity: 0.87\" title=\"0.011\">s</span><span style=\"background-color: hsl(120, 100.00%, 85.29%); opacity: 0.85\" title=\"0.008\"> </span><span style=\"background-color: hsl(120, 100.00%, 86.93%); opacity: 0.84\" title=\"0.007\">i</span><span style=\"background-color: hsl(120, 100.00%, 93.23%); opacity: 0.82\" title=\"0.003\">t</span><span style=\"background-color: hsl(120, 100.00%, 97.01%); opacity: 0.80\" title=\"0.001\"> </span><span style=\"background-color: hsl(120, 100.00%, 92.76%); opacity: 0.82\" title=\"0.003\">b</span><span style=\"background-color: hsl(120, 100.00%, 88.47%); opacity: 0.83\" title=\"0.006\">o</span><span style=\"background-color: hsl(120, 100.00%, 81.50%); opacity: 0.87\" title=\"0.011\">t</span><span style=\"background-color: hsl(120, 100.00%, 80.04%); opacity: 0.87\" title=\"0.012\">h</span><span style=\"background-color: hsl(120, 100.00%, 83.37%); opacity: 0.86\" title=\"0.009\"> </span><span style=\"background-color: hsl(120, 100.00%, 95.75%); opacity: 0.81\" title=\"0.001\">t</span><span style=\"background-color: hsl(120, 100.00%, 89.22%); opacity: 0.83\" title=\"0.005\">h</span><span style=\"background-color: hsl(120, 100.00%, 86.23%); opacity: 0.84\" title=\"0.007\">e</span><span style=\"background-color: hsl(120, 100.00%, 89.64%); opacity: 0.83\" title=\"0.005\"> </span><span style=\"background-color: hsl(120, 100.00%, 97.15%); opacity: 0.80\" title=\"0.001\">t</span><span style=\"background-color: hsl(0, 100.00%, 89.84%); opacity: 0.83\" title=\"-0.005\">y</span><span style=\"background-color: hsl(0, 100.00%, 89.68%); opacity: 0.83\" title=\"-0.005\">p</span><span style=\"background-color: hsl(0, 100.00%, 94.02%); opacity: 0.81\" title=\"-0.002\">i</span><span style=\"background-color: hsl(0, 100.00%, 97.75%); opacity: 0.80\" title=\"-0.001\">c</span><span style=\"background-color: hsl(0, 100.00%, 95.91%); opacity: 0.81\" title=\"-0.001\">a</span><span style=\"background-color: hsl(120, 100.00%, 98.54%); opacity: 0.80\" title=\"0.000\">l</span><span style=\"background-color: hsl(0, 100.00%, 97.86%); opacity: 0.80\" title=\"-0.000\"> </span><span style=\"background-color: hsl(0, 100.00%, 96.76%); opacity: 0.81\" title=\"-0.001\">d</span><span style=\"background-color: hsl(120, 100.00%, 94.72%); opacity: 0.81\" title=\"0.002\">r</span><span style=\"background-color: hsl(120, 100.00%, 98.02%); opacity: 0.80\" title=\"0.000\">a</span><span style=\"background-color: hsl(120, 100.00%, 96.02%); opacity: 0.81\" title=\"0.001\">m</span><span style=\"background-color: hsl(120, 100.00%, 97.15%); opacity: 0.80\" title=\"0.001\">a</span><span style=\"background-color: hsl(0, 100.00%, 93.67%); opacity: 0.81\" title=\"-0.002\">t</span><span style=\"background-color: hsl(120, 100.00%, 95.96%); opacity: 0.81\" title=\"0.001\">i</span><span style=\"background-color: hsl(120, 100.00%, 94.62%); opacity: 0.81\" title=\"0.002\">c</span><span style=\"background-color: hsl(120, 100.00%, 89.98%); opacity: 0.83\" title=\"0.005\"> </span><span style=\"background-color: hsl(120, 100.00%, 98.02%); opacity: 0.80\" title=\"0.000\">a</span><span style=\"background-color: hsl(120, 100.00%, 92.21%); opacity: 0.82\" title=\"0.003\">d</span><span style=\"background-color: hsl(120, 100.00%, 83.87%); opacity: 0.85\" title=\"0.009\">v</span><span style=\"background-color: hsl(120, 100.00%, 83.67%); opacity: 0.86\" title=\"0.009\">e</span><span style=\"background-color: hsl(120, 100.00%, 85.68%); opacity: 0.85\" title=\"0.008\">n</span><span style=\"background-color: hsl(120, 100.00%, 84.26%); opacity: 0.85\" title=\"0.009\">t</span><span style=\"background-color: hsl(120, 100.00%, 85.26%); opacity: 0.85\" title=\"0.008\">u</span><span style=\"background-color: hsl(120, 100.00%, 89.62%); opacity: 0.83\" title=\"0.005\">r</span><span style=\"background-color: hsl(120, 100.00%, 90.27%); opacity: 0.83\" title=\"0.004\">e</span><span style=\"background-color: hsl(120, 100.00%, 95.12%); opacity: 0.81\" title=\"0.002\"> </span><span style=\"background-color: hsl(120, 100.00%, 95.48%); opacity: 0.81\" title=\"0.001\">b</span><span style=\"background-color: hsl(120, 100.00%, 91.81%); opacity: 0.82\" title=\"0.003\">u</span><span style=\"background-color: hsl(120, 100.00%, 96.27%); opacity: 0.81\" title=\"0.001\">t</span><span style=\"background-color: hsl(120, 100.00%, 90.11%); opacity: 0.83\" title=\"0.004\"> </span><span style=\"background-color: hsl(120, 100.00%, 84.41%); opacity: 0.85\" title=\"0.009\">a</span><span style=\"background-color: hsl(120, 100.00%, 83.06%); opacity: 0.86\" title=\"0.010\">l</span><span style=\"background-color: hsl(120, 100.00%, 85.19%); opacity: 0.85\" title=\"0.008\">s</span><span style=\"background-color: hsl(120, 100.00%, 91.29%); opacity: 0.82\" title=\"0.004\">o</span><span style=\"background-color: hsl(120, 100.00%, 99.01%); opacity: 0.80\" title=\"0.000\">,</span><span style=\"background-color: hsl(120, 100.00%, 94.84%); opacity: 0.81\" title=\"0.002\"> </span><span style=\"background-color: hsl(120, 100.00%, 95.70%); opacity: 0.81\" title=\"0.001\">a</span><span style=\"background-color: hsl(0, 100.00%, 94.25%); opacity: 0.81\" title=\"-0.002\">b</span><span style=\"background-color: hsl(120, 100.00%, 91.27%); opacity: 0.82\" title=\"0.004\">o</span><span style=\"background-color: hsl(120, 100.00%, 87.88%); opacity: 0.84\" title=\"0.006\">v</span><span style=\"background-color: hsl(120, 100.00%, 90.24%); opacity: 0.83\" title=\"0.004\">e</span><span style=\"background-color: hsl(120, 100.00%, 96.71%); opacity: 0.81\" title=\"0.001\"> </span><span style=\"background-color: hsl(120, 100.00%, 97.48%); opacity: 0.80\" title=\"0.001\">a</span><span style=\"background-color: hsl(0, 100.00%, 97.24%); opacity: 0.80\" title=\"-0.001\">l</span><span style=\"background-color: hsl(0, 100.00%, 94.70%); opacity: 0.81\" title=\"-0.002\">l</span><span style=\"background-color: hsl(120, 100.00%, 95.53%); opacity: 0.81\" title=\"0.001\">,</span><span style=\"background-color: hsl(120, 100.00%, 94.00%); opacity: 0.81\" title=\"0.002\"> </span><span style=\"background-color: hsl(120, 100.00%, 96.12%); opacity: 0.81\" title=\"0.001\">a</span><span style=\"background-color: hsl(0, 100.00%, 97.28%); opacity: 0.80\" title=\"-0.001\"> </span><span style=\"background-color: hsl(0, 100.00%, 93.65%); opacity: 0.81\" title=\"-0.002\">m</span><span style=\"background-color: hsl(120, 100.00%, 88.90%); opacity: 0.83\" title=\"0.005\">o</span><span style=\"background-color: hsl(120, 100.00%, 87.78%); opacity: 0.84\" title=\"0.006\">v</span><span style=\"background-color: hsl(120, 100.00%, 94.14%); opacity: 0.81\" title=\"0.002\">i</span><span style=\"background-color: hsl(120, 100.00%, 93.46%); opacity: 0.82\" title=\"0.002\">n</span><span style=\"background-color: hsl(0, 100.00%, 99.55%); opacity: 0.80\" title=\"-0.000\">g</span><span style=\"background-color: hsl(120, 100.00%, 97.65%); opacity: 0.80\" title=\"0.001\"> </span><span style=\"background-color: hsl(120, 100.00%, 89.12%); opacity: 0.83\" title=\"0.005\">p</span><span style=\"background-color: hsl(120, 100.00%, 82.59%); opacity: 0.86\" title=\"0.010\">e</span><span style=\"background-color: hsl(120, 100.00%, 84.87%); opacity: 0.85\" title=\"0.008\">r</span><span style=\"background-color: hsl(120, 100.00%, 87.40%); opacity: 0.84\" title=\"0.006\">s</span><span style=\"background-color: hsl(120, 100.00%, 87.41%); opacity: 0.84\" title=\"0.006\">o</span><span style=\"background-color: hsl(120, 100.00%, 87.92%); opacity: 0.84\" title=\"0.006\">n</span><span style=\"background-color: hsl(120, 100.00%, 88.78%); opacity: 0.83\" title=\"0.005\">a</span><span style=\"background-color: hsl(120, 100.00%, 92.62%); opacity: 0.82\" title=\"0.003\">l</span><span style=\"background-color: hsl(0, 100.00%, 95.86%); opacity: 0.81\" title=\"-0.001\"> </span><span style=\"background-color: hsl(0, 100.00%, 92.41%); opacity: 0.82\" title=\"-0.003\">s</span><span style=\"background-color: hsl(0, 100.00%, 96.86%); opacity: 0.81\" title=\"-0.001\">t</span><span style=\"background-color: hsl(120, 100.00%, 98.74%); opacity: 0.80\" title=\"0.000\">o</span><span style=\"background-color: hsl(120, 100.00%, 96.29%); opacity: 0.81\" title=\"0.001\">r</span><span style=\"background-color: hsl(120, 100.00%, 93.84%); opacity: 0.81\" title=\"0.002\">y</span><span style=\"background-color: hsl(0, 100.00%, 97.25%); opacity: 0.80\" title=\"-0.001\">.</span><span style=\"background-color: hsl(120, 100.00%, 93.15%); opacity: 0.82\" title=\"0.003\"> </span><span style=\"background-color: hsl(120, 100.00%, 86.94%); opacity: 0.84\" title=\"0.007\">i</span><span style=\"background-color: hsl(120, 100.00%, 96.31%); opacity: 0.81\" title=\"0.001\"> </span><span style=\"background-color: hsl(0, 100.00%, 90.43%); opacity: 0.83\" title=\"-0.004\">w</span><span style=\"background-color: hsl(0, 100.00%, 89.40%); opacity: 0.83\" title=\"-0.005\">a</span><span style=\"background-color: hsl(0, 100.00%, 84.75%); opacity: 0.85\" title=\"-0.008\">s</span><span style=\"background-color: hsl(0, 100.00%, 82.52%); opacity: 0.86\" title=\"-0.010\">n</span><span style=\"background-color: hsl(0, 100.00%, 82.14%); opacity: 0.86\" title=\"-0.010\">&#x27;</span><span style=\"background-color: hsl(0, 100.00%, 88.12%); opacity: 0.84\" title=\"-0.006\">t</span><span style=\"background-color: hsl(120, 100.00%, 95.33%); opacity: 0.81\" title=\"0.002\"> </span><span style=\"background-color: hsl(120, 100.00%, 82.35%); opacity: 0.86\" title=\"0.010\">s</span><span style=\"background-color: hsl(120, 100.00%, 72.84%); opacity: 0.92\" title=\"0.019\">u</span><span style=\"background-color: hsl(120, 100.00%, 62.24%); opacity: 0.98\" title=\"0.030\">r</span><span style=\"background-color: hsl(120, 100.00%, 60.00%); opacity: 1.00\" title=\"0.033\">p</span><span style=\"background-color: hsl(120, 100.00%, 68.72%); opacity: 0.94\" title=\"0.023\">r</span><span style=\"background-color: hsl(120, 100.00%, 78.01%); opacity: 0.89\" title=\"0.014\">i</span><span style=\"background-color: hsl(120, 100.00%, 90.78%); opacity: 0.82\" title=\"0.004\">s</span><span style=\"background-color: hsl(0, 100.00%, 95.19%); opacity: 0.81\" title=\"-0.002\">e</span><span style=\"background-color: hsl(0, 100.00%, 87.63%); opacity: 0.84\" title=\"-0.006\">d</span><span style=\"background-color: hsl(0, 100.00%, 87.92%); opacity: 0.84\" title=\"-0.006\"> </span><span style=\"background-color: hsl(0, 100.00%, 91.83%); opacity: 0.82\" title=\"-0.003\">t</span><span style=\"background-color: hsl(0, 100.00%, 89.95%); opacity: 0.83\" title=\"-0.005\">o</span><span style=\"background-color: hsl(0, 100.00%, 85.60%); opacity: 0.85\" title=\"-0.008\"> </span><span style=\"background-color: hsl(0, 100.00%, 85.71%); opacity: 0.85\" title=\"-0.008\">n</span><span style=\"background-color: hsl(0, 100.00%, 83.18%); opacity: 0.86\" title=\"-0.009\">o</span><span style=\"background-color: hsl(0, 100.00%, 86.63%); opacity: 0.84\" title=\"-0.007\">t</span><span style=\"background-color: hsl(0, 100.00%, 93.32%); opacity: 0.82\" title=\"-0.003\">e</span><span style=\"background-color: hsl(120, 100.00%, 98.78%); opacity: 0.80\" title=\"0.000\"> </span><span style=\"background-color: hsl(0, 100.00%, 97.81%); opacity: 0.80\" title=\"-0.001\">h</span><span style=\"background-color: hsl(0, 100.00%, 96.17%); opacity: 0.81\" title=\"-0.001\">e</span><span style=\"background-color: hsl(0, 100.00%, 90.65%); opacity: 0.83\" title=\"-0.004\">r</span><span style=\"background-color: hsl(0, 100.00%, 91.54%); opacity: 0.82\" title=\"-0.004\">e</span><span style=\"background-color: hsl(0, 100.00%, 99.41%); opacity: 0.80\" title=\"-0.000\"> </span><span style=\"background-color: hsl(0, 100.00%, 99.58%); opacity: 0.80\" title=\"-0.000\">t</span><span style=\"background-color: hsl(0, 100.00%, 97.87%); opacity: 0.80\" title=\"-0.000\">h</span><span style=\"background-color: hsl(120, 100.00%, 94.23%); opacity: 0.81\" title=\"0.002\">a</span><span style=\"background-color: hsl(120, 100.00%, 93.45%); opacity: 0.82\" title=\"0.002\">t</span><span style=\"background-color: hsl(120, 100.00%, 88.74%); opacity: 0.83\" title=\"0.005\"> </span><span style=\"background-color: hsl(120, 100.00%, 86.53%); opacity: 0.84\" title=\"0.007\">i</span><span style=\"background-color: hsl(120, 100.00%, 91.22%); opacity: 0.82\" title=\"0.004\">t</span><span style=\"background-color: hsl(120, 100.00%, 96.60%); opacity: 0.81\" title=\"0.001\">s</span><span style=\"background-color: hsl(0, 100.00%, 93.40%); opacity: 0.82\" title=\"-0.002\"> </span><span style=\"background-color: hsl(0, 100.00%, 86.01%); opacity: 0.84\" title=\"-0.007\">d</span><span style=\"background-color: hsl(0, 100.00%, 84.72%); opacity: 0.85\" title=\"-0.008\">i</span><span style=\"background-color: hsl(0, 100.00%, 83.48%); opacity: 0.86\" title=\"-0.009\">r</span><span style=\"background-color: hsl(0, 100.00%, 85.77%); opacity: 0.85\" title=\"-0.007\">e</span><span style=\"background-color: hsl(0, 100.00%, 88.92%); opacity: 0.83\" title=\"-0.005\">c</span><span style=\"background-color: hsl(0, 100.00%, 88.18%); opacity: 0.84\" title=\"-0.006\">t</span><span style=\"background-color: hsl(0, 100.00%, 83.66%); opacity: 0.86\" title=\"-0.009\">o</span><span style=\"background-color: hsl(0, 100.00%, 81.38%); opacity: 0.87\" title=\"-0.011\">r</span><span style=\"background-color: hsl(0, 100.00%, 87.85%); opacity: 0.84\" title=\"-0.006\"> </span><span style=\"background-color: hsl(0, 100.00%, 91.34%); opacity: 0.82\" title=\"-0.004\">i</span><span style=\"background-color: hsl(0, 100.00%, 95.95%); opacity: 0.81\" title=\"-0.001\">s</span><span style=\"background-color: hsl(120, 100.00%, 96.98%); opacity: 0.80\" title=\"0.001\"> </span><span style=\"background-color: hsl(120, 100.00%, 96.78%); opacity: 0.81\" title=\"0.001\">t</span><span style=\"background-color: hsl(120, 100.00%, 89.58%); opacity: 0.83\" title=\"0.005\">h</span><span style=\"background-color: hsl(120, 100.00%, 89.05%); opacity: 0.83\" title=\"0.005\">e</span><span style=\"background-color: hsl(0, 100.00%, 97.55%); opacity: 0.80\" title=\"-0.001\"> </span><span style=\"background-color: hsl(0, 100.00%, 86.12%); opacity: 0.84\" title=\"-0.007\">s</span><span style=\"background-color: hsl(0, 100.00%, 81.20%); opacity: 0.87\" title=\"-0.011\">a</span><span style=\"background-color: hsl(0, 100.00%, 88.61%); opacity: 0.83\" title=\"-0.005\">m</span><span style=\"background-color: hsl(0, 100.00%, 93.98%); opacity: 0.81\" title=\"-0.002\">e</span><span style=\"background-color: hsl(120, 100.00%, 93.82%); opacity: 0.81\" title=\"0.002\"> </span><span style=\"background-color: hsl(120, 100.00%, 93.79%); opacity: 0.81\" title=\"0.002\">i</span><span style=\"background-color: hsl(120, 100.00%, 93.46%); opacity: 0.82\" title=\"0.002\">n</span><span style=\"background-color: hsl(120, 100.00%, 92.06%); opacity: 0.82\" title=\"0.003\">d</span><span style=\"background-color: hsl(120, 100.00%, 94.08%); opacity: 0.81\" title=\"0.002\">i</span><span style=\"background-color: hsl(120, 100.00%, 92.65%); opacity: 0.82\" title=\"0.003\">v</span><span style=\"background-color: hsl(0, 100.00%, 97.29%); opacity: 0.80\" title=\"-0.001\">i</span><span style=\"background-color: hsl(0, 100.00%, 89.46%); opacity: 0.83\" title=\"-0.005\">d</span><span style=\"background-color: hsl(0, 100.00%, 90.29%); opacity: 0.83\" title=\"-0.004\">u</span><span style=\"background-color: hsl(0, 100.00%, 98.45%); opacity: 0.80\" title=\"-0.000\">a</span><span style=\"background-color: hsl(0, 100.00%, 95.94%); opacity: 0.81\" title=\"-0.001\">l</span><span style=\"background-color: hsl(0, 100.00%, 96.07%); opacity: 0.81\" title=\"-0.001\">,</span><span style=\"background-color: hsl(120, 100.00%, 99.24%); opacity: 0.80\" title=\"0.000\"> </span><span style=\"background-color: hsl(0, 100.00%, 96.27%); opacity: 0.81\" title=\"-0.001\">h</span><span style=\"background-color: hsl(0, 100.00%, 96.51%); opacity: 0.81\" title=\"-0.001\">u</span><span style=\"background-color: hsl(0, 100.00%, 98.27%); opacity: 0.80\" title=\"-0.000\">g</span><span style=\"background-color: hsl(120, 100.00%, 94.82%); opacity: 0.81\" title=\"0.002\">h</span><span style=\"background-color: hsl(120, 100.00%, 94.22%); opacity: 0.81\" title=\"0.002\"> </span><span style=\"background-color: hsl(120, 100.00%, 96.81%); opacity: 0.81\" title=\"0.001\">h</span><span style=\"background-color: hsl(0, 100.00%, 97.52%); opacity: 0.80\" title=\"-0.001\">u</span><span style=\"background-color: hsl(120, 100.00%, 96.24%); opacity: 0.81\" title=\"0.001\">d</span><span style=\"background-color: hsl(120, 100.00%, 90.38%); opacity: 0.83\" title=\"0.004\">s</span><span style=\"background-color: hsl(120, 100.00%, 92.75%); opacity: 0.82\" title=\"0.003\">o</span><span style=\"background-color: hsl(120, 100.00%, 92.17%); opacity: 0.82\" title=\"0.003\">n</span><span style=\"background-color: hsl(120, 100.00%, 90.34%); opacity: 0.83\" title=\"0.004\">,</span><span style=\"background-color: hsl(120, 100.00%, 93.46%); opacity: 0.82\" title=\"0.002\"> </span><span style=\"background-color: hsl(120, 100.00%, 94.78%); opacity: 0.81\" title=\"0.002\">w</span><span style=\"background-color: hsl(120, 100.00%, 89.12%); opacity: 0.83\" title=\"0.005\">h</span><span style=\"background-color: hsl(120, 100.00%, 89.66%); opacity: 0.83\" title=\"0.005\">o</span><span style=\"background-color: hsl(120, 100.00%, 86.44%); opacity: 0.84\" title=\"0.007\"> </span><span style=\"background-color: hsl(120, 100.00%, 79.03%); opacity: 0.88\" title=\"0.013\">a</span><span style=\"background-color: hsl(120, 100.00%, 77.26%); opacity: 0.89\" title=\"0.015\">l</span><span style=\"background-color: hsl(120, 100.00%, 78.26%); opacity: 0.88\" title=\"0.014\">s</span><span style=\"background-color: hsl(120, 100.00%, 83.95%); opacity: 0.85\" title=\"0.009\">o</span><span style=\"background-color: hsl(0, 100.00%, 98.33%); opacity: 0.80\" title=\"-0.000\"> </span><span style=\"background-color: hsl(0, 100.00%, 85.10%); opacity: 0.85\" title=\"-0.008\">d</span><span style=\"background-color: hsl(0, 100.00%, 84.85%); opacity: 0.85\" title=\"-0.008\">i</span><span style=\"background-color: hsl(0, 100.00%, 84.52%); opacity: 0.85\" title=\"-0.008\">r</span><span style=\"background-color: hsl(0, 100.00%, 89.64%); opacity: 0.83\" title=\"-0.005\">e</span><span style=\"background-color: hsl(0, 100.00%, 97.21%); opacity: 0.80\" title=\"-0.001\">c</span><span style=\"background-color: hsl(0, 100.00%, 92.97%); opacity: 0.82\" title=\"-0.003\">t</span><span style=\"background-color: hsl(0, 100.00%, 92.74%); opacity: 0.82\" title=\"-0.003\">e</span><span style=\"background-color: hsl(0, 100.00%, 95.45%); opacity: 0.81\" title=\"-0.001\">d</span><span style=\"background-color: hsl(0, 100.00%, 96.96%); opacity: 0.81\" title=\"-0.001\"> </span><span style=\"background-color: hsl(120, 100.00%, 96.50%); opacity: 0.81\" title=\"0.001\">c</span><span style=\"background-color: hsl(120, 100.00%, 97.39%); opacity: 0.80\" title=\"0.001\">h</span><span style=\"background-color: hsl(120, 100.00%, 89.33%); opacity: 0.83\" title=\"0.005\">a</span><span style=\"background-color: hsl(120, 100.00%, 88.81%); opacity: 0.83\" title=\"0.005\">r</span><span style=\"background-color: hsl(120, 100.00%, 92.23%); opacity: 0.82\" title=\"0.003\">i</span><span style=\"background-color: hsl(0, 100.00%, 93.12%); opacity: 0.82\" title=\"-0.003\">o</span><span style=\"background-color: hsl(0, 100.00%, 88.78%); opacity: 0.83\" title=\"-0.005\">t</span><span style=\"background-color: hsl(0, 100.00%, 93.08%); opacity: 0.82\" title=\"-0.003\">s</span><span style=\"background-color: hsl(0, 100.00%, 93.21%); opacity: 0.82\" title=\"-0.003\"> </span><span style=\"background-color: hsl(0, 100.00%, 93.32%); opacity: 0.82\" title=\"-0.003\">o</span><span style=\"background-color: hsl(0, 100.00%, 92.39%); opacity: 0.82\" title=\"-0.003\">f</span><span style=\"background-color: hsl(120, 100.00%, 97.24%); opacity: 0.80\" title=\"0.001\"> </span><span style=\"background-color: hsl(120, 100.00%, 92.18%); opacity: 0.82\" title=\"0.003\">f</span><span style=\"background-color: hsl(120, 100.00%, 95.14%); opacity: 0.81\" title=\"0.002\">i</span><span style=\"background-color: hsl(0, 100.00%, 95.17%); opacity: 0.81\" title=\"-0.002\">r</span><span style=\"background-color: hsl(0, 100.00%, 94.11%); opacity: 0.81\" title=\"-0.002\">e</span><span style=\"background-color: hsl(120, 100.00%, 92.78%); opacity: 0.82\" title=\"0.003\">,</span><span style=\"background-color: hsl(120, 100.00%, 93.35%); opacity: 0.82\" title=\"0.003\"> </span><span style=\"background-color: hsl(120, 100.00%, 94.45%); opacity: 0.81\" title=\"0.002\">a</span><span style=\"background-color: hsl(0, 100.00%, 88.40%); opacity: 0.83\" title=\"-0.006\">n</span><span style=\"background-color: hsl(0, 100.00%, 83.67%); opacity: 0.86\" title=\"-0.009\">o</span><span style=\"background-color: hsl(0, 100.00%, 86.82%); opacity: 0.84\" title=\"-0.007\">t</span><span style=\"background-color: hsl(0, 100.00%, 91.87%); opacity: 0.82\" title=\"-0.003\">h</span><span style=\"background-color: hsl(0, 100.00%, 98.54%); opacity: 0.80\" title=\"-0.000\">e</span><span style=\"background-color: hsl(0, 100.00%, 95.34%); opacity: 0.81\" title=\"-0.002\">r</span><span style=\"background-color: hsl(120, 100.00%, 91.17%); opacity: 0.82\" title=\"0.004\"> </span><span style=\"background-color: hsl(120, 100.00%, 75.60%); opacity: 0.90\" title=\"0.016\">b</span><span style=\"background-color: hsl(120, 100.00%, 64.92%); opacity: 0.97\" title=\"0.027\">r</span><span style=\"background-color: hsl(120, 100.00%, 65.40%); opacity: 0.96\" title=\"0.027\">i</span><span style=\"background-color: hsl(120, 100.00%, 60.52%); opacity: 1.00\" title=\"0.032\">l</span><span style=\"background-color: hsl(120, 100.00%, 61.29%); opacity: 0.99\" title=\"0.031\">l</span><span style=\"background-color: hsl(120, 100.00%, 67.61%); opacity: 0.95\" title=\"0.024\">i</span><span style=\"background-color: hsl(120, 100.00%, 73.30%); opacity: 0.91\" title=\"0.018\">a</span><span style=\"background-color: hsl(120, 100.00%, 80.97%); opacity: 0.87\" title=\"0.011\">n</span><span style=\"background-color: hsl(120, 100.00%, 87.78%); opacity: 0.84\" title=\"0.006\">t</span><span style=\"background-color: hsl(120, 100.00%, 98.35%); opacity: 0.80\" title=\"0.000\"> </span><span style=\"background-color: hsl(120, 100.00%, 95.66%); opacity: 0.81\" title=\"0.001\">m</span><span style=\"background-color: hsl(120, 100.00%, 94.21%); opacity: 0.81\" title=\"0.002\">o</span><span style=\"background-color: hsl(0, 100.00%, 98.13%); opacity: 0.80\" title=\"-0.000\">v</span><span style=\"background-color: hsl(0, 100.00%, 94.00%); opacity: 0.81\" title=\"-0.002\">i</span><span style=\"background-color: hsl(0, 100.00%, 93.65%); opacity: 0.81\" title=\"-0.002\">e</span><span style=\"background-color: hsl(0, 100.00%, 95.46%); opacity: 0.81\" title=\"-0.001\">.</span>\n",
              "    </p>\n",
              "\n",
              "\n",
              "    \n",
              "\n",
              "    \n",
              "\n",
              "    \n",
              "\n",
              "    \n",
              "\n",
              "\n",
              "    \n",
              "\n",
              "    \n",
              "\n",
              "    \n",
              "\n",
              "    \n",
              "\n",
              "    \n",
              "\n",
              "    \n",
              "\n",
              "\n",
              "    \n",
              "\n",
              "    \n",
              "\n",
              "    \n",
              "\n",
              "    \n",
              "\n",
              "    \n",
              "\n",
              "    \n",
              "\n",
              "\n",
              "\n"
            ]
          },
          "metadata": {},
          "execution_count": 380
        }
      ]
    },
    {
      "cell_type": "markdown",
      "metadata": {
        "id": "9fZ6I8mN0VPU"
      },
      "source": [
        "## Подключаем лингвистику"
      ]
    },
    {
      "cell_type": "markdown",
      "metadata": {
        "id": "YkywIvbp4N-L"
      },
      "source": [
        "### Лемматизация и стемминг\n",
        "\n",
        "Если присмотреться, можно найти формы одного слова с разной семантической окраской по мнению классификатора. Или нет?\n",
        "\n",
        "**Задание** Найти формы слова с разной семантической окраской.\n",
        "\n",
        "Поверя, что они есть, попробуем что-нибудь с этим сделать.\n",
        "\n",
        "Например, лемматизируем - сведем к начальной форме все слова. Поможет в этом библиотека spacy."
      ]
    },
    {
      "cell_type": "code",
      "source": [
        "from sklearn.feature_extraction.text import TfidfVectorizer\n",
        "\n",
        "vectorizer= TfidfVectorizer()\n",
        "classifier = LogisticRegression()\n",
        "\n",
        "model = Pipeline([\n",
        "    ('vectorizer', vectorizer),\n",
        "    ('classifier', classifier)\n",
        "])\n",
        "\n",
        "model.fit(train_df['review'], train_df['is_positive'])\n",
        "\n",
        "eval_model(model, test_df)"
      ],
      "metadata": {
        "colab": {
          "base_uri": "https://localhost:8080/"
        },
        "id": "5nlTsLKyZ3X2",
        "outputId": "e4eaf407-043c-4517-86fa-0333db6ed372"
      },
      "execution_count": null,
      "outputs": [
        {
          "output_type": "stream",
          "name": "stdout",
          "text": [
            "Test accuracy = 88.32%\n"
          ]
        }
      ]
    },
    {
      "cell_type": "code",
      "source": [
        "import eli5\n",
        "eli5.show_weights(classifier, vec=vectorizer, top=40)"
      ],
      "metadata": {
        "colab": {
          "base_uri": "https://localhost:8080/",
          "height": 875
        },
        "id": "bOygMPt4ady_",
        "outputId": "48de6905-145c-4e5e-b232-e85d9c7de895"
      },
      "execution_count": null,
      "outputs": [
        {
          "output_type": "stream",
          "name": "stderr",
          "text": [
            "/usr/local/lib/python3.7/dist-packages/sklearn/utils/deprecation.py:87: FutureWarning: Function get_feature_names is deprecated; get_feature_names is deprecated in 1.0 and will be removed in 1.2. Please use get_feature_names_out instead.\n",
            "  warnings.warn(msg, category=FutureWarning)\n"
          ]
        },
        {
          "output_type": "execute_result",
          "data": {
            "text/plain": [
              "<IPython.core.display.HTML object>"
            ],
            "text/html": [
              "\n",
              "    <style>\n",
              "    table.eli5-weights tr:hover {\n",
              "        filter: brightness(85%);\n",
              "    }\n",
              "</style>\n",
              "\n",
              "\n",
              "\n",
              "    \n",
              "\n",
              "    \n",
              "\n",
              "    \n",
              "\n",
              "    \n",
              "\n",
              "    \n",
              "\n",
              "    \n",
              "\n",
              "\n",
              "    \n",
              "\n",
              "    \n",
              "\n",
              "    \n",
              "\n",
              "    \n",
              "        \n",
              "\n",
              "    \n",
              "\n",
              "        \n",
              "            \n",
              "                \n",
              "                \n",
              "    \n",
              "        <p style=\"margin-bottom: 0.5em; margin-top: 0em\">\n",
              "            <b>\n",
              "    \n",
              "        y=1\n",
              "    \n",
              "</b>\n",
              "\n",
              "top features\n",
              "        </p>\n",
              "    \n",
              "    <table class=\"eli5-weights\"\n",
              "           style=\"border-collapse: collapse; border: none; margin-top: 0em; table-layout: auto; margin-bottom: 2em;\">\n",
              "        <thead>\n",
              "        <tr style=\"border: none;\">\n",
              "            \n",
              "                <th style=\"padding: 0 1em 0 0.5em; text-align: right; border: none;\" title=\"Feature weights. Note that weights do not account for feature value scales, so if feature values have different scales, features with highest weights might not be the most important.\">\n",
              "                    Weight<sup>?</sup>\n",
              "                </th>\n",
              "            \n",
              "            <th style=\"padding: 0 0.5em 0 0.5em; text-align: left; border: none;\">Feature</th>\n",
              "            \n",
              "        </tr>\n",
              "        </thead>\n",
              "        <tbody>\n",
              "        \n",
              "            <tr style=\"background-color: hsl(120, 100.00%, 82.56%); border: none;\">\n",
              "    <td style=\"padding: 0 1em 0 0.5em; text-align: right; border: none;\">\n",
              "        +7.598\n",
              "    </td>\n",
              "    <td style=\"padding: 0 0.5em 0 0.5em; text-align: left; border: none;\">\n",
              "        great\n",
              "    </td>\n",
              "    \n",
              "</tr>\n",
              "        \n",
              "            <tr style=\"background-color: hsl(120, 100.00%, 84.90%); border: none;\">\n",
              "    <td style=\"padding: 0 1em 0 0.5em; text-align: right; border: none;\">\n",
              "        +6.185\n",
              "    </td>\n",
              "    <td style=\"padding: 0 0.5em 0 0.5em; text-align: left; border: none;\">\n",
              "        excellent\n",
              "    </td>\n",
              "    \n",
              "</tr>\n",
              "        \n",
              "            <tr style=\"background-color: hsl(120, 100.00%, 86.76%); border: none;\">\n",
              "    <td style=\"padding: 0 1em 0 0.5em; text-align: right; border: none;\">\n",
              "        +5.128\n",
              "    </td>\n",
              "    <td style=\"padding: 0 0.5em 0 0.5em; text-align: left; border: none;\">\n",
              "        best\n",
              "    </td>\n",
              "    \n",
              "</tr>\n",
              "        \n",
              "            <tr style=\"background-color: hsl(120, 100.00%, 87.32%); border: none;\">\n",
              "    <td style=\"padding: 0 1em 0 0.5em; text-align: right; border: none;\">\n",
              "        +4.819\n",
              "    </td>\n",
              "    <td style=\"padding: 0 0.5em 0 0.5em; text-align: left; border: none;\">\n",
              "        perfect\n",
              "    </td>\n",
              "    \n",
              "</tr>\n",
              "        \n",
              "            <tr style=\"background-color: hsl(120, 100.00%, 87.59%); border: none;\">\n",
              "    <td style=\"padding: 0 1em 0 0.5em; text-align: right; border: none;\">\n",
              "        +4.676\n",
              "    </td>\n",
              "    <td style=\"padding: 0 0.5em 0 0.5em; text-align: left; border: none;\">\n",
              "        wonderful\n",
              "    </td>\n",
              "    \n",
              "</tr>\n",
              "        \n",
              "            <tr style=\"background-color: hsl(120, 100.00%, 88.55%); border: none;\">\n",
              "    <td style=\"padding: 0 1em 0 0.5em; text-align: right; border: none;\">\n",
              "        +4.165\n",
              "    </td>\n",
              "    <td style=\"padding: 0 0.5em 0 0.5em; text-align: left; border: none;\">\n",
              "        amazing\n",
              "    </td>\n",
              "    \n",
              "</tr>\n",
              "        \n",
              "            <tr style=\"background-color: hsl(120, 100.00%, 88.75%); border: none;\">\n",
              "    <td style=\"padding: 0 1em 0 0.5em; text-align: right; border: none;\">\n",
              "        +4.062\n",
              "    </td>\n",
              "    <td style=\"padding: 0 0.5em 0 0.5em; text-align: left; border: none;\">\n",
              "        well\n",
              "    </td>\n",
              "    \n",
              "</tr>\n",
              "        \n",
              "            <tr style=\"background-color: hsl(120, 100.00%, 89.19%); border: none;\">\n",
              "    <td style=\"padding: 0 1em 0 0.5em; text-align: right; border: none;\">\n",
              "        +3.835\n",
              "    </td>\n",
              "    <td style=\"padding: 0 0.5em 0 0.5em; text-align: left; border: none;\">\n",
              "        loved\n",
              "    </td>\n",
              "    \n",
              "</tr>\n",
              "        \n",
              "            <tr style=\"background-color: hsl(120, 100.00%, 89.25%); border: none;\">\n",
              "    <td style=\"padding: 0 1em 0 0.5em; text-align: right; border: none;\">\n",
              "        +3.806\n",
              "    </td>\n",
              "    <td style=\"padding: 0 0.5em 0 0.5em; text-align: left; border: none;\">\n",
              "        fun\n",
              "    </td>\n",
              "    \n",
              "</tr>\n",
              "        \n",
              "            <tr style=\"background-color: hsl(120, 100.00%, 89.30%); border: none;\">\n",
              "    <td style=\"padding: 0 1em 0 0.5em; text-align: right; border: none;\">\n",
              "        +3.783\n",
              "    </td>\n",
              "    <td style=\"padding: 0 0.5em 0 0.5em; text-align: left; border: none;\">\n",
              "        today\n",
              "    </td>\n",
              "    \n",
              "</tr>\n",
              "        \n",
              "            <tr style=\"background-color: hsl(120, 100.00%, 89.30%); border: none;\">\n",
              "    <td style=\"padding: 0 1em 0 0.5em; text-align: right; border: none;\">\n",
              "        +3.782\n",
              "    </td>\n",
              "    <td style=\"padding: 0 0.5em 0 0.5em; text-align: left; border: none;\">\n",
              "        love\n",
              "    </td>\n",
              "    \n",
              "</tr>\n",
              "        \n",
              "            <tr style=\"background-color: hsl(120, 100.00%, 89.38%); border: none;\">\n",
              "    <td style=\"padding: 0 1em 0 0.5em; text-align: right; border: none;\">\n",
              "        +3.744\n",
              "    </td>\n",
              "    <td style=\"padding: 0 0.5em 0 0.5em; text-align: left; border: none;\">\n",
              "        favorite\n",
              "    </td>\n",
              "    \n",
              "</tr>\n",
              "        \n",
              "            <tr style=\"background-color: hsl(120, 100.00%, 89.84%); border: none;\">\n",
              "    <td style=\"padding: 0 1em 0 0.5em; text-align: right; border: none;\">\n",
              "        +3.513\n",
              "    </td>\n",
              "    <td style=\"padding: 0 0.5em 0 0.5em; text-align: left; border: none;\">\n",
              "        enjoyed\n",
              "    </td>\n",
              "    \n",
              "</tr>\n",
              "        \n",
              "        \n",
              "            <tr style=\"background-color: hsl(120, 100.00%, 89.84%); border: none;\">\n",
              "                <td colspan=\"2\" style=\"padding: 0 0.5em 0 0.5em; text-align: center; border: none; white-space: nowrap;\">\n",
              "                    <i>&hellip; 37485 more positive &hellip;</i>\n",
              "                </td>\n",
              "            </tr>\n",
              "        \n",
              "\n",
              "        \n",
              "            <tr style=\"background-color: hsl(0, 100.00%, 90.02%); border: none;\">\n",
              "                <td colspan=\"2\" style=\"padding: 0 0.5em 0 0.5em; text-align: center; border: none; white-space: nowrap;\">\n",
              "                    <i>&hellip; 37325 more negative &hellip;</i>\n",
              "                </td>\n",
              "            </tr>\n",
              "        \n",
              "        \n",
              "            <tr style=\"background-color: hsl(0, 100.00%, 90.02%); border: none;\">\n",
              "    <td style=\"padding: 0 1em 0 0.5em; text-align: right; border: none;\">\n",
              "        -3.424\n",
              "    </td>\n",
              "    <td style=\"padding: 0 0.5em 0 0.5em; text-align: left; border: none;\">\n",
              "        supposed\n",
              "    </td>\n",
              "    \n",
              "</tr>\n",
              "        \n",
              "            <tr style=\"background-color: hsl(0, 100.00%, 90.01%); border: none;\">\n",
              "    <td style=\"padding: 0 1em 0 0.5em; text-align: right; border: none;\">\n",
              "        -3.429\n",
              "    </td>\n",
              "    <td style=\"padding: 0 0.5em 0 0.5em; text-align: left; border: none;\">\n",
              "        lame\n",
              "    </td>\n",
              "    \n",
              "</tr>\n",
              "        \n",
              "            <tr style=\"background-color: hsl(0, 100.00%, 89.95%); border: none;\">\n",
              "    <td style=\"padding: 0 1em 0 0.5em; text-align: right; border: none;\">\n",
              "        -3.459\n",
              "    </td>\n",
              "    <td style=\"padding: 0 0.5em 0 0.5em; text-align: left; border: none;\">\n",
              "        disappointing\n",
              "    </td>\n",
              "    \n",
              "</tr>\n",
              "        \n",
              "            <tr style=\"background-color: hsl(0, 100.00%, 89.89%); border: none;\">\n",
              "    <td style=\"padding: 0 1em 0 0.5em; text-align: right; border: none;\">\n",
              "        -3.490\n",
              "    </td>\n",
              "    <td style=\"padding: 0 0.5em 0 0.5em; text-align: left; border: none;\">\n",
              "        disappointment\n",
              "    </td>\n",
              "    \n",
              "</tr>\n",
              "        \n",
              "            <tr style=\"background-color: hsl(0, 100.00%, 89.87%); border: none;\">\n",
              "    <td style=\"padding: 0 1em 0 0.5em; text-align: right; border: none;\">\n",
              "        -3.496\n",
              "    </td>\n",
              "    <td style=\"padding: 0 0.5em 0 0.5em; text-align: left; border: none;\">\n",
              "        mess\n",
              "    </td>\n",
              "    \n",
              "</tr>\n",
              "        \n",
              "            <tr style=\"background-color: hsl(0, 100.00%, 89.85%); border: none;\">\n",
              "    <td style=\"padding: 0 1em 0 0.5em; text-align: right; border: none;\">\n",
              "        -3.506\n",
              "    </td>\n",
              "    <td style=\"padding: 0 0.5em 0 0.5em; text-align: left; border: none;\">\n",
              "        even\n",
              "    </td>\n",
              "    \n",
              "</tr>\n",
              "        \n",
              "            <tr style=\"background-color: hsl(0, 100.00%, 89.83%); border: none;\">\n",
              "    <td style=\"padding: 0 1em 0 0.5em; text-align: right; border: none;\">\n",
              "        -3.515\n",
              "    </td>\n",
              "    <td style=\"padding: 0 0.5em 0 0.5em; text-align: left; border: none;\">\n",
              "        fails\n",
              "    </td>\n",
              "    \n",
              "</tr>\n",
              "        \n",
              "            <tr style=\"background-color: hsl(0, 100.00%, 89.81%); border: none;\">\n",
              "    <td style=\"padding: 0 1em 0 0.5em; text-align: right; border: none;\">\n",
              "        -3.526\n",
              "    </td>\n",
              "    <td style=\"padding: 0 0.5em 0 0.5em; text-align: left; border: none;\">\n",
              "        instead\n",
              "    </td>\n",
              "    \n",
              "</tr>\n",
              "        \n",
              "            <tr style=\"background-color: hsl(0, 100.00%, 89.66%); border: none;\">\n",
              "    <td style=\"padding: 0 1em 0 0.5em; text-align: right; border: none;\">\n",
              "        -3.600\n",
              "    </td>\n",
              "    <td style=\"padding: 0 0.5em 0 0.5em; text-align: left; border: none;\">\n",
              "        minutes\n",
              "    </td>\n",
              "    \n",
              "</tr>\n",
              "        \n",
              "            <tr style=\"background-color: hsl(0, 100.00%, 89.53%); border: none;\">\n",
              "    <td style=\"padding: 0 1em 0 0.5em; text-align: right; border: none;\">\n",
              "        -3.668\n",
              "    </td>\n",
              "    <td style=\"padding: 0 0.5em 0 0.5em; text-align: left; border: none;\">\n",
              "        ridiculous\n",
              "    </td>\n",
              "    \n",
              "</tr>\n",
              "        \n",
              "            <tr style=\"background-color: hsl(0, 100.00%, 89.23%); border: none;\">\n",
              "    <td style=\"padding: 0 1em 0 0.5em; text-align: right; border: none;\">\n",
              "        -3.819\n",
              "    </td>\n",
              "    <td style=\"padding: 0 0.5em 0 0.5em; text-align: left; border: none;\">\n",
              "        stupid\n",
              "    </td>\n",
              "    \n",
              "</tr>\n",
              "        \n",
              "            <tr style=\"background-color: hsl(0, 100.00%, 89.21%); border: none;\">\n",
              "    <td style=\"padding: 0 1em 0 0.5em; text-align: right; border: none;\">\n",
              "        -3.828\n",
              "    </td>\n",
              "    <td style=\"padding: 0 0.5em 0 0.5em; text-align: left; border: none;\">\n",
              "        annoying\n",
              "    </td>\n",
              "    \n",
              "</tr>\n",
              "        \n",
              "            <tr style=\"background-color: hsl(0, 100.00%, 89.12%); border: none;\">\n",
              "    <td style=\"padding: 0 1em 0 0.5em; text-align: right; border: none;\">\n",
              "        -3.872\n",
              "    </td>\n",
              "    <td style=\"padding: 0 0.5em 0 0.5em; text-align: left; border: none;\">\n",
              "        script\n",
              "    </td>\n",
              "    \n",
              "</tr>\n",
              "        \n",
              "            <tr style=\"background-color: hsl(0, 100.00%, 88.90%); border: none;\">\n",
              "    <td style=\"padding: 0 1em 0 0.5em; text-align: right; border: none;\">\n",
              "        -3.984\n",
              "    </td>\n",
              "    <td style=\"padding: 0 0.5em 0 0.5em; text-align: left; border: none;\">\n",
              "        unfortunately\n",
              "    </td>\n",
              "    \n",
              "</tr>\n",
              "        \n",
              "            <tr style=\"background-color: hsl(0, 100.00%, 88.57%); border: none;\">\n",
              "    <td style=\"padding: 0 1em 0 0.5em; text-align: right; border: none;\">\n",
              "        -4.155\n",
              "    </td>\n",
              "    <td style=\"padding: 0 0.5em 0 0.5em; text-align: left; border: none;\">\n",
              "        dull\n",
              "    </td>\n",
              "    \n",
              "</tr>\n",
              "        \n",
              "            <tr style=\"background-color: hsl(0, 100.00%, 88.55%); border: none;\">\n",
              "    <td style=\"padding: 0 1em 0 0.5em; text-align: right; border: none;\">\n",
              "        -4.167\n",
              "    </td>\n",
              "    <td style=\"padding: 0 0.5em 0 0.5em; text-align: left; border: none;\">\n",
              "        poorly\n",
              "    </td>\n",
              "    \n",
              "</tr>\n",
              "        \n",
              "            <tr style=\"background-color: hsl(0, 100.00%, 88.47%); border: none;\">\n",
              "    <td style=\"padding: 0 1em 0 0.5em; text-align: right; border: none;\">\n",
              "        -4.209\n",
              "    </td>\n",
              "    <td style=\"padding: 0 0.5em 0 0.5em; text-align: left; border: none;\">\n",
              "        horrible\n",
              "    </td>\n",
              "    \n",
              "</tr>\n",
              "        \n",
              "            <tr style=\"background-color: hsl(0, 100.00%, 88.11%); border: none;\">\n",
              "    <td style=\"padding: 0 1em 0 0.5em; text-align: right; border: none;\">\n",
              "        -4.395\n",
              "    </td>\n",
              "    <td style=\"padding: 0 0.5em 0 0.5em; text-align: left; border: none;\">\n",
              "        no\n",
              "    </td>\n",
              "    \n",
              "</tr>\n",
              "        \n",
              "            <tr style=\"background-color: hsl(0, 100.00%, 87.77%); border: none;\">\n",
              "    <td style=\"padding: 0 1em 0 0.5em; text-align: right; border: none;\">\n",
              "        -4.577\n",
              "    </td>\n",
              "    <td style=\"padding: 0 0.5em 0 0.5em; text-align: left; border: none;\">\n",
              "        worse\n",
              "    </td>\n",
              "    \n",
              "</tr>\n",
              "        \n",
              "            <tr style=\"background-color: hsl(0, 100.00%, 87.43%); border: none;\">\n",
              "    <td style=\"padding: 0 1em 0 0.5em; text-align: right; border: none;\">\n",
              "        -4.762\n",
              "    </td>\n",
              "    <td style=\"padding: 0 0.5em 0 0.5em; text-align: left; border: none;\">\n",
              "        nothing\n",
              "    </td>\n",
              "    \n",
              "</tr>\n",
              "        \n",
              "            <tr style=\"background-color: hsl(0, 100.00%, 87.27%); border: none;\">\n",
              "    <td style=\"padding: 0 1em 0 0.5em; text-align: right; border: none;\">\n",
              "        -4.849\n",
              "    </td>\n",
              "    <td style=\"padding: 0 0.5em 0 0.5em; text-align: left; border: none;\">\n",
              "        terrible\n",
              "    </td>\n",
              "    \n",
              "</tr>\n",
              "        \n",
              "            <tr style=\"background-color: hsl(0, 100.00%, 86.18%); border: none;\">\n",
              "    <td style=\"padding: 0 1em 0 0.5em; text-align: right; border: none;\">\n",
              "        -5.448\n",
              "    </td>\n",
              "    <td style=\"padding: 0 0.5em 0 0.5em; text-align: left; border: none;\">\n",
              "        poor\n",
              "    </td>\n",
              "    \n",
              "</tr>\n",
              "        \n",
              "            <tr style=\"background-color: hsl(0, 100.00%, 85.19%); border: none;\">\n",
              "    <td style=\"padding: 0 1em 0 0.5em; text-align: right; border: none;\">\n",
              "        -6.020\n",
              "    </td>\n",
              "    <td style=\"padding: 0 0.5em 0 0.5em; text-align: left; border: none;\">\n",
              "        boring\n",
              "    </td>\n",
              "    \n",
              "</tr>\n",
              "        \n",
              "            <tr style=\"background-color: hsl(0, 100.00%, 84.74%); border: none;\">\n",
              "    <td style=\"padding: 0 1em 0 0.5em; text-align: right; border: none;\">\n",
              "        -6.278\n",
              "    </td>\n",
              "    <td style=\"padding: 0 0.5em 0 0.5em; text-align: left; border: none;\">\n",
              "        waste\n",
              "    </td>\n",
              "    \n",
              "</tr>\n",
              "        \n",
              "            <tr style=\"background-color: hsl(0, 100.00%, 84.38%); border: none;\">\n",
              "    <td style=\"padding: 0 1em 0 0.5em; text-align: right; border: none;\">\n",
              "        -6.493\n",
              "    </td>\n",
              "    <td style=\"padding: 0 0.5em 0 0.5em; text-align: left; border: none;\">\n",
              "        awful\n",
              "    </td>\n",
              "    \n",
              "</tr>\n",
              "        \n",
              "            <tr style=\"background-color: hsl(0, 100.00%, 81.99%); border: none;\">\n",
              "    <td style=\"padding: 0 1em 0 0.5em; text-align: right; border: none;\">\n",
              "        -7.956\n",
              "    </td>\n",
              "    <td style=\"padding: 0 0.5em 0 0.5em; text-align: left; border: none;\">\n",
              "        bad\n",
              "    </td>\n",
              "    \n",
              "</tr>\n",
              "        \n",
              "            <tr style=\"background-color: hsl(0, 100.00%, 80.00%); border: none;\">\n",
              "    <td style=\"padding: 0 1em 0 0.5em; text-align: right; border: none;\">\n",
              "        -9.242\n",
              "    </td>\n",
              "    <td style=\"padding: 0 0.5em 0 0.5em; text-align: left; border: none;\">\n",
              "        worst\n",
              "    </td>\n",
              "    \n",
              "</tr>\n",
              "        \n",
              "\n",
              "        </tbody>\n",
              "    </table>\n",
              "\n",
              "            \n",
              "        \n",
              "\n",
              "        \n",
              "\n",
              "\n",
              "\n",
              "    \n",
              "\n",
              "    \n",
              "\n",
              "    \n",
              "\n",
              "    \n",
              "\n",
              "\n",
              "    \n",
              "\n",
              "    \n",
              "\n",
              "    \n",
              "\n",
              "    \n",
              "\n",
              "    \n",
              "\n",
              "    \n",
              "\n",
              "\n",
              "    \n",
              "\n",
              "    \n",
              "\n",
              "    \n",
              "\n",
              "    \n",
              "\n",
              "    \n",
              "\n",
              "    \n",
              "\n",
              "\n",
              "\n"
            ]
          },
          "metadata": {},
          "execution_count": 14
        }
      ]
    },
    {
      "cell_type": "markdown",
      "source": [
        "Например:"
      ],
      "metadata": {
        "id": "vMUU7Y-bTaJY"
      }
    },
    {
      "cell_type": "code",
      "source": [
        "classifier.coef_[0][vectorizer.vocabulary_['cinema']]"
      ],
      "metadata": {
        "colab": {
          "base_uri": "https://localhost:8080/"
        },
        "id": "lCmjYGeNUREu",
        "outputId": "1e39932b-1ac9-45c8-ca3a-b56e8d082bdf"
      },
      "execution_count": null,
      "outputs": [
        {
          "output_type": "execute_result",
          "data": {
            "text/plain": [
              "0.7730359140093254"
            ]
          },
          "metadata": {},
          "execution_count": 33
        }
      ]
    },
    {
      "cell_type": "code",
      "source": [
        "classifier.coef_[0][vectorizer.vocabulary_['cinemas']]"
      ],
      "metadata": {
        "colab": {
          "base_uri": "https://localhost:8080/"
        },
        "id": "1-qhUM8xUmzF",
        "outputId": "8e49834d-943c-4207-b813-e66a64e9abb6"
      },
      "execution_count": null,
      "outputs": [
        {
          "output_type": "execute_result",
          "data": {
            "text/plain": [
              "-0.24204999728197513"
            ]
          },
          "metadata": {},
          "execution_count": 34
        }
      ]
    },
    {
      "cell_type": "markdown",
      "source": [
        "Видно, что слово одно и тоже, только второе во множественном числе, а влияние они оказывают противоположное."
      ],
      "metadata": {
        "id": "-jE4yi1nUvnE"
      }
    },
    {
      "cell_type": "code",
      "metadata": {
        "id": "S5CTTdtxI5yv"
      },
      "source": [
        "import spacy\n",
        "import en_core_web_sm\n",
        "from spacy import displacy\n",
        "\n",
        "nlp = spacy.load('en_core_web_sm', disable=['parser'])\n",
        "\n",
        "docs = [doc for doc in nlp.pipe(train_df.review.values[:50])]"
      ],
      "execution_count": null,
      "outputs": []
    },
    {
      "cell_type": "code",
      "metadata": {
        "id": "bXs8Ia_bqeS0",
        "colab": {
          "base_uri": "https://localhost:8080/"
        },
        "outputId": "c3c256db-9968-4270-e979-8cf0fc20feaa"
      },
      "source": [
        "for token in docs[0][:10]:\n",
        "    print(token.text, token.lemma_, token.ent_iob_, token.ent_type_)"
      ],
      "execution_count": null,
      "outputs": [
        {
          "output_type": "stream",
          "name": "stdout",
          "text": [
            "Dreamgirls Dreamgirls O \n",
            ", , O \n",
            "despite despite O \n",
            "its its O \n",
            "fistful fistful O \n",
            "of of O \n",
            "Tony Tony B PERSON\n",
            "wins win O \n",
            "in in O \n",
            "an an B DATE\n"
          ]
        }
      ]
    },
    {
      "cell_type": "markdown",
      "metadata": {
        "id": "2Pfup3O5r30m"
      },
      "source": [
        "**Задание** Сделайте классификатор на лемматизированных текстах.\n",
        "\n",
        "Более простой способ нормализации слов - использовать стемминг. Он немного тупой, не учитывает контекст, но иногда оказывается даже эффективнее лемматизации - а, главное, быстрее.\n",
        "\n",
        "По сути это просто набор правил, как обрезать слово, чтобы получить основу (stem):"
      ]
    },
    {
      "cell_type": "code",
      "source": [
        "%%time\n",
        "\n",
        "nlp = spacy.load('en_core_web_sm', disable=['parser', 'ner'])\n",
        "\n",
        "train_df['lemma'] = [' '.join([token.lemma_ for token in text]) for text in nlp.pipe(train_df['review'])]\n",
        "test_df['lemma'] = [' '.join([token.lemma_ for token in text]) for text in nlp.pipe(test_df['review'])]\n",
        "train_df.head()"
      ],
      "metadata": {
        "colab": {
          "base_uri": "https://localhost:8080/",
          "height": 243
        },
        "id": "B0ASn9ykVIC3",
        "outputId": "195b3b4b-1d9f-4703-c93f-31615269ebce"
      },
      "execution_count": null,
      "outputs": [
        {
          "output_type": "stream",
          "name": "stdout",
          "text": [
            "CPU times: user 10min 36s, sys: 3.77 s, total: 10min 40s\n",
            "Wall time: 10min 49s\n"
          ]
        },
        {
          "output_type": "execute_result",
          "data": {
            "text/plain": [
              "   is_positive                                             review  \\\n",
              "0            0  Dreamgirls, despite its fistful of Tony wins i...   \n",
              "1            0  This show comes up with interesting locations ...   \n",
              "2            1  I simply love this movie. I also love the Ramo...   \n",
              "3            0  Spoilers ahead if you want to call them that.....   \n",
              "4            1  My all-time favorite movie! I have seen many m...   \n",
              "\n",
              "                                               lemma  \\\n",
              "0  Dreamgirls , despite its fistful of Tony win i...   \n",
              "1  this show come up with interesting location as...   \n",
              "2  I simply love this movie . I also love the Ram...   \n",
              "3  spoiler ahead if you want to call they that .....   \n",
              "4  my all - time favorite movie ! I have see many...   \n",
              "\n",
              "                                               stemm  \n",
              "0  dreamgirl , despit it fist of toni win in an i...  \n",
              "1  thi show come up with interest locat as fast a...  \n",
              "2  i simpli love thi movi . i also love the ramon...  \n",
              "3  spoiler ahead if you want to call them that .....  \n",
              "4  my all-tim favorit movi ! i have seen mani mov...  "
            ],
            "text/html": [
              "\n",
              "  <div id=\"df-0926abc6-4179-4c2b-9975-7cda3dfea3e7\">\n",
              "    <div class=\"colab-df-container\">\n",
              "      <div>\n",
              "<style scoped>\n",
              "    .dataframe tbody tr th:only-of-type {\n",
              "        vertical-align: middle;\n",
              "    }\n",
              "\n",
              "    .dataframe tbody tr th {\n",
              "        vertical-align: top;\n",
              "    }\n",
              "\n",
              "    .dataframe thead th {\n",
              "        text-align: right;\n",
              "    }\n",
              "</style>\n",
              "<table border=\"1\" class=\"dataframe\">\n",
              "  <thead>\n",
              "    <tr style=\"text-align: right;\">\n",
              "      <th></th>\n",
              "      <th>is_positive</th>\n",
              "      <th>review</th>\n",
              "      <th>lemma</th>\n",
              "      <th>stemm</th>\n",
              "    </tr>\n",
              "  </thead>\n",
              "  <tbody>\n",
              "    <tr>\n",
              "      <th>0</th>\n",
              "      <td>0</td>\n",
              "      <td>Dreamgirls, despite its fistful of Tony wins i...</td>\n",
              "      <td>Dreamgirls , despite its fistful of Tony win i...</td>\n",
              "      <td>dreamgirl , despit it fist of toni win in an i...</td>\n",
              "    </tr>\n",
              "    <tr>\n",
              "      <th>1</th>\n",
              "      <td>0</td>\n",
              "      <td>This show comes up with interesting locations ...</td>\n",
              "      <td>this show come up with interesting location as...</td>\n",
              "      <td>thi show come up with interest locat as fast a...</td>\n",
              "    </tr>\n",
              "    <tr>\n",
              "      <th>2</th>\n",
              "      <td>1</td>\n",
              "      <td>I simply love this movie. I also love the Ramo...</td>\n",
              "      <td>I simply love this movie . I also love the Ram...</td>\n",
              "      <td>i simpli love thi movi . i also love the ramon...</td>\n",
              "    </tr>\n",
              "    <tr>\n",
              "      <th>3</th>\n",
              "      <td>0</td>\n",
              "      <td>Spoilers ahead if you want to call them that.....</td>\n",
              "      <td>spoiler ahead if you want to call they that .....</td>\n",
              "      <td>spoiler ahead if you want to call them that .....</td>\n",
              "    </tr>\n",
              "    <tr>\n",
              "      <th>4</th>\n",
              "      <td>1</td>\n",
              "      <td>My all-time favorite movie! I have seen many m...</td>\n",
              "      <td>my all - time favorite movie ! I have see many...</td>\n",
              "      <td>my all-tim favorit movi ! i have seen mani mov...</td>\n",
              "    </tr>\n",
              "  </tbody>\n",
              "</table>\n",
              "</div>\n",
              "      <button class=\"colab-df-convert\" onclick=\"convertToInteractive('df-0926abc6-4179-4c2b-9975-7cda3dfea3e7')\"\n",
              "              title=\"Convert this dataframe to an interactive table.\"\n",
              "              style=\"display:none;\">\n",
              "        \n",
              "  <svg xmlns=\"http://www.w3.org/2000/svg\" height=\"24px\"viewBox=\"0 0 24 24\"\n",
              "       width=\"24px\">\n",
              "    <path d=\"M0 0h24v24H0V0z\" fill=\"none\"/>\n",
              "    <path d=\"M18.56 5.44l.94 2.06.94-2.06 2.06-.94-2.06-.94-.94-2.06-.94 2.06-2.06.94zm-11 1L8.5 8.5l.94-2.06 2.06-.94-2.06-.94L8.5 2.5l-.94 2.06-2.06.94zm10 10l.94 2.06.94-2.06 2.06-.94-2.06-.94-.94-2.06-.94 2.06-2.06.94z\"/><path d=\"M17.41 7.96l-1.37-1.37c-.4-.4-.92-.59-1.43-.59-.52 0-1.04.2-1.43.59L10.3 9.45l-7.72 7.72c-.78.78-.78 2.05 0 2.83L4 21.41c.39.39.9.59 1.41.59.51 0 1.02-.2 1.41-.59l7.78-7.78 2.81-2.81c.8-.78.8-2.07 0-2.86zM5.41 20L4 18.59l7.72-7.72 1.47 1.35L5.41 20z\"/>\n",
              "  </svg>\n",
              "      </button>\n",
              "      \n",
              "  <style>\n",
              "    .colab-df-container {\n",
              "      display:flex;\n",
              "      flex-wrap:wrap;\n",
              "      gap: 12px;\n",
              "    }\n",
              "\n",
              "    .colab-df-convert {\n",
              "      background-color: #E8F0FE;\n",
              "      border: none;\n",
              "      border-radius: 50%;\n",
              "      cursor: pointer;\n",
              "      display: none;\n",
              "      fill: #1967D2;\n",
              "      height: 32px;\n",
              "      padding: 0 0 0 0;\n",
              "      width: 32px;\n",
              "    }\n",
              "\n",
              "    .colab-df-convert:hover {\n",
              "      background-color: #E2EBFA;\n",
              "      box-shadow: 0px 1px 2px rgba(60, 64, 67, 0.3), 0px 1px 3px 1px rgba(60, 64, 67, 0.15);\n",
              "      fill: #174EA6;\n",
              "    }\n",
              "\n",
              "    [theme=dark] .colab-df-convert {\n",
              "      background-color: #3B4455;\n",
              "      fill: #D2E3FC;\n",
              "    }\n",
              "\n",
              "    [theme=dark] .colab-df-convert:hover {\n",
              "      background-color: #434B5C;\n",
              "      box-shadow: 0px 1px 3px 1px rgba(0, 0, 0, 0.15);\n",
              "      filter: drop-shadow(0px 1px 2px rgba(0, 0, 0, 0.3));\n",
              "      fill: #FFFFFF;\n",
              "    }\n",
              "  </style>\n",
              "\n",
              "      <script>\n",
              "        const buttonEl =\n",
              "          document.querySelector('#df-0926abc6-4179-4c2b-9975-7cda3dfea3e7 button.colab-df-convert');\n",
              "        buttonEl.style.display =\n",
              "          google.colab.kernel.accessAllowed ? 'block' : 'none';\n",
              "\n",
              "        async function convertToInteractive(key) {\n",
              "          const element = document.querySelector('#df-0926abc6-4179-4c2b-9975-7cda3dfea3e7');\n",
              "          const dataTable =\n",
              "            await google.colab.kernel.invokeFunction('convertToInteractive',\n",
              "                                                     [key], {});\n",
              "          if (!dataTable) return;\n",
              "\n",
              "          const docLinkHtml = 'Like what you see? Visit the ' +\n",
              "            '<a target=\"_blank\" href=https://colab.research.google.com/notebooks/data_table.ipynb>data table notebook</a>'\n",
              "            + ' to learn more about interactive tables.';\n",
              "          element.innerHTML = '';\n",
              "          dataTable['output_type'] = 'display_data';\n",
              "          await google.colab.output.renderOutput(dataTable, element);\n",
              "          const docLink = document.createElement('div');\n",
              "          docLink.innerHTML = docLinkHtml;\n",
              "          element.appendChild(docLink);\n",
              "        }\n",
              "      </script>\n",
              "    </div>\n",
              "  </div>\n",
              "  "
            ]
          },
          "metadata": {},
          "execution_count": 95
        }
      ]
    },
    {
      "cell_type": "code",
      "source": [
        "vectorizer= TfidfVectorizer()\n",
        "classifier = LogisticRegression()\n",
        "\n",
        "model = Pipeline([\n",
        "    ('vectorizer', vectorizer),\n",
        "    ('classifier', classifier)\n",
        "])\n",
        "\n",
        "model.fit(train_df['lemma'], train_df['is_positive'])\n",
        "\n",
        "preds = model.predict(test_df['lemma'])\n",
        "print('Test accuracy = {:.2%}'.format(accuracy_score(test_df['is_positive'], preds)))"
      ],
      "metadata": {
        "colab": {
          "base_uri": "https://localhost:8080/"
        },
        "id": "caMVhVPwXURK",
        "outputId": "1482359c-d7a7-4084-b4a6-36c9296cced2"
      },
      "execution_count": null,
      "outputs": [
        {
          "output_type": "stream",
          "name": "stdout",
          "text": [
            "Test accuracy = 88.08%\n"
          ]
        }
      ]
    },
    {
      "cell_type": "code",
      "metadata": {
        "id": "Cr0w_hVyrqFx",
        "colab": {
          "base_uri": "https://localhost:8080/"
        },
        "outputId": "d8cf1fde-7288-44d7-9ffd-e775a5c17ba7"
      },
      "source": [
        "from nltk import PorterStemmer\n",
        "\n",
        "stemmer = PorterStemmer()\n",
        "\n",
        "print(stemmer.stem('become'))\n",
        "print(stemmer.stem('becomes'))\n",
        "print(stemmer.stem('became'))"
      ],
      "execution_count": null,
      "outputs": [
        {
          "output_type": "stream",
          "name": "stdout",
          "text": [
            "becom\n",
            "becom\n",
            "becam\n"
          ]
        }
      ]
    },
    {
      "cell_type": "markdown",
      "metadata": {
        "id": "NxGSEqHNsfHy"
      },
      "source": [
        "**Задание** Попробуйте вместо лемм классифицировать основы."
      ]
    },
    {
      "cell_type": "code",
      "source": [
        "%%time\n",
        "\n",
        "train_df['stemm'] = train_df['review'].apply(lambda text: ' '.join([stemmer.stem(word) for word in nltk.word_tokenize(text)]))\n",
        "test_df['stemm'] = test_df['review'].apply(lambda text: ' '.join([stemmer.stem(word) for word in nltk.word_tokenize(text)]))\n",
        "train_df.head()"
      ],
      "metadata": {
        "id": "DC2zw77kbXZ_",
        "colab": {
          "base_uri": "https://localhost:8080/",
          "height": 243
        },
        "outputId": "0191196a-586e-4138-ed94-14706553491d"
      },
      "execution_count": null,
      "outputs": [
        {
          "output_type": "stream",
          "name": "stdout",
          "text": [
            "CPU times: user 4min 21s, sys: 679 ms, total: 4min 22s\n",
            "Wall time: 4min 22s\n"
          ]
        },
        {
          "output_type": "execute_result",
          "data": {
            "text/plain": [
              "   is_positive                                             review  \\\n",
              "0            0  Dreamgirls, despite its fistful of Tony wins i...   \n",
              "1            0  This show comes up with interesting locations ...   \n",
              "2            1  I simply love this movie. I also love the Ramo...   \n",
              "3            0  Spoilers ahead if you want to call them that.....   \n",
              "4            1  My all-time favorite movie! I have seen many m...   \n",
              "\n",
              "                                               lemma  \\\n",
              "0  Dreamgirls , despite its fistful of Tony win i...   \n",
              "1  this show come up with interesting location as...   \n",
              "2  I simply love this movie . I also love the Ram...   \n",
              "3  spoiler ahead if you want to call they that .....   \n",
              "4  my all - time favorite movie ! I have see many...   \n",
              "\n",
              "                                               stemm  \n",
              "0  dreamgirl , despit it fist of toni win in an i...  \n",
              "1  thi show come up with interest locat as fast a...  \n",
              "2  i simpli love thi movi . i also love the ramon...  \n",
              "3  spoiler ahead if you want to call them that .....  \n",
              "4  my all-tim favorit movi ! i have seen mani mov...  "
            ],
            "text/html": [
              "\n",
              "  <div id=\"df-80a1f2ca-9c64-48f9-9545-889362a57352\">\n",
              "    <div class=\"colab-df-container\">\n",
              "      <div>\n",
              "<style scoped>\n",
              "    .dataframe tbody tr th:only-of-type {\n",
              "        vertical-align: middle;\n",
              "    }\n",
              "\n",
              "    .dataframe tbody tr th {\n",
              "        vertical-align: top;\n",
              "    }\n",
              "\n",
              "    .dataframe thead th {\n",
              "        text-align: right;\n",
              "    }\n",
              "</style>\n",
              "<table border=\"1\" class=\"dataframe\">\n",
              "  <thead>\n",
              "    <tr style=\"text-align: right;\">\n",
              "      <th></th>\n",
              "      <th>is_positive</th>\n",
              "      <th>review</th>\n",
              "      <th>lemma</th>\n",
              "      <th>stemm</th>\n",
              "    </tr>\n",
              "  </thead>\n",
              "  <tbody>\n",
              "    <tr>\n",
              "      <th>0</th>\n",
              "      <td>0</td>\n",
              "      <td>Dreamgirls, despite its fistful of Tony wins i...</td>\n",
              "      <td>Dreamgirls , despite its fistful of Tony win i...</td>\n",
              "      <td>dreamgirl , despit it fist of toni win in an i...</td>\n",
              "    </tr>\n",
              "    <tr>\n",
              "      <th>1</th>\n",
              "      <td>0</td>\n",
              "      <td>This show comes up with interesting locations ...</td>\n",
              "      <td>this show come up with interesting location as...</td>\n",
              "      <td>thi show come up with interest locat as fast a...</td>\n",
              "    </tr>\n",
              "    <tr>\n",
              "      <th>2</th>\n",
              "      <td>1</td>\n",
              "      <td>I simply love this movie. I also love the Ramo...</td>\n",
              "      <td>I simply love this movie . I also love the Ram...</td>\n",
              "      <td>i simpli love thi movi . i also love the ramon...</td>\n",
              "    </tr>\n",
              "    <tr>\n",
              "      <th>3</th>\n",
              "      <td>0</td>\n",
              "      <td>Spoilers ahead if you want to call them that.....</td>\n",
              "      <td>spoiler ahead if you want to call they that .....</td>\n",
              "      <td>spoiler ahead if you want to call them that .....</td>\n",
              "    </tr>\n",
              "    <tr>\n",
              "      <th>4</th>\n",
              "      <td>1</td>\n",
              "      <td>My all-time favorite movie! I have seen many m...</td>\n",
              "      <td>my all - time favorite movie ! I have see many...</td>\n",
              "      <td>my all-tim favorit movi ! i have seen mani mov...</td>\n",
              "    </tr>\n",
              "  </tbody>\n",
              "</table>\n",
              "</div>\n",
              "      <button class=\"colab-df-convert\" onclick=\"convertToInteractive('df-80a1f2ca-9c64-48f9-9545-889362a57352')\"\n",
              "              title=\"Convert this dataframe to an interactive table.\"\n",
              "              style=\"display:none;\">\n",
              "        \n",
              "  <svg xmlns=\"http://www.w3.org/2000/svg\" height=\"24px\"viewBox=\"0 0 24 24\"\n",
              "       width=\"24px\">\n",
              "    <path d=\"M0 0h24v24H0V0z\" fill=\"none\"/>\n",
              "    <path d=\"M18.56 5.44l.94 2.06.94-2.06 2.06-.94-2.06-.94-.94-2.06-.94 2.06-2.06.94zm-11 1L8.5 8.5l.94-2.06 2.06-.94-2.06-.94L8.5 2.5l-.94 2.06-2.06.94zm10 10l.94 2.06.94-2.06 2.06-.94-2.06-.94-.94-2.06-.94 2.06-2.06.94z\"/><path d=\"M17.41 7.96l-1.37-1.37c-.4-.4-.92-.59-1.43-.59-.52 0-1.04.2-1.43.59L10.3 9.45l-7.72 7.72c-.78.78-.78 2.05 0 2.83L4 21.41c.39.39.9.59 1.41.59.51 0 1.02-.2 1.41-.59l7.78-7.78 2.81-2.81c.8-.78.8-2.07 0-2.86zM5.41 20L4 18.59l7.72-7.72 1.47 1.35L5.41 20z\"/>\n",
              "  </svg>\n",
              "      </button>\n",
              "      \n",
              "  <style>\n",
              "    .colab-df-container {\n",
              "      display:flex;\n",
              "      flex-wrap:wrap;\n",
              "      gap: 12px;\n",
              "    }\n",
              "\n",
              "    .colab-df-convert {\n",
              "      background-color: #E8F0FE;\n",
              "      border: none;\n",
              "      border-radius: 50%;\n",
              "      cursor: pointer;\n",
              "      display: none;\n",
              "      fill: #1967D2;\n",
              "      height: 32px;\n",
              "      padding: 0 0 0 0;\n",
              "      width: 32px;\n",
              "    }\n",
              "\n",
              "    .colab-df-convert:hover {\n",
              "      background-color: #E2EBFA;\n",
              "      box-shadow: 0px 1px 2px rgba(60, 64, 67, 0.3), 0px 1px 3px 1px rgba(60, 64, 67, 0.15);\n",
              "      fill: #174EA6;\n",
              "    }\n",
              "\n",
              "    [theme=dark] .colab-df-convert {\n",
              "      background-color: #3B4455;\n",
              "      fill: #D2E3FC;\n",
              "    }\n",
              "\n",
              "    [theme=dark] .colab-df-convert:hover {\n",
              "      background-color: #434B5C;\n",
              "      box-shadow: 0px 1px 3px 1px rgba(0, 0, 0, 0.15);\n",
              "      filter: drop-shadow(0px 1px 2px rgba(0, 0, 0, 0.3));\n",
              "      fill: #FFFFFF;\n",
              "    }\n",
              "  </style>\n",
              "\n",
              "      <script>\n",
              "        const buttonEl =\n",
              "          document.querySelector('#df-80a1f2ca-9c64-48f9-9545-889362a57352 button.colab-df-convert');\n",
              "        buttonEl.style.display =\n",
              "          google.colab.kernel.accessAllowed ? 'block' : 'none';\n",
              "\n",
              "        async function convertToInteractive(key) {\n",
              "          const element = document.querySelector('#df-80a1f2ca-9c64-48f9-9545-889362a57352');\n",
              "          const dataTable =\n",
              "            await google.colab.kernel.invokeFunction('convertToInteractive',\n",
              "                                                     [key], {});\n",
              "          if (!dataTable) return;\n",
              "\n",
              "          const docLinkHtml = 'Like what you see? Visit the ' +\n",
              "            '<a target=\"_blank\" href=https://colab.research.google.com/notebooks/data_table.ipynb>data table notebook</a>'\n",
              "            + ' to learn more about interactive tables.';\n",
              "          element.innerHTML = '';\n",
              "          dataTable['output_type'] = 'display_data';\n",
              "          await google.colab.output.renderOutput(dataTable, element);\n",
              "          const docLink = document.createElement('div');\n",
              "          docLink.innerHTML = docLinkHtml;\n",
              "          element.appendChild(docLink);\n",
              "        }\n",
              "      </script>\n",
              "    </div>\n",
              "  </div>\n",
              "  "
            ]
          },
          "metadata": {},
          "execution_count": 98
        }
      ]
    },
    {
      "cell_type": "code",
      "source": [
        "vectorizer= TfidfVectorizer()\n",
        "classifier = LogisticRegression()\n",
        "\n",
        "model = Pipeline([\n",
        "    ('vectorizer', vectorizer),\n",
        "    ('classifier', classifier)\n",
        "])\n",
        "\n",
        "model.fit(train_df['stemm'], train_df['is_positive'])\n",
        "\n",
        "preds = model.predict(test_df['stemm'])\n",
        "print('Test accuracy = {:.2%}'.format(accuracy_score(test_df['is_positive'], preds)))"
      ],
      "metadata": {
        "colab": {
          "base_uri": "https://localhost:8080/"
        },
        "id": "rmWL1EImaZ0p",
        "outputId": "e6f73c24-5133-43a7-abb8-ce7db97251cf"
      },
      "execution_count": null,
      "outputs": [
        {
          "output_type": "stream",
          "name": "stdout",
          "text": [
            "Test accuracy = 88.08%\n"
          ]
        }
      ]
    },
    {
      "cell_type": "markdown",
      "source": [
        "Как не странно, но с лематизацией или стеммингом метрики оказались хуже, при этом они показали одинаковые метрики, но стемминг был в 2 раза быстрее."
      ],
      "metadata": {
        "id": "TjrloLHKbGgV"
      }
    },
    {
      "cell_type": "markdown",
      "metadata": {
        "id": "o1NBpkwuspBX"
      },
      "source": [
        "### NER\n",
        "\n",
        "В текстах рецензий очень много именованных сущностей. Вот, например:"
      ]
    },
    {
      "cell_type": "code",
      "metadata": {
        "id": "Xki8Maf9MrVY",
        "colab": {
          "base_uri": "https://localhost:8080/",
          "height": 737
        },
        "outputId": "fe2ac42f-903b-409f-cd06-148d21f41cca"
      },
      "source": [
        "displacy.render(docs[0], style='ent', jupyter=True)"
      ],
      "execution_count": null,
      "outputs": [
        {
          "output_type": "display_data",
          "data": {
            "text/plain": [
              "<IPython.core.display.HTML object>"
            ],
            "text/html": [
              "<span class=\"tex2jax_ignore\"><div class=\"entities\" style=\"line-height: 2.5; direction: ltr\">Dreamgirls, despite its fistful of \n",
              "<mark class=\"entity\" style=\"background: #aa9cfc; padding: 0.45em 0.6em; margin: 0 0.25em; line-height: 1; border-radius: 0.35em;\">\n",
              "    Tony\n",
              "    <span style=\"font-size: 0.8em; font-weight: bold; line-height: 1; border-radius: 0.35em; vertical-align: middle; margin-left: 0.5rem\">PERSON</span>\n",
              "</mark>\n",
              " wins in \n",
              "<mark class=\"entity\" style=\"background: #bfe1d9; padding: 0.45em 0.6em; margin: 0 0.25em; line-height: 1; border-radius: 0.35em;\">\n",
              "    an incredibly weak year\n",
              "    <span style=\"font-size: 0.8em; font-weight: bold; line-height: 1; border-radius: 0.35em; vertical-align: middle; margin-left: 0.5rem\">DATE</span>\n",
              "</mark>\n",
              " on \n",
              "<mark class=\"entity\" style=\"background: #9cc9cc; padding: 0.45em 0.6em; margin: 0 0.25em; line-height: 1; border-radius: 0.35em;\">\n",
              "    Broadway\n",
              "    <span style=\"font-size: 0.8em; font-weight: bold; line-height: 1; border-radius: 0.35em; vertical-align: middle; margin-left: 0.5rem\">FAC</span>\n",
              "</mark>\n",
              ", has never been what one would call a jewel in the crown of stage musicals. However, that is not to say that in the right cinematic hands it could not be fleshed out and polished into something worthwhile on-screen. Unfortunately, what transfers to the screen is basically a slavishly faithful version of the stage hit with all of its inherent weaknesses intact. \n",
              "<mark class=\"entity\" style=\"background: #e4e7d2; padding: 0.45em 0.6em; margin: 0 0.25em; line-height: 1; border-radius: 0.35em;\">\n",
              "    First\n",
              "    <span style=\"font-size: 0.8em; font-weight: bold; line-height: 1; border-radius: 0.35em; vertical-align: middle; margin-left: 0.5rem\">ORDINAL</span>\n",
              "</mark>\n",
              ", the score has never been one of the strong points of this production and the film does not change that factor. There are lots of songs (perhaps too many?), but few of them are especially memorable. The closest any come to catchy tunes are the title song and \n",
              "<mark class=\"entity\" style=\"background: #f0d0ff; padding: 0.45em 0.6em; margin: 0 0.25em; line-height: 1; border-radius: 0.35em;\">\n",
              "    One Night\n",
              "    <span style=\"font-size: 0.8em; font-weight: bold; line-height: 1; border-radius: 0.35em; vertical-align: middle; margin-left: 0.5rem\">WORK_OF_ART</span>\n",
              "</mark>\n",
              " Only - the much acclaimed And I Am Telling You That I Am Not Going is less a great song than it is a dramatic set piece for the character of \n",
              "<mark class=\"entity\" style=\"background: #7aecec; padding: 0.45em 0.6em; margin: 0 0.25em; line-height: 1; border-radius: 0.35em;\">\n",
              "    Effie\n",
              "    <span style=\"font-size: 0.8em; font-weight: bold; line-height: 1; border-radius: 0.35em; vertical-align: middle; margin-left: 0.5rem\">ORG</span>\n",
              "</mark>\n",
              " (\n",
              "<mark class=\"entity\" style=\"background: #aa9cfc; padding: 0.45em 0.6em; margin: 0 0.25em; line-height: 1; border-radius: 0.35em;\">\n",
              "    Jennifer Hudson\n",
              "    <span style=\"font-size: 0.8em; font-weight: bold; line-height: 1; border-radius: 0.35em; vertical-align: middle; margin-left: 0.5rem\">PERSON</span>\n",
              "</mark>\n",
              "). The film is slick and technically well-produced, but the story and characters are surprisingly thin and lacking in any resonance. There is some interest in the opening moments, watching \n",
              "<mark class=\"entity\" style=\"background: #aa9cfc; padding: 0.45em 0.6em; margin: 0 0.25em; line-height: 1; border-radius: 0.35em;\">\n",
              "    Jamie Foxx's\n",
              "    <span style=\"font-size: 0.8em; font-weight: bold; line-height: 1; border-radius: 0.35em; vertical-align: middle; margin-left: 0.5rem\">PERSON</span>\n",
              "</mark>\n",
              " Svengali-like manager manipulate his acts to the top, but that takes a back seat in the latter portion of the film, when the story conveniently tries to cast him as a villain, despite his having been right from a business stand-point for a good majority of the film. \n",
              "<mark class=\"entity\" style=\"background: #aa9cfc; padding: 0.45em 0.6em; margin: 0 0.25em; line-height: 1; border-radius: 0.35em;\">\n",
              "    Beyonce Knowles\n",
              "    <span style=\"font-size: 0.8em; font-weight: bold; line-height: 1; border-radius: 0.35em; vertical-align: middle; margin-left: 0.5rem\">PERSON</span>\n",
              "</mark>\n",
              " is lovely and sings her songs perfectly well, but is stuck with a character who is basically all surface glitz. Anika Noni Rose as the \n",
              "<mark class=\"entity\" style=\"background: #e4e7d2; padding: 0.45em 0.6em; margin: 0 0.25em; line-height: 1; border-radius: 0.35em;\">\n",
              "    third\n",
              "    <span style=\"font-size: 0.8em; font-weight: bold; line-height: 1; border-radius: 0.35em; vertical-align: middle; margin-left: 0.5rem\">ORDINAL</span>\n",
              "</mark>\n",
              " member of the \n",
              "<mark class=\"entity\" style=\"background: #7aecec; padding: 0.45em 0.6em; margin: 0 0.25em; line-height: 1; border-radius: 0.35em;\">\n",
              "    Dreamgirls\n",
              "    <span style=\"font-size: 0.8em; font-weight: bold; line-height: 1; border-radius: 0.35em; vertical-align: middle; margin-left: 0.5rem\">ORG</span>\n",
              "</mark>\n",
              " trio literally has nothing to do for the entire film. \n",
              "<mark class=\"entity\" style=\"background: #aa9cfc; padding: 0.45em 0.6em; margin: 0 0.25em; line-height: 1; border-radius: 0.35em;\">\n",
              "    Eddie Murphy\n",
              "    <span style=\"font-size: 0.8em; font-weight: bold; line-height: 1; border-radius: 0.35em; vertical-align: middle; margin-left: 0.5rem\">PERSON</span>\n",
              "</mark>\n",
              " acquits himself well as a singer obviously based on \n",
              "<mark class=\"entity\" style=\"background: #aa9cfc; padding: 0.45em 0.6em; margin: 0 0.25em; line-height: 1; border-radius: 0.35em;\">\n",
              "    James Brown\n",
              "    <span style=\"font-size: 0.8em; font-weight: bold; line-height: 1; border-radius: 0.35em; vertical-align: middle; margin-left: 0.5rem\">PERSON</span>\n",
              "</mark>\n",
              ", but the role is not especially meaty and ultimately has little impact. Foxx would seem ideal casting, but he seems oddly withdrawn and bored. The film's biggest selling point is surely former \n",
              "<mark class=\"entity\" style=\"background: #c887fb; padding: 0.45em 0.6em; margin: 0 0.25em; line-height: 1; border-radius: 0.35em;\">\n",
              "    American\n",
              "    <span style=\"font-size: 0.8em; font-weight: bold; line-height: 1; border-radius: 0.35em; vertical-align: middle; margin-left: 0.5rem\">NORP</span>\n",
              "</mark>\n",
              " Idol contestant/\n",
              "<mark class=\"entity\" style=\"background: #aa9cfc; padding: 0.45em 0.6em; margin: 0 0.25em; line-height: 1; border-radius: 0.35em;\">\n",
              "    Oscar\n",
              "    <span style=\"font-size: 0.8em; font-weight: bold; line-height: 1; border-radius: 0.35em; vertical-align: middle; margin-left: 0.5rem\">PERSON</span>\n",
              "</mark>\n",
              " winner \n",
              "<mark class=\"entity\" style=\"background: #aa9cfc; padding: 0.45em 0.6em; margin: 0 0.25em; line-height: 1; border-radius: 0.35em;\">\n",
              "    Jennifer Hudson\n",
              "    <span style=\"font-size: 0.8em; font-weight: bold; line-height: 1; border-radius: 0.35em; vertical-align: middle; margin-left: 0.5rem\">PERSON</span>\n",
              "</mark>\n",
              " in the central role of \n",
              "<mark class=\"entity\" style=\"background: #7aecec; padding: 0.45em 0.6em; margin: 0 0.25em; line-height: 1; border-radius: 0.35em;\">\n",
              "    Effie\n",
              "    <span style=\"font-size: 0.8em; font-weight: bold; line-height: 1; border-radius: 0.35em; vertical-align: middle; margin-left: 0.5rem\">ORG</span>\n",
              "</mark>\n",
              " White, the temperamental singer who gets booted from the group and makes a triumphant closing act return. For me, \n",
              "<mark class=\"entity\" style=\"background: #7aecec; padding: 0.45em 0.6em; margin: 0 0.25em; line-height: 1; border-radius: 0.35em;\">\n",
              "    Effie\n",
              "    <span style=\"font-size: 0.8em; font-weight: bold; line-height: 1; border-radius: 0.35em; vertical-align: middle; margin-left: 0.5rem\">ORG</span>\n",
              "</mark>\n",
              " has always been a big problem in both the show and the movie. The film obviously wants you to feel sorry for her and rather ham-handedly takes her side, but I have never been sure that this character deserves that kind of devotion. From the start, \n",
              "<mark class=\"entity\" style=\"background: #7aecec; padding: 0.45em 0.6em; margin: 0 0.25em; line-height: 1; border-radius: 0.35em;\">\n",
              "    Effie\n",
              "    <span style=\"font-size: 0.8em; font-weight: bold; line-height: 1; border-radius: 0.35em; vertical-align: middle; margin-left: 0.5rem\">ORG</span>\n",
              "</mark>\n",
              " conducts herself for the most part like an obnoxious, egotistical, self-centered diva, who is more interested in what everyone else can do for her rather than having much vested interest in the group of which she is a part. When she is booted from the group for her unprofessionalism and bad attitude, the charges are more than well-founded, but the stage show/film seem to think \n",
              "<mark class=\"entity\" style=\"background: #7aecec; padding: 0.45em 0.6em; margin: 0 0.25em; line-height: 1; border-radius: 0.35em;\">\n",
              "    Effie\n",
              "    <span style=\"font-size: 0.8em; font-weight: bold; line-height: 1; border-radius: 0.35em; vertical-align: middle; margin-left: 0.5rem\">ORG</span>\n",
              "</mark>\n",
              " should be cut unlimited slack simply because she has a great voice. Even though the film tries to soften some of \n",
              "<mark class=\"entity\" style=\"background: #7aecec; padding: 0.45em 0.6em; margin: 0 0.25em; line-height: 1; border-radius: 0.35em;\">\n",
              "    Effie\n",
              "    <span style=\"font-size: 0.8em; font-weight: bold; line-height: 1; border-radius: 0.35em; vertical-align: middle; margin-left: 0.5rem\">ORG</span>\n",
              "</mark>\n",
              "'s harder edges to make her more likable, the charges still stand. Her story becomes more manipulative by suggesting she should have our further sympathy because she is an unwed mother struggling to raise her daughter - using the implication that (much like the talent card) motherhood immediately makes any behavior excusable. Indeed the only big effort the film makes to show \n",
              "<mark class=\"entity\" style=\"background: #7aecec; padding: 0.45em 0.6em; margin: 0 0.25em; line-height: 1; border-radius: 0.35em;\">\n",
              "    Effie\n",
              "    <span style=\"font-size: 0.8em; font-weight: bold; line-height: 1; border-radius: 0.35em; vertical-align: middle; margin-left: 0.5rem\">ORG</span>\n",
              "</mark>\n",
              "'s mothering is to tell us about it and then include a scene where she barks at her daughter in the unemployment office, insists that the girl has &quot;no father&quot; and then refuse to look for gainful employment to support them since singing is all she knows. In the hands of a skillful actress, the gaps could perhaps have been remedied with technique and charisma. Unfortunately, \n",
              "<mark class=\"entity\" style=\"background: #aa9cfc; padding: 0.45em 0.6em; margin: 0 0.25em; line-height: 1; border-radius: 0.35em;\">\n",
              "    Hudson\n",
              "    <span style=\"font-size: 0.8em; font-weight: bold; line-height: 1; border-radius: 0.35em; vertical-align: middle; margin-left: 0.5rem\">PERSON</span>\n",
              "</mark>\n",
              " is not that actress. She sings well, but the dialog-driven moments do not come naturally to her nor do high emotional moments. \n",
              "<mark class=\"entity\" style=\"background: #7aecec; padding: 0.45em 0.6em; margin: 0 0.25em; line-height: 1; border-radius: 0.35em;\">\n",
              "    Effie\n",
              "    <span style=\"font-size: 0.8em; font-weight: bold; line-height: 1; border-radius: 0.35em; vertical-align: middle; margin-left: 0.5rem\">ORG</span>\n",
              "</mark>\n",
              "'s signature moment (the aforementioned And I Am Telling You... number) is well-sung by \n",
              "<mark class=\"entity\" style=\"background: #7aecec; padding: 0.45em 0.6em; margin: 0 0.25em; line-height: 1; border-radius: 0.35em;\">\n",
              "    Hudson\n",
              "    <span style=\"font-size: 0.8em; font-weight: bold; line-height: 1; border-radius: 0.35em; vertical-align: middle; margin-left: 0.5rem\">ORG</span>\n",
              "</mark>\n",
              ", but emotionally flat in the acting department. \n",
              "<mark class=\"entity\" style=\"background: #7aecec; padding: 0.45em 0.6em; margin: 0 0.25em; line-height: 1; border-radius: 0.35em;\">\n",
              "    Effie\n",
              "    <span style=\"font-size: 0.8em; font-weight: bold; line-height: 1; border-radius: 0.35em; vertical-align: middle; margin-left: 0.5rem\">ORG</span>\n",
              "</mark>\n",
              " is supposed to expressing her rage and desperation at her predicament, but \n",
              "<mark class=\"entity\" style=\"background: #aa9cfc; padding: 0.45em 0.6em; margin: 0 0.25em; line-height: 1; border-radius: 0.35em;\">\n",
              "    Hudson\n",
              "    <span style=\"font-size: 0.8em; font-weight: bold; line-height: 1; border-radius: 0.35em; vertical-align: middle; margin-left: 0.5rem\">PERSON</span>\n",
              "</mark>\n",
              " comes off as a cabaret performer belting out a hot number. All in all, not quite the emotional highlight one expects. The latter portion of the film is basically a predictable melange of events that maneuver Foxx into \n",
              "<mark class=\"entity\" style=\"background: #7aecec; padding: 0.45em 0.6em; margin: 0 0.25em; line-height: 1; border-radius: 0.35em;\">\n",
              "    Hudson\n",
              "    <span style=\"font-size: 0.8em; font-weight: bold; line-height: 1; border-radius: 0.35em; vertical-align: middle; margin-left: 0.5rem\">ORG</span>\n",
              "</mark>\n",
              "'s earlier position and allow her to strut back in and lord it over everyone. Foxx's criminal offenses in the film are undoubtedly par for the course of many struggling record producers, but the film's seeming implication that he has it coming because he helped usher in the disco era is rather ridiculous, not to mention pretentious and condescending, particularly coming from a film with all of the depth of a puddle. The end result is a faithful rendition of the stage hit, drained of emotion, energy or anything that can be described as dynamic.</div></span>"
            ]
          },
          "metadata": {}
        }
      ]
    },
    {
      "cell_type": "markdown",
      "metadata": {
        "id": "zGhcnuZSteHc"
      },
      "source": [
        "Вообще говоря, почему вдруг какой-нибудь Депп должен нести семантическую окраску? Однако оказывается, что классификатор выучивает, что какие-то имена чаще в положительных рецензиях - или наоборот. Это похоже на переобучение - почему бы не попробовать вырезать сущности?\n",
        "\n",
        "**Задание** Удалите из текстов какие-то из сущностей, пользуясь координатами из запикленных файлов. Описание сущностей можно посмотреть [здесь](https://spacy.io/api/annotation#named-entities). Запустите классификатор."
      ]
    },
    {
      "cell_type": "markdown",
      "source": [
        "Удалим все PERSON и ORG"
      ],
      "metadata": {
        "id": "VXIXWEdUdLxq"
      }
    },
    {
      "cell_type": "code",
      "source": [
        "%%time\n",
        "\n",
        "nlp = spacy.load('en_core_web_sm', disable=['parser', 'lemmatizer'])\n",
        "\n",
        "train_df['no_person_org'] = [' '.join([token.text for token in text if token.ent_type_!='PERSON' and token.ent_type_!='ORG']) for text in nlp.pipe(train_df['review'])]\n",
        "test_df['no_person_org'] = [' '.join([token.text for token in text if token.ent_type_!='PERSON' and token.ent_type_!='ORG']) for text in nlp.pipe(test_df['review'])]\n",
        "train_df.head()"
      ],
      "metadata": {
        "colab": {
          "base_uri": "https://localhost:8080/",
          "height": 243
        },
        "id": "TOPM3cZjbn-x",
        "outputId": "3b996d27-4fed-47eb-8b81-b7aa4b40095c"
      },
      "execution_count": null,
      "outputs": [
        {
          "output_type": "stream",
          "name": "stdout",
          "text": [
            "CPU times: user 15min 44s, sys: 8.22 s, total: 15min 52s\n",
            "Wall time: 15min 51s\n"
          ]
        },
        {
          "output_type": "execute_result",
          "data": {
            "text/plain": [
              "   is_positive                                             review  \\\n",
              "0            0  Dreamgirls, despite its fistful of Tony wins i...   \n",
              "1            0  This show comes up with interesting locations ...   \n",
              "2            1  I simply love this movie. I also love the Ramo...   \n",
              "3            0  Spoilers ahead if you want to call them that.....   \n",
              "4            1  My all-time favorite movie! I have seen many m...   \n",
              "\n",
              "                                               lemma  \\\n",
              "0  Dreamgirls , despite its fistful of Tony win i...   \n",
              "1  this show come up with interesting location as...   \n",
              "2  I simply love this movie . I also love the Ram...   \n",
              "3  spoiler ahead if you want to call they that .....   \n",
              "4  my all - time favorite movie ! I have see many...   \n",
              "\n",
              "                                               stemm  \\\n",
              "0  dreamgirl , despit it fist of toni win in an i...   \n",
              "1  thi show come up with interest locat as fast a...   \n",
              "2  i simpli love thi movi . i also love the ramon...   \n",
              "3  spoiler ahead if you want to call them that .....   \n",
              "4  my all-tim favorit movi ! i have seen mani mov...   \n",
              "\n",
              "                                       no_person_org  \n",
              "0  Dreamgirls , despite its fistful of wins in an...  \n",
              "1  This show comes up with interesting locations ...  \n",
              "2  I simply love this movie . I also love the Ram...  \n",
              "3  Spoilers ahead if you want to call them that ....  \n",
              "4  My all - time favorite movie ! I have seen man...  "
            ],
            "text/html": [
              "\n",
              "  <div id=\"df-0f8bb74c-cab2-46ee-9726-762d52633f1f\">\n",
              "    <div class=\"colab-df-container\">\n",
              "      <div>\n",
              "<style scoped>\n",
              "    .dataframe tbody tr th:only-of-type {\n",
              "        vertical-align: middle;\n",
              "    }\n",
              "\n",
              "    .dataframe tbody tr th {\n",
              "        vertical-align: top;\n",
              "    }\n",
              "\n",
              "    .dataframe thead th {\n",
              "        text-align: right;\n",
              "    }\n",
              "</style>\n",
              "<table border=\"1\" class=\"dataframe\">\n",
              "  <thead>\n",
              "    <tr style=\"text-align: right;\">\n",
              "      <th></th>\n",
              "      <th>is_positive</th>\n",
              "      <th>review</th>\n",
              "      <th>lemma</th>\n",
              "      <th>stemm</th>\n",
              "      <th>no_person_org</th>\n",
              "    </tr>\n",
              "  </thead>\n",
              "  <tbody>\n",
              "    <tr>\n",
              "      <th>0</th>\n",
              "      <td>0</td>\n",
              "      <td>Dreamgirls, despite its fistful of Tony wins i...</td>\n",
              "      <td>Dreamgirls , despite its fistful of Tony win i...</td>\n",
              "      <td>dreamgirl , despit it fist of toni win in an i...</td>\n",
              "      <td>Dreamgirls , despite its fistful of wins in an...</td>\n",
              "    </tr>\n",
              "    <tr>\n",
              "      <th>1</th>\n",
              "      <td>0</td>\n",
              "      <td>This show comes up with interesting locations ...</td>\n",
              "      <td>this show come up with interesting location as...</td>\n",
              "      <td>thi show come up with interest locat as fast a...</td>\n",
              "      <td>This show comes up with interesting locations ...</td>\n",
              "    </tr>\n",
              "    <tr>\n",
              "      <th>2</th>\n",
              "      <td>1</td>\n",
              "      <td>I simply love this movie. I also love the Ramo...</td>\n",
              "      <td>I simply love this movie . I also love the Ram...</td>\n",
              "      <td>i simpli love thi movi . i also love the ramon...</td>\n",
              "      <td>I simply love this movie . I also love the Ram...</td>\n",
              "    </tr>\n",
              "    <tr>\n",
              "      <th>3</th>\n",
              "      <td>0</td>\n",
              "      <td>Spoilers ahead if you want to call them that.....</td>\n",
              "      <td>spoiler ahead if you want to call they that .....</td>\n",
              "      <td>spoiler ahead if you want to call them that .....</td>\n",
              "      <td>Spoilers ahead if you want to call them that ....</td>\n",
              "    </tr>\n",
              "    <tr>\n",
              "      <th>4</th>\n",
              "      <td>1</td>\n",
              "      <td>My all-time favorite movie! I have seen many m...</td>\n",
              "      <td>my all - time favorite movie ! I have see many...</td>\n",
              "      <td>my all-tim favorit movi ! i have seen mani mov...</td>\n",
              "      <td>My all - time favorite movie ! I have seen man...</td>\n",
              "    </tr>\n",
              "  </tbody>\n",
              "</table>\n",
              "</div>\n",
              "      <button class=\"colab-df-convert\" onclick=\"convertToInteractive('df-0f8bb74c-cab2-46ee-9726-762d52633f1f')\"\n",
              "              title=\"Convert this dataframe to an interactive table.\"\n",
              "              style=\"display:none;\">\n",
              "        \n",
              "  <svg xmlns=\"http://www.w3.org/2000/svg\" height=\"24px\"viewBox=\"0 0 24 24\"\n",
              "       width=\"24px\">\n",
              "    <path d=\"M0 0h24v24H0V0z\" fill=\"none\"/>\n",
              "    <path d=\"M18.56 5.44l.94 2.06.94-2.06 2.06-.94-2.06-.94-.94-2.06-.94 2.06-2.06.94zm-11 1L8.5 8.5l.94-2.06 2.06-.94-2.06-.94L8.5 2.5l-.94 2.06-2.06.94zm10 10l.94 2.06.94-2.06 2.06-.94-2.06-.94-.94-2.06-.94 2.06-2.06.94z\"/><path d=\"M17.41 7.96l-1.37-1.37c-.4-.4-.92-.59-1.43-.59-.52 0-1.04.2-1.43.59L10.3 9.45l-7.72 7.72c-.78.78-.78 2.05 0 2.83L4 21.41c.39.39.9.59 1.41.59.51 0 1.02-.2 1.41-.59l7.78-7.78 2.81-2.81c.8-.78.8-2.07 0-2.86zM5.41 20L4 18.59l7.72-7.72 1.47 1.35L5.41 20z\"/>\n",
              "  </svg>\n",
              "      </button>\n",
              "      \n",
              "  <style>\n",
              "    .colab-df-container {\n",
              "      display:flex;\n",
              "      flex-wrap:wrap;\n",
              "      gap: 12px;\n",
              "    }\n",
              "\n",
              "    .colab-df-convert {\n",
              "      background-color: #E8F0FE;\n",
              "      border: none;\n",
              "      border-radius: 50%;\n",
              "      cursor: pointer;\n",
              "      display: none;\n",
              "      fill: #1967D2;\n",
              "      height: 32px;\n",
              "      padding: 0 0 0 0;\n",
              "      width: 32px;\n",
              "    }\n",
              "\n",
              "    .colab-df-convert:hover {\n",
              "      background-color: #E2EBFA;\n",
              "      box-shadow: 0px 1px 2px rgba(60, 64, 67, 0.3), 0px 1px 3px 1px rgba(60, 64, 67, 0.15);\n",
              "      fill: #174EA6;\n",
              "    }\n",
              "\n",
              "    [theme=dark] .colab-df-convert {\n",
              "      background-color: #3B4455;\n",
              "      fill: #D2E3FC;\n",
              "    }\n",
              "\n",
              "    [theme=dark] .colab-df-convert:hover {\n",
              "      background-color: #434B5C;\n",
              "      box-shadow: 0px 1px 3px 1px rgba(0, 0, 0, 0.15);\n",
              "      filter: drop-shadow(0px 1px 2px rgba(0, 0, 0, 0.3));\n",
              "      fill: #FFFFFF;\n",
              "    }\n",
              "  </style>\n",
              "\n",
              "      <script>\n",
              "        const buttonEl =\n",
              "          document.querySelector('#df-0f8bb74c-cab2-46ee-9726-762d52633f1f button.colab-df-convert');\n",
              "        buttonEl.style.display =\n",
              "          google.colab.kernel.accessAllowed ? 'block' : 'none';\n",
              "\n",
              "        async function convertToInteractive(key) {\n",
              "          const element = document.querySelector('#df-0f8bb74c-cab2-46ee-9726-762d52633f1f');\n",
              "          const dataTable =\n",
              "            await google.colab.kernel.invokeFunction('convertToInteractive',\n",
              "                                                     [key], {});\n",
              "          if (!dataTable) return;\n",
              "\n",
              "          const docLinkHtml = 'Like what you see? Visit the ' +\n",
              "            '<a target=\"_blank\" href=https://colab.research.google.com/notebooks/data_table.ipynb>data table notebook</a>'\n",
              "            + ' to learn more about interactive tables.';\n",
              "          element.innerHTML = '';\n",
              "          dataTable['output_type'] = 'display_data';\n",
              "          await google.colab.output.renderOutput(dataTable, element);\n",
              "          const docLink = document.createElement('div');\n",
              "          docLink.innerHTML = docLinkHtml;\n",
              "          element.appendChild(docLink);\n",
              "        }\n",
              "      </script>\n",
              "    </div>\n",
              "  </div>\n",
              "  "
            ]
          },
          "metadata": {},
          "execution_count": 112
        }
      ]
    },
    {
      "cell_type": "code",
      "source": [
        "vectorizer= TfidfVectorizer()\n",
        "classifier = LogisticRegression()\n",
        "\n",
        "model = Pipeline([\n",
        "    ('vectorizer', vectorizer),\n",
        "    ('classifier', classifier)\n",
        "])\n",
        "\n",
        "model.fit(train_df['no_person_org'], train_df['is_positive'])\n",
        "\n",
        "preds = model.predict(test_df['no_person_org'])\n",
        "print('Test accuracy = {:.2%}'.format(accuracy_score(test_df['is_positive'], preds)))"
      ],
      "metadata": {
        "colab": {
          "base_uri": "https://localhost:8080/"
        },
        "id": "cWc4picIglLU",
        "outputId": "63720afb-0418-4420-e612-185111759353"
      },
      "execution_count": null,
      "outputs": [
        {
          "output_type": "stream",
          "name": "stdout",
          "text": [
            "Test accuracy = 88.43%\n"
          ]
        }
      ]
    },
    {
      "cell_type": "markdown",
      "source": [
        "Совсем немного, но метрика выросла!"
      ],
      "metadata": {
        "id": "YYRKz4dgiFXA"
      }
    },
    {
      "cell_type": "markdown",
      "metadata": {
        "id": "k2fHA70b0zEZ"
      },
      "source": [
        "## Включаем дип лёрнинг"
      ]
    },
    {
      "cell_type": "markdown",
      "metadata": {
        "id": "y1VCrM671XO5"
      },
      "source": [
        "Мы тут пришли deep learning'ом заниматься, а делаем почему-то модель на логистической регрессии. Как так?\n",
        "\n",
        "Попробуем запустить относительно стандартную модель для классификации текстов - сверточная сеть поверх словных эмбеддингов.\n",
        "\n",
        "Разбираться, что это за зверь, будем на следующих занятиях, а пока будем просто им пользоваться :)\n",
        "\n",
        "Каждое предложение нужно представлять набором слов - и сразу же начинаются проблемы. Во-первых, как ограничить длину предложения?\n",
        "\n",
        "Прикинем по гистограмме, какая длина нам подходит:"
      ]
    },
    {
      "cell_type": "code",
      "metadata": {
        "id": "02Kv8YUPbhzG",
        "colab": {
          "base_uri": "https://localhost:8080/"
        },
        "outputId": "e509388c-7512-4c4e-c73e-fca9cf46c7c0"
      },
      "source": [
        "train_df['review']"
      ],
      "execution_count": null,
      "outputs": [
        {
          "output_type": "execute_result",
          "data": {
            "text/plain": [
              "0        Dreamgirls, despite its fistful of Tony wins i...\n",
              "1        This show comes up with interesting locations ...\n",
              "2        I simply love this movie. I also love the Ramo...\n",
              "3        Spoilers ahead if you want to call them that.....\n",
              "4        My all-time favorite movie! I have seen many m...\n",
              "                               ...                        \n",
              "24995    I am a big fan of the movie, but not for the u...\n",
              "24996    I'm not going to bother with a plot synopsis s...\n",
              "24997    This movie . . . I don't know. Why they would ...\n",
              "24998    Saw this film on DVD yesterday and was gob-sma...\n",
              "24999    This was a disappointment - none of the nuance...\n",
              "Name: review, Length: 25000, dtype: object"
            ]
          },
          "metadata": {},
          "execution_count": 114
        }
      ]
    },
    {
      "cell_type": "code",
      "metadata": {
        "id": "O477ZV1t1WIO",
        "colab": {
          "base_uri": "https://localhost:8080/",
          "height": 283
        },
        "outputId": "dbd0c780-b16c-4ed5-dec4-a6cf904c23a5"
      },
      "source": [
        "%matplotlib inline\n",
        "import matplotlib.pyplot as plt\n",
        "\n",
        "_, _, hist = plt.hist(train_df.review.apply(lambda text: len(text.split())), bins='auto')\n",
        "hist"
      ],
      "execution_count": null,
      "outputs": [
        {
          "output_type": "execute_result",
          "data": {
            "text/plain": [
              "<a list of 230 Patch objects>"
            ]
          },
          "metadata": {},
          "execution_count": 115
        },
        {
          "output_type": "display_data",
          "data": {
            "text/plain": [
              "<Figure size 432x288 with 1 Axes>"
            ],
            "image/png": "[encoded data removed]"
          },
          "metadata": {
            "needs_background": "light"
          }
        }
      ]
    },
    {
      "cell_type": "markdown",
      "metadata": {
        "id": "UXO4xi0u5m8l"
      },
      "source": [
        "Кроме этого, нужно перенумеровать как-то слова."
      ]
    },
    {
      "cell_type": "code",
      "metadata": {
        "id": "mIMGE7L-55fs",
        "colab": {
          "base_uri": "https://localhost:8080/"
        },
        "outputId": "6783bc1f-a6a0-4521-f612-d4536a194949"
      },
      "source": [
        "from collections import Counter\n",
        "\n",
        "words_counter = Counter((word for text in train_df.review for word in text.lower().split()))\n",
        "\n",
        "word2idx = {\n",
        "    '': 0,\n",
        "    '<unk>': 1\n",
        "}\n",
        "for word, count in words_counter.most_common():\n",
        "    if count < 10:\n",
        "        break\n",
        "        \n",
        "    word2idx[word] = len(word2idx)\n",
        "    \n",
        "print('Words count', len(word2idx))"
      ],
      "execution_count": null,
      "outputs": [
        {
          "output_type": "stream",
          "name": "stdout",
          "text": [
            "Words count 27299\n"
          ]
        }
      ]
    },
    {
      "cell_type": "markdown",
      "metadata": {
        "id": "oTptlmd1yD3J"
      },
      "source": [
        "**Задание** Сконвертируйте данные"
      ]
    },
    {
      "cell_type": "code",
      "source": [
        "import numpy as np"
      ],
      "metadata": {
        "id": "_PpS1D2esKzC"
      },
      "execution_count": null,
      "outputs": []
    },
    {
      "cell_type": "code",
      "metadata": {
        "id": "ZPP0cYdJ5VkE",
        "colab": {
          "base_uri": "https://localhost:8080/"
        },
        "outputId": "58c38df2-82b4-462e-b807-8e8560269d50"
      },
      "source": [
        "def convert(texts, word2idx, max_text_len):\n",
        "    data = np.zeros((len(texts), max_text_len), dtype=np.int)\n",
        "    \n",
        "    for inx, text in enumerate(texts):\n",
        "        result = []\n",
        "        for word in text.split():\n",
        "            if word in word2idx:\n",
        "                result.append(word2idx[word])\n",
        "        padding = [0]*(max_text_len - len(result))\n",
        "        data[inx] = np.array(padding + result[-max_text_len:], dtype=np.int)\n",
        "    return data\n",
        "\n",
        "X_train = convert(train_df.review, word2idx, 1000)\n",
        "X_test = convert(test_df.review, word2idx, 1000)"
      ],
      "execution_count": null,
      "outputs": [
        {
          "output_type": "stream",
          "name": "stderr",
          "text": [
            "/usr/local/lib/python3.7/dist-packages/ipykernel_launcher.py:2: DeprecationWarning: `np.int` is a deprecated alias for the builtin `int`. To silence this warning, use `int` by itself. Doing this will not modify any behavior and is safe. When replacing `np.int`, you may wish to use e.g. `np.int64` or `np.int32` to specify the precision. If you wish to review your current use, check the release note link for additional information.\n",
            "Deprecated in NumPy 1.20; for more details and guidance: https://numpy.org/devdocs/release/1.20.0-notes.html#deprecations\n",
            "  \n",
            "/usr/local/lib/python3.7/dist-packages/ipykernel_launcher.py:10: DeprecationWarning: `np.int` is a deprecated alias for the builtin `int`. To silence this warning, use `int` by itself. Doing this will not modify any behavior and is safe. When replacing `np.int`, you may wish to use e.g. `np.int64` or `np.int32` to specify the precision. If you wish to review your current use, check the release note link for additional information.\n",
            "Deprecated in NumPy 1.20; for more details and guidance: https://numpy.org/devdocs/release/1.20.0-notes.html#deprecations\n",
            "  # Remove the CWD from sys.path while we load stuff.\n"
          ]
        }
      ]
    },
    {
      "cell_type": "markdown",
      "metadata": {
        "id": "AYb-p5ioyLUZ"
      },
      "source": [
        "Поставим учиться модельку на keras.\n",
        "\n",
        "*Напоминание*: на keras, чтобы обучить модель, нужно\n",
        "1. Определить модель, например:\n",
        "```python \n",
        "model = Sequential()\n",
        "model.add(Dense(1, activation='sigmoid', input_dim=NUM_WORDS))\n",
        "```\n",
        "2. Задать функцию потерь и оптимизатор:\n",
        "```python\n",
        "model.compile(loss='binary_crossentropy', optimizer='adam', metrics=['accuracy'])\n",
        "```\n",
        "\n",
        "3. Запустить обучение:\n",
        "```python\n",
        "model.fit(X_train, y_train, \n",
        "          batch_size=32,\n",
        "          epochs=3,\n",
        "          validation_data=(X_test, y_test))\n",
        "```\n",
        "\n",
        "В NLP чаще всего ставятся задачи классификации, поэтому нужно запомнить такие функции потерь:\n",
        "\n",
        "*   **categorical_crossentropy** - для многоклассовой классификации, в качестве меток должны передаваться one-hot-encoding вектора\n",
        "*   **sparse_categorical_crossentropy** - аналогично предыдущему, но в качестве меток нужно передавать просто индексы соответствующих классов\n",
        "*   **binary_crossentropy** - для бинарной классификации\n",
        "\n",
        "\n",
        "В качестве оптимизатора обычно используют `sgd` или `adam`.\n"
      ]
    },
    {
      "cell_type": "code",
      "metadata": {
        "id": "Ncrq09zRxEvN",
        "colab": {
          "base_uri": "https://localhost:8080/",
          "height": 36
        },
        "outputId": "fa901e0e-afe0-411c-807f-388b936dc9c2"
      },
      "source": [
        "import tensorflow as tf\n",
        "tf.__version__"
      ],
      "execution_count": null,
      "outputs": [
        {
          "output_type": "execute_result",
          "data": {
            "text/plain": [
              "'2.8.2'"
            ],
            "application/vnd.google.colaboratory.intrinsic+json": {
              "type": "string"
            }
          },
          "metadata": {},
          "execution_count": 20
        }
      ]
    },
    {
      "cell_type": "code",
      "metadata": {
        "id": "KddjCCo-w50h"
      },
      "source": [
        "import tensorflow as tf\n",
        "from tensorflow.keras import Sequential\n",
        "from tensorflow.keras.layers import Dense, Embedding, GlobalMaxPooling1D, Dropout"
      ],
      "execution_count": null,
      "outputs": []
    },
    {
      "cell_type": "code",
      "metadata": {
        "id": "dDjri3167vFf",
        "colab": {
          "base_uri": "https://localhost:8080/"
        },
        "outputId": "e60742c2-4a39-4ec1-cae2-ebfe011ac587"
      },
      "source": [
        "model = Sequential([\n",
        "    Embedding(input_dim=len(word2idx), output_dim=64, input_shape=(X_train.shape[1],)),\n",
        "    GlobalMaxPooling1D(),\n",
        "    Dense(units=10, activation='relu'),\n",
        "    Dense(units=10, activation='relu'),\n",
        "\n",
        "    Dense(units=1, activation='sigmoid')\n",
        "])\n",
        "\n",
        "model.summary()\n",
        "model.compile(loss='binary_crossentropy',\n",
        "              optimizer='adam',\n",
        "              metrics=['accuracy'])"
      ],
      "execution_count": null,
      "outputs": [
        {
          "output_type": "stream",
          "name": "stdout",
          "text": [
            "Model: \"sequential\"\n",
            "_________________________________________________________________\n",
            " Layer (type)                Output Shape              Param #   \n",
            "=================================================================\n",
            " embedding (Embedding)       (None, 1000, 64)          1747136   \n",
            "                                                                 \n",
            " global_max_pooling1d (Globa  (None, 64)               0         \n",
            " lMaxPooling1D)                                                  \n",
            "                                                                 \n",
            " dense (Dense)               (None, 10)                650       \n",
            "                                                                 \n",
            " dense_1 (Dense)             (None, 10)                110       \n",
            "                                                                 \n",
            " dense_2 (Dense)             (None, 1)                 11        \n",
            "                                                                 \n",
            "=================================================================\n",
            "Total params: 1,747,907\n",
            "Trainable params: 1,747,907\n",
            "Non-trainable params: 0\n",
            "_________________________________________________________________\n"
          ]
        }
      ]
    },
    {
      "cell_type": "code",
      "metadata": {
        "id": "lw93gTmq8gZl",
        "colab": {
          "base_uri": "https://localhost:8080/"
        },
        "outputId": "e62f1630-3058-4e98-f135-da039d40ffae"
      },
      "source": [
        "model.fit(X_train, train_df.is_positive, batch_size=128, epochs=10, \n",
        "          validation_data=(X_test, test_df.is_positive))"
      ],
      "execution_count": null,
      "outputs": [
        {
          "output_type": "stream",
          "name": "stdout",
          "text": [
            "Epoch 1/10\n",
            "196/196 [==============================] - 6s 12ms/step - loss: 0.5908 - accuracy: 0.7446 - val_loss: 0.3926 - val_accuracy: 0.8366\n",
            "Epoch 2/10\n",
            "196/196 [==============================] - 2s 10ms/step - loss: 0.2962 - accuracy: 0.8798 - val_loss: 0.3032 - val_accuracy: 0.8696\n",
            "Epoch 3/10\n",
            "196/196 [==============================] - 2s 10ms/step - loss: 0.1779 - accuracy: 0.9346 - val_loss: 0.2995 - val_accuracy: 0.8732\n",
            "Epoch 4/10\n",
            "196/196 [==============================] - 2s 10ms/step - loss: 0.0984 - accuracy: 0.9696 - val_loss: 0.3269 - val_accuracy: 0.8714\n",
            "Epoch 5/10\n",
            "196/196 [==============================] - 2s 11ms/step - loss: 0.0467 - accuracy: 0.9901 - val_loss: 0.3663 - val_accuracy: 0.8676\n",
            "Epoch 6/10\n",
            "196/196 [==============================] - 2s 10ms/step - loss: 0.0199 - accuracy: 0.9974 - val_loss: 0.4071 - val_accuracy: 0.8659\n",
            "Epoch 7/10\n",
            "196/196 [==============================] - 2s 10ms/step - loss: 0.0086 - accuracy: 0.9992 - val_loss: 0.4413 - val_accuracy: 0.8659\n",
            "Epoch 8/10\n",
            "196/196 [==============================] - 2s 10ms/step - loss: 0.0038 - accuracy: 0.9998 - val_loss: 0.4691 - val_accuracy: 0.8657\n",
            "Epoch 9/10\n",
            "196/196 [==============================] - 2s 10ms/step - loss: 0.0024 - accuracy: 0.9999 - val_loss: 0.4934 - val_accuracy: 0.8646\n",
            "Epoch 10/10\n",
            "196/196 [==============================] - 2s 10ms/step - loss: 0.0017 - accuracy: 0.9999 - val_loss: 0.5107 - val_accuracy: 0.8654\n"
          ]
        },
        {
          "output_type": "execute_result",
          "data": {
            "text/plain": [
              "<keras.callbacks.History at 0x7fd48c160f90>"
            ]
          },
          "metadata": {},
          "execution_count": 123
        }
      ]
    },
    {
      "cell_type": "markdown",
      "source": [
        "Видно, что после 3 эпохи, модель начала переобучаться"
      ],
      "metadata": {
        "id": "rXebdB0msY-M"
      }
    },
    {
      "cell_type": "code",
      "source": [
        "from sklearn.metrics import classification_report"
      ],
      "metadata": {
        "id": "aclSyy4Psyfn"
      },
      "execution_count": null,
      "outputs": []
    },
    {
      "cell_type": "code",
      "source": [
        "threshold = 0.5\n",
        "\n",
        "preds = model.predict(X_test)\n",
        "preds_int = (preds > threshold).astype(int)\n",
        "\n",
        "print(classification_report(test_df['is_positive'], preds_int))\n",
        "print('Test accuracy = {:.2%}'.format(accuracy_score(test_df['is_positive'], preds_int)))"
      ],
      "metadata": {
        "colab": {
          "base_uri": "https://localhost:8080/"
        },
        "id": "edds7GZosqH_",
        "outputId": "beb53820-b617-4d58-a4a5-d36bf5bd66cc"
      },
      "execution_count": null,
      "outputs": [
        {
          "output_type": "stream",
          "name": "stdout",
          "text": [
            "              precision    recall  f1-score   support\n",
            "\n",
            "           0       0.87      0.86      0.87     12500\n",
            "           1       0.86      0.87      0.87     12500\n",
            "\n",
            "    accuracy                           0.87     25000\n",
            "   macro avg       0.87      0.87      0.87     25000\n",
            "weighted avg       0.87      0.87      0.87     25000\n",
            "\n",
            "Test accuracy = 86.54%\n"
          ]
        }
      ]
    },
    {
      "cell_type": "markdown",
      "metadata": {
        "id": "yBGdVRQTyynD"
      },
      "source": [
        "**Задание** Подсчитайте качество модели на тесте"
      ]
    },
    {
      "cell_type": "markdown",
      "source": [
        "### 1. Посмотрите на токены если будут мусорные добавьте их в стоп слова и обучите заново"
      ],
      "metadata": {
        "id": "gTIrfWs9rsdm"
      }
    },
    {
      "cell_type": "code",
      "source": [
        "words_counter.most_common(30)"
      ],
      "metadata": {
        "colab": {
          "base_uri": "https://localhost:8080/"
        },
        "id": "VMtXSHXFr6dH",
        "outputId": "397669a3-5716-496b-e743-f94864e24512"
      },
      "execution_count": null,
      "outputs": [
        {
          "output_type": "execute_result",
          "data": {
            "text/plain": [
              "[('the', 322198),\n",
              " ('a', 159953),\n",
              " ('and', 158572),\n",
              " ('of', 144462),\n",
              " ('to', 133967),\n",
              " ('is', 104171),\n",
              " ('in', 90527),\n",
              " ('i', 70480),\n",
              " ('this', 69714),\n",
              " ('that', 66292),\n",
              " ('it', 65505),\n",
              " ('/><br', 50935),\n",
              " ('was', 47024),\n",
              " ('as', 45102),\n",
              " ('for', 42843),\n",
              " ('with', 42729),\n",
              " ('but', 39764),\n",
              " ('on', 31619),\n",
              " ('movie', 30887),\n",
              " ('his', 29059),\n",
              " ('are', 28743),\n",
              " ('not', 28597),\n",
              " ('film', 27777),\n",
              " ('you', 27564),\n",
              " ('have', 27344),\n",
              " ('he', 26177),\n",
              " ('be', 25691),\n",
              " ('at', 22731),\n",
              " ('one', 22480),\n",
              " ('by', 21976)]"
            ]
          },
          "metadata": {},
          "execution_count": 138
        }
      ]
    },
    {
      "cell_type": "markdown",
      "source": [
        "Видно, что очень много мусорных токенов"
      ],
      "metadata": {
        "id": "gUC9LxbVuD3d"
      }
    },
    {
      "cell_type": "code",
      "source": [
        "!pip -qq install stop_words"
      ],
      "metadata": {
        "colab": {
          "base_uri": "https://localhost:8080/"
        },
        "id": "ycnMSabvuqet",
        "outputId": "979e6b38-f9f2-43aa-f5d8-e7ab15120237"
      },
      "execution_count": null,
      "outputs": [
        {
          "output_type": "stream",
          "name": "stdout",
          "text": [
            "  Building wheel for stop-words (setup.py) ... \u001b[?25l\u001b[?25hdone\n"
          ]
        }
      ]
    },
    {
      "cell_type": "code",
      "source": [
        "from stop_words import get_stop_words"
      ],
      "metadata": {
        "id": "3Z1DmnNQt6BB"
      },
      "execution_count": null,
      "outputs": []
    },
    {
      "cell_type": "code",
      "source": [
        "get_stop_words('en')"
      ],
      "metadata": {
        "colab": {
          "base_uri": "https://localhost:8080/"
        },
        "id": "RjOKKlLSrxEz",
        "outputId": "8a89e5a4-9036-44bc-c0f8-3190ac03edb8"
      },
      "execution_count": null,
      "outputs": [
        {
          "output_type": "execute_result",
          "data": {
            "text/plain": [
              "['a',\n",
              " 'about',\n",
              " 'above',\n",
              " 'after',\n",
              " 'again',\n",
              " 'against',\n",
              " 'all',\n",
              " 'am',\n",
              " 'an',\n",
              " 'and',\n",
              " 'any',\n",
              " 'are',\n",
              " \"aren't\",\n",
              " 'as',\n",
              " 'at',\n",
              " 'be',\n",
              " 'because',\n",
              " 'been',\n",
              " 'before',\n",
              " 'being',\n",
              " 'below',\n",
              " 'between',\n",
              " 'both',\n",
              " 'but',\n",
              " 'by',\n",
              " \"can't\",\n",
              " 'cannot',\n",
              " 'could',\n",
              " \"couldn't\",\n",
              " 'did',\n",
              " \"didn't\",\n",
              " 'do',\n",
              " 'does',\n",
              " \"doesn't\",\n",
              " 'doing',\n",
              " \"don't\",\n",
              " 'down',\n",
              " 'during',\n",
              " 'each',\n",
              " 'few',\n",
              " 'for',\n",
              " 'from',\n",
              " 'further',\n",
              " 'had',\n",
              " \"hadn't\",\n",
              " 'has',\n",
              " \"hasn't\",\n",
              " 'have',\n",
              " \"haven't\",\n",
              " 'having',\n",
              " 'he',\n",
              " \"he'd\",\n",
              " \"he'll\",\n",
              " \"he's\",\n",
              " 'her',\n",
              " 'here',\n",
              " \"here's\",\n",
              " 'hers',\n",
              " 'herself',\n",
              " 'him',\n",
              " 'himself',\n",
              " 'his',\n",
              " 'how',\n",
              " \"how's\",\n",
              " 'i',\n",
              " \"i'd\",\n",
              " \"i'll\",\n",
              " \"i'm\",\n",
              " \"i've\",\n",
              " 'if',\n",
              " 'in',\n",
              " 'into',\n",
              " 'is',\n",
              " \"isn't\",\n",
              " 'it',\n",
              " \"it's\",\n",
              " 'its',\n",
              " 'itself',\n",
              " \"let's\",\n",
              " 'me',\n",
              " 'more',\n",
              " 'most',\n",
              " \"mustn't\",\n",
              " 'my',\n",
              " 'myself',\n",
              " 'no',\n",
              " 'nor',\n",
              " 'not',\n",
              " 'of',\n",
              " 'off',\n",
              " 'on',\n",
              " 'once',\n",
              " 'only',\n",
              " 'or',\n",
              " 'other',\n",
              " 'ought',\n",
              " 'our',\n",
              " 'ours',\n",
              " 'ourselves',\n",
              " 'out',\n",
              " 'over',\n",
              " 'own',\n",
              " 'same',\n",
              " \"shan't\",\n",
              " 'she',\n",
              " \"she'd\",\n",
              " \"she'll\",\n",
              " \"she's\",\n",
              " 'should',\n",
              " \"shouldn't\",\n",
              " 'so',\n",
              " 'some',\n",
              " 'such',\n",
              " 'than',\n",
              " 'that',\n",
              " \"that's\",\n",
              " 'the',\n",
              " 'their',\n",
              " 'theirs',\n",
              " 'them',\n",
              " 'themselves',\n",
              " 'then',\n",
              " 'there',\n",
              " \"there's\",\n",
              " 'these',\n",
              " 'they',\n",
              " \"they'd\",\n",
              " \"they'll\",\n",
              " \"they're\",\n",
              " \"they've\",\n",
              " 'this',\n",
              " 'those',\n",
              " 'through',\n",
              " 'to',\n",
              " 'too',\n",
              " 'under',\n",
              " 'until',\n",
              " 'up',\n",
              " 'very',\n",
              " 'was',\n",
              " \"wasn't\",\n",
              " 'we',\n",
              " \"we'd\",\n",
              " \"we'll\",\n",
              " \"we're\",\n",
              " \"we've\",\n",
              " 'were',\n",
              " \"weren't\",\n",
              " 'what',\n",
              " \"what's\",\n",
              " 'when',\n",
              " \"when's\",\n",
              " 'where',\n",
              " \"where's\",\n",
              " 'which',\n",
              " 'while',\n",
              " 'who',\n",
              " \"who's\",\n",
              " 'whom',\n",
              " 'why',\n",
              " \"why's\",\n",
              " 'with',\n",
              " \"won't\",\n",
              " 'would',\n",
              " \"wouldn't\",\n",
              " 'you',\n",
              " \"you'd\",\n",
              " \"you'll\",\n",
              " \"you're\",\n",
              " \"you've\",\n",
              " 'your',\n",
              " 'yours',\n",
              " 'yourself',\n",
              " 'yourselves']"
            ]
          },
          "metadata": {},
          "execution_count": 144
        }
      ]
    },
    {
      "cell_type": "code",
      "source": [
        "word2idx = {\n",
        "    '': 0,\n",
        "    '<unk>': 1\n",
        "}\n",
        "for word, count in words_counter.most_common():\n",
        "    if count < 10:\n",
        "        break\n",
        "    if word in get_stop_words('en'):\n",
        "        continue\n",
        "        \n",
        "    word2idx[word] = len(word2idx)\n",
        "    \n",
        "print('Words count', len(word2idx))"
      ],
      "metadata": {
        "colab": {
          "base_uri": "https://localhost:8080/"
        },
        "id": "W2-MQb0svYy6",
        "outputId": "5838632c-36de-4980-e6a2-9599d9af8218"
      },
      "execution_count": null,
      "outputs": [
        {
          "output_type": "stream",
          "name": "stdout",
          "text": [
            "Words count 27130\n"
          ]
        }
      ]
    },
    {
      "cell_type": "code",
      "source": [
        "X_train = convert(train_df.review, word2idx, 1000)\n",
        "X_test = convert(test_df.review, word2idx, 1000)"
      ],
      "metadata": {
        "colab": {
          "base_uri": "https://localhost:8080/"
        },
        "id": "4FM6w9bXuPQb",
        "outputId": "0ff523cc-48c4-44b3-fa9d-77ce793b2233"
      },
      "execution_count": null,
      "outputs": [
        {
          "output_type": "stream",
          "name": "stderr",
          "text": [
            "/usr/local/lib/python3.7/dist-packages/ipykernel_launcher.py:2: DeprecationWarning: `np.int` is a deprecated alias for the builtin `int`. To silence this warning, use `int` by itself. Doing this will not modify any behavior and is safe. When replacing `np.int`, you may wish to use e.g. `np.int64` or `np.int32` to specify the precision. If you wish to review your current use, check the release note link for additional information.\n",
            "Deprecated in NumPy 1.20; for more details and guidance: https://numpy.org/devdocs/release/1.20.0-notes.html#deprecations\n",
            "  \n",
            "/usr/local/lib/python3.7/dist-packages/ipykernel_launcher.py:10: DeprecationWarning: `np.int` is a deprecated alias for the builtin `int`. To silence this warning, use `int` by itself. Doing this will not modify any behavior and is safe. When replacing `np.int`, you may wish to use e.g. `np.int64` or `np.int32` to specify the precision. If you wish to review your current use, check the release note link for additional information.\n",
            "Deprecated in NumPy 1.20; for more details and guidance: https://numpy.org/devdocs/release/1.20.0-notes.html#deprecations\n",
            "  # Remove the CWD from sys.path while we load stuff.\n"
          ]
        }
      ]
    },
    {
      "cell_type": "code",
      "source": [
        "model = Sequential([\n",
        "    Embedding(input_dim=len(word2idx), output_dim=64, input_shape=(X_train.shape[1],)),\n",
        "    GlobalMaxPooling1D(),\n",
        "    Dense(units=10, activation='relu'),\n",
        "    Dense(units=10, activation='relu'),\n",
        "\n",
        "    Dense(units=1, activation='sigmoid')\n",
        "])\n",
        "\n",
        "model.summary()\n",
        "model.compile(loss='binary_crossentropy',\n",
        "              optimizer='adam',\n",
        "              metrics=['accuracy'])"
      ],
      "metadata": {
        "colab": {
          "base_uri": "https://localhost:8080/"
        },
        "id": "N91p9laCw1CX",
        "outputId": "bf60c8dc-6a8c-4f12-8680-e2bb53f4a128"
      },
      "execution_count": null,
      "outputs": [
        {
          "output_type": "stream",
          "name": "stdout",
          "text": [
            "Model: \"sequential_1\"\n",
            "_________________________________________________________________\n",
            " Layer (type)                Output Shape              Param #   \n",
            "=================================================================\n",
            " embedding_1 (Embedding)     (None, 1000, 64)          1736320   \n",
            "                                                                 \n",
            " global_max_pooling1d_1 (Glo  (None, 64)               0         \n",
            " balMaxPooling1D)                                                \n",
            "                                                                 \n",
            " dense_3 (Dense)             (None, 10)                650       \n",
            "                                                                 \n",
            " dense_4 (Dense)             (None, 10)                110       \n",
            "                                                                 \n",
            " dense_5 (Dense)             (None, 1)                 11        \n",
            "                                                                 \n",
            "=================================================================\n",
            "Total params: 1,737,091\n",
            "Trainable params: 1,737,091\n",
            "Non-trainable params: 0\n",
            "_________________________________________________________________\n"
          ]
        }
      ]
    },
    {
      "cell_type": "code",
      "source": [
        "model.fit(X_train, train_df.is_positive, batch_size=128, epochs=10, \n",
        "          validation_data=(X_test, test_df.is_positive))"
      ],
      "metadata": {
        "colab": {
          "base_uri": "https://localhost:8080/"
        },
        "id": "ycT3eDqUw_dK",
        "outputId": "4644c94b-7a48-467a-96aa-0c49656ac512"
      },
      "execution_count": null,
      "outputs": [
        {
          "output_type": "stream",
          "name": "stdout",
          "text": [
            "Epoch 1/10\n",
            "196/196 [==============================] - 3s 12ms/step - loss: 0.5953 - accuracy: 0.7469 - val_loss: 0.3926 - val_accuracy: 0.8347\n",
            "Epoch 2/10\n",
            "196/196 [==============================] - 2s 10ms/step - loss: 0.3016 - accuracy: 0.8760 - val_loss: 0.3059 - val_accuracy: 0.8699\n",
            "Epoch 3/10\n",
            "196/196 [==============================] - 2s 11ms/step - loss: 0.1817 - accuracy: 0.9345 - val_loss: 0.2961 - val_accuracy: 0.8766\n",
            "Epoch 4/10\n",
            "196/196 [==============================] - 2s 10ms/step - loss: 0.0983 - accuracy: 0.9686 - val_loss: 0.3259 - val_accuracy: 0.8744\n",
            "Epoch 5/10\n",
            "196/196 [==============================] - 2s 10ms/step - loss: 0.0429 - accuracy: 0.9900 - val_loss: 0.3689 - val_accuracy: 0.8721\n",
            "Epoch 6/10\n",
            "196/196 [==============================] - 2s 10ms/step - loss: 0.0167 - accuracy: 0.9979 - val_loss: 0.4199 - val_accuracy: 0.8690\n",
            "Epoch 7/10\n",
            "196/196 [==============================] - 2s 11ms/step - loss: 0.0064 - accuracy: 0.9995 - val_loss: 0.4485 - val_accuracy: 0.8708\n",
            "Epoch 8/10\n",
            "196/196 [==============================] - 2s 10ms/step - loss: 0.0030 - accuracy: 0.9999 - val_loss: 0.4755 - val_accuracy: 0.8697\n",
            "Epoch 9/10\n",
            "196/196 [==============================] - 2s 10ms/step - loss: 0.0018 - accuracy: 0.9999 - val_loss: 0.4981 - val_accuracy: 0.8690\n",
            "Epoch 10/10\n",
            "196/196 [==============================] - 2s 10ms/step - loss: 0.0013 - accuracy: 0.9998 - val_loss: 0.5166 - val_accuracy: 0.8688\n"
          ]
        },
        {
          "output_type": "execute_result",
          "data": {
            "text/plain": [
              "<keras.callbacks.History at 0x7fd46b031210>"
            ]
          },
          "metadata": {},
          "execution_count": 156
        }
      ]
    },
    {
      "cell_type": "code",
      "source": [
        "threshold = 0.5\n",
        "\n",
        "preds = model.predict(X_test)\n",
        "preds_int = (preds > threshold).astype(int)\n",
        "\n",
        "print('Test accuracy = {:.2%}'.format(accuracy_score(test_df['is_positive'], preds_int)))"
      ],
      "metadata": {
        "colab": {
          "base_uri": "https://localhost:8080/"
        },
        "id": "fYlCqL50xKze",
        "outputId": "f76767cc-f58b-4311-9ceb-f81d45b237a3"
      },
      "execution_count": null,
      "outputs": [
        {
          "output_type": "stream",
          "name": "stdout",
          "text": [
            "Test accuracy = 86.88%\n"
          ]
        }
      ]
    },
    {
      "cell_type": "markdown",
      "source": [
        "Метрика выросла, но несущественно, а так же осталось переобучение"
      ],
      "metadata": {
        "id": "x5OVl85oxSIe"
      }
    },
    {
      "cell_type": "markdown",
      "source": [
        "### 2. Проверьте изменилось ли качество при лемматизации/и без неё"
      ],
      "metadata": {
        "id": "sc0wZDkyxYVx"
      }
    },
    {
      "cell_type": "code",
      "source": [
        "words_counter = Counter((word for text in train_df['lemma'] for word in text.lower().split()))\n",
        "\n",
        "word2idx = {\n",
        "    '': 0,\n",
        "    '<unk>': 1\n",
        "}\n",
        "for word, count in words_counter.most_common():\n",
        "    if count < 10:\n",
        "        break\n",
        "    if word in get_stop_words('en'):\n",
        "        continue\n",
        "        \n",
        "    word2idx[word] = len(word2idx)\n",
        "    \n",
        "print('Words count', len(word2idx))"
      ],
      "metadata": {
        "colab": {
          "base_uri": "https://localhost:8080/"
        },
        "id": "MM6rwStmxMyX",
        "outputId": "ed0bc168-7485-48d2-8b97-d0312cc41a64"
      },
      "execution_count": null,
      "outputs": [
        {
          "output_type": "stream",
          "name": "stdout",
          "text": [
            "Words count 17573\n"
          ]
        }
      ]
    },
    {
      "cell_type": "code",
      "source": [
        "X_train = convert(train_df['lemma'], word2idx, 1000)\n",
        "X_test = convert(test_df['lemma'], word2idx, 1000)"
      ],
      "metadata": {
        "colab": {
          "base_uri": "https://localhost:8080/"
        },
        "id": "WRXLKdsyxxi1",
        "outputId": "f76a631e-709a-4f5a-d1e5-d7d16f5f16f2"
      },
      "execution_count": null,
      "outputs": [
        {
          "output_type": "stream",
          "name": "stderr",
          "text": [
            "/usr/local/lib/python3.7/dist-packages/ipykernel_launcher.py:2: DeprecationWarning: `np.int` is a deprecated alias for the builtin `int`. To silence this warning, use `int` by itself. Doing this will not modify any behavior and is safe. When replacing `np.int`, you may wish to use e.g. `np.int64` or `np.int32` to specify the precision. If you wish to review your current use, check the release note link for additional information.\n",
            "Deprecated in NumPy 1.20; for more details and guidance: https://numpy.org/devdocs/release/1.20.0-notes.html#deprecations\n",
            "  \n",
            "/usr/local/lib/python3.7/dist-packages/ipykernel_launcher.py:10: DeprecationWarning: `np.int` is a deprecated alias for the builtin `int`. To silence this warning, use `int` by itself. Doing this will not modify any behavior and is safe. When replacing `np.int`, you may wish to use e.g. `np.int64` or `np.int32` to specify the precision. If you wish to review your current use, check the release note link for additional information.\n",
            "Deprecated in NumPy 1.20; for more details and guidance: https://numpy.org/devdocs/release/1.20.0-notes.html#deprecations\n",
            "  # Remove the CWD from sys.path while we load stuff.\n"
          ]
        }
      ]
    },
    {
      "cell_type": "code",
      "source": [
        "model = Sequential([\n",
        "    Embedding(input_dim=len(word2idx), output_dim=64, input_shape=(X_train.shape[1],)),\n",
        "    GlobalMaxPooling1D(),\n",
        "    Dense(units=10, activation='relu'),\n",
        "    Dense(units=10, activation='relu'),\n",
        "\n",
        "    Dense(units=1, activation='sigmoid')\n",
        "])\n",
        "\n",
        "model.summary()\n",
        "model.compile(loss='binary_crossentropy',\n",
        "              optimizer='adam',\n",
        "              metrics=['accuracy'])"
      ],
      "metadata": {
        "colab": {
          "base_uri": "https://localhost:8080/"
        },
        "id": "mKaGYgV6x0cQ",
        "outputId": "0aaff358-431c-42d3-d08a-69b72f4c4a81"
      },
      "execution_count": null,
      "outputs": [
        {
          "output_type": "stream",
          "name": "stdout",
          "text": [
            "Model: \"sequential_5\"\n",
            "_________________________________________________________________\n",
            " Layer (type)                Output Shape              Param #   \n",
            "=================================================================\n",
            " embedding_5 (Embedding)     (None, 1000, 64)          1124672   \n",
            "                                                                 \n",
            " global_max_pooling1d_5 (Glo  (None, 64)               0         \n",
            " balMaxPooling1D)                                                \n",
            "                                                                 \n",
            " dense_15 (Dense)            (None, 10)                650       \n",
            "                                                                 \n",
            " dense_16 (Dense)            (None, 10)                110       \n",
            "                                                                 \n",
            " dense_17 (Dense)            (None, 1)                 11        \n",
            "                                                                 \n",
            "=================================================================\n",
            "Total params: 1,125,443\n",
            "Trainable params: 1,125,443\n",
            "Non-trainable params: 0\n",
            "_________________________________________________________________\n"
          ]
        }
      ]
    },
    {
      "cell_type": "code",
      "source": [
        "model.fit(X_train, train_df.is_positive, batch_size=128, epochs=10, \n",
        "          validation_data=(X_test, test_df.is_positive))"
      ],
      "metadata": {
        "colab": {
          "base_uri": "https://localhost:8080/"
        },
        "id": "WayWPbyIx6tB",
        "outputId": "bc2c6c40-8da7-491a-c05c-8f8b3faad589"
      },
      "execution_count": null,
      "outputs": [
        {
          "output_type": "stream",
          "name": "stdout",
          "text": [
            "Epoch 1/10\n",
            "196/196 [==============================] - 3s 11ms/step - loss: 0.6117 - accuracy: 0.7464 - val_loss: 0.4154 - val_accuracy: 0.8404\n",
            "Epoch 2/10\n",
            "196/196 [==============================] - 2s 10ms/step - loss: 0.3153 - accuracy: 0.8727 - val_loss: 0.3004 - val_accuracy: 0.8717\n",
            "Epoch 3/10\n",
            "196/196 [==============================] - 2s 10ms/step - loss: 0.2171 - accuracy: 0.9172 - val_loss: 0.2860 - val_accuracy: 0.8792\n",
            "Epoch 4/10\n",
            "196/196 [==============================] - 2s 9ms/step - loss: 0.1501 - accuracy: 0.9480 - val_loss: 0.2965 - val_accuracy: 0.8778\n",
            "Epoch 5/10\n",
            "196/196 [==============================] - 2s 9ms/step - loss: 0.0979 - accuracy: 0.9704 - val_loss: 0.3224 - val_accuracy: 0.8749\n",
            "Epoch 6/10\n",
            "196/196 [==============================] - 2s 10ms/step - loss: 0.0585 - accuracy: 0.9849 - val_loss: 0.3591 - val_accuracy: 0.8706\n",
            "Epoch 7/10\n",
            "196/196 [==============================] - 2s 9ms/step - loss: 0.0318 - accuracy: 0.9942 - val_loss: 0.4014 - val_accuracy: 0.8680\n",
            "Epoch 8/10\n",
            "196/196 [==============================] - 2s 9ms/step - loss: 0.0163 - accuracy: 0.9980 - val_loss: 0.4423 - val_accuracy: 0.8664\n",
            "Epoch 9/10\n",
            "196/196 [==============================] - 2s 9ms/step - loss: 0.0080 - accuracy: 0.9996 - val_loss: 0.4817 - val_accuracy: 0.8652\n",
            "Epoch 10/10\n",
            "196/196 [==============================] - 2s 10ms/step - loss: 0.0042 - accuracy: 0.9999 - val_loss: 0.5154 - val_accuracy: 0.8644\n"
          ]
        },
        {
          "output_type": "execute_result",
          "data": {
            "text/plain": [
              "<keras.callbacks.History at 0x7fd44f768f90>"
            ]
          },
          "metadata": {},
          "execution_count": 175
        }
      ]
    },
    {
      "cell_type": "code",
      "source": [
        "threshold = 0.5\n",
        "\n",
        "preds = model.predict(X_test)\n",
        "preds_int = (preds > threshold).astype(int)\n",
        "\n",
        "print('Test accuracy = {:.2%}'.format(accuracy_score(test_df['is_positive'], preds_int)))"
      ],
      "metadata": {
        "colab": {
          "base_uri": "https://localhost:8080/"
        },
        "id": "Wj9hkjSVx7tL",
        "outputId": "1d8f3c9e-8500-48f4-b34f-54fcd33a17e7"
      },
      "execution_count": null,
      "outputs": [
        {
          "output_type": "stream",
          "name": "stdout",
          "text": [
            "Test accuracy = 86.44%\n"
          ]
        }
      ]
    },
    {
      "cell_type": "markdown",
      "source": [
        "С лемматизацией метрика даже немного ухудшилась, переобучение осталось"
      ],
      "metadata": {
        "id": "A_nh9vllyVi7"
      }
    },
    {
      "cell_type": "markdown",
      "source": [
        "### 3. Замените все токены которые принадлежат сущностям на их тег. Проверьте изменилось ли качество после этого"
      ],
      "metadata": {
        "id": "H0Ne1Xe9yyF_"
      }
    },
    {
      "cell_type": "code",
      "source": [
        "from tqdm import tqdm"
      ],
      "metadata": {
        "id": "oANU7TI73I69"
      },
      "execution_count": null,
      "outputs": []
    },
    {
      "cell_type": "code",
      "source": [
        "%%time\n",
        "\n",
        "nlp = spacy.load('en_core_web_sm', disable=['parser', 'lemmatizer'])\n",
        "\n",
        "ner2tag_list = []\n",
        "for text in tqdm(nlp.pipe(train_df['review'])):\n",
        "  text_list = []\n",
        "  for token in text:\n",
        "    if token.ent_iob_=='B':\n",
        "      text_list.append(token.ent_type_)\n",
        "    if token.ent_iob_=='I':\n",
        "      continue\n",
        "    if token.ent_iob_=='O':\n",
        "      text_list.append(token.text)\n",
        "  ner2tag_list.append(' '.join(text_list))\n",
        "\n",
        "train_df['ner2tag'] = ner2tag_list\n",
        "\n",
        "ner2tag_list = []\n",
        "for text in tqdm(nlp.pipe(test_df['review'])):\n",
        "  text_list = []\n",
        "  for token in text:\n",
        "    if token.ent_iob_=='B':\n",
        "      text_list.append(token.ent_type_)\n",
        "    if token.ent_iob_=='I':\n",
        "      continue\n",
        "    if token.ent_iob_=='O':\n",
        "      text_list.append(token.text)\n",
        "  ner2tag_list.append(' '.join(text_list))\n",
        "\n",
        "test_df['ner2tag'] = ner2tag_list\n",
        "\n",
        "train_df.head()"
      ],
      "metadata": {
        "colab": {
          "base_uri": "https://localhost:8080/",
          "height": 279
        },
        "id": "TLG9af7FyGLE",
        "outputId": "98129998-2280-464a-f7a4-3921a569fb19"
      },
      "execution_count": null,
      "outputs": [
        {
          "output_type": "stream",
          "name": "stderr",
          "text": [
            "25000it [08:58, 46.39it/s]\n",
            "25000it [08:23, 49.61it/s]"
          ]
        },
        {
          "output_type": "stream",
          "name": "stdout",
          "text": [
            "CPU times: user 17min, sys: 12.2 s, total: 17min 12s\n",
            "Wall time: 17min 23s\n"
          ]
        },
        {
          "output_type": "stream",
          "name": "stderr",
          "text": [
            "\n"
          ]
        },
        {
          "output_type": "execute_result",
          "data": {
            "text/plain": [
              "   is_positive                                             review  \\\n",
              "0            0  Dreamgirls, despite its fistful of Tony wins i...   \n",
              "1            0  This show comes up with interesting locations ...   \n",
              "2            1  I simply love this movie. I also love the Ramo...   \n",
              "3            0  Spoilers ahead if you want to call them that.....   \n",
              "4            1  My all-time favorite movie! I have seen many m...   \n",
              "\n",
              "                                             ner2tag  \n",
              "0  Dreamgirls , despite its fistful of PERSON win...  \n",
              "1  This show comes up with interesting locations ...  \n",
              "2  I simply love this movie . I also love the Ram...  \n",
              "3  Spoilers ahead if you want to call them that ....  \n",
              "4  My all - time favorite movie ! I have seen man...  "
            ],
            "text/html": [
              "\n",
              "  <div id=\"df-64ee2222-a541-4c6e-8375-fc3b12a0f79a\">\n",
              "    <div class=\"colab-df-container\">\n",
              "      <div>\n",
              "<style scoped>\n",
              "    .dataframe tbody tr th:only-of-type {\n",
              "        vertical-align: middle;\n",
              "    }\n",
              "\n",
              "    .dataframe tbody tr th {\n",
              "        vertical-align: top;\n",
              "    }\n",
              "\n",
              "    .dataframe thead th {\n",
              "        text-align: right;\n",
              "    }\n",
              "</style>\n",
              "<table border=\"1\" class=\"dataframe\">\n",
              "  <thead>\n",
              "    <tr style=\"text-align: right;\">\n",
              "      <th></th>\n",
              "      <th>is_positive</th>\n",
              "      <th>review</th>\n",
              "      <th>ner2tag</th>\n",
              "    </tr>\n",
              "  </thead>\n",
              "  <tbody>\n",
              "    <tr>\n",
              "      <th>0</th>\n",
              "      <td>0</td>\n",
              "      <td>Dreamgirls, despite its fistful of Tony wins i...</td>\n",
              "      <td>Dreamgirls , despite its fistful of PERSON win...</td>\n",
              "    </tr>\n",
              "    <tr>\n",
              "      <th>1</th>\n",
              "      <td>0</td>\n",
              "      <td>This show comes up with interesting locations ...</td>\n",
              "      <td>This show comes up with interesting locations ...</td>\n",
              "    </tr>\n",
              "    <tr>\n",
              "      <th>2</th>\n",
              "      <td>1</td>\n",
              "      <td>I simply love this movie. I also love the Ramo...</td>\n",
              "      <td>I simply love this movie . I also love the Ram...</td>\n",
              "    </tr>\n",
              "    <tr>\n",
              "      <th>3</th>\n",
              "      <td>0</td>\n",
              "      <td>Spoilers ahead if you want to call them that.....</td>\n",
              "      <td>Spoilers ahead if you want to call them that ....</td>\n",
              "    </tr>\n",
              "    <tr>\n",
              "      <th>4</th>\n",
              "      <td>1</td>\n",
              "      <td>My all-time favorite movie! I have seen many m...</td>\n",
              "      <td>My all - time favorite movie ! I have seen man...</td>\n",
              "    </tr>\n",
              "  </tbody>\n",
              "</table>\n",
              "</div>\n",
              "      <button class=\"colab-df-convert\" onclick=\"convertToInteractive('df-64ee2222-a541-4c6e-8375-fc3b12a0f79a')\"\n",
              "              title=\"Convert this dataframe to an interactive table.\"\n",
              "              style=\"display:none;\">\n",
              "        \n",
              "  <svg xmlns=\"http://www.w3.org/2000/svg\" height=\"24px\"viewBox=\"0 0 24 24\"\n",
              "       width=\"24px\">\n",
              "    <path d=\"M0 0h24v24H0V0z\" fill=\"none\"/>\n",
              "    <path d=\"M18.56 5.44l.94 2.06.94-2.06 2.06-.94-2.06-.94-.94-2.06-.94 2.06-2.06.94zm-11 1L8.5 8.5l.94-2.06 2.06-.94-2.06-.94L8.5 2.5l-.94 2.06-2.06.94zm10 10l.94 2.06.94-2.06 2.06-.94-2.06-.94-.94-2.06-.94 2.06-2.06.94z\"/><path d=\"M17.41 7.96l-1.37-1.37c-.4-.4-.92-.59-1.43-.59-.52 0-1.04.2-1.43.59L10.3 9.45l-7.72 7.72c-.78.78-.78 2.05 0 2.83L4 21.41c.39.39.9.59 1.41.59.51 0 1.02-.2 1.41-.59l7.78-7.78 2.81-2.81c.8-.78.8-2.07 0-2.86zM5.41 20L4 18.59l7.72-7.72 1.47 1.35L5.41 20z\"/>\n",
              "  </svg>\n",
              "      </button>\n",
              "      \n",
              "  <style>\n",
              "    .colab-df-container {\n",
              "      display:flex;\n",
              "      flex-wrap:wrap;\n",
              "      gap: 12px;\n",
              "    }\n",
              "\n",
              "    .colab-df-convert {\n",
              "      background-color: #E8F0FE;\n",
              "      border: none;\n",
              "      border-radius: 50%;\n",
              "      cursor: pointer;\n",
              "      display: none;\n",
              "      fill: #1967D2;\n",
              "      height: 32px;\n",
              "      padding: 0 0 0 0;\n",
              "      width: 32px;\n",
              "    }\n",
              "\n",
              "    .colab-df-convert:hover {\n",
              "      background-color: #E2EBFA;\n",
              "      box-shadow: 0px 1px 2px rgba(60, 64, 67, 0.3), 0px 1px 3px 1px rgba(60, 64, 67, 0.15);\n",
              "      fill: #174EA6;\n",
              "    }\n",
              "\n",
              "    [theme=dark] .colab-df-convert {\n",
              "      background-color: #3B4455;\n",
              "      fill: #D2E3FC;\n",
              "    }\n",
              "\n",
              "    [theme=dark] .colab-df-convert:hover {\n",
              "      background-color: #434B5C;\n",
              "      box-shadow: 0px 1px 3px 1px rgba(0, 0, 0, 0.15);\n",
              "      filter: drop-shadow(0px 1px 2px rgba(0, 0, 0, 0.3));\n",
              "      fill: #FFFFFF;\n",
              "    }\n",
              "  </style>\n",
              "\n",
              "      <script>\n",
              "        const buttonEl =\n",
              "          document.querySelector('#df-64ee2222-a541-4c6e-8375-fc3b12a0f79a button.colab-df-convert');\n",
              "        buttonEl.style.display =\n",
              "          google.colab.kernel.accessAllowed ? 'block' : 'none';\n",
              "\n",
              "        async function convertToInteractive(key) {\n",
              "          const element = document.querySelector('#df-64ee2222-a541-4c6e-8375-fc3b12a0f79a');\n",
              "          const dataTable =\n",
              "            await google.colab.kernel.invokeFunction('convertToInteractive',\n",
              "                                                     [key], {});\n",
              "          if (!dataTable) return;\n",
              "\n",
              "          const docLinkHtml = 'Like what you see? Visit the ' +\n",
              "            '<a target=\"_blank\" href=https://colab.research.google.com/notebooks/data_table.ipynb>data table notebook</a>'\n",
              "            + ' to learn more about interactive tables.';\n",
              "          element.innerHTML = '';\n",
              "          dataTable['output_type'] = 'display_data';\n",
              "          await google.colab.output.renderOutput(dataTable, element);\n",
              "          const docLink = document.createElement('div');\n",
              "          docLink.innerHTML = docLinkHtml;\n",
              "          element.appendChild(docLink);\n",
              "        }\n",
              "      </script>\n",
              "    </div>\n",
              "  </div>\n",
              "  "
            ]
          },
          "metadata": {},
          "execution_count": 12
        }
      ]
    },
    {
      "cell_type": "code",
      "source": [
        "words_counter = Counter((word for text in train_df['ner2tag'] for word in text.lower().split()))\n",
        "\n",
        "word2idx = {\n",
        "    '': 0,\n",
        "    '<unk>': 1\n",
        "}\n",
        "for word, count in words_counter.most_common():\n",
        "    if count < 10:\n",
        "        break\n",
        "    if word in get_stop_words('en'):\n",
        "        continue\n",
        "        \n",
        "    word2idx[word] = len(word2idx)\n",
        "    \n",
        "print('Words count', len(word2idx))"
      ],
      "metadata": {
        "colab": {
          "base_uri": "https://localhost:8080/"
        },
        "id": "Arbrc4uG5-1B",
        "outputId": "b8215a78-6444-4512-97e7-49ce09b9bff6"
      },
      "execution_count": null,
      "outputs": [
        {
          "output_type": "stream",
          "name": "stdout",
          "text": [
            "Words count 16633\n"
          ]
        }
      ]
    },
    {
      "cell_type": "code",
      "source": [
        "X_train = convert(train_df['ner2tag'], word2idx, 1000)\n",
        "X_test = convert(test_df['ner2tag'], word2idx, 1000)"
      ],
      "metadata": {
        "colab": {
          "base_uri": "https://localhost:8080/"
        },
        "id": "pEkNo1kg6BfQ",
        "outputId": "8a04f3cf-d70d-4998-d8a3-52a8c2cfc8ae"
      },
      "execution_count": null,
      "outputs": [
        {
          "output_type": "stream",
          "name": "stderr",
          "text": [
            "/usr/local/lib/python3.7/dist-packages/ipykernel_launcher.py:2: DeprecationWarning: `np.int` is a deprecated alias for the builtin `int`. To silence this warning, use `int` by itself. Doing this will not modify any behavior and is safe. When replacing `np.int`, you may wish to use e.g. `np.int64` or `np.int32` to specify the precision. If you wish to review your current use, check the release note link for additional information.\n",
            "Deprecated in NumPy 1.20; for more details and guidance: https://numpy.org/devdocs/release/1.20.0-notes.html#deprecations\n",
            "  \n",
            "/usr/local/lib/python3.7/dist-packages/ipykernel_launcher.py:10: DeprecationWarning: `np.int` is a deprecated alias for the builtin `int`. To silence this warning, use `int` by itself. Doing this will not modify any behavior and is safe. When replacing `np.int`, you may wish to use e.g. `np.int64` or `np.int32` to specify the precision. If you wish to review your current use, check the release note link for additional information.\n",
            "Deprecated in NumPy 1.20; for more details and guidance: https://numpy.org/devdocs/release/1.20.0-notes.html#deprecations\n",
            "  # Remove the CWD from sys.path while we load stuff.\n"
          ]
        }
      ]
    },
    {
      "cell_type": "code",
      "source": [
        "model = Sequential([\n",
        "    Embedding(input_dim=len(word2idx), output_dim=64, input_shape=(X_train.shape[1],)),\n",
        "    GlobalMaxPooling1D(),\n",
        "    Dense(units=10, activation='relu'),\n",
        "    Dense(units=10, activation='relu'),\n",
        "\n",
        "    Dense(units=1, activation='sigmoid')\n",
        "])\n",
        "\n",
        "model.summary()\n",
        "model.compile(loss='binary_crossentropy',\n",
        "              optimizer='adam',\n",
        "              metrics=['accuracy'])"
      ],
      "metadata": {
        "colab": {
          "base_uri": "https://localhost:8080/"
        },
        "id": "OSej1hYY6Jfd",
        "outputId": "f239f821-d7d4-45e8-8218-02c798fd30a9"
      },
      "execution_count": null,
      "outputs": [
        {
          "output_type": "stream",
          "name": "stdout",
          "text": [
            "Model: \"sequential\"\n",
            "_________________________________________________________________\n",
            " Layer (type)                Output Shape              Param #   \n",
            "=================================================================\n",
            " embedding (Embedding)       (None, 1000, 64)          1064512   \n",
            "                                                                 \n",
            " global_max_pooling1d (Globa  (None, 64)               0         \n",
            " lMaxPooling1D)                                                  \n",
            "                                                                 \n",
            " dense (Dense)               (None, 10)                650       \n",
            "                                                                 \n",
            " dense_1 (Dense)             (None, 10)                110       \n",
            "                                                                 \n",
            " dense_2 (Dense)             (None, 1)                 11        \n",
            "                                                                 \n",
            "=================================================================\n",
            "Total params: 1,065,283\n",
            "Trainable params: 1,065,283\n",
            "Non-trainable params: 0\n",
            "_________________________________________________________________\n"
          ]
        }
      ]
    },
    {
      "cell_type": "code",
      "source": [
        "model.fit(X_train, train_df.is_positive, batch_size=128, epochs=10, \n",
        "          validation_data=(X_test, test_df.is_positive))"
      ],
      "metadata": {
        "colab": {
          "base_uri": "https://localhost:8080/"
        },
        "id": "-D8roDuB6T7T",
        "outputId": "ad3f4494-00c4-40f1-a345-9fc5926d208c"
      },
      "execution_count": null,
      "outputs": [
        {
          "output_type": "stream",
          "name": "stdout",
          "text": [
            "Epoch 1/10\n",
            "196/196 [==============================] - 6s 13ms/step - loss: 0.6414 - accuracy: 0.6985 - val_loss: 0.4954 - val_accuracy: 0.8306\n",
            "Epoch 2/10\n",
            "196/196 [==============================] - 2s 10ms/step - loss: 0.3537 - accuracy: 0.8679 - val_loss: 0.3191 - val_accuracy: 0.8622\n",
            "Epoch 3/10\n",
            "196/196 [==============================] - 2s 10ms/step - loss: 0.2312 - accuracy: 0.9120 - val_loss: 0.3008 - val_accuracy: 0.8693\n",
            "Epoch 4/10\n",
            "196/196 [==============================] - 2s 10ms/step - loss: 0.1600 - accuracy: 0.9448 - val_loss: 0.3086 - val_accuracy: 0.8700\n",
            "Epoch 5/10\n",
            "196/196 [==============================] - 2s 10ms/step - loss: 0.1051 - accuracy: 0.9678 - val_loss: 0.3328 - val_accuracy: 0.8685\n",
            "Epoch 6/10\n",
            "196/196 [==============================] - 2s 10ms/step - loss: 0.0644 - accuracy: 0.9835 - val_loss: 0.3703 - val_accuracy: 0.8651\n",
            "Epoch 7/10\n",
            "196/196 [==============================] - 2s 12ms/step - loss: 0.0366 - accuracy: 0.9933 - val_loss: 0.4045 - val_accuracy: 0.8638\n",
            "Epoch 8/10\n",
            "196/196 [==============================] - 2s 10ms/step - loss: 0.0209 - accuracy: 0.9976 - val_loss: 0.4477 - val_accuracy: 0.8620\n",
            "Epoch 9/10\n",
            "196/196 [==============================] - 2s 10ms/step - loss: 0.0118 - accuracy: 0.9990 - val_loss: 0.4958 - val_accuracy: 0.8610\n",
            "Epoch 10/10\n",
            "196/196 [==============================] - 2s 10ms/step - loss: 0.0076 - accuracy: 0.9993 - val_loss: 0.5319 - val_accuracy: 0.8611\n"
          ]
        },
        {
          "output_type": "execute_result",
          "data": {
            "text/plain": [
              "<keras.callbacks.History at 0x7f0f1c579490>"
            ]
          },
          "metadata": {},
          "execution_count": 23
        }
      ]
    },
    {
      "cell_type": "code",
      "source": [
        "threshold = 0.5\n",
        "\n",
        "preds = model.predict(X_test)\n",
        "preds_int = (preds > threshold).astype(int)\n",
        "\n",
        "print('Test accuracy = {:.2%}'.format(accuracy_score(test_df['is_positive'], preds_int)))"
      ],
      "metadata": {
        "colab": {
          "base_uri": "https://localhost:8080/"
        },
        "id": "2dnOpXWB6Uq1",
        "outputId": "a3bf7b00-01aa-425f-8538-c42a106b0264"
      },
      "execution_count": null,
      "outputs": [
        {
          "output_type": "stream",
          "name": "stdout",
          "text": [
            "Test accuracy = 86.11%\n"
          ]
        }
      ]
    },
    {
      "cell_type": "markdown",
      "source": [
        "Метрика опять получилась не очень, а так же осталось переобучение, видимо spacy неудалось найти все сущности и остались те, на которых мы переобучаемся, можно попробывать улучшить ситуации с помощью dropout и batchnorm. Или можно попробывать другие предобученные ner модели. Стоит отметить, что мы специально обучаем 10 эпох, чтобы увидеть переобучение и стараться его недопускать, но если у нас все равно не получается без переобучения, то тогда нужно останавливать обучение хотя бы на 3 эпохе, так как дальше идёт переобучение, так мы получим условно непереобученную модель. Так же метрику может улучшить увелечение словаря(а то сейчас у нас откидываются все токены, которые встречались меньше 10 раз) и увеличиние максимальной длины(сейчас она всего 1000, когда реальная максимальная длина больше 13000). Но главное, чтобы хватило оперативной памяти, а то иначе сеанс в колабе сбросится и все несохранённые данные(замена ner2tag длиной 18 мин) придётся получать заново, как произошло у меня :)"
      ],
      "metadata": {
        "id": "D-vs2Z536uBK"
      }
    },
    {
      "cell_type": "markdown",
      "source": [
        "Но в целом суть понятна и понятно, что сущности не должны влиять и даже если с ними метрика лучше, даже если на тесте, то решение всё равно менее устойчивое к новым данным, что в продакшене недопустимо, поэтому замена сущностей это отличный подход!"
      ],
      "metadata": {
        "id": "T_5_UvwkAuu2"
      }
    }
  ]
}